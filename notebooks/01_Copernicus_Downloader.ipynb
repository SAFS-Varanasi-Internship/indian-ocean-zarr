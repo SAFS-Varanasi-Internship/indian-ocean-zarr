{
 "cells": [
  {
   "cell_type": "raw",
   "id": "ce4ff387-9409-44b1-9251-4dfaf55d6dc8",
   "metadata": {},
   "source": [
    "---\n",
    "title: \"Download Chlorophyll data from Copernicus\"\n",
    "author: Eli Holmes (NOAA) and Minh Phan (UW Varanasi intern)\n",
    "---"
   ]
  },
  {
   "cell_type": "markdown",
   "id": "a3702a31-b876-4e40-990a-4ba08abd9232",
   "metadata": {},
   "source": [
    "Copernicus is the Earth Observation component of the European Union’s space programme (copernicus.eu). Copernicus data offers downloading using MOTU Service, \"a Web Server allowing to handle and extract oceanographic huge volumes of data, creating the connection between heterogeneous data providers and end-users\" (help.marine.copernicus.eu). More information on MOTU can be accessed [here](https://help.marine.copernicus.eu/en/articles/4796533-what-are-the-motu-apis). You will need to register for a Copernicus account in order to access the data and run this notebook.\n",
    "\n",
    "We will download the [Level-3 data](https://data.marine.copernicus.eu/product/OCEANCOLOUR_GLO_BGC_L3_MY_009_103/description) non-gap-filled data and the [Level-4 gap-filled daily data](https://data.marine.copernicus.eu/product/OCEANCOLOUR_GLO_BGC_L4_MY_009_104).\n",
    "\n",
    "* [Daily Level 3 chl data](https://data.marine.copernicus.eu/product/OCEANCOLOUR_GLO_BGC_L3_MY_009_103/files?subdataset=cmems_obs-oc_glo_bgc-plankton_my_l3-multi-4km_P1D_202311) id: cmems_obs-oc_glo_bgc-plankton_my_l3-multi-4km_P1D\n",
    "* [Daily Level 4 chl data](https://data.marine.copernicus.eu/product/OCEANCOLOUR_GLO_BGC_L4_MY_009_104/files?subdataset=cmems_obs-oc_glo_bgc-plankton_my_l4-gapfree-multi-4km_P1D_202311) id: cmems_obs-oc_glo_bgc-plankton_my_l4-gapfree-multi-4km_P1D"
   ]
  },
  {
   "cell_type": "markdown",
   "id": "b798ffe1-ec5f-4f86-b130-1fb2b9ad1ff3",
   "metadata": {},
   "source": [
    "## Authenticate\n",
    "\n",
    "Run this once. Afterwards the authentication file will be saved to your home directory."
   ]
  },
  {
   "cell_type": "raw",
   "id": "f908d5e7-9c2a-4cf2-bcb8-af043e8e4064",
   "metadata": {
    "scrolled": true
   },
   "source": [
    "import copernicusmarine\n",
    "copernicusmarine.login()"
   ]
  },
  {
   "cell_type": "markdown",
   "id": "c35b3f77-8b13-4c74-bebb-ba2cdcd2cdc3",
   "metadata": {},
   "source": [
    "## Import necessary libraries"
   ]
  },
  {
   "cell_type": "code",
   "execution_count": 2,
   "id": "ea29bec4-f2f5-46c7-b30a-3126b89ce22f",
   "metadata": {
    "tags": []
   },
   "outputs": [],
   "source": [
    "import xarray as xr\n",
    "import pandas as pd\n",
    "import numpy as np\n",
    "import matplotlib.pyplot as plt\n",
    "import os, glob, subprocess\n",
    "import copernicusmarine"
   ]
  },
  {
   "cell_type": "markdown",
   "id": "3a1f77af-3396-4ddf-a90b-552d926abc0a",
   "metadata": {},
   "source": [
    "## Download data\n",
    "\n",
    "This is an example command to download one day of data. The main command is `copernicus.subset()`. We will be downloading these datasets: cmems_obs-oc_glo_bgc-plankton_my_l4-gapfree-multi-4km_P1D and \n",
    "cmems_obs-oc_glo_bgc-plankton_my_l3-multi-4km_P1D."
   ]
  },
  {
   "cell_type": "code",
   "execution_count": 28,
   "id": "0b9de8b0-8d16-46fc-b73d-e675625047dc",
   "metadata": {
    "collapsed": true,
    "jupyter": {
     "outputs_hidden": true
    }
   },
   "outputs": [
    {
     "name": "stdout",
     "output_type": "stream",
     "text": [
      "Help on function subset in module copernicusmarine.python_interface.subset:\n",
      "\n",
      "subset(dataset_url: Optional[str] = None, dataset_id: Optional[str] = None, dataset_version: Optional[str] = None, dataset_part: Optional[str] = None, username: Optional[str] = None, password: Optional[str] = None, variables: Optional[List[str]] = None, minimum_longitude: Optional[float] = None, maximum_longitude: Optional[float] = None, minimum_latitude: Optional[float] = None, maximum_latitude: Optional[float] = None, minimum_depth: Optional[float] = None, maximum_depth: Optional[float] = None, vertical_dimension_as_originally_produced: bool = True, start_datetime: Union[datetime.datetime, str, NoneType] = None, end_datetime: Union[datetime.datetime, str, NoneType] = None, subset_method: Literal['nearest', 'strict'] = 'nearest', output_filename: Optional[str] = None, file_format: Literal['netcdf', 'zarr'] = 'netcdf', service: Optional[str] = None, request_file: Union[pathlib.Path, str, NoneType] = None, output_directory: Union[pathlib.Path, str, NoneType] = None, credentials_file: Union[pathlib.Path, str, NoneType] = None, motu_api_request: Optional[str] = None, force_download: bool = False, overwrite_output_data: bool = False, overwrite_metadata_cache: bool = False, no_metadata_cache: bool = False, disable_progress_bar: bool = False, staging: bool = False, netcdf_compression_enabled: bool = False, netcdf_compression_level: Optional[int] = None, netcdf3_compatible: bool = False) -> pathlib.Path\n",
      "    Extracts a subset of data from a specified dataset using given parameters.\n",
      "    \n",
      "    Args:\n",
      "        dataset_url (str, optional): The URL of the dataset to retrieve.\n",
      "        dataset_id (str, optional): The unique identifier of the dataset.\n",
      "        dataset_version (str, optional): Force the use of a specific dataset version.\n",
      "        dataset_part (str, optional): Force the use of a specific dataset part.\n",
      "        username (str, optional): The username for authentication.\n",
      "        password (str, optional): The password for authentication.\n",
      "        output_directory (Union[pathlib.Path, str], optional): The directory where downloaded files will be saved.\n",
      "        credentials_file (Union[pathlib.Path, str], optional): Path to a file containing authentication credentials.\n",
      "        force_download (bool, optional): Skip confirmation before download.\n",
      "        overwrite_output_data (bool, optional): If True, overwrite existing output files.\n",
      "        request_file (Union[pathlib.Path, str], optional): Path to a file containing request parameters. For more information please refer to the README.\n",
      "        service (str, optional): Force the use of a specific service.\n",
      "        overwrite_metadata_cache (bool, optional): If True, overwrite the metadata cache.\n",
      "        no_metadata_cache (bool, optional): If True, do not use the metadata cache.\n",
      "        variables (List[str], optional): List of variable names to extract.\n",
      "        minimum_longitude (float, optional): Minimum longitude value for spatial subset.\n",
      "        maximum_longitude (float, optional): Maximum longitude value for spatial subset.\n",
      "        minimum_latitude (float, optional): Minimum latitude value for spatial subset.\n",
      "        maximum_latitude (float, optional): Maximum latitude value for spatial subset.\n",
      "        minimum_depth (float, optional): Minimum depth value for vertical subset.\n",
      "        maximum_depth (float, optional): Maximum depth value for vertical subset.\n",
      "        vertical_dimension_as_originally_produced (bool, optional): Use original vertical dimension.\n",
      "        start_datetime (datetime, optional): Start datetime for temporal subset.\n",
      "        end_datetime (datetime, optional): End datetime for temporal subset.\n",
      "        subset_method (str, optional): The subset method ('nearest' or 'strict') when requesting the dataset. If strict, you can only request dimension strictly inside the dataset.\n",
      "        output_filename (str, optional): Output filename for the subsetted data.\n",
      "        file_format (str, optional): Extension format for the filename.\n",
      "        motu_api_request (str, optional): MOTU API request string.\n",
      "        netcdf_compression_enabled (bool, optional): Enable compression level 1 to the NetCDF output file. Use 'netcdf_compression_level' option to customize the compression level.\n",
      "        netcdf_compression_level (int, optional): Specify a compression level to apply on the NetCDF output file. A value of 0 means no compression, and 9 is the highest level of compression available.\n",
      "        netcdf3_compatible (bool, optional): Enable downloading the dataset in a netCDF 3 compatible format.\n",
      "    Returns:\n",
      "        pathlib.Path: Path to the generated subsetted data file.\n",
      "\n"
     ]
    }
   ],
   "source": [
    "help(copernicusmarine.subset)"
   ]
  },
  {
   "cell_type": "code",
   "execution_count": 5,
   "id": "36140a24-98be-4f41-b3f7-a2af6f42d9fe",
   "metadata": {},
   "outputs": [
    {
     "name": "stderr",
     "output_type": "stream",
     "text": [
      "INFO - 2024-07-16T00:50:34Z - Dataset version was not specified, the latest one was selected: \"202311\"\n",
      "INFO - 2024-07-16T00:50:34Z - Dataset part was not specified, the first one was selected: \"default\"\n",
      "INFO - 2024-07-16T00:50:38Z - Service was not specified, the default one was selected: \"arco-geo-series\"\n",
      "INFO - 2024-07-16T00:50:41Z - Downloading using service arco-geo-series...\n",
      "INFO - 2024-07-16T00:50:46Z - Estimated size of the dataset file is 2.638 MB.\n",
      "INFO - 2024-07-16T00:50:46Z - Writing to local storage. Please wait...\n"
     ]
    },
    {
     "data": {
      "application/vnd.jupyter.widget-view+json": {
       "model_id": "8645f7f8d620476985604bf97dfc2545",
       "version_major": 2,
       "version_minor": 0
      },
      "text/plain": [
       "  0%|          | 0/34 [00:00<?, ?it/s]"
      ]
     },
     "metadata": {},
     "output_type": "display_data"
    },
    {
     "name": "stderr",
     "output_type": "stream",
     "text": [
      "INFO - 2024-07-16T00:50:53Z - Successfully downloaded to data/motu/cmems_obs-oc_glo_bgc-plankton_my_l4-gapfree-multi-4km_P1D/20230821.nc\n"
     ]
    },
    {
     "data": {
      "text/plain": [
       "PosixPath('data/motu/cmems_obs-oc_glo_bgc-plankton_my_l4-gapfree-multi-4km_P1D/20230821.nc')"
      ]
     },
     "execution_count": 5,
     "metadata": {},
     "output_type": "execute_result"
    }
   ],
   "source": [
    "copernicusmarine.subset(\n",
    "   dataset_id = \"cmems_obs-oc_glo_bgc-plankton_my_l4-gapfree-multi-4km_P1D\",\n",
    "   variables = \"\",\n",
    "   start_datetime = \"2023-08-21T00:00:00\",\n",
    "   end_datetime = \"2023-08-21T00:00:00\",\n",
    "   minimum_longitude = 60,\n",
    "   maximum_longitude = 80, \n",
    "   minimum_latitude = 5,\n",
    "   maximum_latitude = 25, \n",
    "   output_directory = 'data/motu/cmems_obs-oc_glo_bgc-plankton_my_l4-gapfree-multi-4km_P1D',\n",
    "   output_filename = '20230821',\n",
    "   force_download = True,\n",
    ")"
   ]
  },
  {
   "cell_type": "code",
   "execution_count": 6,
   "id": "bf66ceba-d68e-4c6e-8253-6293ae2d7545",
   "metadata": {},
   "outputs": [
    {
     "data": {
      "text/plain": [
       "<matplotlib.collections.QuadMesh at 0x7f1e5c7948b0>"
      ]
     },
     "execution_count": 6,
     "metadata": {},
     "output_type": "execute_result"
    },
    {
     "data": {
      "image/png": "[encoded data removed]",
      "text/plain": [
       "<Figure size 640x480 with 2 Axes>"
      ]
     },
     "metadata": {},
     "output_type": "display_data"
    }
   ],
   "source": [
    "ds = xr.open_dataset('data/motu/cmems_obs-oc_glo_bgc-plankton_my_l4-gapfree-multi-4km_P1D/20230821.nc')\n",
    "ds['CHL'].sel(time=\"2023-08-21\").plot()"
   ]
  },
  {
   "cell_type": "markdown",
   "id": "ea560a19-595e-4e8a-b268-0e6ee3832e43",
   "metadata": {},
   "source": [
    "## Load the download function\n",
    "\n",
    "See bottom of the notebook for a copy of this function. Default is to save the files in `~/shared/data/copernicus` in a folder named by the dataset id."
   ]
  },
  {
   "cell_type": "code",
   "execution_count": 7,
   "id": "784b8d5c-62a9-4a38-b9d0-62559747f6c0",
   "metadata": {},
   "outputs": [],
   "source": [
    "%run -i \"~/indian-ocean-zarr/notebooks/functions.py\""
   ]
  },
  {
   "cell_type": "markdown",
   "id": "6aadc5d1-66f5-4850-b5ea-a80a4bf92fef",
   "metadata": {},
   "source": [
    "## Download the products\n",
    "\n",
    "Download and then load and examine a test nc file."
   ]
  },
  {
   "cell_type": "code",
   "execution_count": 21,
   "id": "6be758e3-9737-48e5-99d0-3d3b3c47ff76",
   "metadata": {
    "collapsed": true,
    "jupyter": {
     "outputs_hidden": true
    }
   },
   "outputs": [
    {
     "name": "stderr",
     "output_type": "stream",
     "text": [
      "INFO - 2024-07-12T00:39:47Z - Dataset version was not specified, the latest one was selected: \"202311\"\n",
      "INFO - 2024-07-12T00:39:47Z - Dataset part was not specified, the first one was selected: \"default\"\n",
      "INFO - 2024-07-12T00:39:51Z - Service was not specified, the default one was selected: \"arco-geo-series\"\n",
      "INFO - 2024-07-12T00:39:54Z - Downloading using service arco-geo-series...\n",
      "INFO - 2024-07-12T00:40:00Z - Estimated size of the dataset file is 539.769 MB.\n",
      "INFO - 2024-07-12T00:40:00Z - Writing to local storage. Please wait...\n"
     ]
    },
    {
     "data": {
      "application/vnd.jupyter.widget-view+json": {
       "model_id": "ddf4898b138c4d858505da44c6c22e57",
       "version_major": 2,
       "version_minor": 0
      },
      "text/plain": [
       "  0%|          | 0/3846 [00:00<?, ?it/s]"
      ]
     },
     "metadata": {},
     "output_type": "display_data"
    },
    {
     "name": "stderr",
     "output_type": "stream",
     "text": [
      "INFO - 2024-07-12T00:40:58Z - Successfully downloaded to /home/jovyan/shared/data/copernicus/cmems_obs-oc_glo_bgc-plankton_my_l4-gapfree-multi-4km_P1D/199710.nc\n",
      "INFO - 2024-07-12T00:40:59Z - Dataset version was not specified, the latest one was selected: \"202311\"\n",
      "INFO - 2024-07-12T00:40:59Z - Dataset part was not specified, the first one was selected: \"default\"\n",
      "INFO - 2024-07-12T00:41:03Z - Service was not specified, the default one was selected: \"arco-geo-series\"\n",
      "INFO - 2024-07-12T00:41:06Z - Downloading using service arco-geo-series...\n",
      "INFO - 2024-07-12T00:41:12Z - Estimated size of the dataset file is 522.357 MB.\n",
      "INFO - 2024-07-12T00:41:12Z - Writing to local storage. Please wait...\n"
     ]
    },
    {
     "data": {
      "application/vnd.jupyter.widget-view+json": {
       "model_id": "1f48ae6bf49f40329ec43c19bc2ee50a",
       "version_major": 2,
       "version_minor": 0
      },
      "text/plain": [
       "  0%|          | 0/3722 [00:00<?, ?it/s]"
      ]
     },
     "metadata": {},
     "output_type": "display_data"
    },
    {
     "name": "stderr",
     "output_type": "stream",
     "text": [
      "INFO - 2024-07-12T00:42:14Z - Successfully downloaded to /home/jovyan/shared/data/copernicus/cmems_obs-oc_glo_bgc-plankton_my_l4-gapfree-multi-4km_P1D/199711.nc\n",
      "INFO - 2024-07-12T00:42:15Z - Dataset version was not specified, the latest one was selected: \"202311\"\n",
      "INFO - 2024-07-12T00:42:15Z - Dataset part was not specified, the first one was selected: \"default\"\n",
      "INFO - 2024-07-12T00:42:18Z - Service was not specified, the default one was selected: \"arco-geo-series\"\n",
      "INFO - 2024-07-12T00:42:21Z - Downloading using service arco-geo-series...\n",
      "INFO - 2024-07-12T00:42:27Z - Estimated size of the dataset file is 539.769 MB.\n",
      "INFO - 2024-07-12T00:42:27Z - Writing to local storage. Please wait...\n"
     ]
    },
    {
     "data": {
      "application/vnd.jupyter.widget-view+json": {
       "model_id": "5eeaf35cd4814a97966bf2b22d9033bf",
       "version_major": 2,
       "version_minor": 0
      },
      "text/plain": [
       "  0%|          | 0/3846 [00:00<?, ?it/s]"
      ]
     },
     "metadata": {},
     "output_type": "display_data"
    },
    {
     "name": "stderr",
     "output_type": "stream",
     "text": [
      "INFO - 2024-07-12T00:43:31Z - Successfully downloaded to /home/jovyan/shared/data/copernicus/cmems_obs-oc_glo_bgc-plankton_my_l4-gapfree-multi-4km_P1D/199712.nc\n",
      "INFO - 2024-07-12T00:43:32Z - Dataset version was not specified, the latest one was selected: \"202311\"\n",
      "INFO - 2024-07-12T00:43:32Z - Dataset part was not specified, the first one was selected: \"default\"\n",
      "INFO - 2024-07-12T00:43:35Z - Service was not specified, the default one was selected: \"arco-geo-series\"\n",
      "INFO - 2024-07-12T00:43:38Z - Downloading using service arco-geo-series...\n",
      "INFO - 2024-07-12T00:43:44Z - Estimated size of the dataset file is 539.769 MB.\n",
      "INFO - 2024-07-12T00:43:44Z - Writing to local storage. Please wait...\n"
     ]
    },
    {
     "data": {
      "application/vnd.jupyter.widget-view+json": {
       "model_id": "5660ece3a54640a0ab6331b74b606255",
       "version_major": 2,
       "version_minor": 0
      },
      "text/plain": [
       "  0%|          | 0/3846 [00:00<?, ?it/s]"
      ]
     },
     "metadata": {},
     "output_type": "display_data"
    },
    {
     "name": "stderr",
     "output_type": "stream",
     "text": [
      "INFO - 2024-07-12T00:44:47Z - Successfully downloaded to /home/jovyan/shared/data/copernicus/cmems_obs-oc_glo_bgc-plankton_my_l4-gapfree-multi-4km_P1D/199801.nc\n",
      "INFO - 2024-07-12T00:44:49Z - Dataset version was not specified, the latest one was selected: \"202311\"\n",
      "INFO - 2024-07-12T00:44:49Z - Dataset part was not specified, the first one was selected: \"default\"\n",
      "INFO - 2024-07-12T00:44:52Z - Service was not specified, the default one was selected: \"arco-geo-series\"\n",
      "INFO - 2024-07-12T00:44:55Z - Downloading using service arco-geo-series...\n",
      "INFO - 2024-07-12T00:45:01Z - Estimated size of the dataset file is 487.533 MB.\n",
      "INFO - 2024-07-12T00:45:01Z - Writing to local storage. Please wait...\n"
     ]
    },
    {
     "data": {
      "application/vnd.jupyter.widget-view+json": {
       "model_id": "335d18b6cdce4650930919d2bcf4b6e6",
       "version_major": 2,
       "version_minor": 0
      },
      "text/plain": [
       "  0%|          | 0/3474 [00:00<?, ?it/s]"
      ]
     },
     "metadata": {},
     "output_type": "display_data"
    },
    {
     "name": "stderr",
     "output_type": "stream",
     "text": [
      "INFO - 2024-07-12T00:45:59Z - Successfully downloaded to /home/jovyan/shared/data/copernicus/cmems_obs-oc_glo_bgc-plankton_my_l4-gapfree-multi-4km_P1D/199802.nc\n",
      "INFO - 2024-07-12T00:46:00Z - Dataset version was not specified, the latest one was selected: \"202311\"\n",
      "INFO - 2024-07-12T00:46:00Z - Dataset part was not specified, the first one was selected: \"default\"\n",
      "INFO - 2024-07-12T00:46:04Z - Service was not specified, the default one was selected: \"arco-geo-series\"\n",
      "INFO - 2024-07-12T00:46:07Z - Downloading using service arco-geo-series...\n",
      "INFO - 2024-07-12T00:46:14Z - Estimated size of the dataset file is 539.769 MB.\n",
      "INFO - 2024-07-12T00:46:14Z - Writing to local storage. Please wait...\n"
     ]
    },
    {
     "data": {
      "application/vnd.jupyter.widget-view+json": {
       "model_id": "de8cb5e3f6534e17a72576449b1c1446",
       "version_major": 2,
       "version_minor": 0
      },
      "text/plain": [
       "  0%|          | 0/3846 [00:00<?, ?it/s]"
      ]
     },
     "metadata": {},
     "output_type": "display_data"
    },
    {
     "name": "stderr",
     "output_type": "stream",
     "text": [
      "INFO - 2024-07-12T00:47:17Z - Successfully downloaded to /home/jovyan/shared/data/copernicus/cmems_obs-oc_glo_bgc-plankton_my_l4-gapfree-multi-4km_P1D/199803.nc\n",
      "INFO - 2024-07-12T00:47:18Z - Dataset version was not specified, the latest one was selected: \"202311\"\n",
      "INFO - 2024-07-12T00:47:18Z - Dataset part was not specified, the first one was selected: \"default\"\n",
      "INFO - 2024-07-12T00:47:21Z - Service was not specified, the default one was selected: \"arco-geo-series\"\n",
      "INFO - 2024-07-12T00:47:24Z - Downloading using service arco-geo-series...\n",
      "INFO - 2024-07-12T00:47:30Z - Estimated size of the dataset file is 522.357 MB.\n",
      "INFO - 2024-07-12T00:47:30Z - Writing to local storage. Please wait...\n"
     ]
    },
    {
     "data": {
      "application/vnd.jupyter.widget-view+json": {
       "model_id": "1ee236e5431b4dea8e949e6272667073",
       "version_major": 2,
       "version_minor": 0
      },
      "text/plain": [
       "  0%|          | 0/3722 [00:00<?, ?it/s]"
      ]
     },
     "metadata": {},
     "output_type": "display_data"
    },
    {
     "name": "stderr",
     "output_type": "stream",
     "text": [
      "INFO - 2024-07-12T00:48:31Z - Successfully downloaded to /home/jovyan/shared/data/copernicus/cmems_obs-oc_glo_bgc-plankton_my_l4-gapfree-multi-4km_P1D/199804.nc\n",
      "INFO - 2024-07-12T00:48:33Z - Dataset version was not specified, the latest one was selected: \"202311\"\n",
      "INFO - 2024-07-12T00:48:33Z - Dataset part was not specified, the first one was selected: \"default\"\n",
      "INFO - 2024-07-12T00:48:36Z - Service was not specified, the default one was selected: \"arco-geo-series\"\n",
      "INFO - 2024-07-12T00:48:39Z - Downloading using service arco-geo-series...\n",
      "INFO - 2024-07-12T00:48:45Z - Estimated size of the dataset file is 539.769 MB.\n",
      "INFO - 2024-07-12T00:48:45Z - Writing to local storage. Please wait...\n"
     ]
    },
    {
     "data": {
      "application/vnd.jupyter.widget-view+json": {
       "model_id": "7eec8b00f7f04e2db439a76bd2097744",
       "version_major": 2,
       "version_minor": 0
      },
      "text/plain": [
       "  0%|          | 0/3846 [00:00<?, ?it/s]"
      ]
     },
     "metadata": {},
     "output_type": "display_data"
    },
    {
     "name": "stderr",
     "output_type": "stream",
     "text": [
      "INFO - 2024-07-12T00:49:48Z - Successfully downloaded to /home/jovyan/shared/data/copernicus/cmems_obs-oc_glo_bgc-plankton_my_l4-gapfree-multi-4km_P1D/199805.nc\n",
      "INFO - 2024-07-12T00:49:49Z - Dataset version was not specified, the latest one was selected: \"202311\"\n",
      "INFO - 2024-07-12T00:49:49Z - Dataset part was not specified, the first one was selected: \"default\"\n",
      "INFO - 2024-07-12T00:49:52Z - Service was not specified, the default one was selected: \"arco-geo-series\"\n",
      "INFO - 2024-07-12T00:49:56Z - Downloading using service arco-geo-series...\n",
      "INFO - 2024-07-12T00:50:02Z - Estimated size of the dataset file is 522.357 MB.\n",
      "INFO - 2024-07-12T00:50:02Z - Writing to local storage. Please wait...\n"
     ]
    },
    {
     "data": {
      "application/vnd.jupyter.widget-view+json": {
       "model_id": "fecd549d0c134126b6cb32b51bb62c37",
       "version_major": 2,
       "version_minor": 0
      },
      "text/plain": [
       "  0%|          | 0/3722 [00:00<?, ?it/s]"
      ]
     },
     "metadata": {},
     "output_type": "display_data"
    },
    {
     "name": "stderr",
     "output_type": "stream",
     "text": [
      "INFO - 2024-07-12T00:51:03Z - Successfully downloaded to /home/jovyan/shared/data/copernicus/cmems_obs-oc_glo_bgc-plankton_my_l4-gapfree-multi-4km_P1D/199806.nc\n",
      "INFO - 2024-07-12T00:51:04Z - Dataset version was not specified, the latest one was selected: \"202311\"\n",
      "INFO - 2024-07-12T00:51:04Z - Dataset part was not specified, the first one was selected: \"default\"\n",
      "INFO - 2024-07-12T00:51:07Z - Service was not specified, the default one was selected: \"arco-geo-series\"\n",
      "INFO - 2024-07-12T00:51:10Z - Downloading using service arco-geo-series...\n",
      "INFO - 2024-07-12T00:51:16Z - Estimated size of the dataset file is 539.769 MB.\n",
      "INFO - 2024-07-12T00:51:16Z - Writing to local storage. Please wait...\n"
     ]
    },
    {
     "data": {
      "application/vnd.jupyter.widget-view+json": {
       "model_id": "8e3066b2f5a74237a5efd0795af29afc",
       "version_major": 2,
       "version_minor": 0
      },
      "text/plain": [
       "  0%|          | 0/3846 [00:00<?, ?it/s]"
      ]
     },
     "metadata": {},
     "output_type": "display_data"
    },
    {
     "name": "stderr",
     "output_type": "stream",
     "text": [
      "INFO - 2024-07-12T00:52:19Z - Successfully downloaded to /home/jovyan/shared/data/copernicus/cmems_obs-oc_glo_bgc-plankton_my_l4-gapfree-multi-4km_P1D/199807.nc\n",
      "INFO - 2024-07-12T00:52:20Z - Dataset version was not specified, the latest one was selected: \"202311\"\n",
      "INFO - 2024-07-12T00:52:20Z - Dataset part was not specified, the first one was selected: \"default\"\n",
      "INFO - 2024-07-12T00:52:23Z - Service was not specified, the default one was selected: \"arco-geo-series\"\n",
      "INFO - 2024-07-12T00:52:26Z - Downloading using service arco-geo-series...\n",
      "INFO - 2024-07-12T00:52:32Z - Estimated size of the dataset file is 539.769 MB.\n",
      "INFO - 2024-07-12T00:52:32Z - Writing to local storage. Please wait...\n"
     ]
    },
    {
     "data": {
      "application/vnd.jupyter.widget-view+json": {
       "model_id": "c34dade0998543d5875bd1da2ae5fbab",
       "version_major": 2,
       "version_minor": 0
      },
      "text/plain": [
       "  0%|          | 0/3846 [00:00<?, ?it/s]"
      ]
     },
     "metadata": {},
     "output_type": "display_data"
    },
    {
     "name": "stderr",
     "output_type": "stream",
     "text": [
      "INFO - 2024-07-12T00:53:36Z - Successfully downloaded to /home/jovyan/shared/data/copernicus/cmems_obs-oc_glo_bgc-plankton_my_l4-gapfree-multi-4km_P1D/199808.nc\n",
      "INFO - 2024-07-12T00:53:37Z - Dataset version was not specified, the latest one was selected: \"202311\"\n",
      "INFO - 2024-07-12T00:53:37Z - Dataset part was not specified, the first one was selected: \"default\"\n",
      "INFO - 2024-07-12T00:53:40Z - Service was not specified, the default one was selected: \"arco-geo-series\"\n",
      "INFO - 2024-07-12T00:53:43Z - Downloading using service arco-geo-series...\n",
      "INFO - 2024-07-12T00:53:49Z - Estimated size of the dataset file is 522.357 MB.\n",
      "INFO - 2024-07-12T00:53:49Z - Writing to local storage. Please wait...\n"
     ]
    },
    {
     "data": {
      "application/vnd.jupyter.widget-view+json": {
       "model_id": "9a63c68407924a0eb74bfa9c1f309f92",
       "version_major": 2,
       "version_minor": 0
      },
      "text/plain": [
       "  0%|          | 0/3722 [00:00<?, ?it/s]"
      ]
     },
     "metadata": {},
     "output_type": "display_data"
    },
    {
     "name": "stderr",
     "output_type": "stream",
     "text": [
      "INFO - 2024-07-12T00:54:51Z - Successfully downloaded to /home/jovyan/shared/data/copernicus/cmems_obs-oc_glo_bgc-plankton_my_l4-gapfree-multi-4km_P1D/199809.nc\n",
      "INFO - 2024-07-12T00:54:52Z - Dataset version was not specified, the latest one was selected: \"202311\"\n",
      "INFO - 2024-07-12T00:54:52Z - Dataset part was not specified, the first one was selected: \"default\"\n",
      "INFO - 2024-07-12T00:54:55Z - Service was not specified, the default one was selected: \"arco-geo-series\"\n",
      "INFO - 2024-07-12T00:54:58Z - Downloading using service arco-geo-series...\n",
      "INFO - 2024-07-12T00:55:05Z - Estimated size of the dataset file is 539.769 MB.\n",
      "INFO - 2024-07-12T00:55:05Z - Writing to local storage. Please wait...\n"
     ]
    },
    {
     "data": {
      "application/vnd.jupyter.widget-view+json": {
       "model_id": "71c281a072c841f5b0b87249f7265317",
       "version_major": 2,
       "version_minor": 0
      },
      "text/plain": [
       "  0%|          | 0/3846 [00:00<?, ?it/s]"
      ]
     },
     "metadata": {},
     "output_type": "display_data"
    },
    {
     "name": "stderr",
     "output_type": "stream",
     "text": [
      "INFO - 2024-07-12T00:56:08Z - Successfully downloaded to /home/jovyan/shared/data/copernicus/cmems_obs-oc_glo_bgc-plankton_my_l4-gapfree-multi-4km_P1D/199810.nc\n",
      "INFO - 2024-07-12T00:56:09Z - Dataset version was not specified, the latest one was selected: \"202311\"\n",
      "INFO - 2024-07-12T00:56:09Z - Dataset part was not specified, the first one was selected: \"default\"\n",
      "INFO - 2024-07-12T00:56:12Z - Service was not specified, the default one was selected: \"arco-geo-series\"\n",
      "INFO - 2024-07-12T00:56:15Z - Downloading using service arco-geo-series...\n",
      "INFO - 2024-07-12T00:56:22Z - Estimated size of the dataset file is 522.357 MB.\n",
      "INFO - 2024-07-12T00:56:22Z - Writing to local storage. Please wait...\n"
     ]
    },
    {
     "data": {
      "application/vnd.jupyter.widget-view+json": {
       "model_id": "3dd5fd000a234b5ba63894d431b492af",
       "version_major": 2,
       "version_minor": 0
      },
      "text/plain": [
       "  0%|          | 0/3722 [00:00<?, ?it/s]"
      ]
     },
     "metadata": {},
     "output_type": "display_data"
    },
    {
     "name": "stderr",
     "output_type": "stream",
     "text": [
      "INFO - 2024-07-12T00:57:19Z - Successfully downloaded to /home/jovyan/shared/data/copernicus/cmems_obs-oc_glo_bgc-plankton_my_l4-gapfree-multi-4km_P1D/199811.nc\n",
      "INFO - 2024-07-12T00:57:20Z - Dataset version was not specified, the latest one was selected: \"202311\"\n",
      "INFO - 2024-07-12T00:57:20Z - Dataset part was not specified, the first one was selected: \"default\"\n",
      "INFO - 2024-07-12T00:57:24Z - Service was not specified, the default one was selected: \"arco-geo-series\"\n",
      "INFO - 2024-07-12T00:57:27Z - Downloading using service arco-geo-series...\n",
      "INFO - 2024-07-12T00:57:32Z - Estimated size of the dataset file is 539.769 MB.\n",
      "INFO - 2024-07-12T00:57:32Z - Writing to local storage. Please wait...\n"
     ]
    },
    {
     "data": {
      "application/vnd.jupyter.widget-view+json": {
       "model_id": "ea2fc5fa057a4c0596859532906eaa40",
       "version_major": 2,
       "version_minor": 0
      },
      "text/plain": [
       "  0%|          | 0/3846 [00:00<?, ?it/s]"
      ]
     },
     "metadata": {},
     "output_type": "display_data"
    },
    {
     "name": "stderr",
     "output_type": "stream",
     "text": [
      "INFO - 2024-07-12T00:58:35Z - Successfully downloaded to /home/jovyan/shared/data/copernicus/cmems_obs-oc_glo_bgc-plankton_my_l4-gapfree-multi-4km_P1D/199812.nc\n",
      "INFO - 2024-07-12T00:58:37Z - Dataset version was not specified, the latest one was selected: \"202311\"\n",
      "INFO - 2024-07-12T00:58:37Z - Dataset part was not specified, the first one was selected: \"default\"\n",
      "INFO - 2024-07-12T00:58:40Z - Service was not specified, the default one was selected: \"arco-geo-series\"\n",
      "INFO - 2024-07-12T00:58:43Z - Downloading using service arco-geo-series...\n",
      "INFO - 2024-07-12T00:58:49Z - Estimated size of the dataset file is 539.769 MB.\n",
      "INFO - 2024-07-12T00:58:49Z - Writing to local storage. Please wait...\n"
     ]
    },
    {
     "data": {
      "application/vnd.jupyter.widget-view+json": {
       "model_id": "e034e36cf25a49d693be84483c66a677",
       "version_major": 2,
       "version_minor": 0
      },
      "text/plain": [
       "  0%|          | 0/3846 [00:00<?, ?it/s]"
      ]
     },
     "metadata": {},
     "output_type": "display_data"
    },
    {
     "name": "stderr",
     "output_type": "stream",
     "text": [
      "INFO - 2024-07-12T00:59:51Z - Successfully downloaded to /home/jovyan/shared/data/copernicus/cmems_obs-oc_glo_bgc-plankton_my_l4-gapfree-multi-4km_P1D/199901.nc\n",
      "INFO - 2024-07-12T00:59:52Z - Dataset version was not specified, the latest one was selected: \"202311\"\n",
      "INFO - 2024-07-12T00:59:52Z - Dataset part was not specified, the first one was selected: \"default\"\n",
      "INFO - 2024-07-12T00:59:55Z - Service was not specified, the default one was selected: \"arco-geo-series\"\n",
      "INFO - 2024-07-12T00:59:58Z - Downloading using service arco-geo-series...\n",
      "INFO - 2024-07-12T01:00:04Z - Estimated size of the dataset file is 487.533 MB.\n",
      "INFO - 2024-07-12T01:00:04Z - Writing to local storage. Please wait...\n"
     ]
    },
    {
     "data": {
      "application/vnd.jupyter.widget-view+json": {
       "model_id": "f316bfb148da4342a16882a56d07e4e0",
       "version_major": 2,
       "version_minor": 0
      },
      "text/plain": [
       "  0%|          | 0/3474 [00:00<?, ?it/s]"
      ]
     },
     "metadata": {},
     "output_type": "display_data"
    },
    {
     "name": "stderr",
     "output_type": "stream",
     "text": [
      "INFO - 2024-07-12T01:01:02Z - Successfully downloaded to /home/jovyan/shared/data/copernicus/cmems_obs-oc_glo_bgc-plankton_my_l4-gapfree-multi-4km_P1D/199902.nc\n",
      "INFO - 2024-07-12T01:01:04Z - Dataset version was not specified, the latest one was selected: \"202311\"\n",
      "INFO - 2024-07-12T01:01:04Z - Dataset part was not specified, the first one was selected: \"default\"\n",
      "INFO - 2024-07-12T01:01:07Z - Service was not specified, the default one was selected: \"arco-geo-series\"\n",
      "INFO - 2024-07-12T01:01:10Z - Downloading using service arco-geo-series...\n",
      "INFO - 2024-07-12T01:01:16Z - Estimated size of the dataset file is 539.769 MB.\n",
      "INFO - 2024-07-12T01:01:16Z - Writing to local storage. Please wait...\n"
     ]
    },
    {
     "data": {
      "application/vnd.jupyter.widget-view+json": {
       "model_id": "dbbd03acfc654d6f8eaa0f7beb78d014",
       "version_major": 2,
       "version_minor": 0
      },
      "text/plain": [
       "  0%|          | 0/3846 [00:00<?, ?it/s]"
      ]
     },
     "metadata": {},
     "output_type": "display_data"
    },
    {
     "name": "stderr",
     "output_type": "stream",
     "text": [
      "INFO - 2024-07-12T01:02:21Z - Successfully downloaded to /home/jovyan/shared/data/copernicus/cmems_obs-oc_glo_bgc-plankton_my_l4-gapfree-multi-4km_P1D/199903.nc\n",
      "INFO - 2024-07-12T01:02:22Z - Dataset version was not specified, the latest one was selected: \"202311\"\n",
      "INFO - 2024-07-12T01:02:22Z - Dataset part was not specified, the first one was selected: \"default\"\n",
      "INFO - 2024-07-12T01:02:25Z - Service was not specified, the default one was selected: \"arco-geo-series\"\n",
      "INFO - 2024-07-12T01:02:28Z - Downloading using service arco-geo-series...\n",
      "INFO - 2024-07-12T01:02:34Z - Estimated size of the dataset file is 522.357 MB.\n",
      "INFO - 2024-07-12T01:02:34Z - Writing to local storage. Please wait...\n"
     ]
    },
    {
     "data": {
      "application/vnd.jupyter.widget-view+json": {
       "model_id": "cdcf3681356d48d99feae434c0938922",
       "version_major": 2,
       "version_minor": 0
      },
      "text/plain": [
       "  0%|          | 0/3722 [00:00<?, ?it/s]"
      ]
     },
     "metadata": {},
     "output_type": "display_data"
    },
    {
     "name": "stderr",
     "output_type": "stream",
     "text": [
      "INFO - 2024-07-12T01:03:36Z - Successfully downloaded to /home/jovyan/shared/data/copernicus/cmems_obs-oc_glo_bgc-plankton_my_l4-gapfree-multi-4km_P1D/199904.nc\n",
      "INFO - 2024-07-12T01:03:38Z - Dataset version was not specified, the latest one was selected: \"202311\"\n",
      "INFO - 2024-07-12T01:03:38Z - Dataset part was not specified, the first one was selected: \"default\"\n",
      "INFO - 2024-07-12T01:03:41Z - Service was not specified, the default one was selected: \"arco-geo-series\"\n",
      "INFO - 2024-07-12T01:03:44Z - Downloading using service arco-geo-series...\n",
      "INFO - 2024-07-12T01:03:50Z - Estimated size of the dataset file is 539.769 MB.\n",
      "INFO - 2024-07-12T01:03:50Z - Writing to local storage. Please wait...\n"
     ]
    },
    {
     "data": {
      "application/vnd.jupyter.widget-view+json": {
       "model_id": "141389ec457448bab9b57a1282251e73",
       "version_major": 2,
       "version_minor": 0
      },
      "text/plain": [
       "  0%|          | 0/3846 [00:00<?, ?it/s]"
      ]
     },
     "metadata": {},
     "output_type": "display_data"
    },
    {
     "name": "stderr",
     "output_type": "stream",
     "text": [
      "INFO - 2024-07-12T01:04:54Z - Successfully downloaded to /home/jovyan/shared/data/copernicus/cmems_obs-oc_glo_bgc-plankton_my_l4-gapfree-multi-4km_P1D/199905.nc\n",
      "INFO - 2024-07-12T01:04:55Z - Dataset version was not specified, the latest one was selected: \"202311\"\n",
      "INFO - 2024-07-12T01:04:55Z - Dataset part was not specified, the first one was selected: \"default\"\n",
      "INFO - 2024-07-12T01:04:58Z - Service was not specified, the default one was selected: \"arco-geo-series\"\n",
      "INFO - 2024-07-12T01:05:01Z - Downloading using service arco-geo-series...\n",
      "INFO - 2024-07-12T01:05:07Z - Estimated size of the dataset file is 522.357 MB.\n",
      "INFO - 2024-07-12T01:05:07Z - Writing to local storage. Please wait...\n"
     ]
    },
    {
     "data": {
      "application/vnd.jupyter.widget-view+json": {
       "model_id": "0e95b95329e343c88a8e98c76eebab2e",
       "version_major": 2,
       "version_minor": 0
      },
      "text/plain": [
       "  0%|          | 0/3722 [00:00<?, ?it/s]"
      ]
     },
     "metadata": {},
     "output_type": "display_data"
    },
    {
     "name": "stderr",
     "output_type": "stream",
     "text": [
      "INFO - 2024-07-12T01:06:10Z - Successfully downloaded to /home/jovyan/shared/data/copernicus/cmems_obs-oc_glo_bgc-plankton_my_l4-gapfree-multi-4km_P1D/199906.nc\n",
      "INFO - 2024-07-12T01:06:11Z - Dataset version was not specified, the latest one was selected: \"202311\"\n",
      "INFO - 2024-07-12T01:06:11Z - Dataset part was not specified, the first one was selected: \"default\"\n",
      "INFO - 2024-07-12T01:06:14Z - Service was not specified, the default one was selected: \"arco-geo-series\"\n",
      "INFO - 2024-07-12T01:06:17Z - Downloading using service arco-geo-series...\n",
      "INFO - 2024-07-12T01:06:24Z - Estimated size of the dataset file is 539.769 MB.\n",
      "INFO - 2024-07-12T01:06:24Z - Writing to local storage. Please wait...\n"
     ]
    },
    {
     "data": {
      "application/vnd.jupyter.widget-view+json": {
       "model_id": "ffcffc895c504d99be2460e5bff3c6b8",
       "version_major": 2,
       "version_minor": 0
      },
      "text/plain": [
       "  0%|          | 0/3846 [00:00<?, ?it/s]"
      ]
     },
     "metadata": {},
     "output_type": "display_data"
    },
    {
     "name": "stderr",
     "output_type": "stream",
     "text": [
      "INFO - 2024-07-12T01:07:27Z - Successfully downloaded to /home/jovyan/shared/data/copernicus/cmems_obs-oc_glo_bgc-plankton_my_l4-gapfree-multi-4km_P1D/199907.nc\n",
      "INFO - 2024-07-12T01:07:29Z - Dataset version was not specified, the latest one was selected: \"202311\"\n",
      "INFO - 2024-07-12T01:07:29Z - Dataset part was not specified, the first one was selected: \"default\"\n",
      "INFO - 2024-07-12T01:07:32Z - Service was not specified, the default one was selected: \"arco-geo-series\"\n",
      "INFO - 2024-07-12T01:07:34Z - Downloading using service arco-geo-series...\n",
      "INFO - 2024-07-12T01:07:41Z - Estimated size of the dataset file is 539.769 MB.\n",
      "INFO - 2024-07-12T01:07:41Z - Writing to local storage. Please wait...\n"
     ]
    },
    {
     "data": {
      "application/vnd.jupyter.widget-view+json": {
       "model_id": "f6bc72b524b9414ca6b5fbff4b77cda4",
       "version_major": 2,
       "version_minor": 0
      },
      "text/plain": [
       "  0%|          | 0/3846 [00:00<?, ?it/s]"
      ]
     },
     "metadata": {},
     "output_type": "display_data"
    },
    {
     "name": "stderr",
     "output_type": "stream",
     "text": [
      "INFO - 2024-07-12T01:08:45Z - Successfully downloaded to /home/jovyan/shared/data/copernicus/cmems_obs-oc_glo_bgc-plankton_my_l4-gapfree-multi-4km_P1D/199908.nc\n",
      "INFO - 2024-07-12T01:08:47Z - Dataset version was not specified, the latest one was selected: \"202311\"\n",
      "INFO - 2024-07-12T01:08:47Z - Dataset part was not specified, the first one was selected: \"default\"\n",
      "INFO - 2024-07-12T01:08:50Z - Service was not specified, the default one was selected: \"arco-geo-series\"\n",
      "INFO - 2024-07-12T01:08:53Z - Downloading using service arco-geo-series...\n",
      "INFO - 2024-07-12T01:08:59Z - Estimated size of the dataset file is 522.357 MB.\n",
      "INFO - 2024-07-12T01:08:59Z - Writing to local storage. Please wait...\n"
     ]
    },
    {
     "data": {
      "application/vnd.jupyter.widget-view+json": {
       "model_id": "6eaa394982cf46ba89942ea9ff85382a",
       "version_major": 2,
       "version_minor": 0
      },
      "text/plain": [
       "  0%|          | 0/3722 [00:00<?, ?it/s]"
      ]
     },
     "metadata": {},
     "output_type": "display_data"
    },
    {
     "name": "stderr",
     "output_type": "stream",
     "text": [
      "INFO - 2024-07-12T01:10:01Z - Successfully downloaded to /home/jovyan/shared/data/copernicus/cmems_obs-oc_glo_bgc-plankton_my_l4-gapfree-multi-4km_P1D/199909.nc\n",
      "INFO - 2024-07-12T01:10:02Z - Dataset version was not specified, the latest one was selected: \"202311\"\n",
      "INFO - 2024-07-12T01:10:02Z - Dataset part was not specified, the first one was selected: \"default\"\n",
      "INFO - 2024-07-12T01:10:04Z - Service was not specified, the default one was selected: \"arco-geo-series\"\n",
      "INFO - 2024-07-12T01:10:07Z - Downloading using service arco-geo-series...\n",
      "INFO - 2024-07-12T01:10:14Z - Estimated size of the dataset file is 539.769 MB.\n",
      "INFO - 2024-07-12T01:10:14Z - Writing to local storage. Please wait...\n"
     ]
    },
    {
     "data": {
      "application/vnd.jupyter.widget-view+json": {
       "model_id": "b50058ed85c1446ea8f968544fb625d6",
       "version_major": 2,
       "version_minor": 0
      },
      "text/plain": [
       "  0%|          | 0/3846 [00:00<?, ?it/s]"
      ]
     },
     "metadata": {},
     "output_type": "display_data"
    },
    {
     "name": "stderr",
     "output_type": "stream",
     "text": [
      "INFO - 2024-07-12T01:11:19Z - Successfully downloaded to /home/jovyan/shared/data/copernicus/cmems_obs-oc_glo_bgc-plankton_my_l4-gapfree-multi-4km_P1D/199910.nc\n",
      "INFO - 2024-07-12T01:11:20Z - Dataset version was not specified, the latest one was selected: \"202311\"\n",
      "INFO - 2024-07-12T01:11:20Z - Dataset part was not specified, the first one was selected: \"default\"\n",
      "INFO - 2024-07-12T01:11:23Z - Service was not specified, the default one was selected: \"arco-geo-series\"\n",
      "INFO - 2024-07-12T01:11:26Z - Downloading using service arco-geo-series...\n",
      "INFO - 2024-07-12T01:11:32Z - Estimated size of the dataset file is 522.357 MB.\n",
      "INFO - 2024-07-12T01:11:32Z - Writing to local storage. Please wait...\n"
     ]
    },
    {
     "data": {
      "application/vnd.jupyter.widget-view+json": {
       "model_id": "c6a7f4bb90224691bd8d1fecb102e3fe",
       "version_major": 2,
       "version_minor": 0
      },
      "text/plain": [
       "  0%|          | 0/3722 [00:00<?, ?it/s]"
      ]
     },
     "metadata": {},
     "output_type": "display_data"
    },
    {
     "name": "stderr",
     "output_type": "stream",
     "text": [
      "INFO - 2024-07-12T01:12:33Z - Successfully downloaded to /home/jovyan/shared/data/copernicus/cmems_obs-oc_glo_bgc-plankton_my_l4-gapfree-multi-4km_P1D/199911.nc\n",
      "INFO - 2024-07-12T01:12:35Z - Dataset version was not specified, the latest one was selected: \"202311\"\n",
      "INFO - 2024-07-12T01:12:35Z - Dataset part was not specified, the first one was selected: \"default\"\n",
      "INFO - 2024-07-12T01:12:38Z - Service was not specified, the default one was selected: \"arco-geo-series\"\n",
      "INFO - 2024-07-12T01:12:41Z - Downloading using service arco-geo-series...\n",
      "INFO - 2024-07-12T01:12:46Z - Estimated size of the dataset file is 539.769 MB.\n",
      "INFO - 2024-07-12T01:12:46Z - Writing to local storage. Please wait...\n"
     ]
    },
    {
     "data": {
      "application/vnd.jupyter.widget-view+json": {
       "model_id": "e94a46dd09604c7aad5a9b0c56772de0",
       "version_major": 2,
       "version_minor": 0
      },
      "text/plain": [
       "  0%|          | 0/3846 [00:00<?, ?it/s]"
      ]
     },
     "metadata": {},
     "output_type": "display_data"
    },
    {
     "name": "stderr",
     "output_type": "stream",
     "text": [
      "INFO - 2024-07-12T01:13:49Z - Successfully downloaded to /home/jovyan/shared/data/copernicus/cmems_obs-oc_glo_bgc-plankton_my_l4-gapfree-multi-4km_P1D/199912.nc\n",
      "INFO - 2024-07-12T01:13:50Z - Dataset version was not specified, the latest one was selected: \"202311\"\n",
      "INFO - 2024-07-12T01:13:50Z - Dataset part was not specified, the first one was selected: \"default\"\n",
      "INFO - 2024-07-12T01:13:54Z - Service was not specified, the default one was selected: \"arco-geo-series\"\n",
      "INFO - 2024-07-12T01:13:57Z - Downloading using service arco-geo-series...\n",
      "INFO - 2024-07-12T01:14:03Z - Estimated size of the dataset file is 539.769 MB.\n",
      "INFO - 2024-07-12T01:14:03Z - Writing to local storage. Please wait...\n"
     ]
    },
    {
     "data": {
      "application/vnd.jupyter.widget-view+json": {
       "model_id": "0f05c73a7d3244f8a8cec45596fb2e7d",
       "version_major": 2,
       "version_minor": 0
      },
      "text/plain": [
       "  0%|          | 0/3846 [00:00<?, ?it/s]"
      ]
     },
     "metadata": {},
     "output_type": "display_data"
    },
    {
     "name": "stderr",
     "output_type": "stream",
     "text": [
      "INFO - 2024-07-12T01:15:07Z - Successfully downloaded to /home/jovyan/shared/data/copernicus/cmems_obs-oc_glo_bgc-plankton_my_l4-gapfree-multi-4km_P1D/200001.nc\n",
      "INFO - 2024-07-12T01:15:09Z - Dataset version was not specified, the latest one was selected: \"202311\"\n",
      "INFO - 2024-07-12T01:15:09Z - Dataset part was not specified, the first one was selected: \"default\"\n",
      "INFO - 2024-07-12T01:15:12Z - Service was not specified, the default one was selected: \"arco-geo-series\"\n",
      "INFO - 2024-07-12T01:15:15Z - Downloading using service arco-geo-series...\n",
      "INFO - 2024-07-12T01:15:21Z - Estimated size of the dataset file is 504.945 MB.\n",
      "INFO - 2024-07-12T01:15:21Z - Writing to local storage. Please wait...\n"
     ]
    },
    {
     "data": {
      "application/vnd.jupyter.widget-view+json": {
       "model_id": "d164af871bb041ef95b833413afbcedc",
       "version_major": 2,
       "version_minor": 0
      },
      "text/plain": [
       "  0%|          | 0/3598 [00:00<?, ?it/s]"
      ]
     },
     "metadata": {},
     "output_type": "display_data"
    },
    {
     "name": "stderr",
     "output_type": "stream",
     "text": [
      "INFO - 2024-07-12T01:16:22Z - Successfully downloaded to /home/jovyan/shared/data/copernicus/cmems_obs-oc_glo_bgc-plankton_my_l4-gapfree-multi-4km_P1D/200002.nc\n",
      "INFO - 2024-07-12T01:16:24Z - Dataset version was not specified, the latest one was selected: \"202311\"\n",
      "INFO - 2024-07-12T01:16:24Z - Dataset part was not specified, the first one was selected: \"default\"\n",
      "INFO - 2024-07-12T01:16:27Z - Service was not specified, the default one was selected: \"arco-geo-series\"\n",
      "INFO - 2024-07-12T01:16:30Z - Downloading using service arco-geo-series...\n",
      "INFO - 2024-07-12T01:16:36Z - Estimated size of the dataset file is 539.769 MB.\n",
      "INFO - 2024-07-12T01:16:36Z - Writing to local storage. Please wait...\n"
     ]
    },
    {
     "data": {
      "application/vnd.jupyter.widget-view+json": {
       "model_id": "82a5b9ef05df46fdad9f44c4bdd5cebb",
       "version_major": 2,
       "version_minor": 0
      },
      "text/plain": [
       "  0%|          | 0/3846 [00:00<?, ?it/s]"
      ]
     },
     "metadata": {},
     "output_type": "display_data"
    },
    {
     "name": "stderr",
     "output_type": "stream",
     "text": [
      "INFO - 2024-07-12T01:17:40Z - Successfully downloaded to /home/jovyan/shared/data/copernicus/cmems_obs-oc_glo_bgc-plankton_my_l4-gapfree-multi-4km_P1D/200003.nc\n",
      "INFO - 2024-07-12T01:17:41Z - Dataset version was not specified, the latest one was selected: \"202311\"\n",
      "INFO - 2024-07-12T01:17:41Z - Dataset part was not specified, the first one was selected: \"default\"\n",
      "INFO - 2024-07-12T01:17:44Z - Service was not specified, the default one was selected: \"arco-geo-series\"\n",
      "INFO - 2024-07-12T01:17:48Z - Downloading using service arco-geo-series...\n",
      "INFO - 2024-07-12T01:17:53Z - Estimated size of the dataset file is 522.357 MB.\n",
      "INFO - 2024-07-12T01:17:53Z - Writing to local storage. Please wait...\n"
     ]
    },
    {
     "data": {
      "application/vnd.jupyter.widget-view+json": {
       "model_id": "466085d74d684c95a7dc4cb4eec62be7",
       "version_major": 2,
       "version_minor": 0
      },
      "text/plain": [
       "  0%|          | 0/3722 [00:00<?, ?it/s]"
      ]
     },
     "metadata": {},
     "output_type": "display_data"
    },
    {
     "name": "stderr",
     "output_type": "stream",
     "text": [
      "INFO - 2024-07-12T01:18:56Z - Successfully downloaded to /home/jovyan/shared/data/copernicus/cmems_obs-oc_glo_bgc-plankton_my_l4-gapfree-multi-4km_P1D/200004.nc\n",
      "INFO - 2024-07-12T01:18:57Z - Dataset version was not specified, the latest one was selected: \"202311\"\n",
      "INFO - 2024-07-12T01:18:57Z - Dataset part was not specified, the first one was selected: \"default\"\n",
      "INFO - 2024-07-12T01:19:00Z - Service was not specified, the default one was selected: \"arco-geo-series\"\n",
      "INFO - 2024-07-12T01:19:03Z - Downloading using service arco-geo-series...\n",
      "INFO - 2024-07-12T01:19:10Z - Estimated size of the dataset file is 539.769 MB.\n",
      "INFO - 2024-07-12T01:19:10Z - Writing to local storage. Please wait...\n"
     ]
    },
    {
     "data": {
      "application/vnd.jupyter.widget-view+json": {
       "model_id": "f41666f61f06459c8ba7bbb78a9ad036",
       "version_major": 2,
       "version_minor": 0
      },
      "text/plain": [
       "  0%|          | 0/3846 [00:00<?, ?it/s]"
      ]
     },
     "metadata": {},
     "output_type": "display_data"
    },
    {
     "name": "stderr",
     "output_type": "stream",
     "text": [
      "INFO - 2024-07-12T01:20:13Z - Successfully downloaded to /home/jovyan/shared/data/copernicus/cmems_obs-oc_glo_bgc-plankton_my_l4-gapfree-multi-4km_P1D/200005.nc\n",
      "INFO - 2024-07-12T01:20:15Z - Dataset version was not specified, the latest one was selected: \"202311\"\n",
      "INFO - 2024-07-12T01:20:15Z - Dataset part was not specified, the first one was selected: \"default\"\n",
      "INFO - 2024-07-12T01:20:18Z - Service was not specified, the default one was selected: \"arco-geo-series\"\n",
      "INFO - 2024-07-12T01:20:21Z - Downloading using service arco-geo-series...\n",
      "INFO - 2024-07-12T01:20:27Z - Estimated size of the dataset file is 522.357 MB.\n",
      "INFO - 2024-07-12T01:20:27Z - Writing to local storage. Please wait...\n"
     ]
    },
    {
     "data": {
      "application/vnd.jupyter.widget-view+json": {
       "model_id": "b13cac2329544b9ca75536270bec7eb4",
       "version_major": 2,
       "version_minor": 0
      },
      "text/plain": [
       "  0%|          | 0/3722 [00:00<?, ?it/s]"
      ]
     },
     "metadata": {},
     "output_type": "display_data"
    },
    {
     "name": "stderr",
     "output_type": "stream",
     "text": [
      "INFO - 2024-07-12T01:21:29Z - Successfully downloaded to /home/jovyan/shared/data/copernicus/cmems_obs-oc_glo_bgc-plankton_my_l4-gapfree-multi-4km_P1D/200006.nc\n",
      "INFO - 2024-07-12T01:21:30Z - Dataset version was not specified, the latest one was selected: \"202311\"\n",
      "INFO - 2024-07-12T01:21:30Z - Dataset part was not specified, the first one was selected: \"default\"\n",
      "INFO - 2024-07-12T01:21:33Z - Service was not specified, the default one was selected: \"arco-geo-series\"\n",
      "INFO - 2024-07-12T01:21:36Z - Downloading using service arco-geo-series...\n",
      "INFO - 2024-07-12T01:21:43Z - Estimated size of the dataset file is 539.769 MB.\n",
      "INFO - 2024-07-12T01:21:43Z - Writing to local storage. Please wait...\n"
     ]
    },
    {
     "data": {
      "application/vnd.jupyter.widget-view+json": {
       "model_id": "96b52a857f294e90bf6081ead23dde86",
       "version_major": 2,
       "version_minor": 0
      },
      "text/plain": [
       "  0%|          | 0/3846 [00:00<?, ?it/s]"
      ]
     },
     "metadata": {},
     "output_type": "display_data"
    },
    {
     "name": "stderr",
     "output_type": "stream",
     "text": [
      "INFO - 2024-07-12T01:22:46Z - Successfully downloaded to /home/jovyan/shared/data/copernicus/cmems_obs-oc_glo_bgc-plankton_my_l4-gapfree-multi-4km_P1D/200007.nc\n",
      "INFO - 2024-07-12T01:22:47Z - Dataset version was not specified, the latest one was selected: \"202311\"\n",
      "INFO - 2024-07-12T01:22:47Z - Dataset part was not specified, the first one was selected: \"default\"\n",
      "INFO - 2024-07-12T01:22:50Z - Service was not specified, the default one was selected: \"arco-geo-series\"\n",
      "INFO - 2024-07-12T01:22:53Z - Downloading using service arco-geo-series...\n",
      "INFO - 2024-07-12T01:22:58Z - Estimated size of the dataset file is 539.769 MB.\n",
      "INFO - 2024-07-12T01:22:58Z - Writing to local storage. Please wait...\n"
     ]
    },
    {
     "data": {
      "application/vnd.jupyter.widget-view+json": {
       "model_id": "da55ff6dcd7d44ba8a7ceabe4b020031",
       "version_major": 2,
       "version_minor": 0
      },
      "text/plain": [
       "  0%|          | 0/3846 [00:00<?, ?it/s]"
      ]
     },
     "metadata": {},
     "output_type": "display_data"
    },
    {
     "name": "stderr",
     "output_type": "stream",
     "text": [
      "INFO - 2024-07-12T01:24:02Z - Successfully downloaded to /home/jovyan/shared/data/copernicus/cmems_obs-oc_glo_bgc-plankton_my_l4-gapfree-multi-4km_P1D/200008.nc\n",
      "INFO - 2024-07-12T01:24:03Z - Dataset version was not specified, the latest one was selected: \"202311\"\n",
      "INFO - 2024-07-12T01:24:03Z - Dataset part was not specified, the first one was selected: \"default\"\n",
      "INFO - 2024-07-12T01:24:07Z - Service was not specified, the default one was selected: \"arco-geo-series\"\n",
      "INFO - 2024-07-12T01:24:10Z - Downloading using service arco-geo-series...\n",
      "INFO - 2024-07-12T01:24:16Z - Estimated size of the dataset file is 522.357 MB.\n",
      "INFO - 2024-07-12T01:24:16Z - Writing to local storage. Please wait...\n"
     ]
    },
    {
     "data": {
      "application/vnd.jupyter.widget-view+json": {
       "model_id": "8183a12bf80c458a86985e4fc370ab1f",
       "version_major": 2,
       "version_minor": 0
      },
      "text/plain": [
       "  0%|          | 0/3722 [00:00<?, ?it/s]"
      ]
     },
     "metadata": {},
     "output_type": "display_data"
    },
    {
     "name": "stderr",
     "output_type": "stream",
     "text": [
      "INFO - 2024-07-12T01:25:17Z - Successfully downloaded to /home/jovyan/shared/data/copernicus/cmems_obs-oc_glo_bgc-plankton_my_l4-gapfree-multi-4km_P1D/200009.nc\n",
      "INFO - 2024-07-12T01:25:19Z - Dataset version was not specified, the latest one was selected: \"202311\"\n",
      "INFO - 2024-07-12T01:25:19Z - Dataset part was not specified, the first one was selected: \"default\"\n",
      "INFO - 2024-07-12T01:25:22Z - Service was not specified, the default one was selected: \"arco-geo-series\"\n",
      "INFO - 2024-07-12T01:25:25Z - Downloading using service arco-geo-series...\n",
      "INFO - 2024-07-12T01:25:32Z - Estimated size of the dataset file is 539.769 MB.\n",
      "INFO - 2024-07-12T01:25:32Z - Writing to local storage. Please wait...\n"
     ]
    },
    {
     "data": {
      "application/vnd.jupyter.widget-view+json": {
       "model_id": "ec620ccd7bf24fef83604977959abe79",
       "version_major": 2,
       "version_minor": 0
      },
      "text/plain": [
       "  0%|          | 0/3846 [00:00<?, ?it/s]"
      ]
     },
     "metadata": {},
     "output_type": "display_data"
    },
    {
     "name": "stderr",
     "output_type": "stream",
     "text": [
      "INFO - 2024-07-12T01:26:35Z - Successfully downloaded to /home/jovyan/shared/data/copernicus/cmems_obs-oc_glo_bgc-plankton_my_l4-gapfree-multi-4km_P1D/200010.nc\n",
      "INFO - 2024-07-12T01:26:36Z - Dataset version was not specified, the latest one was selected: \"202311\"\n",
      "INFO - 2024-07-12T01:26:36Z - Dataset part was not specified, the first one was selected: \"default\"\n",
      "INFO - 2024-07-12T01:26:39Z - Service was not specified, the default one was selected: \"arco-geo-series\"\n",
      "INFO - 2024-07-12T01:26:42Z - Downloading using service arco-geo-series...\n",
      "INFO - 2024-07-12T01:26:48Z - Estimated size of the dataset file is 522.357 MB.\n",
      "INFO - 2024-07-12T01:26:48Z - Writing to local storage. Please wait...\n"
     ]
    },
    {
     "data": {
      "application/vnd.jupyter.widget-view+json": {
       "model_id": "b3a652528a4b438eb67c595946dc2c02",
       "version_major": 2,
       "version_minor": 0
      },
      "text/plain": [
       "  0%|          | 0/3722 [00:00<?, ?it/s]"
      ]
     },
     "metadata": {},
     "output_type": "display_data"
    },
    {
     "name": "stderr",
     "output_type": "stream",
     "text": [
      "INFO - 2024-07-12T01:27:50Z - Successfully downloaded to /home/jovyan/shared/data/copernicus/cmems_obs-oc_glo_bgc-plankton_my_l4-gapfree-multi-4km_P1D/200011.nc\n",
      "INFO - 2024-07-12T01:27:51Z - Dataset version was not specified, the latest one was selected: \"202311\"\n",
      "INFO - 2024-07-12T01:27:51Z - Dataset part was not specified, the first one was selected: \"default\"\n",
      "INFO - 2024-07-12T01:27:54Z - Service was not specified, the default one was selected: \"arco-geo-series\"\n",
      "INFO - 2024-07-12T01:27:57Z - Downloading using service arco-geo-series...\n",
      "INFO - 2024-07-12T01:28:02Z - Estimated size of the dataset file is 539.769 MB.\n",
      "INFO - 2024-07-12T01:28:02Z - Writing to local storage. Please wait...\n"
     ]
    },
    {
     "data": {
      "application/vnd.jupyter.widget-view+json": {
       "model_id": "2352e74787444ded95c4cc9592c79635",
       "version_major": 2,
       "version_minor": 0
      },
      "text/plain": [
       "  0%|          | 0/3846 [00:00<?, ?it/s]"
      ]
     },
     "metadata": {},
     "output_type": "display_data"
    },
    {
     "name": "stderr",
     "output_type": "stream",
     "text": [
      "INFO - 2024-07-12T01:29:06Z - Successfully downloaded to /home/jovyan/shared/data/copernicus/cmems_obs-oc_glo_bgc-plankton_my_l4-gapfree-multi-4km_P1D/200012.nc\n",
      "INFO - 2024-07-12T01:29:08Z - Dataset version was not specified, the latest one was selected: \"202311\"\n",
      "INFO - 2024-07-12T01:29:08Z - Dataset part was not specified, the first one was selected: \"default\"\n",
      "INFO - 2024-07-12T01:29:10Z - Service was not specified, the default one was selected: \"arco-geo-series\"\n",
      "INFO - 2024-07-12T01:29:13Z - Downloading using service arco-geo-series...\n",
      "INFO - 2024-07-12T01:29:20Z - Estimated size of the dataset file is 539.769 MB.\n",
      "INFO - 2024-07-12T01:29:20Z - Writing to local storage. Please wait...\n"
     ]
    },
    {
     "data": {
      "application/vnd.jupyter.widget-view+json": {
       "model_id": "5daf31a71f294cb18c5a771d87bb1999",
       "version_major": 2,
       "version_minor": 0
      },
      "text/plain": [
       "  0%|          | 0/3846 [00:00<?, ?it/s]"
      ]
     },
     "metadata": {},
     "output_type": "display_data"
    },
    {
     "name": "stderr",
     "output_type": "stream",
     "text": [
      "INFO - 2024-07-12T01:30:23Z - Successfully downloaded to /home/jovyan/shared/data/copernicus/cmems_obs-oc_glo_bgc-plankton_my_l4-gapfree-multi-4km_P1D/200101.nc\n",
      "INFO - 2024-07-12T01:30:25Z - Dataset version was not specified, the latest one was selected: \"202311\"\n",
      "INFO - 2024-07-12T01:30:25Z - Dataset part was not specified, the first one was selected: \"default\"\n",
      "INFO - 2024-07-12T01:30:28Z - Service was not specified, the default one was selected: \"arco-geo-series\"\n",
      "INFO - 2024-07-12T01:30:31Z - Downloading using service arco-geo-series...\n",
      "INFO - 2024-07-12T01:30:37Z - Estimated size of the dataset file is 487.533 MB.\n",
      "INFO - 2024-07-12T01:30:37Z - Writing to local storage. Please wait...\n"
     ]
    },
    {
     "data": {
      "application/vnd.jupyter.widget-view+json": {
       "model_id": "de2c5a9eeb634c6aa2142f6f825f5966",
       "version_major": 2,
       "version_minor": 0
      },
      "text/plain": [
       "  0%|          | 0/3474 [00:00<?, ?it/s]"
      ]
     },
     "metadata": {},
     "output_type": "display_data"
    },
    {
     "name": "stderr",
     "output_type": "stream",
     "text": [
      "INFO - 2024-07-12T01:31:35Z - Successfully downloaded to /home/jovyan/shared/data/copernicus/cmems_obs-oc_glo_bgc-plankton_my_l4-gapfree-multi-4km_P1D/200102.nc\n",
      "INFO - 2024-07-12T01:31:36Z - Dataset version was not specified, the latest one was selected: \"202311\"\n",
      "INFO - 2024-07-12T01:31:36Z - Dataset part was not specified, the first one was selected: \"default\"\n",
      "INFO - 2024-07-12T01:31:39Z - Service was not specified, the default one was selected: \"arco-geo-series\"\n",
      "INFO - 2024-07-12T01:31:42Z - Downloading using service arco-geo-series...\n",
      "INFO - 2024-07-12T01:31:48Z - Estimated size of the dataset file is 539.769 MB.\n",
      "INFO - 2024-07-12T01:31:48Z - Writing to local storage. Please wait...\n"
     ]
    },
    {
     "data": {
      "application/vnd.jupyter.widget-view+json": {
       "model_id": "6e3ab6d063e045dba3805290a1e2a852",
       "version_major": 2,
       "version_minor": 0
      },
      "text/plain": [
       "  0%|          | 0/3846 [00:00<?, ?it/s]"
      ]
     },
     "metadata": {},
     "output_type": "display_data"
    },
    {
     "name": "stderr",
     "output_type": "stream",
     "text": [
      "INFO - 2024-07-12T01:32:51Z - Successfully downloaded to /home/jovyan/shared/data/copernicus/cmems_obs-oc_glo_bgc-plankton_my_l4-gapfree-multi-4km_P1D/200103.nc\n",
      "INFO - 2024-07-12T01:32:52Z - Dataset version was not specified, the latest one was selected: \"202311\"\n",
      "INFO - 2024-07-12T01:32:52Z - Dataset part was not specified, the first one was selected: \"default\"\n",
      "INFO - 2024-07-12T01:32:55Z - Service was not specified, the default one was selected: \"arco-geo-series\"\n",
      "INFO - 2024-07-12T01:32:58Z - Downloading using service arco-geo-series...\n",
      "INFO - 2024-07-12T01:33:05Z - Estimated size of the dataset file is 522.357 MB.\n",
      "INFO - 2024-07-12T01:33:05Z - Writing to local storage. Please wait...\n"
     ]
    },
    {
     "data": {
      "application/vnd.jupyter.widget-view+json": {
       "model_id": "64dcd0695fe54d9a99162c3eadc7d258",
       "version_major": 2,
       "version_minor": 0
      },
      "text/plain": [
       "  0%|          | 0/3722 [00:00<?, ?it/s]"
      ]
     },
     "metadata": {},
     "output_type": "display_data"
    },
    {
     "name": "stderr",
     "output_type": "stream",
     "text": [
      "INFO - 2024-07-12T01:34:07Z - Successfully downloaded to /home/jovyan/shared/data/copernicus/cmems_obs-oc_glo_bgc-plankton_my_l4-gapfree-multi-4km_P1D/200104.nc\n",
      "INFO - 2024-07-12T01:34:09Z - Dataset version was not specified, the latest one was selected: \"202311\"\n",
      "INFO - 2024-07-12T01:34:09Z - Dataset part was not specified, the first one was selected: \"default\"\n",
      "INFO - 2024-07-12T01:34:12Z - Service was not specified, the default one was selected: \"arco-geo-series\"\n",
      "INFO - 2024-07-12T01:34:15Z - Downloading using service arco-geo-series...\n",
      "INFO - 2024-07-12T01:34:21Z - Estimated size of the dataset file is 539.769 MB.\n",
      "INFO - 2024-07-12T01:34:21Z - Writing to local storage. Please wait...\n"
     ]
    },
    {
     "data": {
      "application/vnd.jupyter.widget-view+json": {
       "model_id": "c776676d65304d8faaed26195886fa5f",
       "version_major": 2,
       "version_minor": 0
      },
      "text/plain": [
       "  0%|          | 0/3846 [00:00<?, ?it/s]"
      ]
     },
     "metadata": {},
     "output_type": "display_data"
    },
    {
     "name": "stderr",
     "output_type": "stream",
     "text": [
      "INFO - 2024-07-12T01:35:24Z - Successfully downloaded to /home/jovyan/shared/data/copernicus/cmems_obs-oc_glo_bgc-plankton_my_l4-gapfree-multi-4km_P1D/200105.nc\n",
      "INFO - 2024-07-12T01:35:25Z - Dataset version was not specified, the latest one was selected: \"202311\"\n",
      "INFO - 2024-07-12T01:35:25Z - Dataset part was not specified, the first one was selected: \"default\"\n",
      "INFO - 2024-07-12T01:35:28Z - Service was not specified, the default one was selected: \"arco-geo-series\"\n",
      "INFO - 2024-07-12T01:35:31Z - Downloading using service arco-geo-series...\n",
      "INFO - 2024-07-12T01:35:38Z - Estimated size of the dataset file is 522.357 MB.\n",
      "INFO - 2024-07-12T01:35:38Z - Writing to local storage. Please wait...\n"
     ]
    },
    {
     "data": {
      "application/vnd.jupyter.widget-view+json": {
       "model_id": "1ec85b3de5aa4e838fede80cf009d5d3",
       "version_major": 2,
       "version_minor": 0
      },
      "text/plain": [
       "  0%|          | 0/3722 [00:00<?, ?it/s]"
      ]
     },
     "metadata": {},
     "output_type": "display_data"
    },
    {
     "name": "stderr",
     "output_type": "stream",
     "text": [
      "INFO - 2024-07-12T01:36:39Z - Successfully downloaded to /home/jovyan/shared/data/copernicus/cmems_obs-oc_glo_bgc-plankton_my_l4-gapfree-multi-4km_P1D/200106.nc\n",
      "INFO - 2024-07-12T01:36:40Z - Dataset version was not specified, the latest one was selected: \"202311\"\n",
      "INFO - 2024-07-12T01:36:40Z - Dataset part was not specified, the first one was selected: \"default\"\n",
      "INFO - 2024-07-12T01:36:43Z - Service was not specified, the default one was selected: \"arco-geo-series\"\n",
      "INFO - 2024-07-12T01:36:46Z - Downloading using service arco-geo-series...\n",
      "INFO - 2024-07-12T01:36:52Z - Estimated size of the dataset file is 539.769 MB.\n",
      "INFO - 2024-07-12T01:36:52Z - Writing to local storage. Please wait...\n"
     ]
    },
    {
     "data": {
      "application/vnd.jupyter.widget-view+json": {
       "model_id": "031b5df0207d4118b3709d19062cde3b",
       "version_major": 2,
       "version_minor": 0
      },
      "text/plain": [
       "  0%|          | 0/3846 [00:00<?, ?it/s]"
      ]
     },
     "metadata": {},
     "output_type": "display_data"
    },
    {
     "name": "stderr",
     "output_type": "stream",
     "text": [
      "INFO - 2024-07-12T01:37:56Z - Successfully downloaded to /home/jovyan/shared/data/copernicus/cmems_obs-oc_glo_bgc-plankton_my_l4-gapfree-multi-4km_P1D/200107.nc\n",
      "INFO - 2024-07-12T01:37:57Z - Dataset version was not specified, the latest one was selected: \"202311\"\n",
      "INFO - 2024-07-12T01:37:57Z - Dataset part was not specified, the first one was selected: \"default\"\n",
      "INFO - 2024-07-12T01:38:00Z - Service was not specified, the default one was selected: \"arco-geo-series\"\n",
      "INFO - 2024-07-12T01:38:03Z - Downloading using service arco-geo-series...\n",
      "INFO - 2024-07-12T01:38:09Z - Estimated size of the dataset file is 539.769 MB.\n",
      "INFO - 2024-07-12T01:38:09Z - Writing to local storage. Please wait...\n"
     ]
    },
    {
     "data": {
      "application/vnd.jupyter.widget-view+json": {
       "model_id": "73dc1fcd5b7f400f809fdd504dd9de44",
       "version_major": 2,
       "version_minor": 0
      },
      "text/plain": [
       "  0%|          | 0/3846 [00:00<?, ?it/s]"
      ]
     },
     "metadata": {},
     "output_type": "display_data"
    },
    {
     "name": "stderr",
     "output_type": "stream",
     "text": [
      "INFO - 2024-07-12T01:39:12Z - Successfully downloaded to /home/jovyan/shared/data/copernicus/cmems_obs-oc_glo_bgc-plankton_my_l4-gapfree-multi-4km_P1D/200108.nc\n",
      "INFO - 2024-07-12T01:39:14Z - Dataset version was not specified, the latest one was selected: \"202311\"\n",
      "INFO - 2024-07-12T01:39:14Z - Dataset part was not specified, the first one was selected: \"default\"\n",
      "INFO - 2024-07-12T01:39:17Z - Service was not specified, the default one was selected: \"arco-geo-series\"\n",
      "INFO - 2024-07-12T01:39:20Z - Downloading using service arco-geo-series...\n",
      "INFO - 2024-07-12T01:39:26Z - Estimated size of the dataset file is 522.357 MB.\n",
      "INFO - 2024-07-12T01:39:26Z - Writing to local storage. Please wait...\n"
     ]
    },
    {
     "data": {
      "application/vnd.jupyter.widget-view+json": {
       "model_id": "4305853032cb4eba9fc7bf85f41f220a",
       "version_major": 2,
       "version_minor": 0
      },
      "text/plain": [
       "  0%|          | 0/3722 [00:00<?, ?it/s]"
      ]
     },
     "metadata": {},
     "output_type": "display_data"
    },
    {
     "name": "stderr",
     "output_type": "stream",
     "text": [
      "INFO - 2024-07-12T01:40:28Z - Successfully downloaded to /home/jovyan/shared/data/copernicus/cmems_obs-oc_glo_bgc-plankton_my_l4-gapfree-multi-4km_P1D/200109.nc\n",
      "INFO - 2024-07-12T01:40:29Z - Dataset version was not specified, the latest one was selected: \"202311\"\n",
      "INFO - 2024-07-12T01:40:29Z - Dataset part was not specified, the first one was selected: \"default\"\n",
      "INFO - 2024-07-12T01:40:32Z - Service was not specified, the default one was selected: \"arco-geo-series\"\n",
      "INFO - 2024-07-12T01:40:35Z - Downloading using service arco-geo-series...\n",
      "INFO - 2024-07-12T01:40:41Z - Estimated size of the dataset file is 539.769 MB.\n",
      "INFO - 2024-07-12T01:40:41Z - Writing to local storage. Please wait...\n"
     ]
    },
    {
     "data": {
      "application/vnd.jupyter.widget-view+json": {
       "model_id": "2dc98ac43e3443ed8e6aec9c70384c53",
       "version_major": 2,
       "version_minor": 0
      },
      "text/plain": [
       "  0%|          | 0/3846 [00:00<?, ?it/s]"
      ]
     },
     "metadata": {},
     "output_type": "display_data"
    },
    {
     "name": "stderr",
     "output_type": "stream",
     "text": [
      "INFO - 2024-07-12T01:41:45Z - Successfully downloaded to /home/jovyan/shared/data/copernicus/cmems_obs-oc_glo_bgc-plankton_my_l4-gapfree-multi-4km_P1D/200110.nc\n",
      "INFO - 2024-07-12T01:41:46Z - Dataset version was not specified, the latest one was selected: \"202311\"\n",
      "INFO - 2024-07-12T01:41:46Z - Dataset part was not specified, the first one was selected: \"default\"\n",
      "INFO - 2024-07-12T01:41:49Z - Service was not specified, the default one was selected: \"arco-geo-series\"\n",
      "INFO - 2024-07-12T01:41:52Z - Downloading using service arco-geo-series...\n",
      "INFO - 2024-07-12T01:41:58Z - Estimated size of the dataset file is 522.357 MB.\n",
      "INFO - 2024-07-12T01:41:58Z - Writing to local storage. Please wait...\n"
     ]
    },
    {
     "data": {
      "application/vnd.jupyter.widget-view+json": {
       "model_id": "3927d256f1e2415ab6bc3c147bc3d6a2",
       "version_major": 2,
       "version_minor": 0
      },
      "text/plain": [
       "  0%|          | 0/3722 [00:00<?, ?it/s]"
      ]
     },
     "metadata": {},
     "output_type": "display_data"
    },
    {
     "name": "stderr",
     "output_type": "stream",
     "text": [
      "INFO - 2024-07-12T01:42:59Z - Successfully downloaded to /home/jovyan/shared/data/copernicus/cmems_obs-oc_glo_bgc-plankton_my_l4-gapfree-multi-4km_P1D/200111.nc\n",
      "INFO - 2024-07-12T01:43:00Z - Dataset version was not specified, the latest one was selected: \"202311\"\n",
      "INFO - 2024-07-12T01:43:00Z - Dataset part was not specified, the first one was selected: \"default\"\n",
      "INFO - 2024-07-12T01:43:03Z - Service was not specified, the default one was selected: \"arco-geo-series\"\n",
      "INFO - 2024-07-12T01:43:06Z - Downloading using service arco-geo-series...\n",
      "INFO - 2024-07-12T01:43:12Z - Estimated size of the dataset file is 539.769 MB.\n",
      "INFO - 2024-07-12T01:43:12Z - Writing to local storage. Please wait...\n"
     ]
    },
    {
     "data": {
      "application/vnd.jupyter.widget-view+json": {
       "model_id": "ee473c88c89649efa1f82b7b6bb3b131",
       "version_major": 2,
       "version_minor": 0
      },
      "text/plain": [
       "  0%|          | 0/3846 [00:00<?, ?it/s]"
      ]
     },
     "metadata": {},
     "output_type": "display_data"
    },
    {
     "name": "stderr",
     "output_type": "stream",
     "text": [
      "INFO - 2024-07-12T01:44:15Z - Successfully downloaded to /home/jovyan/shared/data/copernicus/cmems_obs-oc_glo_bgc-plankton_my_l4-gapfree-multi-4km_P1D/200112.nc\n",
      "INFO - 2024-07-12T01:44:17Z - Dataset version was not specified, the latest one was selected: \"202311\"\n",
      "INFO - 2024-07-12T01:44:17Z - Dataset part was not specified, the first one was selected: \"default\"\n",
      "INFO - 2024-07-12T01:44:20Z - Service was not specified, the default one was selected: \"arco-geo-series\"\n",
      "INFO - 2024-07-12T01:44:23Z - Downloading using service arco-geo-series...\n",
      "INFO - 2024-07-12T01:44:29Z - Estimated size of the dataset file is 539.769 MB.\n",
      "INFO - 2024-07-12T01:44:29Z - Writing to local storage. Please wait...\n"
     ]
    },
    {
     "data": {
      "application/vnd.jupyter.widget-view+json": {
       "model_id": "ac49821163f9400fa1f1954ebbb5d407",
       "version_major": 2,
       "version_minor": 0
      },
      "text/plain": [
       "  0%|          | 0/3846 [00:00<?, ?it/s]"
      ]
     },
     "metadata": {},
     "output_type": "display_data"
    },
    {
     "name": "stderr",
     "output_type": "stream",
     "text": [
      "INFO - 2024-07-12T01:45:33Z - Successfully downloaded to /home/jovyan/shared/data/copernicus/cmems_obs-oc_glo_bgc-plankton_my_l4-gapfree-multi-4km_P1D/200201.nc\n",
      "INFO - 2024-07-12T01:45:34Z - Dataset version was not specified, the latest one was selected: \"202311\"\n",
      "INFO - 2024-07-12T01:45:34Z - Dataset part was not specified, the first one was selected: \"default\"\n",
      "INFO - 2024-07-12T01:45:37Z - Service was not specified, the default one was selected: \"arco-geo-series\"\n",
      "INFO - 2024-07-12T01:45:40Z - Downloading using service arco-geo-series...\n",
      "INFO - 2024-07-12T01:45:46Z - Estimated size of the dataset file is 487.533 MB.\n",
      "INFO - 2024-07-12T01:45:46Z - Writing to local storage. Please wait...\n"
     ]
    },
    {
     "data": {
      "application/vnd.jupyter.widget-view+json": {
       "model_id": "28ba502b490c4fcfb5540f9b675f75ce",
       "version_major": 2,
       "version_minor": 0
      },
      "text/plain": [
       "  0%|          | 0/3474 [00:00<?, ?it/s]"
      ]
     },
     "metadata": {},
     "output_type": "display_data"
    },
    {
     "name": "stderr",
     "output_type": "stream",
     "text": [
      "INFO - 2024-07-12T01:46:44Z - Successfully downloaded to /home/jovyan/shared/data/copernicus/cmems_obs-oc_glo_bgc-plankton_my_l4-gapfree-multi-4km_P1D/200202.nc\n",
      "INFO - 2024-07-12T01:46:46Z - Dataset version was not specified, the latest one was selected: \"202311\"\n",
      "INFO - 2024-07-12T01:46:46Z - Dataset part was not specified, the first one was selected: \"default\"\n",
      "INFO - 2024-07-12T01:46:49Z - Service was not specified, the default one was selected: \"arco-geo-series\"\n",
      "INFO - 2024-07-12T01:46:52Z - Downloading using service arco-geo-series...\n",
      "INFO - 2024-07-12T01:46:58Z - Estimated size of the dataset file is 539.769 MB.\n",
      "INFO - 2024-07-12T01:46:58Z - Writing to local storage. Please wait...\n"
     ]
    },
    {
     "data": {
      "application/vnd.jupyter.widget-view+json": {
       "model_id": "b19efb183d2945e2b76eb15aed6fa9fd",
       "version_major": 2,
       "version_minor": 0
      },
      "text/plain": [
       "  0%|          | 0/3846 [00:00<?, ?it/s]"
      ]
     },
     "metadata": {},
     "output_type": "display_data"
    },
    {
     "name": "stderr",
     "output_type": "stream",
     "text": [
      "INFO - 2024-07-12T01:48:02Z - Successfully downloaded to /home/jovyan/shared/data/copernicus/cmems_obs-oc_glo_bgc-plankton_my_l4-gapfree-multi-4km_P1D/200203.nc\n",
      "INFO - 2024-07-12T01:48:03Z - Dataset version was not specified, the latest one was selected: \"202311\"\n",
      "INFO - 2024-07-12T01:48:03Z - Dataset part was not specified, the first one was selected: \"default\"\n",
      "INFO - 2024-07-12T01:48:06Z - Service was not specified, the default one was selected: \"arco-geo-series\"\n",
      "INFO - 2024-07-12T01:48:09Z - Downloading using service arco-geo-series...\n",
      "INFO - 2024-07-12T01:48:16Z - Estimated size of the dataset file is 522.357 MB.\n",
      "INFO - 2024-07-12T01:48:16Z - Writing to local storage. Please wait...\n"
     ]
    },
    {
     "data": {
      "application/vnd.jupyter.widget-view+json": {
       "model_id": "4fe5409bbe4e407fbbfba7cfb5785b2e",
       "version_major": 2,
       "version_minor": 0
      },
      "text/plain": [
       "  0%|          | 0/3722 [00:00<?, ?it/s]"
      ]
     },
     "metadata": {},
     "output_type": "display_data"
    },
    {
     "name": "stderr",
     "output_type": "stream",
     "text": [
      "INFO - 2024-07-12T01:49:17Z - Successfully downloaded to /home/jovyan/shared/data/copernicus/cmems_obs-oc_glo_bgc-plankton_my_l4-gapfree-multi-4km_P1D/200204.nc\n",
      "INFO - 2024-07-12T01:49:18Z - Dataset version was not specified, the latest one was selected: \"202311\"\n",
      "INFO - 2024-07-12T01:49:18Z - Dataset part was not specified, the first one was selected: \"default\"\n",
      "INFO - 2024-07-12T01:49:21Z - Service was not specified, the default one was selected: \"arco-geo-series\"\n",
      "INFO - 2024-07-12T01:49:25Z - Downloading using service arco-geo-series...\n",
      "INFO - 2024-07-12T01:49:31Z - Estimated size of the dataset file is 539.769 MB.\n",
      "INFO - 2024-07-12T01:49:31Z - Writing to local storage. Please wait...\n"
     ]
    },
    {
     "data": {
      "application/vnd.jupyter.widget-view+json": {
       "model_id": "6207429c91504cceb7e28ee0410ddee2",
       "version_major": 2,
       "version_minor": 0
      },
      "text/plain": [
       "  0%|          | 0/3846 [00:00<?, ?it/s]"
      ]
     },
     "metadata": {},
     "output_type": "display_data"
    },
    {
     "name": "stderr",
     "output_type": "stream",
     "text": [
      "INFO - 2024-07-12T01:50:34Z - Successfully downloaded to /home/jovyan/shared/data/copernicus/cmems_obs-oc_glo_bgc-plankton_my_l4-gapfree-multi-4km_P1D/200205.nc\n",
      "INFO - 2024-07-12T01:50:35Z - Dataset version was not specified, the latest one was selected: \"202311\"\n",
      "INFO - 2024-07-12T01:50:35Z - Dataset part was not specified, the first one was selected: \"default\"\n",
      "INFO - 2024-07-12T01:50:39Z - Service was not specified, the default one was selected: \"arco-geo-series\"\n",
      "INFO - 2024-07-12T01:50:42Z - Downloading using service arco-geo-series...\n",
      "INFO - 2024-07-12T01:50:49Z - Estimated size of the dataset file is 522.357 MB.\n",
      "INFO - 2024-07-12T01:50:49Z - Writing to local storage. Please wait...\n"
     ]
    },
    {
     "data": {
      "application/vnd.jupyter.widget-view+json": {
       "model_id": "94c42541c7d24dfca7970094c9cadac2",
       "version_major": 2,
       "version_minor": 0
      },
      "text/plain": [
       "  0%|          | 0/3722 [00:00<?, ?it/s]"
      ]
     },
     "metadata": {},
     "output_type": "display_data"
    },
    {
     "name": "stderr",
     "output_type": "stream",
     "text": [
      "INFO - 2024-07-12T01:51:51Z - Successfully downloaded to /home/jovyan/shared/data/copernicus/cmems_obs-oc_glo_bgc-plankton_my_l4-gapfree-multi-4km_P1D/200206.nc\n",
      "INFO - 2024-07-12T01:51:52Z - Dataset version was not specified, the latest one was selected: \"202311\"\n",
      "INFO - 2024-07-12T01:51:52Z - Dataset part was not specified, the first one was selected: \"default\"\n",
      "INFO - 2024-07-12T01:51:55Z - Service was not specified, the default one was selected: \"arco-geo-series\"\n",
      "INFO - 2024-07-12T01:51:59Z - Downloading using service arco-geo-series...\n",
      "INFO - 2024-07-12T01:52:05Z - Estimated size of the dataset file is 539.769 MB.\n",
      "INFO - 2024-07-12T01:52:05Z - Writing to local storage. Please wait...\n"
     ]
    },
    {
     "data": {
      "application/vnd.jupyter.widget-view+json": {
       "model_id": "ba50701c649b4305bf5ec52d3bb863ec",
       "version_major": 2,
       "version_minor": 0
      },
      "text/plain": [
       "  0%|          | 0/3846 [00:00<?, ?it/s]"
      ]
     },
     "metadata": {},
     "output_type": "display_data"
    },
    {
     "name": "stderr",
     "output_type": "stream",
     "text": [
      "INFO - 2024-07-12T01:53:09Z - Successfully downloaded to /home/jovyan/shared/data/copernicus/cmems_obs-oc_glo_bgc-plankton_my_l4-gapfree-multi-4km_P1D/200207.nc\n",
      "INFO - 2024-07-12T01:53:10Z - Dataset version was not specified, the latest one was selected: \"202311\"\n",
      "INFO - 2024-07-12T01:53:10Z - Dataset part was not specified, the first one was selected: \"default\"\n",
      "INFO - 2024-07-12T01:53:13Z - Service was not specified, the default one was selected: \"arco-geo-series\"\n",
      "INFO - 2024-07-12T01:53:17Z - Downloading using service arco-geo-series...\n",
      "INFO - 2024-07-12T01:53:23Z - Estimated size of the dataset file is 539.769 MB.\n",
      "INFO - 2024-07-12T01:53:23Z - Writing to local storage. Please wait...\n"
     ]
    },
    {
     "data": {
      "application/vnd.jupyter.widget-view+json": {
       "model_id": "5c6d3a2a790b48109ff067b27dea0671",
       "version_major": 2,
       "version_minor": 0
      },
      "text/plain": [
       "  0%|          | 0/3846 [00:00<?, ?it/s]"
      ]
     },
     "metadata": {},
     "output_type": "display_data"
    },
    {
     "name": "stderr",
     "output_type": "stream",
     "text": [
      "INFO - 2024-07-12T01:54:26Z - Successfully downloaded to /home/jovyan/shared/data/copernicus/cmems_obs-oc_glo_bgc-plankton_my_l4-gapfree-multi-4km_P1D/200208.nc\n",
      "INFO - 2024-07-12T01:54:27Z - Dataset version was not specified, the latest one was selected: \"202311\"\n",
      "INFO - 2024-07-12T01:54:27Z - Dataset part was not specified, the first one was selected: \"default\"\n",
      "INFO - 2024-07-12T01:54:30Z - Service was not specified, the default one was selected: \"arco-geo-series\"\n",
      "INFO - 2024-07-12T01:54:33Z - Downloading using service arco-geo-series...\n",
      "INFO - 2024-07-12T01:54:39Z - Estimated size of the dataset file is 522.357 MB.\n",
      "INFO - 2024-07-12T01:54:39Z - Writing to local storage. Please wait...\n"
     ]
    },
    {
     "data": {
      "application/vnd.jupyter.widget-view+json": {
       "model_id": "83e432888a064bcfb3a41d3ba24545f0",
       "version_major": 2,
       "version_minor": 0
      },
      "text/plain": [
       "  0%|          | 0/3722 [00:00<?, ?it/s]"
      ]
     },
     "metadata": {},
     "output_type": "display_data"
    },
    {
     "name": "stderr",
     "output_type": "stream",
     "text": [
      "INFO - 2024-07-12T01:55:41Z - Successfully downloaded to /home/jovyan/shared/data/copernicus/cmems_obs-oc_glo_bgc-plankton_my_l4-gapfree-multi-4km_P1D/200209.nc\n",
      "INFO - 2024-07-12T01:55:42Z - Dataset version was not specified, the latest one was selected: \"202311\"\n",
      "INFO - 2024-07-12T01:55:42Z - Dataset part was not specified, the first one was selected: \"default\"\n",
      "INFO - 2024-07-12T01:55:45Z - Service was not specified, the default one was selected: \"arco-geo-series\"\n",
      "INFO - 2024-07-12T01:55:48Z - Downloading using service arco-geo-series...\n",
      "INFO - 2024-07-12T01:55:55Z - Estimated size of the dataset file is 539.769 MB.\n",
      "INFO - 2024-07-12T01:55:55Z - Writing to local storage. Please wait...\n"
     ]
    },
    {
     "data": {
      "application/vnd.jupyter.widget-view+json": {
       "model_id": "9b54f9ad873d4259a097f48537e4e263",
       "version_major": 2,
       "version_minor": 0
      },
      "text/plain": [
       "  0%|          | 0/3846 [00:00<?, ?it/s]"
      ]
     },
     "metadata": {},
     "output_type": "display_data"
    },
    {
     "name": "stderr",
     "output_type": "stream",
     "text": [
      "INFO - 2024-07-12T01:56:58Z - Successfully downloaded to /home/jovyan/shared/data/copernicus/cmems_obs-oc_glo_bgc-plankton_my_l4-gapfree-multi-4km_P1D/200210.nc\n",
      "INFO - 2024-07-12T01:56:59Z - Dataset version was not specified, the latest one was selected: \"202311\"\n",
      "INFO - 2024-07-12T01:56:59Z - Dataset part was not specified, the first one was selected: \"default\"\n",
      "INFO - 2024-07-12T01:57:03Z - Service was not specified, the default one was selected: \"arco-geo-series\"\n",
      "INFO - 2024-07-12T01:57:06Z - Downloading using service arco-geo-series...\n",
      "INFO - 2024-07-12T01:57:12Z - Estimated size of the dataset file is 522.357 MB.\n",
      "INFO - 2024-07-12T01:57:12Z - Writing to local storage. Please wait...\n"
     ]
    },
    {
     "data": {
      "application/vnd.jupyter.widget-view+json": {
       "model_id": "4d43bc3fd3814c50820738a649731812",
       "version_major": 2,
       "version_minor": 0
      },
      "text/plain": [
       "  0%|          | 0/3722 [00:00<?, ?it/s]"
      ]
     },
     "metadata": {},
     "output_type": "display_data"
    },
    {
     "name": "stderr",
     "output_type": "stream",
     "text": [
      "INFO - 2024-07-12T01:58:13Z - Successfully downloaded to /home/jovyan/shared/data/copernicus/cmems_obs-oc_glo_bgc-plankton_my_l4-gapfree-multi-4km_P1D/200211.nc\n",
      "INFO - 2024-07-12T01:58:14Z - Dataset version was not specified, the latest one was selected: \"202311\"\n",
      "INFO - 2024-07-12T01:58:14Z - Dataset part was not specified, the first one was selected: \"default\"\n",
      "INFO - 2024-07-12T01:58:17Z - Service was not specified, the default one was selected: \"arco-geo-series\"\n",
      "INFO - 2024-07-12T01:58:20Z - Downloading using service arco-geo-series...\n",
      "INFO - 2024-07-12T01:58:27Z - Estimated size of the dataset file is 539.769 MB.\n",
      "INFO - 2024-07-12T01:58:27Z - Writing to local storage. Please wait...\n"
     ]
    },
    {
     "data": {
      "application/vnd.jupyter.widget-view+json": {
       "model_id": "5d768a799d8c486082f43f461f5e42e0",
       "version_major": 2,
       "version_minor": 0
      },
      "text/plain": [
       "  0%|          | 0/3846 [00:00<?, ?it/s]"
      ]
     },
     "metadata": {},
     "output_type": "display_data"
    },
    {
     "name": "stderr",
     "output_type": "stream",
     "text": [
      "INFO - 2024-07-12T01:59:29Z - Successfully downloaded to /home/jovyan/shared/data/copernicus/cmems_obs-oc_glo_bgc-plankton_my_l4-gapfree-multi-4km_P1D/200212.nc\n",
      "INFO - 2024-07-12T01:59:31Z - Dataset version was not specified, the latest one was selected: \"202311\"\n",
      "INFO - 2024-07-12T01:59:31Z - Dataset part was not specified, the first one was selected: \"default\"\n",
      "INFO - 2024-07-12T01:59:34Z - Service was not specified, the default one was selected: \"arco-geo-series\"\n",
      "INFO - 2024-07-12T01:59:37Z - Downloading using service arco-geo-series...\n",
      "INFO - 2024-07-12T01:59:43Z - Estimated size of the dataset file is 539.769 MB.\n",
      "INFO - 2024-07-12T01:59:43Z - Writing to local storage. Please wait...\n"
     ]
    },
    {
     "data": {
      "application/vnd.jupyter.widget-view+json": {
       "model_id": "1037ad76d1d9485cb6fb9007a8d3e3a1",
       "version_major": 2,
       "version_minor": 0
      },
      "text/plain": [
       "  0%|          | 0/3846 [00:00<?, ?it/s]"
      ]
     },
     "metadata": {},
     "output_type": "display_data"
    },
    {
     "name": "stderr",
     "output_type": "stream",
     "text": [
      "INFO - 2024-07-12T02:00:47Z - Successfully downloaded to /home/jovyan/shared/data/copernicus/cmems_obs-oc_glo_bgc-plankton_my_l4-gapfree-multi-4km_P1D/200301.nc\n",
      "INFO - 2024-07-12T02:00:48Z - Dataset version was not specified, the latest one was selected: \"202311\"\n",
      "INFO - 2024-07-12T02:00:48Z - Dataset part was not specified, the first one was selected: \"default\"\n",
      "INFO - 2024-07-12T02:00:51Z - Service was not specified, the default one was selected: \"arco-geo-series\"\n",
      "INFO - 2024-07-12T02:00:54Z - Downloading using service arco-geo-series...\n",
      "INFO - 2024-07-12T02:01:01Z - Estimated size of the dataset file is 487.533 MB.\n",
      "INFO - 2024-07-12T02:01:01Z - Writing to local storage. Please wait...\n"
     ]
    },
    {
     "data": {
      "application/vnd.jupyter.widget-view+json": {
       "model_id": "d6c2198ca3ca4a53affb4259762c6ca1",
       "version_major": 2,
       "version_minor": 0
      },
      "text/plain": [
       "  0%|          | 0/3474 [00:00<?, ?it/s]"
      ]
     },
     "metadata": {},
     "output_type": "display_data"
    },
    {
     "name": "stderr",
     "output_type": "stream",
     "text": [
      "INFO - 2024-07-12T02:01:58Z - Successfully downloaded to /home/jovyan/shared/data/copernicus/cmems_obs-oc_glo_bgc-plankton_my_l4-gapfree-multi-4km_P1D/200302.nc\n",
      "INFO - 2024-07-12T02:01:59Z - Dataset version was not specified, the latest one was selected: \"202311\"\n",
      "INFO - 2024-07-12T02:01:59Z - Dataset part was not specified, the first one was selected: \"default\"\n",
      "INFO - 2024-07-12T02:02:02Z - Service was not specified, the default one was selected: \"arco-geo-series\"\n",
      "INFO - 2024-07-12T02:02:05Z - Downloading using service arco-geo-series...\n",
      "INFO - 2024-07-12T02:02:11Z - Estimated size of the dataset file is 539.769 MB.\n",
      "INFO - 2024-07-12T02:02:11Z - Writing to local storage. Please wait...\n"
     ]
    },
    {
     "data": {
      "application/vnd.jupyter.widget-view+json": {
       "model_id": "c429c0370e2342a18544d4aa1ad91f60",
       "version_major": 2,
       "version_minor": 0
      },
      "text/plain": [
       "  0%|          | 0/3846 [00:00<?, ?it/s]"
      ]
     },
     "metadata": {},
     "output_type": "display_data"
    },
    {
     "name": "stderr",
     "output_type": "stream",
     "text": [
      "INFO - 2024-07-12T02:03:15Z - Successfully downloaded to /home/jovyan/shared/data/copernicus/cmems_obs-oc_glo_bgc-plankton_my_l4-gapfree-multi-4km_P1D/200303.nc\n",
      "INFO - 2024-07-12T02:03:16Z - Dataset version was not specified, the latest one was selected: \"202311\"\n",
      "INFO - 2024-07-12T02:03:16Z - Dataset part was not specified, the first one was selected: \"default\"\n",
      "INFO - 2024-07-12T02:03:19Z - Service was not specified, the default one was selected: \"arco-geo-series\"\n",
      "INFO - 2024-07-12T02:03:22Z - Downloading using service arco-geo-series...\n",
      "INFO - 2024-07-12T02:03:28Z - Estimated size of the dataset file is 522.357 MB.\n",
      "INFO - 2024-07-12T02:03:28Z - Writing to local storage. Please wait...\n"
     ]
    },
    {
     "data": {
      "application/vnd.jupyter.widget-view+json": {
       "model_id": "6b2f6b0b4aad47afaa2ec54c7750af62",
       "version_major": 2,
       "version_minor": 0
      },
      "text/plain": [
       "  0%|          | 0/3722 [00:00<?, ?it/s]"
      ]
     },
     "metadata": {},
     "output_type": "display_data"
    },
    {
     "name": "stderr",
     "output_type": "stream",
     "text": [
      "INFO - 2024-07-12T02:04:29Z - Successfully downloaded to /home/jovyan/shared/data/copernicus/cmems_obs-oc_glo_bgc-plankton_my_l4-gapfree-multi-4km_P1D/200304.nc\n",
      "INFO - 2024-07-12T02:04:31Z - Dataset version was not specified, the latest one was selected: \"202311\"\n",
      "INFO - 2024-07-12T02:04:31Z - Dataset part was not specified, the first one was selected: \"default\"\n",
      "INFO - 2024-07-12T02:04:34Z - Service was not specified, the default one was selected: \"arco-geo-series\"\n",
      "INFO - 2024-07-12T02:04:37Z - Downloading using service arco-geo-series...\n",
      "INFO - 2024-07-12T02:04:43Z - Estimated size of the dataset file is 539.769 MB.\n",
      "INFO - 2024-07-12T02:04:43Z - Writing to local storage. Please wait...\n"
     ]
    },
    {
     "data": {
      "application/vnd.jupyter.widget-view+json": {
       "model_id": "05e850455b604df2a83545acff9c5409",
       "version_major": 2,
       "version_minor": 0
      },
      "text/plain": [
       "  0%|          | 0/3846 [00:00<?, ?it/s]"
      ]
     },
     "metadata": {},
     "output_type": "display_data"
    },
    {
     "name": "stderr",
     "output_type": "stream",
     "text": [
      "INFO - 2024-07-12T02:05:46Z - Successfully downloaded to /home/jovyan/shared/data/copernicus/cmems_obs-oc_glo_bgc-plankton_my_l4-gapfree-multi-4km_P1D/200305.nc\n",
      "INFO - 2024-07-12T02:05:47Z - Dataset version was not specified, the latest one was selected: \"202311\"\n",
      "INFO - 2024-07-12T02:05:47Z - Dataset part was not specified, the first one was selected: \"default\"\n",
      "INFO - 2024-07-12T02:05:50Z - Service was not specified, the default one was selected: \"arco-geo-series\"\n",
      "INFO - 2024-07-12T02:05:53Z - Downloading using service arco-geo-series...\n",
      "INFO - 2024-07-12T02:06:00Z - Estimated size of the dataset file is 522.357 MB.\n",
      "INFO - 2024-07-12T02:06:00Z - Writing to local storage. Please wait...\n"
     ]
    },
    {
     "data": {
      "application/vnd.jupyter.widget-view+json": {
       "model_id": "8136238ebbd44fc1a8d62166a791467c",
       "version_major": 2,
       "version_minor": 0
      },
      "text/plain": [
       "  0%|          | 0/3722 [00:00<?, ?it/s]"
      ]
     },
     "metadata": {},
     "output_type": "display_data"
    },
    {
     "name": "stderr",
     "output_type": "stream",
     "text": [
      "INFO - 2024-07-12T02:07:01Z - Successfully downloaded to /home/jovyan/shared/data/copernicus/cmems_obs-oc_glo_bgc-plankton_my_l4-gapfree-multi-4km_P1D/200306.nc\n",
      "INFO - 2024-07-12T02:07:02Z - Dataset version was not specified, the latest one was selected: \"202311\"\n",
      "INFO - 2024-07-12T02:07:02Z - Dataset part was not specified, the first one was selected: \"default\"\n",
      "INFO - 2024-07-12T02:07:06Z - Service was not specified, the default one was selected: \"arco-geo-series\"\n",
      "INFO - 2024-07-12T02:07:09Z - Downloading using service arco-geo-series...\n",
      "INFO - 2024-07-12T02:07:15Z - Estimated size of the dataset file is 539.769 MB.\n",
      "INFO - 2024-07-12T02:07:15Z - Writing to local storage. Please wait...\n"
     ]
    },
    {
     "data": {
      "application/vnd.jupyter.widget-view+json": {
       "model_id": "88f5a3e521314f4790742b3da0b14652",
       "version_major": 2,
       "version_minor": 0
      },
      "text/plain": [
       "  0%|          | 0/3846 [00:00<?, ?it/s]"
      ]
     },
     "metadata": {},
     "output_type": "display_data"
    },
    {
     "name": "stderr",
     "output_type": "stream",
     "text": [
      "INFO - 2024-07-12T02:08:18Z - Successfully downloaded to /home/jovyan/shared/data/copernicus/cmems_obs-oc_glo_bgc-plankton_my_l4-gapfree-multi-4km_P1D/200307.nc\n",
      "INFO - 2024-07-12T02:08:19Z - Dataset version was not specified, the latest one was selected: \"202311\"\n",
      "INFO - 2024-07-12T02:08:19Z - Dataset part was not specified, the first one was selected: \"default\"\n",
      "INFO - 2024-07-12T02:08:22Z - Service was not specified, the default one was selected: \"arco-geo-series\"\n",
      "INFO - 2024-07-12T02:08:25Z - Downloading using service arco-geo-series...\n",
      "INFO - 2024-07-12T02:08:32Z - Estimated size of the dataset file is 539.769 MB.\n",
      "INFO - 2024-07-12T02:08:32Z - Writing to local storage. Please wait...\n"
     ]
    },
    {
     "data": {
      "application/vnd.jupyter.widget-view+json": {
       "model_id": "c023d854b6144910a8e5d307488cd398",
       "version_major": 2,
       "version_minor": 0
      },
      "text/plain": [
       "  0%|          | 0/3846 [00:00<?, ?it/s]"
      ]
     },
     "metadata": {},
     "output_type": "display_data"
    },
    {
     "name": "stderr",
     "output_type": "stream",
     "text": [
      "INFO - 2024-07-12T02:09:34Z - Successfully downloaded to /home/jovyan/shared/data/copernicus/cmems_obs-oc_glo_bgc-plankton_my_l4-gapfree-multi-4km_P1D/200308.nc\n",
      "INFO - 2024-07-12T02:09:36Z - Dataset version was not specified, the latest one was selected: \"202311\"\n",
      "INFO - 2024-07-12T02:09:36Z - Dataset part was not specified, the first one was selected: \"default\"\n",
      "INFO - 2024-07-12T02:09:39Z - Service was not specified, the default one was selected: \"arco-geo-series\"\n",
      "INFO - 2024-07-12T02:09:42Z - Downloading using service arco-geo-series...\n",
      "INFO - 2024-07-12T02:09:48Z - Estimated size of the dataset file is 522.357 MB.\n",
      "INFO - 2024-07-12T02:09:48Z - Writing to local storage. Please wait...\n"
     ]
    },
    {
     "data": {
      "application/vnd.jupyter.widget-view+json": {
       "model_id": "e15864b48079488d961e5d639a1b453a",
       "version_major": 2,
       "version_minor": 0
      },
      "text/plain": [
       "  0%|          | 0/3722 [00:00<?, ?it/s]"
      ]
     },
     "metadata": {},
     "output_type": "display_data"
    },
    {
     "name": "stderr",
     "output_type": "stream",
     "text": [
      "INFO - 2024-07-12T02:10:50Z - Successfully downloaded to /home/jovyan/shared/data/copernicus/cmems_obs-oc_glo_bgc-plankton_my_l4-gapfree-multi-4km_P1D/200309.nc\n",
      "INFO - 2024-07-12T02:10:51Z - Dataset version was not specified, the latest one was selected: \"202311\"\n",
      "INFO - 2024-07-12T02:10:51Z - Dataset part was not specified, the first one was selected: \"default\"\n",
      "INFO - 2024-07-12T02:10:54Z - Service was not specified, the default one was selected: \"arco-geo-series\"\n",
      "INFO - 2024-07-12T02:10:57Z - Downloading using service arco-geo-series...\n",
      "INFO - 2024-07-12T02:11:04Z - Estimated size of the dataset file is 539.769 MB.\n",
      "INFO - 2024-07-12T02:11:04Z - Writing to local storage. Please wait...\n"
     ]
    },
    {
     "data": {
      "application/vnd.jupyter.widget-view+json": {
       "model_id": "5169323911cd4c08998191829af46bb1",
       "version_major": 2,
       "version_minor": 0
      },
      "text/plain": [
       "  0%|          | 0/3846 [00:00<?, ?it/s]"
      ]
     },
     "metadata": {},
     "output_type": "display_data"
    },
    {
     "name": "stderr",
     "output_type": "stream",
     "text": [
      "INFO - 2024-07-12T02:12:07Z - Successfully downloaded to /home/jovyan/shared/data/copernicus/cmems_obs-oc_glo_bgc-plankton_my_l4-gapfree-multi-4km_P1D/200310.nc\n",
      "INFO - 2024-07-12T02:12:08Z - Dataset version was not specified, the latest one was selected: \"202311\"\n",
      "INFO - 2024-07-12T02:12:08Z - Dataset part was not specified, the first one was selected: \"default\"\n",
      "INFO - 2024-07-12T02:12:11Z - Service was not specified, the default one was selected: \"arco-geo-series\"\n",
      "INFO - 2024-07-12T02:12:14Z - Downloading using service arco-geo-series...\n",
      "INFO - 2024-07-12T02:12:20Z - Estimated size of the dataset file is 522.357 MB.\n",
      "INFO - 2024-07-12T02:12:20Z - Writing to local storage. Please wait...\n"
     ]
    },
    {
     "data": {
      "application/vnd.jupyter.widget-view+json": {
       "model_id": "d1cf83d34bfe493eb221e402b5c7a8bc",
       "version_major": 2,
       "version_minor": 0
      },
      "text/plain": [
       "  0%|          | 0/3722 [00:00<?, ?it/s]"
      ]
     },
     "metadata": {},
     "output_type": "display_data"
    },
    {
     "name": "stderr",
     "output_type": "stream",
     "text": [
      "INFO - 2024-07-12T02:13:22Z - Successfully downloaded to /home/jovyan/shared/data/copernicus/cmems_obs-oc_glo_bgc-plankton_my_l4-gapfree-multi-4km_P1D/200311.nc\n",
      "INFO - 2024-07-12T02:13:23Z - Dataset version was not specified, the latest one was selected: \"202311\"\n",
      "INFO - 2024-07-12T02:13:23Z - Dataset part was not specified, the first one was selected: \"default\"\n",
      "INFO - 2024-07-12T02:13:26Z - Service was not specified, the default one was selected: \"arco-geo-series\"\n",
      "INFO - 2024-07-12T02:13:29Z - Downloading using service arco-geo-series...\n",
      "INFO - 2024-07-12T02:13:36Z - Estimated size of the dataset file is 539.769 MB.\n",
      "INFO - 2024-07-12T02:13:36Z - Writing to local storage. Please wait...\n"
     ]
    },
    {
     "data": {
      "application/vnd.jupyter.widget-view+json": {
       "model_id": "36706af6bd394dc7ae00b1375d8b6af9",
       "version_major": 2,
       "version_minor": 0
      },
      "text/plain": [
       "  0%|          | 0/3846 [00:00<?, ?it/s]"
      ]
     },
     "metadata": {},
     "output_type": "display_data"
    },
    {
     "name": "stderr",
     "output_type": "stream",
     "text": [
      "INFO - 2024-07-12T02:14:38Z - Successfully downloaded to /home/jovyan/shared/data/copernicus/cmems_obs-oc_glo_bgc-plankton_my_l4-gapfree-multi-4km_P1D/200312.nc\n",
      "INFO - 2024-07-12T02:14:39Z - Dataset version was not specified, the latest one was selected: \"202311\"\n",
      "INFO - 2024-07-12T02:14:39Z - Dataset part was not specified, the first one was selected: \"default\"\n",
      "INFO - 2024-07-12T02:14:42Z - Service was not specified, the default one was selected: \"arco-geo-series\"\n",
      "INFO - 2024-07-12T02:14:45Z - Downloading using service arco-geo-series...\n",
      "INFO - 2024-07-12T02:14:51Z - Estimated size of the dataset file is 539.769 MB.\n",
      "INFO - 2024-07-12T02:14:51Z - Writing to local storage. Please wait...\n"
     ]
    },
    {
     "data": {
      "application/vnd.jupyter.widget-view+json": {
       "model_id": "6bbc546bd303477f850b5e78e1dc3759",
       "version_major": 2,
       "version_minor": 0
      },
      "text/plain": [
       "  0%|          | 0/3846 [00:00<?, ?it/s]"
      ]
     },
     "metadata": {},
     "output_type": "display_data"
    },
    {
     "name": "stderr",
     "output_type": "stream",
     "text": [
      "INFO - 2024-07-12T02:15:56Z - Successfully downloaded to /home/jovyan/shared/data/copernicus/cmems_obs-oc_glo_bgc-plankton_my_l4-gapfree-multi-4km_P1D/200401.nc\n",
      "INFO - 2024-07-12T02:15:57Z - Dataset version was not specified, the latest one was selected: \"202311\"\n",
      "INFO - 2024-07-12T02:15:57Z - Dataset part was not specified, the first one was selected: \"default\"\n",
      "INFO - 2024-07-12T02:16:00Z - Service was not specified, the default one was selected: \"arco-geo-series\"\n",
      "INFO - 2024-07-12T02:16:03Z - Downloading using service arco-geo-series...\n",
      "INFO - 2024-07-12T02:16:09Z - Estimated size of the dataset file is 504.945 MB.\n",
      "INFO - 2024-07-12T02:16:09Z - Writing to local storage. Please wait...\n"
     ]
    },
    {
     "data": {
      "application/vnd.jupyter.widget-view+json": {
       "model_id": "99b3bf5b75ed425290604987bcecf0bd",
       "version_major": 2,
       "version_minor": 0
      },
      "text/plain": [
       "  0%|          | 0/3598 [00:00<?, ?it/s]"
      ]
     },
     "metadata": {},
     "output_type": "display_data"
    },
    {
     "name": "stderr",
     "output_type": "stream",
     "text": [
      "INFO - 2024-07-12T02:17:08Z - Successfully downloaded to /home/jovyan/shared/data/copernicus/cmems_obs-oc_glo_bgc-plankton_my_l4-gapfree-multi-4km_P1D/200402.nc\n",
      "INFO - 2024-07-12T02:17:09Z - Dataset version was not specified, the latest one was selected: \"202311\"\n",
      "INFO - 2024-07-12T02:17:09Z - Dataset part was not specified, the first one was selected: \"default\"\n",
      "INFO - 2024-07-12T02:17:12Z - Service was not specified, the default one was selected: \"arco-geo-series\"\n",
      "INFO - 2024-07-12T02:17:15Z - Downloading using service arco-geo-series...\n",
      "INFO - 2024-07-12T02:17:22Z - Estimated size of the dataset file is 539.769 MB.\n",
      "INFO - 2024-07-12T02:17:22Z - Writing to local storage. Please wait...\n"
     ]
    },
    {
     "data": {
      "application/vnd.jupyter.widget-view+json": {
       "model_id": "486e7e5948c045dcb005075e8b2a82c3",
       "version_major": 2,
       "version_minor": 0
      },
      "text/plain": [
       "  0%|          | 0/3846 [00:00<?, ?it/s]"
      ]
     },
     "metadata": {},
     "output_type": "display_data"
    },
    {
     "name": "stderr",
     "output_type": "stream",
     "text": [
      "INFO - 2024-07-12T02:18:25Z - Successfully downloaded to /home/jovyan/shared/data/copernicus/cmems_obs-oc_glo_bgc-plankton_my_l4-gapfree-multi-4km_P1D/200403.nc\n",
      "INFO - 2024-07-12T02:18:26Z - Dataset version was not specified, the latest one was selected: \"202311\"\n",
      "INFO - 2024-07-12T02:18:26Z - Dataset part was not specified, the first one was selected: \"default\"\n",
      "INFO - 2024-07-12T02:18:29Z - Service was not specified, the default one was selected: \"arco-geo-series\"\n",
      "INFO - 2024-07-12T02:18:32Z - Downloading using service arco-geo-series...\n",
      "INFO - 2024-07-12T02:18:38Z - Estimated size of the dataset file is 522.357 MB.\n",
      "INFO - 2024-07-12T02:18:38Z - Writing to local storage. Please wait...\n"
     ]
    },
    {
     "data": {
      "application/vnd.jupyter.widget-view+json": {
       "model_id": "46df5cf9e18e4e93931c2662c60bdd9e",
       "version_major": 2,
       "version_minor": 0
      },
      "text/plain": [
       "  0%|          | 0/3722 [00:00<?, ?it/s]"
      ]
     },
     "metadata": {},
     "output_type": "display_data"
    },
    {
     "name": "stderr",
     "output_type": "stream",
     "text": [
      "INFO - 2024-07-12T02:19:40Z - Successfully downloaded to /home/jovyan/shared/data/copernicus/cmems_obs-oc_glo_bgc-plankton_my_l4-gapfree-multi-4km_P1D/200404.nc\n",
      "INFO - 2024-07-12T02:19:41Z - Dataset version was not specified, the latest one was selected: \"202311\"\n",
      "INFO - 2024-07-12T02:19:41Z - Dataset part was not specified, the first one was selected: \"default\"\n",
      "INFO - 2024-07-12T02:19:44Z - Service was not specified, the default one was selected: \"arco-geo-series\"\n",
      "INFO - 2024-07-12T02:19:48Z - Downloading using service arco-geo-series...\n",
      "INFO - 2024-07-12T02:19:54Z - Estimated size of the dataset file is 539.769 MB.\n",
      "INFO - 2024-07-12T02:19:54Z - Writing to local storage. Please wait...\n"
     ]
    },
    {
     "data": {
      "application/vnd.jupyter.widget-view+json": {
       "model_id": "732338227eda49d597b3a5e8e1ff1f3c",
       "version_major": 2,
       "version_minor": 0
      },
      "text/plain": [
       "  0%|          | 0/3846 [00:00<?, ?it/s]"
      ]
     },
     "metadata": {},
     "output_type": "display_data"
    },
    {
     "name": "stderr",
     "output_type": "stream",
     "text": [
      "INFO - 2024-07-12T02:20:57Z - Successfully downloaded to /home/jovyan/shared/data/copernicus/cmems_obs-oc_glo_bgc-plankton_my_l4-gapfree-multi-4km_P1D/200405.nc\n",
      "INFO - 2024-07-12T02:20:58Z - Dataset version was not specified, the latest one was selected: \"202311\"\n",
      "INFO - 2024-07-12T02:20:58Z - Dataset part was not specified, the first one was selected: \"default\"\n",
      "INFO - 2024-07-12T02:21:01Z - Service was not specified, the default one was selected: \"arco-geo-series\"\n",
      "INFO - 2024-07-12T02:21:04Z - Downloading using service arco-geo-series...\n",
      "INFO - 2024-07-12T02:21:10Z - Estimated size of the dataset file is 522.357 MB.\n",
      "INFO - 2024-07-12T02:21:10Z - Writing to local storage. Please wait...\n"
     ]
    },
    {
     "data": {
      "application/vnd.jupyter.widget-view+json": {
       "model_id": "5a2e3a67fc6949b29dc5190551c03332",
       "version_major": 2,
       "version_minor": 0
      },
      "text/plain": [
       "  0%|          | 0/3722 [00:00<?, ?it/s]"
      ]
     },
     "metadata": {},
     "output_type": "display_data"
    },
    {
     "name": "stderr",
     "output_type": "stream",
     "text": [
      "INFO - 2024-07-12T02:22:12Z - Successfully downloaded to /home/jovyan/shared/data/copernicus/cmems_obs-oc_glo_bgc-plankton_my_l4-gapfree-multi-4km_P1D/200406.nc\n",
      "INFO - 2024-07-12T02:22:13Z - Dataset version was not specified, the latest one was selected: \"202311\"\n",
      "INFO - 2024-07-12T02:22:13Z - Dataset part was not specified, the first one was selected: \"default\"\n",
      "INFO - 2024-07-12T02:22:16Z - Service was not specified, the default one was selected: \"arco-geo-series\"\n",
      "INFO - 2024-07-12T02:22:19Z - Downloading using service arco-geo-series...\n",
      "INFO - 2024-07-12T02:22:25Z - Estimated size of the dataset file is 539.769 MB.\n",
      "INFO - 2024-07-12T02:22:25Z - Writing to local storage. Please wait...\n"
     ]
    },
    {
     "data": {
      "application/vnd.jupyter.widget-view+json": {
       "model_id": "955f9360ebb044b1a109f9c550a1fb37",
       "version_major": 2,
       "version_minor": 0
      },
      "text/plain": [
       "  0%|          | 0/3846 [00:00<?, ?it/s]"
      ]
     },
     "metadata": {},
     "output_type": "display_data"
    },
    {
     "name": "stderr",
     "output_type": "stream",
     "text": [
      "INFO - 2024-07-12T02:23:28Z - Successfully downloaded to /home/jovyan/shared/data/copernicus/cmems_obs-oc_glo_bgc-plankton_my_l4-gapfree-multi-4km_P1D/200407.nc\n",
      "INFO - 2024-07-12T02:23:30Z - Dataset version was not specified, the latest one was selected: \"202311\"\n",
      "INFO - 2024-07-12T02:23:30Z - Dataset part was not specified, the first one was selected: \"default\"\n",
      "INFO - 2024-07-12T02:23:33Z - Service was not specified, the default one was selected: \"arco-geo-series\"\n",
      "INFO - 2024-07-12T02:23:36Z - Downloading using service arco-geo-series...\n",
      "INFO - 2024-07-12T02:23:42Z - Estimated size of the dataset file is 539.769 MB.\n",
      "INFO - 2024-07-12T02:23:42Z - Writing to local storage. Please wait...\n"
     ]
    },
    {
     "data": {
      "application/vnd.jupyter.widget-view+json": {
       "model_id": "43af12afdba447969b5d64548303d1ca",
       "version_major": 2,
       "version_minor": 0
      },
      "text/plain": [
       "  0%|          | 0/3846 [00:00<?, ?it/s]"
      ]
     },
     "metadata": {},
     "output_type": "display_data"
    },
    {
     "name": "stderr",
     "output_type": "stream",
     "text": [
      "INFO - 2024-07-12T02:24:45Z - Successfully downloaded to /home/jovyan/shared/data/copernicus/cmems_obs-oc_glo_bgc-plankton_my_l4-gapfree-multi-4km_P1D/200408.nc\n",
      "INFO - 2024-07-12T02:24:46Z - Dataset version was not specified, the latest one was selected: \"202311\"\n",
      "INFO - 2024-07-12T02:24:46Z - Dataset part was not specified, the first one was selected: \"default\"\n",
      "INFO - 2024-07-12T02:24:50Z - Service was not specified, the default one was selected: \"arco-geo-series\"\n",
      "INFO - 2024-07-12T02:24:53Z - Downloading using service arco-geo-series...\n",
      "INFO - 2024-07-12T02:24:59Z - Estimated size of the dataset file is 522.357 MB.\n",
      "INFO - 2024-07-12T02:24:59Z - Writing to local storage. Please wait...\n"
     ]
    },
    {
     "data": {
      "application/vnd.jupyter.widget-view+json": {
       "model_id": "661f7c896b5b4c9abb3ab639caa4dbb1",
       "version_major": 2,
       "version_minor": 0
      },
      "text/plain": [
       "  0%|          | 0/3722 [00:00<?, ?it/s]"
      ]
     },
     "metadata": {},
     "output_type": "display_data"
    },
    {
     "name": "stderr",
     "output_type": "stream",
     "text": [
      "INFO - 2024-07-12T02:26:02Z - Successfully downloaded to /home/jovyan/shared/data/copernicus/cmems_obs-oc_glo_bgc-plankton_my_l4-gapfree-multi-4km_P1D/200409.nc\n",
      "INFO - 2024-07-12T02:26:03Z - Dataset version was not specified, the latest one was selected: \"202311\"\n",
      "INFO - 2024-07-12T02:26:03Z - Dataset part was not specified, the first one was selected: \"default\"\n",
      "INFO - 2024-07-12T02:26:07Z - Service was not specified, the default one was selected: \"arco-geo-series\"\n",
      "INFO - 2024-07-12T02:26:10Z - Downloading using service arco-geo-series...\n",
      "INFO - 2024-07-12T02:26:16Z - Estimated size of the dataset file is 539.769 MB.\n",
      "INFO - 2024-07-12T02:26:16Z - Writing to local storage. Please wait...\n"
     ]
    },
    {
     "data": {
      "application/vnd.jupyter.widget-view+json": {
       "model_id": "d6c573c4c6c4457c80bf1b47e8bf2ca8",
       "version_major": 2,
       "version_minor": 0
      },
      "text/plain": [
       "  0%|          | 0/3846 [00:00<?, ?it/s]"
      ]
     },
     "metadata": {},
     "output_type": "display_data"
    },
    {
     "name": "stderr",
     "output_type": "stream",
     "text": [
      "INFO - 2024-07-12T02:27:19Z - Successfully downloaded to /home/jovyan/shared/data/copernicus/cmems_obs-oc_glo_bgc-plankton_my_l4-gapfree-multi-4km_P1D/200410.nc\n",
      "INFO - 2024-07-12T02:27:20Z - Dataset version was not specified, the latest one was selected: \"202311\"\n",
      "INFO - 2024-07-12T02:27:20Z - Dataset part was not specified, the first one was selected: \"default\"\n",
      "INFO - 2024-07-12T02:27:23Z - Service was not specified, the default one was selected: \"arco-geo-series\"\n",
      "INFO - 2024-07-12T02:27:26Z - Downloading using service arco-geo-series...\n",
      "INFO - 2024-07-12T02:27:33Z - Estimated size of the dataset file is 522.357 MB.\n",
      "INFO - 2024-07-12T02:27:33Z - Writing to local storage. Please wait...\n"
     ]
    },
    {
     "data": {
      "application/vnd.jupyter.widget-view+json": {
       "model_id": "80ba89c1cdeb4521b45fbc4b958d9b21",
       "version_major": 2,
       "version_minor": 0
      },
      "text/plain": [
       "  0%|          | 0/3722 [00:00<?, ?it/s]"
      ]
     },
     "metadata": {},
     "output_type": "display_data"
    },
    {
     "name": "stderr",
     "output_type": "stream",
     "text": [
      "INFO - 2024-07-12T02:28:33Z - Successfully downloaded to /home/jovyan/shared/data/copernicus/cmems_obs-oc_glo_bgc-plankton_my_l4-gapfree-multi-4km_P1D/200411.nc\n",
      "INFO - 2024-07-12T02:28:35Z - Dataset version was not specified, the latest one was selected: \"202311\"\n",
      "INFO - 2024-07-12T02:28:35Z - Dataset part was not specified, the first one was selected: \"default\"\n",
      "INFO - 2024-07-12T02:28:38Z - Service was not specified, the default one was selected: \"arco-geo-series\"\n",
      "INFO - 2024-07-12T02:28:41Z - Downloading using service arco-geo-series...\n",
      "INFO - 2024-07-12T02:28:47Z - Estimated size of the dataset file is 539.769 MB.\n",
      "INFO - 2024-07-12T02:28:47Z - Writing to local storage. Please wait...\n"
     ]
    },
    {
     "data": {
      "application/vnd.jupyter.widget-view+json": {
       "model_id": "7f6f37e583574fe983038cea0a7ff5d4",
       "version_major": 2,
       "version_minor": 0
      },
      "text/plain": [
       "  0%|          | 0/3846 [00:00<?, ?it/s]"
      ]
     },
     "metadata": {},
     "output_type": "display_data"
    },
    {
     "name": "stderr",
     "output_type": "stream",
     "text": [
      "INFO - 2024-07-12T02:29:50Z - Successfully downloaded to /home/jovyan/shared/data/copernicus/cmems_obs-oc_glo_bgc-plankton_my_l4-gapfree-multi-4km_P1D/200412.nc\n",
      "INFO - 2024-07-12T02:29:51Z - Dataset version was not specified, the latest one was selected: \"202311\"\n",
      "INFO - 2024-07-12T02:29:51Z - Dataset part was not specified, the first one was selected: \"default\"\n",
      "INFO - 2024-07-12T02:29:55Z - Service was not specified, the default one was selected: \"arco-geo-series\"\n",
      "INFO - 2024-07-12T02:29:58Z - Downloading using service arco-geo-series...\n",
      "INFO - 2024-07-12T02:30:04Z - Estimated size of the dataset file is 539.769 MB.\n",
      "INFO - 2024-07-12T02:30:04Z - Writing to local storage. Please wait...\n"
     ]
    },
    {
     "data": {
      "application/vnd.jupyter.widget-view+json": {
       "model_id": "7f5f4cf632fd488fb7b956f60899e44f",
       "version_major": 2,
       "version_minor": 0
      },
      "text/plain": [
       "  0%|          | 0/3846 [00:00<?, ?it/s]"
      ]
     },
     "metadata": {},
     "output_type": "display_data"
    },
    {
     "name": "stderr",
     "output_type": "stream",
     "text": [
      "INFO - 2024-07-12T02:31:07Z - Successfully downloaded to /home/jovyan/shared/data/copernicus/cmems_obs-oc_glo_bgc-plankton_my_l4-gapfree-multi-4km_P1D/200501.nc\n",
      "INFO - 2024-07-12T02:31:08Z - Dataset version was not specified, the latest one was selected: \"202311\"\n",
      "INFO - 2024-07-12T02:31:08Z - Dataset part was not specified, the first one was selected: \"default\"\n",
      "INFO - 2024-07-12T02:31:11Z - Service was not specified, the default one was selected: \"arco-geo-series\"\n",
      "INFO - 2024-07-12T02:31:14Z - Downloading using service arco-geo-series...\n",
      "INFO - 2024-07-12T02:31:21Z - Estimated size of the dataset file is 487.533 MB.\n",
      "INFO - 2024-07-12T02:31:21Z - Writing to local storage. Please wait...\n"
     ]
    },
    {
     "data": {
      "application/vnd.jupyter.widget-view+json": {
       "model_id": "f14d25a1182847f29d7ae10994364dcf",
       "version_major": 2,
       "version_minor": 0
      },
      "text/plain": [
       "  0%|          | 0/3474 [00:00<?, ?it/s]"
      ]
     },
     "metadata": {},
     "output_type": "display_data"
    },
    {
     "name": "stderr",
     "output_type": "stream",
     "text": [
      "INFO - 2024-07-12T02:32:18Z - Successfully downloaded to /home/jovyan/shared/data/copernicus/cmems_obs-oc_glo_bgc-plankton_my_l4-gapfree-multi-4km_P1D/200502.nc\n",
      "INFO - 2024-07-12T02:32:20Z - Dataset version was not specified, the latest one was selected: \"202311\"\n",
      "INFO - 2024-07-12T02:32:20Z - Dataset part was not specified, the first one was selected: \"default\"\n",
      "INFO - 2024-07-12T02:32:23Z - Service was not specified, the default one was selected: \"arco-geo-series\"\n",
      "INFO - 2024-07-12T02:32:26Z - Downloading using service arco-geo-series...\n",
      "INFO - 2024-07-12T02:32:32Z - Estimated size of the dataset file is 539.769 MB.\n",
      "INFO - 2024-07-12T02:32:32Z - Writing to local storage. Please wait...\n"
     ]
    },
    {
     "data": {
      "application/vnd.jupyter.widget-view+json": {
       "model_id": "1ded4e952cc243fdbc2cbf003d4f9dbc",
       "version_major": 2,
       "version_minor": 0
      },
      "text/plain": [
       "  0%|          | 0/3846 [00:00<?, ?it/s]"
      ]
     },
     "metadata": {},
     "output_type": "display_data"
    },
    {
     "name": "stderr",
     "output_type": "stream",
     "text": [
      "INFO - 2024-07-12T02:33:35Z - Successfully downloaded to /home/jovyan/shared/data/copernicus/cmems_obs-oc_glo_bgc-plankton_my_l4-gapfree-multi-4km_P1D/200503.nc\n",
      "INFO - 2024-07-12T02:33:36Z - Dataset version was not specified, the latest one was selected: \"202311\"\n",
      "INFO - 2024-07-12T02:33:36Z - Dataset part was not specified, the first one was selected: \"default\"\n",
      "INFO - 2024-07-12T02:33:39Z - Service was not specified, the default one was selected: \"arco-geo-series\"\n",
      "INFO - 2024-07-12T02:33:42Z - Downloading using service arco-geo-series...\n",
      "INFO - 2024-07-12T02:33:48Z - Estimated size of the dataset file is 522.357 MB.\n",
      "INFO - 2024-07-12T02:33:48Z - Writing to local storage. Please wait...\n"
     ]
    },
    {
     "data": {
      "application/vnd.jupyter.widget-view+json": {
       "model_id": "5adf4e120d9b410b8078b6cc49029a59",
       "version_major": 2,
       "version_minor": 0
      },
      "text/plain": [
       "  0%|          | 0/3722 [00:00<?, ?it/s]"
      ]
     },
     "metadata": {},
     "output_type": "display_data"
    },
    {
     "name": "stderr",
     "output_type": "stream",
     "text": [
      "INFO - 2024-07-12T02:34:50Z - Successfully downloaded to /home/jovyan/shared/data/copernicus/cmems_obs-oc_glo_bgc-plankton_my_l4-gapfree-multi-4km_P1D/200504.nc\n",
      "INFO - 2024-07-12T02:34:51Z - Dataset version was not specified, the latest one was selected: \"202311\"\n",
      "INFO - 2024-07-12T02:34:51Z - Dataset part was not specified, the first one was selected: \"default\"\n",
      "INFO - 2024-07-12T02:34:54Z - Service was not specified, the default one was selected: \"arco-geo-series\"\n",
      "INFO - 2024-07-12T02:34:57Z - Downloading using service arco-geo-series...\n",
      "INFO - 2024-07-12T02:35:03Z - Estimated size of the dataset file is 539.769 MB.\n",
      "INFO - 2024-07-12T02:35:03Z - Writing to local storage. Please wait...\n"
     ]
    },
    {
     "data": {
      "application/vnd.jupyter.widget-view+json": {
       "model_id": "123d90bb0a284f3ba9558eda9e7d5d7d",
       "version_major": 2,
       "version_minor": 0
      },
      "text/plain": [
       "  0%|          | 0/3846 [00:00<?, ?it/s]"
      ]
     },
     "metadata": {},
     "output_type": "display_data"
    },
    {
     "name": "stderr",
     "output_type": "stream",
     "text": [
      "INFO - 2024-07-12T02:36:06Z - Successfully downloaded to /home/jovyan/shared/data/copernicus/cmems_obs-oc_glo_bgc-plankton_my_l4-gapfree-multi-4km_P1D/200505.nc\n",
      "INFO - 2024-07-12T02:36:07Z - Dataset version was not specified, the latest one was selected: \"202311\"\n",
      "INFO - 2024-07-12T02:36:07Z - Dataset part was not specified, the first one was selected: \"default\"\n",
      "INFO - 2024-07-12T02:36:11Z - Service was not specified, the default one was selected: \"arco-geo-series\"\n",
      "INFO - 2024-07-12T02:36:14Z - Downloading using service arco-geo-series...\n",
      "INFO - 2024-07-12T02:36:20Z - Estimated size of the dataset file is 522.357 MB.\n",
      "INFO - 2024-07-12T02:36:20Z - Writing to local storage. Please wait...\n"
     ]
    },
    {
     "data": {
      "application/vnd.jupyter.widget-view+json": {
       "model_id": "a49eb90b70a1428ab31b6fa2d8d98aee",
       "version_major": 2,
       "version_minor": 0
      },
      "text/plain": [
       "  0%|          | 0/3722 [00:00<?, ?it/s]"
      ]
     },
     "metadata": {},
     "output_type": "display_data"
    },
    {
     "name": "stderr",
     "output_type": "stream",
     "text": [
      "INFO - 2024-07-12T02:37:22Z - Successfully downloaded to /home/jovyan/shared/data/copernicus/cmems_obs-oc_glo_bgc-plankton_my_l4-gapfree-multi-4km_P1D/200506.nc\n",
      "INFO - 2024-07-12T02:37:23Z - Dataset version was not specified, the latest one was selected: \"202311\"\n",
      "INFO - 2024-07-12T02:37:23Z - Dataset part was not specified, the first one was selected: \"default\"\n",
      "INFO - 2024-07-12T02:37:26Z - Service was not specified, the default one was selected: \"arco-geo-series\"\n",
      "INFO - 2024-07-12T02:37:29Z - Downloading using service arco-geo-series...\n",
      "INFO - 2024-07-12T02:37:35Z - Estimated size of the dataset file is 539.769 MB.\n",
      "INFO - 2024-07-12T02:37:35Z - Writing to local storage. Please wait...\n"
     ]
    },
    {
     "data": {
      "application/vnd.jupyter.widget-view+json": {
       "model_id": "3fc5711527e041ddadef5a9466a098e3",
       "version_major": 2,
       "version_minor": 0
      },
      "text/plain": [
       "  0%|          | 0/3846 [00:00<?, ?it/s]"
      ]
     },
     "metadata": {},
     "output_type": "display_data"
    },
    {
     "name": "stderr",
     "output_type": "stream",
     "text": [
      "INFO - 2024-07-12T02:38:38Z - Successfully downloaded to /home/jovyan/shared/data/copernicus/cmems_obs-oc_glo_bgc-plankton_my_l4-gapfree-multi-4km_P1D/200507.nc\n",
      "INFO - 2024-07-12T02:38:39Z - Dataset version was not specified, the latest one was selected: \"202311\"\n",
      "INFO - 2024-07-12T02:38:39Z - Dataset part was not specified, the first one was selected: \"default\"\n",
      "INFO - 2024-07-12T02:38:42Z - Service was not specified, the default one was selected: \"arco-geo-series\"\n",
      "INFO - 2024-07-12T02:38:45Z - Downloading using service arco-geo-series...\n",
      "INFO - 2024-07-12T02:38:52Z - Estimated size of the dataset file is 539.769 MB.\n",
      "INFO - 2024-07-12T02:38:52Z - Writing to local storage. Please wait...\n"
     ]
    },
    {
     "data": {
      "application/vnd.jupyter.widget-view+json": {
       "model_id": "79696f0eb7e64399b1d1d76a7239804d",
       "version_major": 2,
       "version_minor": 0
      },
      "text/plain": [
       "  0%|          | 0/3846 [00:00<?, ?it/s]"
      ]
     },
     "metadata": {},
     "output_type": "display_data"
    },
    {
     "name": "stderr",
     "output_type": "stream",
     "text": [
      "INFO - 2024-07-12T02:39:55Z - Successfully downloaded to /home/jovyan/shared/data/copernicus/cmems_obs-oc_glo_bgc-plankton_my_l4-gapfree-multi-4km_P1D/200508.nc\n",
      "INFO - 2024-07-12T02:39:56Z - Dataset version was not specified, the latest one was selected: \"202311\"\n",
      "INFO - 2024-07-12T02:39:56Z - Dataset part was not specified, the first one was selected: \"default\"\n",
      "INFO - 2024-07-12T02:39:59Z - Service was not specified, the default one was selected: \"arco-geo-series\"\n",
      "INFO - 2024-07-12T02:40:02Z - Downloading using service arco-geo-series...\n",
      "INFO - 2024-07-12T02:40:09Z - Estimated size of the dataset file is 522.357 MB.\n",
      "INFO - 2024-07-12T02:40:09Z - Writing to local storage. Please wait...\n"
     ]
    },
    {
     "data": {
      "application/vnd.jupyter.widget-view+json": {
       "model_id": "b219ae20175c4ec2ae04b1a9e9ae2b18",
       "version_major": 2,
       "version_minor": 0
      },
      "text/plain": [
       "  0%|          | 0/3722 [00:00<?, ?it/s]"
      ]
     },
     "metadata": {},
     "output_type": "display_data"
    },
    {
     "name": "stderr",
     "output_type": "stream",
     "text": [
      "INFO - 2024-07-12T02:41:10Z - Successfully downloaded to /home/jovyan/shared/data/copernicus/cmems_obs-oc_glo_bgc-plankton_my_l4-gapfree-multi-4km_P1D/200509.nc\n",
      "INFO - 2024-07-12T02:41:11Z - Dataset version was not specified, the latest one was selected: \"202311\"\n",
      "INFO - 2024-07-12T02:41:11Z - Dataset part was not specified, the first one was selected: \"default\"\n",
      "INFO - 2024-07-12T02:41:14Z - Service was not specified, the default one was selected: \"arco-geo-series\"\n",
      "INFO - 2024-07-12T02:41:17Z - Downloading using service arco-geo-series...\n",
      "INFO - 2024-07-12T02:41:23Z - Estimated size of the dataset file is 539.769 MB.\n",
      "INFO - 2024-07-12T02:41:23Z - Writing to local storage. Please wait...\n"
     ]
    },
    {
     "data": {
      "application/vnd.jupyter.widget-view+json": {
       "model_id": "dec4616648f5466eb6c899a35d694bf4",
       "version_major": 2,
       "version_minor": 0
      },
      "text/plain": [
       "  0%|          | 0/3846 [00:00<?, ?it/s]"
      ]
     },
     "metadata": {},
     "output_type": "display_data"
    },
    {
     "name": "stderr",
     "output_type": "stream",
     "text": [
      "INFO - 2024-07-12T02:42:26Z - Successfully downloaded to /home/jovyan/shared/data/copernicus/cmems_obs-oc_glo_bgc-plankton_my_l4-gapfree-multi-4km_P1D/200510.nc\n",
      "INFO - 2024-07-12T02:42:27Z - Dataset version was not specified, the latest one was selected: \"202311\"\n",
      "INFO - 2024-07-12T02:42:27Z - Dataset part was not specified, the first one was selected: \"default\"\n",
      "INFO - 2024-07-12T02:42:30Z - Service was not specified, the default one was selected: \"arco-geo-series\"\n",
      "INFO - 2024-07-12T02:42:33Z - Downloading using service arco-geo-series...\n",
      "INFO - 2024-07-12T02:42:40Z - Estimated size of the dataset file is 522.357 MB.\n",
      "INFO - 2024-07-12T02:42:40Z - Writing to local storage. Please wait...\n"
     ]
    },
    {
     "data": {
      "application/vnd.jupyter.widget-view+json": {
       "model_id": "a61367d537a446b7bf2a89756b02178f",
       "version_major": 2,
       "version_minor": 0
      },
      "text/plain": [
       "  0%|          | 0/3722 [00:00<?, ?it/s]"
      ]
     },
     "metadata": {},
     "output_type": "display_data"
    },
    {
     "name": "stderr",
     "output_type": "stream",
     "text": [
      "INFO - 2024-07-12T02:43:42Z - Successfully downloaded to /home/jovyan/shared/data/copernicus/cmems_obs-oc_glo_bgc-plankton_my_l4-gapfree-multi-4km_P1D/200511.nc\n",
      "INFO - 2024-07-12T02:43:42Z - Dataset version was not specified, the latest one was selected: \"202311\"\n",
      "INFO - 2024-07-12T02:43:42Z - Dataset part was not specified, the first one was selected: \"default\"\n",
      "INFO - 2024-07-12T02:43:45Z - Service was not specified, the default one was selected: \"arco-geo-series\"\n",
      "INFO - 2024-07-12T02:43:48Z - Downloading using service arco-geo-series...\n",
      "INFO - 2024-07-12T02:43:55Z - Estimated size of the dataset file is 539.769 MB.\n",
      "INFO - 2024-07-12T02:43:55Z - Writing to local storage. Please wait...\n"
     ]
    },
    {
     "data": {
      "application/vnd.jupyter.widget-view+json": {
       "model_id": "8f437bc5af7e49ccb38797dc0d89d424",
       "version_major": 2,
       "version_minor": 0
      },
      "text/plain": [
       "  0%|          | 0/3846 [00:00<?, ?it/s]"
      ]
     },
     "metadata": {},
     "output_type": "display_data"
    },
    {
     "name": "stderr",
     "output_type": "stream",
     "text": [
      "INFO - 2024-07-12T02:44:58Z - Successfully downloaded to /home/jovyan/shared/data/copernicus/cmems_obs-oc_glo_bgc-plankton_my_l4-gapfree-multi-4km_P1D/200512.nc\n",
      "INFO - 2024-07-12T02:44:59Z - Dataset version was not specified, the latest one was selected: \"202311\"\n",
      "INFO - 2024-07-12T02:44:59Z - Dataset part was not specified, the first one was selected: \"default\"\n",
      "INFO - 2024-07-12T02:45:02Z - Service was not specified, the default one was selected: \"arco-geo-series\"\n",
      "INFO - 2024-07-12T02:45:05Z - Downloading using service arco-geo-series...\n",
      "INFO - 2024-07-12T02:45:11Z - Estimated size of the dataset file is 539.769 MB.\n",
      "INFO - 2024-07-12T02:45:11Z - Writing to local storage. Please wait...\n"
     ]
    },
    {
     "data": {
      "application/vnd.jupyter.widget-view+json": {
       "model_id": "c06fd062ee7c451b8f782e4ae784abe6",
       "version_major": 2,
       "version_minor": 0
      },
      "text/plain": [
       "  0%|          | 0/3846 [00:00<?, ?it/s]"
      ]
     },
     "metadata": {},
     "output_type": "display_data"
    },
    {
     "name": "stderr",
     "output_type": "stream",
     "text": [
      "INFO - 2024-07-12T02:46:14Z - Successfully downloaded to /home/jovyan/shared/data/copernicus/cmems_obs-oc_glo_bgc-plankton_my_l4-gapfree-multi-4km_P1D/200601.nc\n",
      "INFO - 2024-07-12T02:46:15Z - Dataset version was not specified, the latest one was selected: \"202311\"\n",
      "INFO - 2024-07-12T02:46:15Z - Dataset part was not specified, the first one was selected: \"default\"\n",
      "INFO - 2024-07-12T02:46:18Z - Service was not specified, the default one was selected: \"arco-geo-series\"\n",
      "INFO - 2024-07-12T02:46:21Z - Downloading using service arco-geo-series...\n",
      "INFO - 2024-07-12T02:46:28Z - Estimated size of the dataset file is 487.533 MB.\n",
      "INFO - 2024-07-12T02:46:28Z - Writing to local storage. Please wait...\n"
     ]
    },
    {
     "data": {
      "application/vnd.jupyter.widget-view+json": {
       "model_id": "fdac517f108c45cfa5df1ca2c5ce0549",
       "version_major": 2,
       "version_minor": 0
      },
      "text/plain": [
       "  0%|          | 0/3474 [00:00<?, ?it/s]"
      ]
     },
     "metadata": {},
     "output_type": "display_data"
    },
    {
     "name": "stderr",
     "output_type": "stream",
     "text": [
      "INFO - 2024-07-12T02:47:26Z - Successfully downloaded to /home/jovyan/shared/data/copernicus/cmems_obs-oc_glo_bgc-plankton_my_l4-gapfree-multi-4km_P1D/200602.nc\n",
      "INFO - 2024-07-12T02:47:27Z - Dataset version was not specified, the latest one was selected: \"202311\"\n",
      "INFO - 2024-07-12T02:47:27Z - Dataset part was not specified, the first one was selected: \"default\"\n",
      "INFO - 2024-07-12T02:47:30Z - Service was not specified, the default one was selected: \"arco-geo-series\"\n",
      "INFO - 2024-07-12T02:47:33Z - Downloading using service arco-geo-series...\n",
      "INFO - 2024-07-12T02:47:40Z - Estimated size of the dataset file is 539.769 MB.\n",
      "INFO - 2024-07-12T02:47:40Z - Writing to local storage. Please wait...\n"
     ]
    },
    {
     "data": {
      "application/vnd.jupyter.widget-view+json": {
       "model_id": "253557c3b8ba47d58f191cb7b299784c",
       "version_major": 2,
       "version_minor": 0
      },
      "text/plain": [
       "  0%|          | 0/3846 [00:00<?, ?it/s]"
      ]
     },
     "metadata": {},
     "output_type": "display_data"
    },
    {
     "name": "stderr",
     "output_type": "stream",
     "text": [
      "INFO - 2024-07-12T02:48:43Z - Successfully downloaded to /home/jovyan/shared/data/copernicus/cmems_obs-oc_glo_bgc-plankton_my_l4-gapfree-multi-4km_P1D/200603.nc\n",
      "INFO - 2024-07-12T02:48:44Z - Dataset version was not specified, the latest one was selected: \"202311\"\n",
      "INFO - 2024-07-12T02:48:44Z - Dataset part was not specified, the first one was selected: \"default\"\n",
      "INFO - 2024-07-12T02:48:47Z - Service was not specified, the default one was selected: \"arco-geo-series\"\n",
      "INFO - 2024-07-12T02:48:50Z - Downloading using service arco-geo-series...\n",
      "INFO - 2024-07-12T02:48:56Z - Estimated size of the dataset file is 522.357 MB.\n",
      "INFO - 2024-07-12T02:48:56Z - Writing to local storage. Please wait...\n"
     ]
    },
    {
     "data": {
      "application/vnd.jupyter.widget-view+json": {
       "model_id": "a8f48fa436a0462dab4b478f91d3b56a",
       "version_major": 2,
       "version_minor": 0
      },
      "text/plain": [
       "  0%|          | 0/3722 [00:00<?, ?it/s]"
      ]
     },
     "metadata": {},
     "output_type": "display_data"
    },
    {
     "name": "stderr",
     "output_type": "stream",
     "text": [
      "INFO - 2024-07-12T02:49:58Z - Successfully downloaded to /home/jovyan/shared/data/copernicus/cmems_obs-oc_glo_bgc-plankton_my_l4-gapfree-multi-4km_P1D/200604.nc\n",
      "INFO - 2024-07-12T02:49:59Z - Dataset version was not specified, the latest one was selected: \"202311\"\n",
      "INFO - 2024-07-12T02:49:59Z - Dataset part was not specified, the first one was selected: \"default\"\n",
      "INFO - 2024-07-12T02:50:02Z - Service was not specified, the default one was selected: \"arco-geo-series\"\n",
      "INFO - 2024-07-12T02:50:05Z - Downloading using service arco-geo-series...\n",
      "INFO - 2024-07-12T02:50:12Z - Estimated size of the dataset file is 539.769 MB.\n",
      "INFO - 2024-07-12T02:50:12Z - Writing to local storage. Please wait...\n"
     ]
    },
    {
     "data": {
      "application/vnd.jupyter.widget-view+json": {
       "model_id": "056d238c7c584a66a4860cf34af7f6aa",
       "version_major": 2,
       "version_minor": 0
      },
      "text/plain": [
       "  0%|          | 0/3846 [00:00<?, ?it/s]"
      ]
     },
     "metadata": {},
     "output_type": "display_data"
    },
    {
     "name": "stderr",
     "output_type": "stream",
     "text": [
      "INFO - 2024-07-12T02:51:14Z - Successfully downloaded to /home/jovyan/shared/data/copernicus/cmems_obs-oc_glo_bgc-plankton_my_l4-gapfree-multi-4km_P1D/200605.nc\n",
      "INFO - 2024-07-12T02:51:16Z - Dataset version was not specified, the latest one was selected: \"202311\"\n",
      "INFO - 2024-07-12T02:51:16Z - Dataset part was not specified, the first one was selected: \"default\"\n",
      "INFO - 2024-07-12T02:51:19Z - Service was not specified, the default one was selected: \"arco-geo-series\"\n",
      "INFO - 2024-07-12T02:51:22Z - Downloading using service arco-geo-series...\n",
      "INFO - 2024-07-12T02:51:28Z - Estimated size of the dataset file is 522.357 MB.\n",
      "INFO - 2024-07-12T02:51:28Z - Writing to local storage. Please wait...\n"
     ]
    },
    {
     "data": {
      "application/vnd.jupyter.widget-view+json": {
       "model_id": "248f69ebb49741b193acc399771bb994",
       "version_major": 2,
       "version_minor": 0
      },
      "text/plain": [
       "  0%|          | 0/3722 [00:00<?, ?it/s]"
      ]
     },
     "metadata": {},
     "output_type": "display_data"
    },
    {
     "name": "stderr",
     "output_type": "stream",
     "text": [
      "INFO - 2024-07-12T02:52:30Z - Successfully downloaded to /home/jovyan/shared/data/copernicus/cmems_obs-oc_glo_bgc-plankton_my_l4-gapfree-multi-4km_P1D/200606.nc\n",
      "INFO - 2024-07-12T02:52:31Z - Dataset version was not specified, the latest one was selected: \"202311\"\n",
      "INFO - 2024-07-12T02:52:31Z - Dataset part was not specified, the first one was selected: \"default\"\n",
      "INFO - 2024-07-12T02:52:34Z - Service was not specified, the default one was selected: \"arco-geo-series\"\n",
      "INFO - 2024-07-12T02:52:37Z - Downloading using service arco-geo-series...\n",
      "INFO - 2024-07-12T02:52:43Z - Estimated size of the dataset file is 539.769 MB.\n",
      "INFO - 2024-07-12T02:52:43Z - Writing to local storage. Please wait...\n"
     ]
    },
    {
     "data": {
      "application/vnd.jupyter.widget-view+json": {
       "model_id": "da4b9a81ff814ed78b22901aefd04f73",
       "version_major": 2,
       "version_minor": 0
      },
      "text/plain": [
       "  0%|          | 0/3846 [00:00<?, ?it/s]"
      ]
     },
     "metadata": {},
     "output_type": "display_data"
    },
    {
     "name": "stderr",
     "output_type": "stream",
     "text": [
      "INFO - 2024-07-12T02:53:46Z - Successfully downloaded to /home/jovyan/shared/data/copernicus/cmems_obs-oc_glo_bgc-plankton_my_l4-gapfree-multi-4km_P1D/200607.nc\n",
      "INFO - 2024-07-12T02:53:48Z - Dataset version was not specified, the latest one was selected: \"202311\"\n",
      "INFO - 2024-07-12T02:53:48Z - Dataset part was not specified, the first one was selected: \"default\"\n",
      "INFO - 2024-07-12T02:53:51Z - Service was not specified, the default one was selected: \"arco-geo-series\"\n",
      "INFO - 2024-07-12T02:53:54Z - Downloading using service arco-geo-series...\n",
      "INFO - 2024-07-12T02:54:01Z - Estimated size of the dataset file is 539.769 MB.\n",
      "INFO - 2024-07-12T02:54:01Z - Writing to local storage. Please wait...\n"
     ]
    },
    {
     "data": {
      "application/vnd.jupyter.widget-view+json": {
       "model_id": "a03956ddd30c4121bb228c8f3d93565b",
       "version_major": 2,
       "version_minor": 0
      },
      "text/plain": [
       "  0%|          | 0/3846 [00:00<?, ?it/s]"
      ]
     },
     "metadata": {},
     "output_type": "display_data"
    },
    {
     "name": "stderr",
     "output_type": "stream",
     "text": [
      "INFO - 2024-07-12T02:55:04Z - Successfully downloaded to /home/jovyan/shared/data/copernicus/cmems_obs-oc_glo_bgc-plankton_my_l4-gapfree-multi-4km_P1D/200608.nc\n",
      "INFO - 2024-07-12T02:55:05Z - Dataset version was not specified, the latest one was selected: \"202311\"\n",
      "INFO - 2024-07-12T02:55:05Z - Dataset part was not specified, the first one was selected: \"default\"\n",
      "INFO - 2024-07-12T02:55:08Z - Service was not specified, the default one was selected: \"arco-geo-series\"\n",
      "INFO - 2024-07-12T02:55:11Z - Downloading using service arco-geo-series...\n",
      "INFO - 2024-07-12T02:55:18Z - Estimated size of the dataset file is 522.357 MB.\n",
      "INFO - 2024-07-12T02:55:18Z - Writing to local storage. Please wait...\n"
     ]
    },
    {
     "data": {
      "application/vnd.jupyter.widget-view+json": {
       "model_id": "d6ad1631d42642b0b4f601697d731860",
       "version_major": 2,
       "version_minor": 0
      },
      "text/plain": [
       "  0%|          | 0/3722 [00:00<?, ?it/s]"
      ]
     },
     "metadata": {},
     "output_type": "display_data"
    },
    {
     "name": "stderr",
     "output_type": "stream",
     "text": [
      "INFO - 2024-07-12T02:56:19Z - Successfully downloaded to /home/jovyan/shared/data/copernicus/cmems_obs-oc_glo_bgc-plankton_my_l4-gapfree-multi-4km_P1D/200609.nc\n",
      "INFO - 2024-07-12T02:56:20Z - Dataset version was not specified, the latest one was selected: \"202311\"\n",
      "INFO - 2024-07-12T02:56:20Z - Dataset part was not specified, the first one was selected: \"default\"\n",
      "INFO - 2024-07-12T02:56:23Z - Service was not specified, the default one was selected: \"arco-geo-series\"\n",
      "INFO - 2024-07-12T02:56:26Z - Downloading using service arco-geo-series...\n",
      "INFO - 2024-07-12T02:56:32Z - Estimated size of the dataset file is 539.769 MB.\n",
      "INFO - 2024-07-12T02:56:32Z - Writing to local storage. Please wait...\n"
     ]
    },
    {
     "data": {
      "application/vnd.jupyter.widget-view+json": {
       "model_id": "595099b2f82b4268bf3d32bf3fe53ac7",
       "version_major": 2,
       "version_minor": 0
      },
      "text/plain": [
       "  0%|          | 0/3846 [00:00<?, ?it/s]"
      ]
     },
     "metadata": {},
     "output_type": "display_data"
    },
    {
     "name": "stderr",
     "output_type": "stream",
     "text": [
      "INFO - 2024-07-12T02:57:36Z - Successfully downloaded to /home/jovyan/shared/data/copernicus/cmems_obs-oc_glo_bgc-plankton_my_l4-gapfree-multi-4km_P1D/200610.nc\n",
      "INFO - 2024-07-12T02:57:37Z - Dataset version was not specified, the latest one was selected: \"202311\"\n",
      "INFO - 2024-07-12T02:57:37Z - Dataset part was not specified, the first one was selected: \"default\"\n",
      "INFO - 2024-07-12T02:57:41Z - Service was not specified, the default one was selected: \"arco-geo-series\"\n",
      "INFO - 2024-07-12T02:57:44Z - Downloading using service arco-geo-series...\n",
      "INFO - 2024-07-12T02:57:50Z - Estimated size of the dataset file is 522.357 MB.\n",
      "INFO - 2024-07-12T02:57:50Z - Writing to local storage. Please wait...\n"
     ]
    },
    {
     "data": {
      "application/vnd.jupyter.widget-view+json": {
       "model_id": "bdd76f03992b4a44b0246714f9a4fae1",
       "version_major": 2,
       "version_minor": 0
      },
      "text/plain": [
       "  0%|          | 0/3722 [00:00<?, ?it/s]"
      ]
     },
     "metadata": {},
     "output_type": "display_data"
    },
    {
     "name": "stderr",
     "output_type": "stream",
     "text": [
      "INFO - 2024-07-12T02:58:52Z - Successfully downloaded to /home/jovyan/shared/data/copernicus/cmems_obs-oc_glo_bgc-plankton_my_l4-gapfree-multi-4km_P1D/200611.nc\n",
      "INFO - 2024-07-12T02:58:53Z - Dataset version was not specified, the latest one was selected: \"202311\"\n",
      "INFO - 2024-07-12T02:58:53Z - Dataset part was not specified, the first one was selected: \"default\"\n",
      "INFO - 2024-07-12T02:58:56Z - Service was not specified, the default one was selected: \"arco-geo-series\"\n",
      "INFO - 2024-07-12T02:58:59Z - Downloading using service arco-geo-series...\n",
      "INFO - 2024-07-12T02:59:05Z - Estimated size of the dataset file is 539.769 MB.\n",
      "INFO - 2024-07-12T02:59:05Z - Writing to local storage. Please wait...\n"
     ]
    },
    {
     "data": {
      "application/vnd.jupyter.widget-view+json": {
       "model_id": "de33f879200a41c08062e728c4c81a7f",
       "version_major": 2,
       "version_minor": 0
      },
      "text/plain": [
       "  0%|          | 0/3846 [00:00<?, ?it/s]"
      ]
     },
     "metadata": {},
     "output_type": "display_data"
    },
    {
     "name": "stderr",
     "output_type": "stream",
     "text": [
      "INFO - 2024-07-12T03:00:09Z - Successfully downloaded to /home/jovyan/shared/data/copernicus/cmems_obs-oc_glo_bgc-plankton_my_l4-gapfree-multi-4km_P1D/200612.nc\n",
      "INFO - 2024-07-12T03:00:10Z - Dataset version was not specified, the latest one was selected: \"202311\"\n",
      "INFO - 2024-07-12T03:00:10Z - Dataset part was not specified, the first one was selected: \"default\"\n",
      "INFO - 2024-07-12T03:00:13Z - Service was not specified, the default one was selected: \"arco-geo-series\"\n",
      "INFO - 2024-07-12T03:00:16Z - Downloading using service arco-geo-series...\n",
      "INFO - 2024-07-12T03:00:23Z - Estimated size of the dataset file is 539.769 MB.\n",
      "INFO - 2024-07-12T03:00:23Z - Writing to local storage. Please wait...\n"
     ]
    },
    {
     "data": {
      "application/vnd.jupyter.widget-view+json": {
       "model_id": "60f1d66fa84e42349a4a3d86287f037e",
       "version_major": 2,
       "version_minor": 0
      },
      "text/plain": [
       "  0%|          | 0/3846 [00:00<?, ?it/s]"
      ]
     },
     "metadata": {},
     "output_type": "display_data"
    },
    {
     "name": "stderr",
     "output_type": "stream",
     "text": [
      "INFO - 2024-07-12T03:01:26Z - Successfully downloaded to /home/jovyan/shared/data/copernicus/cmems_obs-oc_glo_bgc-plankton_my_l4-gapfree-multi-4km_P1D/200701.nc\n",
      "INFO - 2024-07-12T03:01:27Z - Dataset version was not specified, the latest one was selected: \"202311\"\n",
      "INFO - 2024-07-12T03:01:27Z - Dataset part was not specified, the first one was selected: \"default\"\n",
      "INFO - 2024-07-12T03:01:30Z - Service was not specified, the default one was selected: \"arco-geo-series\"\n",
      "INFO - 2024-07-12T03:01:33Z - Downloading using service arco-geo-series...\n",
      "INFO - 2024-07-12T03:01:39Z - Estimated size of the dataset file is 487.533 MB.\n",
      "INFO - 2024-07-12T03:01:39Z - Writing to local storage. Please wait...\n"
     ]
    },
    {
     "data": {
      "application/vnd.jupyter.widget-view+json": {
       "model_id": "6448037d2c2b4456b1f7deb6845c27dc",
       "version_major": 2,
       "version_minor": 0
      },
      "text/plain": [
       "  0%|          | 0/3474 [00:00<?, ?it/s]"
      ]
     },
     "metadata": {},
     "output_type": "display_data"
    },
    {
     "name": "stderr",
     "output_type": "stream",
     "text": [
      "INFO - 2024-07-12T03:02:37Z - Successfully downloaded to /home/jovyan/shared/data/copernicus/cmems_obs-oc_glo_bgc-plankton_my_l4-gapfree-multi-4km_P1D/200702.nc\n",
      "INFO - 2024-07-12T03:02:38Z - Dataset version was not specified, the latest one was selected: \"202311\"\n",
      "INFO - 2024-07-12T03:02:38Z - Dataset part was not specified, the first one was selected: \"default\"\n",
      "INFO - 2024-07-12T03:02:41Z - Service was not specified, the default one was selected: \"arco-geo-series\"\n",
      "INFO - 2024-07-12T03:02:45Z - Downloading using service arco-geo-series...\n",
      "INFO - 2024-07-12T03:02:51Z - Estimated size of the dataset file is 539.769 MB.\n",
      "INFO - 2024-07-12T03:02:51Z - Writing to local storage. Please wait...\n"
     ]
    },
    {
     "data": {
      "application/vnd.jupyter.widget-view+json": {
       "model_id": "ef48b6502ddd4af8803939d9009975d8",
       "version_major": 2,
       "version_minor": 0
      },
      "text/plain": [
       "  0%|          | 0/3846 [00:00<?, ?it/s]"
      ]
     },
     "metadata": {},
     "output_type": "display_data"
    },
    {
     "name": "stderr",
     "output_type": "stream",
     "text": [
      "INFO - 2024-07-12T03:03:54Z - Successfully downloaded to /home/jovyan/shared/data/copernicus/cmems_obs-oc_glo_bgc-plankton_my_l4-gapfree-multi-4km_P1D/200703.nc\n",
      "INFO - 2024-07-12T03:03:56Z - Dataset version was not specified, the latest one was selected: \"202311\"\n",
      "INFO - 2024-07-12T03:03:56Z - Dataset part was not specified, the first one was selected: \"default\"\n",
      "INFO - 2024-07-12T03:03:58Z - Service was not specified, the default one was selected: \"arco-geo-series\"\n",
      "INFO - 2024-07-12T03:04:01Z - Downloading using service arco-geo-series...\n",
      "INFO - 2024-07-12T03:04:08Z - Estimated size of the dataset file is 522.357 MB.\n",
      "INFO - 2024-07-12T03:04:08Z - Writing to local storage. Please wait...\n"
     ]
    },
    {
     "data": {
      "application/vnd.jupyter.widget-view+json": {
       "model_id": "554cdce4e01c40328148bd35667e7f6a",
       "version_major": 2,
       "version_minor": 0
      },
      "text/plain": [
       "  0%|          | 0/3722 [00:00<?, ?it/s]"
      ]
     },
     "metadata": {},
     "output_type": "display_data"
    },
    {
     "name": "stderr",
     "output_type": "stream",
     "text": [
      "INFO - 2024-07-12T03:05:09Z - Successfully downloaded to /home/jovyan/shared/data/copernicus/cmems_obs-oc_glo_bgc-plankton_my_l4-gapfree-multi-4km_P1D/200704.nc\n",
      "INFO - 2024-07-12T03:05:10Z - Dataset version was not specified, the latest one was selected: \"202311\"\n",
      "INFO - 2024-07-12T03:05:10Z - Dataset part was not specified, the first one was selected: \"default\"\n",
      "INFO - 2024-07-12T03:05:14Z - Service was not specified, the default one was selected: \"arco-geo-series\"\n",
      "INFO - 2024-07-12T03:05:17Z - Downloading using service arco-geo-series...\n",
      "INFO - 2024-07-12T03:05:24Z - Estimated size of the dataset file is 539.769 MB.\n",
      "INFO - 2024-07-12T03:05:24Z - Writing to local storage. Please wait...\n"
     ]
    },
    {
     "data": {
      "application/vnd.jupyter.widget-view+json": {
       "model_id": "aa60e22abfab49cfa74bd97b0485f656",
       "version_major": 2,
       "version_minor": 0
      },
      "text/plain": [
       "  0%|          | 0/3846 [00:00<?, ?it/s]"
      ]
     },
     "metadata": {},
     "output_type": "display_data"
    },
    {
     "name": "stderr",
     "output_type": "stream",
     "text": [
      "INFO - 2024-07-12T03:06:27Z - Successfully downloaded to /home/jovyan/shared/data/copernicus/cmems_obs-oc_glo_bgc-plankton_my_l4-gapfree-multi-4km_P1D/200705.nc\n",
      "INFO - 2024-07-12T03:06:28Z - Dataset version was not specified, the latest one was selected: \"202311\"\n",
      "INFO - 2024-07-12T03:06:29Z - Dataset part was not specified, the first one was selected: \"default\"\n",
      "INFO - 2024-07-12T03:06:32Z - Service was not specified, the default one was selected: \"arco-geo-series\"\n",
      "INFO - 2024-07-12T03:06:35Z - Downloading using service arco-geo-series...\n",
      "INFO - 2024-07-12T03:06:41Z - Estimated size of the dataset file is 522.357 MB.\n",
      "INFO - 2024-07-12T03:06:41Z - Writing to local storage. Please wait...\n"
     ]
    },
    {
     "data": {
      "application/vnd.jupyter.widget-view+json": {
       "model_id": "3801a7438b644089a02260a96e2b552c",
       "version_major": 2,
       "version_minor": 0
      },
      "text/plain": [
       "  0%|          | 0/3722 [00:00<?, ?it/s]"
      ]
     },
     "metadata": {},
     "output_type": "display_data"
    },
    {
     "name": "stderr",
     "output_type": "stream",
     "text": [
      "INFO - 2024-07-12T03:07:43Z - Successfully downloaded to /home/jovyan/shared/data/copernicus/cmems_obs-oc_glo_bgc-plankton_my_l4-gapfree-multi-4km_P1D/200706.nc\n",
      "INFO - 2024-07-12T03:07:44Z - Dataset version was not specified, the latest one was selected: \"202311\"\n",
      "INFO - 2024-07-12T03:07:44Z - Dataset part was not specified, the first one was selected: \"default\"\n",
      "INFO - 2024-07-12T03:07:47Z - Service was not specified, the default one was selected: \"arco-geo-series\"\n",
      "INFO - 2024-07-12T03:07:50Z - Downloading using service arco-geo-series...\n",
      "INFO - 2024-07-12T03:07:56Z - Estimated size of the dataset file is 539.769 MB.\n",
      "INFO - 2024-07-12T03:07:56Z - Writing to local storage. Please wait...\n"
     ]
    },
    {
     "data": {
      "application/vnd.jupyter.widget-view+json": {
       "model_id": "eed82ad4acd64171989e6b39f900f514",
       "version_major": 2,
       "version_minor": 0
      },
      "text/plain": [
       "  0%|          | 0/3846 [00:00<?, ?it/s]"
      ]
     },
     "metadata": {},
     "output_type": "display_data"
    },
    {
     "name": "stderr",
     "output_type": "stream",
     "text": [
      "INFO - 2024-07-12T03:09:00Z - Successfully downloaded to /home/jovyan/shared/data/copernicus/cmems_obs-oc_glo_bgc-plankton_my_l4-gapfree-multi-4km_P1D/200707.nc\n",
      "INFO - 2024-07-12T03:09:01Z - Dataset version was not specified, the latest one was selected: \"202311\"\n",
      "INFO - 2024-07-12T03:09:01Z - Dataset part was not specified, the first one was selected: \"default\"\n",
      "INFO - 2024-07-12T03:09:04Z - Service was not specified, the default one was selected: \"arco-geo-series\"\n",
      "INFO - 2024-07-12T03:09:07Z - Downloading using service arco-geo-series...\n",
      "INFO - 2024-07-12T03:09:13Z - Estimated size of the dataset file is 539.769 MB.\n",
      "INFO - 2024-07-12T03:09:13Z - Writing to local storage. Please wait...\n"
     ]
    },
    {
     "data": {
      "application/vnd.jupyter.widget-view+json": {
       "model_id": "3f326d82b2c343c5864a377e42d94ab5",
       "version_major": 2,
       "version_minor": 0
      },
      "text/plain": [
       "  0%|          | 0/3846 [00:00<?, ?it/s]"
      ]
     },
     "metadata": {},
     "output_type": "display_data"
    },
    {
     "name": "stderr",
     "output_type": "stream",
     "text": [
      "INFO - 2024-07-12T03:10:17Z - Successfully downloaded to /home/jovyan/shared/data/copernicus/cmems_obs-oc_glo_bgc-plankton_my_l4-gapfree-multi-4km_P1D/200708.nc\n",
      "INFO - 2024-07-12T03:10:18Z - Dataset version was not specified, the latest one was selected: \"202311\"\n",
      "INFO - 2024-07-12T03:10:18Z - Dataset part was not specified, the first one was selected: \"default\"\n",
      "INFO - 2024-07-12T03:10:21Z - Service was not specified, the default one was selected: \"arco-geo-series\"\n",
      "INFO - 2024-07-12T03:10:24Z - Downloading using service arco-geo-series...\n",
      "INFO - 2024-07-12T03:10:31Z - Estimated size of the dataset file is 522.357 MB.\n",
      "INFO - 2024-07-12T03:10:31Z - Writing to local storage. Please wait...\n"
     ]
    },
    {
     "data": {
      "application/vnd.jupyter.widget-view+json": {
       "model_id": "fd463ad8bc75437f92f63ee01f056b59",
       "version_major": 2,
       "version_minor": 0
      },
      "text/plain": [
       "  0%|          | 0/3722 [00:00<?, ?it/s]"
      ]
     },
     "metadata": {},
     "output_type": "display_data"
    },
    {
     "name": "stderr",
     "output_type": "stream",
     "text": [
      "INFO - 2024-07-12T03:11:33Z - Successfully downloaded to /home/jovyan/shared/data/copernicus/cmems_obs-oc_glo_bgc-plankton_my_l4-gapfree-multi-4km_P1D/200709.nc\n",
      "INFO - 2024-07-12T03:11:34Z - Dataset version was not specified, the latest one was selected: \"202311\"\n",
      "INFO - 2024-07-12T03:11:34Z - Dataset part was not specified, the first one was selected: \"default\"\n",
      "INFO - 2024-07-12T03:11:37Z - Service was not specified, the default one was selected: \"arco-geo-series\"\n",
      "INFO - 2024-07-12T03:11:40Z - Downloading using service arco-geo-series...\n",
      "INFO - 2024-07-12T03:11:46Z - Estimated size of the dataset file is 539.769 MB.\n",
      "INFO - 2024-07-12T03:11:46Z - Writing to local storage. Please wait...\n"
     ]
    },
    {
     "data": {
      "application/vnd.jupyter.widget-view+json": {
       "model_id": "81d00434492943a982bf1f7cd910df67",
       "version_major": 2,
       "version_minor": 0
      },
      "text/plain": [
       "  0%|          | 0/3846 [00:00<?, ?it/s]"
      ]
     },
     "metadata": {},
     "output_type": "display_data"
    },
    {
     "name": "stderr",
     "output_type": "stream",
     "text": [
      "INFO - 2024-07-12T03:12:49Z - Successfully downloaded to /home/jovyan/shared/data/copernicus/cmems_obs-oc_glo_bgc-plankton_my_l4-gapfree-multi-4km_P1D/200710.nc\n",
      "INFO - 2024-07-12T03:12:50Z - Dataset version was not specified, the latest one was selected: \"202311\"\n",
      "INFO - 2024-07-12T03:12:50Z - Dataset part was not specified, the first one was selected: \"default\"\n",
      "INFO - 2024-07-12T03:12:53Z - Service was not specified, the default one was selected: \"arco-geo-series\"\n",
      "INFO - 2024-07-12T03:12:56Z - Downloading using service arco-geo-series...\n",
      "INFO - 2024-07-12T03:13:03Z - Estimated size of the dataset file is 522.357 MB.\n",
      "INFO - 2024-07-12T03:13:03Z - Writing to local storage. Please wait...\n"
     ]
    },
    {
     "data": {
      "application/vnd.jupyter.widget-view+json": {
       "model_id": "966a59224e774ef59594c0dfa3afb21f",
       "version_major": 2,
       "version_minor": 0
      },
      "text/plain": [
       "  0%|          | 0/3722 [00:00<?, ?it/s]"
      ]
     },
     "metadata": {},
     "output_type": "display_data"
    },
    {
     "name": "stderr",
     "output_type": "stream",
     "text": [
      "INFO - 2024-07-12T03:14:04Z - Successfully downloaded to /home/jovyan/shared/data/copernicus/cmems_obs-oc_glo_bgc-plankton_my_l4-gapfree-multi-4km_P1D/200711.nc\n",
      "INFO - 2024-07-12T03:14:06Z - Dataset version was not specified, the latest one was selected: \"202311\"\n",
      "INFO - 2024-07-12T03:14:06Z - Dataset part was not specified, the first one was selected: \"default\"\n",
      "INFO - 2024-07-12T03:14:09Z - Service was not specified, the default one was selected: \"arco-geo-series\"\n",
      "INFO - 2024-07-12T03:14:12Z - Downloading using service arco-geo-series...\n",
      "INFO - 2024-07-12T03:14:18Z - Estimated size of the dataset file is 539.769 MB.\n",
      "INFO - 2024-07-12T03:14:18Z - Writing to local storage. Please wait...\n"
     ]
    },
    {
     "data": {
      "application/vnd.jupyter.widget-view+json": {
       "model_id": "b42c34a07f914816926d7e71650f34f4",
       "version_major": 2,
       "version_minor": 0
      },
      "text/plain": [
       "  0%|          | 0/3846 [00:00<?, ?it/s]"
      ]
     },
     "metadata": {},
     "output_type": "display_data"
    },
    {
     "name": "stderr",
     "output_type": "stream",
     "text": [
      "INFO - 2024-07-12T03:15:22Z - Successfully downloaded to /home/jovyan/shared/data/copernicus/cmems_obs-oc_glo_bgc-plankton_my_l4-gapfree-multi-4km_P1D/200712.nc\n",
      "INFO - 2024-07-12T03:15:23Z - Dataset version was not specified, the latest one was selected: \"202311\"\n",
      "INFO - 2024-07-12T03:15:23Z - Dataset part was not specified, the first one was selected: \"default\"\n",
      "INFO - 2024-07-12T03:15:26Z - Service was not specified, the default one was selected: \"arco-geo-series\"\n",
      "INFO - 2024-07-12T03:15:28Z - Downloading using service arco-geo-series...\n",
      "INFO - 2024-07-12T03:15:35Z - Estimated size of the dataset file is 539.769 MB.\n",
      "INFO - 2024-07-12T03:15:35Z - Writing to local storage. Please wait...\n"
     ]
    },
    {
     "data": {
      "application/vnd.jupyter.widget-view+json": {
       "model_id": "8471728305004f349619c569459c2d82",
       "version_major": 2,
       "version_minor": 0
      },
      "text/plain": [
       "  0%|          | 0/3846 [00:00<?, ?it/s]"
      ]
     },
     "metadata": {},
     "output_type": "display_data"
    },
    {
     "name": "stderr",
     "output_type": "stream",
     "text": [
      "INFO - 2024-07-12T03:16:38Z - Successfully downloaded to /home/jovyan/shared/data/copernicus/cmems_obs-oc_glo_bgc-plankton_my_l4-gapfree-multi-4km_P1D/200801.nc\n",
      "INFO - 2024-07-12T03:16:39Z - Dataset version was not specified, the latest one was selected: \"202311\"\n",
      "INFO - 2024-07-12T03:16:39Z - Dataset part was not specified, the first one was selected: \"default\"\n",
      "INFO - 2024-07-12T03:16:42Z - Service was not specified, the default one was selected: \"arco-geo-series\"\n",
      "INFO - 2024-07-12T03:16:45Z - Downloading using service arco-geo-series...\n",
      "INFO - 2024-07-12T03:16:52Z - Estimated size of the dataset file is 504.945 MB.\n",
      "INFO - 2024-07-12T03:16:52Z - Writing to local storage. Please wait...\n"
     ]
    },
    {
     "data": {
      "application/vnd.jupyter.widget-view+json": {
       "model_id": "53a8651c4df34ffdad403fb088b36427",
       "version_major": 2,
       "version_minor": 0
      },
      "text/plain": [
       "  0%|          | 0/3598 [00:00<?, ?it/s]"
      ]
     },
     "metadata": {},
     "output_type": "display_data"
    },
    {
     "name": "stderr",
     "output_type": "stream",
     "text": [
      "INFO - 2024-07-12T03:17:52Z - Successfully downloaded to /home/jovyan/shared/data/copernicus/cmems_obs-oc_glo_bgc-plankton_my_l4-gapfree-multi-4km_P1D/200802.nc\n",
      "INFO - 2024-07-12T03:17:53Z - Dataset version was not specified, the latest one was selected: \"202311\"\n",
      "INFO - 2024-07-12T03:17:53Z - Dataset part was not specified, the first one was selected: \"default\"\n",
      "INFO - 2024-07-12T03:17:56Z - Service was not specified, the default one was selected: \"arco-geo-series\"\n",
      "INFO - 2024-07-12T03:17:59Z - Downloading using service arco-geo-series...\n",
      "INFO - 2024-07-12T03:18:05Z - Estimated size of the dataset file is 539.769 MB.\n",
      "INFO - 2024-07-12T03:18:05Z - Writing to local storage. Please wait...\n"
     ]
    },
    {
     "data": {
      "application/vnd.jupyter.widget-view+json": {
       "model_id": "186d6806d5c74102874c723649bd6c57",
       "version_major": 2,
       "version_minor": 0
      },
      "text/plain": [
       "  0%|          | 0/3846 [00:00<?, ?it/s]"
      ]
     },
     "metadata": {},
     "output_type": "display_data"
    },
    {
     "name": "stderr",
     "output_type": "stream",
     "text": [
      "INFO - 2024-07-12T03:19:08Z - Successfully downloaded to /home/jovyan/shared/data/copernicus/cmems_obs-oc_glo_bgc-plankton_my_l4-gapfree-multi-4km_P1D/200803.nc\n",
      "INFO - 2024-07-12T03:19:09Z - Dataset version was not specified, the latest one was selected: \"202311\"\n",
      "INFO - 2024-07-12T03:19:09Z - Dataset part was not specified, the first one was selected: \"default\"\n",
      "INFO - 2024-07-12T03:19:12Z - Service was not specified, the default one was selected: \"arco-geo-series\"\n",
      "INFO - 2024-07-12T03:19:15Z - Downloading using service arco-geo-series...\n",
      "INFO - 2024-07-12T03:19:21Z - Estimated size of the dataset file is 522.357 MB.\n",
      "INFO - 2024-07-12T03:19:21Z - Writing to local storage. Please wait...\n"
     ]
    },
    {
     "data": {
      "application/vnd.jupyter.widget-view+json": {
       "model_id": "c4ef65fc799e43c48da25714619d3f2b",
       "version_major": 2,
       "version_minor": 0
      },
      "text/plain": [
       "  0%|          | 0/3722 [00:00<?, ?it/s]"
      ]
     },
     "metadata": {},
     "output_type": "display_data"
    },
    {
     "name": "stderr",
     "output_type": "stream",
     "text": [
      "INFO - 2024-07-12T03:20:23Z - Successfully downloaded to /home/jovyan/shared/data/copernicus/cmems_obs-oc_glo_bgc-plankton_my_l4-gapfree-multi-4km_P1D/200804.nc\n",
      "INFO - 2024-07-12T03:20:24Z - Dataset version was not specified, the latest one was selected: \"202311\"\n",
      "INFO - 2024-07-12T03:20:24Z - Dataset part was not specified, the first one was selected: \"default\"\n",
      "INFO - 2024-07-12T03:20:27Z - Service was not specified, the default one was selected: \"arco-geo-series\"\n",
      "INFO - 2024-07-12T03:20:30Z - Downloading using service arco-geo-series...\n",
      "INFO - 2024-07-12T03:20:37Z - Estimated size of the dataset file is 539.769 MB.\n",
      "INFO - 2024-07-12T03:20:37Z - Writing to local storage. Please wait...\n"
     ]
    },
    {
     "data": {
      "application/vnd.jupyter.widget-view+json": {
       "model_id": "f1e58facc2fa40d6823158d5c496a15e",
       "version_major": 2,
       "version_minor": 0
      },
      "text/plain": [
       "  0%|          | 0/3846 [00:00<?, ?it/s]"
      ]
     },
     "metadata": {},
     "output_type": "display_data"
    },
    {
     "name": "stderr",
     "output_type": "stream",
     "text": [
      "INFO - 2024-07-12T03:21:40Z - Successfully downloaded to /home/jovyan/shared/data/copernicus/cmems_obs-oc_glo_bgc-plankton_my_l4-gapfree-multi-4km_P1D/200805.nc\n",
      "INFO - 2024-07-12T03:21:42Z - Dataset version was not specified, the latest one was selected: \"202311\"\n",
      "INFO - 2024-07-12T03:21:42Z - Dataset part was not specified, the first one was selected: \"default\"\n",
      "INFO - 2024-07-12T03:21:45Z - Service was not specified, the default one was selected: \"arco-geo-series\"\n",
      "INFO - 2024-07-12T03:21:48Z - Downloading using service arco-geo-series...\n",
      "INFO - 2024-07-12T03:21:54Z - Estimated size of the dataset file is 522.357 MB.\n",
      "INFO - 2024-07-12T03:21:54Z - Writing to local storage. Please wait...\n"
     ]
    },
    {
     "data": {
      "application/vnd.jupyter.widget-view+json": {
       "model_id": "1fa05dcfdcac4dd68cbc9f8130471e19",
       "version_major": 2,
       "version_minor": 0
      },
      "text/plain": [
       "  0%|          | 0/3722 [00:00<?, ?it/s]"
      ]
     },
     "metadata": {},
     "output_type": "display_data"
    },
    {
     "name": "stderr",
     "output_type": "stream",
     "text": [
      "INFO - 2024-07-12T03:22:56Z - Successfully downloaded to /home/jovyan/shared/data/copernicus/cmems_obs-oc_glo_bgc-plankton_my_l4-gapfree-multi-4km_P1D/200806.nc\n",
      "INFO - 2024-07-12T03:22:57Z - Dataset version was not specified, the latest one was selected: \"202311\"\n",
      "INFO - 2024-07-12T03:22:57Z - Dataset part was not specified, the first one was selected: \"default\"\n",
      "INFO - 2024-07-12T03:23:00Z - Service was not specified, the default one was selected: \"arco-geo-series\"\n",
      "INFO - 2024-07-12T03:23:03Z - Downloading using service arco-geo-series...\n",
      "INFO - 2024-07-12T03:23:10Z - Estimated size of the dataset file is 539.769 MB.\n",
      "INFO - 2024-07-12T03:23:10Z - Writing to local storage. Please wait...\n"
     ]
    },
    {
     "data": {
      "application/vnd.jupyter.widget-view+json": {
       "model_id": "8b29503a8c1440f89dd0265871aaa07d",
       "version_major": 2,
       "version_minor": 0
      },
      "text/plain": [
       "  0%|          | 0/3846 [00:00<?, ?it/s]"
      ]
     },
     "metadata": {},
     "output_type": "display_data"
    },
    {
     "name": "stderr",
     "output_type": "stream",
     "text": [
      "INFO - 2024-07-12T03:24:12Z - Successfully downloaded to /home/jovyan/shared/data/copernicus/cmems_obs-oc_glo_bgc-plankton_my_l4-gapfree-multi-4km_P1D/200807.nc\n",
      "INFO - 2024-07-12T03:24:14Z - Dataset version was not specified, the latest one was selected: \"202311\"\n",
      "INFO - 2024-07-12T03:24:14Z - Dataset part was not specified, the first one was selected: \"default\"\n",
      "INFO - 2024-07-12T03:24:17Z - Service was not specified, the default one was selected: \"arco-geo-series\"\n",
      "INFO - 2024-07-12T03:24:20Z - Downloading using service arco-geo-series...\n",
      "INFO - 2024-07-12T03:24:26Z - Estimated size of the dataset file is 539.769 MB.\n",
      "INFO - 2024-07-12T03:24:26Z - Writing to local storage. Please wait...\n"
     ]
    },
    {
     "data": {
      "application/vnd.jupyter.widget-view+json": {
       "model_id": "7102f8568e944958a6c3309d245a05ed",
       "version_major": 2,
       "version_minor": 0
      },
      "text/plain": [
       "  0%|          | 0/3846 [00:00<?, ?it/s]"
      ]
     },
     "metadata": {},
     "output_type": "display_data"
    },
    {
     "name": "stderr",
     "output_type": "stream",
     "text": [
      "INFO - 2024-07-12T03:25:29Z - Successfully downloaded to /home/jovyan/shared/data/copernicus/cmems_obs-oc_glo_bgc-plankton_my_l4-gapfree-multi-4km_P1D/200808.nc\n",
      "INFO - 2024-07-12T03:25:30Z - Dataset version was not specified, the latest one was selected: \"202311\"\n",
      "INFO - 2024-07-12T03:25:30Z - Dataset part was not specified, the first one was selected: \"default\"\n",
      "INFO - 2024-07-12T03:25:34Z - Service was not specified, the default one was selected: \"arco-geo-series\"\n",
      "INFO - 2024-07-12T03:25:37Z - Downloading using service arco-geo-series...\n",
      "INFO - 2024-07-12T03:25:43Z - Estimated size of the dataset file is 522.357 MB.\n",
      "INFO - 2024-07-12T03:25:43Z - Writing to local storage. Please wait...\n"
     ]
    },
    {
     "data": {
      "application/vnd.jupyter.widget-view+json": {
       "model_id": "e6a7e8e82b884ec5bb4f50317c0edd2c",
       "version_major": 2,
       "version_minor": 0
      },
      "text/plain": [
       "  0%|          | 0/3722 [00:00<?, ?it/s]"
      ]
     },
     "metadata": {},
     "output_type": "display_data"
    },
    {
     "name": "stderr",
     "output_type": "stream",
     "text": [
      "INFO - 2024-07-12T03:26:45Z - Successfully downloaded to /home/jovyan/shared/data/copernicus/cmems_obs-oc_glo_bgc-plankton_my_l4-gapfree-multi-4km_P1D/200809.nc\n",
      "INFO - 2024-07-12T03:26:46Z - Dataset version was not specified, the latest one was selected: \"202311\"\n",
      "INFO - 2024-07-12T03:26:46Z - Dataset part was not specified, the first one was selected: \"default\"\n",
      "INFO - 2024-07-12T03:26:50Z - Service was not specified, the default one was selected: \"arco-geo-series\"\n",
      "INFO - 2024-07-12T03:26:53Z - Downloading using service arco-geo-series...\n",
      "INFO - 2024-07-12T03:26:59Z - Estimated size of the dataset file is 539.769 MB.\n",
      "INFO - 2024-07-12T03:26:59Z - Writing to local storage. Please wait...\n"
     ]
    },
    {
     "data": {
      "application/vnd.jupyter.widget-view+json": {
       "model_id": "5e8fd817ea9344ff8e9124180cd0efee",
       "version_major": 2,
       "version_minor": 0
      },
      "text/plain": [
       "  0%|          | 0/3846 [00:00<?, ?it/s]"
      ]
     },
     "metadata": {},
     "output_type": "display_data"
    },
    {
     "name": "stderr",
     "output_type": "stream",
     "text": [
      "INFO - 2024-07-12T03:28:03Z - Successfully downloaded to /home/jovyan/shared/data/copernicus/cmems_obs-oc_glo_bgc-plankton_my_l4-gapfree-multi-4km_P1D/200810.nc\n",
      "INFO - 2024-07-12T03:28:04Z - Dataset version was not specified, the latest one was selected: \"202311\"\n",
      "INFO - 2024-07-12T03:28:04Z - Dataset part was not specified, the first one was selected: \"default\"\n",
      "INFO - 2024-07-12T03:28:07Z - Service was not specified, the default one was selected: \"arco-geo-series\"\n",
      "INFO - 2024-07-12T03:28:10Z - Downloading using service arco-geo-series...\n",
      "INFO - 2024-07-12T03:28:17Z - Estimated size of the dataset file is 522.357 MB.\n",
      "INFO - 2024-07-12T03:28:17Z - Writing to local storage. Please wait...\n"
     ]
    },
    {
     "data": {
      "application/vnd.jupyter.widget-view+json": {
       "model_id": "ed1c180218c945748f24480bebe479ab",
       "version_major": 2,
       "version_minor": 0
      },
      "text/plain": [
       "  0%|          | 0/3722 [00:00<?, ?it/s]"
      ]
     },
     "metadata": {},
     "output_type": "display_data"
    },
    {
     "name": "stderr",
     "output_type": "stream",
     "text": [
      "INFO - 2024-07-12T03:29:19Z - Successfully downloaded to /home/jovyan/shared/data/copernicus/cmems_obs-oc_glo_bgc-plankton_my_l4-gapfree-multi-4km_P1D/200811.nc\n",
      "INFO - 2024-07-12T03:29:20Z - Dataset version was not specified, the latest one was selected: \"202311\"\n",
      "INFO - 2024-07-12T03:29:20Z - Dataset part was not specified, the first one was selected: \"default\"\n",
      "INFO - 2024-07-12T03:29:23Z - Service was not specified, the default one was selected: \"arco-geo-series\"\n",
      "INFO - 2024-07-12T03:29:26Z - Downloading using service arco-geo-series...\n",
      "INFO - 2024-07-12T03:29:32Z - Estimated size of the dataset file is 539.769 MB.\n",
      "INFO - 2024-07-12T03:29:32Z - Writing to local storage. Please wait...\n"
     ]
    },
    {
     "data": {
      "application/vnd.jupyter.widget-view+json": {
       "model_id": "c1e969f2ccb24a63bf94db0015f9412b",
       "version_major": 2,
       "version_minor": 0
      },
      "text/plain": [
       "  0%|          | 0/3846 [00:00<?, ?it/s]"
      ]
     },
     "metadata": {},
     "output_type": "display_data"
    },
    {
     "name": "stderr",
     "output_type": "stream",
     "text": [
      "INFO - 2024-07-12T03:30:36Z - Successfully downloaded to /home/jovyan/shared/data/copernicus/cmems_obs-oc_glo_bgc-plankton_my_l4-gapfree-multi-4km_P1D/200812.nc\n",
      "INFO - 2024-07-12T03:30:37Z - Dataset version was not specified, the latest one was selected: \"202311\"\n",
      "INFO - 2024-07-12T03:30:37Z - Dataset part was not specified, the first one was selected: \"default\"\n",
      "INFO - 2024-07-12T03:30:40Z - Service was not specified, the default one was selected: \"arco-geo-series\"\n",
      "INFO - 2024-07-12T03:30:43Z - Downloading using service arco-geo-series...\n",
      "INFO - 2024-07-12T03:30:50Z - Estimated size of the dataset file is 539.769 MB.\n",
      "INFO - 2024-07-12T03:30:50Z - Writing to local storage. Please wait...\n"
     ]
    },
    {
     "data": {
      "application/vnd.jupyter.widget-view+json": {
       "model_id": "89730f499b4b48ceb1d752a9f8632200",
       "version_major": 2,
       "version_minor": 0
      },
      "text/plain": [
       "  0%|          | 0/3846 [00:00<?, ?it/s]"
      ]
     },
     "metadata": {},
     "output_type": "display_data"
    },
    {
     "name": "stderr",
     "output_type": "stream",
     "text": [
      "INFO - 2024-07-12T03:31:54Z - Successfully downloaded to /home/jovyan/shared/data/copernicus/cmems_obs-oc_glo_bgc-plankton_my_l4-gapfree-multi-4km_P1D/200901.nc\n",
      "INFO - 2024-07-12T03:31:55Z - Dataset version was not specified, the latest one was selected: \"202311\"\n",
      "INFO - 2024-07-12T03:31:55Z - Dataset part was not specified, the first one was selected: \"default\"\n",
      "INFO - 2024-07-12T03:31:58Z - Service was not specified, the default one was selected: \"arco-geo-series\"\n",
      "INFO - 2024-07-12T03:32:01Z - Downloading using service arco-geo-series...\n",
      "INFO - 2024-07-12T03:32:08Z - Estimated size of the dataset file is 487.533 MB.\n",
      "INFO - 2024-07-12T03:32:08Z - Writing to local storage. Please wait...\n"
     ]
    },
    {
     "data": {
      "application/vnd.jupyter.widget-view+json": {
       "model_id": "ef07fc05390d4e15b9b663e7272de27b",
       "version_major": 2,
       "version_minor": 0
      },
      "text/plain": [
       "  0%|          | 0/3474 [00:00<?, ?it/s]"
      ]
     },
     "metadata": {},
     "output_type": "display_data"
    },
    {
     "name": "stderr",
     "output_type": "stream",
     "text": [
      "INFO - 2024-07-12T03:33:07Z - Successfully downloaded to /home/jovyan/shared/data/copernicus/cmems_obs-oc_glo_bgc-plankton_my_l4-gapfree-multi-4km_P1D/200902.nc\n",
      "INFO - 2024-07-12T03:33:08Z - Dataset version was not specified, the latest one was selected: \"202311\"\n",
      "INFO - 2024-07-12T03:33:08Z - Dataset part was not specified, the first one was selected: \"default\"\n",
      "INFO - 2024-07-12T03:33:11Z - Service was not specified, the default one was selected: \"arco-geo-series\"\n",
      "INFO - 2024-07-12T03:33:14Z - Downloading using service arco-geo-series...\n",
      "INFO - 2024-07-12T03:33:20Z - Estimated size of the dataset file is 539.769 MB.\n",
      "INFO - 2024-07-12T03:33:20Z - Writing to local storage. Please wait...\n"
     ]
    },
    {
     "data": {
      "application/vnd.jupyter.widget-view+json": {
       "model_id": "31abdc9fcab44921aaa8a250de8c0913",
       "version_major": 2,
       "version_minor": 0
      },
      "text/plain": [
       "  0%|          | 0/3846 [00:00<?, ?it/s]"
      ]
     },
     "metadata": {},
     "output_type": "display_data"
    },
    {
     "name": "stderr",
     "output_type": "stream",
     "text": [
      "INFO - 2024-07-12T03:34:24Z - Successfully downloaded to /home/jovyan/shared/data/copernicus/cmems_obs-oc_glo_bgc-plankton_my_l4-gapfree-multi-4km_P1D/200903.nc\n",
      "INFO - 2024-07-12T03:34:25Z - Dataset version was not specified, the latest one was selected: \"202311\"\n",
      "INFO - 2024-07-12T03:34:25Z - Dataset part was not specified, the first one was selected: \"default\"\n",
      "INFO - 2024-07-12T03:34:28Z - Service was not specified, the default one was selected: \"arco-geo-series\"\n",
      "INFO - 2024-07-12T03:34:31Z - Downloading using service arco-geo-series...\n",
      "INFO - 2024-07-12T03:34:37Z - Estimated size of the dataset file is 522.357 MB.\n",
      "INFO - 2024-07-12T03:34:37Z - Writing to local storage. Please wait...\n"
     ]
    },
    {
     "data": {
      "application/vnd.jupyter.widget-view+json": {
       "model_id": "35bfbf97f08844578d24e7f71194f6ba",
       "version_major": 2,
       "version_minor": 0
      },
      "text/plain": [
       "  0%|          | 0/3722 [00:00<?, ?it/s]"
      ]
     },
     "metadata": {},
     "output_type": "display_data"
    },
    {
     "name": "stderr",
     "output_type": "stream",
     "text": [
      "INFO - 2024-07-12T03:35:40Z - Successfully downloaded to /home/jovyan/shared/data/copernicus/cmems_obs-oc_glo_bgc-plankton_my_l4-gapfree-multi-4km_P1D/200904.nc\n",
      "INFO - 2024-07-12T03:35:41Z - Dataset version was not specified, the latest one was selected: \"202311\"\n",
      "INFO - 2024-07-12T03:35:41Z - Dataset part was not specified, the first one was selected: \"default\"\n",
      "INFO - 2024-07-12T03:35:44Z - Service was not specified, the default one was selected: \"arco-geo-series\"\n",
      "INFO - 2024-07-12T03:35:47Z - Downloading using service arco-geo-series...\n",
      "INFO - 2024-07-12T03:35:53Z - Estimated size of the dataset file is 539.769 MB.\n",
      "INFO - 2024-07-12T03:35:53Z - Writing to local storage. Please wait...\n"
     ]
    },
    {
     "data": {
      "application/vnd.jupyter.widget-view+json": {
       "model_id": "0fb914736a3642bc8347555c36710fb0",
       "version_major": 2,
       "version_minor": 0
      },
      "text/plain": [
       "  0%|          | 0/3846 [00:00<?, ?it/s]"
      ]
     },
     "metadata": {},
     "output_type": "display_data"
    },
    {
     "name": "stderr",
     "output_type": "stream",
     "text": [
      "INFO - 2024-07-12T03:36:57Z - Successfully downloaded to /home/jovyan/shared/data/copernicus/cmems_obs-oc_glo_bgc-plankton_my_l4-gapfree-multi-4km_P1D/200905.nc\n",
      "INFO - 2024-07-12T03:36:58Z - Dataset version was not specified, the latest one was selected: \"202311\"\n",
      "INFO - 2024-07-12T03:36:58Z - Dataset part was not specified, the first one was selected: \"default\"\n",
      "INFO - 2024-07-12T03:37:01Z - Service was not specified, the default one was selected: \"arco-geo-series\"\n",
      "INFO - 2024-07-12T03:37:04Z - Downloading using service arco-geo-series...\n",
      "INFO - 2024-07-12T03:37:11Z - Estimated size of the dataset file is 522.357 MB.\n",
      "INFO - 2024-07-12T03:37:11Z - Writing to local storage. Please wait...\n"
     ]
    },
    {
     "data": {
      "application/vnd.jupyter.widget-view+json": {
       "model_id": "45720a3bc7da44cf9462bcde2b30c82b",
       "version_major": 2,
       "version_minor": 0
      },
      "text/plain": [
       "  0%|          | 0/3722 [00:00<?, ?it/s]"
      ]
     },
     "metadata": {},
     "output_type": "display_data"
    },
    {
     "name": "stderr",
     "output_type": "stream",
     "text": [
      "INFO - 2024-07-12T03:38:13Z - Successfully downloaded to /home/jovyan/shared/data/copernicus/cmems_obs-oc_glo_bgc-plankton_my_l4-gapfree-multi-4km_P1D/200906.nc\n",
      "INFO - 2024-07-12T03:38:14Z - Dataset version was not specified, the latest one was selected: \"202311\"\n",
      "INFO - 2024-07-12T03:38:14Z - Dataset part was not specified, the first one was selected: \"default\"\n",
      "INFO - 2024-07-12T03:38:17Z - Service was not specified, the default one was selected: \"arco-geo-series\"\n",
      "INFO - 2024-07-12T03:38:20Z - Downloading using service arco-geo-series...\n",
      "INFO - 2024-07-12T03:38:26Z - Estimated size of the dataset file is 539.769 MB.\n",
      "INFO - 2024-07-12T03:38:26Z - Writing to local storage. Please wait...\n"
     ]
    },
    {
     "data": {
      "application/vnd.jupyter.widget-view+json": {
       "model_id": "df56a7fe19db428aa0cce65a81436f26",
       "version_major": 2,
       "version_minor": 0
      },
      "text/plain": [
       "  0%|          | 0/3846 [00:00<?, ?it/s]"
      ]
     },
     "metadata": {},
     "output_type": "display_data"
    },
    {
     "name": "stderr",
     "output_type": "stream",
     "text": [
      "INFO - 2024-07-12T03:39:30Z - Successfully downloaded to /home/jovyan/shared/data/copernicus/cmems_obs-oc_glo_bgc-plankton_my_l4-gapfree-multi-4km_P1D/200907.nc\n",
      "INFO - 2024-07-12T03:39:31Z - Dataset version was not specified, the latest one was selected: \"202311\"\n",
      "INFO - 2024-07-12T03:39:31Z - Dataset part was not specified, the first one was selected: \"default\"\n",
      "INFO - 2024-07-12T03:39:34Z - Service was not specified, the default one was selected: \"arco-geo-series\"\n",
      "INFO - 2024-07-12T03:39:37Z - Downloading using service arco-geo-series...\n",
      "INFO - 2024-07-12T03:39:43Z - Estimated size of the dataset file is 539.769 MB.\n",
      "INFO - 2024-07-12T03:39:43Z - Writing to local storage. Please wait...\n"
     ]
    },
    {
     "data": {
      "application/vnd.jupyter.widget-view+json": {
       "model_id": "90e169c4595f4da5930050e36a458b58",
       "version_major": 2,
       "version_minor": 0
      },
      "text/plain": [
       "  0%|          | 0/3846 [00:00<?, ?it/s]"
      ]
     },
     "metadata": {},
     "output_type": "display_data"
    },
    {
     "name": "stderr",
     "output_type": "stream",
     "text": [
      "INFO - 2024-07-12T03:40:46Z - Successfully downloaded to /home/jovyan/shared/data/copernicus/cmems_obs-oc_glo_bgc-plankton_my_l4-gapfree-multi-4km_P1D/200908.nc\n",
      "INFO - 2024-07-12T03:40:47Z - Dataset version was not specified, the latest one was selected: \"202311\"\n",
      "INFO - 2024-07-12T03:40:47Z - Dataset part was not specified, the first one was selected: \"default\"\n",
      "INFO - 2024-07-12T03:40:51Z - Service was not specified, the default one was selected: \"arco-geo-series\"\n",
      "INFO - 2024-07-12T03:40:53Z - Downloading using service arco-geo-series...\n",
      "INFO - 2024-07-12T03:41:00Z - Estimated size of the dataset file is 522.357 MB.\n",
      "INFO - 2024-07-12T03:41:00Z - Writing to local storage. Please wait...\n"
     ]
    },
    {
     "data": {
      "application/vnd.jupyter.widget-view+json": {
       "model_id": "63ec981f50914a9b9da4d282ce737417",
       "version_major": 2,
       "version_minor": 0
      },
      "text/plain": [
       "  0%|          | 0/3722 [00:00<?, ?it/s]"
      ]
     },
     "metadata": {},
     "output_type": "display_data"
    },
    {
     "name": "stderr",
     "output_type": "stream",
     "text": [
      "INFO - 2024-07-12T03:42:01Z - Successfully downloaded to /home/jovyan/shared/data/copernicus/cmems_obs-oc_glo_bgc-plankton_my_l4-gapfree-multi-4km_P1D/200909.nc\n",
      "INFO - 2024-07-12T03:42:02Z - Dataset version was not specified, the latest one was selected: \"202311\"\n",
      "INFO - 2024-07-12T03:42:02Z - Dataset part was not specified, the first one was selected: \"default\"\n",
      "INFO - 2024-07-12T03:42:05Z - Service was not specified, the default one was selected: \"arco-geo-series\"\n",
      "INFO - 2024-07-12T03:42:09Z - Downloading using service arco-geo-series...\n",
      "INFO - 2024-07-12T03:42:15Z - Estimated size of the dataset file is 539.769 MB.\n",
      "INFO - 2024-07-12T03:42:15Z - Writing to local storage. Please wait...\n"
     ]
    },
    {
     "data": {
      "application/vnd.jupyter.widget-view+json": {
       "model_id": "82b763d432504b109445aab9e57f9937",
       "version_major": 2,
       "version_minor": 0
      },
      "text/plain": [
       "  0%|          | 0/3846 [00:00<?, ?it/s]"
      ]
     },
     "metadata": {},
     "output_type": "display_data"
    },
    {
     "name": "stderr",
     "output_type": "stream",
     "text": [
      "INFO - 2024-07-12T03:43:18Z - Successfully downloaded to /home/jovyan/shared/data/copernicus/cmems_obs-oc_glo_bgc-plankton_my_l4-gapfree-multi-4km_P1D/200910.nc\n",
      "INFO - 2024-07-12T03:43:19Z - Dataset version was not specified, the latest one was selected: \"202311\"\n",
      "INFO - 2024-07-12T03:43:19Z - Dataset part was not specified, the first one was selected: \"default\"\n",
      "INFO - 2024-07-12T03:43:23Z - Service was not specified, the default one was selected: \"arco-geo-series\"\n",
      "INFO - 2024-07-12T03:43:25Z - Downloading using service arco-geo-series...\n",
      "INFO - 2024-07-12T03:43:32Z - Estimated size of the dataset file is 522.357 MB.\n",
      "INFO - 2024-07-12T03:43:32Z - Writing to local storage. Please wait...\n"
     ]
    },
    {
     "data": {
      "application/vnd.jupyter.widget-view+json": {
       "model_id": "d2a2ff2b72f84eb1ae489673c506bc9c",
       "version_major": 2,
       "version_minor": 0
      },
      "text/plain": [
       "  0%|          | 0/3722 [00:00<?, ?it/s]"
      ]
     },
     "metadata": {},
     "output_type": "display_data"
    },
    {
     "name": "stderr",
     "output_type": "stream",
     "text": [
      "INFO - 2024-07-12T03:44:34Z - Successfully downloaded to /home/jovyan/shared/data/copernicus/cmems_obs-oc_glo_bgc-plankton_my_l4-gapfree-multi-4km_P1D/200911.nc\n",
      "INFO - 2024-07-12T03:44:35Z - Dataset version was not specified, the latest one was selected: \"202311\"\n",
      "INFO - 2024-07-12T03:44:35Z - Dataset part was not specified, the first one was selected: \"default\"\n",
      "INFO - 2024-07-12T03:44:38Z - Service was not specified, the default one was selected: \"arco-geo-series\"\n",
      "INFO - 2024-07-12T03:44:41Z - Downloading using service arco-geo-series...\n",
      "INFO - 2024-07-12T03:44:48Z - Estimated size of the dataset file is 539.769 MB.\n",
      "INFO - 2024-07-12T03:44:48Z - Writing to local storage. Please wait...\n"
     ]
    },
    {
     "data": {
      "application/vnd.jupyter.widget-view+json": {
       "model_id": "9ed1d1803d9b4937a5ec67fd730499cc",
       "version_major": 2,
       "version_minor": 0
      },
      "text/plain": [
       "  0%|          | 0/3846 [00:00<?, ?it/s]"
      ]
     },
     "metadata": {},
     "output_type": "display_data"
    },
    {
     "name": "stderr",
     "output_type": "stream",
     "text": [
      "INFO - 2024-07-12T03:45:51Z - Successfully downloaded to /home/jovyan/shared/data/copernicus/cmems_obs-oc_glo_bgc-plankton_my_l4-gapfree-multi-4km_P1D/200912.nc\n",
      "INFO - 2024-07-12T03:45:52Z - Dataset version was not specified, the latest one was selected: \"202311\"\n",
      "INFO - 2024-07-12T03:45:52Z - Dataset part was not specified, the first one was selected: \"default\"\n",
      "INFO - 2024-07-12T03:45:55Z - Service was not specified, the default one was selected: \"arco-geo-series\"\n",
      "INFO - 2024-07-12T03:45:58Z - Downloading using service arco-geo-series...\n",
      "INFO - 2024-07-12T03:46:05Z - Estimated size of the dataset file is 539.769 MB.\n",
      "INFO - 2024-07-12T03:46:05Z - Writing to local storage. Please wait...\n"
     ]
    },
    {
     "data": {
      "application/vnd.jupyter.widget-view+json": {
       "model_id": "8c9f396c8f13454d8f54f3214a806389",
       "version_major": 2,
       "version_minor": 0
      },
      "text/plain": [
       "  0%|          | 0/3846 [00:00<?, ?it/s]"
      ]
     },
     "metadata": {},
     "output_type": "display_data"
    },
    {
     "name": "stderr",
     "output_type": "stream",
     "text": [
      "INFO - 2024-07-12T03:47:09Z - Successfully downloaded to /home/jovyan/shared/data/copernicus/cmems_obs-oc_glo_bgc-plankton_my_l4-gapfree-multi-4km_P1D/201001.nc\n",
      "INFO - 2024-07-12T03:47:10Z - Dataset version was not specified, the latest one was selected: \"202311\"\n",
      "INFO - 2024-07-12T03:47:10Z - Dataset part was not specified, the first one was selected: \"default\"\n",
      "INFO - 2024-07-12T03:47:13Z - Service was not specified, the default one was selected: \"arco-geo-series\"\n",
      "INFO - 2024-07-12T03:47:16Z - Downloading using service arco-geo-series...\n",
      "INFO - 2024-07-12T03:47:22Z - Estimated size of the dataset file is 487.533 MB.\n",
      "INFO - 2024-07-12T03:47:22Z - Writing to local storage. Please wait...\n"
     ]
    },
    {
     "data": {
      "application/vnd.jupyter.widget-view+json": {
       "model_id": "93c4d6a8c8e343618df6b589679f14a6",
       "version_major": 2,
       "version_minor": 0
      },
      "text/plain": [
       "  0%|          | 0/3474 [00:00<?, ?it/s]"
      ]
     },
     "metadata": {},
     "output_type": "display_data"
    },
    {
     "name": "stderr",
     "output_type": "stream",
     "text": [
      "INFO - 2024-07-12T03:48:20Z - Successfully downloaded to /home/jovyan/shared/data/copernicus/cmems_obs-oc_glo_bgc-plankton_my_l4-gapfree-multi-4km_P1D/201002.nc\n",
      "INFO - 2024-07-12T03:48:21Z - Dataset version was not specified, the latest one was selected: \"202311\"\n",
      "INFO - 2024-07-12T03:48:21Z - Dataset part was not specified, the first one was selected: \"default\"\n",
      "INFO - 2024-07-12T03:48:24Z - Service was not specified, the default one was selected: \"arco-geo-series\"\n",
      "INFO - 2024-07-12T03:48:27Z - Downloading using service arco-geo-series...\n",
      "INFO - 2024-07-12T03:48:33Z - Estimated size of the dataset file is 539.769 MB.\n",
      "INFO - 2024-07-12T03:48:33Z - Writing to local storage. Please wait...\n"
     ]
    },
    {
     "data": {
      "application/vnd.jupyter.widget-view+json": {
       "model_id": "5ee5cc64980245179fbdf9c44ccc9058",
       "version_major": 2,
       "version_minor": 0
      },
      "text/plain": [
       "  0%|          | 0/3846 [00:00<?, ?it/s]"
      ]
     },
     "metadata": {},
     "output_type": "display_data"
    },
    {
     "name": "stderr",
     "output_type": "stream",
     "text": [
      "INFO - 2024-07-12T03:49:37Z - Successfully downloaded to /home/jovyan/shared/data/copernicus/cmems_obs-oc_glo_bgc-plankton_my_l4-gapfree-multi-4km_P1D/201003.nc\n",
      "INFO - 2024-07-12T03:49:38Z - Dataset version was not specified, the latest one was selected: \"202311\"\n",
      "INFO - 2024-07-12T03:49:38Z - Dataset part was not specified, the first one was selected: \"default\"\n",
      "INFO - 2024-07-12T03:49:41Z - Service was not specified, the default one was selected: \"arco-geo-series\"\n",
      "INFO - 2024-07-12T03:49:44Z - Downloading using service arco-geo-series...\n",
      "INFO - 2024-07-12T03:49:50Z - Estimated size of the dataset file is 522.357 MB.\n",
      "INFO - 2024-07-12T03:49:50Z - Writing to local storage. Please wait...\n"
     ]
    },
    {
     "data": {
      "application/vnd.jupyter.widget-view+json": {
       "model_id": "5aeee954c9034a77a2359917651e9e16",
       "version_major": 2,
       "version_minor": 0
      },
      "text/plain": [
       "  0%|          | 0/3722 [00:00<?, ?it/s]"
      ]
     },
     "metadata": {},
     "output_type": "display_data"
    },
    {
     "name": "stderr",
     "output_type": "stream",
     "text": [
      "INFO - 2024-07-12T03:50:52Z - Successfully downloaded to /home/jovyan/shared/data/copernicus/cmems_obs-oc_glo_bgc-plankton_my_l4-gapfree-multi-4km_P1D/201004.nc\n",
      "INFO - 2024-07-12T03:50:53Z - Dataset version was not specified, the latest one was selected: \"202311\"\n",
      "INFO - 2024-07-12T03:50:53Z - Dataset part was not specified, the first one was selected: \"default\"\n",
      "INFO - 2024-07-12T03:50:56Z - Service was not specified, the default one was selected: \"arco-geo-series\"\n",
      "INFO - 2024-07-12T03:50:59Z - Downloading using service arco-geo-series...\n",
      "INFO - 2024-07-12T03:51:06Z - Estimated size of the dataset file is 539.769 MB.\n",
      "INFO - 2024-07-12T03:51:06Z - Writing to local storage. Please wait...\n"
     ]
    },
    {
     "data": {
      "application/vnd.jupyter.widget-view+json": {
       "model_id": "0ee386f2d40b4ce6ba668559ba891339",
       "version_major": 2,
       "version_minor": 0
      },
      "text/plain": [
       "  0%|          | 0/3846 [00:00<?, ?it/s]"
      ]
     },
     "metadata": {},
     "output_type": "display_data"
    },
    {
     "name": "stderr",
     "output_type": "stream",
     "text": [
      "INFO - 2024-07-12T03:52:09Z - Successfully downloaded to /home/jovyan/shared/data/copernicus/cmems_obs-oc_glo_bgc-plankton_my_l4-gapfree-multi-4km_P1D/201005.nc\n",
      "INFO - 2024-07-12T03:52:10Z - Dataset version was not specified, the latest one was selected: \"202311\"\n",
      "INFO - 2024-07-12T03:52:10Z - Dataset part was not specified, the first one was selected: \"default\"\n",
      "INFO - 2024-07-12T03:52:13Z - Service was not specified, the default one was selected: \"arco-geo-series\"\n",
      "INFO - 2024-07-12T03:52:16Z - Downloading using service arco-geo-series...\n",
      "INFO - 2024-07-12T03:52:23Z - Estimated size of the dataset file is 522.357 MB.\n",
      "INFO - 2024-07-12T03:52:23Z - Writing to local storage. Please wait...\n"
     ]
    },
    {
     "data": {
      "application/vnd.jupyter.widget-view+json": {
       "model_id": "fd38d0313dd447809db779a8e603b1ac",
       "version_major": 2,
       "version_minor": 0
      },
      "text/plain": [
       "  0%|          | 0/3722 [00:00<?, ?it/s]"
      ]
     },
     "metadata": {},
     "output_type": "display_data"
    },
    {
     "name": "stderr",
     "output_type": "stream",
     "text": [
      "INFO - 2024-07-12T03:53:25Z - Successfully downloaded to /home/jovyan/shared/data/copernicus/cmems_obs-oc_glo_bgc-plankton_my_l4-gapfree-multi-4km_P1D/201006.nc\n",
      "INFO - 2024-07-12T03:53:26Z - Dataset version was not specified, the latest one was selected: \"202311\"\n",
      "INFO - 2024-07-12T03:53:26Z - Dataset part was not specified, the first one was selected: \"default\"\n",
      "INFO - 2024-07-12T03:53:29Z - Service was not specified, the default one was selected: \"arco-geo-series\"\n",
      "INFO - 2024-07-12T03:53:32Z - Downloading using service arco-geo-series...\n",
      "INFO - 2024-07-12T03:53:39Z - Estimated size of the dataset file is 539.769 MB.\n",
      "INFO - 2024-07-12T03:53:39Z - Writing to local storage. Please wait...\n"
     ]
    },
    {
     "data": {
      "application/vnd.jupyter.widget-view+json": {
       "model_id": "b657d3c733e04791933304ed19ee0ace",
       "version_major": 2,
       "version_minor": 0
      },
      "text/plain": [
       "  0%|          | 0/3846 [00:00<?, ?it/s]"
      ]
     },
     "metadata": {},
     "output_type": "display_data"
    },
    {
     "name": "stderr",
     "output_type": "stream",
     "text": [
      "INFO - 2024-07-12T03:54:43Z - Successfully downloaded to /home/jovyan/shared/data/copernicus/cmems_obs-oc_glo_bgc-plankton_my_l4-gapfree-multi-4km_P1D/201007.nc\n",
      "INFO - 2024-07-12T03:54:44Z - Dataset version was not specified, the latest one was selected: \"202311\"\n",
      "INFO - 2024-07-12T03:54:44Z - Dataset part was not specified, the first one was selected: \"default\"\n",
      "INFO - 2024-07-12T03:54:47Z - Service was not specified, the default one was selected: \"arco-geo-series\"\n",
      "INFO - 2024-07-12T03:54:50Z - Downloading using service arco-geo-series...\n",
      "INFO - 2024-07-12T03:54:56Z - Estimated size of the dataset file is 539.769 MB.\n",
      "INFO - 2024-07-12T03:54:56Z - Writing to local storage. Please wait...\n"
     ]
    },
    {
     "data": {
      "application/vnd.jupyter.widget-view+json": {
       "model_id": "3ccaf053c9c6456cadf20e1719031f63",
       "version_major": 2,
       "version_minor": 0
      },
      "text/plain": [
       "  0%|          | 0/3846 [00:00<?, ?it/s]"
      ]
     },
     "metadata": {},
     "output_type": "display_data"
    },
    {
     "name": "stderr",
     "output_type": "stream",
     "text": [
      "INFO - 2024-07-12T03:56:00Z - Successfully downloaded to /home/jovyan/shared/data/copernicus/cmems_obs-oc_glo_bgc-plankton_my_l4-gapfree-multi-4km_P1D/201008.nc\n",
      "INFO - 2024-07-12T03:56:01Z - Dataset version was not specified, the latest one was selected: \"202311\"\n",
      "INFO - 2024-07-12T03:56:01Z - Dataset part was not specified, the first one was selected: \"default\"\n",
      "INFO - 2024-07-12T03:56:05Z - Service was not specified, the default one was selected: \"arco-geo-series\"\n",
      "INFO - 2024-07-12T03:56:07Z - Downloading using service arco-geo-series...\n",
      "INFO - 2024-07-12T03:56:14Z - Estimated size of the dataset file is 522.357 MB.\n",
      "INFO - 2024-07-12T03:56:14Z - Writing to local storage. Please wait...\n"
     ]
    },
    {
     "data": {
      "application/vnd.jupyter.widget-view+json": {
       "model_id": "b0f3e8f346214e07a0b7d583cb64537c",
       "version_major": 2,
       "version_minor": 0
      },
      "text/plain": [
       "  0%|          | 0/3722 [00:00<?, ?it/s]"
      ]
     },
     "metadata": {},
     "output_type": "display_data"
    },
    {
     "name": "stderr",
     "output_type": "stream",
     "text": [
      "INFO - 2024-07-12T03:57:16Z - Successfully downloaded to /home/jovyan/shared/data/copernicus/cmems_obs-oc_glo_bgc-plankton_my_l4-gapfree-multi-4km_P1D/201009.nc\n",
      "INFO - 2024-07-12T03:57:17Z - Dataset version was not specified, the latest one was selected: \"202311\"\n",
      "INFO - 2024-07-12T03:57:17Z - Dataset part was not specified, the first one was selected: \"default\"\n",
      "INFO - 2024-07-12T03:57:20Z - Service was not specified, the default one was selected: \"arco-geo-series\"\n",
      "INFO - 2024-07-12T03:57:23Z - Downloading using service arco-geo-series...\n",
      "INFO - 2024-07-12T03:57:30Z - Estimated size of the dataset file is 539.769 MB.\n",
      "INFO - 2024-07-12T03:57:30Z - Writing to local storage. Please wait...\n"
     ]
    },
    {
     "data": {
      "application/vnd.jupyter.widget-view+json": {
       "model_id": "5e413b75657943e692c7f46b9c7580f5",
       "version_major": 2,
       "version_minor": 0
      },
      "text/plain": [
       "  0%|          | 0/3846 [00:00<?, ?it/s]"
      ]
     },
     "metadata": {},
     "output_type": "display_data"
    },
    {
     "name": "stderr",
     "output_type": "stream",
     "text": [
      "INFO - 2024-07-12T03:58:33Z - Successfully downloaded to /home/jovyan/shared/data/copernicus/cmems_obs-oc_glo_bgc-plankton_my_l4-gapfree-multi-4km_P1D/201010.nc\n",
      "INFO - 2024-07-12T03:58:34Z - Dataset version was not specified, the latest one was selected: \"202311\"\n",
      "INFO - 2024-07-12T03:58:34Z - Dataset part was not specified, the first one was selected: \"default\"\n",
      "INFO - 2024-07-12T03:58:37Z - Service was not specified, the default one was selected: \"arco-geo-series\"\n",
      "INFO - 2024-07-12T03:58:40Z - Downloading using service arco-geo-series...\n",
      "INFO - 2024-07-12T03:58:46Z - Estimated size of the dataset file is 522.357 MB.\n",
      "INFO - 2024-07-12T03:58:46Z - Writing to local storage. Please wait...\n"
     ]
    },
    {
     "data": {
      "application/vnd.jupyter.widget-view+json": {
       "model_id": "674f8e1bd0c6480fa164b8e5f9dd41d0",
       "version_major": 2,
       "version_minor": 0
      },
      "text/plain": [
       "  0%|          | 0/3722 [00:00<?, ?it/s]"
      ]
     },
     "metadata": {},
     "output_type": "display_data"
    },
    {
     "name": "stderr",
     "output_type": "stream",
     "text": [
      "INFO - 2024-07-12T03:59:48Z - Successfully downloaded to /home/jovyan/shared/data/copernicus/cmems_obs-oc_glo_bgc-plankton_my_l4-gapfree-multi-4km_P1D/201011.nc\n",
      "INFO - 2024-07-12T03:59:49Z - Dataset version was not specified, the latest one was selected: \"202311\"\n",
      "INFO - 2024-07-12T03:59:49Z - Dataset part was not specified, the first one was selected: \"default\"\n",
      "INFO - 2024-07-12T03:59:52Z - Service was not specified, the default one was selected: \"arco-geo-series\"\n",
      "INFO - 2024-07-12T03:59:55Z - Downloading using service arco-geo-series...\n",
      "INFO - 2024-07-12T04:00:02Z - Estimated size of the dataset file is 539.769 MB.\n",
      "INFO - 2024-07-12T04:00:02Z - Writing to local storage. Please wait...\n"
     ]
    },
    {
     "data": {
      "application/vnd.jupyter.widget-view+json": {
       "model_id": "627cd42dc299477badbcf4110b6898e8",
       "version_major": 2,
       "version_minor": 0
      },
      "text/plain": [
       "  0%|          | 0/3846 [00:00<?, ?it/s]"
      ]
     },
     "metadata": {},
     "output_type": "display_data"
    },
    {
     "name": "stderr",
     "output_type": "stream",
     "text": [
      "INFO - 2024-07-12T04:01:06Z - Successfully downloaded to /home/jovyan/shared/data/copernicus/cmems_obs-oc_glo_bgc-plankton_my_l4-gapfree-multi-4km_P1D/201012.nc\n",
      "INFO - 2024-07-12T04:01:07Z - Dataset version was not specified, the latest one was selected: \"202311\"\n",
      "INFO - 2024-07-12T04:01:07Z - Dataset part was not specified, the first one was selected: \"default\"\n",
      "INFO - 2024-07-12T04:01:10Z - Service was not specified, the default one was selected: \"arco-geo-series\"\n",
      "INFO - 2024-07-12T04:01:13Z - Downloading using service arco-geo-series...\n",
      "INFO - 2024-07-12T04:01:20Z - Estimated size of the dataset file is 539.769 MB.\n",
      "INFO - 2024-07-12T04:01:20Z - Writing to local storage. Please wait...\n"
     ]
    },
    {
     "data": {
      "application/vnd.jupyter.widget-view+json": {
       "model_id": "5295d43e8c754fa59b6d3949500f59d0",
       "version_major": 2,
       "version_minor": 0
      },
      "text/plain": [
       "  0%|          | 0/3846 [00:00<?, ?it/s]"
      ]
     },
     "metadata": {},
     "output_type": "display_data"
    },
    {
     "name": "stderr",
     "output_type": "stream",
     "text": [
      "INFO - 2024-07-12T04:02:25Z - Successfully downloaded to /home/jovyan/shared/data/copernicus/cmems_obs-oc_glo_bgc-plankton_my_l4-gapfree-multi-4km_P1D/201101.nc\n",
      "INFO - 2024-07-12T04:02:26Z - Dataset version was not specified, the latest one was selected: \"202311\"\n",
      "INFO - 2024-07-12T04:02:26Z - Dataset part was not specified, the first one was selected: \"default\"\n",
      "INFO - 2024-07-12T04:02:29Z - Service was not specified, the default one was selected: \"arco-geo-series\"\n",
      "INFO - 2024-07-12T04:02:32Z - Downloading using service arco-geo-series...\n",
      "INFO - 2024-07-12T04:02:38Z - Estimated size of the dataset file is 487.533 MB.\n",
      "INFO - 2024-07-12T04:02:38Z - Writing to local storage. Please wait...\n"
     ]
    },
    {
     "data": {
      "application/vnd.jupyter.widget-view+json": {
       "model_id": "3b80cff0e35d44e99d07f5c8a5ff070c",
       "version_major": 2,
       "version_minor": 0
      },
      "text/plain": [
       "  0%|          | 0/3474 [00:00<?, ?it/s]"
      ]
     },
     "metadata": {},
     "output_type": "display_data"
    },
    {
     "name": "stderr",
     "output_type": "stream",
     "text": [
      "INFO - 2024-07-12T04:03:36Z - Successfully downloaded to /home/jovyan/shared/data/copernicus/cmems_obs-oc_glo_bgc-plankton_my_l4-gapfree-multi-4km_P1D/201102.nc\n",
      "INFO - 2024-07-12T04:03:38Z - Dataset version was not specified, the latest one was selected: \"202311\"\n",
      "INFO - 2024-07-12T04:03:38Z - Dataset part was not specified, the first one was selected: \"default\"\n",
      "INFO - 2024-07-12T04:03:41Z - Service was not specified, the default one was selected: \"arco-geo-series\"\n",
      "INFO - 2024-07-12T04:03:44Z - Downloading using service arco-geo-series...\n",
      "INFO - 2024-07-12T04:03:51Z - Estimated size of the dataset file is 539.769 MB.\n",
      "INFO - 2024-07-12T04:03:51Z - Writing to local storage. Please wait...\n"
     ]
    },
    {
     "data": {
      "application/vnd.jupyter.widget-view+json": {
       "model_id": "59afc41a09784f94bfed67a3e2a75b54",
       "version_major": 2,
       "version_minor": 0
      },
      "text/plain": [
       "  0%|          | 0/3846 [00:00<?, ?it/s]"
      ]
     },
     "metadata": {},
     "output_type": "display_data"
    },
    {
     "name": "stderr",
     "output_type": "stream",
     "text": [
      "INFO - 2024-07-12T04:04:54Z - Successfully downloaded to /home/jovyan/shared/data/copernicus/cmems_obs-oc_glo_bgc-plankton_my_l4-gapfree-multi-4km_P1D/201103.nc\n",
      "INFO - 2024-07-12T04:04:55Z - Dataset version was not specified, the latest one was selected: \"202311\"\n",
      "INFO - 2024-07-12T04:04:55Z - Dataset part was not specified, the first one was selected: \"default\"\n",
      "INFO - 2024-07-12T04:04:59Z - Service was not specified, the default one was selected: \"arco-geo-series\"\n",
      "INFO - 2024-07-12T04:05:02Z - Downloading using service arco-geo-series...\n",
      "INFO - 2024-07-12T04:05:08Z - Estimated size of the dataset file is 522.357 MB.\n",
      "INFO - 2024-07-12T04:05:08Z - Writing to local storage. Please wait...\n"
     ]
    },
    {
     "data": {
      "application/vnd.jupyter.widget-view+json": {
       "model_id": "2443390bfab94b07a6bd44c57e8cf5c6",
       "version_major": 2,
       "version_minor": 0
      },
      "text/plain": [
       "  0%|          | 0/3722 [00:00<?, ?it/s]"
      ]
     },
     "metadata": {},
     "output_type": "display_data"
    },
    {
     "name": "stderr",
     "output_type": "stream",
     "text": [
      "INFO - 2024-07-12T04:06:09Z - Successfully downloaded to /home/jovyan/shared/data/copernicus/cmems_obs-oc_glo_bgc-plankton_my_l4-gapfree-multi-4km_P1D/201104.nc\n",
      "INFO - 2024-07-12T04:06:11Z - Dataset version was not specified, the latest one was selected: \"202311\"\n",
      "INFO - 2024-07-12T04:06:11Z - Dataset part was not specified, the first one was selected: \"default\"\n",
      "INFO - 2024-07-12T04:06:14Z - Service was not specified, the default one was selected: \"arco-geo-series\"\n",
      "INFO - 2024-07-12T04:06:17Z - Downloading using service arco-geo-series...\n",
      "INFO - 2024-07-12T04:06:23Z - Estimated size of the dataset file is 539.769 MB.\n",
      "INFO - 2024-07-12T04:06:23Z - Writing to local storage. Please wait...\n"
     ]
    },
    {
     "data": {
      "application/vnd.jupyter.widget-view+json": {
       "model_id": "6882f7558abc468ba70b3196159f121e",
       "version_major": 2,
       "version_minor": 0
      },
      "text/plain": [
       "  0%|          | 0/3846 [00:00<?, ?it/s]"
      ]
     },
     "metadata": {},
     "output_type": "display_data"
    },
    {
     "name": "stderr",
     "output_type": "stream",
     "text": [
      "INFO - 2024-07-12T04:07:26Z - Successfully downloaded to /home/jovyan/shared/data/copernicus/cmems_obs-oc_glo_bgc-plankton_my_l4-gapfree-multi-4km_P1D/201105.nc\n",
      "INFO - 2024-07-12T04:07:27Z - Dataset version was not specified, the latest one was selected: \"202311\"\n",
      "INFO - 2024-07-12T04:07:27Z - Dataset part was not specified, the first one was selected: \"default\"\n",
      "INFO - 2024-07-12T04:07:30Z - Service was not specified, the default one was selected: \"arco-geo-series\"\n",
      "INFO - 2024-07-12T04:07:34Z - Downloading using service arco-geo-series...\n",
      "INFO - 2024-07-12T04:07:40Z - Estimated size of the dataset file is 522.357 MB.\n",
      "INFO - 2024-07-12T04:07:40Z - Writing to local storage. Please wait...\n"
     ]
    },
    {
     "data": {
      "application/vnd.jupyter.widget-view+json": {
       "model_id": "73a83861dcb54cacb584f8be4421cb6a",
       "version_major": 2,
       "version_minor": 0
      },
      "text/plain": [
       "  0%|          | 0/3722 [00:00<?, ?it/s]"
      ]
     },
     "metadata": {},
     "output_type": "display_data"
    },
    {
     "name": "stderr",
     "output_type": "stream",
     "text": [
      "INFO - 2024-07-12T04:08:41Z - Successfully downloaded to /home/jovyan/shared/data/copernicus/cmems_obs-oc_glo_bgc-plankton_my_l4-gapfree-multi-4km_P1D/201106.nc\n",
      "INFO - 2024-07-12T04:08:43Z - Dataset version was not specified, the latest one was selected: \"202311\"\n",
      "INFO - 2024-07-12T04:08:43Z - Dataset part was not specified, the first one was selected: \"default\"\n",
      "INFO - 2024-07-12T04:08:46Z - Service was not specified, the default one was selected: \"arco-geo-series\"\n",
      "INFO - 2024-07-12T04:08:49Z - Downloading using service arco-geo-series...\n",
      "INFO - 2024-07-12T04:08:55Z - Estimated size of the dataset file is 539.769 MB.\n",
      "INFO - 2024-07-12T04:08:55Z - Writing to local storage. Please wait...\n"
     ]
    },
    {
     "data": {
      "application/vnd.jupyter.widget-view+json": {
       "model_id": "b57a016291314504afd6f9f96116be61",
       "version_major": 2,
       "version_minor": 0
      },
      "text/plain": [
       "  0%|          | 0/3846 [00:00<?, ?it/s]"
      ]
     },
     "metadata": {},
     "output_type": "display_data"
    },
    {
     "name": "stderr",
     "output_type": "stream",
     "text": [
      "INFO - 2024-07-12T04:09:58Z - Successfully downloaded to /home/jovyan/shared/data/copernicus/cmems_obs-oc_glo_bgc-plankton_my_l4-gapfree-multi-4km_P1D/201107.nc\n",
      "INFO - 2024-07-12T04:10:00Z - Dataset version was not specified, the latest one was selected: \"202311\"\n",
      "INFO - 2024-07-12T04:10:00Z - Dataset part was not specified, the first one was selected: \"default\"\n",
      "INFO - 2024-07-12T04:10:02Z - Service was not specified, the default one was selected: \"arco-geo-series\"\n",
      "INFO - 2024-07-12T04:10:05Z - Downloading using service arco-geo-series...\n",
      "INFO - 2024-07-12T04:10:12Z - Estimated size of the dataset file is 539.769 MB.\n",
      "INFO - 2024-07-12T04:10:12Z - Writing to local storage. Please wait...\n"
     ]
    },
    {
     "data": {
      "application/vnd.jupyter.widget-view+json": {
       "model_id": "81bf9779d3574fa2b656fa5b8e1ee2e9",
       "version_major": 2,
       "version_minor": 0
      },
      "text/plain": [
       "  0%|          | 0/3846 [00:00<?, ?it/s]"
      ]
     },
     "metadata": {},
     "output_type": "display_data"
    },
    {
     "name": "stderr",
     "output_type": "stream",
     "text": [
      "INFO - 2024-07-12T04:11:16Z - Successfully downloaded to /home/jovyan/shared/data/copernicus/cmems_obs-oc_glo_bgc-plankton_my_l4-gapfree-multi-4km_P1D/201108.nc\n",
      "INFO - 2024-07-12T04:11:17Z - Dataset version was not specified, the latest one was selected: \"202311\"\n",
      "INFO - 2024-07-12T04:11:17Z - Dataset part was not specified, the first one was selected: \"default\"\n",
      "INFO - 2024-07-12T04:11:20Z - Service was not specified, the default one was selected: \"arco-geo-series\"\n",
      "INFO - 2024-07-12T04:11:23Z - Downloading using service arco-geo-series...\n",
      "INFO - 2024-07-12T04:11:29Z - Estimated size of the dataset file is 522.357 MB.\n",
      "INFO - 2024-07-12T04:11:29Z - Writing to local storage. Please wait...\n"
     ]
    },
    {
     "data": {
      "application/vnd.jupyter.widget-view+json": {
       "model_id": "3417b78fa28e4d5481a2c49539c2e700",
       "version_major": 2,
       "version_minor": 0
      },
      "text/plain": [
       "  0%|          | 0/3722 [00:00<?, ?it/s]"
      ]
     },
     "metadata": {},
     "output_type": "display_data"
    },
    {
     "name": "stderr",
     "output_type": "stream",
     "text": [
      "INFO - 2024-07-12T04:12:31Z - Successfully downloaded to /home/jovyan/shared/data/copernicus/cmems_obs-oc_glo_bgc-plankton_my_l4-gapfree-multi-4km_P1D/201109.nc\n",
      "INFO - 2024-07-12T04:12:32Z - Dataset version was not specified, the latest one was selected: \"202311\"\n",
      "INFO - 2024-07-12T04:12:32Z - Dataset part was not specified, the first one was selected: \"default\"\n",
      "INFO - 2024-07-12T04:12:36Z - Service was not specified, the default one was selected: \"arco-geo-series\"\n",
      "INFO - 2024-07-12T04:12:39Z - Downloading using service arco-geo-series...\n",
      "INFO - 2024-07-12T04:12:46Z - Estimated size of the dataset file is 539.769 MB.\n",
      "INFO - 2024-07-12T04:12:46Z - Writing to local storage. Please wait...\n"
     ]
    },
    {
     "data": {
      "application/vnd.jupyter.widget-view+json": {
       "model_id": "2e6bf59c20a344f5963521755af08093",
       "version_major": 2,
       "version_minor": 0
      },
      "text/plain": [
       "  0%|          | 0/3846 [00:00<?, ?it/s]"
      ]
     },
     "metadata": {},
     "output_type": "display_data"
    },
    {
     "name": "stderr",
     "output_type": "stream",
     "text": [
      "INFO - 2024-07-12T04:13:50Z - Successfully downloaded to /home/jovyan/shared/data/copernicus/cmems_obs-oc_glo_bgc-plankton_my_l4-gapfree-multi-4km_P1D/201110.nc\n",
      "INFO - 2024-07-12T04:13:51Z - Dataset version was not specified, the latest one was selected: \"202311\"\n",
      "INFO - 2024-07-12T04:13:51Z - Dataset part was not specified, the first one was selected: \"default\"\n",
      "INFO - 2024-07-12T04:13:54Z - Service was not specified, the default one was selected: \"arco-geo-series\"\n",
      "INFO - 2024-07-12T04:13:57Z - Downloading using service arco-geo-series...\n",
      "INFO - 2024-07-12T04:14:04Z - Estimated size of the dataset file is 522.357 MB.\n",
      "INFO - 2024-07-12T04:14:04Z - Writing to local storage. Please wait...\n"
     ]
    },
    {
     "data": {
      "application/vnd.jupyter.widget-view+json": {
       "model_id": "39f71bed01c04f2399cd13a57e011823",
       "version_major": 2,
       "version_minor": 0
      },
      "text/plain": [
       "  0%|          | 0/3722 [00:00<?, ?it/s]"
      ]
     },
     "metadata": {},
     "output_type": "display_data"
    },
    {
     "name": "stderr",
     "output_type": "stream",
     "text": [
      "INFO - 2024-07-12T04:15:05Z - Successfully downloaded to /home/jovyan/shared/data/copernicus/cmems_obs-oc_glo_bgc-plankton_my_l4-gapfree-multi-4km_P1D/201111.nc\n",
      "INFO - 2024-07-12T04:15:06Z - Dataset version was not specified, the latest one was selected: \"202311\"\n",
      "INFO - 2024-07-12T04:15:06Z - Dataset part was not specified, the first one was selected: \"default\"\n",
      "INFO - 2024-07-12T04:15:10Z - Service was not specified, the default one was selected: \"arco-geo-series\"\n",
      "INFO - 2024-07-12T04:15:13Z - Downloading using service arco-geo-series...\n",
      "INFO - 2024-07-12T04:15:20Z - Estimated size of the dataset file is 539.769 MB.\n",
      "INFO - 2024-07-12T04:15:20Z - Writing to local storage. Please wait...\n"
     ]
    },
    {
     "data": {
      "application/vnd.jupyter.widget-view+json": {
       "model_id": "a2570969baa1478998e2cf7c5aacb614",
       "version_major": 2,
       "version_minor": 0
      },
      "text/plain": [
       "  0%|          | 0/3846 [00:00<?, ?it/s]"
      ]
     },
     "metadata": {},
     "output_type": "display_data"
    },
    {
     "name": "stderr",
     "output_type": "stream",
     "text": [
      "INFO - 2024-07-12T04:16:22Z - Successfully downloaded to /home/jovyan/shared/data/copernicus/cmems_obs-oc_glo_bgc-plankton_my_l4-gapfree-multi-4km_P1D/201112.nc\n",
      "INFO - 2024-07-12T04:16:23Z - Dataset version was not specified, the latest one was selected: \"202311\"\n",
      "INFO - 2024-07-12T04:16:23Z - Dataset part was not specified, the first one was selected: \"default\"\n",
      "INFO - 2024-07-12T04:16:26Z - Service was not specified, the default one was selected: \"arco-geo-series\"\n",
      "INFO - 2024-07-12T04:16:30Z - Downloading using service arco-geo-series...\n",
      "INFO - 2024-07-12T04:16:36Z - Estimated size of the dataset file is 539.769 MB.\n",
      "INFO - 2024-07-12T04:16:36Z - Writing to local storage. Please wait...\n"
     ]
    },
    {
     "data": {
      "application/vnd.jupyter.widget-view+json": {
       "model_id": "903552187f524f0897f189728dfe37fb",
       "version_major": 2,
       "version_minor": 0
      },
      "text/plain": [
       "  0%|          | 0/3846 [00:00<?, ?it/s]"
      ]
     },
     "metadata": {},
     "output_type": "display_data"
    },
    {
     "name": "stderr",
     "output_type": "stream",
     "text": [
      "INFO - 2024-07-12T04:17:39Z - Successfully downloaded to /home/jovyan/shared/data/copernicus/cmems_obs-oc_glo_bgc-plankton_my_l4-gapfree-multi-4km_P1D/201201.nc\n",
      "INFO - 2024-07-12T04:17:40Z - Dataset version was not specified, the latest one was selected: \"202311\"\n",
      "INFO - 2024-07-12T04:17:40Z - Dataset part was not specified, the first one was selected: \"default\"\n",
      "INFO - 2024-07-12T04:17:43Z - Service was not specified, the default one was selected: \"arco-geo-series\"\n",
      "INFO - 2024-07-12T04:17:46Z - Downloading using service arco-geo-series...\n",
      "INFO - 2024-07-12T04:17:53Z - Estimated size of the dataset file is 504.945 MB.\n",
      "INFO - 2024-07-12T04:17:53Z - Writing to local storage. Please wait...\n"
     ]
    },
    {
     "data": {
      "application/vnd.jupyter.widget-view+json": {
       "model_id": "46af9b308fde4149a9970ed8449ccf12",
       "version_major": 2,
       "version_minor": 0
      },
      "text/plain": [
       "  0%|          | 0/3598 [00:00<?, ?it/s]"
      ]
     },
     "metadata": {},
     "output_type": "display_data"
    },
    {
     "name": "stderr",
     "output_type": "stream",
     "text": [
      "INFO - 2024-07-12T04:18:53Z - Successfully downloaded to /home/jovyan/shared/data/copernicus/cmems_obs-oc_glo_bgc-plankton_my_l4-gapfree-multi-4km_P1D/201202.nc\n",
      "INFO - 2024-07-12T04:18:54Z - Dataset version was not specified, the latest one was selected: \"202311\"\n",
      "INFO - 2024-07-12T04:18:54Z - Dataset part was not specified, the first one was selected: \"default\"\n",
      "INFO - 2024-07-12T04:18:57Z - Service was not specified, the default one was selected: \"arco-geo-series\"\n",
      "INFO - 2024-07-12T04:19:00Z - Downloading using service arco-geo-series...\n",
      "INFO - 2024-07-12T04:19:07Z - Estimated size of the dataset file is 539.769 MB.\n",
      "INFO - 2024-07-12T04:19:07Z - Writing to local storage. Please wait...\n"
     ]
    },
    {
     "data": {
      "application/vnd.jupyter.widget-view+json": {
       "model_id": "f0265117f1ac4db6a9e087953fc729e2",
       "version_major": 2,
       "version_minor": 0
      },
      "text/plain": [
       "  0%|          | 0/3846 [00:00<?, ?it/s]"
      ]
     },
     "metadata": {},
     "output_type": "display_data"
    },
    {
     "name": "stderr",
     "output_type": "stream",
     "text": [
      "INFO - 2024-07-12T04:20:10Z - Successfully downloaded to /home/jovyan/shared/data/copernicus/cmems_obs-oc_glo_bgc-plankton_my_l4-gapfree-multi-4km_P1D/201203.nc\n",
      "INFO - 2024-07-12T04:20:11Z - Dataset version was not specified, the latest one was selected: \"202311\"\n",
      "INFO - 2024-07-12T04:20:11Z - Dataset part was not specified, the first one was selected: \"default\"\n",
      "INFO - 2024-07-12T04:20:14Z - Service was not specified, the default one was selected: \"arco-geo-series\"\n",
      "INFO - 2024-07-12T04:20:17Z - Downloading using service arco-geo-series...\n",
      "INFO - 2024-07-12T04:20:24Z - Estimated size of the dataset file is 522.357 MB.\n",
      "INFO - 2024-07-12T04:20:24Z - Writing to local storage. Please wait...\n"
     ]
    },
    {
     "data": {
      "application/vnd.jupyter.widget-view+json": {
       "model_id": "5e0ffc06cc7f4737a344f64a0b570f1e",
       "version_major": 2,
       "version_minor": 0
      },
      "text/plain": [
       "  0%|          | 0/3722 [00:00<?, ?it/s]"
      ]
     },
     "metadata": {},
     "output_type": "display_data"
    },
    {
     "name": "stderr",
     "output_type": "stream",
     "text": [
      "INFO - 2024-07-12T04:21:25Z - Successfully downloaded to /home/jovyan/shared/data/copernicus/cmems_obs-oc_glo_bgc-plankton_my_l4-gapfree-multi-4km_P1D/201204.nc\n",
      "INFO - 2024-07-12T04:21:26Z - Dataset version was not specified, the latest one was selected: \"202311\"\n",
      "INFO - 2024-07-12T04:21:26Z - Dataset part was not specified, the first one was selected: \"default\"\n",
      "INFO - 2024-07-12T04:21:29Z - Service was not specified, the default one was selected: \"arco-geo-series\"\n",
      "INFO - 2024-07-12T04:21:32Z - Downloading using service arco-geo-series...\n",
      "INFO - 2024-07-12T04:21:39Z - Estimated size of the dataset file is 539.769 MB.\n",
      "INFO - 2024-07-12T04:21:39Z - Writing to local storage. Please wait...\n"
     ]
    },
    {
     "data": {
      "application/vnd.jupyter.widget-view+json": {
       "model_id": "95e9dd4419e64cf5b584ad7c8941dea4",
       "version_major": 2,
       "version_minor": 0
      },
      "text/plain": [
       "  0%|          | 0/3846 [00:00<?, ?it/s]"
      ]
     },
     "metadata": {},
     "output_type": "display_data"
    },
    {
     "name": "stderr",
     "output_type": "stream",
     "text": [
      "INFO - 2024-07-12T04:22:43Z - Successfully downloaded to /home/jovyan/shared/data/copernicus/cmems_obs-oc_glo_bgc-plankton_my_l4-gapfree-multi-4km_P1D/201205.nc\n",
      "INFO - 2024-07-12T04:22:44Z - Dataset version was not specified, the latest one was selected: \"202311\"\n",
      "INFO - 2024-07-12T04:22:44Z - Dataset part was not specified, the first one was selected: \"default\"\n",
      "INFO - 2024-07-12T04:22:47Z - Service was not specified, the default one was selected: \"arco-geo-series\"\n",
      "INFO - 2024-07-12T04:22:50Z - Downloading using service arco-geo-series...\n",
      "INFO - 2024-07-12T04:22:56Z - Estimated size of the dataset file is 522.357 MB.\n",
      "INFO - 2024-07-12T04:22:56Z - Writing to local storage. Please wait...\n"
     ]
    },
    {
     "data": {
      "application/vnd.jupyter.widget-view+json": {
       "model_id": "e7663d16556e4a0480a16f45bb3c2909",
       "version_major": 2,
       "version_minor": 0
      },
      "text/plain": [
       "  0%|          | 0/3722 [00:00<?, ?it/s]"
      ]
     },
     "metadata": {},
     "output_type": "display_data"
    },
    {
     "name": "stderr",
     "output_type": "stream",
     "text": [
      "INFO - 2024-07-12T04:23:59Z - Successfully downloaded to /home/jovyan/shared/data/copernicus/cmems_obs-oc_glo_bgc-plankton_my_l4-gapfree-multi-4km_P1D/201206.nc\n",
      "INFO - 2024-07-12T04:24:00Z - Dataset version was not specified, the latest one was selected: \"202311\"\n",
      "INFO - 2024-07-12T04:24:00Z - Dataset part was not specified, the first one was selected: \"default\"\n",
      "INFO - 2024-07-12T04:24:03Z - Service was not specified, the default one was selected: \"arco-geo-series\"\n",
      "INFO - 2024-07-12T04:24:05Z - Downloading using service arco-geo-series...\n",
      "INFO - 2024-07-12T04:24:12Z - Estimated size of the dataset file is 539.769 MB.\n",
      "INFO - 2024-07-12T04:24:12Z - Writing to local storage. Please wait...\n"
     ]
    },
    {
     "data": {
      "application/vnd.jupyter.widget-view+json": {
       "model_id": "e91e14eccc404e80ab1f64f7e4b6fb67",
       "version_major": 2,
       "version_minor": 0
      },
      "text/plain": [
       "  0%|          | 0/3846 [00:00<?, ?it/s]"
      ]
     },
     "metadata": {},
     "output_type": "display_data"
    },
    {
     "name": "stderr",
     "output_type": "stream",
     "text": [
      "INFO - 2024-07-12T04:25:15Z - Successfully downloaded to /home/jovyan/shared/data/copernicus/cmems_obs-oc_glo_bgc-plankton_my_l4-gapfree-multi-4km_P1D/201207.nc\n",
      "INFO - 2024-07-12T04:25:16Z - Dataset version was not specified, the latest one was selected: \"202311\"\n",
      "INFO - 2024-07-12T04:25:16Z - Dataset part was not specified, the first one was selected: \"default\"\n",
      "INFO - 2024-07-12T04:25:19Z - Service was not specified, the default one was selected: \"arco-geo-series\"\n",
      "INFO - 2024-07-12T04:25:22Z - Downloading using service arco-geo-series...\n",
      "INFO - 2024-07-12T04:25:29Z - Estimated size of the dataset file is 539.769 MB.\n",
      "INFO - 2024-07-12T04:25:29Z - Writing to local storage. Please wait...\n"
     ]
    },
    {
     "data": {
      "application/vnd.jupyter.widget-view+json": {
       "model_id": "7f4123f2c44b49ddbc8ca47d3ea03fd3",
       "version_major": 2,
       "version_minor": 0
      },
      "text/plain": [
       "  0%|          | 0/3846 [00:00<?, ?it/s]"
      ]
     },
     "metadata": {},
     "output_type": "display_data"
    },
    {
     "name": "stderr",
     "output_type": "stream",
     "text": [
      "INFO - 2024-07-12T04:26:31Z - Successfully downloaded to /home/jovyan/shared/data/copernicus/cmems_obs-oc_glo_bgc-plankton_my_l4-gapfree-multi-4km_P1D/201208.nc\n",
      "INFO - 2024-07-12T04:26:32Z - Dataset version was not specified, the latest one was selected: \"202311\"\n",
      "INFO - 2024-07-12T04:26:32Z - Dataset part was not specified, the first one was selected: \"default\"\n",
      "INFO - 2024-07-12T04:26:36Z - Service was not specified, the default one was selected: \"arco-geo-series\"\n",
      "INFO - 2024-07-12T04:26:39Z - Downloading using service arco-geo-series...\n",
      "INFO - 2024-07-12T04:26:45Z - Estimated size of the dataset file is 522.357 MB.\n",
      "INFO - 2024-07-12T04:26:45Z - Writing to local storage. Please wait...\n"
     ]
    },
    {
     "data": {
      "application/vnd.jupyter.widget-view+json": {
       "model_id": "69eb53f514324b2c946ace5d96e7c09e",
       "version_major": 2,
       "version_minor": 0
      },
      "text/plain": [
       "  0%|          | 0/3722 [00:00<?, ?it/s]"
      ]
     },
     "metadata": {},
     "output_type": "display_data"
    },
    {
     "name": "stderr",
     "output_type": "stream",
     "text": [
      "INFO - 2024-07-12T04:27:47Z - Successfully downloaded to /home/jovyan/shared/data/copernicus/cmems_obs-oc_glo_bgc-plankton_my_l4-gapfree-multi-4km_P1D/201209.nc\n",
      "INFO - 2024-07-12T04:27:48Z - Dataset version was not specified, the latest one was selected: \"202311\"\n",
      "INFO - 2024-07-12T04:27:48Z - Dataset part was not specified, the first one was selected: \"default\"\n",
      "INFO - 2024-07-12T04:27:51Z - Service was not specified, the default one was selected: \"arco-geo-series\"\n",
      "INFO - 2024-07-12T04:27:54Z - Downloading using service arco-geo-series...\n",
      "INFO - 2024-07-12T04:28:01Z - Estimated size of the dataset file is 539.769 MB.\n",
      "INFO - 2024-07-12T04:28:01Z - Writing to local storage. Please wait...\n"
     ]
    },
    {
     "data": {
      "application/vnd.jupyter.widget-view+json": {
       "model_id": "e3aa5902709349078280be0a4d3d11c9",
       "version_major": 2,
       "version_minor": 0
      },
      "text/plain": [
       "  0%|          | 0/3846 [00:00<?, ?it/s]"
      ]
     },
     "metadata": {},
     "output_type": "display_data"
    },
    {
     "name": "stderr",
     "output_type": "stream",
     "text": [
      "INFO - 2024-07-12T04:29:04Z - Successfully downloaded to /home/jovyan/shared/data/copernicus/cmems_obs-oc_glo_bgc-plankton_my_l4-gapfree-multi-4km_P1D/201210.nc\n",
      "INFO - 2024-07-12T04:29:05Z - Dataset version was not specified, the latest one was selected: \"202311\"\n",
      "INFO - 2024-07-12T04:29:05Z - Dataset part was not specified, the first one was selected: \"default\"\n",
      "INFO - 2024-07-12T04:29:09Z - Service was not specified, the default one was selected: \"arco-geo-series\"\n",
      "INFO - 2024-07-12T04:29:12Z - Downloading using service arco-geo-series...\n",
      "INFO - 2024-07-12T04:29:19Z - Estimated size of the dataset file is 522.357 MB.\n",
      "INFO - 2024-07-12T04:29:19Z - Writing to local storage. Please wait...\n"
     ]
    },
    {
     "data": {
      "application/vnd.jupyter.widget-view+json": {
       "model_id": "31cd6bd9ad2a47ec93d369740b3a7c6d",
       "version_major": 2,
       "version_minor": 0
      },
      "text/plain": [
       "  0%|          | 0/3722 [00:00<?, ?it/s]"
      ]
     },
     "metadata": {},
     "output_type": "display_data"
    },
    {
     "name": "stderr",
     "output_type": "stream",
     "text": [
      "INFO - 2024-07-12T04:30:20Z - Successfully downloaded to /home/jovyan/shared/data/copernicus/cmems_obs-oc_glo_bgc-plankton_my_l4-gapfree-multi-4km_P1D/201211.nc\n",
      "INFO - 2024-07-12T04:30:21Z - Dataset version was not specified, the latest one was selected: \"202311\"\n",
      "INFO - 2024-07-12T04:30:21Z - Dataset part was not specified, the first one was selected: \"default\"\n",
      "INFO - 2024-07-12T04:30:24Z - Service was not specified, the default one was selected: \"arco-geo-series\"\n",
      "INFO - 2024-07-12T04:30:28Z - Downloading using service arco-geo-series...\n",
      "INFO - 2024-07-12T04:30:34Z - Estimated size of the dataset file is 539.769 MB.\n",
      "INFO - 2024-07-12T04:30:34Z - Writing to local storage. Please wait...\n"
     ]
    },
    {
     "data": {
      "application/vnd.jupyter.widget-view+json": {
       "model_id": "425e674e571e4128af3ee4f60e2cea76",
       "version_major": 2,
       "version_minor": 0
      },
      "text/plain": [
       "  0%|          | 0/3846 [00:00<?, ?it/s]"
      ]
     },
     "metadata": {},
     "output_type": "display_data"
    },
    {
     "name": "stderr",
     "output_type": "stream",
     "text": [
      "INFO - 2024-07-12T04:31:38Z - Successfully downloaded to /home/jovyan/shared/data/copernicus/cmems_obs-oc_glo_bgc-plankton_my_l4-gapfree-multi-4km_P1D/201212.nc\n",
      "INFO - 2024-07-12T04:31:39Z - Dataset version was not specified, the latest one was selected: \"202311\"\n",
      "INFO - 2024-07-12T04:31:39Z - Dataset part was not specified, the first one was selected: \"default\"\n",
      "INFO - 2024-07-12T04:31:42Z - Service was not specified, the default one was selected: \"arco-geo-series\"\n",
      "INFO - 2024-07-12T04:31:45Z - Downloading using service arco-geo-series...\n",
      "INFO - 2024-07-12T04:31:52Z - Estimated size of the dataset file is 539.769 MB.\n",
      "INFO - 2024-07-12T04:31:52Z - Writing to local storage. Please wait...\n"
     ]
    },
    {
     "data": {
      "application/vnd.jupyter.widget-view+json": {
       "model_id": "ebb5c892ecdd4feaad633ca27bbcfdaf",
       "version_major": 2,
       "version_minor": 0
      },
      "text/plain": [
       "  0%|          | 0/3846 [00:00<?, ?it/s]"
      ]
     },
     "metadata": {},
     "output_type": "display_data"
    },
    {
     "name": "stderr",
     "output_type": "stream",
     "text": [
      "INFO - 2024-07-12T04:32:54Z - Successfully downloaded to /home/jovyan/shared/data/copernicus/cmems_obs-oc_glo_bgc-plankton_my_l4-gapfree-multi-4km_P1D/201301.nc\n",
      "INFO - 2024-07-12T04:32:56Z - Dataset version was not specified, the latest one was selected: \"202311\"\n",
      "INFO - 2024-07-12T04:32:56Z - Dataset part was not specified, the first one was selected: \"default\"\n",
      "INFO - 2024-07-12T04:32:59Z - Service was not specified, the default one was selected: \"arco-geo-series\"\n",
      "INFO - 2024-07-12T04:33:02Z - Downloading using service arco-geo-series...\n",
      "INFO - 2024-07-12T04:33:09Z - Estimated size of the dataset file is 487.533 MB.\n",
      "INFO - 2024-07-12T04:33:09Z - Writing to local storage. Please wait...\n"
     ]
    },
    {
     "data": {
      "application/vnd.jupyter.widget-view+json": {
       "model_id": "a8eb01dffbfe42848615f141ce655612",
       "version_major": 2,
       "version_minor": 0
      },
      "text/plain": [
       "  0%|          | 0/3474 [00:00<?, ?it/s]"
      ]
     },
     "metadata": {},
     "output_type": "display_data"
    },
    {
     "name": "stderr",
     "output_type": "stream",
     "text": [
      "INFO - 2024-07-12T04:34:06Z - Successfully downloaded to /home/jovyan/shared/data/copernicus/cmems_obs-oc_glo_bgc-plankton_my_l4-gapfree-multi-4km_P1D/201302.nc\n",
      "INFO - 2024-07-12T04:34:07Z - Dataset version was not specified, the latest one was selected: \"202311\"\n",
      "INFO - 2024-07-12T04:34:07Z - Dataset part was not specified, the first one was selected: \"default\"\n",
      "INFO - 2024-07-12T04:34:10Z - Service was not specified, the default one was selected: \"arco-geo-series\"\n",
      "INFO - 2024-07-12T04:34:13Z - Downloading using service arco-geo-series...\n",
      "INFO - 2024-07-12T04:34:20Z - Estimated size of the dataset file is 539.769 MB.\n",
      "INFO - 2024-07-12T04:34:20Z - Writing to local storage. Please wait...\n"
     ]
    },
    {
     "data": {
      "application/vnd.jupyter.widget-view+json": {
       "model_id": "181ebb57aeaf4b7b9fd079e7ce5e4b3b",
       "version_major": 2,
       "version_minor": 0
      },
      "text/plain": [
       "  0%|          | 0/3846 [00:00<?, ?it/s]"
      ]
     },
     "metadata": {},
     "output_type": "display_data"
    },
    {
     "name": "stderr",
     "output_type": "stream",
     "text": [
      "INFO - 2024-07-12T04:35:23Z - Successfully downloaded to /home/jovyan/shared/data/copernicus/cmems_obs-oc_glo_bgc-plankton_my_l4-gapfree-multi-4km_P1D/201303.nc\n",
      "INFO - 2024-07-12T04:35:24Z - Dataset version was not specified, the latest one was selected: \"202311\"\n",
      "INFO - 2024-07-12T04:35:24Z - Dataset part was not specified, the first one was selected: \"default\"\n",
      "INFO - 2024-07-12T04:35:27Z - Service was not specified, the default one was selected: \"arco-geo-series\"\n",
      "INFO - 2024-07-12T04:35:30Z - Downloading using service arco-geo-series...\n",
      "INFO - 2024-07-12T04:35:37Z - Estimated size of the dataset file is 522.357 MB.\n",
      "INFO - 2024-07-12T04:35:37Z - Writing to local storage. Please wait...\n"
     ]
    },
    {
     "data": {
      "application/vnd.jupyter.widget-view+json": {
       "model_id": "80b60381dec446049c94d99190176ba8",
       "version_major": 2,
       "version_minor": 0
      },
      "text/plain": [
       "  0%|          | 0/3722 [00:00<?, ?it/s]"
      ]
     },
     "metadata": {},
     "output_type": "display_data"
    },
    {
     "name": "stderr",
     "output_type": "stream",
     "text": [
      "INFO - 2024-07-12T04:36:38Z - Successfully downloaded to /home/jovyan/shared/data/copernicus/cmems_obs-oc_glo_bgc-plankton_my_l4-gapfree-multi-4km_P1D/201304.nc\n",
      "INFO - 2024-07-12T04:36:39Z - Dataset version was not specified, the latest one was selected: \"202311\"\n",
      "INFO - 2024-07-12T04:36:39Z - Dataset part was not specified, the first one was selected: \"default\"\n",
      "INFO - 2024-07-12T04:36:42Z - Service was not specified, the default one was selected: \"arco-geo-series\"\n",
      "INFO - 2024-07-12T04:36:45Z - Downloading using service arco-geo-series...\n",
      "INFO - 2024-07-12T04:36:52Z - Estimated size of the dataset file is 539.769 MB.\n",
      "INFO - 2024-07-12T04:36:52Z - Writing to local storage. Please wait...\n"
     ]
    },
    {
     "data": {
      "application/vnd.jupyter.widget-view+json": {
       "model_id": "c34cec0731ba481f85933e227a4688b8",
       "version_major": 2,
       "version_minor": 0
      },
      "text/plain": [
       "  0%|          | 0/3846 [00:00<?, ?it/s]"
      ]
     },
     "metadata": {},
     "output_type": "display_data"
    },
    {
     "name": "stderr",
     "output_type": "stream",
     "text": [
      "INFO - 2024-07-12T04:37:55Z - Successfully downloaded to /home/jovyan/shared/data/copernicus/cmems_obs-oc_glo_bgc-plankton_my_l4-gapfree-multi-4km_P1D/201305.nc\n",
      "INFO - 2024-07-12T04:37:56Z - Dataset version was not specified, the latest one was selected: \"202311\"\n",
      "INFO - 2024-07-12T04:37:56Z - Dataset part was not specified, the first one was selected: \"default\"\n",
      "INFO - 2024-07-12T04:37:59Z - Service was not specified, the default one was selected: \"arco-geo-series\"\n",
      "INFO - 2024-07-12T04:38:02Z - Downloading using service arco-geo-series...\n",
      "INFO - 2024-07-12T04:38:08Z - Estimated size of the dataset file is 522.357 MB.\n",
      "INFO - 2024-07-12T04:38:08Z - Writing to local storage. Please wait...\n"
     ]
    },
    {
     "data": {
      "application/vnd.jupyter.widget-view+json": {
       "model_id": "9089eb3cb07b47d1ade3b2d2ad7f6036",
       "version_major": 2,
       "version_minor": 0
      },
      "text/plain": [
       "  0%|          | 0/3722 [00:00<?, ?it/s]"
      ]
     },
     "metadata": {},
     "output_type": "display_data"
    },
    {
     "name": "stderr",
     "output_type": "stream",
     "text": [
      "INFO - 2024-07-12T04:39:09Z - Successfully downloaded to /home/jovyan/shared/data/copernicus/cmems_obs-oc_glo_bgc-plankton_my_l4-gapfree-multi-4km_P1D/201306.nc\n",
      "INFO - 2024-07-12T04:39:10Z - Dataset version was not specified, the latest one was selected: \"202311\"\n",
      "INFO - 2024-07-12T04:39:10Z - Dataset part was not specified, the first one was selected: \"default\"\n",
      "INFO - 2024-07-12T04:39:13Z - Service was not specified, the default one was selected: \"arco-geo-series\"\n",
      "INFO - 2024-07-12T04:39:16Z - Downloading using service arco-geo-series...\n",
      "INFO - 2024-07-12T04:39:23Z - Estimated size of the dataset file is 539.769 MB.\n",
      "INFO - 2024-07-12T04:39:23Z - Writing to local storage. Please wait...\n"
     ]
    },
    {
     "data": {
      "application/vnd.jupyter.widget-view+json": {
       "model_id": "93d3fbd266ea4d3fad2c3a5ed9a31fc1",
       "version_major": 2,
       "version_minor": 0
      },
      "text/plain": [
       "  0%|          | 0/3846 [00:00<?, ?it/s]"
      ]
     },
     "metadata": {},
     "output_type": "display_data"
    },
    {
     "name": "stderr",
     "output_type": "stream",
     "text": [
      "INFO - 2024-07-12T04:40:26Z - Successfully downloaded to /home/jovyan/shared/data/copernicus/cmems_obs-oc_glo_bgc-plankton_my_l4-gapfree-multi-4km_P1D/201307.nc\n",
      "INFO - 2024-07-12T04:40:27Z - Dataset version was not specified, the latest one was selected: \"202311\"\n",
      "INFO - 2024-07-12T04:40:27Z - Dataset part was not specified, the first one was selected: \"default\"\n",
      "INFO - 2024-07-12T04:40:30Z - Service was not specified, the default one was selected: \"arco-geo-series\"\n",
      "INFO - 2024-07-12T04:40:33Z - Downloading using service arco-geo-series...\n",
      "INFO - 2024-07-12T04:40:39Z - Estimated size of the dataset file is 539.769 MB.\n",
      "INFO - 2024-07-12T04:40:39Z - Writing to local storage. Please wait...\n"
     ]
    },
    {
     "data": {
      "application/vnd.jupyter.widget-view+json": {
       "model_id": "d8481b8ce3ee4cb6a487f68562cf2fe6",
       "version_major": 2,
       "version_minor": 0
      },
      "text/plain": [
       "  0%|          | 0/3846 [00:00<?, ?it/s]"
      ]
     },
     "metadata": {},
     "output_type": "display_data"
    },
    {
     "name": "stderr",
     "output_type": "stream",
     "text": [
      "INFO - 2024-07-12T04:41:42Z - Successfully downloaded to /home/jovyan/shared/data/copernicus/cmems_obs-oc_glo_bgc-plankton_my_l4-gapfree-multi-4km_P1D/201308.nc\n",
      "INFO - 2024-07-12T04:41:43Z - Dataset version was not specified, the latest one was selected: \"202311\"\n",
      "INFO - 2024-07-12T04:41:43Z - Dataset part was not specified, the first one was selected: \"default\"\n",
      "INFO - 2024-07-12T04:41:46Z - Service was not specified, the default one was selected: \"arco-geo-series\"\n",
      "INFO - 2024-07-12T04:41:50Z - Downloading using service arco-geo-series...\n",
      "INFO - 2024-07-12T04:41:56Z - Estimated size of the dataset file is 522.357 MB.\n",
      "INFO - 2024-07-12T04:41:56Z - Writing to local storage. Please wait...\n"
     ]
    },
    {
     "data": {
      "application/vnd.jupyter.widget-view+json": {
       "model_id": "4847d48890914c15b9e52ed15838cf0e",
       "version_major": 2,
       "version_minor": 0
      },
      "text/plain": [
       "  0%|          | 0/3722 [00:00<?, ?it/s]"
      ]
     },
     "metadata": {},
     "output_type": "display_data"
    },
    {
     "name": "stderr",
     "output_type": "stream",
     "text": [
      "INFO - 2024-07-12T04:42:57Z - Successfully downloaded to /home/jovyan/shared/data/copernicus/cmems_obs-oc_glo_bgc-plankton_my_l4-gapfree-multi-4km_P1D/201309.nc\n",
      "INFO - 2024-07-12T04:42:59Z - Dataset version was not specified, the latest one was selected: \"202311\"\n",
      "INFO - 2024-07-12T04:42:59Z - Dataset part was not specified, the first one was selected: \"default\"\n",
      "INFO - 2024-07-12T04:43:02Z - Service was not specified, the default one was selected: \"arco-geo-series\"\n",
      "INFO - 2024-07-12T04:43:05Z - Downloading using service arco-geo-series...\n",
      "INFO - 2024-07-12T04:43:11Z - Estimated size of the dataset file is 539.769 MB.\n",
      "INFO - 2024-07-12T04:43:11Z - Writing to local storage. Please wait...\n"
     ]
    },
    {
     "data": {
      "application/vnd.jupyter.widget-view+json": {
       "model_id": "850e6a17d915474db630fefeb4dc2395",
       "version_major": 2,
       "version_minor": 0
      },
      "text/plain": [
       "  0%|          | 0/3846 [00:00<?, ?it/s]"
      ]
     },
     "metadata": {},
     "output_type": "display_data"
    },
    {
     "name": "stderr",
     "output_type": "stream",
     "text": [
      "INFO - 2024-07-12T04:44:15Z - Successfully downloaded to /home/jovyan/shared/data/copernicus/cmems_obs-oc_glo_bgc-plankton_my_l4-gapfree-multi-4km_P1D/201310.nc\n",
      "INFO - 2024-07-12T04:44:16Z - Dataset version was not specified, the latest one was selected: \"202311\"\n",
      "INFO - 2024-07-12T04:44:16Z - Dataset part was not specified, the first one was selected: \"default\"\n",
      "INFO - 2024-07-12T04:44:19Z - Service was not specified, the default one was selected: \"arco-geo-series\"\n",
      "INFO - 2024-07-12T04:44:23Z - Downloading using service arco-geo-series...\n",
      "INFO - 2024-07-12T04:44:29Z - Estimated size of the dataset file is 522.357 MB.\n",
      "INFO - 2024-07-12T04:44:29Z - Writing to local storage. Please wait...\n"
     ]
    },
    {
     "data": {
      "application/vnd.jupyter.widget-view+json": {
       "model_id": "466b7fe7b94a4ce5a976de1d0472a8f8",
       "version_major": 2,
       "version_minor": 0
      },
      "text/plain": [
       "  0%|          | 0/3722 [00:00<?, ?it/s]"
      ]
     },
     "metadata": {},
     "output_type": "display_data"
    },
    {
     "name": "stderr",
     "output_type": "stream",
     "text": [
      "INFO - 2024-07-12T04:45:31Z - Successfully downloaded to /home/jovyan/shared/data/copernicus/cmems_obs-oc_glo_bgc-plankton_my_l4-gapfree-multi-4km_P1D/201311.nc\n",
      "INFO - 2024-07-12T04:45:32Z - Dataset version was not specified, the latest one was selected: \"202311\"\n",
      "INFO - 2024-07-12T04:45:32Z - Dataset part was not specified, the first one was selected: \"default\"\n",
      "INFO - 2024-07-12T04:45:35Z - Service was not specified, the default one was selected: \"arco-geo-series\"\n",
      "INFO - 2024-07-12T04:45:38Z - Downloading using service arco-geo-series...\n",
      "INFO - 2024-07-12T04:45:45Z - Estimated size of the dataset file is 539.769 MB.\n",
      "INFO - 2024-07-12T04:45:45Z - Writing to local storage. Please wait...\n"
     ]
    },
    {
     "data": {
      "application/vnd.jupyter.widget-view+json": {
       "model_id": "7d9f1b488dbc4c7398da960427c25d9a",
       "version_major": 2,
       "version_minor": 0
      },
      "text/plain": [
       "  0%|          | 0/3846 [00:00<?, ?it/s]"
      ]
     },
     "metadata": {},
     "output_type": "display_data"
    },
    {
     "name": "stderr",
     "output_type": "stream",
     "text": [
      "INFO - 2024-07-12T04:46:48Z - Successfully downloaded to /home/jovyan/shared/data/copernicus/cmems_obs-oc_glo_bgc-plankton_my_l4-gapfree-multi-4km_P1D/201312.nc\n",
      "INFO - 2024-07-12T04:46:49Z - Dataset version was not specified, the latest one was selected: \"202311\"\n",
      "INFO - 2024-07-12T04:46:49Z - Dataset part was not specified, the first one was selected: \"default\"\n",
      "INFO - 2024-07-12T04:46:52Z - Service was not specified, the default one was selected: \"arco-geo-series\"\n",
      "INFO - 2024-07-12T04:46:55Z - Downloading using service arco-geo-series...\n",
      "INFO - 2024-07-12T04:47:02Z - Estimated size of the dataset file is 539.769 MB.\n",
      "INFO - 2024-07-12T04:47:02Z - Writing to local storage. Please wait...\n"
     ]
    },
    {
     "data": {
      "application/vnd.jupyter.widget-view+json": {
       "model_id": "0f12b4335c3d4c3aa6fc5afe928df008",
       "version_major": 2,
       "version_minor": 0
      },
      "text/plain": [
       "  0%|          | 0/3846 [00:00<?, ?it/s]"
      ]
     },
     "metadata": {},
     "output_type": "display_data"
    },
    {
     "name": "stderr",
     "output_type": "stream",
     "text": [
      "INFO - 2024-07-12T04:48:05Z - Successfully downloaded to /home/jovyan/shared/data/copernicus/cmems_obs-oc_glo_bgc-plankton_my_l4-gapfree-multi-4km_P1D/201401.nc\n",
      "INFO - 2024-07-12T04:48:07Z - Dataset version was not specified, the latest one was selected: \"202311\"\n",
      "INFO - 2024-07-12T04:48:07Z - Dataset part was not specified, the first one was selected: \"default\"\n",
      "INFO - 2024-07-12T04:48:09Z - Service was not specified, the default one was selected: \"arco-geo-series\"\n",
      "INFO - 2024-07-12T04:48:12Z - Downloading using service arco-geo-series...\n",
      "INFO - 2024-07-12T04:48:19Z - Estimated size of the dataset file is 487.533 MB.\n",
      "INFO - 2024-07-12T04:48:19Z - Writing to local storage. Please wait...\n"
     ]
    },
    {
     "data": {
      "application/vnd.jupyter.widget-view+json": {
       "model_id": "1f7af8131cc14a96a8af676901d6845d",
       "version_major": 2,
       "version_minor": 0
      },
      "text/plain": [
       "  0%|          | 0/3474 [00:00<?, ?it/s]"
      ]
     },
     "metadata": {},
     "output_type": "display_data"
    },
    {
     "name": "stderr",
     "output_type": "stream",
     "text": [
      "INFO - 2024-07-12T04:49:16Z - Successfully downloaded to /home/jovyan/shared/data/copernicus/cmems_obs-oc_glo_bgc-plankton_my_l4-gapfree-multi-4km_P1D/201402.nc\n",
      "INFO - 2024-07-12T04:49:17Z - Dataset version was not specified, the latest one was selected: \"202311\"\n",
      "INFO - 2024-07-12T04:49:17Z - Dataset part was not specified, the first one was selected: \"default\"\n",
      "INFO - 2024-07-12T04:49:20Z - Service was not specified, the default one was selected: \"arco-geo-series\"\n",
      "INFO - 2024-07-12T04:49:23Z - Downloading using service arco-geo-series...\n",
      "INFO - 2024-07-12T04:49:30Z - Estimated size of the dataset file is 539.769 MB.\n",
      "INFO - 2024-07-12T04:49:30Z - Writing to local storage. Please wait...\n"
     ]
    },
    {
     "data": {
      "application/vnd.jupyter.widget-view+json": {
       "model_id": "284e89c50f8c49beaf77af287725d2cd",
       "version_major": 2,
       "version_minor": 0
      },
      "text/plain": [
       "  0%|          | 0/3846 [00:00<?, ?it/s]"
      ]
     },
     "metadata": {},
     "output_type": "display_data"
    },
    {
     "name": "stderr",
     "output_type": "stream",
     "text": [
      "INFO - 2024-07-12T04:50:33Z - Successfully downloaded to /home/jovyan/shared/data/copernicus/cmems_obs-oc_glo_bgc-plankton_my_l4-gapfree-multi-4km_P1D/201403.nc\n",
      "INFO - 2024-07-12T04:50:34Z - Dataset version was not specified, the latest one was selected: \"202311\"\n",
      "INFO - 2024-07-12T04:50:34Z - Dataset part was not specified, the first one was selected: \"default\"\n",
      "INFO - 2024-07-12T04:50:37Z - Service was not specified, the default one was selected: \"arco-geo-series\"\n",
      "INFO - 2024-07-12T04:50:40Z - Downloading using service arco-geo-series...\n",
      "INFO - 2024-07-12T04:50:47Z - Estimated size of the dataset file is 522.357 MB.\n",
      "INFO - 2024-07-12T04:50:47Z - Writing to local storage. Please wait...\n"
     ]
    },
    {
     "data": {
      "application/vnd.jupyter.widget-view+json": {
       "model_id": "f12322c97b594b0f945ad084e8a13597",
       "version_major": 2,
       "version_minor": 0
      },
      "text/plain": [
       "  0%|          | 0/3722 [00:00<?, ?it/s]"
      ]
     },
     "metadata": {},
     "output_type": "display_data"
    },
    {
     "name": "stderr",
     "output_type": "stream",
     "text": [
      "INFO - 2024-07-12T04:51:50Z - Successfully downloaded to /home/jovyan/shared/data/copernicus/cmems_obs-oc_glo_bgc-plankton_my_l4-gapfree-multi-4km_P1D/201404.nc\n",
      "INFO - 2024-07-12T04:51:51Z - Dataset version was not specified, the latest one was selected: \"202311\"\n",
      "INFO - 2024-07-12T04:51:51Z - Dataset part was not specified, the first one was selected: \"default\"\n",
      "INFO - 2024-07-12T04:51:54Z - Service was not specified, the default one was selected: \"arco-geo-series\"\n",
      "INFO - 2024-07-12T04:51:57Z - Downloading using service arco-geo-series...\n",
      "INFO - 2024-07-12T04:52:03Z - Estimated size of the dataset file is 539.769 MB.\n",
      "INFO - 2024-07-12T04:52:03Z - Writing to local storage. Please wait...\n"
     ]
    },
    {
     "data": {
      "application/vnd.jupyter.widget-view+json": {
       "model_id": "fc164f9e312e44a3b20bcf2a69f11ce8",
       "version_major": 2,
       "version_minor": 0
      },
      "text/plain": [
       "  0%|          | 0/3846 [00:00<?, ?it/s]"
      ]
     },
     "metadata": {},
     "output_type": "display_data"
    },
    {
     "name": "stderr",
     "output_type": "stream",
     "text": [
      "INFO - 2024-07-12T04:53:07Z - Successfully downloaded to /home/jovyan/shared/data/copernicus/cmems_obs-oc_glo_bgc-plankton_my_l4-gapfree-multi-4km_P1D/201405.nc\n",
      "INFO - 2024-07-12T04:53:08Z - Dataset version was not specified, the latest one was selected: \"202311\"\n",
      "INFO - 2024-07-12T04:53:08Z - Dataset part was not specified, the first one was selected: \"default\"\n",
      "INFO - 2024-07-12T04:53:11Z - Service was not specified, the default one was selected: \"arco-geo-series\"\n",
      "INFO - 2024-07-12T04:53:14Z - Downloading using service arco-geo-series...\n",
      "INFO - 2024-07-12T04:53:20Z - Estimated size of the dataset file is 522.357 MB.\n",
      "INFO - 2024-07-12T04:53:20Z - Writing to local storage. Please wait...\n"
     ]
    },
    {
     "data": {
      "application/vnd.jupyter.widget-view+json": {
       "model_id": "021818eb33194fd59cfa6dacb93bb3b6",
       "version_major": 2,
       "version_minor": 0
      },
      "text/plain": [
       "  0%|          | 0/3722 [00:00<?, ?it/s]"
      ]
     },
     "metadata": {},
     "output_type": "display_data"
    },
    {
     "name": "stderr",
     "output_type": "stream",
     "text": [
      "INFO - 2024-07-12T04:54:22Z - Successfully downloaded to /home/jovyan/shared/data/copernicus/cmems_obs-oc_glo_bgc-plankton_my_l4-gapfree-multi-4km_P1D/201406.nc\n",
      "INFO - 2024-07-12T04:54:23Z - Dataset version was not specified, the latest one was selected: \"202311\"\n",
      "INFO - 2024-07-12T04:54:23Z - Dataset part was not specified, the first one was selected: \"default\"\n",
      "INFO - 2024-07-12T04:54:26Z - Service was not specified, the default one was selected: \"arco-geo-series\"\n",
      "INFO - 2024-07-12T04:54:29Z - Downloading using service arco-geo-series...\n",
      "INFO - 2024-07-12T04:54:35Z - Estimated size of the dataset file is 539.769 MB.\n",
      "INFO - 2024-07-12T04:54:35Z - Writing to local storage. Please wait...\n"
     ]
    },
    {
     "data": {
      "application/vnd.jupyter.widget-view+json": {
       "model_id": "bfb8338d32bc4381a1f03da712428aff",
       "version_major": 2,
       "version_minor": 0
      },
      "text/plain": [
       "  0%|          | 0/3846 [00:00<?, ?it/s]"
      ]
     },
     "metadata": {},
     "output_type": "display_data"
    },
    {
     "name": "stderr",
     "output_type": "stream",
     "text": [
      "INFO - 2024-07-12T04:55:38Z - Successfully downloaded to /home/jovyan/shared/data/copernicus/cmems_obs-oc_glo_bgc-plankton_my_l4-gapfree-multi-4km_P1D/201407.nc\n",
      "INFO - 2024-07-12T04:55:40Z - Dataset version was not specified, the latest one was selected: \"202311\"\n",
      "INFO - 2024-07-12T04:55:40Z - Dataset part was not specified, the first one was selected: \"default\"\n",
      "INFO - 2024-07-12T04:55:43Z - Service was not specified, the default one was selected: \"arco-geo-series\"\n",
      "INFO - 2024-07-12T04:55:46Z - Downloading using service arco-geo-series...\n",
      "INFO - 2024-07-12T04:55:53Z - Estimated size of the dataset file is 539.769 MB.\n",
      "INFO - 2024-07-12T04:55:53Z - Writing to local storage. Please wait...\n"
     ]
    },
    {
     "data": {
      "application/vnd.jupyter.widget-view+json": {
       "model_id": "60e30b3b4f1345c2acdec69f9e6fa944",
       "version_major": 2,
       "version_minor": 0
      },
      "text/plain": [
       "  0%|          | 0/3846 [00:00<?, ?it/s]"
      ]
     },
     "metadata": {},
     "output_type": "display_data"
    },
    {
     "name": "stderr",
     "output_type": "stream",
     "text": [
      "INFO - 2024-07-12T04:56:57Z - Successfully downloaded to /home/jovyan/shared/data/copernicus/cmems_obs-oc_glo_bgc-plankton_my_l4-gapfree-multi-4km_P1D/201408.nc\n",
      "INFO - 2024-07-12T04:56:57Z - Dataset version was not specified, the latest one was selected: \"202311\"\n",
      "INFO - 2024-07-12T04:56:57Z - Dataset part was not specified, the first one was selected: \"default\"\n",
      "INFO - 2024-07-12T04:57:01Z - Service was not specified, the default one was selected: \"arco-geo-series\"\n",
      "INFO - 2024-07-12T04:57:03Z - Downloading using service arco-geo-series...\n",
      "INFO - 2024-07-12T04:57:10Z - Estimated size of the dataset file is 522.357 MB.\n",
      "INFO - 2024-07-12T04:57:10Z - Writing to local storage. Please wait...\n"
     ]
    },
    {
     "data": {
      "application/vnd.jupyter.widget-view+json": {
       "model_id": "ba6c2f71c5134ac29791ee7188d8e44b",
       "version_major": 2,
       "version_minor": 0
      },
      "text/plain": [
       "  0%|          | 0/3722 [00:00<?, ?it/s]"
      ]
     },
     "metadata": {},
     "output_type": "display_data"
    },
    {
     "name": "stderr",
     "output_type": "stream",
     "text": [
      "INFO - 2024-07-12T04:58:12Z - Successfully downloaded to /home/jovyan/shared/data/copernicus/cmems_obs-oc_glo_bgc-plankton_my_l4-gapfree-multi-4km_P1D/201409.nc\n",
      "INFO - 2024-07-12T04:58:13Z - Dataset version was not specified, the latest one was selected: \"202311\"\n",
      "INFO - 2024-07-12T04:58:13Z - Dataset part was not specified, the first one was selected: \"default\"\n",
      "INFO - 2024-07-12T04:58:16Z - Service was not specified, the default one was selected: \"arco-geo-series\"\n",
      "INFO - 2024-07-12T04:58:19Z - Downloading using service arco-geo-series...\n",
      "INFO - 2024-07-12T04:58:26Z - Estimated size of the dataset file is 539.769 MB.\n",
      "INFO - 2024-07-12T04:58:26Z - Writing to local storage. Please wait...\n"
     ]
    },
    {
     "data": {
      "application/vnd.jupyter.widget-view+json": {
       "model_id": "55bf64533ce844fe89114abb5169b532",
       "version_major": 2,
       "version_minor": 0
      },
      "text/plain": [
       "  0%|          | 0/3846 [00:00<?, ?it/s]"
      ]
     },
     "metadata": {},
     "output_type": "display_data"
    },
    {
     "name": "stderr",
     "output_type": "stream",
     "text": [
      "INFO - 2024-07-12T04:59:29Z - Successfully downloaded to /home/jovyan/shared/data/copernicus/cmems_obs-oc_glo_bgc-plankton_my_l4-gapfree-multi-4km_P1D/201410.nc\n",
      "INFO - 2024-07-12T04:59:30Z - Dataset version was not specified, the latest one was selected: \"202311\"\n",
      "INFO - 2024-07-12T04:59:30Z - Dataset part was not specified, the first one was selected: \"default\"\n",
      "INFO - 2024-07-12T04:59:34Z - Service was not specified, the default one was selected: \"arco-geo-series\"\n",
      "INFO - 2024-07-12T04:59:37Z - Downloading using service arco-geo-series...\n",
      "INFO - 2024-07-12T04:59:43Z - Estimated size of the dataset file is 522.357 MB.\n",
      "INFO - 2024-07-12T04:59:43Z - Writing to local storage. Please wait...\n"
     ]
    },
    {
     "data": {
      "application/vnd.jupyter.widget-view+json": {
       "model_id": "6a035297972547e28fb7fea74fd83c5b",
       "version_major": 2,
       "version_minor": 0
      },
      "text/plain": [
       "  0%|          | 0/3722 [00:00<?, ?it/s]"
      ]
     },
     "metadata": {},
     "output_type": "display_data"
    },
    {
     "name": "stderr",
     "output_type": "stream",
     "text": [
      "INFO - 2024-07-12T05:00:45Z - Successfully downloaded to /home/jovyan/shared/data/copernicus/cmems_obs-oc_glo_bgc-plankton_my_l4-gapfree-multi-4km_P1D/201411.nc\n",
      "INFO - 2024-07-12T05:00:46Z - Dataset version was not specified, the latest one was selected: \"202311\"\n",
      "INFO - 2024-07-12T05:00:46Z - Dataset part was not specified, the first one was selected: \"default\"\n",
      "INFO - 2024-07-12T05:00:50Z - Service was not specified, the default one was selected: \"arco-geo-series\"\n",
      "INFO - 2024-07-12T05:00:53Z - Downloading using service arco-geo-series...\n",
      "INFO - 2024-07-12T05:00:59Z - Estimated size of the dataset file is 539.769 MB.\n",
      "INFO - 2024-07-12T05:00:59Z - Writing to local storage. Please wait...\n"
     ]
    },
    {
     "data": {
      "application/vnd.jupyter.widget-view+json": {
       "model_id": "34da857b18c048c984582520c8577beb",
       "version_major": 2,
       "version_minor": 0
      },
      "text/plain": [
       "  0%|          | 0/3846 [00:00<?, ?it/s]"
      ]
     },
     "metadata": {},
     "output_type": "display_data"
    },
    {
     "name": "stderr",
     "output_type": "stream",
     "text": [
      "INFO - 2024-07-12T05:02:03Z - Successfully downloaded to /home/jovyan/shared/data/copernicus/cmems_obs-oc_glo_bgc-plankton_my_l4-gapfree-multi-4km_P1D/201412.nc\n",
      "INFO - 2024-07-12T05:02:04Z - Dataset version was not specified, the latest one was selected: \"202311\"\n",
      "INFO - 2024-07-12T05:02:04Z - Dataset part was not specified, the first one was selected: \"default\"\n",
      "INFO - 2024-07-12T05:02:07Z - Service was not specified, the default one was selected: \"arco-geo-series\"\n",
      "INFO - 2024-07-12T05:02:10Z - Downloading using service arco-geo-series...\n",
      "INFO - 2024-07-12T05:02:16Z - Estimated size of the dataset file is 539.769 MB.\n",
      "INFO - 2024-07-12T05:02:16Z - Writing to local storage. Please wait...\n"
     ]
    },
    {
     "data": {
      "application/vnd.jupyter.widget-view+json": {
       "model_id": "54adfbeb18a3472c95a157f8fec4df26",
       "version_major": 2,
       "version_minor": 0
      },
      "text/plain": [
       "  0%|          | 0/3846 [00:00<?, ?it/s]"
      ]
     },
     "metadata": {},
     "output_type": "display_data"
    },
    {
     "name": "stderr",
     "output_type": "stream",
     "text": [
      "INFO - 2024-07-12T05:03:20Z - Successfully downloaded to /home/jovyan/shared/data/copernicus/cmems_obs-oc_glo_bgc-plankton_my_l4-gapfree-multi-4km_P1D/201501.nc\n",
      "INFO - 2024-07-12T05:03:20Z - Dataset version was not specified, the latest one was selected: \"202311\"\n",
      "INFO - 2024-07-12T05:03:20Z - Dataset part was not specified, the first one was selected: \"default\"\n",
      "INFO - 2024-07-12T05:03:24Z - Service was not specified, the default one was selected: \"arco-geo-series\"\n",
      "INFO - 2024-07-12T05:03:27Z - Downloading using service arco-geo-series...\n",
      "INFO - 2024-07-12T05:03:34Z - Estimated size of the dataset file is 487.533 MB.\n",
      "INFO - 2024-07-12T05:03:34Z - Writing to local storage. Please wait...\n"
     ]
    },
    {
     "data": {
      "application/vnd.jupyter.widget-view+json": {
       "model_id": "c081f7d12fea40e1a49847f8b1c7f0cc",
       "version_major": 2,
       "version_minor": 0
      },
      "text/plain": [
       "  0%|          | 0/3474 [00:00<?, ?it/s]"
      ]
     },
     "metadata": {},
     "output_type": "display_data"
    },
    {
     "name": "stderr",
     "output_type": "stream",
     "text": [
      "INFO - 2024-07-12T05:04:32Z - Successfully downloaded to /home/jovyan/shared/data/copernicus/cmems_obs-oc_glo_bgc-plankton_my_l4-gapfree-multi-4km_P1D/201502.nc\n",
      "INFO - 2024-07-12T05:04:33Z - Dataset version was not specified, the latest one was selected: \"202311\"\n",
      "INFO - 2024-07-12T05:04:33Z - Dataset part was not specified, the first one was selected: \"default\"\n",
      "INFO - 2024-07-12T05:04:36Z - Service was not specified, the default one was selected: \"arco-geo-series\"\n",
      "INFO - 2024-07-12T05:04:39Z - Downloading using service arco-geo-series...\n",
      "INFO - 2024-07-12T05:04:46Z - Estimated size of the dataset file is 539.769 MB.\n",
      "INFO - 2024-07-12T05:04:46Z - Writing to local storage. Please wait...\n"
     ]
    },
    {
     "data": {
      "application/vnd.jupyter.widget-view+json": {
       "model_id": "a2dadd70dc9347cdaae43d0c8234b87b",
       "version_major": 2,
       "version_minor": 0
      },
      "text/plain": [
       "  0%|          | 0/3846 [00:00<?, ?it/s]"
      ]
     },
     "metadata": {},
     "output_type": "display_data"
    },
    {
     "name": "stderr",
     "output_type": "stream",
     "text": [
      "INFO - 2024-07-12T05:05:49Z - Successfully downloaded to /home/jovyan/shared/data/copernicus/cmems_obs-oc_glo_bgc-plankton_my_l4-gapfree-multi-4km_P1D/201503.nc\n",
      "INFO - 2024-07-12T05:05:50Z - Dataset version was not specified, the latest one was selected: \"202311\"\n",
      "INFO - 2024-07-12T05:05:50Z - Dataset part was not specified, the first one was selected: \"default\"\n",
      "INFO - 2024-07-12T05:05:54Z - Service was not specified, the default one was selected: \"arco-geo-series\"\n",
      "INFO - 2024-07-12T05:05:57Z - Downloading using service arco-geo-series...\n",
      "INFO - 2024-07-12T05:06:03Z - Estimated size of the dataset file is 522.357 MB.\n",
      "INFO - 2024-07-12T05:06:03Z - Writing to local storage. Please wait...\n"
     ]
    },
    {
     "data": {
      "application/vnd.jupyter.widget-view+json": {
       "model_id": "419fac4cfb3b4436a5e2bd6f5d93259b",
       "version_major": 2,
       "version_minor": 0
      },
      "text/plain": [
       "  0%|          | 0/3722 [00:00<?, ?it/s]"
      ]
     },
     "metadata": {},
     "output_type": "display_data"
    },
    {
     "name": "stderr",
     "output_type": "stream",
     "text": [
      "INFO - 2024-07-12T05:07:05Z - Successfully downloaded to /home/jovyan/shared/data/copernicus/cmems_obs-oc_glo_bgc-plankton_my_l4-gapfree-multi-4km_P1D/201504.nc\n",
      "INFO - 2024-07-12T05:07:06Z - Dataset version was not specified, the latest one was selected: \"202311\"\n",
      "INFO - 2024-07-12T05:07:06Z - Dataset part was not specified, the first one was selected: \"default\"\n",
      "INFO - 2024-07-12T05:07:10Z - Service was not specified, the default one was selected: \"arco-geo-series\"\n",
      "INFO - 2024-07-12T05:07:13Z - Downloading using service arco-geo-series...\n",
      "INFO - 2024-07-12T05:07:19Z - Estimated size of the dataset file is 539.769 MB.\n",
      "INFO - 2024-07-12T05:07:19Z - Writing to local storage. Please wait...\n"
     ]
    },
    {
     "data": {
      "application/vnd.jupyter.widget-view+json": {
       "model_id": "1b433e1b6c854590b43d14bfe9808def",
       "version_major": 2,
       "version_minor": 0
      },
      "text/plain": [
       "  0%|          | 0/3846 [00:00<?, ?it/s]"
      ]
     },
     "metadata": {},
     "output_type": "display_data"
    },
    {
     "name": "stderr",
     "output_type": "stream",
     "text": [
      "INFO - 2024-07-12T05:08:23Z - Successfully downloaded to /home/jovyan/shared/data/copernicus/cmems_obs-oc_glo_bgc-plankton_my_l4-gapfree-multi-4km_P1D/201505.nc\n",
      "INFO - 2024-07-12T05:08:24Z - Dataset version was not specified, the latest one was selected: \"202311\"\n",
      "INFO - 2024-07-12T05:08:24Z - Dataset part was not specified, the first one was selected: \"default\"\n",
      "INFO - 2024-07-12T05:08:28Z - Service was not specified, the default one was selected: \"arco-geo-series\"\n",
      "INFO - 2024-07-12T05:08:31Z - Downloading using service arco-geo-series...\n",
      "INFO - 2024-07-12T05:08:37Z - Estimated size of the dataset file is 522.357 MB.\n",
      "INFO - 2024-07-12T05:08:37Z - Writing to local storage. Please wait...\n"
     ]
    },
    {
     "data": {
      "application/vnd.jupyter.widget-view+json": {
       "model_id": "aa5c5ec0c4864d39aecfb7b3e142476b",
       "version_major": 2,
       "version_minor": 0
      },
      "text/plain": [
       "  0%|          | 0/3722 [00:00<?, ?it/s]"
      ]
     },
     "metadata": {},
     "output_type": "display_data"
    },
    {
     "name": "stderr",
     "output_type": "stream",
     "text": [
      "INFO - 2024-07-12T05:09:38Z - Successfully downloaded to /home/jovyan/shared/data/copernicus/cmems_obs-oc_glo_bgc-plankton_my_l4-gapfree-multi-4km_P1D/201506.nc\n",
      "INFO - 2024-07-12T05:09:39Z - Dataset version was not specified, the latest one was selected: \"202311\"\n",
      "INFO - 2024-07-12T05:09:39Z - Dataset part was not specified, the first one was selected: \"default\"\n",
      "INFO - 2024-07-12T05:09:43Z - Service was not specified, the default one was selected: \"arco-geo-series\"\n",
      "INFO - 2024-07-12T05:09:46Z - Downloading using service arco-geo-series...\n",
      "INFO - 2024-07-12T05:09:53Z - Estimated size of the dataset file is 539.769 MB.\n",
      "INFO - 2024-07-12T05:09:53Z - Writing to local storage. Please wait...\n"
     ]
    },
    {
     "data": {
      "application/vnd.jupyter.widget-view+json": {
       "model_id": "ac17f4dad7fd41ef837ab6217ce55478",
       "version_major": 2,
       "version_minor": 0
      },
      "text/plain": [
       "  0%|          | 0/3846 [00:00<?, ?it/s]"
      ]
     },
     "metadata": {},
     "output_type": "display_data"
    },
    {
     "name": "stderr",
     "output_type": "stream",
     "text": [
      "INFO - 2024-07-12T05:10:56Z - Successfully downloaded to /home/jovyan/shared/data/copernicus/cmems_obs-oc_glo_bgc-plankton_my_l4-gapfree-multi-4km_P1D/201507.nc\n",
      "INFO - 2024-07-12T05:10:57Z - Dataset version was not specified, the latest one was selected: \"202311\"\n",
      "INFO - 2024-07-12T05:10:57Z - Dataset part was not specified, the first one was selected: \"default\"\n",
      "INFO - 2024-07-12T05:11:00Z - Service was not specified, the default one was selected: \"arco-geo-series\"\n",
      "INFO - 2024-07-12T05:11:03Z - Downloading using service arco-geo-series...\n",
      "INFO - 2024-07-12T05:11:09Z - Estimated size of the dataset file is 539.769 MB.\n",
      "INFO - 2024-07-12T05:11:09Z - Writing to local storage. Please wait...\n"
     ]
    },
    {
     "data": {
      "application/vnd.jupyter.widget-view+json": {
       "model_id": "48e38344eeb6494daed46b7eb7f2c3b3",
       "version_major": 2,
       "version_minor": 0
      },
      "text/plain": [
       "  0%|          | 0/3846 [00:00<?, ?it/s]"
      ]
     },
     "metadata": {},
     "output_type": "display_data"
    },
    {
     "name": "stderr",
     "output_type": "stream",
     "text": [
      "INFO - 2024-07-12T05:12:12Z - Successfully downloaded to /home/jovyan/shared/data/copernicus/cmems_obs-oc_glo_bgc-plankton_my_l4-gapfree-multi-4km_P1D/201508.nc\n",
      "INFO - 2024-07-12T05:12:13Z - Dataset version was not specified, the latest one was selected: \"202311\"\n",
      "INFO - 2024-07-12T05:12:13Z - Dataset part was not specified, the first one was selected: \"default\"\n",
      "INFO - 2024-07-12T05:12:16Z - Service was not specified, the default one was selected: \"arco-geo-series\"\n",
      "INFO - 2024-07-12T05:12:19Z - Downloading using service arco-geo-series...\n",
      "INFO - 2024-07-12T05:12:26Z - Estimated size of the dataset file is 522.357 MB.\n",
      "INFO - 2024-07-12T05:12:26Z - Writing to local storage. Please wait...\n"
     ]
    },
    {
     "data": {
      "application/vnd.jupyter.widget-view+json": {
       "model_id": "4662a5b51ea749899a8188716cd81a8c",
       "version_major": 2,
       "version_minor": 0
      },
      "text/plain": [
       "  0%|          | 0/3722 [00:00<?, ?it/s]"
      ]
     },
     "metadata": {},
     "output_type": "display_data"
    },
    {
     "name": "stderr",
     "output_type": "stream",
     "text": [
      "INFO - 2024-07-12T05:13:28Z - Successfully downloaded to /home/jovyan/shared/data/copernicus/cmems_obs-oc_glo_bgc-plankton_my_l4-gapfree-multi-4km_P1D/201509.nc\n",
      "INFO - 2024-07-12T05:13:29Z - Dataset version was not specified, the latest one was selected: \"202311\"\n",
      "INFO - 2024-07-12T05:13:29Z - Dataset part was not specified, the first one was selected: \"default\"\n",
      "INFO - 2024-07-12T05:13:32Z - Service was not specified, the default one was selected: \"arco-geo-series\"\n",
      "INFO - 2024-07-12T05:13:35Z - Downloading using service arco-geo-series...\n",
      "INFO - 2024-07-12T05:13:42Z - Estimated size of the dataset file is 539.769 MB.\n",
      "INFO - 2024-07-12T05:13:42Z - Writing to local storage. Please wait...\n"
     ]
    },
    {
     "data": {
      "application/vnd.jupyter.widget-view+json": {
       "model_id": "2e94cbcef10e48b096f14bbfba46c29d",
       "version_major": 2,
       "version_minor": 0
      },
      "text/plain": [
       "  0%|          | 0/3846 [00:00<?, ?it/s]"
      ]
     },
     "metadata": {},
     "output_type": "display_data"
    },
    {
     "name": "stderr",
     "output_type": "stream",
     "text": [
      "INFO - 2024-07-12T05:14:44Z - Successfully downloaded to /home/jovyan/shared/data/copernicus/cmems_obs-oc_glo_bgc-plankton_my_l4-gapfree-multi-4km_P1D/201510.nc\n",
      "INFO - 2024-07-12T05:14:46Z - Dataset version was not specified, the latest one was selected: \"202311\"\n",
      "INFO - 2024-07-12T05:14:46Z - Dataset part was not specified, the first one was selected: \"default\"\n",
      "INFO - 2024-07-12T05:14:49Z - Service was not specified, the default one was selected: \"arco-geo-series\"\n",
      "INFO - 2024-07-12T05:14:52Z - Downloading using service arco-geo-series...\n",
      "INFO - 2024-07-12T05:14:59Z - Estimated size of the dataset file is 522.357 MB.\n",
      "INFO - 2024-07-12T05:14:59Z - Writing to local storage. Please wait...\n"
     ]
    },
    {
     "data": {
      "application/vnd.jupyter.widget-view+json": {
       "model_id": "b0cad2d9800b48abbf68048ca87d77e1",
       "version_major": 2,
       "version_minor": 0
      },
      "text/plain": [
       "  0%|          | 0/3722 [00:00<?, ?it/s]"
      ]
     },
     "metadata": {},
     "output_type": "display_data"
    },
    {
     "name": "stderr",
     "output_type": "stream",
     "text": [
      "INFO - 2024-07-12T05:16:01Z - Successfully downloaded to /home/jovyan/shared/data/copernicus/cmems_obs-oc_glo_bgc-plankton_my_l4-gapfree-multi-4km_P1D/201511.nc\n",
      "INFO - 2024-07-12T05:16:02Z - Dataset version was not specified, the latest one was selected: \"202311\"\n",
      "INFO - 2024-07-12T05:16:02Z - Dataset part was not specified, the first one was selected: \"default\"\n",
      "INFO - 2024-07-12T05:16:05Z - Service was not specified, the default one was selected: \"arco-geo-series\"\n",
      "INFO - 2024-07-12T05:16:08Z - Downloading using service arco-geo-series...\n",
      "INFO - 2024-07-12T05:16:14Z - Estimated size of the dataset file is 539.769 MB.\n",
      "INFO - 2024-07-12T05:16:14Z - Writing to local storage. Please wait...\n"
     ]
    },
    {
     "data": {
      "application/vnd.jupyter.widget-view+json": {
       "model_id": "26909251402941afb512292600fc4941",
       "version_major": 2,
       "version_minor": 0
      },
      "text/plain": [
       "  0%|          | 0/3846 [00:00<?, ?it/s]"
      ]
     },
     "metadata": {},
     "output_type": "display_data"
    },
    {
     "name": "stderr",
     "output_type": "stream",
     "text": [
      "INFO - 2024-07-12T05:17:17Z - Successfully downloaded to /home/jovyan/shared/data/copernicus/cmems_obs-oc_glo_bgc-plankton_my_l4-gapfree-multi-4km_P1D/201512.nc\n",
      "INFO - 2024-07-12T05:17:19Z - Dataset version was not specified, the latest one was selected: \"202311\"\n",
      "INFO - 2024-07-12T05:17:19Z - Dataset part was not specified, the first one was selected: \"default\"\n",
      "INFO - 2024-07-12T05:17:22Z - Service was not specified, the default one was selected: \"arco-geo-series\"\n",
      "INFO - 2024-07-12T05:17:25Z - Downloading using service arco-geo-series...\n",
      "INFO - 2024-07-12T05:17:31Z - Estimated size of the dataset file is 539.769 MB.\n",
      "INFO - 2024-07-12T05:17:31Z - Writing to local storage. Please wait...\n"
     ]
    },
    {
     "data": {
      "application/vnd.jupyter.widget-view+json": {
       "model_id": "f50160f45f0248a7be1395cfc22eb63c",
       "version_major": 2,
       "version_minor": 0
      },
      "text/plain": [
       "  0%|          | 0/3846 [00:00<?, ?it/s]"
      ]
     },
     "metadata": {},
     "output_type": "display_data"
    },
    {
     "name": "stderr",
     "output_type": "stream",
     "text": [
      "INFO - 2024-07-12T05:18:35Z - Successfully downloaded to /home/jovyan/shared/data/copernicus/cmems_obs-oc_glo_bgc-plankton_my_l4-gapfree-multi-4km_P1D/201601.nc\n",
      "INFO - 2024-07-12T05:18:36Z - Dataset version was not specified, the latest one was selected: \"202311\"\n",
      "INFO - 2024-07-12T05:18:36Z - Dataset part was not specified, the first one was selected: \"default\"\n",
      "INFO - 2024-07-12T05:18:39Z - Service was not specified, the default one was selected: \"arco-geo-series\"\n",
      "INFO - 2024-07-12T05:18:42Z - Downloading using service arco-geo-series...\n",
      "INFO - 2024-07-12T05:18:48Z - Estimated size of the dataset file is 504.945 MB.\n",
      "INFO - 2024-07-12T05:18:48Z - Writing to local storage. Please wait...\n"
     ]
    },
    {
     "data": {
      "application/vnd.jupyter.widget-view+json": {
       "model_id": "897c37457f3d411d80391838b5232805",
       "version_major": 2,
       "version_minor": 0
      },
      "text/plain": [
       "  0%|          | 0/3598 [00:00<?, ?it/s]"
      ]
     },
     "metadata": {},
     "output_type": "display_data"
    },
    {
     "name": "stderr",
     "output_type": "stream",
     "text": [
      "INFO - 2024-07-12T05:19:48Z - Successfully downloaded to /home/jovyan/shared/data/copernicus/cmems_obs-oc_glo_bgc-plankton_my_l4-gapfree-multi-4km_P1D/201602.nc\n",
      "INFO - 2024-07-12T05:19:49Z - Dataset version was not specified, the latest one was selected: \"202311\"\n",
      "INFO - 2024-07-12T05:19:49Z - Dataset part was not specified, the first one was selected: \"default\"\n",
      "INFO - 2024-07-12T05:19:52Z - Service was not specified, the default one was selected: \"arco-geo-series\"\n",
      "INFO - 2024-07-12T05:19:55Z - Downloading using service arco-geo-series...\n",
      "INFO - 2024-07-12T05:20:02Z - Estimated size of the dataset file is 539.769 MB.\n",
      "INFO - 2024-07-12T05:20:02Z - Writing to local storage. Please wait...\n"
     ]
    },
    {
     "data": {
      "application/vnd.jupyter.widget-view+json": {
       "model_id": "8fa4aa8cf7984572baf828befb34d6c8",
       "version_major": 2,
       "version_minor": 0
      },
      "text/plain": [
       "  0%|          | 0/3846 [00:00<?, ?it/s]"
      ]
     },
     "metadata": {},
     "output_type": "display_data"
    },
    {
     "name": "stderr",
     "output_type": "stream",
     "text": [
      "INFO - 2024-07-12T05:21:05Z - Successfully downloaded to /home/jovyan/shared/data/copernicus/cmems_obs-oc_glo_bgc-plankton_my_l4-gapfree-multi-4km_P1D/201603.nc\n",
      "INFO - 2024-07-12T05:21:06Z - Dataset version was not specified, the latest one was selected: \"202311\"\n",
      "INFO - 2024-07-12T05:21:06Z - Dataset part was not specified, the first one was selected: \"default\"\n",
      "INFO - 2024-07-12T05:21:09Z - Service was not specified, the default one was selected: \"arco-geo-series\"\n",
      "INFO - 2024-07-12T05:21:12Z - Downloading using service arco-geo-series...\n",
      "INFO - 2024-07-12T05:21:19Z - Estimated size of the dataset file is 522.357 MB.\n",
      "INFO - 2024-07-12T05:21:19Z - Writing to local storage. Please wait...\n"
     ]
    },
    {
     "data": {
      "application/vnd.jupyter.widget-view+json": {
       "model_id": "a0c3dff1f2ee4becb5fd0396da3537de",
       "version_major": 2,
       "version_minor": 0
      },
      "text/plain": [
       "  0%|          | 0/3722 [00:00<?, ?it/s]"
      ]
     },
     "metadata": {},
     "output_type": "display_data"
    },
    {
     "name": "stderr",
     "output_type": "stream",
     "text": [
      "INFO - 2024-07-12T05:22:21Z - Successfully downloaded to /home/jovyan/shared/data/copernicus/cmems_obs-oc_glo_bgc-plankton_my_l4-gapfree-multi-4km_P1D/201604.nc\n",
      "INFO - 2024-07-12T05:22:22Z - Dataset version was not specified, the latest one was selected: \"202311\"\n",
      "INFO - 2024-07-12T05:22:22Z - Dataset part was not specified, the first one was selected: \"default\"\n",
      "INFO - 2024-07-12T05:22:25Z - Service was not specified, the default one was selected: \"arco-geo-series\"\n",
      "INFO - 2024-07-12T05:22:28Z - Downloading using service arco-geo-series...\n",
      "INFO - 2024-07-12T05:22:34Z - Estimated size of the dataset file is 539.769 MB.\n",
      "INFO - 2024-07-12T05:22:34Z - Writing to local storage. Please wait...\n"
     ]
    },
    {
     "data": {
      "application/vnd.jupyter.widget-view+json": {
       "model_id": "89439837590240e4b048068c8a496ef2",
       "version_major": 2,
       "version_minor": 0
      },
      "text/plain": [
       "  0%|          | 0/3846 [00:00<?, ?it/s]"
      ]
     },
     "metadata": {},
     "output_type": "display_data"
    },
    {
     "name": "stderr",
     "output_type": "stream",
     "text": [
      "INFO - 2024-07-12T05:23:37Z - Successfully downloaded to /home/jovyan/shared/data/copernicus/cmems_obs-oc_glo_bgc-plankton_my_l4-gapfree-multi-4km_P1D/201605.nc\n",
      "INFO - 2024-07-12T05:23:38Z - Dataset version was not specified, the latest one was selected: \"202311\"\n",
      "INFO - 2024-07-12T05:23:38Z - Dataset part was not specified, the first one was selected: \"default\"\n",
      "INFO - 2024-07-12T05:23:41Z - Service was not specified, the default one was selected: \"arco-geo-series\"\n",
      "INFO - 2024-07-12T05:23:44Z - Downloading using service arco-geo-series...\n",
      "INFO - 2024-07-12T05:23:51Z - Estimated size of the dataset file is 522.357 MB.\n",
      "INFO - 2024-07-12T05:23:51Z - Writing to local storage. Please wait...\n"
     ]
    },
    {
     "data": {
      "application/vnd.jupyter.widget-view+json": {
       "model_id": "488d18f91074455d84846c9fb96003ed",
       "version_major": 2,
       "version_minor": 0
      },
      "text/plain": [
       "  0%|          | 0/3722 [00:00<?, ?it/s]"
      ]
     },
     "metadata": {},
     "output_type": "display_data"
    },
    {
     "name": "stderr",
     "output_type": "stream",
     "text": [
      "INFO - 2024-07-12T05:24:53Z - Successfully downloaded to /home/jovyan/shared/data/copernicus/cmems_obs-oc_glo_bgc-plankton_my_l4-gapfree-multi-4km_P1D/201606.nc\n",
      "INFO - 2024-07-12T05:24:54Z - Dataset version was not specified, the latest one was selected: \"202311\"\n",
      "INFO - 2024-07-12T05:24:54Z - Dataset part was not specified, the first one was selected: \"default\"\n",
      "INFO - 2024-07-12T05:24:58Z - Service was not specified, the default one was selected: \"arco-geo-series\"\n",
      "INFO - 2024-07-12T05:25:00Z - Downloading using service arco-geo-series...\n",
      "INFO - 2024-07-12T05:25:07Z - Estimated size of the dataset file is 539.769 MB.\n",
      "INFO - 2024-07-12T05:25:07Z - Writing to local storage. Please wait...\n"
     ]
    },
    {
     "data": {
      "application/vnd.jupyter.widget-view+json": {
       "model_id": "73f174307f2d41b599ce7ad722469848",
       "version_major": 2,
       "version_minor": 0
      },
      "text/plain": [
       "  0%|          | 0/3846 [00:00<?, ?it/s]"
      ]
     },
     "metadata": {},
     "output_type": "display_data"
    },
    {
     "name": "stderr",
     "output_type": "stream",
     "text": [
      "INFO - 2024-07-12T05:26:10Z - Successfully downloaded to /home/jovyan/shared/data/copernicus/cmems_obs-oc_glo_bgc-plankton_my_l4-gapfree-multi-4km_P1D/201607.nc\n",
      "INFO - 2024-07-12T05:26:11Z - Dataset version was not specified, the latest one was selected: \"202311\"\n",
      "INFO - 2024-07-12T05:26:11Z - Dataset part was not specified, the first one was selected: \"default\"\n",
      "INFO - 2024-07-12T05:26:14Z - Service was not specified, the default one was selected: \"arco-geo-series\"\n",
      "INFO - 2024-07-12T05:26:17Z - Downloading using service arco-geo-series...\n",
      "INFO - 2024-07-12T05:26:24Z - Estimated size of the dataset file is 539.769 MB.\n",
      "INFO - 2024-07-12T05:26:24Z - Writing to local storage. Please wait...\n"
     ]
    },
    {
     "data": {
      "application/vnd.jupyter.widget-view+json": {
       "model_id": "fbd19369d9254b3ba3bc5e54f3eebdc6",
       "version_major": 2,
       "version_minor": 0
      },
      "text/plain": [
       "  0%|          | 0/3846 [00:00<?, ?it/s]"
      ]
     },
     "metadata": {},
     "output_type": "display_data"
    },
    {
     "name": "stderr",
     "output_type": "stream",
     "text": [
      "INFO - 2024-07-12T05:27:27Z - Successfully downloaded to /home/jovyan/shared/data/copernicus/cmems_obs-oc_glo_bgc-plankton_my_l4-gapfree-multi-4km_P1D/201608.nc\n",
      "INFO - 2024-07-12T05:27:28Z - Dataset version was not specified, the latest one was selected: \"202311\"\n",
      "INFO - 2024-07-12T05:27:28Z - Dataset part was not specified, the first one was selected: \"default\"\n",
      "INFO - 2024-07-12T05:27:31Z - Service was not specified, the default one was selected: \"arco-geo-series\"\n",
      "INFO - 2024-07-12T05:27:34Z - Downloading using service arco-geo-series...\n",
      "INFO - 2024-07-12T05:27:41Z - Estimated size of the dataset file is 522.357 MB.\n",
      "INFO - 2024-07-12T05:27:41Z - Writing to local storage. Please wait...\n"
     ]
    },
    {
     "data": {
      "application/vnd.jupyter.widget-view+json": {
       "model_id": "e21ace611cff49a28876c7947a43d917",
       "version_major": 2,
       "version_minor": 0
      },
      "text/plain": [
       "  0%|          | 0/3722 [00:00<?, ?it/s]"
      ]
     },
     "metadata": {},
     "output_type": "display_data"
    },
    {
     "name": "stderr",
     "output_type": "stream",
     "text": [
      "INFO - 2024-07-12T05:28:42Z - Successfully downloaded to /home/jovyan/shared/data/copernicus/cmems_obs-oc_glo_bgc-plankton_my_l4-gapfree-multi-4km_P1D/201609.nc\n",
      "INFO - 2024-07-12T05:28:43Z - Dataset version was not specified, the latest one was selected: \"202311\"\n",
      "INFO - 2024-07-12T05:28:43Z - Dataset part was not specified, the first one was selected: \"default\"\n",
      "INFO - 2024-07-12T05:28:46Z - Service was not specified, the default one was selected: \"arco-geo-series\"\n",
      "INFO - 2024-07-12T05:28:49Z - Downloading using service arco-geo-series...\n",
      "INFO - 2024-07-12T05:28:56Z - Estimated size of the dataset file is 539.769 MB.\n",
      "INFO - 2024-07-12T05:28:56Z - Writing to local storage. Please wait...\n"
     ]
    },
    {
     "data": {
      "application/vnd.jupyter.widget-view+json": {
       "model_id": "555f94766c2541c4b8ea66630fc61235",
       "version_major": 2,
       "version_minor": 0
      },
      "text/plain": [
       "  0%|          | 0/3846 [00:00<?, ?it/s]"
      ]
     },
     "metadata": {},
     "output_type": "display_data"
    },
    {
     "name": "stderr",
     "output_type": "stream",
     "text": [
      "INFO - 2024-07-12T05:29:59Z - Successfully downloaded to /home/jovyan/shared/data/copernicus/cmems_obs-oc_glo_bgc-plankton_my_l4-gapfree-multi-4km_P1D/201610.nc\n",
      "INFO - 2024-07-12T05:30:00Z - Dataset version was not specified, the latest one was selected: \"202311\"\n",
      "INFO - 2024-07-12T05:30:00Z - Dataset part was not specified, the first one was selected: \"default\"\n",
      "INFO - 2024-07-12T05:30:04Z - Service was not specified, the default one was selected: \"arco-geo-series\"\n",
      "INFO - 2024-07-12T05:30:07Z - Downloading using service arco-geo-series...\n",
      "INFO - 2024-07-12T05:30:13Z - Estimated size of the dataset file is 522.357 MB.\n",
      "INFO - 2024-07-12T05:30:13Z - Writing to local storage. Please wait...\n"
     ]
    },
    {
     "data": {
      "application/vnd.jupyter.widget-view+json": {
       "model_id": "4e2996ef8643410e866405e0d9150235",
       "version_major": 2,
       "version_minor": 0
      },
      "text/plain": [
       "  0%|          | 0/3722 [00:00<?, ?it/s]"
      ]
     },
     "metadata": {},
     "output_type": "display_data"
    },
    {
     "name": "stderr",
     "output_type": "stream",
     "text": [
      "INFO - 2024-07-12T05:31:15Z - Successfully downloaded to /home/jovyan/shared/data/copernicus/cmems_obs-oc_glo_bgc-plankton_my_l4-gapfree-multi-4km_P1D/201611.nc\n",
      "INFO - 2024-07-12T05:31:16Z - Dataset version was not specified, the latest one was selected: \"202311\"\n",
      "INFO - 2024-07-12T05:31:16Z - Dataset part was not specified, the first one was selected: \"default\"\n",
      "INFO - 2024-07-12T05:31:19Z - Service was not specified, the default one was selected: \"arco-geo-series\"\n",
      "INFO - 2024-07-12T05:31:22Z - Downloading using service arco-geo-series...\n",
      "INFO - 2024-07-12T05:31:28Z - Estimated size of the dataset file is 539.769 MB.\n",
      "INFO - 2024-07-12T05:31:28Z - Writing to local storage. Please wait...\n"
     ]
    },
    {
     "data": {
      "application/vnd.jupyter.widget-view+json": {
       "model_id": "2e205f89030f426e86e3b96e8ce3d72f",
       "version_major": 2,
       "version_minor": 0
      },
      "text/plain": [
       "  0%|          | 0/3846 [00:00<?, ?it/s]"
      ]
     },
     "metadata": {},
     "output_type": "display_data"
    },
    {
     "name": "stderr",
     "output_type": "stream",
     "text": [
      "INFO - 2024-07-12T05:32:31Z - Successfully downloaded to /home/jovyan/shared/data/copernicus/cmems_obs-oc_glo_bgc-plankton_my_l4-gapfree-multi-4km_P1D/201612.nc\n",
      "INFO - 2024-07-12T05:32:32Z - Dataset version was not specified, the latest one was selected: \"202311\"\n",
      "INFO - 2024-07-12T05:32:32Z - Dataset part was not specified, the first one was selected: \"default\"\n",
      "INFO - 2024-07-12T05:32:36Z - Service was not specified, the default one was selected: \"arco-geo-series\"\n",
      "INFO - 2024-07-12T05:32:39Z - Downloading using service arco-geo-series...\n",
      "INFO - 2024-07-12T05:32:45Z - Estimated size of the dataset file is 539.769 MB.\n",
      "INFO - 2024-07-12T05:32:45Z - Writing to local storage. Please wait...\n"
     ]
    },
    {
     "data": {
      "application/vnd.jupyter.widget-view+json": {
       "model_id": "f932c970d8a14b78880ec4c82f5b583f",
       "version_major": 2,
       "version_minor": 0
      },
      "text/plain": [
       "  0%|          | 0/3846 [00:00<?, ?it/s]"
      ]
     },
     "metadata": {},
     "output_type": "display_data"
    },
    {
     "name": "stderr",
     "output_type": "stream",
     "text": [
      "INFO - 2024-07-12T05:33:48Z - Successfully downloaded to /home/jovyan/shared/data/copernicus/cmems_obs-oc_glo_bgc-plankton_my_l4-gapfree-multi-4km_P1D/201701.nc\n",
      "INFO - 2024-07-12T05:33:50Z - Dataset version was not specified, the latest one was selected: \"202311\"\n",
      "INFO - 2024-07-12T05:33:50Z - Dataset part was not specified, the first one was selected: \"default\"\n",
      "INFO - 2024-07-12T05:33:54Z - Service was not specified, the default one was selected: \"arco-geo-series\"\n",
      "INFO - 2024-07-12T05:33:57Z - Downloading using service arco-geo-series...\n",
      "INFO - 2024-07-12T05:34:04Z - Estimated size of the dataset file is 487.533 MB.\n",
      "INFO - 2024-07-12T05:34:04Z - Writing to local storage. Please wait...\n"
     ]
    },
    {
     "data": {
      "application/vnd.jupyter.widget-view+json": {
       "model_id": "a79b7aabd46d436b88612b7bbb4bd8f4",
       "version_major": 2,
       "version_minor": 0
      },
      "text/plain": [
       "  0%|          | 0/3474 [00:00<?, ?it/s]"
      ]
     },
     "metadata": {},
     "output_type": "display_data"
    },
    {
     "name": "stderr",
     "output_type": "stream",
     "text": [
      "INFO - 2024-07-12T05:35:02Z - Successfully downloaded to /home/jovyan/shared/data/copernicus/cmems_obs-oc_glo_bgc-plankton_my_l4-gapfree-multi-4km_P1D/201702.nc\n",
      "INFO - 2024-07-12T05:35:03Z - Dataset version was not specified, the latest one was selected: \"202311\"\n",
      "INFO - 2024-07-12T05:35:03Z - Dataset part was not specified, the first one was selected: \"default\"\n",
      "INFO - 2024-07-12T05:35:06Z - Service was not specified, the default one was selected: \"arco-geo-series\"\n",
      "INFO - 2024-07-12T05:35:09Z - Downloading using service arco-geo-series...\n",
      "INFO - 2024-07-12T05:35:16Z - Estimated size of the dataset file is 539.769 MB.\n",
      "INFO - 2024-07-12T05:35:16Z - Writing to local storage. Please wait...\n"
     ]
    },
    {
     "data": {
      "application/vnd.jupyter.widget-view+json": {
       "model_id": "2bc1e8b576b2462c8576e91bbf39e179",
       "version_major": 2,
       "version_minor": 0
      },
      "text/plain": [
       "  0%|          | 0/3846 [00:00<?, ?it/s]"
      ]
     },
     "metadata": {},
     "output_type": "display_data"
    },
    {
     "name": "stderr",
     "output_type": "stream",
     "text": [
      "INFO - 2024-07-12T05:36:19Z - Successfully downloaded to /home/jovyan/shared/data/copernicus/cmems_obs-oc_glo_bgc-plankton_my_l4-gapfree-multi-4km_P1D/201703.nc\n",
      "INFO - 2024-07-12T05:36:20Z - Dataset version was not specified, the latest one was selected: \"202311\"\n",
      "INFO - 2024-07-12T05:36:20Z - Dataset part was not specified, the first one was selected: \"default\"\n",
      "INFO - 2024-07-12T05:36:23Z - Service was not specified, the default one was selected: \"arco-geo-series\"\n",
      "INFO - 2024-07-12T05:36:26Z - Downloading using service arco-geo-series...\n",
      "INFO - 2024-07-12T05:36:33Z - Estimated size of the dataset file is 522.357 MB.\n",
      "INFO - 2024-07-12T05:36:33Z - Writing to local storage. Please wait...\n"
     ]
    },
    {
     "data": {
      "application/vnd.jupyter.widget-view+json": {
       "model_id": "f93ca143cb204827a05f287e680e530d",
       "version_major": 2,
       "version_minor": 0
      },
      "text/plain": [
       "  0%|          | 0/3722 [00:00<?, ?it/s]"
      ]
     },
     "metadata": {},
     "output_type": "display_data"
    },
    {
     "name": "stderr",
     "output_type": "stream",
     "text": [
      "INFO - 2024-07-12T05:37:34Z - Successfully downloaded to /home/jovyan/shared/data/copernicus/cmems_obs-oc_glo_bgc-plankton_my_l4-gapfree-multi-4km_P1D/201704.nc\n",
      "INFO - 2024-07-12T05:37:35Z - Dataset version was not specified, the latest one was selected: \"202311\"\n",
      "INFO - 2024-07-12T05:37:35Z - Dataset part was not specified, the first one was selected: \"default\"\n",
      "INFO - 2024-07-12T05:37:38Z - Service was not specified, the default one was selected: \"arco-geo-series\"\n",
      "INFO - 2024-07-12T05:37:41Z - Downloading using service arco-geo-series...\n",
      "INFO - 2024-07-12T05:37:47Z - Estimated size of the dataset file is 539.769 MB.\n",
      "INFO - 2024-07-12T05:37:47Z - Writing to local storage. Please wait...\n"
     ]
    },
    {
     "data": {
      "application/vnd.jupyter.widget-view+json": {
       "model_id": "20875492d2a64dab8934aa783b81ef75",
       "version_major": 2,
       "version_minor": 0
      },
      "text/plain": [
       "  0%|          | 0/3846 [00:00<?, ?it/s]"
      ]
     },
     "metadata": {},
     "output_type": "display_data"
    },
    {
     "name": "stderr",
     "output_type": "stream",
     "text": [
      "INFO - 2024-07-12T05:38:50Z - Successfully downloaded to /home/jovyan/shared/data/copernicus/cmems_obs-oc_glo_bgc-plankton_my_l4-gapfree-multi-4km_P1D/201705.nc\n",
      "INFO - 2024-07-12T05:38:51Z - Dataset version was not specified, the latest one was selected: \"202311\"\n",
      "INFO - 2024-07-12T05:38:51Z - Dataset part was not specified, the first one was selected: \"default\"\n",
      "INFO - 2024-07-12T05:38:55Z - Service was not specified, the default one was selected: \"arco-geo-series\"\n",
      "INFO - 2024-07-12T05:38:58Z - Downloading using service arco-geo-series...\n",
      "INFO - 2024-07-12T05:39:04Z - Estimated size of the dataset file is 522.357 MB.\n",
      "INFO - 2024-07-12T05:39:04Z - Writing to local storage. Please wait...\n"
     ]
    },
    {
     "data": {
      "application/vnd.jupyter.widget-view+json": {
       "model_id": "785b263f7cd649449aeee315f441f9e6",
       "version_major": 2,
       "version_minor": 0
      },
      "text/plain": [
       "  0%|          | 0/3722 [00:00<?, ?it/s]"
      ]
     },
     "metadata": {},
     "output_type": "display_data"
    },
    {
     "name": "stderr",
     "output_type": "stream",
     "text": [
      "INFO - 2024-07-12T05:40:05Z - Successfully downloaded to /home/jovyan/shared/data/copernicus/cmems_obs-oc_glo_bgc-plankton_my_l4-gapfree-multi-4km_P1D/201706.nc\n",
      "INFO - 2024-07-12T05:40:06Z - Dataset version was not specified, the latest one was selected: \"202311\"\n",
      "INFO - 2024-07-12T05:40:06Z - Dataset part was not specified, the first one was selected: \"default\"\n",
      "INFO - 2024-07-12T05:40:09Z - Service was not specified, the default one was selected: \"arco-geo-series\"\n",
      "INFO - 2024-07-12T05:40:12Z - Downloading using service arco-geo-series...\n",
      "INFO - 2024-07-12T05:40:19Z - Estimated size of the dataset file is 539.769 MB.\n",
      "INFO - 2024-07-12T05:40:19Z - Writing to local storage. Please wait...\n"
     ]
    },
    {
     "data": {
      "application/vnd.jupyter.widget-view+json": {
       "model_id": "6239a1dd8b9b4115a75d1b5f3a50a84f",
       "version_major": 2,
       "version_minor": 0
      },
      "text/plain": [
       "  0%|          | 0/3846 [00:00<?, ?it/s]"
      ]
     },
     "metadata": {},
     "output_type": "display_data"
    },
    {
     "name": "stderr",
     "output_type": "stream",
     "text": [
      "INFO - 2024-07-12T05:41:22Z - Successfully downloaded to /home/jovyan/shared/data/copernicus/cmems_obs-oc_glo_bgc-plankton_my_l4-gapfree-multi-4km_P1D/201707.nc\n",
      "INFO - 2024-07-12T05:41:23Z - Dataset version was not specified, the latest one was selected: \"202311\"\n",
      "INFO - 2024-07-12T05:41:23Z - Dataset part was not specified, the first one was selected: \"default\"\n",
      "INFO - 2024-07-12T05:41:26Z - Service was not specified, the default one was selected: \"arco-geo-series\"\n",
      "INFO - 2024-07-12T05:41:29Z - Downloading using service arco-geo-series...\n",
      "INFO - 2024-07-12T05:41:36Z - Estimated size of the dataset file is 539.769 MB.\n",
      "INFO - 2024-07-12T05:41:36Z - Writing to local storage. Please wait...\n"
     ]
    },
    {
     "data": {
      "application/vnd.jupyter.widget-view+json": {
       "model_id": "f1354a2b8ad14b02b27c9fc3b4d6ec02",
       "version_major": 2,
       "version_minor": 0
      },
      "text/plain": [
       "  0%|          | 0/3846 [00:00<?, ?it/s]"
      ]
     },
     "metadata": {},
     "output_type": "display_data"
    },
    {
     "name": "stderr",
     "output_type": "stream",
     "text": [
      "INFO - 2024-07-12T05:42:39Z - Successfully downloaded to /home/jovyan/shared/data/copernicus/cmems_obs-oc_glo_bgc-plankton_my_l4-gapfree-multi-4km_P1D/201708.nc\n",
      "INFO - 2024-07-12T05:42:40Z - Dataset version was not specified, the latest one was selected: \"202311\"\n",
      "INFO - 2024-07-12T05:42:40Z - Dataset part was not specified, the first one was selected: \"default\"\n",
      "INFO - 2024-07-12T05:42:43Z - Service was not specified, the default one was selected: \"arco-geo-series\"\n",
      "INFO - 2024-07-12T05:42:46Z - Downloading using service arco-geo-series...\n",
      "INFO - 2024-07-12T05:42:53Z - Estimated size of the dataset file is 522.357 MB.\n",
      "INFO - 2024-07-12T05:42:53Z - Writing to local storage. Please wait...\n"
     ]
    },
    {
     "data": {
      "application/vnd.jupyter.widget-view+json": {
       "model_id": "9399b99c4f6a4ac2b4a784228692ce4a",
       "version_major": 2,
       "version_minor": 0
      },
      "text/plain": [
       "  0%|          | 0/3722 [00:00<?, ?it/s]"
      ]
     },
     "metadata": {},
     "output_type": "display_data"
    },
    {
     "name": "stderr",
     "output_type": "stream",
     "text": [
      "INFO - 2024-07-12T05:43:55Z - Successfully downloaded to /home/jovyan/shared/data/copernicus/cmems_obs-oc_glo_bgc-plankton_my_l4-gapfree-multi-4km_P1D/201709.nc\n",
      "INFO - 2024-07-12T05:43:56Z - Dataset version was not specified, the latest one was selected: \"202311\"\n",
      "INFO - 2024-07-12T05:43:56Z - Dataset part was not specified, the first one was selected: \"default\"\n",
      "INFO - 2024-07-12T05:43:59Z - Service was not specified, the default one was selected: \"arco-geo-series\"\n",
      "INFO - 2024-07-12T05:44:02Z - Downloading using service arco-geo-series...\n",
      "INFO - 2024-07-12T05:44:09Z - Estimated size of the dataset file is 539.769 MB.\n",
      "INFO - 2024-07-12T05:44:09Z - Writing to local storage. Please wait...\n"
     ]
    },
    {
     "data": {
      "application/vnd.jupyter.widget-view+json": {
       "model_id": "cfa6bfdab6684cb78ffd89751f2d9717",
       "version_major": 2,
       "version_minor": 0
      },
      "text/plain": [
       "  0%|          | 0/3846 [00:00<?, ?it/s]"
      ]
     },
     "metadata": {},
     "output_type": "display_data"
    },
    {
     "name": "stderr",
     "output_type": "stream",
     "text": [
      "INFO - 2024-07-12T05:45:12Z - Successfully downloaded to /home/jovyan/shared/data/copernicus/cmems_obs-oc_glo_bgc-plankton_my_l4-gapfree-multi-4km_P1D/201710.nc\n",
      "INFO - 2024-07-12T05:45:13Z - Dataset version was not specified, the latest one was selected: \"202311\"\n",
      "INFO - 2024-07-12T05:45:13Z - Dataset part was not specified, the first one was selected: \"default\"\n",
      "INFO - 2024-07-12T05:45:16Z - Service was not specified, the default one was selected: \"arco-geo-series\"\n",
      "INFO - 2024-07-12T05:45:19Z - Downloading using service arco-geo-series...\n",
      "INFO - 2024-07-12T05:45:26Z - Estimated size of the dataset file is 522.357 MB.\n",
      "INFO - 2024-07-12T05:45:26Z - Writing to local storage. Please wait...\n"
     ]
    },
    {
     "data": {
      "application/vnd.jupyter.widget-view+json": {
       "model_id": "0f8fc6db31ba4dcfb1d0a49ec62f38a5",
       "version_major": 2,
       "version_minor": 0
      },
      "text/plain": [
       "  0%|          | 0/3722 [00:00<?, ?it/s]"
      ]
     },
     "metadata": {},
     "output_type": "display_data"
    },
    {
     "name": "stderr",
     "output_type": "stream",
     "text": [
      "INFO - 2024-07-12T05:46:27Z - Successfully downloaded to /home/jovyan/shared/data/copernicus/cmems_obs-oc_glo_bgc-plankton_my_l4-gapfree-multi-4km_P1D/201711.nc\n",
      "INFO - 2024-07-12T05:46:28Z - Dataset version was not specified, the latest one was selected: \"202311\"\n",
      "INFO - 2024-07-12T05:46:28Z - Dataset part was not specified, the first one was selected: \"default\"\n",
      "INFO - 2024-07-12T05:46:31Z - Service was not specified, the default one was selected: \"arco-geo-series\"\n",
      "INFO - 2024-07-12T05:46:34Z - Downloading using service arco-geo-series...\n",
      "INFO - 2024-07-12T05:46:41Z - Estimated size of the dataset file is 539.769 MB.\n",
      "INFO - 2024-07-12T05:46:41Z - Writing to local storage. Please wait...\n"
     ]
    },
    {
     "data": {
      "application/vnd.jupyter.widget-view+json": {
       "model_id": "b2e11620e1614369a048a398b9735c49",
       "version_major": 2,
       "version_minor": 0
      },
      "text/plain": [
       "  0%|          | 0/3846 [00:00<?, ?it/s]"
      ]
     },
     "metadata": {},
     "output_type": "display_data"
    },
    {
     "name": "stderr",
     "output_type": "stream",
     "text": [
      "INFO - 2024-07-12T05:47:44Z - Successfully downloaded to /home/jovyan/shared/data/copernicus/cmems_obs-oc_glo_bgc-plankton_my_l4-gapfree-multi-4km_P1D/201712.nc\n",
      "INFO - 2024-07-12T05:47:45Z - Dataset version was not specified, the latest one was selected: \"202311\"\n",
      "INFO - 2024-07-12T05:47:45Z - Dataset part was not specified, the first one was selected: \"default\"\n",
      "INFO - 2024-07-12T05:47:48Z - Service was not specified, the default one was selected: \"arco-geo-series\"\n",
      "INFO - 2024-07-12T05:47:52Z - Downloading using service arco-geo-series...\n",
      "INFO - 2024-07-12T05:47:58Z - Estimated size of the dataset file is 539.769 MB.\n",
      "INFO - 2024-07-12T05:47:58Z - Writing to local storage. Please wait...\n"
     ]
    },
    {
     "data": {
      "application/vnd.jupyter.widget-view+json": {
       "model_id": "98a26670a42b4081addaf43d44f9a2c8",
       "version_major": 2,
       "version_minor": 0
      },
      "text/plain": [
       "  0%|          | 0/3846 [00:00<?, ?it/s]"
      ]
     },
     "metadata": {},
     "output_type": "display_data"
    },
    {
     "name": "stderr",
     "output_type": "stream",
     "text": [
      "INFO - 2024-07-12T05:49:01Z - Successfully downloaded to /home/jovyan/shared/data/copernicus/cmems_obs-oc_glo_bgc-plankton_my_l4-gapfree-multi-4km_P1D/201801.nc\n",
      "INFO - 2024-07-12T05:49:03Z - Dataset version was not specified, the latest one was selected: \"202311\"\n",
      "INFO - 2024-07-12T05:49:03Z - Dataset part was not specified, the first one was selected: \"default\"\n",
      "INFO - 2024-07-12T05:49:06Z - Service was not specified, the default one was selected: \"arco-geo-series\"\n",
      "INFO - 2024-07-12T05:49:08Z - Downloading using service arco-geo-series...\n",
      "INFO - 2024-07-12T05:49:15Z - Estimated size of the dataset file is 487.533 MB.\n",
      "INFO - 2024-07-12T05:49:15Z - Writing to local storage. Please wait...\n"
     ]
    },
    {
     "data": {
      "application/vnd.jupyter.widget-view+json": {
       "model_id": "0850f7ef580a40b99254658f83f52a88",
       "version_major": 2,
       "version_minor": 0
      },
      "text/plain": [
       "  0%|          | 0/3474 [00:00<?, ?it/s]"
      ]
     },
     "metadata": {},
     "output_type": "display_data"
    },
    {
     "name": "stderr",
     "output_type": "stream",
     "text": [
      "INFO - 2024-07-12T05:50:13Z - Successfully downloaded to /home/jovyan/shared/data/copernicus/cmems_obs-oc_glo_bgc-plankton_my_l4-gapfree-multi-4km_P1D/201802.nc\n",
      "INFO - 2024-07-12T05:50:15Z - Dataset version was not specified, the latest one was selected: \"202311\"\n",
      "INFO - 2024-07-12T05:50:15Z - Dataset part was not specified, the first one was selected: \"default\"\n",
      "INFO - 2024-07-12T05:50:18Z - Service was not specified, the default one was selected: \"arco-geo-series\"\n",
      "INFO - 2024-07-12T05:50:21Z - Downloading using service arco-geo-series...\n",
      "INFO - 2024-07-12T05:50:27Z - Estimated size of the dataset file is 539.769 MB.\n",
      "INFO - 2024-07-12T05:50:27Z - Writing to local storage. Please wait...\n"
     ]
    },
    {
     "data": {
      "application/vnd.jupyter.widget-view+json": {
       "model_id": "f2090d305b5a47129690327a5291f4a8",
       "version_major": 2,
       "version_minor": 0
      },
      "text/plain": [
       "  0%|          | 0/3846 [00:00<?, ?it/s]"
      ]
     },
     "metadata": {},
     "output_type": "display_data"
    },
    {
     "name": "stderr",
     "output_type": "stream",
     "text": [
      "INFO - 2024-07-12T05:51:30Z - Successfully downloaded to /home/jovyan/shared/data/copernicus/cmems_obs-oc_glo_bgc-plankton_my_l4-gapfree-multi-4km_P1D/201803.nc\n",
      "INFO - 2024-07-12T05:51:32Z - Dataset version was not specified, the latest one was selected: \"202311\"\n",
      "INFO - 2024-07-12T05:51:32Z - Dataset part was not specified, the first one was selected: \"default\"\n",
      "INFO - 2024-07-12T05:51:35Z - Service was not specified, the default one was selected: \"arco-geo-series\"\n",
      "INFO - 2024-07-12T05:51:38Z - Downloading using service arco-geo-series...\n",
      "INFO - 2024-07-12T05:51:44Z - Estimated size of the dataset file is 522.357 MB.\n",
      "INFO - 2024-07-12T05:51:44Z - Writing to local storage. Please wait...\n"
     ]
    },
    {
     "data": {
      "application/vnd.jupyter.widget-view+json": {
       "model_id": "ddad8810c31f4268b3ae902e838fa7be",
       "version_major": 2,
       "version_minor": 0
      },
      "text/plain": [
       "  0%|          | 0/3722 [00:00<?, ?it/s]"
      ]
     },
     "metadata": {},
     "output_type": "display_data"
    },
    {
     "name": "stderr",
     "output_type": "stream",
     "text": [
      "INFO - 2024-07-12T05:52:46Z - Successfully downloaded to /home/jovyan/shared/data/copernicus/cmems_obs-oc_glo_bgc-plankton_my_l4-gapfree-multi-4km_P1D/201804.nc\n",
      "INFO - 2024-07-12T05:52:47Z - Dataset version was not specified, the latest one was selected: \"202311\"\n",
      "INFO - 2024-07-12T05:52:47Z - Dataset part was not specified, the first one was selected: \"default\"\n",
      "INFO - 2024-07-12T05:52:51Z - Service was not specified, the default one was selected: \"arco-geo-series\"\n",
      "INFO - 2024-07-12T05:52:54Z - Downloading using service arco-geo-series...\n",
      "INFO - 2024-07-12T05:53:00Z - Estimated size of the dataset file is 539.769 MB.\n",
      "INFO - 2024-07-12T05:53:00Z - Writing to local storage. Please wait...\n"
     ]
    },
    {
     "data": {
      "application/vnd.jupyter.widget-view+json": {
       "model_id": "d06e7cdc62fc41a19516ad0666c7a917",
       "version_major": 2,
       "version_minor": 0
      },
      "text/plain": [
       "  0%|          | 0/3846 [00:00<?, ?it/s]"
      ]
     },
     "metadata": {},
     "output_type": "display_data"
    },
    {
     "name": "stderr",
     "output_type": "stream",
     "text": [
      "INFO - 2024-07-12T05:54:03Z - Successfully downloaded to /home/jovyan/shared/data/copernicus/cmems_obs-oc_glo_bgc-plankton_my_l4-gapfree-multi-4km_P1D/201805.nc\n",
      "INFO - 2024-07-12T05:54:05Z - Dataset version was not specified, the latest one was selected: \"202311\"\n",
      "INFO - 2024-07-12T05:54:05Z - Dataset part was not specified, the first one was selected: \"default\"\n",
      "INFO - 2024-07-12T05:54:08Z - Service was not specified, the default one was selected: \"arco-geo-series\"\n",
      "INFO - 2024-07-12T05:54:11Z - Downloading using service arco-geo-series...\n",
      "INFO - 2024-07-12T05:54:17Z - Estimated size of the dataset file is 522.357 MB.\n",
      "INFO - 2024-07-12T05:54:17Z - Writing to local storage. Please wait...\n"
     ]
    },
    {
     "data": {
      "application/vnd.jupyter.widget-view+json": {
       "model_id": "e07fad46c736476595a05c7877284877",
       "version_major": 2,
       "version_minor": 0
      },
      "text/plain": [
       "  0%|          | 0/3722 [00:00<?, ?it/s]"
      ]
     },
     "metadata": {},
     "output_type": "display_data"
    },
    {
     "name": "stderr",
     "output_type": "stream",
     "text": [
      "INFO - 2024-07-12T05:55:19Z - Successfully downloaded to /home/jovyan/shared/data/copernicus/cmems_obs-oc_glo_bgc-plankton_my_l4-gapfree-multi-4km_P1D/201806.nc\n",
      "INFO - 2024-07-12T05:55:20Z - Dataset version was not specified, the latest one was selected: \"202311\"\n",
      "INFO - 2024-07-12T05:55:20Z - Dataset part was not specified, the first one was selected: \"default\"\n",
      "INFO - 2024-07-12T05:55:23Z - Service was not specified, the default one was selected: \"arco-geo-series\"\n",
      "INFO - 2024-07-12T05:55:26Z - Downloading using service arco-geo-series...\n",
      "INFO - 2024-07-12T05:55:33Z - Estimated size of the dataset file is 539.769 MB.\n",
      "INFO - 2024-07-12T05:55:33Z - Writing to local storage. Please wait...\n"
     ]
    },
    {
     "data": {
      "application/vnd.jupyter.widget-view+json": {
       "model_id": "7664348972684717985839afba7a42d4",
       "version_major": 2,
       "version_minor": 0
      },
      "text/plain": [
       "  0%|          | 0/3846 [00:00<?, ?it/s]"
      ]
     },
     "metadata": {},
     "output_type": "display_data"
    },
    {
     "name": "stderr",
     "output_type": "stream",
     "text": [
      "INFO - 2024-07-12T05:56:36Z - Successfully downloaded to /home/jovyan/shared/data/copernicus/cmems_obs-oc_glo_bgc-plankton_my_l4-gapfree-multi-4km_P1D/201807.nc\n",
      "INFO - 2024-07-12T05:56:37Z - Dataset version was not specified, the latest one was selected: \"202311\"\n",
      "INFO - 2024-07-12T05:56:37Z - Dataset part was not specified, the first one was selected: \"default\"\n",
      "INFO - 2024-07-12T05:56:41Z - Service was not specified, the default one was selected: \"arco-geo-series\"\n",
      "INFO - 2024-07-12T05:56:44Z - Downloading using service arco-geo-series...\n",
      "INFO - 2024-07-12T05:56:50Z - Estimated size of the dataset file is 539.769 MB.\n",
      "INFO - 2024-07-12T05:56:50Z - Writing to local storage. Please wait...\n"
     ]
    },
    {
     "data": {
      "application/vnd.jupyter.widget-view+json": {
       "model_id": "ae961df4224f4f258a3e7cc2734fddb9",
       "version_major": 2,
       "version_minor": 0
      },
      "text/plain": [
       "  0%|          | 0/3846 [00:00<?, ?it/s]"
      ]
     },
     "metadata": {},
     "output_type": "display_data"
    },
    {
     "name": "stderr",
     "output_type": "stream",
     "text": [
      "INFO - 2024-07-12T05:57:55Z - Successfully downloaded to /home/jovyan/shared/data/copernicus/cmems_obs-oc_glo_bgc-plankton_my_l4-gapfree-multi-4km_P1D/201808.nc\n",
      "INFO - 2024-07-12T05:57:56Z - Dataset version was not specified, the latest one was selected: \"202311\"\n",
      "INFO - 2024-07-12T05:57:56Z - Dataset part was not specified, the first one was selected: \"default\"\n",
      "INFO - 2024-07-12T05:57:59Z - Service was not specified, the default one was selected: \"arco-geo-series\"\n",
      "INFO - 2024-07-12T05:58:02Z - Downloading using service arco-geo-series...\n",
      "INFO - 2024-07-12T05:58:08Z - Estimated size of the dataset file is 522.357 MB.\n",
      "INFO - 2024-07-12T05:58:08Z - Writing to local storage. Please wait...\n"
     ]
    },
    {
     "data": {
      "application/vnd.jupyter.widget-view+json": {
       "model_id": "df537bb5b35348f0905c33dcc8eac1ce",
       "version_major": 2,
       "version_minor": 0
      },
      "text/plain": [
       "  0%|          | 0/3722 [00:00<?, ?it/s]"
      ]
     },
     "metadata": {},
     "output_type": "display_data"
    },
    {
     "name": "stderr",
     "output_type": "stream",
     "text": [
      "INFO - 2024-07-12T05:59:10Z - Successfully downloaded to /home/jovyan/shared/data/copernicus/cmems_obs-oc_glo_bgc-plankton_my_l4-gapfree-multi-4km_P1D/201809.nc\n",
      "INFO - 2024-07-12T05:59:11Z - Dataset version was not specified, the latest one was selected: \"202311\"\n",
      "INFO - 2024-07-12T05:59:11Z - Dataset part was not specified, the first one was selected: \"default\"\n",
      "INFO - 2024-07-12T05:59:14Z - Service was not specified, the default one was selected: \"arco-geo-series\"\n",
      "INFO - 2024-07-12T05:59:17Z - Downloading using service arco-geo-series...\n",
      "INFO - 2024-07-12T05:59:24Z - Estimated size of the dataset file is 539.769 MB.\n",
      "INFO - 2024-07-12T05:59:24Z - Writing to local storage. Please wait...\n"
     ]
    },
    {
     "data": {
      "application/vnd.jupyter.widget-view+json": {
       "model_id": "47052f1a378f496ca966c6559fab04e8",
       "version_major": 2,
       "version_minor": 0
      },
      "text/plain": [
       "  0%|          | 0/3846 [00:00<?, ?it/s]"
      ]
     },
     "metadata": {},
     "output_type": "display_data"
    },
    {
     "name": "stderr",
     "output_type": "stream",
     "text": [
      "INFO - 2024-07-12T06:00:28Z - Successfully downloaded to /home/jovyan/shared/data/copernicus/cmems_obs-oc_glo_bgc-plankton_my_l4-gapfree-multi-4km_P1D/201810.nc\n",
      "INFO - 2024-07-12T06:00:29Z - Dataset version was not specified, the latest one was selected: \"202311\"\n",
      "INFO - 2024-07-12T06:00:29Z - Dataset part was not specified, the first one was selected: \"default\"\n",
      "INFO - 2024-07-12T06:00:32Z - Service was not specified, the default one was selected: \"arco-geo-series\"\n",
      "INFO - 2024-07-12T06:00:35Z - Downloading using service arco-geo-series...\n",
      "INFO - 2024-07-12T06:00:42Z - Estimated size of the dataset file is 522.357 MB.\n",
      "INFO - 2024-07-12T06:00:42Z - Writing to local storage. Please wait...\n"
     ]
    },
    {
     "data": {
      "application/vnd.jupyter.widget-view+json": {
       "model_id": "5fc97fa5b0c2434b9590a966bc0e89c0",
       "version_major": 2,
       "version_minor": 0
      },
      "text/plain": [
       "  0%|          | 0/3722 [00:00<?, ?it/s]"
      ]
     },
     "metadata": {},
     "output_type": "display_data"
    },
    {
     "name": "stderr",
     "output_type": "stream",
     "text": [
      "INFO - 2024-07-12T06:01:44Z - Successfully downloaded to /home/jovyan/shared/data/copernicus/cmems_obs-oc_glo_bgc-plankton_my_l4-gapfree-multi-4km_P1D/201811.nc\n",
      "INFO - 2024-07-12T06:01:45Z - Dataset version was not specified, the latest one was selected: \"202311\"\n",
      "INFO - 2024-07-12T06:01:45Z - Dataset part was not specified, the first one was selected: \"default\"\n",
      "INFO - 2024-07-12T06:01:48Z - Service was not specified, the default one was selected: \"arco-geo-series\"\n",
      "INFO - 2024-07-12T06:01:51Z - Downloading using service arco-geo-series...\n",
      "INFO - 2024-07-12T06:01:58Z - Estimated size of the dataset file is 539.769 MB.\n",
      "INFO - 2024-07-12T06:01:58Z - Writing to local storage. Please wait...\n"
     ]
    },
    {
     "data": {
      "application/vnd.jupyter.widget-view+json": {
       "model_id": "42f2bc71563a41c7a72ddbbbc8f3425d",
       "version_major": 2,
       "version_minor": 0
      },
      "text/plain": [
       "  0%|          | 0/3846 [00:00<?, ?it/s]"
      ]
     },
     "metadata": {},
     "output_type": "display_data"
    },
    {
     "name": "stderr",
     "output_type": "stream",
     "text": [
      "INFO - 2024-07-12T06:03:02Z - Successfully downloaded to /home/jovyan/shared/data/copernicus/cmems_obs-oc_glo_bgc-plankton_my_l4-gapfree-multi-4km_P1D/201812.nc\n",
      "INFO - 2024-07-12T06:03:03Z - Dataset version was not specified, the latest one was selected: \"202311\"\n",
      "INFO - 2024-07-12T06:03:03Z - Dataset part was not specified, the first one was selected: \"default\"\n",
      "INFO - 2024-07-12T06:03:06Z - Service was not specified, the default one was selected: \"arco-geo-series\"\n",
      "INFO - 2024-07-12T06:03:09Z - Downloading using service arco-geo-series...\n",
      "INFO - 2024-07-12T06:03:16Z - Estimated size of the dataset file is 539.769 MB.\n",
      "INFO - 2024-07-12T06:03:16Z - Writing to local storage. Please wait...\n"
     ]
    },
    {
     "data": {
      "application/vnd.jupyter.widget-view+json": {
       "model_id": "0cd37572292b42a1b6a564ef726ea70f",
       "version_major": 2,
       "version_minor": 0
      },
      "text/plain": [
       "  0%|          | 0/3846 [00:00<?, ?it/s]"
      ]
     },
     "metadata": {},
     "output_type": "display_data"
    },
    {
     "name": "stderr",
     "output_type": "stream",
     "text": [
      "INFO - 2024-07-12T06:04:20Z - Successfully downloaded to /home/jovyan/shared/data/copernicus/cmems_obs-oc_glo_bgc-plankton_my_l4-gapfree-multi-4km_P1D/201901.nc\n",
      "INFO - 2024-07-12T06:04:21Z - Dataset version was not specified, the latest one was selected: \"202311\"\n",
      "INFO - 2024-07-12T06:04:21Z - Dataset part was not specified, the first one was selected: \"default\"\n",
      "INFO - 2024-07-12T06:04:24Z - Service was not specified, the default one was selected: \"arco-geo-series\"\n",
      "INFO - 2024-07-12T06:04:27Z - Downloading using service arco-geo-series...\n",
      "INFO - 2024-07-12T06:04:33Z - Estimated size of the dataset file is 487.533 MB.\n",
      "INFO - 2024-07-12T06:04:33Z - Writing to local storage. Please wait...\n"
     ]
    },
    {
     "data": {
      "application/vnd.jupyter.widget-view+json": {
       "model_id": "ba8b3899ee834d7fb5ebf961b45a0e9c",
       "version_major": 2,
       "version_minor": 0
      },
      "text/plain": [
       "  0%|          | 0/3474 [00:00<?, ?it/s]"
      ]
     },
     "metadata": {},
     "output_type": "display_data"
    },
    {
     "name": "stderr",
     "output_type": "stream",
     "text": [
      "INFO - 2024-07-12T06:05:31Z - Successfully downloaded to /home/jovyan/shared/data/copernicus/cmems_obs-oc_glo_bgc-plankton_my_l4-gapfree-multi-4km_P1D/201902.nc\n",
      "INFO - 2024-07-12T06:05:32Z - Dataset version was not specified, the latest one was selected: \"202311\"\n",
      "INFO - 2024-07-12T06:05:32Z - Dataset part was not specified, the first one was selected: \"default\"\n",
      "INFO - 2024-07-12T06:05:35Z - Service was not specified, the default one was selected: \"arco-geo-series\"\n",
      "INFO - 2024-07-12T06:05:38Z - Downloading using service arco-geo-series...\n",
      "INFO - 2024-07-12T06:05:45Z - Estimated size of the dataset file is 539.769 MB.\n",
      "INFO - 2024-07-12T06:05:45Z - Writing to local storage. Please wait...\n"
     ]
    },
    {
     "data": {
      "application/vnd.jupyter.widget-view+json": {
       "model_id": "6e623f8c9427429899317da6e86da8c0",
       "version_major": 2,
       "version_minor": 0
      },
      "text/plain": [
       "  0%|          | 0/3846 [00:00<?, ?it/s]"
      ]
     },
     "metadata": {},
     "output_type": "display_data"
    },
    {
     "name": "stderr",
     "output_type": "stream",
     "text": [
      "INFO - 2024-07-12T06:06:48Z - Successfully downloaded to /home/jovyan/shared/data/copernicus/cmems_obs-oc_glo_bgc-plankton_my_l4-gapfree-multi-4km_P1D/201903.nc\n",
      "INFO - 2024-07-12T06:06:50Z - Dataset version was not specified, the latest one was selected: \"202311\"\n",
      "INFO - 2024-07-12T06:06:50Z - Dataset part was not specified, the first one was selected: \"default\"\n",
      "INFO - 2024-07-12T06:06:53Z - Service was not specified, the default one was selected: \"arco-geo-series\"\n",
      "INFO - 2024-07-12T06:06:56Z - Downloading using service arco-geo-series...\n",
      "INFO - 2024-07-12T06:07:03Z - Estimated size of the dataset file is 522.357 MB.\n",
      "INFO - 2024-07-12T06:07:03Z - Writing to local storage. Please wait...\n"
     ]
    },
    {
     "data": {
      "application/vnd.jupyter.widget-view+json": {
       "model_id": "88c5635ea4e14f44a72f10ebcbf5f897",
       "version_major": 2,
       "version_minor": 0
      },
      "text/plain": [
       "  0%|          | 0/3722 [00:00<?, ?it/s]"
      ]
     },
     "metadata": {},
     "output_type": "display_data"
    },
    {
     "name": "stderr",
     "output_type": "stream",
     "text": [
      "INFO - 2024-07-12T06:08:04Z - Successfully downloaded to /home/jovyan/shared/data/copernicus/cmems_obs-oc_glo_bgc-plankton_my_l4-gapfree-multi-4km_P1D/201904.nc\n",
      "INFO - 2024-07-12T06:08:06Z - Dataset version was not specified, the latest one was selected: \"202311\"\n",
      "INFO - 2024-07-12T06:08:06Z - Dataset part was not specified, the first one was selected: \"default\"\n",
      "INFO - 2024-07-12T06:08:09Z - Service was not specified, the default one was selected: \"arco-geo-series\"\n",
      "INFO - 2024-07-12T06:08:12Z - Downloading using service arco-geo-series...\n",
      "INFO - 2024-07-12T06:08:19Z - Estimated size of the dataset file is 539.769 MB.\n",
      "INFO - 2024-07-12T06:08:19Z - Writing to local storage. Please wait...\n"
     ]
    },
    {
     "data": {
      "application/vnd.jupyter.widget-view+json": {
       "model_id": "31a6ac1b903d4f0b8e00e7756b64cdd6",
       "version_major": 2,
       "version_minor": 0
      },
      "text/plain": [
       "  0%|          | 0/3846 [00:00<?, ?it/s]"
      ]
     },
     "metadata": {},
     "output_type": "display_data"
    },
    {
     "name": "stderr",
     "output_type": "stream",
     "text": [
      "INFO - 2024-07-12T06:09:22Z - Successfully downloaded to /home/jovyan/shared/data/copernicus/cmems_obs-oc_glo_bgc-plankton_my_l4-gapfree-multi-4km_P1D/201905.nc\n",
      "INFO - 2024-07-12T06:09:23Z - Dataset version was not specified, the latest one was selected: \"202311\"\n",
      "INFO - 2024-07-12T06:09:23Z - Dataset part was not specified, the first one was selected: \"default\"\n",
      "INFO - 2024-07-12T06:09:26Z - Service was not specified, the default one was selected: \"arco-geo-series\"\n",
      "INFO - 2024-07-12T06:09:29Z - Downloading using service arco-geo-series...\n",
      "INFO - 2024-07-12T06:09:35Z - Estimated size of the dataset file is 522.357 MB.\n",
      "INFO - 2024-07-12T06:09:35Z - Writing to local storage. Please wait...\n"
     ]
    },
    {
     "data": {
      "application/vnd.jupyter.widget-view+json": {
       "model_id": "aefb67c523e54ae6b66b6d627eba2832",
       "version_major": 2,
       "version_minor": 0
      },
      "text/plain": [
       "  0%|          | 0/3722 [00:00<?, ?it/s]"
      ]
     },
     "metadata": {},
     "output_type": "display_data"
    },
    {
     "name": "stderr",
     "output_type": "stream",
     "text": [
      "INFO - 2024-07-12T06:10:36Z - Successfully downloaded to /home/jovyan/shared/data/copernicus/cmems_obs-oc_glo_bgc-plankton_my_l4-gapfree-multi-4km_P1D/201906.nc\n",
      "INFO - 2024-07-12T06:10:37Z - Dataset version was not specified, the latest one was selected: \"202311\"\n",
      "INFO - 2024-07-12T06:10:37Z - Dataset part was not specified, the first one was selected: \"default\"\n",
      "INFO - 2024-07-12T06:10:41Z - Service was not specified, the default one was selected: \"arco-geo-series\"\n",
      "INFO - 2024-07-12T06:10:44Z - Downloading using service arco-geo-series...\n",
      "INFO - 2024-07-12T06:10:51Z - Estimated size of the dataset file is 539.769 MB.\n",
      "INFO - 2024-07-12T06:10:51Z - Writing to local storage. Please wait...\n"
     ]
    },
    {
     "data": {
      "application/vnd.jupyter.widget-view+json": {
       "model_id": "32476f466fc44f8593f0908fbf99a0b6",
       "version_major": 2,
       "version_minor": 0
      },
      "text/plain": [
       "  0%|          | 0/3846 [00:00<?, ?it/s]"
      ]
     },
     "metadata": {},
     "output_type": "display_data"
    },
    {
     "name": "stderr",
     "output_type": "stream",
     "text": [
      "INFO - 2024-07-12T06:11:53Z - Successfully downloaded to /home/jovyan/shared/data/copernicus/cmems_obs-oc_glo_bgc-plankton_my_l4-gapfree-multi-4km_P1D/201907.nc\n",
      "INFO - 2024-07-12T06:11:54Z - Dataset version was not specified, the latest one was selected: \"202311\"\n",
      "INFO - 2024-07-12T06:11:54Z - Dataset part was not specified, the first one was selected: \"default\"\n",
      "INFO - 2024-07-12T06:11:58Z - Service was not specified, the default one was selected: \"arco-geo-series\"\n",
      "INFO - 2024-07-12T06:12:01Z - Downloading using service arco-geo-series...\n",
      "INFO - 2024-07-12T06:12:08Z - Estimated size of the dataset file is 539.769 MB.\n",
      "INFO - 2024-07-12T06:12:08Z - Writing to local storage. Please wait...\n"
     ]
    },
    {
     "data": {
      "application/vnd.jupyter.widget-view+json": {
       "model_id": "7e787751397e471f8990f4c109600044",
       "version_major": 2,
       "version_minor": 0
      },
      "text/plain": [
       "  0%|          | 0/3846 [00:00<?, ?it/s]"
      ]
     },
     "metadata": {},
     "output_type": "display_data"
    },
    {
     "name": "stderr",
     "output_type": "stream",
     "text": [
      "INFO - 2024-07-12T06:13:11Z - Successfully downloaded to /home/jovyan/shared/data/copernicus/cmems_obs-oc_glo_bgc-plankton_my_l4-gapfree-multi-4km_P1D/201908.nc\n",
      "INFO - 2024-07-12T06:13:12Z - Dataset version was not specified, the latest one was selected: \"202311\"\n",
      "INFO - 2024-07-12T06:13:12Z - Dataset part was not specified, the first one was selected: \"default\"\n",
      "INFO - 2024-07-12T06:13:15Z - Service was not specified, the default one was selected: \"arco-geo-series\"\n",
      "INFO - 2024-07-12T06:13:18Z - Downloading using service arco-geo-series...\n",
      "INFO - 2024-07-12T06:13:25Z - Estimated size of the dataset file is 522.357 MB.\n",
      "INFO - 2024-07-12T06:13:25Z - Writing to local storage. Please wait...\n"
     ]
    },
    {
     "data": {
      "application/vnd.jupyter.widget-view+json": {
       "model_id": "defc06669c8c4c1fb79ee08c19f8da6c",
       "version_major": 2,
       "version_minor": 0
      },
      "text/plain": [
       "  0%|          | 0/3722 [00:00<?, ?it/s]"
      ]
     },
     "metadata": {},
     "output_type": "display_data"
    },
    {
     "name": "stderr",
     "output_type": "stream",
     "text": [
      "INFO - 2024-07-12T06:14:26Z - Successfully downloaded to /home/jovyan/shared/data/copernicus/cmems_obs-oc_glo_bgc-plankton_my_l4-gapfree-multi-4km_P1D/201909.nc\n",
      "INFO - 2024-07-12T06:14:28Z - Dataset version was not specified, the latest one was selected: \"202311\"\n",
      "INFO - 2024-07-12T06:14:28Z - Dataset part was not specified, the first one was selected: \"default\"\n",
      "INFO - 2024-07-12T06:14:31Z - Service was not specified, the default one was selected: \"arco-geo-series\"\n",
      "INFO - 2024-07-12T06:14:34Z - Downloading using service arco-geo-series...\n",
      "INFO - 2024-07-12T06:14:40Z - Estimated size of the dataset file is 539.769 MB.\n",
      "INFO - 2024-07-12T06:14:40Z - Writing to local storage. Please wait...\n"
     ]
    },
    {
     "data": {
      "application/vnd.jupyter.widget-view+json": {
       "model_id": "d2822b73f455483bb0cb0e877be26ffa",
       "version_major": 2,
       "version_minor": 0
      },
      "text/plain": [
       "  0%|          | 0/3846 [00:00<?, ?it/s]"
      ]
     },
     "metadata": {},
     "output_type": "display_data"
    },
    {
     "name": "stderr",
     "output_type": "stream",
     "text": [
      "INFO - 2024-07-12T06:15:43Z - Successfully downloaded to /home/jovyan/shared/data/copernicus/cmems_obs-oc_glo_bgc-plankton_my_l4-gapfree-multi-4km_P1D/201910.nc\n",
      "INFO - 2024-07-12T06:15:44Z - Dataset version was not specified, the latest one was selected: \"202311\"\n",
      "INFO - 2024-07-12T06:15:44Z - Dataset part was not specified, the first one was selected: \"default\"\n",
      "INFO - 2024-07-12T06:15:47Z - Service was not specified, the default one was selected: \"arco-geo-series\"\n",
      "INFO - 2024-07-12T06:15:50Z - Downloading using service arco-geo-series...\n",
      "INFO - 2024-07-12T06:15:57Z - Estimated size of the dataset file is 522.357 MB.\n",
      "INFO - 2024-07-12T06:15:57Z - Writing to local storage. Please wait...\n"
     ]
    },
    {
     "data": {
      "application/vnd.jupyter.widget-view+json": {
       "model_id": "12397c439eac4d16837ca1b59355b086",
       "version_major": 2,
       "version_minor": 0
      },
      "text/plain": [
       "  0%|          | 0/3722 [00:00<?, ?it/s]"
      ]
     },
     "metadata": {},
     "output_type": "display_data"
    },
    {
     "name": "stderr",
     "output_type": "stream",
     "text": [
      "INFO - 2024-07-12T06:16:58Z - Successfully downloaded to /home/jovyan/shared/data/copernicus/cmems_obs-oc_glo_bgc-plankton_my_l4-gapfree-multi-4km_P1D/201911.nc\n",
      "INFO - 2024-07-12T06:16:59Z - Dataset version was not specified, the latest one was selected: \"202311\"\n",
      "INFO - 2024-07-12T06:16:59Z - Dataset part was not specified, the first one was selected: \"default\"\n",
      "INFO - 2024-07-12T06:17:03Z - Service was not specified, the default one was selected: \"arco-geo-series\"\n",
      "INFO - 2024-07-12T06:17:06Z - Downloading using service arco-geo-series...\n",
      "INFO - 2024-07-12T06:17:12Z - Estimated size of the dataset file is 539.769 MB.\n",
      "INFO - 2024-07-12T06:17:12Z - Writing to local storage. Please wait...\n"
     ]
    },
    {
     "data": {
      "application/vnd.jupyter.widget-view+json": {
       "model_id": "fd4f4314ddf44c50ae0fc8c995a60b2d",
       "version_major": 2,
       "version_minor": 0
      },
      "text/plain": [
       "  0%|          | 0/3846 [00:00<?, ?it/s]"
      ]
     },
     "metadata": {},
     "output_type": "display_data"
    },
    {
     "name": "stderr",
     "output_type": "stream",
     "text": [
      "INFO - 2024-07-12T06:18:15Z - Successfully downloaded to /home/jovyan/shared/data/copernicus/cmems_obs-oc_glo_bgc-plankton_my_l4-gapfree-multi-4km_P1D/201912.nc\n",
      "INFO - 2024-07-12T06:18:17Z - Dataset version was not specified, the latest one was selected: \"202311\"\n",
      "INFO - 2024-07-12T06:18:17Z - Dataset part was not specified, the first one was selected: \"default\"\n",
      "INFO - 2024-07-12T06:18:20Z - Service was not specified, the default one was selected: \"arco-geo-series\"\n",
      "INFO - 2024-07-12T06:18:23Z - Downloading using service arco-geo-series...\n",
      "INFO - 2024-07-12T06:18:30Z - Estimated size of the dataset file is 539.769 MB.\n",
      "INFO - 2024-07-12T06:18:30Z - Writing to local storage. Please wait...\n"
     ]
    },
    {
     "data": {
      "application/vnd.jupyter.widget-view+json": {
       "model_id": "10de1c29650a4f69b34a4c6b18e67929",
       "version_major": 2,
       "version_minor": 0
      },
      "text/plain": [
       "  0%|          | 0/3846 [00:00<?, ?it/s]"
      ]
     },
     "metadata": {},
     "output_type": "display_data"
    },
    {
     "name": "stderr",
     "output_type": "stream",
     "text": [
      "INFO - 2024-07-12T06:19:33Z - Successfully downloaded to /home/jovyan/shared/data/copernicus/cmems_obs-oc_glo_bgc-plankton_my_l4-gapfree-multi-4km_P1D/202001.nc\n",
      "INFO - 2024-07-12T06:19:34Z - Dataset version was not specified, the latest one was selected: \"202311\"\n",
      "INFO - 2024-07-12T06:19:34Z - Dataset part was not specified, the first one was selected: \"default\"\n",
      "INFO - 2024-07-12T06:19:37Z - Service was not specified, the default one was selected: \"arco-geo-series\"\n",
      "INFO - 2024-07-12T06:19:40Z - Downloading using service arco-geo-series...\n",
      "INFO - 2024-07-12T06:19:46Z - Estimated size of the dataset file is 504.945 MB.\n",
      "INFO - 2024-07-12T06:19:46Z - Writing to local storage. Please wait...\n"
     ]
    },
    {
     "data": {
      "application/vnd.jupyter.widget-view+json": {
       "model_id": "4472c3ba2e00489db5b4859a9e3306a4",
       "version_major": 2,
       "version_minor": 0
      },
      "text/plain": [
       "  0%|          | 0/3598 [00:00<?, ?it/s]"
      ]
     },
     "metadata": {},
     "output_type": "display_data"
    },
    {
     "name": "stderr",
     "output_type": "stream",
     "text": [
      "INFO - 2024-07-12T06:20:46Z - Successfully downloaded to /home/jovyan/shared/data/copernicus/cmems_obs-oc_glo_bgc-plankton_my_l4-gapfree-multi-4km_P1D/202002.nc\n",
      "INFO - 2024-07-12T06:20:47Z - Dataset version was not specified, the latest one was selected: \"202311\"\n",
      "INFO - 2024-07-12T06:20:47Z - Dataset part was not specified, the first one was selected: \"default\"\n",
      "INFO - 2024-07-12T06:20:50Z - Service was not specified, the default one was selected: \"arco-geo-series\"\n",
      "INFO - 2024-07-12T06:20:53Z - Downloading using service arco-geo-series...\n",
      "INFO - 2024-07-12T06:21:00Z - Estimated size of the dataset file is 539.769 MB.\n",
      "INFO - 2024-07-12T06:21:00Z - Writing to local storage. Please wait...\n"
     ]
    },
    {
     "data": {
      "application/vnd.jupyter.widget-view+json": {
       "model_id": "985427be960f41a08cbe9d2f48251c0f",
       "version_major": 2,
       "version_minor": 0
      },
      "text/plain": [
       "  0%|          | 0/3846 [00:00<?, ?it/s]"
      ]
     },
     "metadata": {},
     "output_type": "display_data"
    },
    {
     "name": "stderr",
     "output_type": "stream",
     "text": [
      "INFO - 2024-07-12T06:22:02Z - Successfully downloaded to /home/jovyan/shared/data/copernicus/cmems_obs-oc_glo_bgc-plankton_my_l4-gapfree-multi-4km_P1D/202003.nc\n",
      "INFO - 2024-07-12T06:22:04Z - Dataset version was not specified, the latest one was selected: \"202311\"\n",
      "INFO - 2024-07-12T06:22:04Z - Dataset part was not specified, the first one was selected: \"default\"\n",
      "INFO - 2024-07-12T06:22:07Z - Service was not specified, the default one was selected: \"arco-geo-series\"\n",
      "INFO - 2024-07-12T06:22:10Z - Downloading using service arco-geo-series...\n",
      "INFO - 2024-07-12T06:22:17Z - Estimated size of the dataset file is 522.357 MB.\n",
      "INFO - 2024-07-12T06:22:17Z - Writing to local storage. Please wait...\n"
     ]
    },
    {
     "data": {
      "application/vnd.jupyter.widget-view+json": {
       "model_id": "fbbbee332e6244e188ba425379b1c48a",
       "version_major": 2,
       "version_minor": 0
      },
      "text/plain": [
       "  0%|          | 0/3722 [00:00<?, ?it/s]"
      ]
     },
     "metadata": {},
     "output_type": "display_data"
    },
    {
     "name": "stderr",
     "output_type": "stream",
     "text": [
      "INFO - 2024-07-12T06:23:18Z - Successfully downloaded to /home/jovyan/shared/data/copernicus/cmems_obs-oc_glo_bgc-plankton_my_l4-gapfree-multi-4km_P1D/202004.nc\n",
      "INFO - 2024-07-12T06:23:19Z - Dataset version was not specified, the latest one was selected: \"202311\"\n",
      "INFO - 2024-07-12T06:23:19Z - Dataset part was not specified, the first one was selected: \"default\"\n",
      "INFO - 2024-07-12T06:23:22Z - Service was not specified, the default one was selected: \"arco-geo-series\"\n",
      "INFO - 2024-07-12T06:23:25Z - Downloading using service arco-geo-series...\n",
      "INFO - 2024-07-12T06:23:32Z - Estimated size of the dataset file is 539.769 MB.\n",
      "INFO - 2024-07-12T06:23:32Z - Writing to local storage. Please wait...\n"
     ]
    },
    {
     "data": {
      "application/vnd.jupyter.widget-view+json": {
       "model_id": "b20b0006dcbd4d2baefd0d87a07a2067",
       "version_major": 2,
       "version_minor": 0
      },
      "text/plain": [
       "  0%|          | 0/3846 [00:00<?, ?it/s]"
      ]
     },
     "metadata": {},
     "output_type": "display_data"
    },
    {
     "name": "stderr",
     "output_type": "stream",
     "text": [
      "INFO - 2024-07-12T06:24:34Z - Successfully downloaded to /home/jovyan/shared/data/copernicus/cmems_obs-oc_glo_bgc-plankton_my_l4-gapfree-multi-4km_P1D/202005.nc\n",
      "INFO - 2024-07-12T06:24:36Z - Dataset version was not specified, the latest one was selected: \"202311\"\n",
      "INFO - 2024-07-12T06:24:36Z - Dataset part was not specified, the first one was selected: \"default\"\n",
      "INFO - 2024-07-12T06:24:39Z - Service was not specified, the default one was selected: \"arco-geo-series\"\n",
      "INFO - 2024-07-12T06:24:42Z - Downloading using service arco-geo-series...\n",
      "INFO - 2024-07-12T06:24:48Z - Estimated size of the dataset file is 522.357 MB.\n",
      "INFO - 2024-07-12T06:24:48Z - Writing to local storage. Please wait...\n"
     ]
    },
    {
     "data": {
      "application/vnd.jupyter.widget-view+json": {
       "model_id": "2380dd9f33ef4ec7b24cb6deb4e1e4ee",
       "version_major": 2,
       "version_minor": 0
      },
      "text/plain": [
       "  0%|          | 0/3722 [00:00<?, ?it/s]"
      ]
     },
     "metadata": {},
     "output_type": "display_data"
    },
    {
     "name": "stderr",
     "output_type": "stream",
     "text": [
      "INFO - 2024-07-12T06:25:50Z - Successfully downloaded to /home/jovyan/shared/data/copernicus/cmems_obs-oc_glo_bgc-plankton_my_l4-gapfree-multi-4km_P1D/202006.nc\n",
      "INFO - 2024-07-12T06:25:51Z - Dataset version was not specified, the latest one was selected: \"202311\"\n",
      "INFO - 2024-07-12T06:25:51Z - Dataset part was not specified, the first one was selected: \"default\"\n",
      "INFO - 2024-07-12T06:25:54Z - Service was not specified, the default one was selected: \"arco-geo-series\"\n",
      "INFO - 2024-07-12T06:25:58Z - Downloading using service arco-geo-series...\n",
      "INFO - 2024-07-12T06:26:05Z - Estimated size of the dataset file is 539.769 MB.\n",
      "INFO - 2024-07-12T06:26:05Z - Writing to local storage. Please wait...\n"
     ]
    },
    {
     "data": {
      "application/vnd.jupyter.widget-view+json": {
       "model_id": "15186a30f6814398850e80eebbf28794",
       "version_major": 2,
       "version_minor": 0
      },
      "text/plain": [
       "  0%|          | 0/3846 [00:00<?, ?it/s]"
      ]
     },
     "metadata": {},
     "output_type": "display_data"
    },
    {
     "name": "stderr",
     "output_type": "stream",
     "text": [
      "INFO - 2024-07-12T06:27:08Z - Successfully downloaded to /home/jovyan/shared/data/copernicus/cmems_obs-oc_glo_bgc-plankton_my_l4-gapfree-multi-4km_P1D/202007.nc\n",
      "INFO - 2024-07-12T06:27:09Z - Dataset version was not specified, the latest one was selected: \"202311\"\n",
      "INFO - 2024-07-12T06:27:09Z - Dataset part was not specified, the first one was selected: \"default\"\n",
      "INFO - 2024-07-12T06:27:12Z - Service was not specified, the default one was selected: \"arco-geo-series\"\n",
      "INFO - 2024-07-12T06:27:15Z - Downloading using service arco-geo-series...\n",
      "INFO - 2024-07-12T06:27:22Z - Estimated size of the dataset file is 539.769 MB.\n",
      "INFO - 2024-07-12T06:27:22Z - Writing to local storage. Please wait...\n"
     ]
    },
    {
     "data": {
      "application/vnd.jupyter.widget-view+json": {
       "model_id": "dbb99c04b0014231b870f4c75f86505f",
       "version_major": 2,
       "version_minor": 0
      },
      "text/plain": [
       "  0%|          | 0/3846 [00:00<?, ?it/s]"
      ]
     },
     "metadata": {},
     "output_type": "display_data"
    },
    {
     "name": "stderr",
     "output_type": "stream",
     "text": [
      "INFO - 2024-07-12T06:28:25Z - Successfully downloaded to /home/jovyan/shared/data/copernicus/cmems_obs-oc_glo_bgc-plankton_my_l4-gapfree-multi-4km_P1D/202008.nc\n",
      "INFO - 2024-07-12T06:28:26Z - Dataset version was not specified, the latest one was selected: \"202311\"\n",
      "INFO - 2024-07-12T06:28:26Z - Dataset part was not specified, the first one was selected: \"default\"\n",
      "INFO - 2024-07-12T06:28:29Z - Service was not specified, the default one was selected: \"arco-geo-series\"\n",
      "INFO - 2024-07-12T06:28:32Z - Downloading using service arco-geo-series...\n",
      "INFO - 2024-07-12T06:28:38Z - Estimated size of the dataset file is 522.357 MB.\n",
      "INFO - 2024-07-12T06:28:38Z - Writing to local storage. Please wait...\n"
     ]
    },
    {
     "data": {
      "application/vnd.jupyter.widget-view+json": {
       "model_id": "f48bfc8d6dcb4b0988d0541604409499",
       "version_major": 2,
       "version_minor": 0
      },
      "text/plain": [
       "  0%|          | 0/3722 [00:00<?, ?it/s]"
      ]
     },
     "metadata": {},
     "output_type": "display_data"
    },
    {
     "name": "stderr",
     "output_type": "stream",
     "text": [
      "INFO - 2024-07-12T06:29:39Z - Successfully downloaded to /home/jovyan/shared/data/copernicus/cmems_obs-oc_glo_bgc-plankton_my_l4-gapfree-multi-4km_P1D/202009.nc\n",
      "INFO - 2024-07-12T06:29:41Z - Dataset version was not specified, the latest one was selected: \"202311\"\n",
      "INFO - 2024-07-12T06:29:41Z - Dataset part was not specified, the first one was selected: \"default\"\n",
      "INFO - 2024-07-12T06:29:44Z - Service was not specified, the default one was selected: \"arco-geo-series\"\n",
      "INFO - 2024-07-12T06:29:47Z - Downloading using service arco-geo-series...\n",
      "INFO - 2024-07-12T06:29:54Z - Estimated size of the dataset file is 539.769 MB.\n",
      "INFO - 2024-07-12T06:29:54Z - Writing to local storage. Please wait...\n"
     ]
    },
    {
     "data": {
      "application/vnd.jupyter.widget-view+json": {
       "model_id": "adba6ecccdc84d48a2dbf43a3b91d30d",
       "version_major": 2,
       "version_minor": 0
      },
      "text/plain": [
       "  0%|          | 0/3846 [00:00<?, ?it/s]"
      ]
     },
     "metadata": {},
     "output_type": "display_data"
    },
    {
     "name": "stderr",
     "output_type": "stream",
     "text": [
      "INFO - 2024-07-12T06:30:58Z - Successfully downloaded to /home/jovyan/shared/data/copernicus/cmems_obs-oc_glo_bgc-plankton_my_l4-gapfree-multi-4km_P1D/202010.nc\n",
      "INFO - 2024-07-12T06:30:59Z - Dataset version was not specified, the latest one was selected: \"202311\"\n",
      "INFO - 2024-07-12T06:30:59Z - Dataset part was not specified, the first one was selected: \"default\"\n",
      "INFO - 2024-07-12T06:31:02Z - Service was not specified, the default one was selected: \"arco-geo-series\"\n",
      "INFO - 2024-07-12T06:31:05Z - Downloading using service arco-geo-series...\n",
      "INFO - 2024-07-12T06:31:12Z - Estimated size of the dataset file is 522.357 MB.\n",
      "INFO - 2024-07-12T06:31:12Z - Writing to local storage. Please wait...\n"
     ]
    },
    {
     "data": {
      "application/vnd.jupyter.widget-view+json": {
       "model_id": "1b0d95446505474d90b0156a549320bd",
       "version_major": 2,
       "version_minor": 0
      },
      "text/plain": [
       "  0%|          | 0/3722 [00:00<?, ?it/s]"
      ]
     },
     "metadata": {},
     "output_type": "display_data"
    },
    {
     "name": "stderr",
     "output_type": "stream",
     "text": [
      "INFO - 2024-07-12T06:32:13Z - Successfully downloaded to /home/jovyan/shared/data/copernicus/cmems_obs-oc_glo_bgc-plankton_my_l4-gapfree-multi-4km_P1D/202011.nc\n",
      "INFO - 2024-07-12T06:32:14Z - Dataset version was not specified, the latest one was selected: \"202311\"\n",
      "INFO - 2024-07-12T06:32:14Z - Dataset part was not specified, the first one was selected: \"default\"\n",
      "INFO - 2024-07-12T06:32:18Z - Service was not specified, the default one was selected: \"arco-geo-series\"\n",
      "INFO - 2024-07-12T06:32:21Z - Downloading using service arco-geo-series...\n",
      "INFO - 2024-07-12T06:32:28Z - Estimated size of the dataset file is 539.769 MB.\n",
      "INFO - 2024-07-12T06:32:28Z - Writing to local storage. Please wait...\n"
     ]
    },
    {
     "data": {
      "application/vnd.jupyter.widget-view+json": {
       "model_id": "47fca32f3b8e4a52b69bbb6dbbc0e893",
       "version_major": 2,
       "version_minor": 0
      },
      "text/plain": [
       "  0%|          | 0/3846 [00:00<?, ?it/s]"
      ]
     },
     "metadata": {},
     "output_type": "display_data"
    },
    {
     "name": "stderr",
     "output_type": "stream",
     "text": [
      "INFO - 2024-07-12T06:33:31Z - Successfully downloaded to /home/jovyan/shared/data/copernicus/cmems_obs-oc_glo_bgc-plankton_my_l4-gapfree-multi-4km_P1D/202012.nc\n",
      "INFO - 2024-07-12T06:33:32Z - Dataset version was not specified, the latest one was selected: \"202311\"\n",
      "INFO - 2024-07-12T06:33:32Z - Dataset part was not specified, the first one was selected: \"default\"\n",
      "INFO - 2024-07-12T06:33:35Z - Service was not specified, the default one was selected: \"arco-geo-series\"\n",
      "INFO - 2024-07-12T06:33:38Z - Downloading using service arco-geo-series...\n",
      "INFO - 2024-07-12T06:33:44Z - Estimated size of the dataset file is 539.769 MB.\n",
      "INFO - 2024-07-12T06:33:44Z - Writing to local storage. Please wait...\n"
     ]
    },
    {
     "data": {
      "application/vnd.jupyter.widget-view+json": {
       "model_id": "6cb65ab9b4e94539b584403e5167fc1a",
       "version_major": 2,
       "version_minor": 0
      },
      "text/plain": [
       "  0%|          | 0/3846 [00:00<?, ?it/s]"
      ]
     },
     "metadata": {},
     "output_type": "display_data"
    },
    {
     "name": "stderr",
     "output_type": "stream",
     "text": [
      "INFO - 2024-07-12T06:34:48Z - Successfully downloaded to /home/jovyan/shared/data/copernicus/cmems_obs-oc_glo_bgc-plankton_my_l4-gapfree-multi-4km_P1D/202101.nc\n",
      "INFO - 2024-07-12T06:34:49Z - Dataset version was not specified, the latest one was selected: \"202311\"\n",
      "INFO - 2024-07-12T06:34:49Z - Dataset part was not specified, the first one was selected: \"default\"\n",
      "INFO - 2024-07-12T06:34:52Z - Service was not specified, the default one was selected: \"arco-geo-series\"\n",
      "INFO - 2024-07-12T06:34:55Z - Downloading using service arco-geo-series...\n",
      "INFO - 2024-07-12T06:35:02Z - Estimated size of the dataset file is 487.533 MB.\n",
      "INFO - 2024-07-12T06:35:02Z - Writing to local storage. Please wait...\n"
     ]
    },
    {
     "data": {
      "application/vnd.jupyter.widget-view+json": {
       "model_id": "21fac62aff1e474a9c0065d81d3210cb",
       "version_major": 2,
       "version_minor": 0
      },
      "text/plain": [
       "  0%|          | 0/3474 [00:00<?, ?it/s]"
      ]
     },
     "metadata": {},
     "output_type": "display_data"
    },
    {
     "name": "stderr",
     "output_type": "stream",
     "text": [
      "INFO - 2024-07-12T06:36:00Z - Successfully downloaded to /home/jovyan/shared/data/copernicus/cmems_obs-oc_glo_bgc-plankton_my_l4-gapfree-multi-4km_P1D/202102.nc\n",
      "INFO - 2024-07-12T06:36:01Z - Dataset version was not specified, the latest one was selected: \"202311\"\n",
      "INFO - 2024-07-12T06:36:01Z - Dataset part was not specified, the first one was selected: \"default\"\n",
      "INFO - 2024-07-12T06:36:04Z - Service was not specified, the default one was selected: \"arco-geo-series\"\n",
      "INFO - 2024-07-12T06:36:07Z - Downloading using service arco-geo-series...\n",
      "INFO - 2024-07-12T06:36:14Z - Estimated size of the dataset file is 539.769 MB.\n",
      "INFO - 2024-07-12T06:36:14Z - Writing to local storage. Please wait...\n"
     ]
    },
    {
     "data": {
      "application/vnd.jupyter.widget-view+json": {
       "model_id": "03f4c4d2bc49419da948a0a8d411bf65",
       "version_major": 2,
       "version_minor": 0
      },
      "text/plain": [
       "  0%|          | 0/3846 [00:00<?, ?it/s]"
      ]
     },
     "metadata": {},
     "output_type": "display_data"
    },
    {
     "name": "stderr",
     "output_type": "stream",
     "text": [
      "INFO - 2024-07-12T06:37:18Z - Successfully downloaded to /home/jovyan/shared/data/copernicus/cmems_obs-oc_glo_bgc-plankton_my_l4-gapfree-multi-4km_P1D/202103.nc\n",
      "INFO - 2024-07-12T06:37:19Z - Dataset version was not specified, the latest one was selected: \"202311\"\n",
      "INFO - 2024-07-12T06:37:19Z - Dataset part was not specified, the first one was selected: \"default\"\n",
      "INFO - 2024-07-12T06:37:22Z - Service was not specified, the default one was selected: \"arco-geo-series\"\n",
      "INFO - 2024-07-12T06:37:26Z - Downloading using service arco-geo-series...\n",
      "INFO - 2024-07-12T06:37:32Z - Estimated size of the dataset file is 522.357 MB.\n",
      "INFO - 2024-07-12T06:37:32Z - Writing to local storage. Please wait...\n"
     ]
    },
    {
     "data": {
      "application/vnd.jupyter.widget-view+json": {
       "model_id": "82de492b8c0a45988d184d1657763f29",
       "version_major": 2,
       "version_minor": 0
      },
      "text/plain": [
       "  0%|          | 0/3722 [00:00<?, ?it/s]"
      ]
     },
     "metadata": {},
     "output_type": "display_data"
    },
    {
     "name": "stderr",
     "output_type": "stream",
     "text": [
      "INFO - 2024-07-12T06:38:34Z - Successfully downloaded to /home/jovyan/shared/data/copernicus/cmems_obs-oc_glo_bgc-plankton_my_l4-gapfree-multi-4km_P1D/202104.nc\n",
      "INFO - 2024-07-12T06:38:35Z - Dataset version was not specified, the latest one was selected: \"202311\"\n",
      "INFO - 2024-07-12T06:38:35Z - Dataset part was not specified, the first one was selected: \"default\"\n",
      "INFO - 2024-07-12T06:38:39Z - Service was not specified, the default one was selected: \"arco-geo-series\"\n",
      "INFO - 2024-07-12T06:38:42Z - Downloading using service arco-geo-series...\n",
      "INFO - 2024-07-12T06:38:49Z - Estimated size of the dataset file is 539.769 MB.\n",
      "INFO - 2024-07-12T06:38:49Z - Writing to local storage. Please wait...\n"
     ]
    },
    {
     "data": {
      "application/vnd.jupyter.widget-view+json": {
       "model_id": "a242f048fa694e2aa67ea3c215b91fd5",
       "version_major": 2,
       "version_minor": 0
      },
      "text/plain": [
       "  0%|          | 0/3846 [00:00<?, ?it/s]"
      ]
     },
     "metadata": {},
     "output_type": "display_data"
    },
    {
     "name": "stderr",
     "output_type": "stream",
     "text": [
      "INFO - 2024-07-12T06:39:52Z - Successfully downloaded to /home/jovyan/shared/data/copernicus/cmems_obs-oc_glo_bgc-plankton_my_l4-gapfree-multi-4km_P1D/202105.nc\n",
      "INFO - 2024-07-12T06:39:53Z - Dataset version was not specified, the latest one was selected: \"202311\"\n",
      "INFO - 2024-07-12T06:39:53Z - Dataset part was not specified, the first one was selected: \"default\"\n",
      "INFO - 2024-07-12T06:39:56Z - Service was not specified, the default one was selected: \"arco-geo-series\"\n",
      "INFO - 2024-07-12T06:39:59Z - Downloading using service arco-geo-series...\n",
      "INFO - 2024-07-12T06:40:06Z - Estimated size of the dataset file is 522.357 MB.\n",
      "INFO - 2024-07-12T06:40:06Z - Writing to local storage. Please wait...\n"
     ]
    },
    {
     "data": {
      "application/vnd.jupyter.widget-view+json": {
       "model_id": "d9544c9333a2403a8c36cf382f59f6c0",
       "version_major": 2,
       "version_minor": 0
      },
      "text/plain": [
       "  0%|          | 0/3722 [00:00<?, ?it/s]"
      ]
     },
     "metadata": {},
     "output_type": "display_data"
    },
    {
     "name": "stderr",
     "output_type": "stream",
     "text": [
      "INFO - 2024-07-12T06:41:08Z - Successfully downloaded to /home/jovyan/shared/data/copernicus/cmems_obs-oc_glo_bgc-plankton_my_l4-gapfree-multi-4km_P1D/202106.nc\n",
      "INFO - 2024-07-12T06:41:09Z - Dataset version was not specified, the latest one was selected: \"202311\"\n",
      "INFO - 2024-07-12T06:41:09Z - Dataset part was not specified, the first one was selected: \"default\"\n",
      "INFO - 2024-07-12T06:41:12Z - Service was not specified, the default one was selected: \"arco-geo-series\"\n",
      "INFO - 2024-07-12T06:41:15Z - Downloading using service arco-geo-series...\n",
      "INFO - 2024-07-12T06:41:21Z - Estimated size of the dataset file is 539.769 MB.\n",
      "INFO - 2024-07-12T06:41:21Z - Writing to local storage. Please wait...\n"
     ]
    },
    {
     "data": {
      "application/vnd.jupyter.widget-view+json": {
       "model_id": "a5a02abdb4b04d1aa325c1b0f4bb9c16",
       "version_major": 2,
       "version_minor": 0
      },
      "text/plain": [
       "  0%|          | 0/3846 [00:00<?, ?it/s]"
      ]
     },
     "metadata": {},
     "output_type": "display_data"
    },
    {
     "name": "stderr",
     "output_type": "stream",
     "text": [
      "INFO - 2024-07-12T06:42:25Z - Successfully downloaded to /home/jovyan/shared/data/copernicus/cmems_obs-oc_glo_bgc-plankton_my_l4-gapfree-multi-4km_P1D/202107.nc\n",
      "INFO - 2024-07-12T06:42:26Z - Dataset version was not specified, the latest one was selected: \"202311\"\n",
      "INFO - 2024-07-12T06:42:26Z - Dataset part was not specified, the first one was selected: \"default\"\n",
      "INFO - 2024-07-12T06:42:30Z - Service was not specified, the default one was selected: \"arco-geo-series\"\n",
      "INFO - 2024-07-12T06:42:32Z - Downloading using service arco-geo-series...\n",
      "INFO - 2024-07-12T06:42:39Z - Estimated size of the dataset file is 539.769 MB.\n",
      "INFO - 2024-07-12T06:42:39Z - Writing to local storage. Please wait...\n"
     ]
    },
    {
     "data": {
      "application/vnd.jupyter.widget-view+json": {
       "model_id": "3d4539133d5f40c285b47db83fba67ba",
       "version_major": 2,
       "version_minor": 0
      },
      "text/plain": [
       "  0%|          | 0/3846 [00:00<?, ?it/s]"
      ]
     },
     "metadata": {},
     "output_type": "display_data"
    },
    {
     "name": "stderr",
     "output_type": "stream",
     "text": [
      "INFO - 2024-07-12T06:43:42Z - Successfully downloaded to /home/jovyan/shared/data/copernicus/cmems_obs-oc_glo_bgc-plankton_my_l4-gapfree-multi-4km_P1D/202108.nc\n",
      "INFO - 2024-07-12T06:43:43Z - Dataset version was not specified, the latest one was selected: \"202311\"\n",
      "INFO - 2024-07-12T06:43:43Z - Dataset part was not specified, the first one was selected: \"default\"\n",
      "INFO - 2024-07-12T06:43:47Z - Service was not specified, the default one was selected: \"arco-geo-series\"\n",
      "INFO - 2024-07-12T06:43:50Z - Downloading using service arco-geo-series...\n",
      "INFO - 2024-07-12T06:43:56Z - Estimated size of the dataset file is 522.357 MB.\n",
      "INFO - 2024-07-12T06:43:56Z - Writing to local storage. Please wait...\n"
     ]
    },
    {
     "data": {
      "application/vnd.jupyter.widget-view+json": {
       "model_id": "50ed5c892fc34001b82c9806d4e0395b",
       "version_major": 2,
       "version_minor": 0
      },
      "text/plain": [
       "  0%|          | 0/3722 [00:00<?, ?it/s]"
      ]
     },
     "metadata": {},
     "output_type": "display_data"
    },
    {
     "name": "stderr",
     "output_type": "stream",
     "text": [
      "INFO - 2024-07-12T06:44:58Z - Successfully downloaded to /home/jovyan/shared/data/copernicus/cmems_obs-oc_glo_bgc-plankton_my_l4-gapfree-multi-4km_P1D/202109.nc\n",
      "INFO - 2024-07-12T06:44:59Z - Dataset version was not specified, the latest one was selected: \"202311\"\n",
      "INFO - 2024-07-12T06:44:59Z - Dataset part was not specified, the first one was selected: \"default\"\n",
      "INFO - 2024-07-12T06:45:03Z - Service was not specified, the default one was selected: \"arco-geo-series\"\n",
      "INFO - 2024-07-12T06:45:06Z - Downloading using service arco-geo-series...\n",
      "INFO - 2024-07-12T06:45:13Z - Estimated size of the dataset file is 539.769 MB.\n",
      "INFO - 2024-07-12T06:45:13Z - Writing to local storage. Please wait...\n"
     ]
    },
    {
     "data": {
      "application/vnd.jupyter.widget-view+json": {
       "model_id": "620a3bee0f0f47c8826477606162e5c0",
       "version_major": 2,
       "version_minor": 0
      },
      "text/plain": [
       "  0%|          | 0/3846 [00:00<?, ?it/s]"
      ]
     },
     "metadata": {},
     "output_type": "display_data"
    },
    {
     "name": "stderr",
     "output_type": "stream",
     "text": [
      "INFO - 2024-07-12T06:46:16Z - Successfully downloaded to /home/jovyan/shared/data/copernicus/cmems_obs-oc_glo_bgc-plankton_my_l4-gapfree-multi-4km_P1D/202110.nc\n",
      "INFO - 2024-07-12T06:46:17Z - Dataset version was not specified, the latest one was selected: \"202311\"\n",
      "INFO - 2024-07-12T06:46:17Z - Dataset part was not specified, the first one was selected: \"default\"\n",
      "INFO - 2024-07-12T06:46:20Z - Service was not specified, the default one was selected: \"arco-geo-series\"\n",
      "INFO - 2024-07-12T06:46:23Z - Downloading using service arco-geo-series...\n",
      "INFO - 2024-07-12T06:46:30Z - Estimated size of the dataset file is 522.357 MB.\n",
      "INFO - 2024-07-12T06:46:30Z - Writing to local storage. Please wait...\n"
     ]
    },
    {
     "data": {
      "application/vnd.jupyter.widget-view+json": {
       "model_id": "d6d1c7c6d726498584e30d87054efc3b",
       "version_major": 2,
       "version_minor": 0
      },
      "text/plain": [
       "  0%|          | 0/3722 [00:00<?, ?it/s]"
      ]
     },
     "metadata": {},
     "output_type": "display_data"
    },
    {
     "name": "stderr",
     "output_type": "stream",
     "text": [
      "INFO - 2024-07-12T06:47:32Z - Successfully downloaded to /home/jovyan/shared/data/copernicus/cmems_obs-oc_glo_bgc-plankton_my_l4-gapfree-multi-4km_P1D/202111.nc\n",
      "INFO - 2024-07-12T06:47:33Z - Dataset version was not specified, the latest one was selected: \"202311\"\n",
      "INFO - 2024-07-12T06:47:33Z - Dataset part was not specified, the first one was selected: \"default\"\n",
      "INFO - 2024-07-12T06:47:36Z - Service was not specified, the default one was selected: \"arco-geo-series\"\n",
      "INFO - 2024-07-12T06:47:39Z - Downloading using service arco-geo-series...\n",
      "INFO - 2024-07-12T06:47:46Z - Estimated size of the dataset file is 539.769 MB.\n",
      "INFO - 2024-07-12T06:47:46Z - Writing to local storage. Please wait...\n"
     ]
    },
    {
     "data": {
      "application/vnd.jupyter.widget-view+json": {
       "model_id": "8142517d8a2b461882e41c2e50e97ea8",
       "version_major": 2,
       "version_minor": 0
      },
      "text/plain": [
       "  0%|          | 0/3846 [00:00<?, ?it/s]"
      ]
     },
     "metadata": {},
     "output_type": "display_data"
    },
    {
     "name": "stderr",
     "output_type": "stream",
     "text": [
      "INFO - 2024-07-12T06:48:49Z - Successfully downloaded to /home/jovyan/shared/data/copernicus/cmems_obs-oc_glo_bgc-plankton_my_l4-gapfree-multi-4km_P1D/202112.nc\n",
      "INFO - 2024-07-12T06:48:50Z - Dataset version was not specified, the latest one was selected: \"202311\"\n",
      "INFO - 2024-07-12T06:48:50Z - Dataset part was not specified, the first one was selected: \"default\"\n",
      "INFO - 2024-07-12T06:48:53Z - Service was not specified, the default one was selected: \"arco-geo-series\"\n",
      "INFO - 2024-07-12T06:48:56Z - Downloading using service arco-geo-series...\n",
      "INFO - 2024-07-12T06:49:03Z - Estimated size of the dataset file is 539.769 MB.\n",
      "INFO - 2024-07-12T06:49:03Z - Writing to local storage. Please wait...\n"
     ]
    },
    {
     "data": {
      "application/vnd.jupyter.widget-view+json": {
       "model_id": "ab00a47004614afd94ba9ea34d0503b7",
       "version_major": 2,
       "version_minor": 0
      },
      "text/plain": [
       "  0%|          | 0/3846 [00:00<?, ?it/s]"
      ]
     },
     "metadata": {},
     "output_type": "display_data"
    },
    {
     "name": "stderr",
     "output_type": "stream",
     "text": [
      "INFO - 2024-07-12T06:50:06Z - Successfully downloaded to /home/jovyan/shared/data/copernicus/cmems_obs-oc_glo_bgc-plankton_my_l4-gapfree-multi-4km_P1D/202201.nc\n",
      "INFO - 2024-07-12T06:50:08Z - Dataset version was not specified, the latest one was selected: \"202311\"\n",
      "INFO - 2024-07-12T06:50:08Z - Dataset part was not specified, the first one was selected: \"default\"\n",
      "INFO - 2024-07-12T06:50:11Z - Service was not specified, the default one was selected: \"arco-geo-series\"\n",
      "INFO - 2024-07-12T06:50:14Z - Downloading using service arco-geo-series...\n",
      "INFO - 2024-07-12T06:50:20Z - Estimated size of the dataset file is 487.533 MB.\n",
      "INFO - 2024-07-12T06:50:20Z - Writing to local storage. Please wait...\n"
     ]
    },
    {
     "data": {
      "application/vnd.jupyter.widget-view+json": {
       "model_id": "b9a9b3301ad14ed39ef690b101e6b5e6",
       "version_major": 2,
       "version_minor": 0
      },
      "text/plain": [
       "  0%|          | 0/3474 [00:00<?, ?it/s]"
      ]
     },
     "metadata": {},
     "output_type": "display_data"
    },
    {
     "name": "stderr",
     "output_type": "stream",
     "text": [
      "INFO - 2024-07-12T06:51:19Z - Successfully downloaded to /home/jovyan/shared/data/copernicus/cmems_obs-oc_glo_bgc-plankton_my_l4-gapfree-multi-4km_P1D/202202.nc\n",
      "INFO - 2024-07-12T06:51:20Z - Dataset version was not specified, the latest one was selected: \"202311\"\n",
      "INFO - 2024-07-12T06:51:20Z - Dataset part was not specified, the first one was selected: \"default\"\n",
      "INFO - 2024-07-12T06:51:23Z - Service was not specified, the default one was selected: \"arco-geo-series\"\n",
      "INFO - 2024-07-12T06:51:26Z - Downloading using service arco-geo-series...\n",
      "INFO - 2024-07-12T06:51:32Z - Estimated size of the dataset file is 539.769 MB.\n",
      "INFO - 2024-07-12T06:51:32Z - Writing to local storage. Please wait...\n"
     ]
    },
    {
     "data": {
      "application/vnd.jupyter.widget-view+json": {
       "model_id": "334476592768430badc083ddb98b7f65",
       "version_major": 2,
       "version_minor": 0
      },
      "text/plain": [
       "  0%|          | 0/3846 [00:00<?, ?it/s]"
      ]
     },
     "metadata": {},
     "output_type": "display_data"
    },
    {
     "name": "stderr",
     "output_type": "stream",
     "text": [
      "INFO - 2024-07-12T06:52:36Z - Successfully downloaded to /home/jovyan/shared/data/copernicus/cmems_obs-oc_glo_bgc-plankton_my_l4-gapfree-multi-4km_P1D/202203.nc\n",
      "INFO - 2024-07-12T06:52:37Z - Dataset version was not specified, the latest one was selected: \"202311\"\n",
      "INFO - 2024-07-12T06:52:37Z - Dataset part was not specified, the first one was selected: \"default\"\n",
      "INFO - 2024-07-12T06:52:41Z - Service was not specified, the default one was selected: \"arco-geo-series\"\n",
      "INFO - 2024-07-12T06:52:43Z - Downloading using service arco-geo-series...\n",
      "INFO - 2024-07-12T06:52:50Z - Estimated size of the dataset file is 522.357 MB.\n",
      "INFO - 2024-07-12T06:52:50Z - Writing to local storage. Please wait...\n"
     ]
    },
    {
     "data": {
      "application/vnd.jupyter.widget-view+json": {
       "model_id": "5f0c52166c964a97ba33fb8ab0fb947a",
       "version_major": 2,
       "version_minor": 0
      },
      "text/plain": [
       "  0%|          | 0/3722 [00:00<?, ?it/s]"
      ]
     },
     "metadata": {},
     "output_type": "display_data"
    },
    {
     "name": "stderr",
     "output_type": "stream",
     "text": [
      "INFO - 2024-07-12T06:53:52Z - Successfully downloaded to /home/jovyan/shared/data/copernicus/cmems_obs-oc_glo_bgc-plankton_my_l4-gapfree-multi-4km_P1D/202204.nc\n",
      "INFO - 2024-07-12T06:53:53Z - Dataset version was not specified, the latest one was selected: \"202311\"\n",
      "INFO - 2024-07-12T06:53:53Z - Dataset part was not specified, the first one was selected: \"default\"\n",
      "INFO - 2024-07-12T06:53:56Z - Service was not specified, the default one was selected: \"arco-geo-series\"\n",
      "INFO - 2024-07-12T06:53:59Z - Downloading using service arco-geo-series...\n",
      "INFO - 2024-07-12T06:54:05Z - Estimated size of the dataset file is 539.769 MB.\n",
      "INFO - 2024-07-12T06:54:05Z - Writing to local storage. Please wait...\n"
     ]
    },
    {
     "data": {
      "application/vnd.jupyter.widget-view+json": {
       "model_id": "9dcab80af2ec44d2927eb9e6b8b6af61",
       "version_major": 2,
       "version_minor": 0
      },
      "text/plain": [
       "  0%|          | 0/3846 [00:00<?, ?it/s]"
      ]
     },
     "metadata": {},
     "output_type": "display_data"
    },
    {
     "name": "stderr",
     "output_type": "stream",
     "text": [
      "INFO - 2024-07-12T06:55:08Z - Successfully downloaded to /home/jovyan/shared/data/copernicus/cmems_obs-oc_glo_bgc-plankton_my_l4-gapfree-multi-4km_P1D/202205.nc\n",
      "INFO - 2024-07-12T06:55:10Z - Dataset version was not specified, the latest one was selected: \"202311\"\n",
      "INFO - 2024-07-12T06:55:10Z - Dataset part was not specified, the first one was selected: \"default\"\n",
      "INFO - 2024-07-12T06:55:13Z - Service was not specified, the default one was selected: \"arco-geo-series\"\n",
      "INFO - 2024-07-12T06:55:16Z - Downloading using service arco-geo-series...\n",
      "INFO - 2024-07-12T06:55:22Z - Estimated size of the dataset file is 522.357 MB.\n",
      "INFO - 2024-07-12T06:55:22Z - Writing to local storage. Please wait...\n"
     ]
    },
    {
     "data": {
      "application/vnd.jupyter.widget-view+json": {
       "model_id": "38c86dc0ef734e71a203dd763775a89a",
       "version_major": 2,
       "version_minor": 0
      },
      "text/plain": [
       "  0%|          | 0/3722 [00:00<?, ?it/s]"
      ]
     },
     "metadata": {},
     "output_type": "display_data"
    },
    {
     "name": "stderr",
     "output_type": "stream",
     "text": [
      "INFO - 2024-07-12T06:56:24Z - Successfully downloaded to /home/jovyan/shared/data/copernicus/cmems_obs-oc_glo_bgc-plankton_my_l4-gapfree-multi-4km_P1D/202206.nc\n",
      "INFO - 2024-07-12T06:56:25Z - Dataset version was not specified, the latest one was selected: \"202311\"\n",
      "INFO - 2024-07-12T06:56:25Z - Dataset part was not specified, the first one was selected: \"default\"\n",
      "INFO - 2024-07-12T06:56:28Z - Service was not specified, the default one was selected: \"arco-geo-series\"\n",
      "INFO - 2024-07-12T06:56:31Z - Downloading using service arco-geo-series...\n",
      "INFO - 2024-07-12T06:56:38Z - Estimated size of the dataset file is 539.769 MB.\n",
      "INFO - 2024-07-12T06:56:38Z - Writing to local storage. Please wait...\n"
     ]
    },
    {
     "data": {
      "application/vnd.jupyter.widget-view+json": {
       "model_id": "ddaf936384f14dd4a46409d6dc82c0a6",
       "version_major": 2,
       "version_minor": 0
      },
      "text/plain": [
       "  0%|          | 0/3846 [00:00<?, ?it/s]"
      ]
     },
     "metadata": {},
     "output_type": "display_data"
    },
    {
     "name": "stderr",
     "output_type": "stream",
     "text": [
      "INFO - 2024-07-12T06:57:42Z - Successfully downloaded to /home/jovyan/shared/data/copernicus/cmems_obs-oc_glo_bgc-plankton_my_l4-gapfree-multi-4km_P1D/202207.nc\n",
      "INFO - 2024-07-12T06:57:43Z - Dataset version was not specified, the latest one was selected: \"202311\"\n",
      "INFO - 2024-07-12T06:57:43Z - Dataset part was not specified, the first one was selected: \"default\"\n",
      "INFO - 2024-07-12T06:57:47Z - Service was not specified, the default one was selected: \"arco-geo-series\"\n",
      "INFO - 2024-07-12T06:57:50Z - Downloading using service arco-geo-series...\n",
      "INFO - 2024-07-12T06:57:56Z - Estimated size of the dataset file is 539.769 MB.\n",
      "INFO - 2024-07-12T06:57:56Z - Writing to local storage. Please wait...\n"
     ]
    },
    {
     "data": {
      "application/vnd.jupyter.widget-view+json": {
       "model_id": "61d65f80aa9745d1965a8ffb45f0ebc9",
       "version_major": 2,
       "version_minor": 0
      },
      "text/plain": [
       "  0%|          | 0/3846 [00:00<?, ?it/s]"
      ]
     },
     "metadata": {},
     "output_type": "display_data"
    },
    {
     "name": "stderr",
     "output_type": "stream",
     "text": [
      "INFO - 2024-07-12T06:58:59Z - Successfully downloaded to /home/jovyan/shared/data/copernicus/cmems_obs-oc_glo_bgc-plankton_my_l4-gapfree-multi-4km_P1D/202208.nc\n",
      "INFO - 2024-07-12T06:59:00Z - Dataset version was not specified, the latest one was selected: \"202311\"\n",
      "INFO - 2024-07-12T06:59:00Z - Dataset part was not specified, the first one was selected: \"default\"\n",
      "INFO - 2024-07-12T06:59:04Z - Service was not specified, the default one was selected: \"arco-geo-series\"\n",
      "INFO - 2024-07-12T06:59:07Z - Downloading using service arco-geo-series...\n",
      "INFO - 2024-07-12T06:59:14Z - Estimated size of the dataset file is 522.357 MB.\n",
      "INFO - 2024-07-12T06:59:14Z - Writing to local storage. Please wait...\n"
     ]
    },
    {
     "data": {
      "application/vnd.jupyter.widget-view+json": {
       "model_id": "5e9fd378e86d4c27a60c4b15f82ab7de",
       "version_major": 2,
       "version_minor": 0
      },
      "text/plain": [
       "  0%|          | 0/3722 [00:00<?, ?it/s]"
      ]
     },
     "metadata": {},
     "output_type": "display_data"
    },
    {
     "name": "stderr",
     "output_type": "stream",
     "text": [
      "INFO - 2024-07-12T07:00:16Z - Successfully downloaded to /home/jovyan/shared/data/copernicus/cmems_obs-oc_glo_bgc-plankton_my_l4-gapfree-multi-4km_P1D/202209.nc\n",
      "INFO - 2024-07-12T07:00:17Z - Dataset version was not specified, the latest one was selected: \"202311\"\n",
      "INFO - 2024-07-12T07:00:17Z - Dataset part was not specified, the first one was selected: \"default\"\n",
      "INFO - 2024-07-12T07:00:20Z - Service was not specified, the default one was selected: \"arco-geo-series\"\n",
      "INFO - 2024-07-12T07:00:24Z - Downloading using service arco-geo-series...\n",
      "INFO - 2024-07-12T07:00:30Z - Estimated size of the dataset file is 539.769 MB.\n",
      "INFO - 2024-07-12T07:00:30Z - Writing to local storage. Please wait...\n"
     ]
    },
    {
     "data": {
      "application/vnd.jupyter.widget-view+json": {
       "model_id": "7fc1ad890aca4e83b0b3ca1e4643a712",
       "version_major": 2,
       "version_minor": 0
      },
      "text/plain": [
       "  0%|          | 0/3846 [00:00<?, ?it/s]"
      ]
     },
     "metadata": {},
     "output_type": "display_data"
    },
    {
     "name": "stderr",
     "output_type": "stream",
     "text": [
      "INFO - 2024-07-12T07:01:33Z - Successfully downloaded to /home/jovyan/shared/data/copernicus/cmems_obs-oc_glo_bgc-plankton_my_l4-gapfree-multi-4km_P1D/202210.nc\n",
      "INFO - 2024-07-12T07:01:34Z - Dataset version was not specified, the latest one was selected: \"202311\"\n",
      "INFO - 2024-07-12T07:01:34Z - Dataset part was not specified, the first one was selected: \"default\"\n",
      "INFO - 2024-07-12T07:01:37Z - Service was not specified, the default one was selected: \"arco-geo-series\"\n",
      "INFO - 2024-07-12T07:01:40Z - Downloading using service arco-geo-series...\n",
      "INFO - 2024-07-12T07:01:47Z - Estimated size of the dataset file is 522.357 MB.\n",
      "INFO - 2024-07-12T07:01:47Z - Writing to local storage. Please wait...\n"
     ]
    },
    {
     "data": {
      "application/vnd.jupyter.widget-view+json": {
       "model_id": "0444084287bc4279b53ce2d9c159da5f",
       "version_major": 2,
       "version_minor": 0
      },
      "text/plain": [
       "  0%|          | 0/3722 [00:00<?, ?it/s]"
      ]
     },
     "metadata": {},
     "output_type": "display_data"
    },
    {
     "name": "stderr",
     "output_type": "stream",
     "text": [
      "INFO - 2024-07-12T07:02:49Z - Successfully downloaded to /home/jovyan/shared/data/copernicus/cmems_obs-oc_glo_bgc-plankton_my_l4-gapfree-multi-4km_P1D/202211.nc\n",
      "INFO - 2024-07-12T07:02:50Z - Dataset version was not specified, the latest one was selected: \"202311\"\n",
      "INFO - 2024-07-12T07:02:50Z - Dataset part was not specified, the first one was selected: \"default\"\n",
      "INFO - 2024-07-12T07:02:53Z - Service was not specified, the default one was selected: \"arco-geo-series\"\n",
      "INFO - 2024-07-12T07:02:56Z - Downloading using service arco-geo-series...\n",
      "INFO - 2024-07-12T07:03:03Z - Estimated size of the dataset file is 539.769 MB.\n",
      "INFO - 2024-07-12T07:03:03Z - Writing to local storage. Please wait...\n"
     ]
    },
    {
     "data": {
      "application/vnd.jupyter.widget-view+json": {
       "model_id": "dc6d381644f44792bc220703804a854d",
       "version_major": 2,
       "version_minor": 0
      },
      "text/plain": [
       "  0%|          | 0/3846 [00:00<?, ?it/s]"
      ]
     },
     "metadata": {},
     "output_type": "display_data"
    },
    {
     "name": "stderr",
     "output_type": "stream",
     "text": [
      "INFO - 2024-07-12T07:04:06Z - Successfully downloaded to /home/jovyan/shared/data/copernicus/cmems_obs-oc_glo_bgc-plankton_my_l4-gapfree-multi-4km_P1D/202212.nc\n",
      "INFO - 2024-07-12T07:04:08Z - Dataset version was not specified, the latest one was selected: \"202311\"\n",
      "INFO - 2024-07-12T07:04:08Z - Dataset part was not specified, the first one was selected: \"default\"\n",
      "INFO - 2024-07-12T07:04:11Z - Service was not specified, the default one was selected: \"arco-geo-series\"\n",
      "INFO - 2024-07-12T07:04:14Z - Downloading using service arco-geo-series...\n",
      "INFO - 2024-07-12T07:04:21Z - Estimated size of the dataset file is 539.769 MB.\n",
      "INFO - 2024-07-12T07:04:21Z - Writing to local storage. Please wait...\n"
     ]
    },
    {
     "data": {
      "application/vnd.jupyter.widget-view+json": {
       "model_id": "2ceccaeeaed343589ee8f13d243b8c03",
       "version_major": 2,
       "version_minor": 0
      },
      "text/plain": [
       "  0%|          | 0/3846 [00:00<?, ?it/s]"
      ]
     },
     "metadata": {},
     "output_type": "display_data"
    },
    {
     "name": "stderr",
     "output_type": "stream",
     "text": [
      "INFO - 2024-07-12T07:05:24Z - Successfully downloaded to /home/jovyan/shared/data/copernicus/cmems_obs-oc_glo_bgc-plankton_my_l4-gapfree-multi-4km_P1D/202301.nc\n",
      "INFO - 2024-07-12T07:05:25Z - Dataset version was not specified, the latest one was selected: \"202311\"\n",
      "INFO - 2024-07-12T07:05:25Z - Dataset part was not specified, the first one was selected: \"default\"\n",
      "INFO - 2024-07-12T07:05:28Z - Service was not specified, the default one was selected: \"arco-geo-series\"\n",
      "INFO - 2024-07-12T07:05:31Z - Downloading using service arco-geo-series...\n",
      "INFO - 2024-07-12T07:05:38Z - Estimated size of the dataset file is 487.533 MB.\n",
      "INFO - 2024-07-12T07:05:38Z - Writing to local storage. Please wait...\n"
     ]
    },
    {
     "data": {
      "application/vnd.jupyter.widget-view+json": {
       "model_id": "387a05e5a1414e38a89e92bace7151ad",
       "version_major": 2,
       "version_minor": 0
      },
      "text/plain": [
       "  0%|          | 0/3474 [00:00<?, ?it/s]"
      ]
     },
     "metadata": {},
     "output_type": "display_data"
    },
    {
     "name": "stderr",
     "output_type": "stream",
     "text": [
      "INFO - 2024-07-12T07:06:36Z - Successfully downloaded to /home/jovyan/shared/data/copernicus/cmems_obs-oc_glo_bgc-plankton_my_l4-gapfree-multi-4km_P1D/202302.nc\n",
      "INFO - 2024-07-12T07:06:37Z - Dataset version was not specified, the latest one was selected: \"202311\"\n",
      "INFO - 2024-07-12T07:06:37Z - Dataset part was not specified, the first one was selected: \"default\"\n",
      "INFO - 2024-07-12T07:06:40Z - Service was not specified, the default one was selected: \"arco-geo-series\"\n",
      "INFO - 2024-07-12T07:06:43Z - Downloading using service arco-geo-series...\n",
      "INFO - 2024-07-12T07:06:50Z - Estimated size of the dataset file is 539.769 MB.\n",
      "INFO - 2024-07-12T07:06:50Z - Writing to local storage. Please wait...\n"
     ]
    },
    {
     "data": {
      "application/vnd.jupyter.widget-view+json": {
       "model_id": "765492601c894fa4b21baa05a286b0bf",
       "version_major": 2,
       "version_minor": 0
      },
      "text/plain": [
       "  0%|          | 0/3846 [00:00<?, ?it/s]"
      ]
     },
     "metadata": {},
     "output_type": "display_data"
    },
    {
     "name": "stderr",
     "output_type": "stream",
     "text": [
      "INFO - 2024-07-12T07:07:53Z - Successfully downloaded to /home/jovyan/shared/data/copernicus/cmems_obs-oc_glo_bgc-plankton_my_l4-gapfree-multi-4km_P1D/202303.nc\n",
      "INFO - 2024-07-12T07:07:54Z - Dataset version was not specified, the latest one was selected: \"202311\"\n",
      "INFO - 2024-07-12T07:07:54Z - Dataset part was not specified, the first one was selected: \"default\"\n",
      "INFO - 2024-07-12T07:07:58Z - Service was not specified, the default one was selected: \"arco-geo-series\"\n",
      "INFO - 2024-07-12T07:08:01Z - Downloading using service arco-geo-series...\n",
      "INFO - 2024-07-12T07:08:07Z - Estimated size of the dataset file is 522.357 MB.\n",
      "INFO - 2024-07-12T07:08:07Z - Writing to local storage. Please wait...\n"
     ]
    },
    {
     "data": {
      "application/vnd.jupyter.widget-view+json": {
       "model_id": "0d2334e5958d4023b7575d7d2e5a9f23",
       "version_major": 2,
       "version_minor": 0
      },
      "text/plain": [
       "  0%|          | 0/3722 [00:00<?, ?it/s]"
      ]
     },
     "metadata": {},
     "output_type": "display_data"
    },
    {
     "name": "stderr",
     "output_type": "stream",
     "text": [
      "INFO - 2024-07-12T07:09:09Z - Successfully downloaded to /home/jovyan/shared/data/copernicus/cmems_obs-oc_glo_bgc-plankton_my_l4-gapfree-multi-4km_P1D/202304.nc\n",
      "INFO - 2024-07-12T07:09:11Z - Dataset version was not specified, the latest one was selected: \"202311\"\n",
      "INFO - 2024-07-12T07:09:11Z - Dataset part was not specified, the first one was selected: \"default\"\n",
      "INFO - 2024-07-12T07:09:14Z - Service was not specified, the default one was selected: \"arco-geo-series\"\n",
      "INFO - 2024-07-12T07:09:17Z - Downloading using service arco-geo-series...\n",
      "INFO - 2024-07-12T07:09:24Z - Estimated size of the dataset file is 539.769 MB.\n",
      "INFO - 2024-07-12T07:09:24Z - Writing to local storage. Please wait...\n"
     ]
    },
    {
     "data": {
      "application/vnd.jupyter.widget-view+json": {
       "model_id": "a9a18a2e27834a36aea0ef907f06ea58",
       "version_major": 2,
       "version_minor": 0
      },
      "text/plain": [
       "  0%|          | 0/3846 [00:00<?, ?it/s]"
      ]
     },
     "metadata": {},
     "output_type": "display_data"
    },
    {
     "name": "stderr",
     "output_type": "stream",
     "text": [
      "INFO - 2024-07-12T07:10:27Z - Successfully downloaded to /home/jovyan/shared/data/copernicus/cmems_obs-oc_glo_bgc-plankton_my_l4-gapfree-multi-4km_P1D/202305.nc\n",
      "INFO - 2024-07-12T07:10:28Z - Dataset version was not specified, the latest one was selected: \"202311\"\n",
      "INFO - 2024-07-12T07:10:28Z - Dataset part was not specified, the first one was selected: \"default\"\n",
      "INFO - 2024-07-12T07:10:31Z - Service was not specified, the default one was selected: \"arco-geo-series\"\n",
      "INFO - 2024-07-12T07:10:34Z - Downloading using service arco-geo-series...\n",
      "INFO - 2024-07-12T07:10:40Z - Estimated size of the dataset file is 522.357 MB.\n",
      "INFO - 2024-07-12T07:10:40Z - Writing to local storage. Please wait...\n"
     ]
    },
    {
     "data": {
      "application/vnd.jupyter.widget-view+json": {
       "model_id": "d0b37af48dc84127bfe82fc7ac840aca",
       "version_major": 2,
       "version_minor": 0
      },
      "text/plain": [
       "  0%|          | 0/3722 [00:00<?, ?it/s]"
      ]
     },
     "metadata": {},
     "output_type": "display_data"
    },
    {
     "name": "stderr",
     "output_type": "stream",
     "text": [
      "INFO - 2024-07-12T07:11:42Z - Successfully downloaded to /home/jovyan/shared/data/copernicus/cmems_obs-oc_glo_bgc-plankton_my_l4-gapfree-multi-4km_P1D/202306.nc\n",
      "INFO - 2024-07-12T07:11:44Z - Dataset version was not specified, the latest one was selected: \"202311\"\n",
      "INFO - 2024-07-12T07:11:44Z - Dataset part was not specified, the first one was selected: \"default\"\n",
      "INFO - 2024-07-12T07:11:47Z - Service was not specified, the default one was selected: \"arco-geo-series\"\n",
      "INFO - 2024-07-12T07:11:50Z - Downloading using service arco-geo-series...\n",
      "INFO - 2024-07-12T07:11:56Z - Estimated size of the dataset file is 539.769 MB.\n",
      "INFO - 2024-07-12T07:11:56Z - Writing to local storage. Please wait...\n"
     ]
    },
    {
     "data": {
      "application/vnd.jupyter.widget-view+json": {
       "model_id": "bdb2dab4c5d94afd90cb306db26edc28",
       "version_major": 2,
       "version_minor": 0
      },
      "text/plain": [
       "  0%|          | 0/3846 [00:00<?, ?it/s]"
      ]
     },
     "metadata": {},
     "output_type": "display_data"
    },
    {
     "name": "stderr",
     "output_type": "stream",
     "text": [
      "INFO - 2024-07-12T07:13:00Z - Successfully downloaded to /home/jovyan/shared/data/copernicus/cmems_obs-oc_glo_bgc-plankton_my_l4-gapfree-multi-4km_P1D/202307.nc\n",
      "INFO - 2024-07-12T07:13:01Z - Dataset version was not specified, the latest one was selected: \"202311\"\n",
      "INFO - 2024-07-12T07:13:01Z - Dataset part was not specified, the first one was selected: \"default\"\n",
      "INFO - 2024-07-12T07:13:04Z - Service was not specified, the default one was selected: \"arco-geo-series\"\n",
      "INFO - 2024-07-12T07:13:08Z - Downloading using service arco-geo-series...\n",
      "INFO - 2024-07-12T07:13:14Z - Estimated size of the dataset file is 539.769 MB.\n",
      "INFO - 2024-07-12T07:13:14Z - Writing to local storage. Please wait...\n"
     ]
    },
    {
     "data": {
      "application/vnd.jupyter.widget-view+json": {
       "model_id": "e6696ffdaf8d41f0b5119fe25d7c0baa",
       "version_major": 2,
       "version_minor": 0
      },
      "text/plain": [
       "  0%|          | 0/3846 [00:00<?, ?it/s]"
      ]
     },
     "metadata": {},
     "output_type": "display_data"
    },
    {
     "name": "stderr",
     "output_type": "stream",
     "text": [
      "INFO - 2024-07-12T07:14:17Z - Successfully downloaded to /home/jovyan/shared/data/copernicus/cmems_obs-oc_glo_bgc-plankton_my_l4-gapfree-multi-4km_P1D/202308.nc\n",
      "INFO - 2024-07-12T07:14:19Z - Dataset version was not specified, the latest one was selected: \"202311\"\n",
      "INFO - 2024-07-12T07:14:19Z - Dataset part was not specified, the first one was selected: \"default\"\n",
      "INFO - 2024-07-12T07:14:22Z - Service was not specified, the default one was selected: \"arco-geo-series\"\n",
      "INFO - 2024-07-12T07:14:25Z - Downloading using service arco-geo-series...\n",
      "INFO - 2024-07-12T07:14:32Z - Estimated size of the dataset file is 522.357 MB.\n",
      "INFO - 2024-07-12T07:14:32Z - Writing to local storage. Please wait...\n"
     ]
    },
    {
     "data": {
      "application/vnd.jupyter.widget-view+json": {
       "model_id": "a1ba1245054a4380a235f73eb2c3daae",
       "version_major": 2,
       "version_minor": 0
      },
      "text/plain": [
       "  0%|          | 0/3722 [00:00<?, ?it/s]"
      ]
     },
     "metadata": {},
     "output_type": "display_data"
    },
    {
     "name": "stderr",
     "output_type": "stream",
     "text": [
      "INFO - 2024-07-12T07:15:34Z - Successfully downloaded to /home/jovyan/shared/data/copernicus/cmems_obs-oc_glo_bgc-plankton_my_l4-gapfree-multi-4km_P1D/202309.nc\n",
      "INFO - 2024-07-12T07:15:35Z - Dataset version was not specified, the latest one was selected: \"202311\"\n",
      "INFO - 2024-07-12T07:15:35Z - Dataset part was not specified, the first one was selected: \"default\"\n",
      "INFO - 2024-07-12T07:15:38Z - Service was not specified, the default one was selected: \"arco-geo-series\"\n",
      "INFO - 2024-07-12T07:15:41Z - Downloading using service arco-geo-series...\n",
      "INFO - 2024-07-12T07:15:48Z - Estimated size of the dataset file is 539.769 MB.\n",
      "INFO - 2024-07-12T07:15:48Z - Writing to local storage. Please wait...\n"
     ]
    },
    {
     "data": {
      "application/vnd.jupyter.widget-view+json": {
       "model_id": "b8da4f0e47da4e63bb75da421461a953",
       "version_major": 2,
       "version_minor": 0
      },
      "text/plain": [
       "  0%|          | 0/3846 [00:00<?, ?it/s]"
      ]
     },
     "metadata": {},
     "output_type": "display_data"
    },
    {
     "name": "stderr",
     "output_type": "stream",
     "text": [
      "INFO - 2024-07-12T07:16:52Z - Successfully downloaded to /home/jovyan/shared/data/copernicus/cmems_obs-oc_glo_bgc-plankton_my_l4-gapfree-multi-4km_P1D/202310.nc\n",
      "INFO - 2024-07-12T07:16:53Z - Dataset version was not specified, the latest one was selected: \"202311\"\n",
      "INFO - 2024-07-12T07:16:53Z - Dataset part was not specified, the first one was selected: \"default\"\n",
      "INFO - 2024-07-12T07:16:57Z - Service was not specified, the default one was selected: \"arco-geo-series\"\n",
      "INFO - 2024-07-12T07:17:00Z - Downloading using service arco-geo-series...\n",
      "INFO - 2024-07-12T07:17:06Z - Estimated size of the dataset file is 522.357 MB.\n",
      "INFO - 2024-07-12T07:17:06Z - Writing to local storage. Please wait...\n"
     ]
    },
    {
     "data": {
      "application/vnd.jupyter.widget-view+json": {
       "model_id": "a55bda7aad5d499989c8c158a38ba79d",
       "version_major": 2,
       "version_minor": 0
      },
      "text/plain": [
       "  0%|          | 0/3722 [00:00<?, ?it/s]"
      ]
     },
     "metadata": {},
     "output_type": "display_data"
    },
    {
     "name": "stderr",
     "output_type": "stream",
     "text": [
      "INFO - 2024-07-12T07:18:09Z - Successfully downloaded to /home/jovyan/shared/data/copernicus/cmems_obs-oc_glo_bgc-plankton_my_l4-gapfree-multi-4km_P1D/202311.nc\n",
      "INFO - 2024-07-12T07:18:10Z - Dataset version was not specified, the latest one was selected: \"202311\"\n",
      "INFO - 2024-07-12T07:18:10Z - Dataset part was not specified, the first one was selected: \"default\"\n",
      "INFO - 2024-07-12T07:18:13Z - Service was not specified, the default one was selected: \"arco-geo-series\"\n",
      "INFO - 2024-07-12T07:18:16Z - Downloading using service arco-geo-series...\n",
      "INFO - 2024-07-12T07:18:22Z - Estimated size of the dataset file is 539.769 MB.\n",
      "INFO - 2024-07-12T07:18:22Z - Writing to local storage. Please wait...\n"
     ]
    },
    {
     "data": {
      "application/vnd.jupyter.widget-view+json": {
       "model_id": "f9e09a4a988f4414a25c7a5566647c0d",
       "version_major": 2,
       "version_minor": 0
      },
      "text/plain": [
       "  0%|          | 0/3846 [00:00<?, ?it/s]"
      ]
     },
     "metadata": {},
     "output_type": "display_data"
    },
    {
     "name": "stderr",
     "output_type": "stream",
     "text": [
      "INFO - 2024-07-12T07:19:26Z - Successfully downloaded to /home/jovyan/shared/data/copernicus/cmems_obs-oc_glo_bgc-plankton_my_l4-gapfree-multi-4km_P1D/202312.nc\n",
      "INFO - 2024-07-12T07:19:27Z - Dataset version was not specified, the latest one was selected: \"202311\"\n",
      "INFO - 2024-07-12T07:19:27Z - Dataset part was not specified, the first one was selected: \"default\"\n",
      "INFO - 2024-07-12T07:19:30Z - Service was not specified, the default one was selected: \"arco-geo-series\"\n",
      "INFO - 2024-07-12T07:19:33Z - Downloading using service arco-geo-series...\n",
      "INFO - 2024-07-12T07:19:40Z - Estimated size of the dataset file is 539.769 MB.\n",
      "INFO - 2024-07-12T07:19:40Z - Writing to local storage. Please wait...\n"
     ]
    },
    {
     "data": {
      "application/vnd.jupyter.widget-view+json": {
       "model_id": "4af47613fe0d4b60b22f84e2f3a56236",
       "version_major": 2,
       "version_minor": 0
      },
      "text/plain": [
       "  0%|          | 0/3846 [00:00<?, ?it/s]"
      ]
     },
     "metadata": {},
     "output_type": "display_data"
    },
    {
     "name": "stderr",
     "output_type": "stream",
     "text": [
      "INFO - 2024-07-12T07:20:43Z - Successfully downloaded to /home/jovyan/shared/data/copernicus/cmems_obs-oc_glo_bgc-plankton_my_l4-gapfree-multi-4km_P1D/202401.nc\n",
      "INFO - 2024-07-12T07:20:44Z - Dataset version was not specified, the latest one was selected: \"202311\"\n",
      "INFO - 2024-07-12T07:20:44Z - Dataset part was not specified, the first one was selected: \"default\"\n",
      "INFO - 2024-07-12T07:20:48Z - Service was not specified, the default one was selected: \"arco-geo-series\"\n",
      "INFO - 2024-07-12T07:20:53Z - Downloading using service arco-geo-series...\n",
      "INFO - 2024-07-12T07:21:00Z - Estimated size of the dataset file is 504.945 MB.\n",
      "INFO - 2024-07-12T07:21:00Z - Writing to local storage. Please wait...\n"
     ]
    },
    {
     "data": {
      "application/vnd.jupyter.widget-view+json": {
       "model_id": "c65e3ff90c014363860206cca2ed382b",
       "version_major": 2,
       "version_minor": 0
      },
      "text/plain": [
       "  0%|          | 0/3598 [00:00<?, ?it/s]"
      ]
     },
     "metadata": {},
     "output_type": "display_data"
    },
    {
     "name": "stderr",
     "output_type": "stream",
     "text": [
      "INFO - 2024-07-12T07:21:59Z - Successfully downloaded to /home/jovyan/shared/data/copernicus/cmems_obs-oc_glo_bgc-plankton_my_l4-gapfree-multi-4km_P1D/202402.nc\n",
      "INFO - 2024-07-12T07:22:00Z - Dataset version was not specified, the latest one was selected: \"202311\"\n",
      "INFO - 2024-07-12T07:22:00Z - Dataset part was not specified, the first one was selected: \"default\"\n",
      "INFO - 2024-07-12T07:22:03Z - Service was not specified, the default one was selected: \"arco-geo-series\"\n",
      "INFO - 2024-07-12T07:22:06Z - Downloading using service arco-geo-series...\n",
      "INFO - 2024-07-12T07:22:13Z - Estimated size of the dataset file is 539.769 MB.\n",
      "INFO - 2024-07-12T07:22:13Z - Writing to local storage. Please wait...\n"
     ]
    },
    {
     "data": {
      "application/vnd.jupyter.widget-view+json": {
       "model_id": "187df9639189468f9334978379c51ad9",
       "version_major": 2,
       "version_minor": 0
      },
      "text/plain": [
       "  0%|          | 0/3846 [00:00<?, ?it/s]"
      ]
     },
     "metadata": {},
     "output_type": "display_data"
    },
    {
     "name": "stderr",
     "output_type": "stream",
     "text": [
      "INFO - 2024-07-12T07:23:17Z - Successfully downloaded to /home/jovyan/shared/data/copernicus/cmems_obs-oc_glo_bgc-plankton_my_l4-gapfree-multi-4km_P1D/202403.nc\n",
      "INFO - 2024-07-12T07:23:19Z - Dataset version was not specified, the latest one was selected: \"202311\"\n",
      "INFO - 2024-07-12T07:23:19Z - Dataset part was not specified, the first one was selected: \"default\"\n",
      "INFO - 2024-07-12T07:23:22Z - Service was not specified, the default one was selected: \"arco-geo-series\"\n",
      "INFO - 2024-07-12T07:23:25Z - Downloading using service arco-geo-series...\n",
      "INFO - 2024-07-12T07:23:31Z - Estimated size of the dataset file is 522.357 MB.\n",
      "INFO - 2024-07-12T07:23:31Z - Writing to local storage. Please wait...\n"
     ]
    },
    {
     "data": {
      "application/vnd.jupyter.widget-view+json": {
       "model_id": "4e5c0bbb1658486eaca62bb749e27b15",
       "version_major": 2,
       "version_minor": 0
      },
      "text/plain": [
       "  0%|          | 0/3722 [00:00<?, ?it/s]"
      ]
     },
     "metadata": {},
     "output_type": "display_data"
    },
    {
     "name": "stderr",
     "output_type": "stream",
     "text": [
      "INFO - 2024-07-12T07:24:33Z - Successfully downloaded to /home/jovyan/shared/data/copernicus/cmems_obs-oc_glo_bgc-plankton_my_l4-gapfree-multi-4km_P1D/202404.nc\n",
      "INFO - 2024-07-12T07:24:34Z - Dataset version was not specified, the latest one was selected: \"202311\"\n",
      "INFO - 2024-07-12T07:24:34Z - Dataset part was not specified, the first one was selected: \"default\"\n",
      "INFO - 2024-07-12T07:24:37Z - Service was not specified, the default one was selected: \"arco-geo-series\"\n",
      "INFO - 2024-07-12T07:24:40Z - Downloading using service arco-geo-series...\n",
      "INFO - 2024-07-12T07:24:47Z - Estimated size of the dataset file is 539.769 MB.\n",
      "INFO - 2024-07-12T07:24:47Z - Writing to local storage. Please wait...\n"
     ]
    },
    {
     "data": {
      "application/vnd.jupyter.widget-view+json": {
       "model_id": "8e67f3bf26d74150aa4498fbd845f385",
       "version_major": 2,
       "version_minor": 0
      },
      "text/plain": [
       "  0%|          | 0/3846 [00:00<?, ?it/s]"
      ]
     },
     "metadata": {},
     "output_type": "display_data"
    },
    {
     "name": "stderr",
     "output_type": "stream",
     "text": [
      "INFO - 2024-07-12T07:25:50Z - Successfully downloaded to /home/jovyan/shared/data/copernicus/cmems_obs-oc_glo_bgc-plankton_my_l4-gapfree-multi-4km_P1D/202405.nc\n",
      "INFO - 2024-07-12T07:25:51Z - Dataset version was not specified, the latest one was selected: \"202311\"\n",
      "INFO - 2024-07-12T07:25:51Z - Dataset part was not specified, the first one was selected: \"default\"\n",
      "INFO - 2024-07-12T07:25:55Z - Service was not specified, the default one was selected: \"arco-geo-series\"\n",
      "INFO - 2024-07-12T07:25:58Z - Downloading using service arco-geo-series...\n",
      "INFO - 2024-07-12T07:26:05Z - Estimated size of the dataset file is 522.357 MB.\n",
      "INFO - 2024-07-12T07:26:05Z - Writing to local storage. Please wait...\n"
     ]
    },
    {
     "data": {
      "application/vnd.jupyter.widget-view+json": {
       "model_id": "2f7db58d37ba4fb6854d6efe187e1d94",
       "version_major": 2,
       "version_minor": 0
      },
      "text/plain": [
       "  0%|          | 0/3722 [00:00<?, ?it/s]"
      ]
     },
     "metadata": {},
     "output_type": "display_data"
    },
    {
     "name": "stderr",
     "output_type": "stream",
     "text": [
      "INFO - 2024-07-12T07:27:05Z - Successfully downloaded to /home/jovyan/shared/data/copernicus/cmems_obs-oc_glo_bgc-plankton_my_l4-gapfree-multi-4km_P1D/202406.nc\n"
     ]
    }
   ],
   "source": [
    "download_copernicus(\n",
    "    \"cmems_obs-oc_glo_bgc-plankton_my_l4-gapfree-multi-4km_P1D\", \n",
    "    \"1997-10-01\", \"2024-06-30\"\n",
    ")"
   ]
  },
  {
   "cell_type": "code",
   "execution_count": 8,
   "id": "dd6acfbc-32ae-49f9-ad6b-964be21d239e",
   "metadata": {},
   "outputs": [
    {
     "data": {
      "text/html": [
       "<div><svg style=\"position: absolute; width: 0; height: 0; overflow: hidden\">\n",
       "<defs>\n",
       "<symbol id=\"icon-database\" viewBox=\"0 0 32 32\">\n",
       "<path d=\"M16 0c-8.837 0-16 2.239-16 5v4c0 2.761 7.163 5 16 5s16-2.239 16-5v-4c0-2.761-7.163-5-16-5z\"></path>\n",
       "<path d=\"M16 17c-8.837 0-16-2.239-16-5v6c0 2.761 7.163 5 16 5s16-2.239 16-5v-6c0 2.761-7.163 5-16 5z\"></path>\n",
       "<path d=\"M16 26c-8.837 0-16-2.239-16-5v6c0 2.761 7.163 5 16 5s16-2.239 16-5v-6c0 2.761-7.163 5-16 5z\"></path>\n",
       "</symbol>\n",
       "<symbol id=\"icon-file-text2\" viewBox=\"0 0 32 32\">\n",
       "<path d=\"M28.681 7.159c-0.694-0.947-1.662-2.053-2.724-3.116s-2.169-2.030-3.116-2.724c-1.612-1.182-2.393-1.319-2.841-1.319h-15.5c-1.378 0-2.5 1.121-2.5 2.5v27c0 1.378 1.122 2.5 2.5 2.5h23c1.378 0 2.5-1.122 2.5-2.5v-19.5c0-0.448-0.137-1.23-1.319-2.841zM24.543 5.457c0.959 0.959 1.712 1.825 2.268 2.543h-4.811v-4.811c0.718 0.556 1.584 1.309 2.543 2.268zM28 29.5c0 0.271-0.229 0.5-0.5 0.5h-23c-0.271 0-0.5-0.229-0.5-0.5v-27c0-0.271 0.229-0.5 0.5-0.5 0 0 15.499-0 15.5 0v7c0 0.552 0.448 1 1 1h7v19.5z\"></path>\n",
       "<path d=\"M23 26h-14c-0.552 0-1-0.448-1-1s0.448-1 1-1h14c0.552 0 1 0.448 1 1s-0.448 1-1 1z\"></path>\n",
       "<path d=\"M23 22h-14c-0.552 0-1-0.448-1-1s0.448-1 1-1h14c0.552 0 1 0.448 1 1s-0.448 1-1 1z\"></path>\n",
       "<path d=\"M23 18h-14c-0.552 0-1-0.448-1-1s0.448-1 1-1h14c0.552 0 1 0.448 1 1s-0.448 1-1 1z\"></path>\n",
       "</symbol>\n",
       "</defs>\n",
       "</svg>\n",
       "<style>/* CSS stylesheet for displaying xarray objects in jupyterlab.\n",
       " *\n",
       " */\n",
       "\n",
       ":root {\n",
       "  --xr-font-color0: var(--jp-content-font-color0, rgba(0, 0, 0, 1));\n",
       "  --xr-font-color2: var(--jp-content-font-color2, rgba(0, 0, 0, 0.54));\n",
       "  --xr-font-color3: var(--jp-content-font-color3, rgba(0, 0, 0, 0.38));\n",
       "  --xr-border-color: var(--jp-border-color2, #e0e0e0);\n",
       "  --xr-disabled-color: var(--jp-layout-color3, #bdbdbd);\n",
       "  --xr-background-color: var(--jp-layout-color0, white);\n",
       "  --xr-background-color-row-even: var(--jp-layout-color1, white);\n",
       "  --xr-background-color-row-odd: var(--jp-layout-color2, #eeeeee);\n",
       "}\n",
       "\n",
       "html[theme=dark],\n",
       "body[data-theme=dark],\n",
       "body.vscode-dark {\n",
       "  --xr-font-color0: rgba(255, 255, 255, 1);\n",
       "  --xr-font-color2: rgba(255, 255, 255, 0.54);\n",
       "  --xr-font-color3: rgba(255, 255, 255, 0.38);\n",
       "  --xr-border-color: #1F1F1F;\n",
       "  --xr-disabled-color: #515151;\n",
       "  --xr-background-color: #111111;\n",
       "  --xr-background-color-row-even: #111111;\n",
       "  --xr-background-color-row-odd: #313131;\n",
       "}\n",
       "\n",
       ".xr-wrap {\n",
       "  display: block !important;\n",
       "  min-width: 300px;\n",
       "  max-width: 700px;\n",
       "}\n",
       "\n",
       ".xr-text-repr-fallback {\n",
       "  /* fallback to plain text repr when CSS is not injected (untrusted notebook) */\n",
       "  display: none;\n",
       "}\n",
       "\n",
       ".xr-header {\n",
       "  padding-top: 6px;\n",
       "  padding-bottom: 6px;\n",
       "  margin-bottom: 4px;\n",
       "  border-bottom: solid 1px var(--xr-border-color);\n",
       "}\n",
       "\n",
       ".xr-header > div,\n",
       ".xr-header > ul {\n",
       "  display: inline;\n",
       "  margin-top: 0;\n",
       "  margin-bottom: 0;\n",
       "}\n",
       "\n",
       ".xr-obj-type,\n",
       ".xr-array-name {\n",
       "  margin-left: 2px;\n",
       "  margin-right: 10px;\n",
       "}\n",
       "\n",
       ".xr-obj-type {\n",
       "  color: var(--xr-font-color2);\n",
       "}\n",
       "\n",
       ".xr-sections {\n",
       "  padding-left: 0 !important;\n",
       "  display: grid;\n",
       "  grid-template-columns: 150px auto auto 1fr 20px 20px;\n",
       "}\n",
       "\n",
       ".xr-section-item {\n",
       "  display: contents;\n",
       "}\n",
       "\n",
       ".xr-section-item input {\n",
       "  display: none;\n",
       "}\n",
       "\n",
       ".xr-section-item input + label {\n",
       "  color: var(--xr-disabled-color);\n",
       "}\n",
       "\n",
       ".xr-section-item input:enabled + label {\n",
       "  cursor: pointer;\n",
       "  color: var(--xr-font-color2);\n",
       "}\n",
       "\n",
       ".xr-section-item input:enabled + label:hover {\n",
       "  color: var(--xr-font-color0);\n",
       "}\n",
       "\n",
       ".xr-section-summary {\n",
       "  grid-column: 1;\n",
       "  color: var(--xr-font-color2);\n",
       "  font-weight: 500;\n",
       "}\n",
       "\n",
       ".xr-section-summary > span {\n",
       "  display: inline-block;\n",
       "  padding-left: 0.5em;\n",
       "}\n",
       "\n",
       ".xr-section-summary-in:disabled + label {\n",
       "  color: var(--xr-font-color2);\n",
       "}\n",
       "\n",
       ".xr-section-summary-in + label:before {\n",
       "  display: inline-block;\n",
       "  content: '►';\n",
       "  font-size: 11px;\n",
       "  width: 15px;\n",
       "  text-align: center;\n",
       "}\n",
       "\n",
       ".xr-section-summary-in:disabled + label:before {\n",
       "  color: var(--xr-disabled-color);\n",
       "}\n",
       "\n",
       ".xr-section-summary-in:checked + label:before {\n",
       "  content: '▼';\n",
       "}\n",
       "\n",
       ".xr-section-summary-in:checked + label > span {\n",
       "  display: none;\n",
       "}\n",
       "\n",
       ".xr-section-summary,\n",
       ".xr-section-inline-details {\n",
       "  padding-top: 4px;\n",
       "  padding-bottom: 4px;\n",
       "}\n",
       "\n",
       ".xr-section-inline-details {\n",
       "  grid-column: 2 / -1;\n",
       "}\n",
       "\n",
       ".xr-section-details {\n",
       "  display: none;\n",
       "  grid-column: 1 / -1;\n",
       "  margin-bottom: 5px;\n",
       "}\n",
       "\n",
       ".xr-section-summary-in:checked ~ .xr-section-details {\n",
       "  display: contents;\n",
       "}\n",
       "\n",
       ".xr-array-wrap {\n",
       "  grid-column: 1 / -1;\n",
       "  display: grid;\n",
       "  grid-template-columns: 20px auto;\n",
       "}\n",
       "\n",
       ".xr-array-wrap > label {\n",
       "  grid-column: 1;\n",
       "  vertical-align: top;\n",
       "}\n",
       "\n",
       ".xr-preview {\n",
       "  color: var(--xr-font-color3);\n",
       "}\n",
       "\n",
       ".xr-array-preview,\n",
       ".xr-array-data {\n",
       "  padding: 0 5px !important;\n",
       "  grid-column: 2;\n",
       "}\n",
       "\n",
       ".xr-array-data,\n",
       ".xr-array-in:checked ~ .xr-array-preview {\n",
       "  display: none;\n",
       "}\n",
       "\n",
       ".xr-array-in:checked ~ .xr-array-data,\n",
       ".xr-array-preview {\n",
       "  display: inline-block;\n",
       "}\n",
       "\n",
       ".xr-dim-list {\n",
       "  display: inline-block !important;\n",
       "  list-style: none;\n",
       "  padding: 0 !important;\n",
       "  margin: 0;\n",
       "}\n",
       "\n",
       ".xr-dim-list li {\n",
       "  display: inline-block;\n",
       "  padding: 0;\n",
       "  margin: 0;\n",
       "}\n",
       "\n",
       ".xr-dim-list:before {\n",
       "  content: '(';\n",
       "}\n",
       "\n",
       ".xr-dim-list:after {\n",
       "  content: ')';\n",
       "}\n",
       "\n",
       ".xr-dim-list li:not(:last-child):after {\n",
       "  content: ',';\n",
       "  padding-right: 5px;\n",
       "}\n",
       "\n",
       ".xr-has-index {\n",
       "  font-weight: bold;\n",
       "}\n",
       "\n",
       ".xr-var-list,\n",
       ".xr-var-item {\n",
       "  display: contents;\n",
       "}\n",
       "\n",
       ".xr-var-item > div,\n",
       ".xr-var-item label,\n",
       ".xr-var-item > .xr-var-name span {\n",
       "  background-color: var(--xr-background-color-row-even);\n",
       "  margin-bottom: 0;\n",
       "}\n",
       "\n",
       ".xr-var-item > .xr-var-name:hover span {\n",
       "  padding-right: 5px;\n",
       "}\n",
       "\n",
       ".xr-var-list > li:nth-child(odd) > div,\n",
       ".xr-var-list > li:nth-child(odd) > label,\n",
       ".xr-var-list > li:nth-child(odd) > .xr-var-name span {\n",
       "  background-color: var(--xr-background-color-row-odd);\n",
       "}\n",
       "\n",
       ".xr-var-name {\n",
       "  grid-column: 1;\n",
       "}\n",
       "\n",
       ".xr-var-dims {\n",
       "  grid-column: 2;\n",
       "}\n",
       "\n",
       ".xr-var-dtype {\n",
       "  grid-column: 3;\n",
       "  text-align: right;\n",
       "  color: var(--xr-font-color2);\n",
       "}\n",
       "\n",
       ".xr-var-preview {\n",
       "  grid-column: 4;\n",
       "}\n",
       "\n",
       ".xr-index-preview {\n",
       "  grid-column: 2 / 5;\n",
       "  color: var(--xr-font-color2);\n",
       "}\n",
       "\n",
       ".xr-var-name,\n",
       ".xr-var-dims,\n",
       ".xr-var-dtype,\n",
       ".xr-preview,\n",
       ".xr-attrs dt {\n",
       "  white-space: nowrap;\n",
       "  overflow: hidden;\n",
       "  text-overflow: ellipsis;\n",
       "  padding-right: 10px;\n",
       "}\n",
       "\n",
       ".xr-var-name:hover,\n",
       ".xr-var-dims:hover,\n",
       ".xr-var-dtype:hover,\n",
       ".xr-attrs dt:hover {\n",
       "  overflow: visible;\n",
       "  width: auto;\n",
       "  z-index: 1;\n",
       "}\n",
       "\n",
       ".xr-var-attrs,\n",
       ".xr-var-data,\n",
       ".xr-index-data {\n",
       "  display: none;\n",
       "  background-color: var(--xr-background-color) !important;\n",
       "  padding-bottom: 5px !important;\n",
       "}\n",
       "\n",
       ".xr-var-attrs-in:checked ~ .xr-var-attrs,\n",
       ".xr-var-data-in:checked ~ .xr-var-data,\n",
       ".xr-index-data-in:checked ~ .xr-index-data {\n",
       "  display: block;\n",
       "}\n",
       "\n",
       ".xr-var-data > table {\n",
       "  float: right;\n",
       "}\n",
       "\n",
       ".xr-var-name span,\n",
       ".xr-var-data,\n",
       ".xr-index-name div,\n",
       ".xr-index-data,\n",
       ".xr-attrs {\n",
       "  padding-left: 25px !important;\n",
       "}\n",
       "\n",
       ".xr-attrs,\n",
       ".xr-var-attrs,\n",
       ".xr-var-data,\n",
       ".xr-index-data {\n",
       "  grid-column: 1 / -1;\n",
       "}\n",
       "\n",
       "dl.xr-attrs {\n",
       "  padding: 0;\n",
       "  margin: 0;\n",
       "  display: grid;\n",
       "  grid-template-columns: 125px auto;\n",
       "}\n",
       "\n",
       ".xr-attrs dt,\n",
       ".xr-attrs dd {\n",
       "  padding: 0;\n",
       "  margin: 0;\n",
       "  float: left;\n",
       "  padding-right: 10px;\n",
       "  width: auto;\n",
       "}\n",
       "\n",
       ".xr-attrs dt {\n",
       "  font-weight: normal;\n",
       "  grid-column: 1;\n",
       "}\n",
       "\n",
       ".xr-attrs dt:hover span {\n",
       "  display: inline-block;\n",
       "  background: var(--xr-background-color);\n",
       "  padding-right: 10px;\n",
       "}\n",
       "\n",
       ".xr-attrs dd {\n",
       "  grid-column: 2;\n",
       "  white-space: pre-wrap;\n",
       "  word-break: break-all;\n",
       "}\n",
       "\n",
       ".xr-icon-database,\n",
       ".xr-icon-file-text2,\n",
       ".xr-no-icon {\n",
       "  display: inline-block;\n",
       "  vertical-align: middle;\n",
       "  width: 1em;\n",
       "  height: 1.5em !important;\n",
       "  stroke-width: 0;\n",
       "  stroke: currentColor;\n",
       "  fill: currentColor;\n",
       "}\n",
       "</style><pre class='xr-text-repr-fallback'>&lt;xarray.Dataset&gt; Size: 613MB\n",
       "Dimensions:          (time: 31, latitude: 1056, longitude: 1440)\n",
       "Coordinates:\n",
       "  * latitude         (latitude) float32 4kB -11.98 -11.94 -11.9 ... 31.94 31.98\n",
       "  * longitude        (longitude) float32 6kB 42.02 42.06 42.1 ... 101.9 102.0\n",
       "  * time             (time) datetime64[ns] 248B 1997-10-01 ... 1997-10-31\n",
       "Data variables:\n",
       "    CHL              (time, latitude, longitude) float32 189MB ...\n",
       "    CHL_uncertainty  (time, latitude, longitude) float64 377MB ...\n",
       "    flags            (time, latitude, longitude) int8 47MB ...\n",
       "Attributes: (12/92)\n",
       "    Conventions:                     CF-1.8, ACDD-1.3\n",
       "    DPM_reference:                   GC-UD-ACRI-PUG\n",
       "    IODD_reference:                  GC-UD-ACRI-PUG\n",
       "    acknowledgement:                 The Licensees will ensure that original ...\n",
       "    citation:                        The Licensees will ensure that original ...\n",
       "    cmems_product_id:                OCEANCOLOUR_GLO_BGC_L4_MY_009_104\n",
       "    ...                              ...\n",
       "    time_coverage_resolution:        P1D\n",
       "    time_coverage_start:             2023-11-20T15:24:55Z\n",
       "    title:                           cmems_obs-oc_glo_bgc-plankton_my_l4-gapf...\n",
       "    westernmost_longitude:           -180.0\n",
       "    westernmost_valid_longitude:     -180.0\n",
       "    copernicusmarine_version:        1.3.1</pre><div class='xr-wrap' style='display:none'><div class='xr-header'><div class='xr-obj-type'>xarray.Dataset</div></div><ul class='xr-sections'><li class='xr-section-item'><input id='section-ce1eebc7-a27e-48e2-8d15-41499082af2d' class='xr-section-summary-in' type='checkbox' disabled ><label for='section-ce1eebc7-a27e-48e2-8d15-41499082af2d' class='xr-section-summary'  title='Expand/collapse section'>Dimensions:</label><div class='xr-section-inline-details'><ul class='xr-dim-list'><li><span class='xr-has-index'>time</span>: 31</li><li><span class='xr-has-index'>latitude</span>: 1056</li><li><span class='xr-has-index'>longitude</span>: 1440</li></ul></div><div class='xr-section-details'></div></li><li class='xr-section-item'><input id='section-6198cb8c-7ce2-48ee-9e95-c6f2e8df0013' class='xr-section-summary-in' type='checkbox'  checked><label for='section-6198cb8c-7ce2-48ee-9e95-c6f2e8df0013' class='xr-section-summary' >Coordinates: <span>(3)</span></label><div class='xr-section-inline-details'></div><div class='xr-section-details'><ul class='xr-var-list'><li class='xr-var-item'><div class='xr-var-name'><span class='xr-has-index'>latitude</span></div><div class='xr-var-dims'>(latitude)</div><div class='xr-var-dtype'>float32</div><div class='xr-var-preview xr-preview'>-11.98 -11.94 -11.9 ... 31.94 31.98</div><input id='attrs-24745a9f-09d1-47ee-a43c-2b02d33a4612' class='xr-var-attrs-in' type='checkbox' ><label for='attrs-24745a9f-09d1-47ee-a43c-2b02d33a4612' title='Show/Hide attributes'><svg class='icon xr-icon-file-text2'><use xlink:href='#icon-file-text2'></use></svg></label><input id='data-0ec05352-eac6-40cc-89eb-bcec8716ca5d' class='xr-var-data-in' type='checkbox'><label for='data-0ec05352-eac6-40cc-89eb-bcec8716ca5d' title='Show/Hide data repr'><svg class='icon xr-icon-database'><use xlink:href='#icon-database'></use></svg></label><div class='xr-var-attrs'><dl class='xr-attrs'><dt><span>axis :</span></dt><dd>Y</dd><dt><span>coverage_content_type :</span></dt><dd>coordinate</dd><dt><span>long_name :</span></dt><dd>latitude</dd><dt><span>standard_name :</span></dt><dd>latitude</dd><dt><span>units :</span></dt><dd>degrees_north</dd><dt><span>valid_max :</span></dt><dd>31.979164</dd><dt><span>valid_min :</span></dt><dd>-11.97917</dd></dl></div><div class='xr-var-data'><pre>array([-11.97917 , -11.937503, -11.895837, ...,  31.895832,  31.937498,\n",
       "        31.979164], dtype=float32)</pre></div></li><li class='xr-var-item'><div class='xr-var-name'><span class='xr-has-index'>longitude</span></div><div class='xr-var-dims'>(longitude)</div><div class='xr-var-dtype'>float32</div><div class='xr-var-preview xr-preview'>42.02 42.06 42.1 ... 101.9 102.0</div><input id='attrs-c8e044c9-936d-4619-825c-e56ded45d2f5' class='xr-var-attrs-in' type='checkbox' ><label for='attrs-c8e044c9-936d-4619-825c-e56ded45d2f5' title='Show/Hide attributes'><svg class='icon xr-icon-file-text2'><use xlink:href='#icon-file-text2'></use></svg></label><input id='data-6368a460-b557-430d-87f6-c21fd9127da1' class='xr-var-data-in' type='checkbox'><label for='data-6368a460-b557-430d-87f6-c21fd9127da1' title='Show/Hide data repr'><svg class='icon xr-icon-database'><use xlink:href='#icon-database'></use></svg></label><div class='xr-var-attrs'><dl class='xr-attrs'><dt><span>axis :</span></dt><dd>X</dd><dt><span>coverage_content_type :</span></dt><dd>coordinate</dd><dt><span>long_name :</span></dt><dd>longitude</dd><dt><span>standard_name :</span></dt><dd>longitude</dd><dt><span>units :</span></dt><dd>degrees_east</dd><dt><span>valid_max :</span></dt><dd>101.97917</dd><dt><span>valid_min :</span></dt><dd>42.02084</dd></dl></div><div class='xr-var-data'><pre>array([ 42.02084 ,  42.062508,  42.10417 , ..., 101.89584 , 101.93751 ,\n",
       "       101.97917 ], dtype=float32)</pre></div></li><li class='xr-var-item'><div class='xr-var-name'><span class='xr-has-index'>time</span></div><div class='xr-var-dims'>(time)</div><div class='xr-var-dtype'>datetime64[ns]</div><div class='xr-var-preview xr-preview'>1997-10-01 ... 1997-10-31</div><input id='attrs-d53cd74d-fa5e-4704-be69-9d0193e8021e' class='xr-var-attrs-in' type='checkbox' ><label for='attrs-d53cd74d-fa5e-4704-be69-9d0193e8021e' title='Show/Hide attributes'><svg class='icon xr-icon-file-text2'><use xlink:href='#icon-file-text2'></use></svg></label><input id='data-90db9911-6a12-4644-854a-5860cb5c652b' class='xr-var-data-in' type='checkbox'><label for='data-90db9911-6a12-4644-854a-5860cb5c652b' title='Show/Hide data repr'><svg class='icon xr-icon-database'><use xlink:href='#icon-database'></use></svg></label><div class='xr-var-attrs'><dl class='xr-attrs'><dt><span>valid_min :</span></dt><dd>35702</dd><dt><span>valid_max :</span></dt><dd>35732</dd></dl></div><div class='xr-var-data'><pre>array([&#x27;1997-10-01T00:00:00.000000000&#x27;, &#x27;1997-10-02T00:00:00.000000000&#x27;,\n",
       "       &#x27;1997-10-03T00:00:00.000000000&#x27;, &#x27;1997-10-04T00:00:00.000000000&#x27;,\n",
       "       &#x27;1997-10-05T00:00:00.000000000&#x27;, &#x27;1997-10-06T00:00:00.000000000&#x27;,\n",
       "       &#x27;1997-10-07T00:00:00.000000000&#x27;, &#x27;1997-10-08T00:00:00.000000000&#x27;,\n",
       "       &#x27;1997-10-09T00:00:00.000000000&#x27;, &#x27;1997-10-10T00:00:00.000000000&#x27;,\n",
       "       &#x27;1997-10-11T00:00:00.000000000&#x27;, &#x27;1997-10-12T00:00:00.000000000&#x27;,\n",
       "       &#x27;1997-10-13T00:00:00.000000000&#x27;, &#x27;1997-10-14T00:00:00.000000000&#x27;,\n",
       "       &#x27;1997-10-15T00:00:00.000000000&#x27;, &#x27;1997-10-16T00:00:00.000000000&#x27;,\n",
       "       &#x27;1997-10-17T00:00:00.000000000&#x27;, &#x27;1997-10-18T00:00:00.000000000&#x27;,\n",
       "       &#x27;1997-10-19T00:00:00.000000000&#x27;, &#x27;1997-10-20T00:00:00.000000000&#x27;,\n",
       "       &#x27;1997-10-21T00:00:00.000000000&#x27;, &#x27;1997-10-22T00:00:00.000000000&#x27;,\n",
       "       &#x27;1997-10-23T00:00:00.000000000&#x27;, &#x27;1997-10-24T00:00:00.000000000&#x27;,\n",
       "       &#x27;1997-10-25T00:00:00.000000000&#x27;, &#x27;1997-10-26T00:00:00.000000000&#x27;,\n",
       "       &#x27;1997-10-27T00:00:00.000000000&#x27;, &#x27;1997-10-28T00:00:00.000000000&#x27;,\n",
       "       &#x27;1997-10-29T00:00:00.000000000&#x27;, &#x27;1997-10-30T00:00:00.000000000&#x27;,\n",
       "       &#x27;1997-10-31T00:00:00.000000000&#x27;], dtype=&#x27;datetime64[ns]&#x27;)</pre></div></li></ul></div></li><li class='xr-section-item'><input id='section-45f8fbad-460c-489b-a14f-c233c57b6d16' class='xr-section-summary-in' type='checkbox'  checked><label for='section-45f8fbad-460c-489b-a14f-c233c57b6d16' class='xr-section-summary' >Data variables: <span>(3)</span></label><div class='xr-section-inline-details'></div><div class='xr-section-details'><ul class='xr-var-list'><li class='xr-var-item'><div class='xr-var-name'><span>CHL</span></div><div class='xr-var-dims'>(time, latitude, longitude)</div><div class='xr-var-dtype'>float32</div><div class='xr-var-preview xr-preview'>...</div><input id='attrs-597c5e17-c068-4a23-968b-98eebd9b303f' class='xr-var-attrs-in' type='checkbox' ><label for='attrs-597c5e17-c068-4a23-968b-98eebd9b303f' title='Show/Hide attributes'><svg class='icon xr-icon-file-text2'><use xlink:href='#icon-file-text2'></use></svg></label><input id='data-aef7db1a-174f-4785-bf38-422ed3585880' class='xr-var-data-in' type='checkbox'><label for='data-aef7db1a-174f-4785-bf38-422ed3585880' title='Show/Hide data repr'><svg class='icon xr-icon-database'><use xlink:href='#icon-database'></use></svg></label><div class='xr-var-attrs'><dl class='xr-attrs'><dt><span>ancillary_variables :</span></dt><dd>flags CHL_uncertainty</dd><dt><span>coverage_content_type :</span></dt><dd>modelResult</dd><dt><span>input_files_reprocessings :</span></dt><dd>Processors versions: MODIS R2022.0NRT/VIIRSN R2022.0.1NRT/OLCIA 07.02/VIIRSJ1 R2022.0NRT/OLCIB 07.02</dd><dt><span>long_name :</span></dt><dd>Chlorophyll-a concentration - Mean of the binned pixels</dd><dt><span>standard_name :</span></dt><dd>mass_concentration_of_chlorophyll_a_in_sea_water</dd><dt><span>type :</span></dt><dd>surface</dd><dt><span>units :</span></dt><dd>milligram m-3</dd><dt><span>valid_max :</span></dt><dd>1000.0</dd><dt><span>valid_min :</span></dt><dd>0.0</dd></dl></div><div class='xr-var-data'><pre>[47139840 values with dtype=float32]</pre></div></li><li class='xr-var-item'><div class='xr-var-name'><span>CHL_uncertainty</span></div><div class='xr-var-dims'>(time, latitude, longitude)</div><div class='xr-var-dtype'>float64</div><div class='xr-var-preview xr-preview'>...</div><input id='attrs-c1dcc2a9-2832-4f4e-a004-fc732b2df2f4' class='xr-var-attrs-in' type='checkbox' ><label for='attrs-c1dcc2a9-2832-4f4e-a004-fc732b2df2f4' title='Show/Hide attributes'><svg class='icon xr-icon-file-text2'><use xlink:href='#icon-file-text2'></use></svg></label><input id='data-4b07bce6-e426-4dec-94d3-438816b82033' class='xr-var-data-in' type='checkbox'><label for='data-4b07bce6-e426-4dec-94d3-438816b82033' title='Show/Hide data repr'><svg class='icon xr-icon-database'><use xlink:href='#icon-database'></use></svg></label><div class='xr-var-attrs'><dl class='xr-attrs'><dt><span>coverage_content_type :</span></dt><dd>qualityInformation</dd><dt><span>long_name :</span></dt><dd>Chlorophyll-a concentration - Uncertainty estimation</dd><dt><span>units :</span></dt><dd>%</dd><dt><span>valid_max :</span></dt><dd>32767</dd><dt><span>valid_min :</span></dt><dd>0</dd></dl></div><div class='xr-var-data'><pre>[47139840 values with dtype=float64]</pre></div></li><li class='xr-var-item'><div class='xr-var-name'><span>flags</span></div><div class='xr-var-dims'>(time, latitude, longitude)</div><div class='xr-var-dtype'>int8</div><div class='xr-var-preview xr-preview'>...</div><input id='attrs-883029f9-c2d4-4ed8-9c99-60d5c36100b7' class='xr-var-attrs-in' type='checkbox' ><label for='attrs-883029f9-c2d4-4ed8-9c99-60d5c36100b7' title='Show/Hide attributes'><svg class='icon xr-icon-file-text2'><use xlink:href='#icon-file-text2'></use></svg></label><input id='data-438d97e3-40bd-4f47-9b43-016f3c4fc03d' class='xr-var-data-in' type='checkbox'><label for='data-438d97e3-40bd-4f47-9b43-016f3c4fc03d' title='Show/Hide data repr'><svg class='icon xr-icon-database'><use xlink:href='#icon-database'></use></svg></label><div class='xr-var-attrs'><dl class='xr-attrs'><dt><span>coverage_content_type :</span></dt><dd>auxiliaryInformation</dd><dt><span>flag_masks :</span></dt><dd>[1 2]</dd><dt><span>flag_meanings :</span></dt><dd>LAND INTERPOLATED</dd><dt><span>long_name :</span></dt><dd>Flags</dd><dt><span>standard_name :</span></dt><dd>status_flag</dd><dt><span>valid_max :</span></dt><dd>3</dd><dt><span>valid_min :</span></dt><dd>0</dd></dl></div><div class='xr-var-data'><pre>[47139840 values with dtype=int8]</pre></div></li></ul></div></li><li class='xr-section-item'><input id='section-ba41b742-d0d9-4811-9eaf-67298352e4e0' class='xr-section-summary-in' type='checkbox'  ><label for='section-ba41b742-d0d9-4811-9eaf-67298352e4e0' class='xr-section-summary' >Indexes: <span>(3)</span></label><div class='xr-section-inline-details'></div><div class='xr-section-details'><ul class='xr-var-list'><li class='xr-var-item'><div class='xr-index-name'><div>latitude</div></div><div class='xr-index-preview'>PandasIndex</div><div></div><input id='index-065e0f48-05d4-495c-80b2-18492bf36409' class='xr-index-data-in' type='checkbox'/><label for='index-065e0f48-05d4-495c-80b2-18492bf36409' title='Show/Hide index repr'><svg class='icon xr-icon-database'><use xlink:href='#icon-database'></use></svg></label><div class='xr-index-data'><pre>PandasIndex(Index([-11.979169845581055,  -11.93750286102295,  -11.89583683013916,\n",
       "       -11.854169845581055,  -11.81250286102295,  -11.77083683013916,\n",
       "       -11.729169845581055,  -11.68750286102295,  -11.64583683013916,\n",
       "       -11.604169845581055,\n",
       "       ...\n",
       "        31.604164123535156,  31.645832061767578,  31.687498092651367,\n",
       "        31.729164123535156,  31.770832061767578,  31.812498092651367,\n",
       "        31.854164123535156,  31.895832061767578,  31.937498092651367,\n",
       "        31.979164123535156],\n",
       "      dtype=&#x27;float32&#x27;, name=&#x27;latitude&#x27;, length=1056))</pre></div></li><li class='xr-var-item'><div class='xr-index-name'><div>longitude</div></div><div class='xr-index-preview'>PandasIndex</div><div></div><input id='index-cbe745e8-2a5c-43d7-814c-1ff8bd0f9a34' class='xr-index-data-in' type='checkbox'/><label for='index-cbe745e8-2a5c-43d7-814c-1ff8bd0f9a34' title='Show/Hide index repr'><svg class='icon xr-icon-database'><use xlink:href='#icon-database'></use></svg></label><div class='xr-index-data'><pre>PandasIndex(Index([ 42.02083969116211,  42.06250762939453,  42.10417175292969,\n",
       "        42.14583969116211,  42.18750762939453,  42.22917175292969,\n",
       "        42.27083969116211,  42.31250762939453,  42.35417175292969,\n",
       "        42.39583969116211,\n",
       "       ...\n",
       "       101.60417175292969, 101.64584350585938, 101.68750762939453,\n",
       "       101.72917175292969, 101.77084350585938, 101.81250762939453,\n",
       "       101.85417175292969, 101.89584350585938, 101.93750762939453,\n",
       "       101.97917175292969],\n",
       "      dtype=&#x27;float32&#x27;, name=&#x27;longitude&#x27;, length=1440))</pre></div></li><li class='xr-var-item'><div class='xr-index-name'><div>time</div></div><div class='xr-index-preview'>PandasIndex</div><div></div><input id='index-2ec810ac-2784-4327-adb8-d58e653e1528' class='xr-index-data-in' type='checkbox'/><label for='index-2ec810ac-2784-4327-adb8-d58e653e1528' title='Show/Hide index repr'><svg class='icon xr-icon-database'><use xlink:href='#icon-database'></use></svg></label><div class='xr-index-data'><pre>PandasIndex(DatetimeIndex([&#x27;1997-10-01&#x27;, &#x27;1997-10-02&#x27;, &#x27;1997-10-03&#x27;, &#x27;1997-10-04&#x27;,\n",
       "               &#x27;1997-10-05&#x27;, &#x27;1997-10-06&#x27;, &#x27;1997-10-07&#x27;, &#x27;1997-10-08&#x27;,\n",
       "               &#x27;1997-10-09&#x27;, &#x27;1997-10-10&#x27;, &#x27;1997-10-11&#x27;, &#x27;1997-10-12&#x27;,\n",
       "               &#x27;1997-10-13&#x27;, &#x27;1997-10-14&#x27;, &#x27;1997-10-15&#x27;, &#x27;1997-10-16&#x27;,\n",
       "               &#x27;1997-10-17&#x27;, &#x27;1997-10-18&#x27;, &#x27;1997-10-19&#x27;, &#x27;1997-10-20&#x27;,\n",
       "               &#x27;1997-10-21&#x27;, &#x27;1997-10-22&#x27;, &#x27;1997-10-23&#x27;, &#x27;1997-10-24&#x27;,\n",
       "               &#x27;1997-10-25&#x27;, &#x27;1997-10-26&#x27;, &#x27;1997-10-27&#x27;, &#x27;1997-10-28&#x27;,\n",
       "               &#x27;1997-10-29&#x27;, &#x27;1997-10-30&#x27;, &#x27;1997-10-31&#x27;],\n",
       "              dtype=&#x27;datetime64[ns]&#x27;, name=&#x27;time&#x27;, freq=None))</pre></div></li></ul></div></li><li class='xr-section-item'><input id='section-9709cc80-61a6-477f-bcc3-d6aaa2511334' class='xr-section-summary-in' type='checkbox'  ><label for='section-9709cc80-61a6-477f-bcc3-d6aaa2511334' class='xr-section-summary' >Attributes: <span>(92)</span></label><div class='xr-section-inline-details'></div><div class='xr-section-details'><dl class='xr-attrs'><dt><span>Conventions :</span></dt><dd>CF-1.8, ACDD-1.3</dd><dt><span>DPM_reference :</span></dt><dd>GC-UD-ACRI-PUG</dd><dt><span>IODD_reference :</span></dt><dd>GC-UD-ACRI-PUG</dd><dt><span>acknowledgement :</span></dt><dd>The Licensees will ensure that original CMEMS products - or value added products or derivative works developed from CMEMS Products including publications and pictures - shall credit CMEMS by explicitly making mention of the originator (CMEMS) in the  following manner:  &lt;Generated using CMEMS Products, production centre ACRI-ST&gt;</dd><dt><span>citation :</span></dt><dd>The Licensees will ensure that original CMEMS products - or value added products or derivative works developed from CMEMS Products including publications and pictures - shall credit CMEMS by explicitly making mention of the originator (CMEMS) in the  following manner:  &lt;Generated using CMEMS Products, production centre ACRI-ST&gt;</dd><dt><span>cmems_product_id :</span></dt><dd>OCEANCOLOUR_GLO_BGC_L4_MY_009_104</dd><dt><span>cmems_production_unit :</span></dt><dd>OC-ACRI-NICE-FR</dd><dt><span>comment :</span></dt><dd>average</dd><dt><span>contact :</span></dt><dd>servicedesk.cmems@acri-st.fr</dd><dt><span>creation_date :</span></dt><dd>2023-11-29 UTC</dd><dt><span>creation_time :</span></dt><dd>01:06:50 UTC</dd><dt><span>creator_email :</span></dt><dd>servicedesk.cmems@acri-st.fr</dd><dt><span>creator_name :</span></dt><dd>ACRI</dd><dt><span>creator_url :</span></dt><dd>http://marine.copernicus.eu</dd><dt><span>date_created :</span></dt><dd>2023-11-29T01:06:50Z</dd><dt><span>distribution_statement :</span></dt><dd>See CMEMS Data License</dd><dt><span>duration_time :</span></dt><dd>PT146878S</dd><dt><span>earth_radius :</span></dt><dd>6378.137</dd><dt><span>easternmost_longitude :</span></dt><dd>180.0</dd><dt><span>easternmost_valid_longitude :</span></dt><dd>180.00001525878906</dd><dt><span>file_quality_index :</span></dt><dd>0</dd><dt><span>geospatial_bounds :</span></dt><dd>POLYGON ((90.000000 -180.000000, 90.000000 180.000000, -90.000000 180.000000, -90.000000 -180.000000, 90.000000 -180.000000))</dd><dt><span>geospatial_bounds_crs :</span></dt><dd>EPSG:4326</dd><dt><span>geospatial_bounds_vertical_crs :</span></dt><dd>EPSG:5829</dd><dt><span>geospatial_lat_max :</span></dt><dd>89.97916412353516</dd><dt><span>geospatial_lat_min :</span></dt><dd>-89.97917175292969</dd><dt><span>geospatial_lon_max :</span></dt><dd>179.9791717529297</dd><dt><span>geospatial_lon_min :</span></dt><dd>-179.9791717529297</dd><dt><span>geospatial_vertical_max :</span></dt><dd>0</dd><dt><span>geospatial_vertical_min :</span></dt><dd>0</dd><dt><span>geospatial_vertical_positive :</span></dt><dd>up</dd><dt><span>grid_mapping :</span></dt><dd>Equirectangular</dd><dt><span>grid_resolution :</span></dt><dd>4.638312339782715</dd><dt><span>history :</span></dt><dd>Created using software developed at ACRI-ST</dd><dt><span>id :</span></dt><dd>20231121_cmems_obs-oc_glo_bgc-plankton_myint_l4-gapfree-multi-4km_P1D</dd><dt><span>institution :</span></dt><dd>ACRI</dd><dt><span>keywords :</span></dt><dd>EARTH SCIENCE &gt; OCEANS &gt; OCEAN CHEMISTRY &gt; CHLOROPHYLL</dd><dt><span>keywords_vocabulary :</span></dt><dd>NASA Global Change Master Directory (GCMD) Science Keywords</dd><dt><span>lat_step :</span></dt><dd>0.0416666679084301</dd><dt><span>license :</span></dt><dd>See CMEMS Data License</dd><dt><span>lon_step :</span></dt><dd>0.0416666679084301</dd><dt><span>naming_authority :</span></dt><dd>CMEMS</dd><dt><span>nb_bins :</span></dt><dd>37324800</dd><dt><span>nb_equ_bins :</span></dt><dd>8640</dd><dt><span>nb_grid_bins :</span></dt><dd>37324800</dd><dt><span>nb_valid_bins :</span></dt><dd>19169208</dd><dt><span>netcdf_version_id :</span></dt><dd>4.3.3.1 of Jul  8 2016 18:15:50 $</dd><dt><span>northernmost_latitude :</span></dt><dd>90.0</dd><dt><span>northernmost_valid_latitude :</span></dt><dd>58.08333206176758</dd><dt><span>overall_quality :</span></dt><dd>mode=myint</dd><dt><span>parameter :</span></dt><dd>Chlorophyll-a concentration</dd><dt><span>parameter_code :</span></dt><dd>CHL</dd><dt><span>pct_bins :</span></dt><dd>100.0</dd><dt><span>pct_valid_bins :</span></dt><dd>51.357831790123456</dd><dt><span>period_duration_day :</span></dt><dd>P1D</dd><dt><span>period_end_day :</span></dt><dd>20231121</dd><dt><span>period_start_day :</span></dt><dd>20231121</dd><dt><span>platform :</span></dt><dd>Aqua,Suomi-NPP,Sentinel-3a,JPSS-1 (NOAA-20),Sentinel-3b</dd><dt><span>processing_level :</span></dt><dd>L4</dd><dt><span>product_level :</span></dt><dd>4</dd><dt><span>product_name :</span></dt><dd>20231121_cmems_obs-oc_glo_bgc-plankton_myint_l4-gapfree-multi-4km_P1D</dd><dt><span>product_type :</span></dt><dd>day</dd><dt><span>project :</span></dt><dd>CMEMS</dd><dt><span>publication :</span></dt><dd>Gohin, F., Druon, J. N., Lampert, L. (2002). A five channel chlorophyll concentration algorithm applied to SeaWiFS data processed by SeaDAS in coastal waters. International journal of remote sensing, 23(8), 1639-1661 + Hu, C., Lee, Z., Franz, B. (2012). Chlorophyll a algorithms for oligotrophic oceans: A novel approach based on three-band reflectance difference. Journal of Geophysical Research, 117(C1). doi: 10.1029/2011jc007395</dd><dt><span>publisher_email :</span></dt><dd>servicedesk.cmems@mercator-ocean.eu</dd><dt><span>publisher_name :</span></dt><dd>CMEMS</dd><dt><span>publisher_url :</span></dt><dd>http://marine.copernicus.eu</dd><dt><span>references :</span></dt><dd>http://www.globcolour.info GlobColour has been originally funded by ESA with data from ESA, NASA, NOAA and GeoEye. This version has received funding from the European Community s Seventh Framework Programme ([FP7/2007-2013]) under grant agreement n. 282723 [OSS2015 project].</dd><dt><span>registration :</span></dt><dd>5</dd><dt><span>sensor :</span></dt><dd>Moderate Resolution Imaging Spectroradiometer,Visible Infrared Imaging Radiometer Suite,Ocean and Land Colour Instrument</dd><dt><span>sensor_name :</span></dt><dd>MODISA,VIIRSN,OLCIa,VIIRSJ1,OLCIb</dd><dt><span>sensor_name_list :</span></dt><dd>MOD,VIR,OLA,VJ1,OLB</dd><dt><span>site_name :</span></dt><dd>GLO</dd><dt><span>software_name :</span></dt><dd>globcolour_l3_reproject</dd><dt><span>software_version :</span></dt><dd>2022.2</dd><dt><span>source :</span></dt><dd>surface observation</dd><dt><span>southernmost_latitude :</span></dt><dd>-90.0</dd><dt><span>southernmost_valid_latitude :</span></dt><dd>-78.58333587646484</dd><dt><span>standard_name_vocabulary :</span></dt><dd>NetCDF Climate and Forecast (CF) Metadata Convention</dd><dt><span>start_date :</span></dt><dd>2023-11-20 UTC</dd><dt><span>start_time :</span></dt><dd>15:24:55 UTC</dd><dt><span>stop_date :</span></dt><dd>2023-11-22 UTC</dd><dt><span>stop_time :</span></dt><dd>08:12:52 UTC</dd><dt><span>summary :</span></dt><dd>CMEMS product: cmems_obs-oc_glo_bgc-plankton_my_l4-gapfree-multi-4km_P1D,  generated by ACRI-ST</dd><dt><span>time_coverage_duration :</span></dt><dd>PT146878S</dd><dt><span>time_coverage_end :</span></dt><dd>2023-11-22T08:12:52Z</dd><dt><span>time_coverage_resolution :</span></dt><dd>P1D</dd><dt><span>time_coverage_start :</span></dt><dd>2023-11-20T15:24:55Z</dd><dt><span>title :</span></dt><dd>cmems_obs-oc_glo_bgc-plankton_my_l4-gapfree-multi-4km_P1D</dd><dt><span>westernmost_longitude :</span></dt><dd>-180.0</dd><dt><span>westernmost_valid_longitude :</span></dt><dd>-180.0</dd><dt><span>copernicusmarine_version :</span></dt><dd>1.3.1</dd></dl></div></li></ul></div></div>"
      ],
      "text/plain": [
       "<xarray.Dataset> Size: 613MB\n",
       "Dimensions:          (time: 31, latitude: 1056, longitude: 1440)\n",
       "Coordinates:\n",
       "  * latitude         (latitude) float32 4kB -11.98 -11.94 -11.9 ... 31.94 31.98\n",
       "  * longitude        (longitude) float32 6kB 42.02 42.06 42.1 ... 101.9 102.0\n",
       "  * time             (time) datetime64[ns] 248B 1997-10-01 ... 1997-10-31\n",
       "Data variables:\n",
       "    CHL              (time, latitude, longitude) float32 189MB ...\n",
       "    CHL_uncertainty  (time, latitude, longitude) float64 377MB ...\n",
       "    flags            (time, latitude, longitude) int8 47MB ...\n",
       "Attributes: (12/92)\n",
       "    Conventions:                     CF-1.8, ACDD-1.3\n",
       "    DPM_reference:                   GC-UD-ACRI-PUG\n",
       "    IODD_reference:                  GC-UD-ACRI-PUG\n",
       "    acknowledgement:                 The Licensees will ensure that original ...\n",
       "    citation:                        The Licensees will ensure that original ...\n",
       "    cmems_product_id:                OCEANCOLOUR_GLO_BGC_L4_MY_009_104\n",
       "    ...                              ...\n",
       "    time_coverage_resolution:        P1D\n",
       "    time_coverage_start:             2023-11-20T15:24:55Z\n",
       "    title:                           cmems_obs-oc_glo_bgc-plankton_my_l4-gapf...\n",
       "    westernmost_longitude:           -180.0\n",
       "    westernmost_valid_longitude:     -180.0\n",
       "    copernicusmarine_version:        1.3.1"
      ]
     },
     "execution_count": 8,
     "metadata": {},
     "output_type": "execute_result"
    }
   ],
   "source": [
    "ds = xr.open_dataset('~/shared/data/copernicus/cmems_obs-oc_glo_bgc-plankton_my_l4-gapfree-multi-4km_P1D/199710.nc')\n",
    "ds"
   ]
  },
  {
   "cell_type": "markdown",
   "id": "2f95c65b-22eb-4c5d-9a19-77d79e5afda6",
   "metadata": {},
   "source": [
    "Now download the raw level 3 data with many gaps."
   ]
  },
  {
   "cell_type": "code",
   "execution_count": null,
   "id": "cae906d6-d91e-4e2a-92db-4f72f7d039bd",
   "metadata": {
    "collapsed": true,
    "jupyter": {
     "outputs_hidden": true
    }
   },
   "outputs": [
    {
     "name": "stderr",
     "output_type": "stream",
     "text": [
      "INFO - 2024-07-12T13:25:15Z - Dataset version was not specified, the latest one was selected: \"202311\"\n",
      "INFO - 2024-07-12T13:25:15Z - Dataset part was not specified, the first one was selected: \"default\"\n",
      "INFO - 2024-07-12T13:25:18Z - Service was not specified, the default one was selected: \"arco-geo-series\"\n",
      "INFO - 2024-07-12T13:25:22Z - Downloading using service arco-geo-series...\n",
      "INFO - 2024-07-12T13:25:29Z - Estimated size of the dataset file is 539.769 MB.\n",
      "INFO - 2024-07-12T13:25:29Z - Writing to local storage. Please wait...\n"
     ]
    },
    {
     "data": {
      "application/vnd.jupyter.widget-view+json": {
       "model_id": "b3e952dddd724c4fbe1c4249d71959d2",
       "version_major": 2,
       "version_minor": 0
      },
      "text/plain": [
       "  0%|          | 0/3846 [00:00<?, ?it/s]"
      ]
     },
     "metadata": {},
     "output_type": "display_data"
    },
    {
     "name": "stderr",
     "output_type": "stream",
     "text": [
      "INFO - 2024-07-12T13:26:24Z - Successfully downloaded to /home/jovyan/shared/data/copernicus/cmems_obs-oc_glo_bgc-plankton_my_l3-multi-4km_P1D/199710.nc\n",
      "INFO - 2024-07-12T13:26:25Z - Dataset version was not specified, the latest one was selected: \"202311\"\n",
      "INFO - 2024-07-12T13:26:25Z - Dataset part was not specified, the first one was selected: \"default\"\n",
      "INFO - 2024-07-12T13:26:28Z - Service was not specified, the default one was selected: \"arco-geo-series\"\n",
      "INFO - 2024-07-12T13:26:31Z - Downloading using service arco-geo-series...\n",
      "INFO - 2024-07-12T13:26:38Z - Estimated size of the dataset file is 522.357 MB.\n",
      "INFO - 2024-07-12T13:26:38Z - Writing to local storage. Please wait...\n"
     ]
    },
    {
     "data": {
      "application/vnd.jupyter.widget-view+json": {
       "model_id": "46550f0124b5434eb83101d32d4d4a22",
       "version_major": 2,
       "version_minor": 0
      },
      "text/plain": [
       "  0%|          | 0/3722 [00:00<?, ?it/s]"
      ]
     },
     "metadata": {},
     "output_type": "display_data"
    },
    {
     "name": "stderr",
     "output_type": "stream",
     "text": [
      "INFO - 2024-07-12T13:27:38Z - Successfully downloaded to /home/jovyan/shared/data/copernicus/cmems_obs-oc_glo_bgc-plankton_my_l3-multi-4km_P1D/199711.nc\n",
      "INFO - 2024-07-12T13:27:39Z - Dataset version was not specified, the latest one was selected: \"202311\"\n",
      "INFO - 2024-07-12T13:27:39Z - Dataset part was not specified, the first one was selected: \"default\"\n",
      "INFO - 2024-07-12T13:27:42Z - Service was not specified, the default one was selected: \"arco-geo-series\"\n",
      "INFO - 2024-07-12T13:27:46Z - Downloading using service arco-geo-series...\n",
      "INFO - 2024-07-12T13:27:53Z - Estimated size of the dataset file is 539.769 MB.\n",
      "INFO - 2024-07-12T13:27:53Z - Writing to local storage. Please wait...\n"
     ]
    },
    {
     "data": {
      "application/vnd.jupyter.widget-view+json": {
       "model_id": "6e5ad8e4bfdb47c584dda0f06b781d87",
       "version_major": 2,
       "version_minor": 0
      },
      "text/plain": [
       "  0%|          | 0/3846 [00:00<?, ?it/s]"
      ]
     },
     "metadata": {},
     "output_type": "display_data"
    },
    {
     "name": "stderr",
     "output_type": "stream",
     "text": [
      "INFO - 2024-07-12T13:28:55Z - Successfully downloaded to /home/jovyan/shared/data/copernicus/cmems_obs-oc_glo_bgc-plankton_my_l3-multi-4km_P1D/199712.nc\n",
      "INFO - 2024-07-12T13:28:56Z - Dataset version was not specified, the latest one was selected: \"202311\"\n",
      "INFO - 2024-07-12T13:28:56Z - Dataset part was not specified, the first one was selected: \"default\"\n",
      "INFO - 2024-07-12T13:28:59Z - Service was not specified, the default one was selected: \"arco-geo-series\"\n",
      "INFO - 2024-07-12T13:29:03Z - Downloading using service arco-geo-series...\n",
      "INFO - 2024-07-12T13:29:10Z - Estimated size of the dataset file is 539.769 MB.\n",
      "INFO - 2024-07-12T13:29:10Z - Writing to local storage. Please wait...\n"
     ]
    },
    {
     "data": {
      "application/vnd.jupyter.widget-view+json": {
       "model_id": "92313c27b8314fe19d9e45c1d92eb284",
       "version_major": 2,
       "version_minor": 0
      },
      "text/plain": [
       "  0%|          | 0/3846 [00:00<?, ?it/s]"
      ]
     },
     "metadata": {},
     "output_type": "display_data"
    },
    {
     "name": "stderr",
     "output_type": "stream",
     "text": [
      "INFO - 2024-07-12T13:30:12Z - Successfully downloaded to /home/jovyan/shared/data/copernicus/cmems_obs-oc_glo_bgc-plankton_my_l3-multi-4km_P1D/199801.nc\n",
      "INFO - 2024-07-12T13:30:13Z - Dataset version was not specified, the latest one was selected: \"202311\"\n",
      "INFO - 2024-07-12T13:30:13Z - Dataset part was not specified, the first one was selected: \"default\"\n",
      "INFO - 2024-07-12T13:30:17Z - Service was not specified, the default one was selected: \"arco-geo-series\"\n",
      "INFO - 2024-07-12T13:30:20Z - Downloading using service arco-geo-series...\n",
      "INFO - 2024-07-12T13:30:27Z - Estimated size of the dataset file is 487.533 MB.\n",
      "INFO - 2024-07-12T13:30:27Z - Writing to local storage. Please wait...\n"
     ]
    },
    {
     "data": {
      "application/vnd.jupyter.widget-view+json": {
       "model_id": "12ed9b5635564b78a39c0635c5883b43",
       "version_major": 2,
       "version_minor": 0
      },
      "text/plain": [
       "  0%|          | 0/3474 [00:00<?, ?it/s]"
      ]
     },
     "metadata": {},
     "output_type": "display_data"
    },
    {
     "name": "stderr",
     "output_type": "stream",
     "text": [
      "INFO - 2024-07-12T13:31:23Z - Successfully downloaded to /home/jovyan/shared/data/copernicus/cmems_obs-oc_glo_bgc-plankton_my_l3-multi-4km_P1D/199802.nc\n",
      "INFO - 2024-07-12T13:31:24Z - Dataset version was not specified, the latest one was selected: \"202311\"\n",
      "INFO - 2024-07-12T13:31:24Z - Dataset part was not specified, the first one was selected: \"default\"\n",
      "INFO - 2024-07-12T13:31:28Z - Service was not specified, the default one was selected: \"arco-geo-series\"\n",
      "INFO - 2024-07-12T13:31:31Z - Downloading using service arco-geo-series...\n",
      "INFO - 2024-07-12T13:31:38Z - Estimated size of the dataset file is 539.769 MB.\n",
      "INFO - 2024-07-12T13:31:38Z - Writing to local storage. Please wait...\n"
     ]
    },
    {
     "data": {
      "application/vnd.jupyter.widget-view+json": {
       "model_id": "68d14f63e6db4691a326206ea36be335",
       "version_major": 2,
       "version_minor": 0
      },
      "text/plain": [
       "  0%|          | 0/3846 [00:00<?, ?it/s]"
      ]
     },
     "metadata": {},
     "output_type": "display_data"
    },
    {
     "name": "stderr",
     "output_type": "stream",
     "text": [
      "INFO - 2024-07-12T13:32:41Z - Successfully downloaded to /home/jovyan/shared/data/copernicus/cmems_obs-oc_glo_bgc-plankton_my_l3-multi-4km_P1D/199803.nc\n",
      "INFO - 2024-07-12T13:32:42Z - Dataset version was not specified, the latest one was selected: \"202311\"\n",
      "INFO - 2024-07-12T13:32:42Z - Dataset part was not specified, the first one was selected: \"default\"\n",
      "INFO - 2024-07-12T13:32:46Z - Service was not specified, the default one was selected: \"arco-geo-series\"\n",
      "INFO - 2024-07-12T13:32:49Z - Downloading using service arco-geo-series...\n",
      "INFO - 2024-07-12T13:32:56Z - Estimated size of the dataset file is 522.357 MB.\n",
      "INFO - 2024-07-12T13:32:56Z - Writing to local storage. Please wait...\n"
     ]
    },
    {
     "data": {
      "application/vnd.jupyter.widget-view+json": {
       "model_id": "6c360298e04b4676bd819e3d3a1c4062",
       "version_major": 2,
       "version_minor": 0
      },
      "text/plain": [
       "  0%|          | 0/3722 [00:00<?, ?it/s]"
      ]
     },
     "metadata": {},
     "output_type": "display_data"
    },
    {
     "name": "stderr",
     "output_type": "stream",
     "text": [
      "INFO - 2024-07-12T13:33:57Z - Successfully downloaded to /home/jovyan/shared/data/copernicus/cmems_obs-oc_glo_bgc-plankton_my_l3-multi-4km_P1D/199804.nc\n",
      "INFO - 2024-07-12T13:33:58Z - Dataset version was not specified, the latest one was selected: \"202311\"\n",
      "INFO - 2024-07-12T13:33:58Z - Dataset part was not specified, the first one was selected: \"default\"\n",
      "INFO - 2024-07-12T13:34:02Z - Service was not specified, the default one was selected: \"arco-geo-series\"\n",
      "INFO - 2024-07-12T13:34:05Z - Downloading using service arco-geo-series...\n",
      "INFO - 2024-07-12T13:34:12Z - Estimated size of the dataset file is 539.769 MB.\n",
      "INFO - 2024-07-12T13:34:12Z - Writing to local storage. Please wait...\n"
     ]
    },
    {
     "data": {
      "application/vnd.jupyter.widget-view+json": {
       "model_id": "cf97ff5719f34e14b3f0f439fe5b7f1e",
       "version_major": 2,
       "version_minor": 0
      },
      "text/plain": [
       "  0%|          | 0/3846 [00:00<?, ?it/s]"
      ]
     },
     "metadata": {},
     "output_type": "display_data"
    },
    {
     "name": "stderr",
     "output_type": "stream",
     "text": [
      "INFO - 2024-07-12T13:35:14Z - Successfully downloaded to /home/jovyan/shared/data/copernicus/cmems_obs-oc_glo_bgc-plankton_my_l3-multi-4km_P1D/199805.nc\n",
      "INFO - 2024-07-12T13:35:15Z - Dataset version was not specified, the latest one was selected: \"202311\"\n",
      "INFO - 2024-07-12T13:35:15Z - Dataset part was not specified, the first one was selected: \"default\"\n",
      "INFO - 2024-07-12T13:35:19Z - Service was not specified, the default one was selected: \"arco-geo-series\"\n",
      "INFO - 2024-07-12T13:35:22Z - Downloading using service arco-geo-series...\n",
      "INFO - 2024-07-12T13:35:29Z - Estimated size of the dataset file is 522.357 MB.\n",
      "INFO - 2024-07-12T13:35:29Z - Writing to local storage. Please wait...\n"
     ]
    },
    {
     "data": {
      "application/vnd.jupyter.widget-view+json": {
       "model_id": "cde70778a970444e969ebeaa1051a0d8",
       "version_major": 2,
       "version_minor": 0
      },
      "text/plain": [
       "  0%|          | 0/3722 [00:00<?, ?it/s]"
      ]
     },
     "metadata": {},
     "output_type": "display_data"
    },
    {
     "name": "stderr",
     "output_type": "stream",
     "text": [
      "INFO - 2024-07-12T13:36:29Z - Successfully downloaded to /home/jovyan/shared/data/copernicus/cmems_obs-oc_glo_bgc-plankton_my_l3-multi-4km_P1D/199806.nc\n",
      "INFO - 2024-07-12T13:36:30Z - Dataset version was not specified, the latest one was selected: \"202311\"\n",
      "INFO - 2024-07-12T13:36:30Z - Dataset part was not specified, the first one was selected: \"default\"\n",
      "INFO - 2024-07-12T13:36:33Z - Service was not specified, the default one was selected: \"arco-geo-series\"\n",
      "INFO - 2024-07-12T13:36:37Z - Downloading using service arco-geo-series...\n",
      "INFO - 2024-07-12T13:36:44Z - Estimated size of the dataset file is 539.769 MB.\n",
      "INFO - 2024-07-12T13:36:44Z - Writing to local storage. Please wait...\n"
     ]
    },
    {
     "data": {
      "application/vnd.jupyter.widget-view+json": {
       "model_id": "6e0cb9adc28848c7b1d8f3a8f281d612",
       "version_major": 2,
       "version_minor": 0
      },
      "text/plain": [
       "  0%|          | 0/3846 [00:00<?, ?it/s]"
      ]
     },
     "metadata": {},
     "output_type": "display_data"
    },
    {
     "name": "stderr",
     "output_type": "stream",
     "text": [
      "INFO - 2024-07-12T13:37:44Z - Successfully downloaded to /home/jovyan/shared/data/copernicus/cmems_obs-oc_glo_bgc-plankton_my_l3-multi-4km_P1D/199807.nc\n",
      "INFO - 2024-07-12T13:37:45Z - Dataset version was not specified, the latest one was selected: \"202311\"\n",
      "INFO - 2024-07-12T13:37:45Z - Dataset part was not specified, the first one was selected: \"default\"\n",
      "INFO - 2024-07-12T13:37:48Z - Service was not specified, the default one was selected: \"arco-geo-series\"\n",
      "INFO - 2024-07-12T13:37:52Z - Downloading using service arco-geo-series...\n",
      "INFO - 2024-07-12T13:37:58Z - Estimated size of the dataset file is 539.769 MB.\n",
      "INFO - 2024-07-12T13:37:58Z - Writing to local storage. Please wait...\n"
     ]
    },
    {
     "data": {
      "application/vnd.jupyter.widget-view+json": {
       "model_id": "b8502394a2de4341b60c21745098961f",
       "version_major": 2,
       "version_minor": 0
      },
      "text/plain": [
       "  0%|          | 0/3846 [00:00<?, ?it/s]"
      ]
     },
     "metadata": {},
     "output_type": "display_data"
    },
    {
     "name": "stderr",
     "output_type": "stream",
     "text": [
      "INFO - 2024-07-12T13:39:00Z - Successfully downloaded to /home/jovyan/shared/data/copernicus/cmems_obs-oc_glo_bgc-plankton_my_l3-multi-4km_P1D/199808.nc\n",
      "INFO - 2024-07-12T13:39:01Z - Dataset version was not specified, the latest one was selected: \"202311\"\n",
      "INFO - 2024-07-12T13:39:01Z - Dataset part was not specified, the first one was selected: \"default\"\n",
      "INFO - 2024-07-12T13:39:05Z - Service was not specified, the default one was selected: \"arco-geo-series\"\n",
      "INFO - 2024-07-12T13:39:08Z - Downloading using service arco-geo-series...\n",
      "INFO - 2024-07-12T13:39:15Z - Estimated size of the dataset file is 522.357 MB.\n",
      "INFO - 2024-07-12T13:39:15Z - Writing to local storage. Please wait...\n"
     ]
    },
    {
     "data": {
      "application/vnd.jupyter.widget-view+json": {
       "model_id": "b02bc7c6b6b64c92adfffa1429767b40",
       "version_major": 2,
       "version_minor": 0
      },
      "text/plain": [
       "  0%|          | 0/3722 [00:00<?, ?it/s]"
      ]
     },
     "metadata": {},
     "output_type": "display_data"
    },
    {
     "name": "stderr",
     "output_type": "stream",
     "text": [
      "INFO - 2024-07-12T13:40:14Z - Successfully downloaded to /home/jovyan/shared/data/copernicus/cmems_obs-oc_glo_bgc-plankton_my_l3-multi-4km_P1D/199809.nc\n",
      "INFO - 2024-07-12T13:40:15Z - Dataset version was not specified, the latest one was selected: \"202311\"\n",
      "INFO - 2024-07-12T13:40:15Z - Dataset part was not specified, the first one was selected: \"default\"\n",
      "INFO - 2024-07-12T13:40:19Z - Service was not specified, the default one was selected: \"arco-geo-series\"\n",
      "INFO - 2024-07-12T13:40:22Z - Downloading using service arco-geo-series...\n",
      "INFO - 2024-07-12T13:40:29Z - Estimated size of the dataset file is 539.769 MB.\n",
      "INFO - 2024-07-12T13:40:29Z - Writing to local storage. Please wait...\n"
     ]
    },
    {
     "data": {
      "application/vnd.jupyter.widget-view+json": {
       "model_id": "4dc798f9e3f547808c022664fbb112c4",
       "version_major": 2,
       "version_minor": 0
      },
      "text/plain": [
       "  0%|          | 0/3846 [00:00<?, ?it/s]"
      ]
     },
     "metadata": {},
     "output_type": "display_data"
    },
    {
     "name": "stderr",
     "output_type": "stream",
     "text": [
      "INFO - 2024-07-12T13:41:31Z - Successfully downloaded to /home/jovyan/shared/data/copernicus/cmems_obs-oc_glo_bgc-plankton_my_l3-multi-4km_P1D/199810.nc\n",
      "INFO - 2024-07-12T13:41:32Z - Dataset version was not specified, the latest one was selected: \"202311\"\n",
      "INFO - 2024-07-12T13:41:32Z - Dataset part was not specified, the first one was selected: \"default\"\n",
      "INFO - 2024-07-12T13:41:36Z - Service was not specified, the default one was selected: \"arco-geo-series\"\n",
      "INFO - 2024-07-12T13:41:39Z - Downloading using service arco-geo-series...\n",
      "INFO - 2024-07-12T13:41:46Z - Estimated size of the dataset file is 522.357 MB.\n",
      "INFO - 2024-07-12T13:41:46Z - Writing to local storage. Please wait...\n"
     ]
    },
    {
     "data": {
      "application/vnd.jupyter.widget-view+json": {
       "model_id": "908f0362bd3d4dc4b20e7fff451b0c48",
       "version_major": 2,
       "version_minor": 0
      },
      "text/plain": [
       "  0%|          | 0/3722 [00:00<?, ?it/s]"
      ]
     },
     "metadata": {},
     "output_type": "display_data"
    },
    {
     "name": "stderr",
     "output_type": "stream",
     "text": [
      "INFO - 2024-07-12T13:42:41Z - Successfully downloaded to /home/jovyan/shared/data/copernicus/cmems_obs-oc_glo_bgc-plankton_my_l3-multi-4km_P1D/199811.nc\n",
      "INFO - 2024-07-12T13:42:42Z - Dataset version was not specified, the latest one was selected: \"202311\"\n",
      "INFO - 2024-07-12T13:42:42Z - Dataset part was not specified, the first one was selected: \"default\"\n",
      "INFO - 2024-07-12T13:42:46Z - Service was not specified, the default one was selected: \"arco-geo-series\"\n",
      "INFO - 2024-07-12T13:42:50Z - Downloading using service arco-geo-series...\n",
      "INFO - 2024-07-12T13:42:57Z - Estimated size of the dataset file is 539.769 MB.\n",
      "INFO - 2024-07-12T13:42:57Z - Writing to local storage. Please wait...\n"
     ]
    },
    {
     "data": {
      "application/vnd.jupyter.widget-view+json": {
       "model_id": "f94b391c169a4ab08976dfd0009aca15",
       "version_major": 2,
       "version_minor": 0
      },
      "text/plain": [
       "  0%|          | 0/3846 [00:00<?, ?it/s]"
      ]
     },
     "metadata": {},
     "output_type": "display_data"
    },
    {
     "name": "stderr",
     "output_type": "stream",
     "text": [
      "INFO - 2024-07-12T13:43:58Z - Successfully downloaded to /home/jovyan/shared/data/copernicus/cmems_obs-oc_glo_bgc-plankton_my_l3-multi-4km_P1D/199812.nc\n",
      "INFO - 2024-07-12T13:43:59Z - Dataset version was not specified, the latest one was selected: \"202311\"\n",
      "INFO - 2024-07-12T13:43:59Z - Dataset part was not specified, the first one was selected: \"default\"\n",
      "INFO - 2024-07-12T13:44:03Z - Service was not specified, the default one was selected: \"arco-geo-series\"\n",
      "INFO - 2024-07-12T13:44:06Z - Downloading using service arco-geo-series...\n",
      "INFO - 2024-07-12T13:44:13Z - Estimated size of the dataset file is 539.769 MB.\n",
      "INFO - 2024-07-12T13:44:13Z - Writing to local storage. Please wait...\n"
     ]
    },
    {
     "data": {
      "application/vnd.jupyter.widget-view+json": {
       "model_id": "cea23d689c4946e383d6296614deed23",
       "version_major": 2,
       "version_minor": 0
      },
      "text/plain": [
       "  0%|          | 0/3846 [00:00<?, ?it/s]"
      ]
     },
     "metadata": {},
     "output_type": "display_data"
    },
    {
     "name": "stderr",
     "output_type": "stream",
     "text": [
      "INFO - 2024-07-12T13:45:12Z - Successfully downloaded to /home/jovyan/shared/data/copernicus/cmems_obs-oc_glo_bgc-plankton_my_l3-multi-4km_P1D/199901.nc\n",
      "INFO - 2024-07-12T13:45:14Z - Dataset version was not specified, the latest one was selected: \"202311\"\n",
      "INFO - 2024-07-12T13:45:14Z - Dataset part was not specified, the first one was selected: \"default\"\n",
      "INFO - 2024-07-12T13:45:18Z - Service was not specified, the default one was selected: \"arco-geo-series\"\n",
      "INFO - 2024-07-12T13:45:21Z - Downloading using service arco-geo-series...\n",
      "INFO - 2024-07-12T13:45:28Z - Estimated size of the dataset file is 487.533 MB.\n",
      "INFO - 2024-07-12T13:45:28Z - Writing to local storage. Please wait...\n"
     ]
    },
    {
     "data": {
      "application/vnd.jupyter.widget-view+json": {
       "model_id": "57f56c8a9d8e492eb12fa8da8ae2d58d",
       "version_major": 2,
       "version_minor": 0
      },
      "text/plain": [
       "  0%|          | 0/3474 [00:00<?, ?it/s]"
      ]
     },
     "metadata": {},
     "output_type": "display_data"
    },
    {
     "name": "stderr",
     "output_type": "stream",
     "text": [
      "INFO - 2024-07-12T13:46:25Z - Successfully downloaded to /home/jovyan/shared/data/copernicus/cmems_obs-oc_glo_bgc-plankton_my_l3-multi-4km_P1D/199902.nc\n",
      "INFO - 2024-07-12T13:46:26Z - Dataset version was not specified, the latest one was selected: \"202311\"\n",
      "INFO - 2024-07-12T13:46:26Z - Dataset part was not specified, the first one was selected: \"default\"\n",
      "INFO - 2024-07-12T13:46:30Z - Service was not specified, the default one was selected: \"arco-geo-series\"\n",
      "INFO - 2024-07-12T13:46:33Z - Downloading using service arco-geo-series...\n",
      "INFO - 2024-07-12T13:46:40Z - Estimated size of the dataset file is 539.769 MB.\n",
      "INFO - 2024-07-12T13:46:40Z - Writing to local storage. Please wait...\n"
     ]
    },
    {
     "data": {
      "application/vnd.jupyter.widget-view+json": {
       "model_id": "dfbbbc068016484ca336d8dde634b068",
       "version_major": 2,
       "version_minor": 0
      },
      "text/plain": [
       "  0%|          | 0/3846 [00:00<?, ?it/s]"
      ]
     },
     "metadata": {},
     "output_type": "display_data"
    },
    {
     "name": "stderr",
     "output_type": "stream",
     "text": [
      "INFO - 2024-07-12T13:47:42Z - Successfully downloaded to /home/jovyan/shared/data/copernicus/cmems_obs-oc_glo_bgc-plankton_my_l3-multi-4km_P1D/199903.nc\n",
      "INFO - 2024-07-12T13:47:43Z - Dataset version was not specified, the latest one was selected: \"202311\"\n",
      "INFO - 2024-07-12T13:47:43Z - Dataset part was not specified, the first one was selected: \"default\"\n",
      "INFO - 2024-07-12T13:47:47Z - Service was not specified, the default one was selected: \"arco-geo-series\"\n",
      "INFO - 2024-07-12T13:47:50Z - Downloading using service arco-geo-series...\n",
      "INFO - 2024-07-12T13:47:57Z - Estimated size of the dataset file is 522.357 MB.\n",
      "INFO - 2024-07-12T13:47:57Z - Writing to local storage. Please wait...\n"
     ]
    },
    {
     "data": {
      "application/vnd.jupyter.widget-view+json": {
       "model_id": "bd1006391044430a835eb588ff3da1d8",
       "version_major": 2,
       "version_minor": 0
      },
      "text/plain": [
       "  0%|          | 0/3722 [00:00<?, ?it/s]"
      ]
     },
     "metadata": {},
     "output_type": "display_data"
    },
    {
     "name": "stderr",
     "output_type": "stream",
     "text": [
      "INFO - 2024-07-12T13:48:57Z - Successfully downloaded to /home/jovyan/shared/data/copernicus/cmems_obs-oc_glo_bgc-plankton_my_l3-multi-4km_P1D/199904.nc\n",
      "INFO - 2024-07-12T13:48:58Z - Dataset version was not specified, the latest one was selected: \"202311\"\n",
      "INFO - 2024-07-12T13:48:58Z - Dataset part was not specified, the first one was selected: \"default\"\n",
      "INFO - 2024-07-12T13:49:01Z - Service was not specified, the default one was selected: \"arco-geo-series\"\n",
      "INFO - 2024-07-12T13:49:05Z - Downloading using service arco-geo-series...\n",
      "INFO - 2024-07-12T13:49:11Z - Estimated size of the dataset file is 539.769 MB.\n",
      "INFO - 2024-07-12T13:49:11Z - Writing to local storage. Please wait...\n"
     ]
    },
    {
     "data": {
      "application/vnd.jupyter.widget-view+json": {
       "model_id": "5d0bd08ec4d1496fb71c096dcc51d678",
       "version_major": 2,
       "version_minor": 0
      },
      "text/plain": [
       "  0%|          | 0/3846 [00:00<?, ?it/s]"
      ]
     },
     "metadata": {},
     "output_type": "display_data"
    },
    {
     "name": "stderr",
     "output_type": "stream",
     "text": [
      "INFO - 2024-07-12T13:50:14Z - Successfully downloaded to /home/jovyan/shared/data/copernicus/cmems_obs-oc_glo_bgc-plankton_my_l3-multi-4km_P1D/199905.nc\n",
      "INFO - 2024-07-12T13:50:15Z - Dataset version was not specified, the latest one was selected: \"202311\"\n",
      "INFO - 2024-07-12T13:50:15Z - Dataset part was not specified, the first one was selected: \"default\"\n",
      "INFO - 2024-07-12T13:50:18Z - Service was not specified, the default one was selected: \"arco-geo-series\"\n",
      "INFO - 2024-07-12T13:50:22Z - Downloading using service arco-geo-series...\n",
      "INFO - 2024-07-12T13:50:28Z - Estimated size of the dataset file is 522.357 MB.\n",
      "INFO - 2024-07-12T13:50:28Z - Writing to local storage. Please wait...\n"
     ]
    },
    {
     "data": {
      "application/vnd.jupyter.widget-view+json": {
       "model_id": "6af92384c4314b74ba673149ed192c5e",
       "version_major": 2,
       "version_minor": 0
      },
      "text/plain": [
       "  0%|          | 0/3722 [00:00<?, ?it/s]"
      ]
     },
     "metadata": {},
     "output_type": "display_data"
    },
    {
     "name": "stderr",
     "output_type": "stream",
     "text": [
      "INFO - 2024-07-12T13:51:28Z - Successfully downloaded to /home/jovyan/shared/data/copernicus/cmems_obs-oc_glo_bgc-plankton_my_l3-multi-4km_P1D/199906.nc\n",
      "INFO - 2024-07-12T13:51:29Z - Dataset version was not specified, the latest one was selected: \"202311\"\n",
      "INFO - 2024-07-12T13:51:29Z - Dataset part was not specified, the first one was selected: \"default\"\n",
      "INFO - 2024-07-12T13:51:32Z - Service was not specified, the default one was selected: \"arco-geo-series\"\n",
      "INFO - 2024-07-12T13:51:35Z - Downloading using service arco-geo-series...\n",
      "INFO - 2024-07-12T13:51:43Z - Estimated size of the dataset file is 539.769 MB.\n",
      "INFO - 2024-07-12T13:51:43Z - Writing to local storage. Please wait...\n"
     ]
    },
    {
     "data": {
      "application/vnd.jupyter.widget-view+json": {
       "model_id": "e0c882269fa442ed954464b61a66309e",
       "version_major": 2,
       "version_minor": 0
      },
      "text/plain": [
       "  0%|          | 0/3846 [00:00<?, ?it/s]"
      ]
     },
     "metadata": {},
     "output_type": "display_data"
    },
    {
     "name": "stderr",
     "output_type": "stream",
     "text": [
      "INFO - 2024-07-12T13:52:45Z - Successfully downloaded to /home/jovyan/shared/data/copernicus/cmems_obs-oc_glo_bgc-plankton_my_l3-multi-4km_P1D/199907.nc\n",
      "INFO - 2024-07-12T13:52:46Z - Dataset version was not specified, the latest one was selected: \"202311\"\n",
      "INFO - 2024-07-12T13:52:46Z - Dataset part was not specified, the first one was selected: \"default\"\n",
      "INFO - 2024-07-12T13:52:49Z - Service was not specified, the default one was selected: \"arco-geo-series\"\n",
      "INFO - 2024-07-12T13:52:53Z - Downloading using service arco-geo-series...\n",
      "INFO - 2024-07-12T13:53:00Z - Estimated size of the dataset file is 539.769 MB.\n",
      "INFO - 2024-07-12T13:53:00Z - Writing to local storage. Please wait...\n"
     ]
    },
    {
     "data": {
      "application/vnd.jupyter.widget-view+json": {
       "model_id": "9113337d370c4933a6810712eeccb018",
       "version_major": 2,
       "version_minor": 0
      },
      "text/plain": [
       "  0%|          | 0/3846 [00:00<?, ?it/s]"
      ]
     },
     "metadata": {},
     "output_type": "display_data"
    },
    {
     "name": "stderr",
     "output_type": "stream",
     "text": [
      "INFO - 2024-07-12T13:54:01Z - Successfully downloaded to /home/jovyan/shared/data/copernicus/cmems_obs-oc_glo_bgc-plankton_my_l3-multi-4km_P1D/199908.nc\n",
      "INFO - 2024-07-12T13:54:02Z - Dataset version was not specified, the latest one was selected: \"202311\"\n",
      "INFO - 2024-07-12T13:54:02Z - Dataset part was not specified, the first one was selected: \"default\"\n",
      "INFO - 2024-07-12T13:54:06Z - Service was not specified, the default one was selected: \"arco-geo-series\"\n",
      "INFO - 2024-07-12T13:54:09Z - Downloading using service arco-geo-series...\n",
      "INFO - 2024-07-12T13:54:16Z - Estimated size of the dataset file is 522.357 MB.\n",
      "INFO - 2024-07-12T13:54:16Z - Writing to local storage. Please wait...\n"
     ]
    },
    {
     "data": {
      "application/vnd.jupyter.widget-view+json": {
       "model_id": "cafbbdc01a76458eab4e639c6b41ccf5",
       "version_major": 2,
       "version_minor": 0
      },
      "text/plain": [
       "  0%|          | 0/3722 [00:00<?, ?it/s]"
      ]
     },
     "metadata": {},
     "output_type": "display_data"
    },
    {
     "name": "stderr",
     "output_type": "stream",
     "text": [
      "INFO - 2024-07-12T13:55:16Z - Successfully downloaded to /home/jovyan/shared/data/copernicus/cmems_obs-oc_glo_bgc-plankton_my_l3-multi-4km_P1D/199909.nc\n",
      "INFO - 2024-07-12T13:55:17Z - Dataset version was not specified, the latest one was selected: \"202311\"\n",
      "INFO - 2024-07-12T13:55:17Z - Dataset part was not specified, the first one was selected: \"default\"\n",
      "INFO - 2024-07-12T13:55:21Z - Service was not specified, the default one was selected: \"arco-geo-series\"\n",
      "INFO - 2024-07-12T13:55:24Z - Downloading using service arco-geo-series...\n",
      "INFO - 2024-07-12T13:55:32Z - Estimated size of the dataset file is 539.769 MB.\n",
      "INFO - 2024-07-12T13:55:32Z - Writing to local storage. Please wait...\n"
     ]
    },
    {
     "data": {
      "application/vnd.jupyter.widget-view+json": {
       "model_id": "f1c3cbdc0c4749e9804febc92625da23",
       "version_major": 2,
       "version_minor": 0
      },
      "text/plain": [
       "  0%|          | 0/3846 [00:00<?, ?it/s]"
      ]
     },
     "metadata": {},
     "output_type": "display_data"
    },
    {
     "name": "stderr",
     "output_type": "stream",
     "text": [
      "INFO - 2024-07-12T13:56:34Z - Successfully downloaded to /home/jovyan/shared/data/copernicus/cmems_obs-oc_glo_bgc-plankton_my_l3-multi-4km_P1D/199910.nc\n",
      "INFO - 2024-07-12T13:56:35Z - Dataset version was not specified, the latest one was selected: \"202311\"\n",
      "INFO - 2024-07-12T13:56:35Z - Dataset part was not specified, the first one was selected: \"default\"\n",
      "INFO - 2024-07-12T13:56:38Z - Service was not specified, the default one was selected: \"arco-geo-series\"\n",
      "INFO - 2024-07-12T13:56:42Z - Downloading using service arco-geo-series...\n",
      "INFO - 2024-07-12T13:56:49Z - Estimated size of the dataset file is 522.357 MB.\n",
      "INFO - 2024-07-12T13:56:49Z - Writing to local storage. Please wait...\n"
     ]
    },
    {
     "data": {
      "application/vnd.jupyter.widget-view+json": {
       "model_id": "2fff92669c864f80bd6b76325ebe2b92",
       "version_major": 2,
       "version_minor": 0
      },
      "text/plain": [
       "  0%|          | 0/3722 [00:00<?, ?it/s]"
      ]
     },
     "metadata": {},
     "output_type": "display_data"
    },
    {
     "name": "stderr",
     "output_type": "stream",
     "text": [
      "INFO - 2024-07-12T13:57:45Z - Successfully downloaded to /home/jovyan/shared/data/copernicus/cmems_obs-oc_glo_bgc-plankton_my_l3-multi-4km_P1D/199911.nc\n",
      "INFO - 2024-07-12T13:57:46Z - Dataset version was not specified, the latest one was selected: \"202311\"\n",
      "INFO - 2024-07-12T13:57:46Z - Dataset part was not specified, the first one was selected: \"default\"\n",
      "INFO - 2024-07-12T13:57:50Z - Service was not specified, the default one was selected: \"arco-geo-series\"\n",
      "INFO - 2024-07-12T13:57:53Z - Downloading using service arco-geo-series...\n",
      "INFO - 2024-07-12T13:58:01Z - Estimated size of the dataset file is 539.769 MB.\n",
      "INFO - 2024-07-12T13:58:01Z - Writing to local storage. Please wait...\n"
     ]
    },
    {
     "data": {
      "application/vnd.jupyter.widget-view+json": {
       "model_id": "d842c06c51f441e6834119e430f8f4c9",
       "version_major": 2,
       "version_minor": 0
      },
      "text/plain": [
       "  0%|          | 0/3846 [00:00<?, ?it/s]"
      ]
     },
     "metadata": {},
     "output_type": "display_data"
    },
    {
     "name": "stderr",
     "output_type": "stream",
     "text": [
      "INFO - 2024-07-12T13:59:03Z - Successfully downloaded to /home/jovyan/shared/data/copernicus/cmems_obs-oc_glo_bgc-plankton_my_l3-multi-4km_P1D/199912.nc\n",
      "INFO - 2024-07-12T13:59:04Z - Dataset version was not specified, the latest one was selected: \"202311\"\n",
      "INFO - 2024-07-12T13:59:04Z - Dataset part was not specified, the first one was selected: \"default\"\n",
      "INFO - 2024-07-12T13:59:07Z - Service was not specified, the default one was selected: \"arco-geo-series\"\n",
      "INFO - 2024-07-12T13:59:11Z - Downloading using service arco-geo-series...\n",
      "INFO - 2024-07-12T13:59:18Z - Estimated size of the dataset file is 539.769 MB.\n",
      "INFO - 2024-07-12T13:59:18Z - Writing to local storage. Please wait...\n"
     ]
    },
    {
     "data": {
      "application/vnd.jupyter.widget-view+json": {
       "model_id": "1673bbd7d39844b99b2c14dcb9356fc7",
       "version_major": 2,
       "version_minor": 0
      },
      "text/plain": [
       "  0%|          | 0/3846 [00:00<?, ?it/s]"
      ]
     },
     "metadata": {},
     "output_type": "display_data"
    },
    {
     "name": "stderr",
     "output_type": "stream",
     "text": [
      "INFO - 2024-07-12T14:00:21Z - Successfully downloaded to /home/jovyan/shared/data/copernicus/cmems_obs-oc_glo_bgc-plankton_my_l3-multi-4km_P1D/200001.nc\n",
      "INFO - 2024-07-12T14:00:22Z - Dataset version was not specified, the latest one was selected: \"202311\"\n",
      "INFO - 2024-07-12T14:00:22Z - Dataset part was not specified, the first one was selected: \"default\"\n",
      "INFO - 2024-07-12T14:00:25Z - Service was not specified, the default one was selected: \"arco-geo-series\"\n",
      "INFO - 2024-07-12T14:00:29Z - Downloading using service arco-geo-series...\n",
      "INFO - 2024-07-12T14:00:35Z - Estimated size of the dataset file is 504.945 MB.\n",
      "INFO - 2024-07-12T14:00:35Z - Writing to local storage. Please wait...\n"
     ]
    },
    {
     "data": {
      "application/vnd.jupyter.widget-view+json": {
       "model_id": "14d88e8ae5dc4583a169aed1326cc5f9",
       "version_major": 2,
       "version_minor": 0
      },
      "text/plain": [
       "  0%|          | 0/3598 [00:00<?, ?it/s]"
      ]
     },
     "metadata": {},
     "output_type": "display_data"
    },
    {
     "name": "stderr",
     "output_type": "stream",
     "text": [
      "INFO - 2024-07-12T14:01:34Z - Successfully downloaded to /home/jovyan/shared/data/copernicus/cmems_obs-oc_glo_bgc-plankton_my_l3-multi-4km_P1D/200002.nc\n",
      "INFO - 2024-07-12T14:01:35Z - Dataset version was not specified, the latest one was selected: \"202311\"\n",
      "INFO - 2024-07-12T14:01:35Z - Dataset part was not specified, the first one was selected: \"default\"\n",
      "INFO - 2024-07-12T14:01:38Z - Service was not specified, the default one was selected: \"arco-geo-series\"\n",
      "INFO - 2024-07-12T14:01:42Z - Downloading using service arco-geo-series...\n",
      "INFO - 2024-07-12T14:01:49Z - Estimated size of the dataset file is 539.769 MB.\n",
      "INFO - 2024-07-12T14:01:49Z - Writing to local storage. Please wait...\n"
     ]
    },
    {
     "data": {
      "application/vnd.jupyter.widget-view+json": {
       "model_id": "f61b1ae4761e42e8b4aac48e7f5d94c7",
       "version_major": 2,
       "version_minor": 0
      },
      "text/plain": [
       "  0%|          | 0/3846 [00:00<?, ?it/s]"
      ]
     },
     "metadata": {},
     "output_type": "display_data"
    },
    {
     "name": "stderr",
     "output_type": "stream",
     "text": [
      "INFO - 2024-07-12T14:02:52Z - Successfully downloaded to /home/jovyan/shared/data/copernicus/cmems_obs-oc_glo_bgc-plankton_my_l3-multi-4km_P1D/200003.nc\n",
      "INFO - 2024-07-12T14:02:53Z - Dataset version was not specified, the latest one was selected: \"202311\"\n",
      "INFO - 2024-07-12T14:02:53Z - Dataset part was not specified, the first one was selected: \"default\"\n",
      "INFO - 2024-07-12T14:02:57Z - Service was not specified, the default one was selected: \"arco-geo-series\"\n",
      "INFO - 2024-07-12T14:03:00Z - Downloading using service arco-geo-series...\n",
      "INFO - 2024-07-12T14:03:07Z - Estimated size of the dataset file is 522.357 MB.\n",
      "INFO - 2024-07-12T14:03:07Z - Writing to local storage. Please wait...\n"
     ]
    },
    {
     "data": {
      "application/vnd.jupyter.widget-view+json": {
       "model_id": "e0697ad8f7b5431587a13dc53f993818",
       "version_major": 2,
       "version_minor": 0
      },
      "text/plain": [
       "  0%|          | 0/3722 [00:00<?, ?it/s]"
      ]
     },
     "metadata": {},
     "output_type": "display_data"
    },
    {
     "name": "stderr",
     "output_type": "stream",
     "text": [
      "INFO - 2024-07-12T14:04:07Z - Successfully downloaded to /home/jovyan/shared/data/copernicus/cmems_obs-oc_glo_bgc-plankton_my_l3-multi-4km_P1D/200004.nc\n",
      "INFO - 2024-07-12T14:04:08Z - Dataset version was not specified, the latest one was selected: \"202311\"\n",
      "INFO - 2024-07-12T14:04:08Z - Dataset part was not specified, the first one was selected: \"default\"\n",
      "INFO - 2024-07-12T14:04:12Z - Service was not specified, the default one was selected: \"arco-geo-series\"\n",
      "INFO - 2024-07-12T14:04:15Z - Downloading using service arco-geo-series...\n",
      "INFO - 2024-07-12T14:04:22Z - Estimated size of the dataset file is 539.769 MB.\n",
      "INFO - 2024-07-12T14:04:22Z - Writing to local storage. Please wait...\n"
     ]
    },
    {
     "data": {
      "application/vnd.jupyter.widget-view+json": {
       "model_id": "d3b4b6ce97a24f819c4636bcae0a2ec2",
       "version_major": 2,
       "version_minor": 0
      },
      "text/plain": [
       "  0%|          | 0/3846 [00:00<?, ?it/s]"
      ]
     },
     "metadata": {},
     "output_type": "display_data"
    },
    {
     "name": "stderr",
     "output_type": "stream",
     "text": [
      "INFO - 2024-07-12T14:05:24Z - Successfully downloaded to /home/jovyan/shared/data/copernicus/cmems_obs-oc_glo_bgc-plankton_my_l3-multi-4km_P1D/200005.nc\n",
      "INFO - 2024-07-12T14:05:26Z - Dataset version was not specified, the latest one was selected: \"202311\"\n",
      "INFO - 2024-07-12T14:05:26Z - Dataset part was not specified, the first one was selected: \"default\"\n",
      "INFO - 2024-07-12T14:05:29Z - Service was not specified, the default one was selected: \"arco-geo-series\"\n",
      "INFO - 2024-07-12T14:05:32Z - Downloading using service arco-geo-series...\n",
      "INFO - 2024-07-12T14:05:39Z - Estimated size of the dataset file is 522.357 MB.\n",
      "INFO - 2024-07-12T14:05:39Z - Writing to local storage. Please wait...\n"
     ]
    },
    {
     "data": {
      "application/vnd.jupyter.widget-view+json": {
       "model_id": "8b75bc01b39a48c588a218cda6fd28ba",
       "version_major": 2,
       "version_minor": 0
      },
      "text/plain": [
       "  0%|          | 0/3722 [00:00<?, ?it/s]"
      ]
     },
     "metadata": {},
     "output_type": "display_data"
    },
    {
     "name": "stderr",
     "output_type": "stream",
     "text": [
      "INFO - 2024-07-12T14:06:40Z - Successfully downloaded to /home/jovyan/shared/data/copernicus/cmems_obs-oc_glo_bgc-plankton_my_l3-multi-4km_P1D/200006.nc\n",
      "INFO - 2024-07-12T14:06:41Z - Dataset version was not specified, the latest one was selected: \"202311\"\n",
      "INFO - 2024-07-12T14:06:41Z - Dataset part was not specified, the first one was selected: \"default\"\n",
      "INFO - 2024-07-12T14:06:45Z - Service was not specified, the default one was selected: \"arco-geo-series\"\n",
      "INFO - 2024-07-12T14:06:48Z - Downloading using service arco-geo-series...\n",
      "INFO - 2024-07-12T14:06:55Z - Estimated size of the dataset file is 539.769 MB.\n",
      "INFO - 2024-07-12T14:06:55Z - Writing to local storage. Please wait...\n"
     ]
    },
    {
     "data": {
      "application/vnd.jupyter.widget-view+json": {
       "model_id": "f0770b50f9cb42159c7f8dc058937ad4",
       "version_major": 2,
       "version_minor": 0
      },
      "text/plain": [
       "  0%|          | 0/3846 [00:00<?, ?it/s]"
      ]
     },
     "metadata": {},
     "output_type": "display_data"
    },
    {
     "name": "stderr",
     "output_type": "stream",
     "text": [
      "INFO - 2024-07-12T14:07:57Z - Successfully downloaded to /home/jovyan/shared/data/copernicus/cmems_obs-oc_glo_bgc-plankton_my_l3-multi-4km_P1D/200007.nc\n",
      "INFO - 2024-07-12T14:07:59Z - Dataset version was not specified, the latest one was selected: \"202311\"\n",
      "INFO - 2024-07-12T14:07:59Z - Dataset part was not specified, the first one was selected: \"default\"\n",
      "INFO - 2024-07-12T14:08:02Z - Service was not specified, the default one was selected: \"arco-geo-series\"\n",
      "INFO - 2024-07-12T14:08:06Z - Downloading using service arco-geo-series...\n",
      "INFO - 2024-07-12T14:08:13Z - Estimated size of the dataset file is 539.769 MB.\n",
      "INFO - 2024-07-12T14:08:13Z - Writing to local storage. Please wait...\n"
     ]
    },
    {
     "data": {
      "application/vnd.jupyter.widget-view+json": {
       "model_id": "d032b2e565df4c0d9681bf62c7af0d14",
       "version_major": 2,
       "version_minor": 0
      },
      "text/plain": [
       "  0%|          | 0/3846 [00:00<?, ?it/s]"
      ]
     },
     "metadata": {},
     "output_type": "display_data"
    },
    {
     "name": "stderr",
     "output_type": "stream",
     "text": [
      "INFO - 2024-07-12T14:09:15Z - Successfully downloaded to /home/jovyan/shared/data/copernicus/cmems_obs-oc_glo_bgc-plankton_my_l3-multi-4km_P1D/200008.nc\n",
      "INFO - 2024-07-12T14:09:16Z - Dataset version was not specified, the latest one was selected: \"202311\"\n",
      "INFO - 2024-07-12T14:09:16Z - Dataset part was not specified, the first one was selected: \"default\"\n",
      "INFO - 2024-07-12T14:09:20Z - Service was not specified, the default one was selected: \"arco-geo-series\"\n",
      "INFO - 2024-07-12T14:09:23Z - Downloading using service arco-geo-series...\n",
      "INFO - 2024-07-12T14:09:30Z - Estimated size of the dataset file is 522.357 MB.\n",
      "INFO - 2024-07-12T14:09:30Z - Writing to local storage. Please wait...\n"
     ]
    },
    {
     "data": {
      "application/vnd.jupyter.widget-view+json": {
       "model_id": "a611259817df405d85f5723ab3af7e70",
       "version_major": 2,
       "version_minor": 0
      },
      "text/plain": [
       "  0%|          | 0/3722 [00:00<?, ?it/s]"
      ]
     },
     "metadata": {},
     "output_type": "display_data"
    },
    {
     "name": "stderr",
     "output_type": "stream",
     "text": [
      "INFO - 2024-07-12T14:10:31Z - Successfully downloaded to /home/jovyan/shared/data/copernicus/cmems_obs-oc_glo_bgc-plankton_my_l3-multi-4km_P1D/200009.nc\n",
      "INFO - 2024-07-12T14:10:32Z - Dataset version was not specified, the latest one was selected: \"202311\"\n",
      "INFO - 2024-07-12T14:10:32Z - Dataset part was not specified, the first one was selected: \"default\"\n",
      "INFO - 2024-07-12T14:10:35Z - Service was not specified, the default one was selected: \"arco-geo-series\"\n",
      "INFO - 2024-07-12T14:10:39Z - Downloading using service arco-geo-series...\n",
      "INFO - 2024-07-12T14:10:46Z - Estimated size of the dataset file is 539.769 MB.\n",
      "INFO - 2024-07-12T14:10:46Z - Writing to local storage. Please wait...\n"
     ]
    },
    {
     "data": {
      "application/vnd.jupyter.widget-view+json": {
       "model_id": "96709a439eb94000abc8e33ffa98cde8",
       "version_major": 2,
       "version_minor": 0
      },
      "text/plain": [
       "  0%|          | 0/3846 [00:00<?, ?it/s]"
      ]
     },
     "metadata": {},
     "output_type": "display_data"
    },
    {
     "name": "stderr",
     "output_type": "stream",
     "text": [
      "INFO - 2024-07-12T14:11:48Z - Successfully downloaded to /home/jovyan/shared/data/copernicus/cmems_obs-oc_glo_bgc-plankton_my_l3-multi-4km_P1D/200010.nc\n",
      "INFO - 2024-07-12T14:11:49Z - Dataset version was not specified, the latest one was selected: \"202311\"\n",
      "INFO - 2024-07-12T14:11:49Z - Dataset part was not specified, the first one was selected: \"default\"\n",
      "INFO - 2024-07-12T14:11:53Z - Service was not specified, the default one was selected: \"arco-geo-series\"\n",
      "INFO - 2024-07-12T14:11:56Z - Downloading using service arco-geo-series...\n",
      "INFO - 2024-07-12T14:12:03Z - Estimated size of the dataset file is 522.357 MB.\n",
      "INFO - 2024-07-12T14:12:03Z - Writing to local storage. Please wait...\n"
     ]
    },
    {
     "data": {
      "application/vnd.jupyter.widget-view+json": {
       "model_id": "846033fd6069470dbcf36bf8077a0422",
       "version_major": 2,
       "version_minor": 0
      },
      "text/plain": [
       "  0%|          | 0/3722 [00:00<?, ?it/s]"
      ]
     },
     "metadata": {},
     "output_type": "display_data"
    },
    {
     "name": "stderr",
     "output_type": "stream",
     "text": [
      "INFO - 2024-07-12T14:13:03Z - Successfully downloaded to /home/jovyan/shared/data/copernicus/cmems_obs-oc_glo_bgc-plankton_my_l3-multi-4km_P1D/200011.nc\n",
      "INFO - 2024-07-12T14:13:04Z - Dataset version was not specified, the latest one was selected: \"202311\"\n",
      "INFO - 2024-07-12T14:13:04Z - Dataset part was not specified, the first one was selected: \"default\"\n",
      "INFO - 2024-07-12T14:13:07Z - Service was not specified, the default one was selected: \"arco-geo-series\"\n",
      "INFO - 2024-07-12T14:13:11Z - Downloading using service arco-geo-series...\n",
      "INFO - 2024-07-12T14:13:17Z - Estimated size of the dataset file is 539.769 MB.\n",
      "INFO - 2024-07-12T14:13:17Z - Writing to local storage. Please wait...\n"
     ]
    },
    {
     "data": {
      "application/vnd.jupyter.widget-view+json": {
       "model_id": "5dec684e22584988a91ee7b439883f72",
       "version_major": 2,
       "version_minor": 0
      },
      "text/plain": [
       "  0%|          | 0/3846 [00:00<?, ?it/s]"
      ]
     },
     "metadata": {},
     "output_type": "display_data"
    },
    {
     "name": "stderr",
     "output_type": "stream",
     "text": [
      "INFO - 2024-07-12T14:14:20Z - Successfully downloaded to /home/jovyan/shared/data/copernicus/cmems_obs-oc_glo_bgc-plankton_my_l3-multi-4km_P1D/200012.nc\n",
      "INFO - 2024-07-12T14:14:21Z - Dataset version was not specified, the latest one was selected: \"202311\"\n",
      "INFO - 2024-07-12T14:14:21Z - Dataset part was not specified, the first one was selected: \"default\"\n",
      "INFO - 2024-07-12T14:14:24Z - Service was not specified, the default one was selected: \"arco-geo-series\"\n",
      "INFO - 2024-07-12T14:14:27Z - Downloading using service arco-geo-series...\n",
      "INFO - 2024-07-12T14:14:34Z - Estimated size of the dataset file is 539.769 MB.\n",
      "INFO - 2024-07-12T14:14:34Z - Writing to local storage. Please wait...\n"
     ]
    },
    {
     "data": {
      "application/vnd.jupyter.widget-view+json": {
       "model_id": "4395a6e3a88944c2a3535d150cd70210",
       "version_major": 2,
       "version_minor": 0
      },
      "text/plain": [
       "  0%|          | 0/3846 [00:00<?, ?it/s]"
      ]
     },
     "metadata": {},
     "output_type": "display_data"
    },
    {
     "name": "stderr",
     "output_type": "stream",
     "text": [
      "INFO - 2024-07-12T14:15:36Z - Successfully downloaded to /home/jovyan/shared/data/copernicus/cmems_obs-oc_glo_bgc-plankton_my_l3-multi-4km_P1D/200101.nc\n",
      "INFO - 2024-07-12T14:15:37Z - Dataset version was not specified, the latest one was selected: \"202311\"\n",
      "INFO - 2024-07-12T14:15:37Z - Dataset part was not specified, the first one was selected: \"default\"\n",
      "INFO - 2024-07-12T14:15:41Z - Service was not specified, the default one was selected: \"arco-geo-series\"\n",
      "INFO - 2024-07-12T14:15:44Z - Downloading using service arco-geo-series...\n",
      "INFO - 2024-07-12T14:15:51Z - Estimated size of the dataset file is 487.533 MB.\n",
      "INFO - 2024-07-12T14:15:51Z - Writing to local storage. Please wait...\n"
     ]
    },
    {
     "data": {
      "application/vnd.jupyter.widget-view+json": {
       "model_id": "c06b315f4e214c63acdaacd560dca485",
       "version_major": 2,
       "version_minor": 0
      },
      "text/plain": [
       "  0%|          | 0/3474 [00:00<?, ?it/s]"
      ]
     },
     "metadata": {},
     "output_type": "display_data"
    },
    {
     "name": "stderr",
     "output_type": "stream",
     "text": [
      "INFO - 2024-07-12T14:16:47Z - Successfully downloaded to /home/jovyan/shared/data/copernicus/cmems_obs-oc_glo_bgc-plankton_my_l3-multi-4km_P1D/200102.nc\n",
      "INFO - 2024-07-12T14:16:49Z - Dataset version was not specified, the latest one was selected: \"202311\"\n",
      "INFO - 2024-07-12T14:16:49Z - Dataset part was not specified, the first one was selected: \"default\"\n",
      "INFO - 2024-07-12T14:16:52Z - Service was not specified, the default one was selected: \"arco-geo-series\"\n",
      "INFO - 2024-07-12T14:16:55Z - Downloading using service arco-geo-series...\n",
      "INFO - 2024-07-12T14:17:03Z - Estimated size of the dataset file is 539.769 MB.\n",
      "INFO - 2024-07-12T14:17:03Z - Writing to local storage. Please wait...\n"
     ]
    },
    {
     "data": {
      "application/vnd.jupyter.widget-view+json": {
       "model_id": "ae95ec7dcf62447694b70a2afa2e8599",
       "version_major": 2,
       "version_minor": 0
      },
      "text/plain": [
       "  0%|          | 0/3846 [00:00<?, ?it/s]"
      ]
     },
     "metadata": {},
     "output_type": "display_data"
    },
    {
     "name": "stderr",
     "output_type": "stream",
     "text": [
      "INFO - 2024-07-12T14:18:06Z - Successfully downloaded to /home/jovyan/shared/data/copernicus/cmems_obs-oc_glo_bgc-plankton_my_l3-multi-4km_P1D/200103.nc\n",
      "INFO - 2024-07-12T14:18:07Z - Dataset version was not specified, the latest one was selected: \"202311\"\n",
      "INFO - 2024-07-12T14:18:07Z - Dataset part was not specified, the first one was selected: \"default\"\n",
      "INFO - 2024-07-12T14:18:11Z - Service was not specified, the default one was selected: \"arco-geo-series\"\n",
      "INFO - 2024-07-12T14:18:14Z - Downloading using service arco-geo-series...\n",
      "INFO - 2024-07-12T14:18:21Z - Estimated size of the dataset file is 522.357 MB.\n",
      "INFO - 2024-07-12T14:18:21Z - Writing to local storage. Please wait...\n"
     ]
    },
    {
     "data": {
      "application/vnd.jupyter.widget-view+json": {
       "model_id": "a2428f9bd59b45adbe5a4018605bf580",
       "version_major": 2,
       "version_minor": 0
      },
      "text/plain": [
       "  0%|          | 0/3722 [00:00<?, ?it/s]"
      ]
     },
     "metadata": {},
     "output_type": "display_data"
    },
    {
     "name": "stderr",
     "output_type": "stream",
     "text": [
      "INFO - 2024-07-12T14:19:21Z - Successfully downloaded to /home/jovyan/shared/data/copernicus/cmems_obs-oc_glo_bgc-plankton_my_l3-multi-4km_P1D/200104.nc\n",
      "INFO - 2024-07-12T14:19:22Z - Dataset version was not specified, the latest one was selected: \"202311\"\n",
      "INFO - 2024-07-12T14:19:22Z - Dataset part was not specified, the first one was selected: \"default\"\n",
      "INFO - 2024-07-12T14:19:25Z - Service was not specified, the default one was selected: \"arco-geo-series\"\n",
      "INFO - 2024-07-12T14:19:29Z - Downloading using service arco-geo-series...\n",
      "INFO - 2024-07-12T14:19:36Z - Estimated size of the dataset file is 539.769 MB.\n",
      "INFO - 2024-07-12T14:19:36Z - Writing to local storage. Please wait...\n"
     ]
    },
    {
     "data": {
      "application/vnd.jupyter.widget-view+json": {
       "model_id": "204feb4963064d1d865d341bd2b83ef6",
       "version_major": 2,
       "version_minor": 0
      },
      "text/plain": [
       "  0%|          | 0/3846 [00:00<?, ?it/s]"
      ]
     },
     "metadata": {},
     "output_type": "display_data"
    },
    {
     "name": "stderr",
     "output_type": "stream",
     "text": [
      "INFO - 2024-07-12T14:20:38Z - Successfully downloaded to /home/jovyan/shared/data/copernicus/cmems_obs-oc_glo_bgc-plankton_my_l3-multi-4km_P1D/200105.nc\n",
      "INFO - 2024-07-12T14:20:39Z - Dataset version was not specified, the latest one was selected: \"202311\"\n",
      "INFO - 2024-07-12T14:20:39Z - Dataset part was not specified, the first one was selected: \"default\"\n",
      "INFO - 2024-07-12T14:20:42Z - Service was not specified, the default one was selected: \"arco-geo-series\"\n",
      "INFO - 2024-07-12T14:20:45Z - Downloading using service arco-geo-series...\n",
      "INFO - 2024-07-12T14:20:52Z - Estimated size of the dataset file is 522.357 MB.\n",
      "INFO - 2024-07-12T14:20:52Z - Writing to local storage. Please wait...\n"
     ]
    },
    {
     "data": {
      "application/vnd.jupyter.widget-view+json": {
       "model_id": "652e933e17d4429db5baf5823013251f",
       "version_major": 2,
       "version_minor": 0
      },
      "text/plain": [
       "  0%|          | 0/3722 [00:00<?, ?it/s]"
      ]
     },
     "metadata": {},
     "output_type": "display_data"
    },
    {
     "name": "stderr",
     "output_type": "stream",
     "text": [
      "INFO - 2024-07-12T14:21:52Z - Successfully downloaded to /home/jovyan/shared/data/copernicus/cmems_obs-oc_glo_bgc-plankton_my_l3-multi-4km_P1D/200106.nc\n",
      "INFO - 2024-07-12T14:21:53Z - Dataset version was not specified, the latest one was selected: \"202311\"\n",
      "INFO - 2024-07-12T14:21:53Z - Dataset part was not specified, the first one was selected: \"default\"\n",
      "INFO - 2024-07-12T14:21:56Z - Service was not specified, the default one was selected: \"arco-geo-series\"\n",
      "INFO - 2024-07-12T14:21:59Z - Downloading using service arco-geo-series...\n",
      "INFO - 2024-07-12T14:22:06Z - Estimated size of the dataset file is 539.769 MB.\n",
      "INFO - 2024-07-12T14:22:06Z - Writing to local storage. Please wait...\n"
     ]
    },
    {
     "data": {
      "application/vnd.jupyter.widget-view+json": {
       "model_id": "c173fc2ad3eb483a958f3da75babb09e",
       "version_major": 2,
       "version_minor": 0
      },
      "text/plain": [
       "  0%|          | 0/3846 [00:00<?, ?it/s]"
      ]
     },
     "metadata": {},
     "output_type": "display_data"
    },
    {
     "name": "stderr",
     "output_type": "stream",
     "text": [
      "INFO - 2024-07-12T14:23:08Z - Successfully downloaded to /home/jovyan/shared/data/copernicus/cmems_obs-oc_glo_bgc-plankton_my_l3-multi-4km_P1D/200107.nc\n",
      "INFO - 2024-07-12T14:23:09Z - Dataset version was not specified, the latest one was selected: \"202311\"\n",
      "INFO - 2024-07-12T14:23:09Z - Dataset part was not specified, the first one was selected: \"default\"\n",
      "INFO - 2024-07-12T14:23:13Z - Service was not specified, the default one was selected: \"arco-geo-series\"\n",
      "INFO - 2024-07-12T14:23:16Z - Downloading using service arco-geo-series...\n",
      "INFO - 2024-07-12T14:23:23Z - Estimated size of the dataset file is 539.769 MB.\n",
      "INFO - 2024-07-12T14:23:23Z - Writing to local storage. Please wait...\n"
     ]
    },
    {
     "data": {
      "application/vnd.jupyter.widget-view+json": {
       "model_id": "96c08be9720048b5bd4763f387e32c1e",
       "version_major": 2,
       "version_minor": 0
      },
      "text/plain": [
       "  0%|          | 0/3846 [00:00<?, ?it/s]"
      ]
     },
     "metadata": {},
     "output_type": "display_data"
    },
    {
     "name": "stderr",
     "output_type": "stream",
     "text": [
      "INFO - 2024-07-12T14:24:25Z - Successfully downloaded to /home/jovyan/shared/data/copernicus/cmems_obs-oc_glo_bgc-plankton_my_l3-multi-4km_P1D/200108.nc\n",
      "INFO - 2024-07-12T14:24:26Z - Dataset version was not specified, the latest one was selected: \"202311\"\n",
      "INFO - 2024-07-12T14:24:26Z - Dataset part was not specified, the first one was selected: \"default\"\n",
      "INFO - 2024-07-12T14:24:29Z - Service was not specified, the default one was selected: \"arco-geo-series\"\n",
      "INFO - 2024-07-12T14:24:32Z - Downloading using service arco-geo-series...\n",
      "INFO - 2024-07-12T14:24:39Z - Estimated size of the dataset file is 522.357 MB.\n",
      "INFO - 2024-07-12T14:24:39Z - Writing to local storage. Please wait...\n"
     ]
    },
    {
     "data": {
      "application/vnd.jupyter.widget-view+json": {
       "model_id": "6efea9e5219b445b9c9395b933e05a46",
       "version_major": 2,
       "version_minor": 0
      },
      "text/plain": [
       "  0%|          | 0/3722 [00:00<?, ?it/s]"
      ]
     },
     "metadata": {},
     "output_type": "display_data"
    },
    {
     "name": "stderr",
     "output_type": "stream",
     "text": [
      "INFO - 2024-07-12T14:25:39Z - Successfully downloaded to /home/jovyan/shared/data/copernicus/cmems_obs-oc_glo_bgc-plankton_my_l3-multi-4km_P1D/200109.nc\n",
      "INFO - 2024-07-12T14:25:41Z - Dataset version was not specified, the latest one was selected: \"202311\"\n",
      "INFO - 2024-07-12T14:25:41Z - Dataset part was not specified, the first one was selected: \"default\"\n",
      "INFO - 2024-07-12T14:25:45Z - Service was not specified, the default one was selected: \"arco-geo-series\"\n",
      "INFO - 2024-07-12T14:25:48Z - Downloading using service arco-geo-series...\n",
      "INFO - 2024-07-12T14:25:55Z - Estimated size of the dataset file is 539.769 MB.\n",
      "INFO - 2024-07-12T14:25:55Z - Writing to local storage. Please wait...\n"
     ]
    },
    {
     "data": {
      "application/vnd.jupyter.widget-view+json": {
       "model_id": "bfa8d16c7109485fb027933868d2f24c",
       "version_major": 2,
       "version_minor": 0
      },
      "text/plain": [
       "  0%|          | 0/3846 [00:00<?, ?it/s]"
      ]
     },
     "metadata": {},
     "output_type": "display_data"
    },
    {
     "name": "stderr",
     "output_type": "stream",
     "text": [
      "INFO - 2024-07-12T14:26:57Z - Successfully downloaded to /home/jovyan/shared/data/copernicus/cmems_obs-oc_glo_bgc-plankton_my_l3-multi-4km_P1D/200110.nc\n",
      "INFO - 2024-07-12T14:26:58Z - Dataset version was not specified, the latest one was selected: \"202311\"\n",
      "INFO - 2024-07-12T14:26:58Z - Dataset part was not specified, the first one was selected: \"default\"\n",
      "INFO - 2024-07-12T14:27:02Z - Service was not specified, the default one was selected: \"arco-geo-series\"\n",
      "INFO - 2024-07-12T14:27:05Z - Downloading using service arco-geo-series...\n",
      "INFO - 2024-07-12T14:27:12Z - Estimated size of the dataset file is 522.357 MB.\n",
      "INFO - 2024-07-12T14:27:12Z - Writing to local storage. Please wait...\n"
     ]
    },
    {
     "data": {
      "application/vnd.jupyter.widget-view+json": {
       "model_id": "f839a67fe0e241d5871f98360beca6fe",
       "version_major": 2,
       "version_minor": 0
      },
      "text/plain": [
       "  0%|          | 0/3722 [00:00<?, ?it/s]"
      ]
     },
     "metadata": {},
     "output_type": "display_data"
    },
    {
     "name": "stderr",
     "output_type": "stream",
     "text": [
      "INFO - 2024-07-12T14:28:12Z - Successfully downloaded to /home/jovyan/shared/data/copernicus/cmems_obs-oc_glo_bgc-plankton_my_l3-multi-4km_P1D/200111.nc\n",
      "INFO - 2024-07-12T14:28:13Z - Dataset version was not specified, the latest one was selected: \"202311\"\n",
      "INFO - 2024-07-12T14:28:13Z - Dataset part was not specified, the first one was selected: \"default\"\n",
      "INFO - 2024-07-12T14:28:17Z - Service was not specified, the default one was selected: \"arco-geo-series\"\n",
      "INFO - 2024-07-12T14:28:20Z - Downloading using service arco-geo-series...\n",
      "INFO - 2024-07-12T14:28:27Z - Estimated size of the dataset file is 539.769 MB.\n",
      "INFO - 2024-07-12T14:28:27Z - Writing to local storage. Please wait...\n"
     ]
    },
    {
     "data": {
      "application/vnd.jupyter.widget-view+json": {
       "model_id": "f90323dd2f86451c9d1349a00892b2da",
       "version_major": 2,
       "version_minor": 0
      },
      "text/plain": [
       "  0%|          | 0/3846 [00:00<?, ?it/s]"
      ]
     },
     "metadata": {},
     "output_type": "display_data"
    },
    {
     "name": "stderr",
     "output_type": "stream",
     "text": [
      "INFO - 2024-07-12T14:29:30Z - Successfully downloaded to /home/jovyan/shared/data/copernicus/cmems_obs-oc_glo_bgc-plankton_my_l3-multi-4km_P1D/200112.nc\n",
      "INFO - 2024-07-12T14:29:31Z - Dataset version was not specified, the latest one was selected: \"202311\"\n",
      "INFO - 2024-07-12T14:29:31Z - Dataset part was not specified, the first one was selected: \"default\"\n",
      "INFO - 2024-07-12T14:29:35Z - Service was not specified, the default one was selected: \"arco-geo-series\"\n",
      "INFO - 2024-07-12T14:29:38Z - Downloading using service arco-geo-series...\n",
      "INFO - 2024-07-12T14:29:45Z - Estimated size of the dataset file is 539.769 MB.\n",
      "INFO - 2024-07-12T14:29:45Z - Writing to local storage. Please wait...\n"
     ]
    },
    {
     "data": {
      "application/vnd.jupyter.widget-view+json": {
       "model_id": "e93c0baf50a74c53a31e5a4406d3e642",
       "version_major": 2,
       "version_minor": 0
      },
      "text/plain": [
       "  0%|          | 0/3846 [00:00<?, ?it/s]"
      ]
     },
     "metadata": {},
     "output_type": "display_data"
    },
    {
     "name": "stderr",
     "output_type": "stream",
     "text": [
      "INFO - 2024-07-12T14:30:48Z - Successfully downloaded to /home/jovyan/shared/data/copernicus/cmems_obs-oc_glo_bgc-plankton_my_l3-multi-4km_P1D/200201.nc\n",
      "INFO - 2024-07-12T14:30:49Z - Dataset version was not specified, the latest one was selected: \"202311\"\n",
      "INFO - 2024-07-12T14:30:49Z - Dataset part was not specified, the first one was selected: \"default\"\n",
      "INFO - 2024-07-12T14:30:52Z - Service was not specified, the default one was selected: \"arco-geo-series\"\n",
      "INFO - 2024-07-12T14:30:56Z - Downloading using service arco-geo-series...\n",
      "INFO - 2024-07-12T14:31:03Z - Estimated size of the dataset file is 487.533 MB.\n",
      "INFO - 2024-07-12T14:31:03Z - Writing to local storage. Please wait...\n"
     ]
    },
    {
     "data": {
      "application/vnd.jupyter.widget-view+json": {
       "model_id": "7218639b9677433a90e83dcda3b8766f",
       "version_major": 2,
       "version_minor": 0
      },
      "text/plain": [
       "  0%|          | 0/3474 [00:00<?, ?it/s]"
      ]
     },
     "metadata": {},
     "output_type": "display_data"
    },
    {
     "name": "stderr",
     "output_type": "stream",
     "text": [
      "INFO - 2024-07-12T14:32:00Z - Successfully downloaded to /home/jovyan/shared/data/copernicus/cmems_obs-oc_glo_bgc-plankton_my_l3-multi-4km_P1D/200202.nc\n",
      "INFO - 2024-07-12T14:32:02Z - Dataset version was not specified, the latest one was selected: \"202311\"\n",
      "INFO - 2024-07-12T14:32:02Z - Dataset part was not specified, the first one was selected: \"default\"\n",
      "INFO - 2024-07-12T14:32:05Z - Service was not specified, the default one was selected: \"arco-geo-series\"\n",
      "INFO - 2024-07-12T14:32:09Z - Downloading using service arco-geo-series...\n",
      "INFO - 2024-07-12T14:32:15Z - Estimated size of the dataset file is 539.769 MB.\n",
      "INFO - 2024-07-12T14:32:15Z - Writing to local storage. Please wait...\n"
     ]
    },
    {
     "data": {
      "application/vnd.jupyter.widget-view+json": {
       "model_id": "d0830a8ee65342bd8ac223501aecc6b9",
       "version_major": 2,
       "version_minor": 0
      },
      "text/plain": [
       "  0%|          | 0/3846 [00:00<?, ?it/s]"
      ]
     },
     "metadata": {},
     "output_type": "display_data"
    },
    {
     "name": "stderr",
     "output_type": "stream",
     "text": [
      "INFO - 2024-07-12T14:33:18Z - Successfully downloaded to /home/jovyan/shared/data/copernicus/cmems_obs-oc_glo_bgc-plankton_my_l3-multi-4km_P1D/200203.nc\n",
      "INFO - 2024-07-12T14:33:19Z - Dataset version was not specified, the latest one was selected: \"202311\"\n",
      "INFO - 2024-07-12T14:33:19Z - Dataset part was not specified, the first one was selected: \"default\"\n",
      "INFO - 2024-07-12T14:33:23Z - Service was not specified, the default one was selected: \"arco-geo-series\"\n",
      "INFO - 2024-07-12T14:33:26Z - Downloading using service arco-geo-series...\n",
      "INFO - 2024-07-12T14:33:33Z - Estimated size of the dataset file is 522.357 MB.\n",
      "INFO - 2024-07-12T14:33:33Z - Writing to local storage. Please wait...\n"
     ]
    },
    {
     "data": {
      "application/vnd.jupyter.widget-view+json": {
       "model_id": "fad6ed8e4f1145e5935bf65418557ef2",
       "version_major": 2,
       "version_minor": 0
      },
      "text/plain": [
       "  0%|          | 0/3722 [00:00<?, ?it/s]"
      ]
     },
     "metadata": {},
     "output_type": "display_data"
    },
    {
     "name": "stderr",
     "output_type": "stream",
     "text": [
      "INFO - 2024-07-12T14:34:34Z - Successfully downloaded to /home/jovyan/shared/data/copernicus/cmems_obs-oc_glo_bgc-plankton_my_l3-multi-4km_P1D/200204.nc\n",
      "INFO - 2024-07-12T14:34:35Z - Dataset version was not specified, the latest one was selected: \"202311\"\n",
      "INFO - 2024-07-12T14:34:35Z - Dataset part was not specified, the first one was selected: \"default\"\n",
      "INFO - 2024-07-12T14:34:38Z - Service was not specified, the default one was selected: \"arco-geo-series\"\n",
      "INFO - 2024-07-12T14:34:41Z - Downloading using service arco-geo-series...\n",
      "INFO - 2024-07-12T14:34:48Z - Estimated size of the dataset file is 539.769 MB.\n",
      "INFO - 2024-07-12T14:34:48Z - Writing to local storage. Please wait...\n"
     ]
    },
    {
     "data": {
      "application/vnd.jupyter.widget-view+json": {
       "model_id": "e407ce26d43f49209c6c1122bc0fbf64",
       "version_major": 2,
       "version_minor": 0
      },
      "text/plain": [
       "  0%|          | 0/3846 [00:00<?, ?it/s]"
      ]
     },
     "metadata": {},
     "output_type": "display_data"
    },
    {
     "name": "stderr",
     "output_type": "stream",
     "text": [
      "INFO - 2024-07-12T14:35:50Z - Successfully downloaded to /home/jovyan/shared/data/copernicus/cmems_obs-oc_glo_bgc-plankton_my_l3-multi-4km_P1D/200205.nc\n",
      "INFO - 2024-07-12T14:35:52Z - Dataset version was not specified, the latest one was selected: \"202311\"\n",
      "INFO - 2024-07-12T14:35:52Z - Dataset part was not specified, the first one was selected: \"default\"\n",
      "INFO - 2024-07-12T14:35:55Z - Service was not specified, the default one was selected: \"arco-geo-series\"\n",
      "INFO - 2024-07-12T14:35:59Z - Downloading using service arco-geo-series...\n",
      "INFO - 2024-07-12T14:36:06Z - Estimated size of the dataset file is 522.357 MB.\n",
      "INFO - 2024-07-12T14:36:06Z - Writing to local storage. Please wait...\n"
     ]
    },
    {
     "data": {
      "application/vnd.jupyter.widget-view+json": {
       "model_id": "46e27d8d98c74c9ba98ec99b59c57b7a",
       "version_major": 2,
       "version_minor": 0
      },
      "text/plain": [
       "  0%|          | 0/3722 [00:00<?, ?it/s]"
      ]
     },
     "metadata": {},
     "output_type": "display_data"
    },
    {
     "name": "stderr",
     "output_type": "stream",
     "text": [
      "INFO - 2024-07-12T14:37:05Z - Successfully downloaded to /home/jovyan/shared/data/copernicus/cmems_obs-oc_glo_bgc-plankton_my_l3-multi-4km_P1D/200206.nc\n",
      "INFO - 2024-07-12T14:37:06Z - Dataset version was not specified, the latest one was selected: \"202311\"\n",
      "INFO - 2024-07-12T14:37:06Z - Dataset part was not specified, the first one was selected: \"default\"\n",
      "INFO - 2024-07-12T14:37:10Z - Service was not specified, the default one was selected: \"arco-geo-series\"\n",
      "INFO - 2024-07-12T14:37:13Z - Downloading using service arco-geo-series...\n",
      "INFO - 2024-07-12T14:37:20Z - Estimated size of the dataset file is 539.769 MB.\n",
      "INFO - 2024-07-12T14:37:20Z - Writing to local storage. Please wait...\n"
     ]
    },
    {
     "data": {
      "application/vnd.jupyter.widget-view+json": {
       "model_id": "737eaa1c3ca14b85803ec7e4b60c46ed",
       "version_major": 2,
       "version_minor": 0
      },
      "text/plain": [
       "  0%|          | 0/3846 [00:00<?, ?it/s]"
      ]
     },
     "metadata": {},
     "output_type": "display_data"
    },
    {
     "name": "stderr",
     "output_type": "stream",
     "text": [
      "INFO - 2024-07-12T14:38:23Z - Successfully downloaded to /home/jovyan/shared/data/copernicus/cmems_obs-oc_glo_bgc-plankton_my_l3-multi-4km_P1D/200207.nc\n",
      "INFO - 2024-07-12T14:38:24Z - Dataset version was not specified, the latest one was selected: \"202311\"\n",
      "INFO - 2024-07-12T14:38:24Z - Dataset part was not specified, the first one was selected: \"default\"\n",
      "INFO - 2024-07-12T14:38:28Z - Service was not specified, the default one was selected: \"arco-geo-series\"\n",
      "INFO - 2024-07-12T14:38:31Z - Downloading using service arco-geo-series...\n",
      "INFO - 2024-07-12T14:38:38Z - Estimated size of the dataset file is 539.769 MB.\n",
      "INFO - 2024-07-12T14:38:38Z - Writing to local storage. Please wait...\n"
     ]
    },
    {
     "data": {
      "application/vnd.jupyter.widget-view+json": {
       "model_id": "d1d9d84150614844b18d6e05f8d06a69",
       "version_major": 2,
       "version_minor": 0
      },
      "text/plain": [
       "  0%|          | 0/3846 [00:00<?, ?it/s]"
      ]
     },
     "metadata": {},
     "output_type": "display_data"
    },
    {
     "name": "stderr",
     "output_type": "stream",
     "text": [
      "INFO - 2024-07-12T14:39:40Z - Successfully downloaded to /home/jovyan/shared/data/copernicus/cmems_obs-oc_glo_bgc-plankton_my_l3-multi-4km_P1D/200208.nc\n",
      "INFO - 2024-07-12T14:39:41Z - Dataset version was not specified, the latest one was selected: \"202311\"\n",
      "INFO - 2024-07-12T14:39:41Z - Dataset part was not specified, the first one was selected: \"default\"\n",
      "INFO - 2024-07-12T14:39:45Z - Service was not specified, the default one was selected: \"arco-geo-series\"\n",
      "INFO - 2024-07-12T14:39:48Z - Downloading using service arco-geo-series...\n",
      "INFO - 2024-07-12T14:39:55Z - Estimated size of the dataset file is 522.357 MB.\n",
      "INFO - 2024-07-12T14:39:55Z - Writing to local storage. Please wait...\n"
     ]
    },
    {
     "data": {
      "application/vnd.jupyter.widget-view+json": {
       "model_id": "fbc93a3b48a8460fb0dbea67dbbe3cb1",
       "version_major": 2,
       "version_minor": 0
      },
      "text/plain": [
       "  0%|          | 0/3722 [00:00<?, ?it/s]"
      ]
     },
     "metadata": {},
     "output_type": "display_data"
    },
    {
     "name": "stderr",
     "output_type": "stream",
     "text": [
      "INFO - 2024-07-12T14:40:56Z - Successfully downloaded to /home/jovyan/shared/data/copernicus/cmems_obs-oc_glo_bgc-plankton_my_l3-multi-4km_P1D/200209.nc\n",
      "INFO - 2024-07-12T14:40:57Z - Dataset version was not specified, the latest one was selected: \"202311\"\n",
      "INFO - 2024-07-12T14:40:57Z - Dataset part was not specified, the first one was selected: \"default\"\n",
      "INFO - 2024-07-12T14:41:01Z - Service was not specified, the default one was selected: \"arco-geo-series\"\n",
      "INFO - 2024-07-12T14:41:04Z - Downloading using service arco-geo-series...\n",
      "INFO - 2024-07-12T14:41:11Z - Estimated size of the dataset file is 539.769 MB.\n",
      "INFO - 2024-07-12T14:41:11Z - Writing to local storage. Please wait...\n"
     ]
    },
    {
     "data": {
      "application/vnd.jupyter.widget-view+json": {
       "model_id": "d426496108c843f688a8824439ad37f4",
       "version_major": 2,
       "version_minor": 0
      },
      "text/plain": [
       "  0%|          | 0/3846 [00:00<?, ?it/s]"
      ]
     },
     "metadata": {},
     "output_type": "display_data"
    },
    {
     "name": "stderr",
     "output_type": "stream",
     "text": [
      "INFO - 2024-07-12T14:42:14Z - Successfully downloaded to /home/jovyan/shared/data/copernicus/cmems_obs-oc_glo_bgc-plankton_my_l3-multi-4km_P1D/200210.nc\n",
      "INFO - 2024-07-12T14:42:15Z - Dataset version was not specified, the latest one was selected: \"202311\"\n",
      "INFO - 2024-07-12T14:42:15Z - Dataset part was not specified, the first one was selected: \"default\"\n",
      "INFO - 2024-07-12T14:42:19Z - Service was not specified, the default one was selected: \"arco-geo-series\"\n",
      "INFO - 2024-07-12T14:42:22Z - Downloading using service arco-geo-series...\n",
      "INFO - 2024-07-12T14:42:29Z - Estimated size of the dataset file is 522.357 MB.\n",
      "INFO - 2024-07-12T14:42:29Z - Writing to local storage. Please wait...\n"
     ]
    },
    {
     "data": {
      "application/vnd.jupyter.widget-view+json": {
       "model_id": "474697c7018f42c69599840e8e5169fa",
       "version_major": 2,
       "version_minor": 0
      },
      "text/plain": [
       "  0%|          | 0/3722 [00:00<?, ?it/s]"
      ]
     },
     "metadata": {},
     "output_type": "display_data"
    },
    {
     "name": "stderr",
     "output_type": "stream",
     "text": [
      "INFO - 2024-07-12T14:43:30Z - Successfully downloaded to /home/jovyan/shared/data/copernicus/cmems_obs-oc_glo_bgc-plankton_my_l3-multi-4km_P1D/200211.nc\n",
      "INFO - 2024-07-12T14:43:31Z - Dataset version was not specified, the latest one was selected: \"202311\"\n",
      "INFO - 2024-07-12T14:43:31Z - Dataset part was not specified, the first one was selected: \"default\"\n",
      "INFO - 2024-07-12T14:43:34Z - Service was not specified, the default one was selected: \"arco-geo-series\"\n",
      "INFO - 2024-07-12T14:43:38Z - Downloading using service arco-geo-series...\n",
      "INFO - 2024-07-12T14:43:45Z - Estimated size of the dataset file is 539.769 MB.\n",
      "INFO - 2024-07-12T14:43:45Z - Writing to local storage. Please wait...\n"
     ]
    },
    {
     "data": {
      "application/vnd.jupyter.widget-view+json": {
       "model_id": "8862ec21444d4574a4598eff69f2ef8a",
       "version_major": 2,
       "version_minor": 0
      },
      "text/plain": [
       "  0%|          | 0/3846 [00:00<?, ?it/s]"
      ]
     },
     "metadata": {},
     "output_type": "display_data"
    },
    {
     "name": "stderr",
     "output_type": "stream",
     "text": [
      "INFO - 2024-07-12T14:44:47Z - Successfully downloaded to /home/jovyan/shared/data/copernicus/cmems_obs-oc_glo_bgc-plankton_my_l3-multi-4km_P1D/200212.nc\n",
      "INFO - 2024-07-12T14:44:48Z - Dataset version was not specified, the latest one was selected: \"202311\"\n",
      "INFO - 2024-07-12T14:44:48Z - Dataset part was not specified, the first one was selected: \"default\"\n",
      "INFO - 2024-07-12T14:44:52Z - Service was not specified, the default one was selected: \"arco-geo-series\"\n",
      "INFO - 2024-07-12T14:44:55Z - Downloading using service arco-geo-series...\n",
      "INFO - 2024-07-12T14:45:02Z - Estimated size of the dataset file is 539.769 MB.\n",
      "INFO - 2024-07-12T14:45:02Z - Writing to local storage. Please wait...\n"
     ]
    },
    {
     "data": {
      "application/vnd.jupyter.widget-view+json": {
       "model_id": "295cdb1c55204c95a60ec9eab3dcfc3d",
       "version_major": 2,
       "version_minor": 0
      },
      "text/plain": [
       "  0%|          | 0/3846 [00:00<?, ?it/s]"
      ]
     },
     "metadata": {},
     "output_type": "display_data"
    },
    {
     "name": "stderr",
     "output_type": "stream",
     "text": [
      "INFO - 2024-07-12T14:46:05Z - Successfully downloaded to /home/jovyan/shared/data/copernicus/cmems_obs-oc_glo_bgc-plankton_my_l3-multi-4km_P1D/200301.nc\n",
      "INFO - 2024-07-12T14:46:06Z - Dataset version was not specified, the latest one was selected: \"202311\"\n",
      "INFO - 2024-07-12T14:46:06Z - Dataset part was not specified, the first one was selected: \"default\"\n",
      "INFO - 2024-07-12T14:46:10Z - Service was not specified, the default one was selected: \"arco-geo-series\"\n",
      "INFO - 2024-07-12T14:46:13Z - Downloading using service arco-geo-series...\n",
      "INFO - 2024-07-12T14:46:20Z - Estimated size of the dataset file is 487.533 MB.\n",
      "INFO - 2024-07-12T14:46:20Z - Writing to local storage. Please wait...\n"
     ]
    },
    {
     "data": {
      "application/vnd.jupyter.widget-view+json": {
       "model_id": "c416ceb0b6bd478b8aef32de5a387bba",
       "version_major": 2,
       "version_minor": 0
      },
      "text/plain": [
       "  0%|          | 0/3474 [00:00<?, ?it/s]"
      ]
     },
     "metadata": {},
     "output_type": "display_data"
    },
    {
     "name": "stderr",
     "output_type": "stream",
     "text": [
      "INFO - 2024-07-12T14:47:17Z - Successfully downloaded to /home/jovyan/shared/data/copernicus/cmems_obs-oc_glo_bgc-plankton_my_l3-multi-4km_P1D/200302.nc\n",
      "INFO - 2024-07-12T14:47:18Z - Dataset version was not specified, the latest one was selected: \"202311\"\n",
      "INFO - 2024-07-12T14:47:18Z - Dataset part was not specified, the first one was selected: \"default\"\n",
      "INFO - 2024-07-12T14:47:22Z - Service was not specified, the default one was selected: \"arco-geo-series\"\n",
      "INFO - 2024-07-12T14:47:25Z - Downloading using service arco-geo-series...\n",
      "INFO - 2024-07-12T14:47:32Z - Estimated size of the dataset file is 539.769 MB.\n",
      "INFO - 2024-07-12T14:47:32Z - Writing to local storage. Please wait...\n"
     ]
    },
    {
     "data": {
      "application/vnd.jupyter.widget-view+json": {
       "model_id": "4b1ff1a27c7347cbaee05ad0afce110d",
       "version_major": 2,
       "version_minor": 0
      },
      "text/plain": [
       "  0%|          | 0/3846 [00:00<?, ?it/s]"
      ]
     },
     "metadata": {},
     "output_type": "display_data"
    },
    {
     "name": "stderr",
     "output_type": "stream",
     "text": [
      "INFO - 2024-07-12T14:48:34Z - Successfully downloaded to /home/jovyan/shared/data/copernicus/cmems_obs-oc_glo_bgc-plankton_my_l3-multi-4km_P1D/200303.nc\n",
      "INFO - 2024-07-12T14:48:36Z - Dataset version was not specified, the latest one was selected: \"202311\"\n",
      "INFO - 2024-07-12T14:48:36Z - Dataset part was not specified, the first one was selected: \"default\"\n",
      "INFO - 2024-07-12T14:48:39Z - Service was not specified, the default one was selected: \"arco-geo-series\"\n",
      "INFO - 2024-07-12T14:48:43Z - Downloading using service arco-geo-series...\n",
      "INFO - 2024-07-12T14:48:50Z - Estimated size of the dataset file is 522.357 MB.\n",
      "INFO - 2024-07-12T14:48:50Z - Writing to local storage. Please wait...\n"
     ]
    },
    {
     "data": {
      "application/vnd.jupyter.widget-view+json": {
       "model_id": "8b68cc7e13994a8788c1e480e49b6687",
       "version_major": 2,
       "version_minor": 0
      },
      "text/plain": [
       "  0%|          | 0/3722 [00:00<?, ?it/s]"
      ]
     },
     "metadata": {},
     "output_type": "display_data"
    },
    {
     "name": "stderr",
     "output_type": "stream",
     "text": [
      "INFO - 2024-07-12T14:49:51Z - Successfully downloaded to /home/jovyan/shared/data/copernicus/cmems_obs-oc_glo_bgc-plankton_my_l3-multi-4km_P1D/200304.nc\n",
      "INFO - 2024-07-12T14:49:52Z - Dataset version was not specified, the latest one was selected: \"202311\"\n",
      "INFO - 2024-07-12T14:49:52Z - Dataset part was not specified, the first one was selected: \"default\"\n",
      "INFO - 2024-07-12T14:49:55Z - Service was not specified, the default one was selected: \"arco-geo-series\"\n",
      "INFO - 2024-07-12T14:49:59Z - Downloading using service arco-geo-series...\n",
      "INFO - 2024-07-12T14:50:05Z - Estimated size of the dataset file is 539.769 MB.\n",
      "INFO - 2024-07-12T14:50:05Z - Writing to local storage. Please wait...\n"
     ]
    },
    {
     "data": {
      "application/vnd.jupyter.widget-view+json": {
       "model_id": "86e0b9e1fcc44e96a9025c6d3af2105c",
       "version_major": 2,
       "version_minor": 0
      },
      "text/plain": [
       "  0%|          | 0/3846 [00:00<?, ?it/s]"
      ]
     },
     "metadata": {},
     "output_type": "display_data"
    },
    {
     "name": "stderr",
     "output_type": "stream",
     "text": [
      "INFO - 2024-07-12T14:51:08Z - Successfully downloaded to /home/jovyan/shared/data/copernicus/cmems_obs-oc_glo_bgc-plankton_my_l3-multi-4km_P1D/200305.nc\n",
      "INFO - 2024-07-12T14:51:09Z - Dataset version was not specified, the latest one was selected: \"202311\"\n",
      "INFO - 2024-07-12T14:51:09Z - Dataset part was not specified, the first one was selected: \"default\"\n",
      "INFO - 2024-07-12T14:51:12Z - Service was not specified, the default one was selected: \"arco-geo-series\"\n",
      "INFO - 2024-07-12T14:51:15Z - Downloading using service arco-geo-series...\n",
      "INFO - 2024-07-12T14:51:22Z - Estimated size of the dataset file is 522.357 MB.\n",
      "INFO - 2024-07-12T14:51:22Z - Writing to local storage. Please wait...\n"
     ]
    },
    {
     "data": {
      "application/vnd.jupyter.widget-view+json": {
       "model_id": "91ba113d09574bb3bf834edc6bbff78d",
       "version_major": 2,
       "version_minor": 0
      },
      "text/plain": [
       "  0%|          | 0/3722 [00:00<?, ?it/s]"
      ]
     },
     "metadata": {},
     "output_type": "display_data"
    },
    {
     "name": "stderr",
     "output_type": "stream",
     "text": [
      "INFO - 2024-07-12T14:52:22Z - Successfully downloaded to /home/jovyan/shared/data/copernicus/cmems_obs-oc_glo_bgc-plankton_my_l3-multi-4km_P1D/200306.nc\n",
      "INFO - 2024-07-12T14:52:23Z - Dataset version was not specified, the latest one was selected: \"202311\"\n",
      "INFO - 2024-07-12T14:52:23Z - Dataset part was not specified, the first one was selected: \"default\"\n",
      "INFO - 2024-07-12T14:52:26Z - Service was not specified, the default one was selected: \"arco-geo-series\"\n",
      "INFO - 2024-07-12T14:52:30Z - Downloading using service arco-geo-series...\n",
      "INFO - 2024-07-12T14:52:37Z - Estimated size of the dataset file is 539.769 MB.\n",
      "INFO - 2024-07-12T14:52:37Z - Writing to local storage. Please wait...\n"
     ]
    },
    {
     "data": {
      "application/vnd.jupyter.widget-view+json": {
       "model_id": "df29292ee57645fbaa2622dc348e6e21",
       "version_major": 2,
       "version_minor": 0
      },
      "text/plain": [
       "  0%|          | 0/3846 [00:00<?, ?it/s]"
      ]
     },
     "metadata": {},
     "output_type": "display_data"
    },
    {
     "name": "stderr",
     "output_type": "stream",
     "text": [
      "INFO - 2024-07-12T14:53:38Z - Successfully downloaded to /home/jovyan/shared/data/copernicus/cmems_obs-oc_glo_bgc-plankton_my_l3-multi-4km_P1D/200307.nc\n",
      "INFO - 2024-07-12T14:53:40Z - Dataset version was not specified, the latest one was selected: \"202311\"\n",
      "INFO - 2024-07-12T14:53:40Z - Dataset part was not specified, the first one was selected: \"default\"\n",
      "INFO - 2024-07-12T14:53:43Z - Service was not specified, the default one was selected: \"arco-geo-series\"\n",
      "INFO - 2024-07-12T14:53:46Z - Downloading using service arco-geo-series...\n",
      "INFO - 2024-07-12T14:53:54Z - Estimated size of the dataset file is 539.769 MB.\n",
      "INFO - 2024-07-12T14:53:54Z - Writing to local storage. Please wait...\n"
     ]
    },
    {
     "data": {
      "application/vnd.jupyter.widget-view+json": {
       "model_id": "00b326b90c6b400f8ebac57a6d5349be",
       "version_major": 2,
       "version_minor": 0
      },
      "text/plain": [
       "  0%|          | 0/3846 [00:00<?, ?it/s]"
      ]
     },
     "metadata": {},
     "output_type": "display_data"
    },
    {
     "name": "stderr",
     "output_type": "stream",
     "text": [
      "INFO - 2024-07-12T14:54:55Z - Successfully downloaded to /home/jovyan/shared/data/copernicus/cmems_obs-oc_glo_bgc-plankton_my_l3-multi-4km_P1D/200308.nc\n",
      "INFO - 2024-07-12T14:54:56Z - Dataset version was not specified, the latest one was selected: \"202311\"\n",
      "INFO - 2024-07-12T14:54:56Z - Dataset part was not specified, the first one was selected: \"default\"\n",
      "INFO - 2024-07-12T14:55:00Z - Service was not specified, the default one was selected: \"arco-geo-series\"\n",
      "INFO - 2024-07-12T14:55:03Z - Downloading using service arco-geo-series...\n",
      "INFO - 2024-07-12T14:55:10Z - Estimated size of the dataset file is 522.357 MB.\n",
      "INFO - 2024-07-12T14:55:10Z - Writing to local storage. Please wait...\n"
     ]
    },
    {
     "data": {
      "application/vnd.jupyter.widget-view+json": {
       "model_id": "d0b4cb66205a4128a2f3496f79f2ba1b",
       "version_major": 2,
       "version_minor": 0
      },
      "text/plain": [
       "  0%|          | 0/3722 [00:00<?, ?it/s]"
      ]
     },
     "metadata": {},
     "output_type": "display_data"
    },
    {
     "name": "stderr",
     "output_type": "stream",
     "text": [
      "INFO - 2024-07-12T14:56:11Z - Successfully downloaded to /home/jovyan/shared/data/copernicus/cmems_obs-oc_glo_bgc-plankton_my_l3-multi-4km_P1D/200309.nc\n",
      "INFO - 2024-07-12T14:56:12Z - Dataset version was not specified, the latest one was selected: \"202311\"\n",
      "INFO - 2024-07-12T14:56:12Z - Dataset part was not specified, the first one was selected: \"default\"\n",
      "INFO - 2024-07-12T14:56:15Z - Service was not specified, the default one was selected: \"arco-geo-series\"\n",
      "INFO - 2024-07-12T14:56:19Z - Downloading using service arco-geo-series...\n",
      "INFO - 2024-07-12T14:56:26Z - Estimated size of the dataset file is 539.769 MB.\n",
      "INFO - 2024-07-12T14:56:26Z - Writing to local storage. Please wait...\n"
     ]
    },
    {
     "data": {
      "application/vnd.jupyter.widget-view+json": {
       "model_id": "0fdb56c26d3a4da3be8efece005ed471",
       "version_major": 2,
       "version_minor": 0
      },
      "text/plain": [
       "  0%|          | 0/3846 [00:00<?, ?it/s]"
      ]
     },
     "metadata": {},
     "output_type": "display_data"
    },
    {
     "name": "stderr",
     "output_type": "stream",
     "text": [
      "INFO - 2024-07-12T14:57:28Z - Successfully downloaded to /home/jovyan/shared/data/copernicus/cmems_obs-oc_glo_bgc-plankton_my_l3-multi-4km_P1D/200310.nc\n",
      "INFO - 2024-07-12T14:57:29Z - Dataset version was not specified, the latest one was selected: \"202311\"\n",
      "INFO - 2024-07-12T14:57:29Z - Dataset part was not specified, the first one was selected: \"default\"\n",
      "INFO - 2024-07-12T14:57:32Z - Service was not specified, the default one was selected: \"arco-geo-series\"\n",
      "INFO - 2024-07-12T14:57:36Z - Downloading using service arco-geo-series...\n",
      "INFO - 2024-07-12T14:57:43Z - Estimated size of the dataset file is 522.357 MB.\n",
      "INFO - 2024-07-12T14:57:43Z - Writing to local storage. Please wait...\n"
     ]
    },
    {
     "data": {
      "application/vnd.jupyter.widget-view+json": {
       "model_id": "0dcad14b0054428b852d1e113b7a7842",
       "version_major": 2,
       "version_minor": 0
      },
      "text/plain": [
       "  0%|          | 0/3722 [00:00<?, ?it/s]"
      ]
     },
     "metadata": {},
     "output_type": "display_data"
    },
    {
     "name": "stderr",
     "output_type": "stream",
     "text": [
      "INFO - 2024-07-12T14:58:44Z - Successfully downloaded to /home/jovyan/shared/data/copernicus/cmems_obs-oc_glo_bgc-plankton_my_l3-multi-4km_P1D/200311.nc\n",
      "INFO - 2024-07-12T14:58:45Z - Dataset version was not specified, the latest one was selected: \"202311\"\n",
      "INFO - 2024-07-12T14:58:45Z - Dataset part was not specified, the first one was selected: \"default\"\n",
      "INFO - 2024-07-12T14:58:49Z - Service was not specified, the default one was selected: \"arco-geo-series\"\n",
      "INFO - 2024-07-12T14:58:52Z - Downloading using service arco-geo-series...\n",
      "INFO - 2024-07-12T14:58:59Z - Estimated size of the dataset file is 539.769 MB.\n",
      "INFO - 2024-07-12T14:58:59Z - Writing to local storage. Please wait...\n"
     ]
    },
    {
     "data": {
      "application/vnd.jupyter.widget-view+json": {
       "model_id": "6ff8122e421641a992c215242bc2998d",
       "version_major": 2,
       "version_minor": 0
      },
      "text/plain": [
       "  0%|          | 0/3846 [00:00<?, ?it/s]"
      ]
     },
     "metadata": {},
     "output_type": "display_data"
    },
    {
     "name": "stderr",
     "output_type": "stream",
     "text": [
      "INFO - 2024-07-12T15:00:02Z - Successfully downloaded to /home/jovyan/shared/data/copernicus/cmems_obs-oc_glo_bgc-plankton_my_l3-multi-4km_P1D/200312.nc\n",
      "INFO - 2024-07-12T15:00:03Z - Dataset version was not specified, the latest one was selected: \"202311\"\n",
      "INFO - 2024-07-12T15:00:03Z - Dataset part was not specified, the first one was selected: \"default\"\n",
      "INFO - 2024-07-12T15:00:06Z - Service was not specified, the default one was selected: \"arco-geo-series\"\n",
      "INFO - 2024-07-12T15:00:10Z - Downloading using service arco-geo-series...\n",
      "INFO - 2024-07-12T15:00:16Z - Estimated size of the dataset file is 539.769 MB.\n",
      "INFO - 2024-07-12T15:00:16Z - Writing to local storage. Please wait...\n"
     ]
    },
    {
     "data": {
      "application/vnd.jupyter.widget-view+json": {
       "model_id": "3d282855c9d04c20830ba0ef1260c020",
       "version_major": 2,
       "version_minor": 0
      },
      "text/plain": [
       "  0%|          | 0/3846 [00:00<?, ?it/s]"
      ]
     },
     "metadata": {},
     "output_type": "display_data"
    },
    {
     "name": "stderr",
     "output_type": "stream",
     "text": [
      "INFO - 2024-07-12T15:01:19Z - Successfully downloaded to /home/jovyan/shared/data/copernicus/cmems_obs-oc_glo_bgc-plankton_my_l3-multi-4km_P1D/200401.nc\n",
      "INFO - 2024-07-12T15:01:20Z - Dataset version was not specified, the latest one was selected: \"202311\"\n",
      "INFO - 2024-07-12T15:01:20Z - Dataset part was not specified, the first one was selected: \"default\"\n",
      "INFO - 2024-07-12T15:01:24Z - Service was not specified, the default one was selected: \"arco-geo-series\"\n",
      "INFO - 2024-07-12T15:01:27Z - Downloading using service arco-geo-series...\n",
      "INFO - 2024-07-12T15:01:34Z - Estimated size of the dataset file is 504.945 MB.\n",
      "INFO - 2024-07-12T15:01:34Z - Writing to local storage. Please wait...\n"
     ]
    },
    {
     "data": {
      "application/vnd.jupyter.widget-view+json": {
       "model_id": "ce3f202f7c9d4b8e8bde622efd6560ef",
       "version_major": 2,
       "version_minor": 0
      },
      "text/plain": [
       "  0%|          | 0/3598 [00:00<?, ?it/s]"
      ]
     },
     "metadata": {},
     "output_type": "display_data"
    },
    {
     "name": "stderr",
     "output_type": "stream",
     "text": [
      "INFO - 2024-07-12T15:02:32Z - Successfully downloaded to /home/jovyan/shared/data/copernicus/cmems_obs-oc_glo_bgc-plankton_my_l3-multi-4km_P1D/200402.nc\n",
      "INFO - 2024-07-12T15:02:33Z - Dataset version was not specified, the latest one was selected: \"202311\"\n",
      "INFO - 2024-07-12T15:02:33Z - Dataset part was not specified, the first one was selected: \"default\"\n",
      "INFO - 2024-07-12T15:02:37Z - Service was not specified, the default one was selected: \"arco-geo-series\"\n",
      "INFO - 2024-07-12T15:02:40Z - Downloading using service arco-geo-series...\n",
      "INFO - 2024-07-12T15:02:47Z - Estimated size of the dataset file is 539.769 MB.\n",
      "INFO - 2024-07-12T15:02:47Z - Writing to local storage. Please wait...\n"
     ]
    },
    {
     "data": {
      "application/vnd.jupyter.widget-view+json": {
       "model_id": "643550d19efa448b8351f719ae0de4e7",
       "version_major": 2,
       "version_minor": 0
      },
      "text/plain": [
       "  0%|          | 0/3846 [00:00<?, ?it/s]"
      ]
     },
     "metadata": {},
     "output_type": "display_data"
    },
    {
     "name": "stderr",
     "output_type": "stream",
     "text": [
      "INFO - 2024-07-12T15:03:50Z - Successfully downloaded to /home/jovyan/shared/data/copernicus/cmems_obs-oc_glo_bgc-plankton_my_l3-multi-4km_P1D/200403.nc\n",
      "INFO - 2024-07-12T15:03:51Z - Dataset version was not specified, the latest one was selected: \"202311\"\n",
      "INFO - 2024-07-12T15:03:51Z - Dataset part was not specified, the first one was selected: \"default\"\n",
      "INFO - 2024-07-12T15:03:55Z - Service was not specified, the default one was selected: \"arco-geo-series\"\n",
      "INFO - 2024-07-12T15:03:58Z - Downloading using service arco-geo-series...\n",
      "INFO - 2024-07-12T15:04:05Z - Estimated size of the dataset file is 522.357 MB.\n",
      "INFO - 2024-07-12T15:04:05Z - Writing to local storage. Please wait...\n"
     ]
    },
    {
     "data": {
      "application/vnd.jupyter.widget-view+json": {
       "model_id": "a9c9370788fb4d01a7385861ae76b793",
       "version_major": 2,
       "version_minor": 0
      },
      "text/plain": [
       "  0%|          | 0/3722 [00:00<?, ?it/s]"
      ]
     },
     "metadata": {},
     "output_type": "display_data"
    },
    {
     "name": "stderr",
     "output_type": "stream",
     "text": [
      "INFO - 2024-07-12T15:05:06Z - Successfully downloaded to /home/jovyan/shared/data/copernicus/cmems_obs-oc_glo_bgc-plankton_my_l3-multi-4km_P1D/200404.nc\n",
      "INFO - 2024-07-12T15:05:07Z - Dataset version was not specified, the latest one was selected: \"202311\"\n",
      "INFO - 2024-07-12T15:05:07Z - Dataset part was not specified, the first one was selected: \"default\"\n",
      "INFO - 2024-07-12T15:05:11Z - Service was not specified, the default one was selected: \"arco-geo-series\"\n",
      "INFO - 2024-07-12T15:05:14Z - Downloading using service arco-geo-series...\n",
      "INFO - 2024-07-12T15:05:20Z - Estimated size of the dataset file is 539.769 MB.\n",
      "INFO - 2024-07-12T15:05:20Z - Writing to local storage. Please wait...\n"
     ]
    },
    {
     "data": {
      "application/vnd.jupyter.widget-view+json": {
       "model_id": "350778ede9714347ba202462345a2991",
       "version_major": 2,
       "version_minor": 0
      },
      "text/plain": [
       "  0%|          | 0/3846 [00:00<?, ?it/s]"
      ]
     },
     "metadata": {},
     "output_type": "display_data"
    },
    {
     "name": "stderr",
     "output_type": "stream",
     "text": [
      "INFO - 2024-07-12T15:06:23Z - Successfully downloaded to /home/jovyan/shared/data/copernicus/cmems_obs-oc_glo_bgc-plankton_my_l3-multi-4km_P1D/200405.nc\n",
      "INFO - 2024-07-12T15:06:24Z - Dataset version was not specified, the latest one was selected: \"202311\"\n",
      "INFO - 2024-07-12T15:06:24Z - Dataset part was not specified, the first one was selected: \"default\"\n",
      "INFO - 2024-07-12T15:06:27Z - Service was not specified, the default one was selected: \"arco-geo-series\"\n",
      "INFO - 2024-07-12T15:06:31Z - Downloading using service arco-geo-series...\n",
      "INFO - 2024-07-12T15:06:37Z - Estimated size of the dataset file is 522.357 MB.\n",
      "INFO - 2024-07-12T15:06:37Z - Writing to local storage. Please wait...\n"
     ]
    },
    {
     "data": {
      "application/vnd.jupyter.widget-view+json": {
       "model_id": "ca56d34122d748fe8f31bbea4edfb1bf",
       "version_major": 2,
       "version_minor": 0
      },
      "text/plain": [
       "  0%|          | 0/3722 [00:00<?, ?it/s]"
      ]
     },
     "metadata": {},
     "output_type": "display_data"
    },
    {
     "name": "stderr",
     "output_type": "stream",
     "text": [
      "INFO - 2024-07-12T15:07:38Z - Successfully downloaded to /home/jovyan/shared/data/copernicus/cmems_obs-oc_glo_bgc-plankton_my_l3-multi-4km_P1D/200406.nc\n",
      "INFO - 2024-07-12T15:07:39Z - Dataset version was not specified, the latest one was selected: \"202311\"\n",
      "INFO - 2024-07-12T15:07:39Z - Dataset part was not specified, the first one was selected: \"default\"\n",
      "INFO - 2024-07-12T15:07:42Z - Service was not specified, the default one was selected: \"arco-geo-series\"\n",
      "INFO - 2024-07-12T15:07:46Z - Downloading using service arco-geo-series...\n",
      "INFO - 2024-07-12T15:07:53Z - Estimated size of the dataset file is 539.769 MB.\n",
      "INFO - 2024-07-12T15:07:53Z - Writing to local storage. Please wait...\n"
     ]
    },
    {
     "data": {
      "application/vnd.jupyter.widget-view+json": {
       "model_id": "05c66bec05fc4ff394f3c987ae72a4b1",
       "version_major": 2,
       "version_minor": 0
      },
      "text/plain": [
       "  0%|          | 0/3846 [00:00<?, ?it/s]"
      ]
     },
     "metadata": {},
     "output_type": "display_data"
    },
    {
     "name": "stderr",
     "output_type": "stream",
     "text": [
      "INFO - 2024-07-12T15:08:54Z - Successfully downloaded to /home/jovyan/shared/data/copernicus/cmems_obs-oc_glo_bgc-plankton_my_l3-multi-4km_P1D/200407.nc\n",
      "INFO - 2024-07-12T15:08:56Z - Dataset version was not specified, the latest one was selected: \"202311\"\n",
      "INFO - 2024-07-12T15:08:56Z - Dataset part was not specified, the first one was selected: \"default\"\n",
      "INFO - 2024-07-12T15:08:59Z - Service was not specified, the default one was selected: \"arco-geo-series\"\n",
      "INFO - 2024-07-12T15:09:03Z - Downloading using service arco-geo-series...\n",
      "INFO - 2024-07-12T15:09:10Z - Estimated size of the dataset file is 539.769 MB.\n",
      "INFO - 2024-07-12T15:09:10Z - Writing to local storage. Please wait...\n"
     ]
    },
    {
     "data": {
      "application/vnd.jupyter.widget-view+json": {
       "model_id": "de164bf74c5a4ba1ae07a7bb86924eba",
       "version_major": 2,
       "version_minor": 0
      },
      "text/plain": [
       "  0%|          | 0/3846 [00:00<?, ?it/s]"
      ]
     },
     "metadata": {},
     "output_type": "display_data"
    },
    {
     "name": "stderr",
     "output_type": "stream",
     "text": [
      "INFO - 2024-07-12T15:10:11Z - Successfully downloaded to /home/jovyan/shared/data/copernicus/cmems_obs-oc_glo_bgc-plankton_my_l3-multi-4km_P1D/200408.nc\n",
      "INFO - 2024-07-12T15:10:12Z - Dataset version was not specified, the latest one was selected: \"202311\"\n",
      "INFO - 2024-07-12T15:10:12Z - Dataset part was not specified, the first one was selected: \"default\"\n",
      "INFO - 2024-07-12T15:10:16Z - Service was not specified, the default one was selected: \"arco-geo-series\"\n",
      "INFO - 2024-07-12T15:10:19Z - Downloading using service arco-geo-series...\n",
      "INFO - 2024-07-12T15:10:26Z - Estimated size of the dataset file is 522.357 MB.\n",
      "INFO - 2024-07-12T15:10:26Z - Writing to local storage. Please wait...\n"
     ]
    },
    {
     "data": {
      "application/vnd.jupyter.widget-view+json": {
       "model_id": "5ec2d2ba9bb74c10a01e9704dddf7123",
       "version_major": 2,
       "version_minor": 0
      },
      "text/plain": [
       "  0%|          | 0/3722 [00:00<?, ?it/s]"
      ]
     },
     "metadata": {},
     "output_type": "display_data"
    },
    {
     "name": "stderr",
     "output_type": "stream",
     "text": [
      "INFO - 2024-07-12T15:11:27Z - Successfully downloaded to /home/jovyan/shared/data/copernicus/cmems_obs-oc_glo_bgc-plankton_my_l3-multi-4km_P1D/200409.nc\n",
      "INFO - 2024-07-12T15:11:28Z - Dataset version was not specified, the latest one was selected: \"202311\"\n",
      "INFO - 2024-07-12T15:11:28Z - Dataset part was not specified, the first one was selected: \"default\"\n",
      "INFO - 2024-07-12T15:11:32Z - Service was not specified, the default one was selected: \"arco-geo-series\"\n",
      "INFO - 2024-07-12T15:11:35Z - Downloading using service arco-geo-series...\n",
      "INFO - 2024-07-12T15:11:42Z - Estimated size of the dataset file is 539.769 MB.\n",
      "INFO - 2024-07-12T15:11:42Z - Writing to local storage. Please wait...\n"
     ]
    },
    {
     "data": {
      "application/vnd.jupyter.widget-view+json": {
       "model_id": "37e1deac8cae4f399e3d010b6b572490",
       "version_major": 2,
       "version_minor": 0
      },
      "text/plain": [
       "  0%|          | 0/3846 [00:00<?, ?it/s]"
      ]
     },
     "metadata": {},
     "output_type": "display_data"
    },
    {
     "name": "stderr",
     "output_type": "stream",
     "text": [
      "INFO - 2024-07-12T15:12:43Z - Successfully downloaded to /home/jovyan/shared/data/copernicus/cmems_obs-oc_glo_bgc-plankton_my_l3-multi-4km_P1D/200410.nc\n",
      "INFO - 2024-07-12T15:12:44Z - Dataset version was not specified, the latest one was selected: \"202311\"\n",
      "INFO - 2024-07-12T15:12:44Z - Dataset part was not specified, the first one was selected: \"default\"\n",
      "INFO - 2024-07-12T15:12:48Z - Service was not specified, the default one was selected: \"arco-geo-series\"\n",
      "INFO - 2024-07-12T15:12:51Z - Downloading using service arco-geo-series...\n",
      "INFO - 2024-07-12T15:12:58Z - Estimated size of the dataset file is 522.357 MB.\n",
      "INFO - 2024-07-12T15:12:58Z - Writing to local storage. Please wait...\n"
     ]
    },
    {
     "data": {
      "application/vnd.jupyter.widget-view+json": {
       "model_id": "2ec0a358a62249baaab3c205ca3c80b6",
       "version_major": 2,
       "version_minor": 0
      },
      "text/plain": [
       "  0%|          | 0/3722 [00:00<?, ?it/s]"
      ]
     },
     "metadata": {},
     "output_type": "display_data"
    },
    {
     "name": "stderr",
     "output_type": "stream",
     "text": [
      "INFO - 2024-07-12T15:13:58Z - Successfully downloaded to /home/jovyan/shared/data/copernicus/cmems_obs-oc_glo_bgc-plankton_my_l3-multi-4km_P1D/200411.nc\n",
      "INFO - 2024-07-12T15:14:00Z - Dataset version was not specified, the latest one was selected: \"202311\"\n",
      "INFO - 2024-07-12T15:14:00Z - Dataset part was not specified, the first one was selected: \"default\"\n",
      "INFO - 2024-07-12T15:14:03Z - Service was not specified, the default one was selected: \"arco-geo-series\"\n",
      "INFO - 2024-07-12T15:14:06Z - Downloading using service arco-geo-series...\n",
      "INFO - 2024-07-12T15:14:14Z - Estimated size of the dataset file is 539.769 MB.\n",
      "INFO - 2024-07-12T15:14:14Z - Writing to local storage. Please wait...\n"
     ]
    },
    {
     "data": {
      "application/vnd.jupyter.widget-view+json": {
       "model_id": "d7cf78aad3e44303a7e65e6067d0fb54",
       "version_major": 2,
       "version_minor": 0
      },
      "text/plain": [
       "  0%|          | 0/3846 [00:00<?, ?it/s]"
      ]
     },
     "metadata": {},
     "output_type": "display_data"
    },
    {
     "name": "stderr",
     "output_type": "stream",
     "text": [
      "INFO - 2024-07-12T15:15:16Z - Successfully downloaded to /home/jovyan/shared/data/copernicus/cmems_obs-oc_glo_bgc-plankton_my_l3-multi-4km_P1D/200412.nc\n",
      "INFO - 2024-07-12T15:15:17Z - Dataset version was not specified, the latest one was selected: \"202311\"\n",
      "INFO - 2024-07-12T15:15:17Z - Dataset part was not specified, the first one was selected: \"default\"\n",
      "INFO - 2024-07-12T15:15:20Z - Service was not specified, the default one was selected: \"arco-geo-series\"\n",
      "INFO - 2024-07-12T15:15:24Z - Downloading using service arco-geo-series...\n",
      "INFO - 2024-07-12T15:15:31Z - Estimated size of the dataset file is 539.769 MB.\n",
      "INFO - 2024-07-12T15:15:31Z - Writing to local storage. Please wait...\n"
     ]
    },
    {
     "data": {
      "application/vnd.jupyter.widget-view+json": {
       "model_id": "3d057eb4fce140b88b3df8ca26891bd8",
       "version_major": 2,
       "version_minor": 0
      },
      "text/plain": [
       "  0%|          | 0/3846 [00:00<?, ?it/s]"
      ]
     },
     "metadata": {},
     "output_type": "display_data"
    },
    {
     "name": "stderr",
     "output_type": "stream",
     "text": [
      "INFO - 2024-07-12T15:16:33Z - Successfully downloaded to /home/jovyan/shared/data/copernicus/cmems_obs-oc_glo_bgc-plankton_my_l3-multi-4km_P1D/200501.nc\n",
      "INFO - 2024-07-12T15:16:34Z - Dataset version was not specified, the latest one was selected: \"202311\"\n",
      "INFO - 2024-07-12T15:16:34Z - Dataset part was not specified, the first one was selected: \"default\"\n",
      "INFO - 2024-07-12T15:16:38Z - Service was not specified, the default one was selected: \"arco-geo-series\"\n",
      "INFO - 2024-07-12T15:16:41Z - Downloading using service arco-geo-series...\n",
      "INFO - 2024-07-12T15:16:48Z - Estimated size of the dataset file is 487.533 MB.\n",
      "INFO - 2024-07-12T15:16:48Z - Writing to local storage. Please wait...\n"
     ]
    },
    {
     "data": {
      "application/vnd.jupyter.widget-view+json": {
       "model_id": "0f5389c7ed304aec8394c498e2b40895",
       "version_major": 2,
       "version_minor": 0
      },
      "text/plain": [
       "  0%|          | 0/3474 [00:00<?, ?it/s]"
      ]
     },
     "metadata": {},
     "output_type": "display_data"
    },
    {
     "name": "stderr",
     "output_type": "stream",
     "text": [
      "INFO - 2024-07-12T15:17:44Z - Successfully downloaded to /home/jovyan/shared/data/copernicus/cmems_obs-oc_glo_bgc-plankton_my_l3-multi-4km_P1D/200502.nc\n",
      "INFO - 2024-07-12T15:17:45Z - Dataset version was not specified, the latest one was selected: \"202311\"\n",
      "INFO - 2024-07-12T15:17:45Z - Dataset part was not specified, the first one was selected: \"default\"\n",
      "INFO - 2024-07-12T15:17:49Z - Service was not specified, the default one was selected: \"arco-geo-series\"\n",
      "INFO - 2024-07-12T15:17:52Z - Downloading using service arco-geo-series...\n",
      "INFO - 2024-07-12T15:17:59Z - Estimated size of the dataset file is 539.769 MB.\n",
      "INFO - 2024-07-12T15:17:59Z - Writing to local storage. Please wait...\n"
     ]
    },
    {
     "data": {
      "application/vnd.jupyter.widget-view+json": {
       "model_id": "7782f3d4a79c4d5d8a1b9660b313ed38",
       "version_major": 2,
       "version_minor": 0
      },
      "text/plain": [
       "  0%|          | 0/3846 [00:00<?, ?it/s]"
      ]
     },
     "metadata": {},
     "output_type": "display_data"
    },
    {
     "name": "stderr",
     "output_type": "stream",
     "text": [
      "INFO - 2024-07-12T15:19:02Z - Successfully downloaded to /home/jovyan/shared/data/copernicus/cmems_obs-oc_glo_bgc-plankton_my_l3-multi-4km_P1D/200503.nc\n",
      "INFO - 2024-07-12T15:19:03Z - Dataset version was not specified, the latest one was selected: \"202311\"\n",
      "INFO - 2024-07-12T15:19:03Z - Dataset part was not specified, the first one was selected: \"default\"\n",
      "INFO - 2024-07-12T15:19:06Z - Service was not specified, the default one was selected: \"arco-geo-series\"\n",
      "INFO - 2024-07-12T15:19:09Z - Downloading using service arco-geo-series...\n",
      "INFO - 2024-07-12T15:19:17Z - Estimated size of the dataset file is 522.357 MB.\n",
      "INFO - 2024-07-12T15:19:17Z - Writing to local storage. Please wait...\n"
     ]
    },
    {
     "data": {
      "application/vnd.jupyter.widget-view+json": {
       "model_id": "a1602743f87b4daa92da4b985000f11d",
       "version_major": 2,
       "version_minor": 0
      },
      "text/plain": [
       "  0%|          | 0/3722 [00:00<?, ?it/s]"
      ]
     },
     "metadata": {},
     "output_type": "display_data"
    },
    {
     "name": "stderr",
     "output_type": "stream",
     "text": [
      "INFO - 2024-07-12T15:20:17Z - Successfully downloaded to /home/jovyan/shared/data/copernicus/cmems_obs-oc_glo_bgc-plankton_my_l3-multi-4km_P1D/200504.nc\n",
      "INFO - 2024-07-12T15:20:18Z - Dataset version was not specified, the latest one was selected: \"202311\"\n",
      "INFO - 2024-07-12T15:20:19Z - Dataset part was not specified, the first one was selected: \"default\"\n",
      "INFO - 2024-07-12T15:20:22Z - Service was not specified, the default one was selected: \"arco-geo-series\"\n",
      "INFO - 2024-07-12T15:20:25Z - Downloading using service arco-geo-series...\n",
      "INFO - 2024-07-12T15:20:32Z - Estimated size of the dataset file is 539.769 MB.\n",
      "INFO - 2024-07-12T15:20:32Z - Writing to local storage. Please wait...\n"
     ]
    },
    {
     "data": {
      "application/vnd.jupyter.widget-view+json": {
       "model_id": "d6e7f09872d149eba9a858b3c04c45dc",
       "version_major": 2,
       "version_minor": 0
      },
      "text/plain": [
       "  0%|          | 0/3846 [00:00<?, ?it/s]"
      ]
     },
     "metadata": {},
     "output_type": "display_data"
    },
    {
     "name": "stderr",
     "output_type": "stream",
     "text": [
      "INFO - 2024-07-12T15:21:34Z - Successfully downloaded to /home/jovyan/shared/data/copernicus/cmems_obs-oc_glo_bgc-plankton_my_l3-multi-4km_P1D/200505.nc\n",
      "INFO - 2024-07-12T15:21:35Z - Dataset version was not specified, the latest one was selected: \"202311\"\n",
      "INFO - 2024-07-12T15:21:35Z - Dataset part was not specified, the first one was selected: \"default\"\n",
      "INFO - 2024-07-12T15:21:39Z - Service was not specified, the default one was selected: \"arco-geo-series\"\n",
      "INFO - 2024-07-12T15:21:42Z - Downloading using service arco-geo-series...\n",
      "INFO - 2024-07-12T15:21:50Z - Estimated size of the dataset file is 522.357 MB.\n",
      "INFO - 2024-07-12T15:21:50Z - Writing to local storage. Please wait...\n"
     ]
    },
    {
     "data": {
      "application/vnd.jupyter.widget-view+json": {
       "model_id": "bd0e297370db471ebabc63b3103d0f44",
       "version_major": 2,
       "version_minor": 0
      },
      "text/plain": [
       "  0%|          | 0/3722 [00:00<?, ?it/s]"
      ]
     },
     "metadata": {},
     "output_type": "display_data"
    },
    {
     "name": "stderr",
     "output_type": "stream",
     "text": [
      "INFO - 2024-07-12T15:22:49Z - Successfully downloaded to /home/jovyan/shared/data/copernicus/cmems_obs-oc_glo_bgc-plankton_my_l3-multi-4km_P1D/200506.nc\n",
      "INFO - 2024-07-12T15:22:51Z - Dataset version was not specified, the latest one was selected: \"202311\"\n",
      "INFO - 2024-07-12T15:22:51Z - Dataset part was not specified, the first one was selected: \"default\"\n",
      "INFO - 2024-07-12T15:22:54Z - Service was not specified, the default one was selected: \"arco-geo-series\"\n",
      "INFO - 2024-07-12T15:22:57Z - Downloading using service arco-geo-series...\n",
      "INFO - 2024-07-12T15:23:04Z - Estimated size of the dataset file is 539.769 MB.\n",
      "INFO - 2024-07-12T15:23:04Z - Writing to local storage. Please wait...\n"
     ]
    },
    {
     "data": {
      "application/vnd.jupyter.widget-view+json": {
       "model_id": "972e2db240b6452796d4e1887c0cdf3a",
       "version_major": 2,
       "version_minor": 0
      },
      "text/plain": [
       "  0%|          | 0/3846 [00:00<?, ?it/s]"
      ]
     },
     "metadata": {},
     "output_type": "display_data"
    },
    {
     "name": "stderr",
     "output_type": "stream",
     "text": [
      "INFO - 2024-07-12T15:24:06Z - Successfully downloaded to /home/jovyan/shared/data/copernicus/cmems_obs-oc_glo_bgc-plankton_my_l3-multi-4km_P1D/200507.nc\n",
      "INFO - 2024-07-12T15:24:08Z - Dataset version was not specified, the latest one was selected: \"202311\"\n",
      "INFO - 2024-07-12T15:24:08Z - Dataset part was not specified, the first one was selected: \"default\"\n",
      "INFO - 2024-07-12T15:24:11Z - Service was not specified, the default one was selected: \"arco-geo-series\"\n",
      "INFO - 2024-07-12T15:24:14Z - Downloading using service arco-geo-series...\n",
      "INFO - 2024-07-12T15:24:21Z - Estimated size of the dataset file is 539.769 MB.\n",
      "INFO - 2024-07-12T15:24:21Z - Writing to local storage. Please wait...\n"
     ]
    },
    {
     "data": {
      "application/vnd.jupyter.widget-view+json": {
       "model_id": "4fd8024d62ee4839b3fd74bad9801f61",
       "version_major": 2,
       "version_minor": 0
      },
      "text/plain": [
       "  0%|          | 0/3846 [00:00<?, ?it/s]"
      ]
     },
     "metadata": {},
     "output_type": "display_data"
    },
    {
     "name": "stderr",
     "output_type": "stream",
     "text": [
      "INFO - 2024-07-12T15:25:23Z - Successfully downloaded to /home/jovyan/shared/data/copernicus/cmems_obs-oc_glo_bgc-plankton_my_l3-multi-4km_P1D/200508.nc\n",
      "INFO - 2024-07-12T15:25:24Z - Dataset version was not specified, the latest one was selected: \"202311\"\n",
      "INFO - 2024-07-12T15:25:24Z - Dataset part was not specified, the first one was selected: \"default\"\n",
      "INFO - 2024-07-12T15:25:28Z - Service was not specified, the default one was selected: \"arco-geo-series\"\n",
      "INFO - 2024-07-12T15:25:31Z - Downloading using service arco-geo-series...\n",
      "INFO - 2024-07-12T15:25:38Z - Estimated size of the dataset file is 522.357 MB.\n",
      "INFO - 2024-07-12T15:25:38Z - Writing to local storage. Please wait...\n"
     ]
    },
    {
     "data": {
      "application/vnd.jupyter.widget-view+json": {
       "model_id": "22ec9fd7b3b34bc4a29c7888eb673bb9",
       "version_major": 2,
       "version_minor": 0
      },
      "text/plain": [
       "  0%|          | 0/3722 [00:00<?, ?it/s]"
      ]
     },
     "metadata": {},
     "output_type": "display_data"
    },
    {
     "name": "stderr",
     "output_type": "stream",
     "text": [
      "INFO - 2024-07-12T15:26:38Z - Successfully downloaded to /home/jovyan/shared/data/copernicus/cmems_obs-oc_glo_bgc-plankton_my_l3-multi-4km_P1D/200509.nc\n",
      "INFO - 2024-07-12T15:26:39Z - Dataset version was not specified, the latest one was selected: \"202311\"\n",
      "INFO - 2024-07-12T15:26:39Z - Dataset part was not specified, the first one was selected: \"default\"\n",
      "INFO - 2024-07-12T15:26:43Z - Service was not specified, the default one was selected: \"arco-geo-series\"\n",
      "INFO - 2024-07-12T15:26:46Z - Downloading using service arco-geo-series...\n",
      "INFO - 2024-07-12T15:26:53Z - Estimated size of the dataset file is 539.769 MB.\n",
      "INFO - 2024-07-12T15:26:53Z - Writing to local storage. Please wait...\n"
     ]
    },
    {
     "data": {
      "application/vnd.jupyter.widget-view+json": {
       "model_id": "0624638d1bb6429cab8ef519e743ebb1",
       "version_major": 2,
       "version_minor": 0
      },
      "text/plain": [
       "  0%|          | 0/3846 [00:00<?, ?it/s]"
      ]
     },
     "metadata": {},
     "output_type": "display_data"
    },
    {
     "name": "stderr",
     "output_type": "stream",
     "text": [
      "INFO - 2024-07-12T15:27:55Z - Successfully downloaded to /home/jovyan/shared/data/copernicus/cmems_obs-oc_glo_bgc-plankton_my_l3-multi-4km_P1D/200510.nc\n",
      "INFO - 2024-07-12T15:27:56Z - Dataset version was not specified, the latest one was selected: \"202311\"\n",
      "INFO - 2024-07-12T15:27:56Z - Dataset part was not specified, the first one was selected: \"default\"\n",
      "INFO - 2024-07-12T15:28:00Z - Service was not specified, the default one was selected: \"arco-geo-series\"\n",
      "INFO - 2024-07-12T15:28:03Z - Downloading using service arco-geo-series...\n",
      "INFO - 2024-07-12T15:28:10Z - Estimated size of the dataset file is 522.357 MB.\n",
      "INFO - 2024-07-12T15:28:10Z - Writing to local storage. Please wait...\n"
     ]
    },
    {
     "data": {
      "application/vnd.jupyter.widget-view+json": {
       "model_id": "bfc10a57a67b45da87f4f9a7a525d3a8",
       "version_major": 2,
       "version_minor": 0
      },
      "text/plain": [
       "  0%|          | 0/3722 [00:00<?, ?it/s]"
      ]
     },
     "metadata": {},
     "output_type": "display_data"
    },
    {
     "name": "stderr",
     "output_type": "stream",
     "text": [
      "INFO - 2024-07-12T15:29:11Z - Successfully downloaded to /home/jovyan/shared/data/copernicus/cmems_obs-oc_glo_bgc-plankton_my_l3-multi-4km_P1D/200511.nc\n",
      "INFO - 2024-07-12T15:29:12Z - Dataset version was not specified, the latest one was selected: \"202311\"\n",
      "INFO - 2024-07-12T15:29:12Z - Dataset part was not specified, the first one was selected: \"default\"\n",
      "INFO - 2024-07-12T15:29:16Z - Service was not specified, the default one was selected: \"arco-geo-series\"\n",
      "INFO - 2024-07-12T15:29:19Z - Downloading using service arco-geo-series...\n",
      "INFO - 2024-07-12T15:29:26Z - Estimated size of the dataset file is 539.769 MB.\n",
      "INFO - 2024-07-12T15:29:26Z - Writing to local storage. Please wait...\n"
     ]
    },
    {
     "data": {
      "application/vnd.jupyter.widget-view+json": {
       "model_id": "8ef274ef96ac48bfab214035de7e4917",
       "version_major": 2,
       "version_minor": 0
      },
      "text/plain": [
       "  0%|          | 0/3846 [00:00<?, ?it/s]"
      ]
     },
     "metadata": {},
     "output_type": "display_data"
    },
    {
     "name": "stderr",
     "output_type": "stream",
     "text": [
      "INFO - 2024-07-12T15:30:29Z - Successfully downloaded to /home/jovyan/shared/data/copernicus/cmems_obs-oc_glo_bgc-plankton_my_l3-multi-4km_P1D/200512.nc\n",
      "INFO - 2024-07-12T15:30:30Z - Dataset version was not specified, the latest one was selected: \"202311\"\n",
      "INFO - 2024-07-12T15:30:30Z - Dataset part was not specified, the first one was selected: \"default\"\n",
      "INFO - 2024-07-12T15:30:33Z - Service was not specified, the default one was selected: \"arco-geo-series\"\n",
      "INFO - 2024-07-12T15:30:37Z - Downloading using service arco-geo-series...\n",
      "INFO - 2024-07-12T15:30:44Z - Estimated size of the dataset file is 539.769 MB.\n",
      "INFO - 2024-07-12T15:30:44Z - Writing to local storage. Please wait...\n"
     ]
    },
    {
     "data": {
      "application/vnd.jupyter.widget-view+json": {
       "model_id": "bff596605a6b4f93b547cee35aae2742",
       "version_major": 2,
       "version_minor": 0
      },
      "text/plain": [
       "  0%|          | 0/3846 [00:00<?, ?it/s]"
      ]
     },
     "metadata": {},
     "output_type": "display_data"
    },
    {
     "name": "stderr",
     "output_type": "stream",
     "text": [
      "INFO - 2024-07-12T15:31:46Z - Successfully downloaded to /home/jovyan/shared/data/copernicus/cmems_obs-oc_glo_bgc-plankton_my_l3-multi-4km_P1D/200601.nc\n",
      "INFO - 2024-07-12T15:31:48Z - Dataset version was not specified, the latest one was selected: \"202311\"\n",
      "INFO - 2024-07-12T15:31:48Z - Dataset part was not specified, the first one was selected: \"default\"\n",
      "INFO - 2024-07-12T15:31:51Z - Service was not specified, the default one was selected: \"arco-geo-series\"\n",
      "INFO - 2024-07-12T15:31:55Z - Downloading using service arco-geo-series...\n",
      "INFO - 2024-07-12T15:32:02Z - Estimated size of the dataset file is 487.533 MB.\n",
      "INFO - 2024-07-12T15:32:02Z - Writing to local storage. Please wait...\n"
     ]
    },
    {
     "data": {
      "application/vnd.jupyter.widget-view+json": {
       "model_id": "3e9cf6e6ec9542b1bfb6840a9a9aac8f",
       "version_major": 2,
       "version_minor": 0
      },
      "text/plain": [
       "  0%|          | 0/3474 [00:00<?, ?it/s]"
      ]
     },
     "metadata": {},
     "output_type": "display_data"
    },
    {
     "name": "stderr",
     "output_type": "stream",
     "text": [
      "INFO - 2024-07-12T15:32:59Z - Successfully downloaded to /home/jovyan/shared/data/copernicus/cmems_obs-oc_glo_bgc-plankton_my_l3-multi-4km_P1D/200602.nc\n",
      "INFO - 2024-07-12T15:33:00Z - Dataset version was not specified, the latest one was selected: \"202311\"\n",
      "INFO - 2024-07-12T15:33:00Z - Dataset part was not specified, the first one was selected: \"default\"\n",
      "INFO - 2024-07-12T15:33:04Z - Service was not specified, the default one was selected: \"arco-geo-series\"\n",
      "INFO - 2024-07-12T15:33:07Z - Downloading using service arco-geo-series...\n",
      "INFO - 2024-07-12T15:33:14Z - Estimated size of the dataset file is 539.769 MB.\n",
      "INFO - 2024-07-12T15:33:14Z - Writing to local storage. Please wait...\n"
     ]
    },
    {
     "data": {
      "application/vnd.jupyter.widget-view+json": {
       "model_id": "d027bfa41d3c48a9828f0e3c48b48715",
       "version_major": 2,
       "version_minor": 0
      },
      "text/plain": [
       "  0%|          | 0/3846 [00:00<?, ?it/s]"
      ]
     },
     "metadata": {},
     "output_type": "display_data"
    },
    {
     "name": "stderr",
     "output_type": "stream",
     "text": [
      "INFO - 2024-07-12T15:34:16Z - Successfully downloaded to /home/jovyan/shared/data/copernicus/cmems_obs-oc_glo_bgc-plankton_my_l3-multi-4km_P1D/200603.nc\n",
      "INFO - 2024-07-12T15:34:18Z - Dataset version was not specified, the latest one was selected: \"202311\"\n",
      "INFO - 2024-07-12T15:34:18Z - Dataset part was not specified, the first one was selected: \"default\"\n",
      "INFO - 2024-07-12T15:34:21Z - Service was not specified, the default one was selected: \"arco-geo-series\"\n",
      "INFO - 2024-07-12T15:34:24Z - Downloading using service arco-geo-series...\n",
      "INFO - 2024-07-12T15:34:32Z - Estimated size of the dataset file is 522.357 MB.\n",
      "INFO - 2024-07-12T15:34:32Z - Writing to local storage. Please wait...\n"
     ]
    },
    {
     "data": {
      "application/vnd.jupyter.widget-view+json": {
       "model_id": "7459f7ad1bcc42f794fcbb39ee60d568",
       "version_major": 2,
       "version_minor": 0
      },
      "text/plain": [
       "  0%|          | 0/3722 [00:00<?, ?it/s]"
      ]
     },
     "metadata": {},
     "output_type": "display_data"
    },
    {
     "name": "stderr",
     "output_type": "stream",
     "text": [
      "INFO - 2024-07-12T15:35:32Z - Successfully downloaded to /home/jovyan/shared/data/copernicus/cmems_obs-oc_glo_bgc-plankton_my_l3-multi-4km_P1D/200604.nc\n",
      "INFO - 2024-07-12T15:35:34Z - Dataset version was not specified, the latest one was selected: \"202311\"\n",
      "INFO - 2024-07-12T15:35:34Z - Dataset part was not specified, the first one was selected: \"default\"\n",
      "INFO - 2024-07-12T15:35:37Z - Service was not specified, the default one was selected: \"arco-geo-series\"\n",
      "INFO - 2024-07-12T15:35:40Z - Downloading using service arco-geo-series...\n",
      "INFO - 2024-07-12T15:35:47Z - Estimated size of the dataset file is 539.769 MB.\n",
      "INFO - 2024-07-12T15:35:47Z - Writing to local storage. Please wait...\n"
     ]
    },
    {
     "data": {
      "application/vnd.jupyter.widget-view+json": {
       "model_id": "5dd788aba37e4e9caba53565aee57e15",
       "version_major": 2,
       "version_minor": 0
      },
      "text/plain": [
       "  0%|          | 0/3846 [00:00<?, ?it/s]"
      ]
     },
     "metadata": {},
     "output_type": "display_data"
    },
    {
     "name": "stderr",
     "output_type": "stream",
     "text": [
      "INFO - 2024-07-12T15:36:50Z - Successfully downloaded to /home/jovyan/shared/data/copernicus/cmems_obs-oc_glo_bgc-plankton_my_l3-multi-4km_P1D/200605.nc\n",
      "INFO - 2024-07-12T15:36:52Z - Dataset version was not specified, the latest one was selected: \"202311\"\n",
      "INFO - 2024-07-12T15:36:52Z - Dataset part was not specified, the first one was selected: \"default\"\n",
      "INFO - 2024-07-12T15:36:55Z - Service was not specified, the default one was selected: \"arco-geo-series\"\n",
      "INFO - 2024-07-12T15:36:58Z - Downloading using service arco-geo-series...\n",
      "INFO - 2024-07-12T15:37:05Z - Estimated size of the dataset file is 522.357 MB.\n",
      "INFO - 2024-07-12T15:37:05Z - Writing to local storage. Please wait...\n"
     ]
    },
    {
     "data": {
      "application/vnd.jupyter.widget-view+json": {
       "model_id": "e0d8045a99e24cb79360bec287001d1d",
       "version_major": 2,
       "version_minor": 0
      },
      "text/plain": [
       "  0%|          | 0/3722 [00:00<?, ?it/s]"
      ]
     },
     "metadata": {},
     "output_type": "display_data"
    },
    {
     "name": "stderr",
     "output_type": "stream",
     "text": [
      "INFO - 2024-07-12T15:38:05Z - Successfully downloaded to /home/jovyan/shared/data/copernicus/cmems_obs-oc_glo_bgc-plankton_my_l3-multi-4km_P1D/200606.nc\n",
      "INFO - 2024-07-12T15:38:06Z - Dataset version was not specified, the latest one was selected: \"202311\"\n",
      "INFO - 2024-07-12T15:38:06Z - Dataset part was not specified, the first one was selected: \"default\"\n",
      "INFO - 2024-07-12T15:38:09Z - Service was not specified, the default one was selected: \"arco-geo-series\"\n",
      "INFO - 2024-07-12T15:38:13Z - Downloading using service arco-geo-series...\n",
      "INFO - 2024-07-12T15:38:20Z - Estimated size of the dataset file is 539.769 MB.\n",
      "INFO - 2024-07-12T15:38:20Z - Writing to local storage. Please wait...\n"
     ]
    },
    {
     "data": {
      "application/vnd.jupyter.widget-view+json": {
       "model_id": "17c75fa1f38a41d8bd17faf9929b8719",
       "version_major": 2,
       "version_minor": 0
      },
      "text/plain": [
       "  0%|          | 0/3846 [00:00<?, ?it/s]"
      ]
     },
     "metadata": {},
     "output_type": "display_data"
    },
    {
     "name": "stderr",
     "output_type": "stream",
     "text": [
      "INFO - 2024-07-12T15:39:22Z - Successfully downloaded to /home/jovyan/shared/data/copernicus/cmems_obs-oc_glo_bgc-plankton_my_l3-multi-4km_P1D/200607.nc\n",
      "INFO - 2024-07-12T15:39:23Z - Dataset version was not specified, the latest one was selected: \"202311\"\n",
      "INFO - 2024-07-12T15:39:23Z - Dataset part was not specified, the first one was selected: \"default\"\n",
      "INFO - 2024-07-12T15:39:26Z - Service was not specified, the default one was selected: \"arco-geo-series\"\n",
      "INFO - 2024-07-12T15:39:30Z - Downloading using service arco-geo-series...\n",
      "INFO - 2024-07-12T15:39:37Z - Estimated size of the dataset file is 539.769 MB.\n",
      "INFO - 2024-07-12T15:39:37Z - Writing to local storage. Please wait...\n"
     ]
    },
    {
     "data": {
      "application/vnd.jupyter.widget-view+json": {
       "model_id": "25b879997b57433eb5bb4924734956af",
       "version_major": 2,
       "version_minor": 0
      },
      "text/plain": [
       "  0%|          | 0/3846 [00:00<?, ?it/s]"
      ]
     },
     "metadata": {},
     "output_type": "display_data"
    },
    {
     "name": "stderr",
     "output_type": "stream",
     "text": [
      "INFO - 2024-07-12T15:40:39Z - Successfully downloaded to /home/jovyan/shared/data/copernicus/cmems_obs-oc_glo_bgc-plankton_my_l3-multi-4km_P1D/200608.nc\n",
      "INFO - 2024-07-12T15:40:40Z - Dataset version was not specified, the latest one was selected: \"202311\"\n",
      "INFO - 2024-07-12T15:40:40Z - Dataset part was not specified, the first one was selected: \"default\"\n",
      "INFO - 2024-07-12T15:40:43Z - Service was not specified, the default one was selected: \"arco-geo-series\"\n",
      "INFO - 2024-07-12T15:40:47Z - Downloading using service arco-geo-series...\n",
      "INFO - 2024-07-12T15:40:54Z - Estimated size of the dataset file is 522.357 MB.\n",
      "INFO - 2024-07-12T15:40:54Z - Writing to local storage. Please wait...\n"
     ]
    },
    {
     "data": {
      "application/vnd.jupyter.widget-view+json": {
       "model_id": "781170a0d08c4ae782f0505cf6516de5",
       "version_major": 2,
       "version_minor": 0
      },
      "text/plain": [
       "  0%|          | 0/3722 [00:00<?, ?it/s]"
      ]
     },
     "metadata": {},
     "output_type": "display_data"
    },
    {
     "name": "stderr",
     "output_type": "stream",
     "text": [
      "INFO - 2024-07-12T15:41:54Z - Successfully downloaded to /home/jovyan/shared/data/copernicus/cmems_obs-oc_glo_bgc-plankton_my_l3-multi-4km_P1D/200609.nc\n",
      "INFO - 2024-07-12T15:41:55Z - Dataset version was not specified, the latest one was selected: \"202311\"\n",
      "INFO - 2024-07-12T15:41:55Z - Dataset part was not specified, the first one was selected: \"default\"\n",
      "INFO - 2024-07-12T15:41:58Z - Service was not specified, the default one was selected: \"arco-geo-series\"\n",
      "INFO - 2024-07-12T15:42:01Z - Downloading using service arco-geo-series...\n",
      "INFO - 2024-07-12T15:42:08Z - Estimated size of the dataset file is 539.769 MB.\n",
      "INFO - 2024-07-12T15:42:08Z - Writing to local storage. Please wait...\n"
     ]
    },
    {
     "data": {
      "application/vnd.jupyter.widget-view+json": {
       "model_id": "cfb0fb19d57a472b82ae94f4993a9baf",
       "version_major": 2,
       "version_minor": 0
      },
      "text/plain": [
       "  0%|          | 0/3846 [00:00<?, ?it/s]"
      ]
     },
     "metadata": {},
     "output_type": "display_data"
    },
    {
     "name": "stderr",
     "output_type": "stream",
     "text": [
      "INFO - 2024-07-12T15:43:11Z - Successfully downloaded to /home/jovyan/shared/data/copernicus/cmems_obs-oc_glo_bgc-plankton_my_l3-multi-4km_P1D/200610.nc\n",
      "INFO - 2024-07-12T15:43:12Z - Dataset version was not specified, the latest one was selected: \"202311\"\n",
      "INFO - 2024-07-12T15:43:12Z - Dataset part was not specified, the first one was selected: \"default\"\n",
      "INFO - 2024-07-12T15:43:16Z - Service was not specified, the default one was selected: \"arco-geo-series\"\n",
      "INFO - 2024-07-12T15:43:19Z - Downloading using service arco-geo-series...\n",
      "INFO - 2024-07-12T15:43:26Z - Estimated size of the dataset file is 522.357 MB.\n",
      "INFO - 2024-07-12T15:43:26Z - Writing to local storage. Please wait...\n"
     ]
    },
    {
     "data": {
      "application/vnd.jupyter.widget-view+json": {
       "model_id": "b89a70eafc7348c0802793ef140550cc",
       "version_major": 2,
       "version_minor": 0
      },
      "text/plain": [
       "  0%|          | 0/3722 [00:00<?, ?it/s]"
      ]
     },
     "metadata": {},
     "output_type": "display_data"
    },
    {
     "name": "stderr",
     "output_type": "stream",
     "text": [
      "INFO - 2024-07-12T15:44:26Z - Successfully downloaded to /home/jovyan/shared/data/copernicus/cmems_obs-oc_glo_bgc-plankton_my_l3-multi-4km_P1D/200611.nc\n",
      "INFO - 2024-07-12T15:44:28Z - Dataset version was not specified, the latest one was selected: \"202311\"\n",
      "INFO - 2024-07-12T15:44:28Z - Dataset part was not specified, the first one was selected: \"default\"\n",
      "INFO - 2024-07-12T15:44:31Z - Service was not specified, the default one was selected: \"arco-geo-series\"\n",
      "INFO - 2024-07-12T15:44:35Z - Downloading using service arco-geo-series...\n",
      "INFO - 2024-07-12T15:44:42Z - Estimated size of the dataset file is 539.769 MB.\n",
      "INFO - 2024-07-12T15:44:42Z - Writing to local storage. Please wait...\n"
     ]
    },
    {
     "data": {
      "application/vnd.jupyter.widget-view+json": {
       "model_id": "f1f34cac9920451bab71d5591988adb0",
       "version_major": 2,
       "version_minor": 0
      },
      "text/plain": [
       "  0%|          | 0/3846 [00:00<?, ?it/s]"
      ]
     },
     "metadata": {},
     "output_type": "display_data"
    },
    {
     "name": "stderr",
     "output_type": "stream",
     "text": [
      "INFO - 2024-07-12T15:45:44Z - Successfully downloaded to /home/jovyan/shared/data/copernicus/cmems_obs-oc_glo_bgc-plankton_my_l3-multi-4km_P1D/200612.nc\n",
      "INFO - 2024-07-12T15:45:45Z - Dataset version was not specified, the latest one was selected: \"202311\"\n",
      "INFO - 2024-07-12T15:45:45Z - Dataset part was not specified, the first one was selected: \"default\"\n",
      "INFO - 2024-07-12T15:45:49Z - Service was not specified, the default one was selected: \"arco-geo-series\"\n",
      "INFO - 2024-07-12T15:45:52Z - Downloading using service arco-geo-series...\n",
      "INFO - 2024-07-12T15:45:59Z - Estimated size of the dataset file is 539.769 MB.\n",
      "INFO - 2024-07-12T15:45:59Z - Writing to local storage. Please wait...\n"
     ]
    },
    {
     "data": {
      "application/vnd.jupyter.widget-view+json": {
       "model_id": "716da3238b2c4598946bbd6444f0e8b0",
       "version_major": 2,
       "version_minor": 0
      },
      "text/plain": [
       "  0%|          | 0/3846 [00:00<?, ?it/s]"
      ]
     },
     "metadata": {},
     "output_type": "display_data"
    },
    {
     "name": "stderr",
     "output_type": "stream",
     "text": [
      "INFO - 2024-07-12T15:47:02Z - Successfully downloaded to /home/jovyan/shared/data/copernicus/cmems_obs-oc_glo_bgc-plankton_my_l3-multi-4km_P1D/200701.nc\n",
      "INFO - 2024-07-12T15:47:03Z - Dataset version was not specified, the latest one was selected: \"202311\"\n",
      "INFO - 2024-07-12T15:47:03Z - Dataset part was not specified, the first one was selected: \"default\"\n",
      "INFO - 2024-07-12T15:47:06Z - Service was not specified, the default one was selected: \"arco-geo-series\"\n",
      "INFO - 2024-07-12T15:47:10Z - Downloading using service arco-geo-series...\n",
      "INFO - 2024-07-12T15:47:17Z - Estimated size of the dataset file is 487.533 MB.\n",
      "INFO - 2024-07-12T15:47:17Z - Writing to local storage. Please wait...\n"
     ]
    },
    {
     "data": {
      "application/vnd.jupyter.widget-view+json": {
       "model_id": "9613d1c7df864457981975ce18e6ae8c",
       "version_major": 2,
       "version_minor": 0
      },
      "text/plain": [
       "  0%|          | 0/3474 [00:00<?, ?it/s]"
      ]
     },
     "metadata": {},
     "output_type": "display_data"
    },
    {
     "name": "stderr",
     "output_type": "stream",
     "text": [
      "INFO - 2024-07-12T15:48:13Z - Successfully downloaded to /home/jovyan/shared/data/copernicus/cmems_obs-oc_glo_bgc-plankton_my_l3-multi-4km_P1D/200702.nc\n",
      "INFO - 2024-07-12T15:48:14Z - Dataset version was not specified, the latest one was selected: \"202311\"\n",
      "INFO - 2024-07-12T15:48:14Z - Dataset part was not specified, the first one was selected: \"default\"\n",
      "INFO - 2024-07-12T15:48:18Z - Service was not specified, the default one was selected: \"arco-geo-series\"\n",
      "INFO - 2024-07-12T15:48:21Z - Downloading using service arco-geo-series...\n",
      "INFO - 2024-07-12T15:48:28Z - Estimated size of the dataset file is 539.769 MB.\n",
      "INFO - 2024-07-12T15:48:28Z - Writing to local storage. Please wait...\n"
     ]
    },
    {
     "data": {
      "application/vnd.jupyter.widget-view+json": {
       "model_id": "8595b2829ab24275ae260f19305e9e3e",
       "version_major": 2,
       "version_minor": 0
      },
      "text/plain": [
       "  0%|          | 0/3846 [00:00<?, ?it/s]"
      ]
     },
     "metadata": {},
     "output_type": "display_data"
    },
    {
     "name": "stderr",
     "output_type": "stream",
     "text": [
      "INFO - 2024-07-12T15:49:30Z - Successfully downloaded to /home/jovyan/shared/data/copernicus/cmems_obs-oc_glo_bgc-plankton_my_l3-multi-4km_P1D/200703.nc\n",
      "INFO - 2024-07-12T15:49:32Z - Dataset version was not specified, the latest one was selected: \"202311\"\n",
      "INFO - 2024-07-12T15:49:32Z - Dataset part was not specified, the first one was selected: \"default\"\n",
      "INFO - 2024-07-12T15:49:35Z - Service was not specified, the default one was selected: \"arco-geo-series\"\n",
      "INFO - 2024-07-12T15:49:39Z - Downloading using service arco-geo-series...\n",
      "INFO - 2024-07-12T15:49:46Z - Estimated size of the dataset file is 522.357 MB.\n",
      "INFO - 2024-07-12T15:49:46Z - Writing to local storage. Please wait...\n"
     ]
    },
    {
     "data": {
      "application/vnd.jupyter.widget-view+json": {
       "model_id": "6762ea73344f4439ab705a616367209a",
       "version_major": 2,
       "version_minor": 0
      },
      "text/plain": [
       "  0%|          | 0/3722 [00:00<?, ?it/s]"
      ]
     },
     "metadata": {},
     "output_type": "display_data"
    },
    {
     "name": "stderr",
     "output_type": "stream",
     "text": [
      "INFO - 2024-07-12T15:50:46Z - Successfully downloaded to /home/jovyan/shared/data/copernicus/cmems_obs-oc_glo_bgc-plankton_my_l3-multi-4km_P1D/200704.nc\n",
      "INFO - 2024-07-12T15:50:48Z - Dataset version was not specified, the latest one was selected: \"202311\"\n",
      "INFO - 2024-07-12T15:50:48Z - Dataset part was not specified, the first one was selected: \"default\"\n",
      "INFO - 2024-07-12T15:50:51Z - Service was not specified, the default one was selected: \"arco-geo-series\"\n",
      "INFO - 2024-07-12T15:50:54Z - Downloading using service arco-geo-series...\n",
      "INFO - 2024-07-12T15:51:02Z - Estimated size of the dataset file is 539.769 MB.\n",
      "INFO - 2024-07-12T15:51:02Z - Writing to local storage. Please wait...\n"
     ]
    },
    {
     "data": {
      "application/vnd.jupyter.widget-view+json": {
       "model_id": "02b5a6b068e344fb8d22ed6469321cab",
       "version_major": 2,
       "version_minor": 0
      },
      "text/plain": [
       "  0%|          | 0/3846 [00:00<?, ?it/s]"
      ]
     },
     "metadata": {},
     "output_type": "display_data"
    },
    {
     "name": "stderr",
     "output_type": "stream",
     "text": [
      "INFO - 2024-07-12T15:52:04Z - Successfully downloaded to /home/jovyan/shared/data/copernicus/cmems_obs-oc_glo_bgc-plankton_my_l3-multi-4km_P1D/200705.nc\n",
      "INFO - 2024-07-12T15:52:05Z - Dataset version was not specified, the latest one was selected: \"202311\"\n",
      "INFO - 2024-07-12T15:52:05Z - Dataset part was not specified, the first one was selected: \"default\"\n",
      "INFO - 2024-07-12T15:52:09Z - Service was not specified, the default one was selected: \"arco-geo-series\"\n",
      "INFO - 2024-07-12T15:52:12Z - Downloading using service arco-geo-series...\n",
      "INFO - 2024-07-12T15:52:19Z - Estimated size of the dataset file is 522.357 MB.\n",
      "INFO - 2024-07-12T15:52:19Z - Writing to local storage. Please wait...\n"
     ]
    },
    {
     "data": {
      "application/vnd.jupyter.widget-view+json": {
       "model_id": "5c854af45d4a48dda15e6775fdc894c0",
       "version_major": 2,
       "version_minor": 0
      },
      "text/plain": [
       "  0%|          | 0/3722 [00:00<?, ?it/s]"
      ]
     },
     "metadata": {},
     "output_type": "display_data"
    },
    {
     "name": "stderr",
     "output_type": "stream",
     "text": [
      "INFO - 2024-07-12T15:53:19Z - Successfully downloaded to /home/jovyan/shared/data/copernicus/cmems_obs-oc_glo_bgc-plankton_my_l3-multi-4km_P1D/200706.nc\n",
      "INFO - 2024-07-12T15:53:20Z - Dataset version was not specified, the latest one was selected: \"202311\"\n",
      "INFO - 2024-07-12T15:53:20Z - Dataset part was not specified, the first one was selected: \"default\"\n",
      "INFO - 2024-07-12T15:53:23Z - Service was not specified, the default one was selected: \"arco-geo-series\"\n",
      "INFO - 2024-07-12T15:53:27Z - Downloading using service arco-geo-series...\n",
      "INFO - 2024-07-12T15:53:34Z - Estimated size of the dataset file is 539.769 MB.\n",
      "INFO - 2024-07-12T15:53:34Z - Writing to local storage. Please wait...\n"
     ]
    },
    {
     "data": {
      "application/vnd.jupyter.widget-view+json": {
       "model_id": "bfde4e4ee79e49b7983e5c139cd9aa08",
       "version_major": 2,
       "version_minor": 0
      },
      "text/plain": [
       "  0%|          | 0/3846 [00:00<?, ?it/s]"
      ]
     },
     "metadata": {},
     "output_type": "display_data"
    },
    {
     "name": "stderr",
     "output_type": "stream",
     "text": [
      "INFO - 2024-07-12T15:54:36Z - Successfully downloaded to /home/jovyan/shared/data/copernicus/cmems_obs-oc_glo_bgc-plankton_my_l3-multi-4km_P1D/200707.nc\n",
      "INFO - 2024-07-12T15:54:37Z - Dataset version was not specified, the latest one was selected: \"202311\"\n",
      "INFO - 2024-07-12T15:54:37Z - Dataset part was not specified, the first one was selected: \"default\"\n",
      "INFO - 2024-07-12T15:54:40Z - Service was not specified, the default one was selected: \"arco-geo-series\"\n",
      "INFO - 2024-07-12T15:54:44Z - Downloading using service arco-geo-series...\n",
      "INFO - 2024-07-12T15:54:51Z - Estimated size of the dataset file is 539.769 MB.\n",
      "INFO - 2024-07-12T15:54:51Z - Writing to local storage. Please wait...\n"
     ]
    },
    {
     "data": {
      "application/vnd.jupyter.widget-view+json": {
       "model_id": "08cedb15199e4fd89a3be464b53d549d",
       "version_major": 2,
       "version_minor": 0
      },
      "text/plain": [
       "  0%|          | 0/3846 [00:00<?, ?it/s]"
      ]
     },
     "metadata": {},
     "output_type": "display_data"
    },
    {
     "name": "stderr",
     "output_type": "stream",
     "text": [
      "INFO - 2024-07-12T15:55:53Z - Successfully downloaded to /home/jovyan/shared/data/copernicus/cmems_obs-oc_glo_bgc-plankton_my_l3-multi-4km_P1D/200708.nc\n",
      "INFO - 2024-07-12T15:55:54Z - Dataset version was not specified, the latest one was selected: \"202311\"\n",
      "INFO - 2024-07-12T15:55:54Z - Dataset part was not specified, the first one was selected: \"default\"\n",
      "INFO - 2024-07-12T15:55:57Z - Service was not specified, the default one was selected: \"arco-geo-series\"\n",
      "INFO - 2024-07-12T15:56:01Z - Downloading using service arco-geo-series...\n",
      "INFO - 2024-07-12T15:56:07Z - Estimated size of the dataset file is 522.357 MB.\n",
      "INFO - 2024-07-12T15:56:07Z - Writing to local storage. Please wait...\n"
     ]
    },
    {
     "data": {
      "application/vnd.jupyter.widget-view+json": {
       "model_id": "f953b292a4a44f86920e96761e279ecc",
       "version_major": 2,
       "version_minor": 0
      },
      "text/plain": [
       "  0%|          | 0/3722 [00:00<?, ?it/s]"
      ]
     },
     "metadata": {},
     "output_type": "display_data"
    },
    {
     "name": "stderr",
     "output_type": "stream",
     "text": [
      "INFO - 2024-07-12T15:57:07Z - Successfully downloaded to /home/jovyan/shared/data/copernicus/cmems_obs-oc_glo_bgc-plankton_my_l3-multi-4km_P1D/200709.nc\n",
      "INFO - 2024-07-12T15:57:08Z - Dataset version was not specified, the latest one was selected: \"202311\"\n",
      "INFO - 2024-07-12T15:57:08Z - Dataset part was not specified, the first one was selected: \"default\"\n",
      "INFO - 2024-07-12T15:57:11Z - Service was not specified, the default one was selected: \"arco-geo-series\"\n",
      "INFO - 2024-07-12T15:57:15Z - Downloading using service arco-geo-series...\n",
      "INFO - 2024-07-12T15:57:22Z - Estimated size of the dataset file is 539.769 MB.\n",
      "INFO - 2024-07-12T15:57:22Z - Writing to local storage. Please wait...\n"
     ]
    },
    {
     "data": {
      "application/vnd.jupyter.widget-view+json": {
       "model_id": "1f1f475a926b44b5a561e707d0e748c1",
       "version_major": 2,
       "version_minor": 0
      },
      "text/plain": [
       "  0%|          | 0/3846 [00:00<?, ?it/s]"
      ]
     },
     "metadata": {},
     "output_type": "display_data"
    },
    {
     "name": "stderr",
     "output_type": "stream",
     "text": [
      "INFO - 2024-07-12T15:58:23Z - Successfully downloaded to /home/jovyan/shared/data/copernicus/cmems_obs-oc_glo_bgc-plankton_my_l3-multi-4km_P1D/200710.nc\n",
      "INFO - 2024-07-12T15:58:25Z - Dataset version was not specified, the latest one was selected: \"202311\"\n",
      "INFO - 2024-07-12T15:58:25Z - Dataset part was not specified, the first one was selected: \"default\"\n",
      "INFO - 2024-07-12T15:58:28Z - Service was not specified, the default one was selected: \"arco-geo-series\"\n",
      "INFO - 2024-07-12T15:58:32Z - Downloading using service arco-geo-series...\n",
      "INFO - 2024-07-12T15:58:39Z - Estimated size of the dataset file is 522.357 MB.\n",
      "INFO - 2024-07-12T15:58:39Z - Writing to local storage. Please wait...\n"
     ]
    },
    {
     "data": {
      "application/vnd.jupyter.widget-view+json": {
       "model_id": "f0ba1ef44bb04b9b8761eb380e6e304f",
       "version_major": 2,
       "version_minor": 0
      },
      "text/plain": [
       "  0%|          | 0/3722 [00:00<?, ?it/s]"
      ]
     },
     "metadata": {},
     "output_type": "display_data"
    },
    {
     "name": "stderr",
     "output_type": "stream",
     "text": [
      "INFO - 2024-07-12T15:59:39Z - Successfully downloaded to /home/jovyan/shared/data/copernicus/cmems_obs-oc_glo_bgc-plankton_my_l3-multi-4km_P1D/200711.nc\n",
      "INFO - 2024-07-12T15:59:40Z - Dataset version was not specified, the latest one was selected: \"202311\"\n",
      "INFO - 2024-07-12T15:59:40Z - Dataset part was not specified, the first one was selected: \"default\"\n",
      "INFO - 2024-07-12T15:59:44Z - Service was not specified, the default one was selected: \"arco-geo-series\"\n",
      "INFO - 2024-07-12T15:59:48Z - Downloading using service arco-geo-series...\n",
      "INFO - 2024-07-12T15:59:55Z - Estimated size of the dataset file is 539.769 MB.\n",
      "INFO - 2024-07-12T15:59:55Z - Writing to local storage. Please wait...\n"
     ]
    },
    {
     "data": {
      "application/vnd.jupyter.widget-view+json": {
       "model_id": "00e28d5068fb4e78a92c986eae4272b6",
       "version_major": 2,
       "version_minor": 0
      },
      "text/plain": [
       "  0%|          | 0/3846 [00:00<?, ?it/s]"
      ]
     },
     "metadata": {},
     "output_type": "display_data"
    },
    {
     "name": "stderr",
     "output_type": "stream",
     "text": [
      "INFO - 2024-07-12T16:00:57Z - Successfully downloaded to /home/jovyan/shared/data/copernicus/cmems_obs-oc_glo_bgc-plankton_my_l3-multi-4km_P1D/200712.nc\n",
      "INFO - 2024-07-12T16:00:58Z - Dataset version was not specified, the latest one was selected: \"202311\"\n",
      "INFO - 2024-07-12T16:00:58Z - Dataset part was not specified, the first one was selected: \"default\"\n",
      "INFO - 2024-07-12T16:01:02Z - Service was not specified, the default one was selected: \"arco-geo-series\"\n",
      "INFO - 2024-07-12T16:01:05Z - Downloading using service arco-geo-series...\n",
      "INFO - 2024-07-12T16:01:12Z - Estimated size of the dataset file is 539.769 MB.\n",
      "INFO - 2024-07-12T16:01:12Z - Writing to local storage. Please wait...\n"
     ]
    },
    {
     "data": {
      "application/vnd.jupyter.widget-view+json": {
       "model_id": "6620c1ccba5d439db68ef0c547f6c3f3",
       "version_major": 2,
       "version_minor": 0
      },
      "text/plain": [
       "  0%|          | 0/3846 [00:00<?, ?it/s]"
      ]
     },
     "metadata": {},
     "output_type": "display_data"
    },
    {
     "name": "stderr",
     "output_type": "stream",
     "text": [
      "INFO - 2024-07-12T16:02:14Z - Successfully downloaded to /home/jovyan/shared/data/copernicus/cmems_obs-oc_glo_bgc-plankton_my_l3-multi-4km_P1D/200801.nc\n",
      "INFO - 2024-07-12T16:02:15Z - Dataset version was not specified, the latest one was selected: \"202311\"\n",
      "INFO - 2024-07-12T16:02:15Z - Dataset part was not specified, the first one was selected: \"default\"\n",
      "INFO - 2024-07-12T16:02:18Z - Service was not specified, the default one was selected: \"arco-geo-series\"\n",
      "INFO - 2024-07-12T16:02:22Z - Downloading using service arco-geo-series...\n",
      "INFO - 2024-07-12T16:02:29Z - Estimated size of the dataset file is 504.945 MB.\n",
      "INFO - 2024-07-12T16:02:29Z - Writing to local storage. Please wait...\n"
     ]
    },
    {
     "data": {
      "application/vnd.jupyter.widget-view+json": {
       "model_id": "dbef8d837b5e4acc95acc760733bda7d",
       "version_major": 2,
       "version_minor": 0
      },
      "text/plain": [
       "  0%|          | 0/3598 [00:00<?, ?it/s]"
      ]
     },
     "metadata": {},
     "output_type": "display_data"
    },
    {
     "name": "stderr",
     "output_type": "stream",
     "text": [
      "INFO - 2024-07-12T16:03:27Z - Successfully downloaded to /home/jovyan/shared/data/copernicus/cmems_obs-oc_glo_bgc-plankton_my_l3-multi-4km_P1D/200802.nc\n",
      "INFO - 2024-07-12T16:03:28Z - Dataset version was not specified, the latest one was selected: \"202311\"\n",
      "INFO - 2024-07-12T16:03:28Z - Dataset part was not specified, the first one was selected: \"default\"\n",
      "INFO - 2024-07-12T16:03:32Z - Service was not specified, the default one was selected: \"arco-geo-series\"\n",
      "INFO - 2024-07-12T16:03:36Z - Downloading using service arco-geo-series...\n",
      "INFO - 2024-07-12T16:03:42Z - Estimated size of the dataset file is 539.769 MB.\n",
      "INFO - 2024-07-12T16:03:42Z - Writing to local storage. Please wait...\n"
     ]
    },
    {
     "data": {
      "application/vnd.jupyter.widget-view+json": {
       "model_id": "2e00e674b4a941bd9aee30d6e6fe28e9",
       "version_major": 2,
       "version_minor": 0
      },
      "text/plain": [
       "  0%|          | 0/3846 [00:00<?, ?it/s]"
      ]
     },
     "metadata": {},
     "output_type": "display_data"
    },
    {
     "name": "stderr",
     "output_type": "stream",
     "text": [
      "INFO - 2024-07-12T16:04:44Z - Successfully downloaded to /home/jovyan/shared/data/copernicus/cmems_obs-oc_glo_bgc-plankton_my_l3-multi-4km_P1D/200803.nc\n",
      "INFO - 2024-07-12T16:04:45Z - Dataset version was not specified, the latest one was selected: \"202311\"\n",
      "INFO - 2024-07-12T16:04:45Z - Dataset part was not specified, the first one was selected: \"default\"\n",
      "INFO - 2024-07-12T16:04:49Z - Service was not specified, the default one was selected: \"arco-geo-series\"\n",
      "INFO - 2024-07-12T16:04:52Z - Downloading using service arco-geo-series...\n",
      "INFO - 2024-07-12T16:05:00Z - Estimated size of the dataset file is 522.357 MB.\n",
      "INFO - 2024-07-12T16:05:00Z - Writing to local storage. Please wait...\n"
     ]
    },
    {
     "data": {
      "application/vnd.jupyter.widget-view+json": {
       "model_id": "13857c1d9682411a9e1d1ba8966e0831",
       "version_major": 2,
       "version_minor": 0
      },
      "text/plain": [
       "  0%|          | 0/3722 [00:00<?, ?it/s]"
      ]
     },
     "metadata": {},
     "output_type": "display_data"
    },
    {
     "name": "stderr",
     "output_type": "stream",
     "text": [
      "INFO - 2024-07-12T16:05:59Z - Successfully downloaded to /home/jovyan/shared/data/copernicus/cmems_obs-oc_glo_bgc-plankton_my_l3-multi-4km_P1D/200804.nc\n",
      "INFO - 2024-07-12T16:06:00Z - Dataset version was not specified, the latest one was selected: \"202311\"\n",
      "INFO - 2024-07-12T16:06:00Z - Dataset part was not specified, the first one was selected: \"default\"\n",
      "INFO - 2024-07-12T16:06:04Z - Service was not specified, the default one was selected: \"arco-geo-series\"\n",
      "INFO - 2024-07-12T16:06:07Z - Downloading using service arco-geo-series...\n",
      "INFO - 2024-07-12T16:06:14Z - Estimated size of the dataset file is 539.769 MB.\n",
      "INFO - 2024-07-12T16:06:14Z - Writing to local storage. Please wait...\n"
     ]
    },
    {
     "data": {
      "application/vnd.jupyter.widget-view+json": {
       "model_id": "6e81aeeaf7b54ba1a1851875a8bc79be",
       "version_major": 2,
       "version_minor": 0
      },
      "text/plain": [
       "  0%|          | 0/3846 [00:00<?, ?it/s]"
      ]
     },
     "metadata": {},
     "output_type": "display_data"
    },
    {
     "name": "stderr",
     "output_type": "stream",
     "text": [
      "INFO - 2024-07-12T16:07:16Z - Successfully downloaded to /home/jovyan/shared/data/copernicus/cmems_obs-oc_glo_bgc-plankton_my_l3-multi-4km_P1D/200805.nc\n",
      "INFO - 2024-07-12T16:07:18Z - Dataset version was not specified, the latest one was selected: \"202311\"\n",
      "INFO - 2024-07-12T16:07:18Z - Dataset part was not specified, the first one was selected: \"default\"\n",
      "INFO - 2024-07-12T16:07:21Z - Service was not specified, the default one was selected: \"arco-geo-series\"\n",
      "INFO - 2024-07-12T16:07:24Z - Downloading using service arco-geo-series...\n",
      "INFO - 2024-07-12T16:07:31Z - Estimated size of the dataset file is 522.357 MB.\n",
      "INFO - 2024-07-12T16:07:31Z - Writing to local storage. Please wait...\n"
     ]
    },
    {
     "data": {
      "application/vnd.jupyter.widget-view+json": {
       "model_id": "64f73de5290549d7a64a90c639bf6c8d",
       "version_major": 2,
       "version_minor": 0
      },
      "text/plain": [
       "  0%|          | 0/3722 [00:00<?, ?it/s]"
      ]
     },
     "metadata": {},
     "output_type": "display_data"
    },
    {
     "name": "stderr",
     "output_type": "stream",
     "text": [
      "INFO - 2024-07-12T16:08:31Z - Successfully downloaded to /home/jovyan/shared/data/copernicus/cmems_obs-oc_glo_bgc-plankton_my_l3-multi-4km_P1D/200806.nc\n",
      "INFO - 2024-07-12T16:08:32Z - Dataset version was not specified, the latest one was selected: \"202311\"\n",
      "INFO - 2024-07-12T16:08:32Z - Dataset part was not specified, the first one was selected: \"default\"\n",
      "INFO - 2024-07-12T16:08:36Z - Service was not specified, the default one was selected: \"arco-geo-series\"\n",
      "INFO - 2024-07-12T16:08:40Z - Downloading using service arco-geo-series...\n",
      "INFO - 2024-07-12T16:08:47Z - Estimated size of the dataset file is 539.769 MB.\n",
      "INFO - 2024-07-12T16:08:47Z - Writing to local storage. Please wait...\n"
     ]
    },
    {
     "data": {
      "application/vnd.jupyter.widget-view+json": {
       "model_id": "b9047054e38344b4b83da235bf2f375e",
       "version_major": 2,
       "version_minor": 0
      },
      "text/plain": [
       "  0%|          | 0/3846 [00:00<?, ?it/s]"
      ]
     },
     "metadata": {},
     "output_type": "display_data"
    },
    {
     "name": "stderr",
     "output_type": "stream",
     "text": [
      "INFO - 2024-07-12T16:09:48Z - Successfully downloaded to /home/jovyan/shared/data/copernicus/cmems_obs-oc_glo_bgc-plankton_my_l3-multi-4km_P1D/200807.nc\n",
      "INFO - 2024-07-12T16:09:49Z - Dataset version was not specified, the latest one was selected: \"202311\"\n",
      "INFO - 2024-07-12T16:09:49Z - Dataset part was not specified, the first one was selected: \"default\"\n",
      "INFO - 2024-07-12T16:09:52Z - Service was not specified, the default one was selected: \"arco-geo-series\"\n",
      "INFO - 2024-07-12T16:09:56Z - Downloading using service arco-geo-series...\n",
      "INFO - 2024-07-12T16:10:03Z - Estimated size of the dataset file is 539.769 MB.\n",
      "INFO - 2024-07-12T16:10:03Z - Writing to local storage. Please wait...\n"
     ]
    },
    {
     "data": {
      "application/vnd.jupyter.widget-view+json": {
       "model_id": "2946dd916ada4e1eb2aae9f9cf2a8cab",
       "version_major": 2,
       "version_minor": 0
      },
      "text/plain": [
       "  0%|          | 0/3846 [00:00<?, ?it/s]"
      ]
     },
     "metadata": {},
     "output_type": "display_data"
    },
    {
     "name": "stderr",
     "output_type": "stream",
     "text": [
      "INFO - 2024-07-12T16:11:04Z - Successfully downloaded to /home/jovyan/shared/data/copernicus/cmems_obs-oc_glo_bgc-plankton_my_l3-multi-4km_P1D/200808.nc\n",
      "INFO - 2024-07-12T16:11:05Z - Dataset version was not specified, the latest one was selected: \"202311\"\n",
      "INFO - 2024-07-12T16:11:05Z - Dataset part was not specified, the first one was selected: \"default\"\n",
      "INFO - 2024-07-12T16:11:09Z - Service was not specified, the default one was selected: \"arco-geo-series\"\n",
      "INFO - 2024-07-12T16:11:12Z - Downloading using service arco-geo-series...\n",
      "INFO - 2024-07-12T16:11:19Z - Estimated size of the dataset file is 522.357 MB.\n",
      "INFO - 2024-07-12T16:11:19Z - Writing to local storage. Please wait...\n"
     ]
    },
    {
     "data": {
      "application/vnd.jupyter.widget-view+json": {
       "model_id": "179102b50da44320b23c9abd4c8fb214",
       "version_major": 2,
       "version_minor": 0
      },
      "text/plain": [
       "  0%|          | 0/3722 [00:00<?, ?it/s]"
      ]
     },
     "metadata": {},
     "output_type": "display_data"
    },
    {
     "name": "stderr",
     "output_type": "stream",
     "text": [
      "INFO - 2024-07-12T16:12:19Z - Successfully downloaded to /home/jovyan/shared/data/copernicus/cmems_obs-oc_glo_bgc-plankton_my_l3-multi-4km_P1D/200809.nc\n",
      "INFO - 2024-07-12T16:12:20Z - Dataset version was not specified, the latest one was selected: \"202311\"\n",
      "INFO - 2024-07-12T16:12:20Z - Dataset part was not specified, the first one was selected: \"default\"\n",
      "INFO - 2024-07-12T16:12:24Z - Service was not specified, the default one was selected: \"arco-geo-series\"\n",
      "INFO - 2024-07-12T16:12:27Z - Downloading using service arco-geo-series...\n",
      "INFO - 2024-07-12T16:12:35Z - Estimated size of the dataset file is 539.769 MB.\n",
      "INFO - 2024-07-12T16:12:35Z - Writing to local storage. Please wait...\n"
     ]
    },
    {
     "data": {
      "application/vnd.jupyter.widget-view+json": {
       "model_id": "cd2b0701c7964b928e8a02646ef307b1",
       "version_major": 2,
       "version_minor": 0
      },
      "text/plain": [
       "  0%|          | 0/3846 [00:00<?, ?it/s]"
      ]
     },
     "metadata": {},
     "output_type": "display_data"
    },
    {
     "name": "stderr",
     "output_type": "stream",
     "text": [
      "INFO - 2024-07-12T16:13:37Z - Successfully downloaded to /home/jovyan/shared/data/copernicus/cmems_obs-oc_glo_bgc-plankton_my_l3-multi-4km_P1D/200810.nc\n",
      "INFO - 2024-07-12T16:13:38Z - Dataset version was not specified, the latest one was selected: \"202311\"\n",
      "INFO - 2024-07-12T16:13:38Z - Dataset part was not specified, the first one was selected: \"default\"\n",
      "INFO - 2024-07-12T16:13:41Z - Service was not specified, the default one was selected: \"arco-geo-series\"\n",
      "INFO - 2024-07-12T16:13:44Z - Downloading using service arco-geo-series...\n",
      "INFO - 2024-07-12T16:13:51Z - Estimated size of the dataset file is 522.357 MB.\n",
      "INFO - 2024-07-12T16:13:51Z - Writing to local storage. Please wait...\n"
     ]
    },
    {
     "data": {
      "application/vnd.jupyter.widget-view+json": {
       "model_id": "013f695c86cf4478bb352bf9e354c927",
       "version_major": 2,
       "version_minor": 0
      },
      "text/plain": [
       "  0%|          | 0/3722 [00:00<?, ?it/s]"
      ]
     },
     "metadata": {},
     "output_type": "display_data"
    },
    {
     "name": "stderr",
     "output_type": "stream",
     "text": [
      "INFO - 2024-07-12T16:14:53Z - Successfully downloaded to /home/jovyan/shared/data/copernicus/cmems_obs-oc_glo_bgc-plankton_my_l3-multi-4km_P1D/200811.nc\n",
      "INFO - 2024-07-12T16:14:54Z - Dataset version was not specified, the latest one was selected: \"202311\"\n",
      "INFO - 2024-07-12T16:14:54Z - Dataset part was not specified, the first one was selected: \"default\"\n",
      "INFO - 2024-07-12T16:14:57Z - Service was not specified, the default one was selected: \"arco-geo-series\"\n",
      "INFO - 2024-07-12T16:15:00Z - Downloading using service arco-geo-series...\n",
      "INFO - 2024-07-12T16:15:07Z - Estimated size of the dataset file is 539.769 MB.\n",
      "INFO - 2024-07-12T16:15:07Z - Writing to local storage. Please wait...\n"
     ]
    },
    {
     "data": {
      "application/vnd.jupyter.widget-view+json": {
       "model_id": "bfcae2eca67b4edbab028a45dee79fb8",
       "version_major": 2,
       "version_minor": 0
      },
      "text/plain": [
       "  0%|          | 0/3846 [00:00<?, ?it/s]"
      ]
     },
     "metadata": {},
     "output_type": "display_data"
    },
    {
     "name": "stderr",
     "output_type": "stream",
     "text": [
      "INFO - 2024-07-12T16:16:10Z - Successfully downloaded to /home/jovyan/shared/data/copernicus/cmems_obs-oc_glo_bgc-plankton_my_l3-multi-4km_P1D/200812.nc\n",
      "INFO - 2024-07-12T16:16:10Z - Dataset version was not specified, the latest one was selected: \"202311\"\n",
      "INFO - 2024-07-12T16:16:10Z - Dataset part was not specified, the first one was selected: \"default\"\n",
      "INFO - 2024-07-12T16:16:14Z - Service was not specified, the default one was selected: \"arco-geo-series\"\n",
      "INFO - 2024-07-12T16:16:17Z - Downloading using service arco-geo-series...\n",
      "INFO - 2024-07-12T16:16:24Z - Estimated size of the dataset file is 539.769 MB.\n",
      "INFO - 2024-07-12T16:16:24Z - Writing to local storage. Please wait...\n"
     ]
    },
    {
     "data": {
      "application/vnd.jupyter.widget-view+json": {
       "model_id": "aa8d557796da4525884d4d32370282b5",
       "version_major": 2,
       "version_minor": 0
      },
      "text/plain": [
       "  0%|          | 0/3846 [00:00<?, ?it/s]"
      ]
     },
     "metadata": {},
     "output_type": "display_data"
    },
    {
     "name": "stderr",
     "output_type": "stream",
     "text": [
      "INFO - 2024-07-12T16:17:26Z - Successfully downloaded to /home/jovyan/shared/data/copernicus/cmems_obs-oc_glo_bgc-plankton_my_l3-multi-4km_P1D/200901.nc\n",
      "INFO - 2024-07-12T16:17:27Z - Dataset version was not specified, the latest one was selected: \"202311\"\n",
      "INFO - 2024-07-12T16:17:27Z - Dataset part was not specified, the first one was selected: \"default\"\n",
      "INFO - 2024-07-12T16:17:31Z - Service was not specified, the default one was selected: \"arco-geo-series\"\n",
      "INFO - 2024-07-12T16:17:34Z - Downloading using service arco-geo-series...\n",
      "INFO - 2024-07-12T16:17:41Z - Estimated size of the dataset file is 487.533 MB.\n",
      "INFO - 2024-07-12T16:17:41Z - Writing to local storage. Please wait...\n"
     ]
    },
    {
     "data": {
      "application/vnd.jupyter.widget-view+json": {
       "model_id": "54c3118cf82c4626adb3cfed01968278",
       "version_major": 2,
       "version_minor": 0
      },
      "text/plain": [
       "  0%|          | 0/3474 [00:00<?, ?it/s]"
      ]
     },
     "metadata": {},
     "output_type": "display_data"
    },
    {
     "name": "stderr",
     "output_type": "stream",
     "text": [
      "INFO - 2024-07-12T16:18:38Z - Successfully downloaded to /home/jovyan/shared/data/copernicus/cmems_obs-oc_glo_bgc-plankton_my_l3-multi-4km_P1D/200902.nc\n",
      "INFO - 2024-07-12T16:18:39Z - Dataset version was not specified, the latest one was selected: \"202311\"\n",
      "INFO - 2024-07-12T16:18:39Z - Dataset part was not specified, the first one was selected: \"default\"\n",
      "INFO - 2024-07-12T16:18:43Z - Service was not specified, the default one was selected: \"arco-geo-series\"\n",
      "INFO - 2024-07-12T16:18:47Z - Downloading using service arco-geo-series...\n",
      "INFO - 2024-07-12T16:18:53Z - Estimated size of the dataset file is 539.769 MB.\n",
      "INFO - 2024-07-12T16:18:53Z - Writing to local storage. Please wait...\n"
     ]
    },
    {
     "data": {
      "application/vnd.jupyter.widget-view+json": {
       "model_id": "2ff35190df3a4e3f87e0c1b64157ed56",
       "version_major": 2,
       "version_minor": 0
      },
      "text/plain": [
       "  0%|          | 0/3846 [00:00<?, ?it/s]"
      ]
     },
     "metadata": {},
     "output_type": "display_data"
    },
    {
     "name": "stderr",
     "output_type": "stream",
     "text": [
      "INFO - 2024-07-12T16:19:56Z - Successfully downloaded to /home/jovyan/shared/data/copernicus/cmems_obs-oc_glo_bgc-plankton_my_l3-multi-4km_P1D/200903.nc\n",
      "INFO - 2024-07-12T16:19:57Z - Dataset version was not specified, the latest one was selected: \"202311\"\n",
      "INFO - 2024-07-12T16:19:57Z - Dataset part was not specified, the first one was selected: \"default\"\n",
      "INFO - 2024-07-12T16:20:00Z - Service was not specified, the default one was selected: \"arco-geo-series\"\n",
      "INFO - 2024-07-12T16:20:04Z - Downloading using service arco-geo-series...\n",
      "INFO - 2024-07-12T16:20:11Z - Estimated size of the dataset file is 522.357 MB.\n",
      "INFO - 2024-07-12T16:20:11Z - Writing to local storage. Please wait...\n"
     ]
    },
    {
     "data": {
      "application/vnd.jupyter.widget-view+json": {
       "model_id": "fd69d843f5e34880806410f0bc2786a9",
       "version_major": 2,
       "version_minor": 0
      },
      "text/plain": [
       "  0%|          | 0/3722 [00:00<?, ?it/s]"
      ]
     },
     "metadata": {},
     "output_type": "display_data"
    },
    {
     "name": "stderr",
     "output_type": "stream",
     "text": [
      "INFO - 2024-07-12T16:21:11Z - Successfully downloaded to /home/jovyan/shared/data/copernicus/cmems_obs-oc_glo_bgc-plankton_my_l3-multi-4km_P1D/200904.nc\n",
      "INFO - 2024-07-12T16:21:12Z - Dataset version was not specified, the latest one was selected: \"202311\"\n",
      "INFO - 2024-07-12T16:21:12Z - Dataset part was not specified, the first one was selected: \"default\"\n",
      "INFO - 2024-07-12T16:21:15Z - Service was not specified, the default one was selected: \"arco-geo-series\"\n",
      "INFO - 2024-07-12T16:21:19Z - Downloading using service arco-geo-series...\n",
      "INFO - 2024-07-12T16:21:25Z - Estimated size of the dataset file is 539.769 MB.\n",
      "INFO - 2024-07-12T16:21:25Z - Writing to local storage. Please wait...\n"
     ]
    },
    {
     "data": {
      "application/vnd.jupyter.widget-view+json": {
       "model_id": "8939218e0f6b4cf48a845cba0e8f12d7",
       "version_major": 2,
       "version_minor": 0
      },
      "text/plain": [
       "  0%|          | 0/3846 [00:00<?, ?it/s]"
      ]
     },
     "metadata": {},
     "output_type": "display_data"
    },
    {
     "name": "stderr",
     "output_type": "stream",
     "text": [
      "INFO - 2024-07-12T16:22:28Z - Successfully downloaded to /home/jovyan/shared/data/copernicus/cmems_obs-oc_glo_bgc-plankton_my_l3-multi-4km_P1D/200905.nc\n",
      "INFO - 2024-07-12T16:22:29Z - Dataset version was not specified, the latest one was selected: \"202311\"\n",
      "INFO - 2024-07-12T16:22:29Z - Dataset part was not specified, the first one was selected: \"default\"\n",
      "INFO - 2024-07-12T16:22:33Z - Service was not specified, the default one was selected: \"arco-geo-series\"\n",
      "INFO - 2024-07-12T16:22:36Z - Downloading using service arco-geo-series...\n",
      "INFO - 2024-07-12T16:22:43Z - Estimated size of the dataset file is 522.357 MB.\n",
      "INFO - 2024-07-12T16:22:43Z - Writing to local storage. Please wait...\n"
     ]
    },
    {
     "data": {
      "application/vnd.jupyter.widget-view+json": {
       "model_id": "509bfdfc8da744038718a0d93a9af51e",
       "version_major": 2,
       "version_minor": 0
      },
      "text/plain": [
       "  0%|          | 0/3722 [00:00<?, ?it/s]"
      ]
     },
     "metadata": {},
     "output_type": "display_data"
    },
    {
     "name": "stderr",
     "output_type": "stream",
     "text": [
      "INFO - 2024-07-12T16:23:43Z - Successfully downloaded to /home/jovyan/shared/data/copernicus/cmems_obs-oc_glo_bgc-plankton_my_l3-multi-4km_P1D/200906.nc\n",
      "INFO - 2024-07-12T16:23:44Z - Dataset version was not specified, the latest one was selected: \"202311\"\n",
      "INFO - 2024-07-12T16:23:44Z - Dataset part was not specified, the first one was selected: \"default\"\n",
      "INFO - 2024-07-12T16:23:47Z - Service was not specified, the default one was selected: \"arco-geo-series\"\n",
      "INFO - 2024-07-12T16:23:51Z - Downloading using service arco-geo-series...\n",
      "INFO - 2024-07-12T16:23:58Z - Estimated size of the dataset file is 539.769 MB.\n",
      "INFO - 2024-07-12T16:23:58Z - Writing to local storage. Please wait...\n"
     ]
    },
    {
     "data": {
      "application/vnd.jupyter.widget-view+json": {
       "model_id": "e79820ac861d4ca698a72bb82d352f8f",
       "version_major": 2,
       "version_minor": 0
      },
      "text/plain": [
       "  0%|          | 0/3846 [00:00<?, ?it/s]"
      ]
     },
     "metadata": {},
     "output_type": "display_data"
    },
    {
     "name": "stderr",
     "output_type": "stream",
     "text": [
      "INFO - 2024-07-12T16:24:59Z - Successfully downloaded to /home/jovyan/shared/data/copernicus/cmems_obs-oc_glo_bgc-plankton_my_l3-multi-4km_P1D/200907.nc\n",
      "INFO - 2024-07-12T16:25:01Z - Dataset version was not specified, the latest one was selected: \"202311\"\n",
      "INFO - 2024-07-12T16:25:01Z - Dataset part was not specified, the first one was selected: \"default\"\n",
      "INFO - 2024-07-12T16:25:04Z - Service was not specified, the default one was selected: \"arco-geo-series\"\n",
      "INFO - 2024-07-12T16:25:08Z - Downloading using service arco-geo-series...\n",
      "INFO - 2024-07-12T16:25:15Z - Estimated size of the dataset file is 539.769 MB.\n",
      "INFO - 2024-07-12T16:25:15Z - Writing to local storage. Please wait...\n"
     ]
    },
    {
     "data": {
      "application/vnd.jupyter.widget-view+json": {
       "model_id": "fc8772b80a564ad9923261b3d78bba40",
       "version_major": 2,
       "version_minor": 0
      },
      "text/plain": [
       "  0%|          | 0/3846 [00:00<?, ?it/s]"
      ]
     },
     "metadata": {},
     "output_type": "display_data"
    },
    {
     "name": "stderr",
     "output_type": "stream",
     "text": [
      "INFO - 2024-07-12T16:26:16Z - Successfully downloaded to /home/jovyan/shared/data/copernicus/cmems_obs-oc_glo_bgc-plankton_my_l3-multi-4km_P1D/200908.nc\n",
      "INFO - 2024-07-12T16:26:18Z - Dataset version was not specified, the latest one was selected: \"202311\"\n",
      "INFO - 2024-07-12T16:26:18Z - Dataset part was not specified, the first one was selected: \"default\"\n",
      "INFO - 2024-07-12T16:26:21Z - Service was not specified, the default one was selected: \"arco-geo-series\"\n",
      "INFO - 2024-07-12T16:26:24Z - Downloading using service arco-geo-series...\n",
      "INFO - 2024-07-12T16:26:32Z - Estimated size of the dataset file is 522.357 MB.\n",
      "INFO - 2024-07-12T16:26:32Z - Writing to local storage. Please wait...\n"
     ]
    },
    {
     "data": {
      "application/vnd.jupyter.widget-view+json": {
       "model_id": "fa103c53e52943b9aa0b4cde19ac733b",
       "version_major": 2,
       "version_minor": 0
      },
      "text/plain": [
       "  0%|          | 0/3722 [00:00<?, ?it/s]"
      ]
     },
     "metadata": {},
     "output_type": "display_data"
    },
    {
     "name": "stderr",
     "output_type": "stream",
     "text": [
      "INFO - 2024-07-12T16:27:32Z - Successfully downloaded to /home/jovyan/shared/data/copernicus/cmems_obs-oc_glo_bgc-plankton_my_l3-multi-4km_P1D/200909.nc\n",
      "INFO - 2024-07-12T16:27:33Z - Dataset version was not specified, the latest one was selected: \"202311\"\n",
      "INFO - 2024-07-12T16:27:33Z - Dataset part was not specified, the first one was selected: \"default\"\n",
      "INFO - 2024-07-12T16:27:37Z - Service was not specified, the default one was selected: \"arco-geo-series\"\n",
      "INFO - 2024-07-12T16:27:40Z - Downloading using service arco-geo-series...\n",
      "INFO - 2024-07-12T16:27:47Z - Estimated size of the dataset file is 539.769 MB.\n",
      "INFO - 2024-07-12T16:27:47Z - Writing to local storage. Please wait...\n"
     ]
    },
    {
     "data": {
      "application/vnd.jupyter.widget-view+json": {
       "model_id": "bcdf12608871413e9c2e654f7e01f83c",
       "version_major": 2,
       "version_minor": 0
      },
      "text/plain": [
       "  0%|          | 0/3846 [00:00<?, ?it/s]"
      ]
     },
     "metadata": {},
     "output_type": "display_data"
    },
    {
     "name": "stderr",
     "output_type": "stream",
     "text": [
      "INFO - 2024-07-12T16:28:49Z - Successfully downloaded to /home/jovyan/shared/data/copernicus/cmems_obs-oc_glo_bgc-plankton_my_l3-multi-4km_P1D/200910.nc\n",
      "INFO - 2024-07-12T16:28:50Z - Dataset version was not specified, the latest one was selected: \"202311\"\n",
      "INFO - 2024-07-12T16:28:50Z - Dataset part was not specified, the first one was selected: \"default\"\n",
      "INFO - 2024-07-12T16:28:53Z - Service was not specified, the default one was selected: \"arco-geo-series\"\n",
      "INFO - 2024-07-12T16:28:57Z - Downloading using service arco-geo-series...\n",
      "INFO - 2024-07-12T16:29:04Z - Estimated size of the dataset file is 522.357 MB.\n",
      "INFO - 2024-07-12T16:29:04Z - Writing to local storage. Please wait...\n"
     ]
    },
    {
     "data": {
      "application/vnd.jupyter.widget-view+json": {
       "model_id": "e6d1ba6fce8d4e65bacec4e24a649137",
       "version_major": 2,
       "version_minor": 0
      },
      "text/plain": [
       "  0%|          | 0/3722 [00:00<?, ?it/s]"
      ]
     },
     "metadata": {},
     "output_type": "display_data"
    },
    {
     "name": "stderr",
     "output_type": "stream",
     "text": [
      "INFO - 2024-07-12T16:30:05Z - Successfully downloaded to /home/jovyan/shared/data/copernicus/cmems_obs-oc_glo_bgc-plankton_my_l3-multi-4km_P1D/200911.nc\n",
      "INFO - 2024-07-12T16:30:06Z - Dataset version was not specified, the latest one was selected: \"202311\"\n",
      "INFO - 2024-07-12T16:30:06Z - Dataset part was not specified, the first one was selected: \"default\"\n",
      "INFO - 2024-07-12T16:30:09Z - Service was not specified, the default one was selected: \"arco-geo-series\"\n",
      "INFO - 2024-07-12T16:30:13Z - Downloading using service arco-geo-series...\n",
      "INFO - 2024-07-12T16:30:20Z - Estimated size of the dataset file is 539.769 MB.\n",
      "INFO - 2024-07-12T16:30:20Z - Writing to local storage. Please wait...\n"
     ]
    },
    {
     "data": {
      "application/vnd.jupyter.widget-view+json": {
       "model_id": "55c88085ef9b4b4a8c143a80fab38aa0",
       "version_major": 2,
       "version_minor": 0
      },
      "text/plain": [
       "  0%|          | 0/3846 [00:00<?, ?it/s]"
      ]
     },
     "metadata": {},
     "output_type": "display_data"
    },
    {
     "name": "stderr",
     "output_type": "stream",
     "text": [
      "INFO - 2024-07-12T16:31:24Z - Successfully downloaded to /home/jovyan/shared/data/copernicus/cmems_obs-oc_glo_bgc-plankton_my_l3-multi-4km_P1D/200912.nc\n",
      "INFO - 2024-07-12T16:31:25Z - Dataset version was not specified, the latest one was selected: \"202311\"\n",
      "INFO - 2024-07-12T16:31:25Z - Dataset part was not specified, the first one was selected: \"default\"\n",
      "INFO - 2024-07-12T16:31:28Z - Service was not specified, the default one was selected: \"arco-geo-series\"\n",
      "INFO - 2024-07-12T16:31:32Z - Downloading using service arco-geo-series...\n",
      "INFO - 2024-07-12T16:31:38Z - Estimated size of the dataset file is 539.769 MB.\n",
      "INFO - 2024-07-12T16:31:38Z - Writing to local storage. Please wait...\n"
     ]
    },
    {
     "data": {
      "application/vnd.jupyter.widget-view+json": {
       "model_id": "e285252ef7814880a582aa5e605dd1d9",
       "version_major": 2,
       "version_minor": 0
      },
      "text/plain": [
       "  0%|          | 0/3846 [00:00<?, ?it/s]"
      ]
     },
     "metadata": {},
     "output_type": "display_data"
    },
    {
     "name": "stderr",
     "output_type": "stream",
     "text": [
      "INFO - 2024-07-12T16:32:41Z - Successfully downloaded to /home/jovyan/shared/data/copernicus/cmems_obs-oc_glo_bgc-plankton_my_l3-multi-4km_P1D/201001.nc\n",
      "INFO - 2024-07-12T16:32:42Z - Dataset version was not specified, the latest one was selected: \"202311\"\n",
      "INFO - 2024-07-12T16:32:42Z - Dataset part was not specified, the first one was selected: \"default\"\n",
      "INFO - 2024-07-12T16:32:46Z - Service was not specified, the default one was selected: \"arco-geo-series\"\n",
      "INFO - 2024-07-12T16:32:49Z - Downloading using service arco-geo-series...\n",
      "INFO - 2024-07-12T16:32:56Z - Estimated size of the dataset file is 487.533 MB.\n",
      "INFO - 2024-07-12T16:32:56Z - Writing to local storage. Please wait...\n"
     ]
    },
    {
     "data": {
      "application/vnd.jupyter.widget-view+json": {
       "model_id": "e39f7ddb387c4b1499c8c32e7bd7a727",
       "version_major": 2,
       "version_minor": 0
      },
      "text/plain": [
       "  0%|          | 0/3474 [00:00<?, ?it/s]"
      ]
     },
     "metadata": {},
     "output_type": "display_data"
    },
    {
     "name": "stderr",
     "output_type": "stream",
     "text": [
      "INFO - 2024-07-12T16:33:54Z - Successfully downloaded to /home/jovyan/shared/data/copernicus/cmems_obs-oc_glo_bgc-plankton_my_l3-multi-4km_P1D/201002.nc\n",
      "INFO - 2024-07-12T16:33:56Z - Dataset version was not specified, the latest one was selected: \"202311\"\n",
      "INFO - 2024-07-12T16:33:56Z - Dataset part was not specified, the first one was selected: \"default\"\n",
      "INFO - 2024-07-12T16:33:59Z - Service was not specified, the default one was selected: \"arco-geo-series\"\n",
      "INFO - 2024-07-12T16:34:02Z - Downloading using service arco-geo-series...\n",
      "INFO - 2024-07-12T16:34:09Z - Estimated size of the dataset file is 539.769 MB.\n",
      "INFO - 2024-07-12T16:34:09Z - Writing to local storage. Please wait...\n"
     ]
    },
    {
     "data": {
      "application/vnd.jupyter.widget-view+json": {
       "model_id": "99953a1dd489487991bc71476c25156b",
       "version_major": 2,
       "version_minor": 0
      },
      "text/plain": [
       "  0%|          | 0/3846 [00:00<?, ?it/s]"
      ]
     },
     "metadata": {},
     "output_type": "display_data"
    },
    {
     "name": "stderr",
     "output_type": "stream",
     "text": [
      "INFO - 2024-07-12T16:35:11Z - Successfully downloaded to /home/jovyan/shared/data/copernicus/cmems_obs-oc_glo_bgc-plankton_my_l3-multi-4km_P1D/201003.nc\n",
      "INFO - 2024-07-12T16:35:12Z - Dataset version was not specified, the latest one was selected: \"202311\"\n",
      "INFO - 2024-07-12T16:35:12Z - Dataset part was not specified, the first one was selected: \"default\"\n",
      "INFO - 2024-07-12T16:35:16Z - Service was not specified, the default one was selected: \"arco-geo-series\"\n",
      "INFO - 2024-07-12T16:35:19Z - Downloading using service arco-geo-series...\n",
      "INFO - 2024-07-12T16:35:26Z - Estimated size of the dataset file is 522.357 MB.\n",
      "INFO - 2024-07-12T16:35:26Z - Writing to local storage. Please wait...\n"
     ]
    },
    {
     "data": {
      "application/vnd.jupyter.widget-view+json": {
       "model_id": "f7afff391aa84ffd8fbdd8fcde1b3bd1",
       "version_major": 2,
       "version_minor": 0
      },
      "text/plain": [
       "  0%|          | 0/3722 [00:00<?, ?it/s]"
      ]
     },
     "metadata": {},
     "output_type": "display_data"
    },
    {
     "name": "stderr",
     "output_type": "stream",
     "text": [
      "INFO - 2024-07-12T16:36:26Z - Successfully downloaded to /home/jovyan/shared/data/copernicus/cmems_obs-oc_glo_bgc-plankton_my_l3-multi-4km_P1D/201004.nc\n",
      "INFO - 2024-07-12T16:36:28Z - Dataset version was not specified, the latest one was selected: \"202311\"\n",
      "INFO - 2024-07-12T16:36:28Z - Dataset part was not specified, the first one was selected: \"default\"\n",
      "INFO - 2024-07-12T16:36:31Z - Service was not specified, the default one was selected: \"arco-geo-series\"\n",
      "INFO - 2024-07-12T16:36:34Z - Downloading using service arco-geo-series...\n",
      "INFO - 2024-07-12T16:36:41Z - Estimated size of the dataset file is 539.769 MB.\n",
      "INFO - 2024-07-12T16:36:41Z - Writing to local storage. Please wait...\n"
     ]
    },
    {
     "data": {
      "application/vnd.jupyter.widget-view+json": {
       "model_id": "eb47227905ea4749b405478d9593bd15",
       "version_major": 2,
       "version_minor": 0
      },
      "text/plain": [
       "  0%|          | 0/3846 [00:00<?, ?it/s]"
      ]
     },
     "metadata": {},
     "output_type": "display_data"
    },
    {
     "name": "stderr",
     "output_type": "stream",
     "text": [
      "INFO - 2024-07-12T16:37:44Z - Successfully downloaded to /home/jovyan/shared/data/copernicus/cmems_obs-oc_glo_bgc-plankton_my_l3-multi-4km_P1D/201005.nc\n",
      "INFO - 2024-07-12T16:37:45Z - Dataset version was not specified, the latest one was selected: \"202311\"\n",
      "INFO - 2024-07-12T16:37:45Z - Dataset part was not specified, the first one was selected: \"default\"\n",
      "INFO - 2024-07-12T16:37:48Z - Service was not specified, the default one was selected: \"arco-geo-series\"\n",
      "INFO - 2024-07-12T16:37:51Z - Downloading using service arco-geo-series...\n",
      "INFO - 2024-07-12T16:37:59Z - Estimated size of the dataset file is 522.357 MB.\n",
      "INFO - 2024-07-12T16:37:59Z - Writing to local storage. Please wait...\n"
     ]
    },
    {
     "data": {
      "application/vnd.jupyter.widget-view+json": {
       "model_id": "384d336e4d67491e83d4a95612a3846f",
       "version_major": 2,
       "version_minor": 0
      },
      "text/plain": [
       "  0%|          | 0/3722 [00:00<?, ?it/s]"
      ]
     },
     "metadata": {},
     "output_type": "display_data"
    },
    {
     "name": "stderr",
     "output_type": "stream",
     "text": [
      "INFO - 2024-07-12T16:38:59Z - Successfully downloaded to /home/jovyan/shared/data/copernicus/cmems_obs-oc_glo_bgc-plankton_my_l3-multi-4km_P1D/201006.nc\n",
      "INFO - 2024-07-12T16:39:00Z - Dataset version was not specified, the latest one was selected: \"202311\"\n",
      "INFO - 2024-07-12T16:39:00Z - Dataset part was not specified, the first one was selected: \"default\"\n",
      "INFO - 2024-07-12T16:39:03Z - Service was not specified, the default one was selected: \"arco-geo-series\"\n",
      "INFO - 2024-07-12T16:39:07Z - Downloading using service arco-geo-series...\n",
      "INFO - 2024-07-12T16:39:13Z - Estimated size of the dataset file is 539.769 MB.\n",
      "INFO - 2024-07-12T16:39:13Z - Writing to local storage. Please wait...\n"
     ]
    },
    {
     "data": {
      "application/vnd.jupyter.widget-view+json": {
       "model_id": "f1ed1897d1a5454c9ba3dca142b5e8b3",
       "version_major": 2,
       "version_minor": 0
      },
      "text/plain": [
       "  0%|          | 0/3846 [00:00<?, ?it/s]"
      ]
     },
     "metadata": {},
     "output_type": "display_data"
    },
    {
     "name": "stderr",
     "output_type": "stream",
     "text": [
      "INFO - 2024-07-12T16:40:16Z - Successfully downloaded to /home/jovyan/shared/data/copernicus/cmems_obs-oc_glo_bgc-plankton_my_l3-multi-4km_P1D/201007.nc\n",
      "INFO - 2024-07-12T16:40:17Z - Dataset version was not specified, the latest one was selected: \"202311\"\n",
      "INFO - 2024-07-12T16:40:17Z - Dataset part was not specified, the first one was selected: \"default\"\n",
      "INFO - 2024-07-12T16:40:21Z - Service was not specified, the default one was selected: \"arco-geo-series\"\n",
      "INFO - 2024-07-12T16:40:24Z - Downloading using service arco-geo-series...\n",
      "INFO - 2024-07-12T16:40:31Z - Estimated size of the dataset file is 539.769 MB.\n",
      "INFO - 2024-07-12T16:40:31Z - Writing to local storage. Please wait...\n"
     ]
    },
    {
     "data": {
      "application/vnd.jupyter.widget-view+json": {
       "model_id": "dfa22e0fdd3e468badcd90ff3525f95b",
       "version_major": 2,
       "version_minor": 0
      },
      "text/plain": [
       "  0%|          | 0/3846 [00:00<?, ?it/s]"
      ]
     },
     "metadata": {},
     "output_type": "display_data"
    },
    {
     "name": "stderr",
     "output_type": "stream",
     "text": [
      "INFO - 2024-07-12T16:41:33Z - Successfully downloaded to /home/jovyan/shared/data/copernicus/cmems_obs-oc_glo_bgc-plankton_my_l3-multi-4km_P1D/201008.nc\n",
      "INFO - 2024-07-12T16:41:35Z - Dataset version was not specified, the latest one was selected: \"202311\"\n",
      "INFO - 2024-07-12T16:41:35Z - Dataset part was not specified, the first one was selected: \"default\"\n",
      "INFO - 2024-07-12T16:41:39Z - Service was not specified, the default one was selected: \"arco-geo-series\"\n",
      "INFO - 2024-07-12T16:41:42Z - Downloading using service arco-geo-series...\n",
      "INFO - 2024-07-12T16:41:49Z - Estimated size of the dataset file is 522.357 MB.\n",
      "INFO - 2024-07-12T16:41:49Z - Writing to local storage. Please wait...\n"
     ]
    },
    {
     "data": {
      "application/vnd.jupyter.widget-view+json": {
       "model_id": "9b63bc32dfb4435d96a6fb56754686c0",
       "version_major": 2,
       "version_minor": 0
      },
      "text/plain": [
       "  0%|          | 0/3722 [00:00<?, ?it/s]"
      ]
     },
     "metadata": {},
     "output_type": "display_data"
    },
    {
     "name": "stderr",
     "output_type": "stream",
     "text": [
      "INFO - 2024-07-12T16:42:49Z - Successfully downloaded to /home/jovyan/shared/data/copernicus/cmems_obs-oc_glo_bgc-plankton_my_l3-multi-4km_P1D/201009.nc\n",
      "INFO - 2024-07-12T16:42:51Z - Dataset version was not specified, the latest one was selected: \"202311\"\n",
      "INFO - 2024-07-12T16:42:51Z - Dataset part was not specified, the first one was selected: \"default\"\n",
      "INFO - 2024-07-12T16:42:54Z - Service was not specified, the default one was selected: \"arco-geo-series\"\n",
      "INFO - 2024-07-12T16:42:57Z - Downloading using service arco-geo-series...\n",
      "INFO - 2024-07-12T16:43:04Z - Estimated size of the dataset file is 539.769 MB.\n",
      "INFO - 2024-07-12T16:43:04Z - Writing to local storage. Please wait...\n"
     ]
    },
    {
     "data": {
      "application/vnd.jupyter.widget-view+json": {
       "model_id": "79b8066b16e1429ba9af26aa423c2431",
       "version_major": 2,
       "version_minor": 0
      },
      "text/plain": [
       "  0%|          | 0/3846 [00:00<?, ?it/s]"
      ]
     },
     "metadata": {},
     "output_type": "display_data"
    },
    {
     "name": "stderr",
     "output_type": "stream",
     "text": [
      "INFO - 2024-07-12T16:44:06Z - Successfully downloaded to /home/jovyan/shared/data/copernicus/cmems_obs-oc_glo_bgc-plankton_my_l3-multi-4km_P1D/201010.nc\n",
      "INFO - 2024-07-12T16:44:07Z - Dataset version was not specified, the latest one was selected: \"202311\"\n",
      "INFO - 2024-07-12T16:44:07Z - Dataset part was not specified, the first one was selected: \"default\"\n",
      "INFO - 2024-07-12T16:44:11Z - Service was not specified, the default one was selected: \"arco-geo-series\"\n",
      "INFO - 2024-07-12T16:44:14Z - Downloading using service arco-geo-series...\n",
      "INFO - 2024-07-12T16:44:21Z - Estimated size of the dataset file is 522.357 MB.\n",
      "INFO - 2024-07-12T16:44:21Z - Writing to local storage. Please wait...\n"
     ]
    },
    {
     "data": {
      "application/vnd.jupyter.widget-view+json": {
       "model_id": "527b196edc8546b39485447f378cd020",
       "version_major": 2,
       "version_minor": 0
      },
      "text/plain": [
       "  0%|          | 0/3722 [00:00<?, ?it/s]"
      ]
     },
     "metadata": {},
     "output_type": "display_data"
    },
    {
     "name": "stderr",
     "output_type": "stream",
     "text": [
      "INFO - 2024-07-12T16:45:21Z - Successfully downloaded to /home/jovyan/shared/data/copernicus/cmems_obs-oc_glo_bgc-plankton_my_l3-multi-4km_P1D/201011.nc\n",
      "INFO - 2024-07-12T16:45:22Z - Dataset version was not specified, the latest one was selected: \"202311\"\n",
      "INFO - 2024-07-12T16:45:22Z - Dataset part was not specified, the first one was selected: \"default\"\n",
      "INFO - 2024-07-12T16:45:25Z - Service was not specified, the default one was selected: \"arco-geo-series\"\n",
      "INFO - 2024-07-12T16:45:28Z - Downloading using service arco-geo-series...\n",
      "INFO - 2024-07-12T16:45:36Z - Estimated size of the dataset file is 539.769 MB.\n",
      "INFO - 2024-07-12T16:45:36Z - Writing to local storage. Please wait...\n"
     ]
    },
    {
     "data": {
      "application/vnd.jupyter.widget-view+json": {
       "model_id": "9d46034ae03b4bbea23c98280c19e48e",
       "version_major": 2,
       "version_minor": 0
      },
      "text/plain": [
       "  0%|          | 0/3846 [00:00<?, ?it/s]"
      ]
     },
     "metadata": {},
     "output_type": "display_data"
    },
    {
     "name": "stderr",
     "output_type": "stream",
     "text": [
      "INFO - 2024-07-12T16:46:38Z - Successfully downloaded to /home/jovyan/shared/data/copernicus/cmems_obs-oc_glo_bgc-plankton_my_l3-multi-4km_P1D/201012.nc\n",
      "INFO - 2024-07-12T16:46:39Z - Dataset version was not specified, the latest one was selected: \"202311\"\n",
      "INFO - 2024-07-12T16:46:39Z - Dataset part was not specified, the first one was selected: \"default\"\n",
      "INFO - 2024-07-12T16:46:43Z - Service was not specified, the default one was selected: \"arco-geo-series\"\n",
      "INFO - 2024-07-12T16:46:46Z - Downloading using service arco-geo-series...\n",
      "INFO - 2024-07-12T16:46:53Z - Estimated size of the dataset file is 539.769 MB.\n",
      "INFO - 2024-07-12T16:46:53Z - Writing to local storage. Please wait...\n"
     ]
    },
    {
     "data": {
      "application/vnd.jupyter.widget-view+json": {
       "model_id": "40653e308c7948adb916f938c0b613e4",
       "version_major": 2,
       "version_minor": 0
      },
      "text/plain": [
       "  0%|          | 0/3846 [00:00<?, ?it/s]"
      ]
     },
     "metadata": {},
     "output_type": "display_data"
    },
    {
     "name": "stderr",
     "output_type": "stream",
     "text": [
      "INFO - 2024-07-12T16:47:55Z - Successfully downloaded to /home/jovyan/shared/data/copernicus/cmems_obs-oc_glo_bgc-plankton_my_l3-multi-4km_P1D/201101.nc\n",
      "INFO - 2024-07-12T16:47:56Z - Dataset version was not specified, the latest one was selected: \"202311\"\n",
      "INFO - 2024-07-12T16:47:56Z - Dataset part was not specified, the first one was selected: \"default\"\n",
      "INFO - 2024-07-12T16:48:00Z - Service was not specified, the default one was selected: \"arco-geo-series\"\n",
      "INFO - 2024-07-12T16:48:03Z - Downloading using service arco-geo-series...\n",
      "INFO - 2024-07-12T16:48:10Z - Estimated size of the dataset file is 487.533 MB.\n",
      "INFO - 2024-07-12T16:48:10Z - Writing to local storage. Please wait...\n"
     ]
    },
    {
     "data": {
      "application/vnd.jupyter.widget-view+json": {
       "model_id": "4d6d4c0b975c4a778aec37566035a5e0",
       "version_major": 2,
       "version_minor": 0
      },
      "text/plain": [
       "  0%|          | 0/3474 [00:00<?, ?it/s]"
      ]
     },
     "metadata": {},
     "output_type": "display_data"
    },
    {
     "name": "stderr",
     "output_type": "stream",
     "text": [
      "INFO - 2024-07-12T16:49:07Z - Successfully downloaded to /home/jovyan/shared/data/copernicus/cmems_obs-oc_glo_bgc-plankton_my_l3-multi-4km_P1D/201102.nc\n",
      "INFO - 2024-07-12T16:49:08Z - Dataset version was not specified, the latest one was selected: \"202311\"\n",
      "INFO - 2024-07-12T16:49:08Z - Dataset part was not specified, the first one was selected: \"default\"\n",
      "INFO - 2024-07-12T16:49:11Z - Service was not specified, the default one was selected: \"arco-geo-series\"\n",
      "INFO - 2024-07-12T16:49:15Z - Downloading using service arco-geo-series...\n",
      "INFO - 2024-07-12T16:49:22Z - Estimated size of the dataset file is 539.769 MB.\n",
      "INFO - 2024-07-12T16:49:22Z - Writing to local storage. Please wait...\n"
     ]
    },
    {
     "data": {
      "application/vnd.jupyter.widget-view+json": {
       "model_id": "d7b61983cc6d41338bb5e98b498c4a09",
       "version_major": 2,
       "version_minor": 0
      },
      "text/plain": [
       "  0%|          | 0/3846 [00:00<?, ?it/s]"
      ]
     },
     "metadata": {},
     "output_type": "display_data"
    },
    {
     "name": "stderr",
     "output_type": "stream",
     "text": [
      "INFO - 2024-07-12T16:50:24Z - Successfully downloaded to /home/jovyan/shared/data/copernicus/cmems_obs-oc_glo_bgc-plankton_my_l3-multi-4km_P1D/201103.nc\n",
      "INFO - 2024-07-12T16:50:25Z - Dataset version was not specified, the latest one was selected: \"202311\"\n",
      "INFO - 2024-07-12T16:50:25Z - Dataset part was not specified, the first one was selected: \"default\"\n",
      "INFO - 2024-07-12T16:50:29Z - Service was not specified, the default one was selected: \"arco-geo-series\"\n",
      "INFO - 2024-07-12T16:50:33Z - Downloading using service arco-geo-series...\n",
      "INFO - 2024-07-12T16:50:40Z - Estimated size of the dataset file is 522.357 MB.\n",
      "INFO - 2024-07-12T16:50:40Z - Writing to local storage. Please wait...\n"
     ]
    },
    {
     "data": {
      "application/vnd.jupyter.widget-view+json": {
       "model_id": "8627c3e440de42869d39fd88ac2f0d02",
       "version_major": 2,
       "version_minor": 0
      },
      "text/plain": [
       "  0%|          | 0/3722 [00:00<?, ?it/s]"
      ]
     },
     "metadata": {},
     "output_type": "display_data"
    },
    {
     "name": "stderr",
     "output_type": "stream",
     "text": [
      "INFO - 2024-07-12T16:51:40Z - Successfully downloaded to /home/jovyan/shared/data/copernicus/cmems_obs-oc_glo_bgc-plankton_my_l3-multi-4km_P1D/201104.nc\n",
      "INFO - 2024-07-12T16:51:41Z - Dataset version was not specified, the latest one was selected: \"202311\"\n",
      "INFO - 2024-07-12T16:51:41Z - Dataset part was not specified, the first one was selected: \"default\"\n",
      "INFO - 2024-07-12T16:51:45Z - Service was not specified, the default one was selected: \"arco-geo-series\"\n",
      "INFO - 2024-07-12T16:51:48Z - Downloading using service arco-geo-series...\n",
      "INFO - 2024-07-12T16:51:55Z - Estimated size of the dataset file is 539.769 MB.\n",
      "INFO - 2024-07-12T16:51:55Z - Writing to local storage. Please wait...\n"
     ]
    },
    {
     "data": {
      "application/vnd.jupyter.widget-view+json": {
       "model_id": "49a555b421b645d39de7686b82f27186",
       "version_major": 2,
       "version_minor": 0
      },
      "text/plain": [
       "  0%|          | 0/3846 [00:00<?, ?it/s]"
      ]
     },
     "metadata": {},
     "output_type": "display_data"
    },
    {
     "name": "stderr",
     "output_type": "stream",
     "text": [
      "INFO - 2024-07-12T16:52:57Z - Successfully downloaded to /home/jovyan/shared/data/copernicus/cmems_obs-oc_glo_bgc-plankton_my_l3-multi-4km_P1D/201105.nc\n",
      "INFO - 2024-07-12T16:52:58Z - Dataset version was not specified, the latest one was selected: \"202311\"\n",
      "INFO - 2024-07-12T16:52:58Z - Dataset part was not specified, the first one was selected: \"default\"\n",
      "INFO - 2024-07-12T16:53:02Z - Service was not specified, the default one was selected: \"arco-geo-series\"\n",
      "INFO - 2024-07-12T16:53:05Z - Downloading using service arco-geo-series...\n",
      "INFO - 2024-07-12T16:53:12Z - Estimated size of the dataset file is 522.357 MB.\n",
      "INFO - 2024-07-12T16:53:12Z - Writing to local storage. Please wait...\n"
     ]
    },
    {
     "data": {
      "application/vnd.jupyter.widget-view+json": {
       "model_id": "85aebf36c9c747169d827e6bdb108ad2",
       "version_major": 2,
       "version_minor": 0
      },
      "text/plain": [
       "  0%|          | 0/3722 [00:00<?, ?it/s]"
      ]
     },
     "metadata": {},
     "output_type": "display_data"
    },
    {
     "name": "stderr",
     "output_type": "stream",
     "text": [
      "IOPub message rate exceeded.\n",
      "The Jupyter server will temporarily stop sending output\n",
      "to the client in order to avoid crashing it.\n",
      "To change this limit, set the config variable\n",
      "`--ServerApp.iopub_msg_rate_limit`.\n",
      "\n",
      "Current values:\n",
      "ServerApp.iopub_msg_rate_limit=1000.0 (msgs/sec)\n",
      "ServerApp.rate_limit_window=3.0 (secs)\n",
      "\n",
      "INFO - 2024-07-12T17:01:49Z - Successfully downloaded to /home/jovyan/shared/data/copernicus/cmems_obs-oc_glo_bgc-plankton_my_l3-multi-4km_P1D/201112.nc\n",
      "INFO - 2024-07-12T17:01:50Z - Dataset version was not specified, the latest one was selected: \"202311\"\n",
      "INFO - 2024-07-12T17:01:50Z - Dataset part was not specified, the first one was selected: \"default\"\n",
      "INFO - 2024-07-12T17:01:54Z - Service was not specified, the default one was selected: \"arco-geo-series\"\n",
      "INFO - 2024-07-12T17:01:57Z - Downloading using service arco-geo-series...\n",
      "INFO - 2024-07-12T17:02:04Z - Estimated size of the dataset file is 539.769 MB.\n",
      "INFO - 2024-07-12T17:02:04Z - Writing to local storage. Please wait...\n"
     ]
    },
    {
     "data": {
      "application/vnd.jupyter.widget-view+json": {
       "model_id": "915d590ab1e14d2794b8f20f29efdc19",
       "version_major": 2,
       "version_minor": 0
      },
      "text/plain": [
       "  0%|          | 0/3846 [00:00<?, ?it/s]"
      ]
     },
     "metadata": {},
     "output_type": "display_data"
    },
    {
     "name": "stderr",
     "output_type": "stream",
     "text": [
      "INFO - 2024-07-12T17:03:08Z - Successfully downloaded to /home/jovyan/shared/data/copernicus/cmems_obs-oc_glo_bgc-plankton_my_l3-multi-4km_P1D/201201.nc\n",
      "INFO - 2024-07-12T17:03:09Z - Dataset version was not specified, the latest one was selected: \"202311\"\n",
      "INFO - 2024-07-12T17:03:09Z - Dataset part was not specified, the first one was selected: \"default\"\n",
      "INFO - 2024-07-12T17:03:12Z - Service was not specified, the default one was selected: \"arco-geo-series\"\n",
      "INFO - 2024-07-12T17:03:15Z - Downloading using service arco-geo-series...\n",
      "INFO - 2024-07-12T17:03:22Z - Estimated size of the dataset file is 504.945 MB.\n",
      "INFO - 2024-07-12T17:03:22Z - Writing to local storage. Please wait...\n"
     ]
    },
    {
     "data": {
      "application/vnd.jupyter.widget-view+json": {
       "model_id": "1b372112c6be4b8499c2c992e720cd79",
       "version_major": 2,
       "version_minor": 0
      },
      "text/plain": [
       "  0%|          | 0/3598 [00:00<?, ?it/s]"
      ]
     },
     "metadata": {},
     "output_type": "display_data"
    },
    {
     "name": "stderr",
     "output_type": "stream",
     "text": [
      "INFO - 2024-07-12T17:04:20Z - Successfully downloaded to /home/jovyan/shared/data/copernicus/cmems_obs-oc_glo_bgc-plankton_my_l3-multi-4km_P1D/201202.nc\n",
      "INFO - 2024-07-12T17:04:22Z - Dataset version was not specified, the latest one was selected: \"202311\"\n",
      "INFO - 2024-07-12T17:04:22Z - Dataset part was not specified, the first one was selected: \"default\"\n",
      "INFO - 2024-07-12T17:04:25Z - Service was not specified, the default one was selected: \"arco-geo-series\"\n",
      "INFO - 2024-07-12T17:04:28Z - Downloading using service arco-geo-series...\n",
      "INFO - 2024-07-12T17:04:35Z - Estimated size of the dataset file is 539.769 MB.\n",
      "INFO - 2024-07-12T17:04:35Z - Writing to local storage. Please wait...\n"
     ]
    },
    {
     "data": {
      "application/vnd.jupyter.widget-view+json": {
       "model_id": "a37cbbfe665b4c3d83afcfc64d5ccee7",
       "version_major": 2,
       "version_minor": 0
      },
      "text/plain": [
       "  0%|          | 0/3846 [00:00<?, ?it/s]"
      ]
     },
     "metadata": {},
     "output_type": "display_data"
    },
    {
     "name": "stderr",
     "output_type": "stream",
     "text": [
      "INFO - 2024-07-12T17:05:37Z - Successfully downloaded to /home/jovyan/shared/data/copernicus/cmems_obs-oc_glo_bgc-plankton_my_l3-multi-4km_P1D/201203.nc\n",
      "INFO - 2024-07-12T17:05:38Z - Dataset version was not specified, the latest one was selected: \"202311\"\n",
      "INFO - 2024-07-12T17:05:38Z - Dataset part was not specified, the first one was selected: \"default\"\n",
      "INFO - 2024-07-12T17:05:41Z - Service was not specified, the default one was selected: \"arco-geo-series\"\n",
      "INFO - 2024-07-12T17:05:45Z - Downloading using service arco-geo-series...\n",
      "INFO - 2024-07-12T17:05:52Z - Estimated size of the dataset file is 522.357 MB.\n",
      "INFO - 2024-07-12T17:05:52Z - Writing to local storage. Please wait...\n"
     ]
    },
    {
     "data": {
      "application/vnd.jupyter.widget-view+json": {
       "model_id": "1f2b62abeb39410f84c32fae29314d38",
       "version_major": 2,
       "version_minor": 0
      },
      "text/plain": [
       "  0%|          | 0/3722 [00:00<?, ?it/s]"
      ]
     },
     "metadata": {},
     "output_type": "display_data"
    },
    {
     "name": "stderr",
     "output_type": "stream",
     "text": [
      "INFO - 2024-07-12T17:06:52Z - Successfully downloaded to /home/jovyan/shared/data/copernicus/cmems_obs-oc_glo_bgc-plankton_my_l3-multi-4km_P1D/201204.nc\n",
      "INFO - 2024-07-12T17:06:53Z - Dataset version was not specified, the latest one was selected: \"202311\"\n",
      "INFO - 2024-07-12T17:06:53Z - Dataset part was not specified, the first one was selected: \"default\"\n",
      "INFO - 2024-07-12T17:06:56Z - Service was not specified, the default one was selected: \"arco-geo-series\"\n",
      "INFO - 2024-07-12T17:07:00Z - Downloading using service arco-geo-series...\n",
      "INFO - 2024-07-12T17:07:07Z - Estimated size of the dataset file is 539.769 MB.\n",
      "INFO - 2024-07-12T17:07:07Z - Writing to local storage. Please wait...\n"
     ]
    },
    {
     "data": {
      "application/vnd.jupyter.widget-view+json": {
       "model_id": "cb9b1dc6bab54c9eb108d68035646a8b",
       "version_major": 2,
       "version_minor": 0
      },
      "text/plain": [
       "  0%|          | 0/3846 [00:00<?, ?it/s]"
      ]
     },
     "metadata": {},
     "output_type": "display_data"
    },
    {
     "name": "stderr",
     "output_type": "stream",
     "text": [
      "INFO - 2024-07-12T17:08:09Z - Successfully downloaded to /home/jovyan/shared/data/copernicus/cmems_obs-oc_glo_bgc-plankton_my_l3-multi-4km_P1D/201205.nc\n",
      "INFO - 2024-07-12T17:08:10Z - Dataset version was not specified, the latest one was selected: \"202311\"\n",
      "INFO - 2024-07-12T17:08:10Z - Dataset part was not specified, the first one was selected: \"default\"\n",
      "INFO - 2024-07-12T17:08:14Z - Service was not specified, the default one was selected: \"arco-geo-series\"\n",
      "INFO - 2024-07-12T17:08:17Z - Downloading using service arco-geo-series...\n",
      "INFO - 2024-07-12T17:08:24Z - Estimated size of the dataset file is 522.357 MB.\n",
      "INFO - 2024-07-12T17:08:24Z - Writing to local storage. Please wait...\n"
     ]
    },
    {
     "data": {
      "application/vnd.jupyter.widget-view+json": {
       "model_id": "c0104089986c447285e59b15723e5fb7",
       "version_major": 2,
       "version_minor": 0
      },
      "text/plain": [
       "  0%|          | 0/3722 [00:00<?, ?it/s]"
      ]
     },
     "metadata": {},
     "output_type": "display_data"
    },
    {
     "name": "stderr",
     "output_type": "stream",
     "text": [
      "INFO - 2024-07-12T17:09:24Z - Successfully downloaded to /home/jovyan/shared/data/copernicus/cmems_obs-oc_glo_bgc-plankton_my_l3-multi-4km_P1D/201206.nc\n",
      "INFO - 2024-07-12T17:09:25Z - Dataset version was not specified, the latest one was selected: \"202311\"\n",
      "INFO - 2024-07-12T17:09:25Z - Dataset part was not specified, the first one was selected: \"default\"\n",
      "INFO - 2024-07-12T17:09:28Z - Service was not specified, the default one was selected: \"arco-geo-series\"\n",
      "INFO - 2024-07-12T17:09:32Z - Downloading using service arco-geo-series...\n",
      "INFO - 2024-07-12T17:09:39Z - Estimated size of the dataset file is 539.769 MB.\n",
      "INFO - 2024-07-12T17:09:39Z - Writing to local storage. Please wait...\n"
     ]
    },
    {
     "data": {
      "application/vnd.jupyter.widget-view+json": {
       "model_id": "4bdfdd2bde1e4a938e97a7e407f26d44",
       "version_major": 2,
       "version_minor": 0
      },
      "text/plain": [
       "  0%|          | 0/3846 [00:00<?, ?it/s]"
      ]
     },
     "metadata": {},
     "output_type": "display_data"
    },
    {
     "name": "stderr",
     "output_type": "stream",
     "text": [
      "INFO - 2024-07-12T17:10:40Z - Successfully downloaded to /home/jovyan/shared/data/copernicus/cmems_obs-oc_glo_bgc-plankton_my_l3-multi-4km_P1D/201207.nc\n",
      "INFO - 2024-07-12T17:10:41Z - Dataset version was not specified, the latest one was selected: \"202311\"\n",
      "INFO - 2024-07-12T17:10:41Z - Dataset part was not specified, the first one was selected: \"default\"\n",
      "INFO - 2024-07-12T17:10:45Z - Service was not specified, the default one was selected: \"arco-geo-series\"\n",
      "INFO - 2024-07-12T17:10:49Z - Downloading using service arco-geo-series...\n",
      "INFO - 2024-07-12T17:10:55Z - Estimated size of the dataset file is 539.769 MB.\n",
      "INFO - 2024-07-12T17:10:55Z - Writing to local storage. Please wait...\n"
     ]
    },
    {
     "data": {
      "application/vnd.jupyter.widget-view+json": {
       "model_id": "133cf3c735a64f2cb344834a87ec9ca8",
       "version_major": 2,
       "version_minor": 0
      },
      "text/plain": [
       "  0%|          | 0/3846 [00:00<?, ?it/s]"
      ]
     },
     "metadata": {},
     "output_type": "display_data"
    },
    {
     "name": "stderr",
     "output_type": "stream",
     "text": [
      "INFO - 2024-07-12T17:11:57Z - Successfully downloaded to /home/jovyan/shared/data/copernicus/cmems_obs-oc_glo_bgc-plankton_my_l3-multi-4km_P1D/201208.nc\n",
      "INFO - 2024-07-12T17:11:58Z - Dataset version was not specified, the latest one was selected: \"202311\"\n",
      "INFO - 2024-07-12T17:11:58Z - Dataset part was not specified, the first one was selected: \"default\"\n",
      "INFO - 2024-07-12T17:12:02Z - Service was not specified, the default one was selected: \"arco-geo-series\"\n",
      "INFO - 2024-07-12T17:12:05Z - Downloading using service arco-geo-series...\n",
      "INFO - 2024-07-12T17:12:12Z - Estimated size of the dataset file is 522.357 MB.\n",
      "INFO - 2024-07-12T17:12:12Z - Writing to local storage. Please wait...\n"
     ]
    },
    {
     "data": {
      "application/vnd.jupyter.widget-view+json": {
       "model_id": "44ab0a49b9d74f72904f495533440f0e",
       "version_major": 2,
       "version_minor": 0
      },
      "text/plain": [
       "  0%|          | 0/3722 [00:00<?, ?it/s]"
      ]
     },
     "metadata": {},
     "output_type": "display_data"
    },
    {
     "name": "stderr",
     "output_type": "stream",
     "text": [
      "INFO - 2024-07-12T17:13:13Z - Successfully downloaded to /home/jovyan/shared/data/copernicus/cmems_obs-oc_glo_bgc-plankton_my_l3-multi-4km_P1D/201209.nc\n",
      "INFO - 2024-07-12T17:13:14Z - Dataset version was not specified, the latest one was selected: \"202311\"\n",
      "INFO - 2024-07-12T17:13:14Z - Dataset part was not specified, the first one was selected: \"default\"\n",
      "INFO - 2024-07-12T17:13:17Z - Service was not specified, the default one was selected: \"arco-geo-series\"\n",
      "INFO - 2024-07-12T17:13:21Z - Downloading using service arco-geo-series...\n",
      "INFO - 2024-07-12T17:13:28Z - Estimated size of the dataset file is 539.769 MB.\n",
      "INFO - 2024-07-12T17:13:28Z - Writing to local storage. Please wait...\n"
     ]
    },
    {
     "data": {
      "application/vnd.jupyter.widget-view+json": {
       "model_id": "50fddf73b6874f338366004802b16154",
       "version_major": 2,
       "version_minor": 0
      },
      "text/plain": [
       "  0%|          | 0/3846 [00:00<?, ?it/s]"
      ]
     },
     "metadata": {},
     "output_type": "display_data"
    },
    {
     "name": "stderr",
     "output_type": "stream",
     "text": [
      "INFO - 2024-07-12T17:14:30Z - Successfully downloaded to /home/jovyan/shared/data/copernicus/cmems_obs-oc_glo_bgc-plankton_my_l3-multi-4km_P1D/201210.nc\n",
      "INFO - 2024-07-12T17:14:31Z - Dataset version was not specified, the latest one was selected: \"202311\"\n",
      "INFO - 2024-07-12T17:14:31Z - Dataset part was not specified, the first one was selected: \"default\"\n",
      "INFO - 2024-07-12T17:14:35Z - Service was not specified, the default one was selected: \"arco-geo-series\"\n",
      "INFO - 2024-07-12T17:14:38Z - Downloading using service arco-geo-series...\n",
      "INFO - 2024-07-12T17:14:46Z - Estimated size of the dataset file is 522.357 MB.\n",
      "INFO - 2024-07-12T17:14:46Z - Writing to local storage. Please wait...\n"
     ]
    },
    {
     "data": {
      "application/vnd.jupyter.widget-view+json": {
       "model_id": "d6c722335137448d9a9f2ad5964caac1",
       "version_major": 2,
       "version_minor": 0
      },
      "text/plain": [
       "  0%|          | 0/3722 [00:00<?, ?it/s]"
      ]
     },
     "metadata": {},
     "output_type": "display_data"
    },
    {
     "name": "stderr",
     "output_type": "stream",
     "text": [
      "INFO - 2024-07-12T17:15:46Z - Successfully downloaded to /home/jovyan/shared/data/copernicus/cmems_obs-oc_glo_bgc-plankton_my_l3-multi-4km_P1D/201211.nc\n",
      "INFO - 2024-07-12T17:15:48Z - Dataset version was not specified, the latest one was selected: \"202311\"\n",
      "INFO - 2024-07-12T17:15:48Z - Dataset part was not specified, the first one was selected: \"default\"\n",
      "INFO - 2024-07-12T17:15:51Z - Service was not specified, the default one was selected: \"arco-geo-series\"\n",
      "INFO - 2024-07-12T17:15:55Z - Downloading using service arco-geo-series...\n",
      "INFO - 2024-07-12T17:16:01Z - Estimated size of the dataset file is 539.769 MB.\n",
      "INFO - 2024-07-12T17:16:01Z - Writing to local storage. Please wait...\n"
     ]
    },
    {
     "data": {
      "application/vnd.jupyter.widget-view+json": {
       "model_id": "7b2f0996646e420daae6025825755b63",
       "version_major": 2,
       "version_minor": 0
      },
      "text/plain": [
       "  0%|          | 0/3846 [00:00<?, ?it/s]"
      ]
     },
     "metadata": {},
     "output_type": "display_data"
    },
    {
     "name": "stderr",
     "output_type": "stream",
     "text": [
      "INFO - 2024-07-12T17:17:04Z - Successfully downloaded to /home/jovyan/shared/data/copernicus/cmems_obs-oc_glo_bgc-plankton_my_l3-multi-4km_P1D/201212.nc\n",
      "INFO - 2024-07-12T17:17:05Z - Dataset version was not specified, the latest one was selected: \"202311\"\n",
      "INFO - 2024-07-12T17:17:05Z - Dataset part was not specified, the first one was selected: \"default\"\n",
      "INFO - 2024-07-12T17:17:09Z - Service was not specified, the default one was selected: \"arco-geo-series\"\n",
      "INFO - 2024-07-12T17:17:12Z - Downloading using service arco-geo-series...\n",
      "INFO - 2024-07-12T17:17:19Z - Estimated size of the dataset file is 539.769 MB.\n",
      "INFO - 2024-07-12T17:17:19Z - Writing to local storage. Please wait...\n"
     ]
    },
    {
     "data": {
      "application/vnd.jupyter.widget-view+json": {
       "model_id": "ef47730547ee41c3a95f826ba0dc1985",
       "version_major": 2,
       "version_minor": 0
      },
      "text/plain": [
       "  0%|          | 0/3846 [00:00<?, ?it/s]"
      ]
     },
     "metadata": {},
     "output_type": "display_data"
    },
    {
     "name": "stderr",
     "output_type": "stream",
     "text": [
      "INFO - 2024-07-12T17:18:22Z - Successfully downloaded to /home/jovyan/shared/data/copernicus/cmems_obs-oc_glo_bgc-plankton_my_l3-multi-4km_P1D/201301.nc\n",
      "INFO - 2024-07-12T17:18:23Z - Dataset version was not specified, the latest one was selected: \"202311\"\n",
      "INFO - 2024-07-12T17:18:23Z - Dataset part was not specified, the first one was selected: \"default\"\n",
      "INFO - 2024-07-12T17:18:26Z - Service was not specified, the default one was selected: \"arco-geo-series\"\n",
      "INFO - 2024-07-12T17:18:29Z - Downloading using service arco-geo-series...\n",
      "INFO - 2024-07-12T17:18:36Z - Estimated size of the dataset file is 487.533 MB.\n",
      "INFO - 2024-07-12T17:18:36Z - Writing to local storage. Please wait...\n"
     ]
    },
    {
     "data": {
      "application/vnd.jupyter.widget-view+json": {
       "model_id": "0535ce2811644f30a6e77b3727d530ea",
       "version_major": 2,
       "version_minor": 0
      },
      "text/plain": [
       "  0%|          | 0/3474 [00:00<?, ?it/s]"
      ]
     },
     "metadata": {},
     "output_type": "display_data"
    },
    {
     "name": "stderr",
     "output_type": "stream",
     "text": [
      "INFO - 2024-07-12T17:19:34Z - Successfully downloaded to /home/jovyan/shared/data/copernicus/cmems_obs-oc_glo_bgc-plankton_my_l3-multi-4km_P1D/201302.nc\n",
      "INFO - 2024-07-12T17:19:36Z - Dataset version was not specified, the latest one was selected: \"202311\"\n",
      "INFO - 2024-07-12T17:19:36Z - Dataset part was not specified, the first one was selected: \"default\"\n",
      "INFO - 2024-07-12T17:19:39Z - Service was not specified, the default one was selected: \"arco-geo-series\"\n",
      "INFO - 2024-07-12T17:19:42Z - Downloading using service arco-geo-series...\n",
      "INFO - 2024-07-12T17:19:49Z - Estimated size of the dataset file is 539.769 MB.\n",
      "INFO - 2024-07-12T17:19:49Z - Writing to local storage. Please wait...\n"
     ]
    },
    {
     "data": {
      "application/vnd.jupyter.widget-view+json": {
       "model_id": "923a646d927f40c287157e630e51657e",
       "version_major": 2,
       "version_minor": 0
      },
      "text/plain": [
       "  0%|          | 0/3846 [00:00<?, ?it/s]"
      ]
     },
     "metadata": {},
     "output_type": "display_data"
    },
    {
     "name": "stderr",
     "output_type": "stream",
     "text": [
      "INFO - 2024-07-12T17:20:51Z - Successfully downloaded to /home/jovyan/shared/data/copernicus/cmems_obs-oc_glo_bgc-plankton_my_l3-multi-4km_P1D/201303.nc\n",
      "INFO - 2024-07-12T17:20:52Z - Dataset version was not specified, the latest one was selected: \"202311\"\n",
      "INFO - 2024-07-12T17:20:52Z - Dataset part was not specified, the first one was selected: \"default\"\n",
      "INFO - 2024-07-12T17:20:56Z - Service was not specified, the default one was selected: \"arco-geo-series\"\n",
      "INFO - 2024-07-12T17:20:59Z - Downloading using service arco-geo-series...\n",
      "INFO - 2024-07-12T17:21:06Z - Estimated size of the dataset file is 522.357 MB.\n",
      "INFO - 2024-07-12T17:21:06Z - Writing to local storage. Please wait...\n"
     ]
    },
    {
     "data": {
      "application/vnd.jupyter.widget-view+json": {
       "model_id": "a05e91843f4048b1bcbc63d530a3f7c8",
       "version_major": 2,
       "version_minor": 0
      },
      "text/plain": [
       "  0%|          | 0/3722 [00:00<?, ?it/s]"
      ]
     },
     "metadata": {},
     "output_type": "display_data"
    },
    {
     "name": "stderr",
     "output_type": "stream",
     "text": [
      "INFO - 2024-07-12T17:22:07Z - Successfully downloaded to /home/jovyan/shared/data/copernicus/cmems_obs-oc_glo_bgc-plankton_my_l3-multi-4km_P1D/201304.nc\n",
      "INFO - 2024-07-12T17:22:08Z - Dataset version was not specified, the latest one was selected: \"202311\"\n",
      "INFO - 2024-07-12T17:22:08Z - Dataset part was not specified, the first one was selected: \"default\"\n",
      "INFO - 2024-07-12T17:22:11Z - Service was not specified, the default one was selected: \"arco-geo-series\"\n",
      "INFO - 2024-07-12T17:22:15Z - Downloading using service arco-geo-series...\n",
      "INFO - 2024-07-12T17:22:22Z - Estimated size of the dataset file is 539.769 MB.\n",
      "INFO - 2024-07-12T17:22:22Z - Writing to local storage. Please wait...\n"
     ]
    },
    {
     "data": {
      "application/vnd.jupyter.widget-view+json": {
       "model_id": "5329229e2ca14156b58a85414d384d09",
       "version_major": 2,
       "version_minor": 0
      },
      "text/plain": [
       "  0%|          | 0/3846 [00:00<?, ?it/s]"
      ]
     },
     "metadata": {},
     "output_type": "display_data"
    },
    {
     "name": "stderr",
     "output_type": "stream",
     "text": [
      "INFO - 2024-07-12T17:23:23Z - Successfully downloaded to /home/jovyan/shared/data/copernicus/cmems_obs-oc_glo_bgc-plankton_my_l3-multi-4km_P1D/201305.nc\n",
      "INFO - 2024-07-12T17:23:24Z - Dataset version was not specified, the latest one was selected: \"202311\"\n",
      "INFO - 2024-07-12T17:23:24Z - Dataset part was not specified, the first one was selected: \"default\"\n",
      "INFO - 2024-07-12T17:23:28Z - Service was not specified, the default one was selected: \"arco-geo-series\"\n",
      "INFO - 2024-07-12T17:23:31Z - Downloading using service arco-geo-series...\n",
      "INFO - 2024-07-12T17:23:39Z - Estimated size of the dataset file is 522.357 MB.\n",
      "INFO - 2024-07-12T17:23:39Z - Writing to local storage. Please wait...\n"
     ]
    },
    {
     "data": {
      "application/vnd.jupyter.widget-view+json": {
       "model_id": "72c03bd38db44761b2134d10a1e47116",
       "version_major": 2,
       "version_minor": 0
      },
      "text/plain": [
       "  0%|          | 0/3722 [00:00<?, ?it/s]"
      ]
     },
     "metadata": {},
     "output_type": "display_data"
    },
    {
     "name": "stderr",
     "output_type": "stream",
     "text": [
      "INFO - 2024-07-12T17:24:38Z - Successfully downloaded to /home/jovyan/shared/data/copernicus/cmems_obs-oc_glo_bgc-plankton_my_l3-multi-4km_P1D/201306.nc\n",
      "INFO - 2024-07-12T17:24:39Z - Dataset version was not specified, the latest one was selected: \"202311\"\n",
      "INFO - 2024-07-12T17:24:39Z - Dataset part was not specified, the first one was selected: \"default\"\n",
      "INFO - 2024-07-12T17:24:42Z - Service was not specified, the default one was selected: \"arco-geo-series\"\n",
      "INFO - 2024-07-12T17:24:46Z - Downloading using service arco-geo-series...\n",
      "INFO - 2024-07-12T17:24:53Z - Estimated size of the dataset file is 539.769 MB.\n",
      "INFO - 2024-07-12T17:24:53Z - Writing to local storage. Please wait...\n"
     ]
    },
    {
     "data": {
      "application/vnd.jupyter.widget-view+json": {
       "model_id": "78cd423548da480b8a1a3283b0de3273",
       "version_major": 2,
       "version_minor": 0
      },
      "text/plain": [
       "  0%|          | 0/3846 [00:00<?, ?it/s]"
      ]
     },
     "metadata": {},
     "output_type": "display_data"
    },
    {
     "name": "stderr",
     "output_type": "stream",
     "text": [
      "INFO - 2024-07-12T17:25:55Z - Successfully downloaded to /home/jovyan/shared/data/copernicus/cmems_obs-oc_glo_bgc-plankton_my_l3-multi-4km_P1D/201307.nc\n",
      "INFO - 2024-07-12T17:25:57Z - Dataset version was not specified, the latest one was selected: \"202311\"\n",
      "INFO - 2024-07-12T17:25:57Z - Dataset part was not specified, the first one was selected: \"default\"\n",
      "INFO - 2024-07-12T17:26:00Z - Service was not specified, the default one was selected: \"arco-geo-series\"\n",
      "INFO - 2024-07-12T17:26:03Z - Downloading using service arco-geo-series...\n",
      "INFO - 2024-07-12T17:26:10Z - Estimated size of the dataset file is 539.769 MB.\n",
      "INFO - 2024-07-12T17:26:10Z - Writing to local storage. Please wait...\n"
     ]
    },
    {
     "data": {
      "application/vnd.jupyter.widget-view+json": {
       "model_id": "aeffc6105956428588f3677719129624",
       "version_major": 2,
       "version_minor": 0
      },
      "text/plain": [
       "  0%|          | 0/3846 [00:00<?, ?it/s]"
      ]
     },
     "metadata": {},
     "output_type": "display_data"
    },
    {
     "name": "stderr",
     "output_type": "stream",
     "text": [
      "INFO - 2024-07-12T17:27:12Z - Successfully downloaded to /home/jovyan/shared/data/copernicus/cmems_obs-oc_glo_bgc-plankton_my_l3-multi-4km_P1D/201308.nc\n",
      "INFO - 2024-07-12T17:27:13Z - Dataset version was not specified, the latest one was selected: \"202311\"\n",
      "INFO - 2024-07-12T17:27:13Z - Dataset part was not specified, the first one was selected: \"default\"\n",
      "INFO - 2024-07-12T17:27:17Z - Service was not specified, the default one was selected: \"arco-geo-series\"\n",
      "INFO - 2024-07-12T17:27:20Z - Downloading using service arco-geo-series...\n",
      "INFO - 2024-07-12T17:27:27Z - Estimated size of the dataset file is 522.357 MB.\n",
      "INFO - 2024-07-12T17:27:27Z - Writing to local storage. Please wait...\n"
     ]
    },
    {
     "data": {
      "application/vnd.jupyter.widget-view+json": {
       "model_id": "d18d5d373fc140779b44b44fac2e1884",
       "version_major": 2,
       "version_minor": 0
      },
      "text/plain": [
       "  0%|          | 0/3722 [00:00<?, ?it/s]"
      ]
     },
     "metadata": {},
     "output_type": "display_data"
    },
    {
     "name": "stderr",
     "output_type": "stream",
     "text": [
      "INFO - 2024-07-12T17:28:27Z - Successfully downloaded to /home/jovyan/shared/data/copernicus/cmems_obs-oc_glo_bgc-plankton_my_l3-multi-4km_P1D/201309.nc\n",
      "INFO - 2024-07-12T17:28:28Z - Dataset version was not specified, the latest one was selected: \"202311\"\n",
      "INFO - 2024-07-12T17:28:28Z - Dataset part was not specified, the first one was selected: \"default\"\n",
      "INFO - 2024-07-12T17:28:32Z - Service was not specified, the default one was selected: \"arco-geo-series\"\n",
      "INFO - 2024-07-12T17:28:35Z - Downloading using service arco-geo-series...\n",
      "INFO - 2024-07-12T17:28:43Z - Estimated size of the dataset file is 539.769 MB.\n",
      "INFO - 2024-07-12T17:28:43Z - Writing to local storage. Please wait...\n"
     ]
    },
    {
     "data": {
      "application/vnd.jupyter.widget-view+json": {
       "model_id": "a458f98c37534ef8a340d02ee9db1780",
       "version_major": 2,
       "version_minor": 0
      },
      "text/plain": [
       "  0%|          | 0/3846 [00:00<?, ?it/s]"
      ]
     },
     "metadata": {},
     "output_type": "display_data"
    },
    {
     "name": "stderr",
     "output_type": "stream",
     "text": [
      "INFO - 2024-07-12T17:29:45Z - Successfully downloaded to /home/jovyan/shared/data/copernicus/cmems_obs-oc_glo_bgc-plankton_my_l3-multi-4km_P1D/201310.nc\n",
      "INFO - 2024-07-12T17:29:46Z - Dataset version was not specified, the latest one was selected: \"202311\"\n",
      "INFO - 2024-07-12T17:29:46Z - Dataset part was not specified, the first one was selected: \"default\"\n",
      "INFO - 2024-07-12T17:29:50Z - Service was not specified, the default one was selected: \"arco-geo-series\"\n",
      "INFO - 2024-07-12T17:29:53Z - Downloading using service arco-geo-series...\n",
      "INFO - 2024-07-12T17:30:00Z - Estimated size of the dataset file is 522.357 MB.\n",
      "INFO - 2024-07-12T17:30:00Z - Writing to local storage. Please wait...\n"
     ]
    },
    {
     "data": {
      "application/vnd.jupyter.widget-view+json": {
       "model_id": "7bf07e15a76249bba9c94e18e2f93aed",
       "version_major": 2,
       "version_minor": 0
      },
      "text/plain": [
       "  0%|          | 0/3722 [00:00<?, ?it/s]"
      ]
     },
     "metadata": {},
     "output_type": "display_data"
    },
    {
     "name": "stderr",
     "output_type": "stream",
     "text": [
      "INFO - 2024-07-12T17:31:01Z - Successfully downloaded to /home/jovyan/shared/data/copernicus/cmems_obs-oc_glo_bgc-plankton_my_l3-multi-4km_P1D/201311.nc\n",
      "INFO - 2024-07-12T17:31:03Z - Dataset version was not specified, the latest one was selected: \"202311\"\n",
      "INFO - 2024-07-12T17:31:03Z - Dataset part was not specified, the first one was selected: \"default\"\n",
      "INFO - 2024-07-12T17:31:06Z - Service was not specified, the default one was selected: \"arco-geo-series\"\n",
      "INFO - 2024-07-12T17:31:09Z - Downloading using service arco-geo-series...\n",
      "INFO - 2024-07-12T17:31:16Z - Estimated size of the dataset file is 539.769 MB.\n",
      "INFO - 2024-07-12T17:31:16Z - Writing to local storage. Please wait...\n"
     ]
    },
    {
     "data": {
      "application/vnd.jupyter.widget-view+json": {
       "model_id": "7f44529a681c4494af5f353c46e9425a",
       "version_major": 2,
       "version_minor": 0
      },
      "text/plain": [
       "  0%|          | 0/3846 [00:00<?, ?it/s]"
      ]
     },
     "metadata": {},
     "output_type": "display_data"
    },
    {
     "name": "stderr",
     "output_type": "stream",
     "text": [
      "INFO - 2024-07-12T17:32:18Z - Successfully downloaded to /home/jovyan/shared/data/copernicus/cmems_obs-oc_glo_bgc-plankton_my_l3-multi-4km_P1D/201312.nc\n",
      "INFO - 2024-07-12T17:32:20Z - Dataset version was not specified, the latest one was selected: \"202311\"\n",
      "INFO - 2024-07-12T17:32:20Z - Dataset part was not specified, the first one was selected: \"default\"\n",
      "INFO - 2024-07-12T17:32:23Z - Service was not specified, the default one was selected: \"arco-geo-series\"\n",
      "INFO - 2024-07-12T17:32:27Z - Downloading using service arco-geo-series...\n",
      "INFO - 2024-07-12T17:32:33Z - Estimated size of the dataset file is 539.769 MB.\n",
      "INFO - 2024-07-12T17:32:33Z - Writing to local storage. Please wait...\n"
     ]
    },
    {
     "data": {
      "application/vnd.jupyter.widget-view+json": {
       "model_id": "4e2a8dd32c8049608af189f88c040d2f",
       "version_major": 2,
       "version_minor": 0
      },
      "text/plain": [
       "  0%|          | 0/3846 [00:00<?, ?it/s]"
      ]
     },
     "metadata": {},
     "output_type": "display_data"
    },
    {
     "name": "stderr",
     "output_type": "stream",
     "text": [
      "INFO - 2024-07-12T17:33:35Z - Successfully downloaded to /home/jovyan/shared/data/copernicus/cmems_obs-oc_glo_bgc-plankton_my_l3-multi-4km_P1D/201401.nc\n",
      "INFO - 2024-07-12T17:33:37Z - Dataset version was not specified, the latest one was selected: \"202311\"\n",
      "INFO - 2024-07-12T17:33:37Z - Dataset part was not specified, the first one was selected: \"default\"\n",
      "INFO - 2024-07-12T17:33:40Z - Service was not specified, the default one was selected: \"arco-geo-series\"\n",
      "INFO - 2024-07-12T17:33:43Z - Downloading using service arco-geo-series...\n",
      "INFO - 2024-07-12T17:33:51Z - Estimated size of the dataset file is 487.533 MB.\n",
      "INFO - 2024-07-12T17:33:51Z - Writing to local storage. Please wait...\n"
     ]
    },
    {
     "data": {
      "application/vnd.jupyter.widget-view+json": {
       "model_id": "659010d886a54bcea2666808f14b31b8",
       "version_major": 2,
       "version_minor": 0
      },
      "text/plain": [
       "  0%|          | 0/3474 [00:00<?, ?it/s]"
      ]
     },
     "metadata": {},
     "output_type": "display_data"
    },
    {
     "name": "stderr",
     "output_type": "stream",
     "text": [
      "INFO - 2024-07-12T17:34:48Z - Successfully downloaded to /home/jovyan/shared/data/copernicus/cmems_obs-oc_glo_bgc-plankton_my_l3-multi-4km_P1D/201402.nc\n",
      "INFO - 2024-07-12T17:34:49Z - Dataset version was not specified, the latest one was selected: \"202311\"\n",
      "INFO - 2024-07-12T17:34:49Z - Dataset part was not specified, the first one was selected: \"default\"\n",
      "INFO - 2024-07-12T17:34:53Z - Service was not specified, the default one was selected: \"arco-geo-series\"\n",
      "INFO - 2024-07-12T17:34:56Z - Downloading using service arco-geo-series...\n",
      "INFO - 2024-07-12T17:35:03Z - Estimated size of the dataset file is 539.769 MB.\n",
      "INFO - 2024-07-12T17:35:03Z - Writing to local storage. Please wait...\n"
     ]
    },
    {
     "data": {
      "application/vnd.jupyter.widget-view+json": {
       "model_id": "fb8d208de6f24c7e806899bd4682b9dd",
       "version_major": 2,
       "version_minor": 0
      },
      "text/plain": [
       "  0%|          | 0/3846 [00:00<?, ?it/s]"
      ]
     },
     "metadata": {},
     "output_type": "display_data"
    },
    {
     "name": "stderr",
     "output_type": "stream",
     "text": [
      "INFO - 2024-07-12T17:36:06Z - Successfully downloaded to /home/jovyan/shared/data/copernicus/cmems_obs-oc_glo_bgc-plankton_my_l3-multi-4km_P1D/201403.nc\n",
      "INFO - 2024-07-12T17:36:07Z - Dataset version was not specified, the latest one was selected: \"202311\"\n",
      "INFO - 2024-07-12T17:36:07Z - Dataset part was not specified, the first one was selected: \"default\"\n",
      "INFO - 2024-07-12T17:36:10Z - Service was not specified, the default one was selected: \"arco-geo-series\"\n",
      "INFO - 2024-07-12T17:36:14Z - Downloading using service arco-geo-series...\n",
      "INFO - 2024-07-12T17:36:20Z - Estimated size of the dataset file is 522.357 MB.\n",
      "INFO - 2024-07-12T17:36:20Z - Writing to local storage. Please wait...\n"
     ]
    },
    {
     "data": {
      "application/vnd.jupyter.widget-view+json": {
       "model_id": "ab9b1959c39a4906bad3ebe35a1e16fa",
       "version_major": 2,
       "version_minor": 0
      },
      "text/plain": [
       "  0%|          | 0/3722 [00:00<?, ?it/s]"
      ]
     },
     "metadata": {},
     "output_type": "display_data"
    },
    {
     "name": "stderr",
     "output_type": "stream",
     "text": [
      "INFO - 2024-07-12T17:37:21Z - Successfully downloaded to /home/jovyan/shared/data/copernicus/cmems_obs-oc_glo_bgc-plankton_my_l3-multi-4km_P1D/201404.nc\n",
      "INFO - 2024-07-12T17:37:22Z - Dataset version was not specified, the latest one was selected: \"202311\"\n",
      "INFO - 2024-07-12T17:37:22Z - Dataset part was not specified, the first one was selected: \"default\"\n",
      "INFO - 2024-07-12T17:37:26Z - Service was not specified, the default one was selected: \"arco-geo-series\"\n",
      "INFO - 2024-07-12T17:37:29Z - Downloading using service arco-geo-series...\n",
      "INFO - 2024-07-12T17:37:36Z - Estimated size of the dataset file is 539.769 MB.\n",
      "INFO - 2024-07-12T17:37:36Z - Writing to local storage. Please wait...\n"
     ]
    },
    {
     "data": {
      "application/vnd.jupyter.widget-view+json": {
       "model_id": "cf101f11e73749e0afefeb5f63d79e42",
       "version_major": 2,
       "version_minor": 0
      },
      "text/plain": [
       "  0%|          | 0/3846 [00:00<?, ?it/s]"
      ]
     },
     "metadata": {},
     "output_type": "display_data"
    },
    {
     "name": "stderr",
     "output_type": "stream",
     "text": [
      "INFO - 2024-07-12T17:38:38Z - Successfully downloaded to /home/jovyan/shared/data/copernicus/cmems_obs-oc_glo_bgc-plankton_my_l3-multi-4km_P1D/201405.nc\n",
      "INFO - 2024-07-12T17:38:39Z - Dataset version was not specified, the latest one was selected: \"202311\"\n",
      "INFO - 2024-07-12T17:38:39Z - Dataset part was not specified, the first one was selected: \"default\"\n",
      "INFO - 2024-07-12T17:38:42Z - Service was not specified, the default one was selected: \"arco-geo-series\"\n",
      "INFO - 2024-07-12T17:38:45Z - Downloading using service arco-geo-series...\n",
      "INFO - 2024-07-12T17:38:53Z - Estimated size of the dataset file is 522.357 MB.\n",
      "INFO - 2024-07-12T17:38:53Z - Writing to local storage. Please wait...\n"
     ]
    },
    {
     "data": {
      "application/vnd.jupyter.widget-view+json": {
       "model_id": "0613406740954866a827c1d433ca722c",
       "version_major": 2,
       "version_minor": 0
      },
      "text/plain": [
       "  0%|          | 0/3722 [00:00<?, ?it/s]"
      ]
     },
     "metadata": {},
     "output_type": "display_data"
    },
    {
     "name": "stderr",
     "output_type": "stream",
     "text": [
      "INFO - 2024-07-12T17:39:53Z - Successfully downloaded to /home/jovyan/shared/data/copernicus/cmems_obs-oc_glo_bgc-plankton_my_l3-multi-4km_P1D/201406.nc\n",
      "INFO - 2024-07-12T17:39:54Z - Dataset version was not specified, the latest one was selected: \"202311\"\n",
      "INFO - 2024-07-12T17:39:54Z - Dataset part was not specified, the first one was selected: \"default\"\n",
      "INFO - 2024-07-12T17:39:58Z - Service was not specified, the default one was selected: \"arco-geo-series\"\n",
      "INFO - 2024-07-12T17:40:01Z - Downloading using service arco-geo-series...\n",
      "INFO - 2024-07-12T17:40:08Z - Estimated size of the dataset file is 539.769 MB.\n",
      "INFO - 2024-07-12T17:40:08Z - Writing to local storage. Please wait...\n"
     ]
    },
    {
     "data": {
      "application/vnd.jupyter.widget-view+json": {
       "model_id": "23f9096d0fcf43dc9371d64bd2d94b3e",
       "version_major": 2,
       "version_minor": 0
      },
      "text/plain": [
       "  0%|          | 0/3846 [00:00<?, ?it/s]"
      ]
     },
     "metadata": {},
     "output_type": "display_data"
    },
    {
     "name": "stderr",
     "output_type": "stream",
     "text": [
      "INFO - 2024-07-12T17:41:10Z - Successfully downloaded to /home/jovyan/shared/data/copernicus/cmems_obs-oc_glo_bgc-plankton_my_l3-multi-4km_P1D/201407.nc\n",
      "INFO - 2024-07-12T17:41:11Z - Dataset version was not specified, the latest one was selected: \"202311\"\n",
      "INFO - 2024-07-12T17:41:11Z - Dataset part was not specified, the first one was selected: \"default\"\n",
      "INFO - 2024-07-12T17:41:15Z - Service was not specified, the default one was selected: \"arco-geo-series\"\n",
      "INFO - 2024-07-12T17:41:18Z - Downloading using service arco-geo-series...\n",
      "INFO - 2024-07-12T17:41:25Z - Estimated size of the dataset file is 539.769 MB.\n",
      "INFO - 2024-07-12T17:41:25Z - Writing to local storage. Please wait...\n"
     ]
    },
    {
     "data": {
      "application/vnd.jupyter.widget-view+json": {
       "model_id": "cdd7cf09081a40aabf1f9356d0667c1d",
       "version_major": 2,
       "version_minor": 0
      },
      "text/plain": [
       "  0%|          | 0/3846 [00:00<?, ?it/s]"
      ]
     },
     "metadata": {},
     "output_type": "display_data"
    },
    {
     "name": "stderr",
     "output_type": "stream",
     "text": [
      "INFO - 2024-07-12T17:42:27Z - Successfully downloaded to /home/jovyan/shared/data/copernicus/cmems_obs-oc_glo_bgc-plankton_my_l3-multi-4km_P1D/201408.nc\n",
      "INFO - 2024-07-12T17:42:29Z - Dataset version was not specified, the latest one was selected: \"202311\"\n",
      "INFO - 2024-07-12T17:42:29Z - Dataset part was not specified, the first one was selected: \"default\"\n",
      "INFO - 2024-07-12T17:42:32Z - Service was not specified, the default one was selected: \"arco-geo-series\"\n",
      "INFO - 2024-07-12T17:42:36Z - Downloading using service arco-geo-series...\n",
      "INFO - 2024-07-12T17:42:42Z - Estimated size of the dataset file is 522.357 MB.\n",
      "INFO - 2024-07-12T17:42:42Z - Writing to local storage. Please wait...\n"
     ]
    },
    {
     "data": {
      "application/vnd.jupyter.widget-view+json": {
       "model_id": "bceafec575fd4aff8d892227fee49b28",
       "version_major": 2,
       "version_minor": 0
      },
      "text/plain": [
       "  0%|          | 0/3722 [00:00<?, ?it/s]"
      ]
     },
     "metadata": {},
     "output_type": "display_data"
    },
    {
     "name": "stderr",
     "output_type": "stream",
     "text": [
      "INFO - 2024-07-12T17:43:42Z - Successfully downloaded to /home/jovyan/shared/data/copernicus/cmems_obs-oc_glo_bgc-plankton_my_l3-multi-4km_P1D/201409.nc\n",
      "INFO - 2024-07-12T17:43:44Z - Dataset version was not specified, the latest one was selected: \"202311\"\n",
      "INFO - 2024-07-12T17:43:44Z - Dataset part was not specified, the first one was selected: \"default\"\n",
      "INFO - 2024-07-12T17:43:47Z - Service was not specified, the default one was selected: \"arco-geo-series\"\n",
      "INFO - 2024-07-12T17:43:50Z - Downloading using service arco-geo-series...\n",
      "INFO - 2024-07-12T17:43:58Z - Estimated size of the dataset file is 539.769 MB.\n",
      "INFO - 2024-07-12T17:43:58Z - Writing to local storage. Please wait...\n"
     ]
    },
    {
     "data": {
      "application/vnd.jupyter.widget-view+json": {
       "model_id": "efe3f6ef0f95416687d69ed9bd8f6b7d",
       "version_major": 2,
       "version_minor": 0
      },
      "text/plain": [
       "  0%|          | 0/3846 [00:00<?, ?it/s]"
      ]
     },
     "metadata": {},
     "output_type": "display_data"
    },
    {
     "name": "stderr",
     "output_type": "stream",
     "text": [
      "INFO - 2024-07-12T17:45:00Z - Successfully downloaded to /home/jovyan/shared/data/copernicus/cmems_obs-oc_glo_bgc-plankton_my_l3-multi-4km_P1D/201410.nc\n",
      "INFO - 2024-07-12T17:45:01Z - Dataset version was not specified, the latest one was selected: \"202311\"\n",
      "INFO - 2024-07-12T17:45:01Z - Dataset part was not specified, the first one was selected: \"default\"\n",
      "INFO - 2024-07-12T17:45:05Z - Service was not specified, the default one was selected: \"arco-geo-series\"\n",
      "INFO - 2024-07-12T17:45:08Z - Downloading using service arco-geo-series...\n",
      "INFO - 2024-07-12T17:45:15Z - Estimated size of the dataset file is 522.357 MB.\n",
      "INFO - 2024-07-12T17:45:15Z - Writing to local storage. Please wait...\n"
     ]
    },
    {
     "data": {
      "application/vnd.jupyter.widget-view+json": {
       "model_id": "8e7467dc4a954fcdbf66700186cf7e43",
       "version_major": 2,
       "version_minor": 0
      },
      "text/plain": [
       "  0%|          | 0/3722 [00:00<?, ?it/s]"
      ]
     },
     "metadata": {},
     "output_type": "display_data"
    },
    {
     "name": "stderr",
     "output_type": "stream",
     "text": [
      "INFO - 2024-07-12T17:46:15Z - Successfully downloaded to /home/jovyan/shared/data/copernicus/cmems_obs-oc_glo_bgc-plankton_my_l3-multi-4km_P1D/201411.nc\n",
      "INFO - 2024-07-12T17:46:16Z - Dataset version was not specified, the latest one was selected: \"202311\"\n",
      "INFO - 2024-07-12T17:46:16Z - Dataset part was not specified, the first one was selected: \"default\"\n",
      "INFO - 2024-07-12T17:46:20Z - Service was not specified, the default one was selected: \"arco-geo-series\"\n",
      "INFO - 2024-07-12T17:46:23Z - Downloading using service arco-geo-series...\n",
      "INFO - 2024-07-12T17:46:31Z - Estimated size of the dataset file is 539.769 MB.\n",
      "INFO - 2024-07-12T17:46:31Z - Writing to local storage. Please wait...\n"
     ]
    },
    {
     "data": {
      "application/vnd.jupyter.widget-view+json": {
       "model_id": "8e4e1a20b3ee4e2e934ee4dbdf88dceb",
       "version_major": 2,
       "version_minor": 0
      },
      "text/plain": [
       "  0%|          | 0/3846 [00:00<?, ?it/s]"
      ]
     },
     "metadata": {},
     "output_type": "display_data"
    },
    {
     "name": "stderr",
     "output_type": "stream",
     "text": [
      "INFO - 2024-07-12T17:47:33Z - Successfully downloaded to /home/jovyan/shared/data/copernicus/cmems_obs-oc_glo_bgc-plankton_my_l3-multi-4km_P1D/201412.nc\n",
      "INFO - 2024-07-12T17:47:34Z - Dataset version was not specified, the latest one was selected: \"202311\"\n",
      "INFO - 2024-07-12T17:47:34Z - Dataset part was not specified, the first one was selected: \"default\"\n",
      "INFO - 2024-07-12T17:47:37Z - Service was not specified, the default one was selected: \"arco-geo-series\"\n",
      "INFO - 2024-07-12T17:47:40Z - Downloading using service arco-geo-series...\n",
      "INFO - 2024-07-12T17:47:47Z - Estimated size of the dataset file is 539.769 MB.\n",
      "INFO - 2024-07-12T17:47:47Z - Writing to local storage. Please wait...\n"
     ]
    },
    {
     "data": {
      "application/vnd.jupyter.widget-view+json": {
       "model_id": "925cdc8f03ee4e559297183c6f75ec3a",
       "version_major": 2,
       "version_minor": 0
      },
      "text/plain": [
       "  0%|          | 0/3846 [00:00<?, ?it/s]"
      ]
     },
     "metadata": {},
     "output_type": "display_data"
    },
    {
     "name": "stderr",
     "output_type": "stream",
     "text": [
      "INFO - 2024-07-12T17:48:51Z - Successfully downloaded to /home/jovyan/shared/data/copernicus/cmems_obs-oc_glo_bgc-plankton_my_l3-multi-4km_P1D/201501.nc\n",
      "INFO - 2024-07-12T17:48:52Z - Dataset version was not specified, the latest one was selected: \"202311\"\n",
      "INFO - 2024-07-12T17:48:52Z - Dataset part was not specified, the first one was selected: \"default\"\n",
      "INFO - 2024-07-12T17:48:55Z - Service was not specified, the default one was selected: \"arco-geo-series\"\n",
      "INFO - 2024-07-12T17:48:59Z - Downloading using service arco-geo-series...\n",
      "INFO - 2024-07-12T17:49:06Z - Estimated size of the dataset file is 487.533 MB.\n",
      "INFO - 2024-07-12T17:49:06Z - Writing to local storage. Please wait...\n"
     ]
    },
    {
     "data": {
      "application/vnd.jupyter.widget-view+json": {
       "model_id": "8dd7822b726d4318958e70a13289a570",
       "version_major": 2,
       "version_minor": 0
      },
      "text/plain": [
       "  0%|          | 0/3474 [00:00<?, ?it/s]"
      ]
     },
     "metadata": {},
     "output_type": "display_data"
    },
    {
     "name": "stderr",
     "output_type": "stream",
     "text": [
      "INFO - 2024-07-12T17:50:03Z - Successfully downloaded to /home/jovyan/shared/data/copernicus/cmems_obs-oc_glo_bgc-plankton_my_l3-multi-4km_P1D/201502.nc\n",
      "INFO - 2024-07-12T17:50:04Z - Dataset version was not specified, the latest one was selected: \"202311\"\n",
      "INFO - 2024-07-12T17:50:04Z - Dataset part was not specified, the first one was selected: \"default\"\n",
      "INFO - 2024-07-12T17:50:07Z - Service was not specified, the default one was selected: \"arco-geo-series\"\n",
      "INFO - 2024-07-12T17:50:11Z - Downloading using service arco-geo-series...\n",
      "INFO - 2024-07-12T17:50:17Z - Estimated size of the dataset file is 539.769 MB.\n",
      "INFO - 2024-07-12T17:50:17Z - Writing to local storage. Please wait...\n"
     ]
    },
    {
     "data": {
      "application/vnd.jupyter.widget-view+json": {
       "model_id": "532a1ff655c048d0806041d8dda835ac",
       "version_major": 2,
       "version_minor": 0
      },
      "text/plain": [
       "  0%|          | 0/3846 [00:00<?, ?it/s]"
      ]
     },
     "metadata": {},
     "output_type": "display_data"
    },
    {
     "name": "stderr",
     "output_type": "stream",
     "text": [
      "INFO - 2024-07-12T17:51:20Z - Successfully downloaded to /home/jovyan/shared/data/copernicus/cmems_obs-oc_glo_bgc-plankton_my_l3-multi-4km_P1D/201503.nc\n",
      "INFO - 2024-07-12T17:51:21Z - Dataset version was not specified, the latest one was selected: \"202311\"\n",
      "INFO - 2024-07-12T17:51:21Z - Dataset part was not specified, the first one was selected: \"default\"\n",
      "INFO - 2024-07-12T17:51:25Z - Service was not specified, the default one was selected: \"arco-geo-series\"\n",
      "INFO - 2024-07-12T17:51:28Z - Downloading using service arco-geo-series...\n",
      "INFO - 2024-07-12T17:51:35Z - Estimated size of the dataset file is 522.357 MB.\n",
      "INFO - 2024-07-12T17:51:35Z - Writing to local storage. Please wait...\n"
     ]
    },
    {
     "data": {
      "application/vnd.jupyter.widget-view+json": {
       "model_id": "17618f33cb654270adce2b7d092eee48",
       "version_major": 2,
       "version_minor": 0
      },
      "text/plain": [
       "  0%|          | 0/3722 [00:00<?, ?it/s]"
      ]
     },
     "metadata": {},
     "output_type": "display_data"
    },
    {
     "name": "stderr",
     "output_type": "stream",
     "text": [
      "INFO - 2024-07-12T17:52:35Z - Successfully downloaded to /home/jovyan/shared/data/copernicus/cmems_obs-oc_glo_bgc-plankton_my_l3-multi-4km_P1D/201504.nc\n",
      "INFO - 2024-07-12T17:52:36Z - Dataset version was not specified, the latest one was selected: \"202311\"\n",
      "INFO - 2024-07-12T17:52:36Z - Dataset part was not specified, the first one was selected: \"default\"\n",
      "INFO - 2024-07-12T17:52:40Z - Service was not specified, the default one was selected: \"arco-geo-series\"\n",
      "INFO - 2024-07-12T17:52:43Z - Downloading using service arco-geo-series...\n",
      "INFO - 2024-07-12T17:52:50Z - Estimated size of the dataset file is 539.769 MB.\n",
      "INFO - 2024-07-12T17:52:50Z - Writing to local storage. Please wait...\n"
     ]
    },
    {
     "data": {
      "application/vnd.jupyter.widget-view+json": {
       "model_id": "00cfd03e812a407bae1b82bbc5b760b1",
       "version_major": 2,
       "version_minor": 0
      },
      "text/plain": [
       "  0%|          | 0/3846 [00:00<?, ?it/s]"
      ]
     },
     "metadata": {},
     "output_type": "display_data"
    },
    {
     "name": "stderr",
     "output_type": "stream",
     "text": [
      "INFO - 2024-07-12T17:53:52Z - Successfully downloaded to /home/jovyan/shared/data/copernicus/cmems_obs-oc_glo_bgc-plankton_my_l3-multi-4km_P1D/201505.nc\n",
      "INFO - 2024-07-12T17:53:54Z - Dataset version was not specified, the latest one was selected: \"202311\"\n",
      "INFO - 2024-07-12T17:53:54Z - Dataset part was not specified, the first one was selected: \"default\"\n",
      "INFO - 2024-07-12T17:53:58Z - Service was not specified, the default one was selected: \"arco-geo-series\"\n",
      "INFO - 2024-07-12T17:54:01Z - Downloading using service arco-geo-series...\n",
      "INFO - 2024-07-12T17:54:08Z - Estimated size of the dataset file is 522.357 MB.\n",
      "INFO - 2024-07-12T17:54:08Z - Writing to local storage. Please wait...\n"
     ]
    },
    {
     "data": {
      "application/vnd.jupyter.widget-view+json": {
       "model_id": "bbfc7b11046343f2ba8a5952c9d064a6",
       "version_major": 2,
       "version_minor": 0
      },
      "text/plain": [
       "  0%|          | 0/3722 [00:00<?, ?it/s]"
      ]
     },
     "metadata": {},
     "output_type": "display_data"
    },
    {
     "name": "stderr",
     "output_type": "stream",
     "text": [
      "INFO - 2024-07-12T17:55:07Z - Successfully downloaded to /home/jovyan/shared/data/copernicus/cmems_obs-oc_glo_bgc-plankton_my_l3-multi-4km_P1D/201506.nc\n",
      "INFO - 2024-07-12T17:55:09Z - Dataset version was not specified, the latest one was selected: \"202311\"\n",
      "INFO - 2024-07-12T17:55:09Z - Dataset part was not specified, the first one was selected: \"default\"\n",
      "INFO - 2024-07-12T17:55:12Z - Service was not specified, the default one was selected: \"arco-geo-series\"\n",
      "INFO - 2024-07-12T17:55:15Z - Downloading using service arco-geo-series...\n",
      "INFO - 2024-07-12T17:55:23Z - Estimated size of the dataset file is 539.769 MB.\n",
      "INFO - 2024-07-12T17:55:23Z - Writing to local storage. Please wait...\n"
     ]
    },
    {
     "data": {
      "application/vnd.jupyter.widget-view+json": {
       "model_id": "1aec2876f83a445d9e86035213ac82ef",
       "version_major": 2,
       "version_minor": 0
      },
      "text/plain": [
       "  0%|          | 0/3846 [00:00<?, ?it/s]"
      ]
     },
     "metadata": {},
     "output_type": "display_data"
    },
    {
     "name": "stderr",
     "output_type": "stream",
     "text": [
      "INFO - 2024-07-12T17:56:25Z - Successfully downloaded to /home/jovyan/shared/data/copernicus/cmems_obs-oc_glo_bgc-plankton_my_l3-multi-4km_P1D/201507.nc\n",
      "INFO - 2024-07-12T17:56:26Z - Dataset version was not specified, the latest one was selected: \"202311\"\n",
      "INFO - 2024-07-12T17:56:26Z - Dataset part was not specified, the first one was selected: \"default\"\n",
      "INFO - 2024-07-12T17:56:29Z - Service was not specified, the default one was selected: \"arco-geo-series\"\n",
      "INFO - 2024-07-12T17:56:33Z - Downloading using service arco-geo-series...\n",
      "INFO - 2024-07-12T17:56:40Z - Estimated size of the dataset file is 539.769 MB.\n",
      "INFO - 2024-07-12T17:56:40Z - Writing to local storage. Please wait...\n"
     ]
    },
    {
     "data": {
      "application/vnd.jupyter.widget-view+json": {
       "model_id": "1ba4add8e4d3417984f197d6d276151d",
       "version_major": 2,
       "version_minor": 0
      },
      "text/plain": [
       "  0%|          | 0/3846 [00:00<?, ?it/s]"
      ]
     },
     "metadata": {},
     "output_type": "display_data"
    },
    {
     "name": "stderr",
     "output_type": "stream",
     "text": [
      "INFO - 2024-07-12T17:57:42Z - Successfully downloaded to /home/jovyan/shared/data/copernicus/cmems_obs-oc_glo_bgc-plankton_my_l3-multi-4km_P1D/201508.nc\n",
      "INFO - 2024-07-12T17:57:42Z - Dataset version was not specified, the latest one was selected: \"202311\"\n",
      "INFO - 2024-07-12T17:57:42Z - Dataset part was not specified, the first one was selected: \"default\"\n",
      "INFO - 2024-07-12T17:57:46Z - Service was not specified, the default one was selected: \"arco-geo-series\"\n",
      "INFO - 2024-07-12T17:57:50Z - Downloading using service arco-geo-series...\n",
      "INFO - 2024-07-12T17:57:57Z - Estimated size of the dataset file is 522.357 MB.\n",
      "INFO - 2024-07-12T17:57:57Z - Writing to local storage. Please wait...\n"
     ]
    },
    {
     "data": {
      "application/vnd.jupyter.widget-view+json": {
       "model_id": "eb7df4b8aa464d2ba6a1d85ed7b53d81",
       "version_major": 2,
       "version_minor": 0
      },
      "text/plain": [
       "  0%|          | 0/3722 [00:00<?, ?it/s]"
      ]
     },
     "metadata": {},
     "output_type": "display_data"
    },
    {
     "name": "stderr",
     "output_type": "stream",
     "text": [
      "INFO - 2024-07-12T17:58:56Z - Successfully downloaded to /home/jovyan/shared/data/copernicus/cmems_obs-oc_glo_bgc-plankton_my_l3-multi-4km_P1D/201509.nc\n",
      "INFO - 2024-07-12T17:58:57Z - Dataset version was not specified, the latest one was selected: \"202311\"\n",
      "INFO - 2024-07-12T17:58:57Z - Dataset part was not specified, the first one was selected: \"default\"\n",
      "INFO - 2024-07-12T17:59:01Z - Service was not specified, the default one was selected: \"arco-geo-series\"\n",
      "INFO - 2024-07-12T17:59:04Z - Downloading using service arco-geo-series...\n",
      "INFO - 2024-07-12T17:59:11Z - Estimated size of the dataset file is 539.769 MB.\n",
      "INFO - 2024-07-12T17:59:11Z - Writing to local storage. Please wait...\n"
     ]
    },
    {
     "data": {
      "application/vnd.jupyter.widget-view+json": {
       "model_id": "24efffb7d93d4c878c3d6a4ec1ae1aab",
       "version_major": 2,
       "version_minor": 0
      },
      "text/plain": [
       "  0%|          | 0/3846 [00:00<?, ?it/s]"
      ]
     },
     "metadata": {},
     "output_type": "display_data"
    },
    {
     "name": "stderr",
     "output_type": "stream",
     "text": [
      "INFO - 2024-07-12T18:00:13Z - Successfully downloaded to /home/jovyan/shared/data/copernicus/cmems_obs-oc_glo_bgc-plankton_my_l3-multi-4km_P1D/201510.nc\n",
      "INFO - 2024-07-12T18:00:15Z - Dataset version was not specified, the latest one was selected: \"202311\"\n",
      "INFO - 2024-07-12T18:00:15Z - Dataset part was not specified, the first one was selected: \"default\"\n",
      "INFO - 2024-07-12T18:00:18Z - Service was not specified, the default one was selected: \"arco-geo-series\"\n",
      "INFO - 2024-07-12T18:00:22Z - Downloading using service arco-geo-series...\n",
      "INFO - 2024-07-12T18:00:29Z - Estimated size of the dataset file is 522.357 MB.\n",
      "INFO - 2024-07-12T18:00:29Z - Writing to local storage. Please wait...\n"
     ]
    },
    {
     "data": {
      "application/vnd.jupyter.widget-view+json": {
       "model_id": "e5deaf70c79945dda7bab00234946e05",
       "version_major": 2,
       "version_minor": 0
      },
      "text/plain": [
       "  0%|          | 0/3722 [00:00<?, ?it/s]"
      ]
     },
     "metadata": {},
     "output_type": "display_data"
    },
    {
     "name": "stderr",
     "output_type": "stream",
     "text": [
      "INFO - 2024-07-12T18:01:29Z - Successfully downloaded to /home/jovyan/shared/data/copernicus/cmems_obs-oc_glo_bgc-plankton_my_l3-multi-4km_P1D/201511.nc\n",
      "INFO - 2024-07-12T18:01:30Z - Dataset version was not specified, the latest one was selected: \"202311\"\n",
      "INFO - 2024-07-12T18:01:30Z - Dataset part was not specified, the first one was selected: \"default\"\n",
      "INFO - 2024-07-12T18:01:33Z - Service was not specified, the default one was selected: \"arco-geo-series\"\n",
      "INFO - 2024-07-12T18:01:37Z - Downloading using service arco-geo-series...\n",
      "INFO - 2024-07-12T18:01:43Z - Estimated size of the dataset file is 539.769 MB.\n",
      "INFO - 2024-07-12T18:01:43Z - Writing to local storage. Please wait...\n"
     ]
    },
    {
     "data": {
      "application/vnd.jupyter.widget-view+json": {
       "model_id": "381dca8eb3d6441a91586e80929b8150",
       "version_major": 2,
       "version_minor": 0
      },
      "text/plain": [
       "  0%|          | 0/3846 [00:00<?, ?it/s]"
      ]
     },
     "metadata": {},
     "output_type": "display_data"
    },
    {
     "name": "stderr",
     "output_type": "stream",
     "text": [
      "INFO - 2024-07-12T18:02:46Z - Successfully downloaded to /home/jovyan/shared/data/copernicus/cmems_obs-oc_glo_bgc-plankton_my_l3-multi-4km_P1D/201512.nc\n",
      "INFO - 2024-07-12T18:02:48Z - Dataset version was not specified, the latest one was selected: \"202311\"\n",
      "INFO - 2024-07-12T18:02:48Z - Dataset part was not specified, the first one was selected: \"default\"\n",
      "INFO - 2024-07-12T18:02:51Z - Service was not specified, the default one was selected: \"arco-geo-series\"\n",
      "INFO - 2024-07-12T18:02:54Z - Downloading using service arco-geo-series...\n",
      "INFO - 2024-07-12T18:03:01Z - Estimated size of the dataset file is 539.769 MB.\n",
      "INFO - 2024-07-12T18:03:01Z - Writing to local storage. Please wait...\n"
     ]
    },
    {
     "data": {
      "application/vnd.jupyter.widget-view+json": {
       "model_id": "62723a3848dd4c3695b9a76fb495a1c9",
       "version_major": 2,
       "version_minor": 0
      },
      "text/plain": [
       "  0%|          | 0/3846 [00:00<?, ?it/s]"
      ]
     },
     "metadata": {},
     "output_type": "display_data"
    },
    {
     "name": "stderr",
     "output_type": "stream",
     "text": [
      "INFO - 2024-07-12T18:04:03Z - Successfully downloaded to /home/jovyan/shared/data/copernicus/cmems_obs-oc_glo_bgc-plankton_my_l3-multi-4km_P1D/201601.nc\n",
      "INFO - 2024-07-12T18:04:04Z - Dataset version was not specified, the latest one was selected: \"202311\"\n",
      "INFO - 2024-07-12T18:04:04Z - Dataset part was not specified, the first one was selected: \"default\"\n",
      "INFO - 2024-07-12T18:04:08Z - Service was not specified, the default one was selected: \"arco-geo-series\"\n",
      "INFO - 2024-07-12T18:04:11Z - Downloading using service arco-geo-series...\n",
      "INFO - 2024-07-12T18:04:18Z - Estimated size of the dataset file is 504.945 MB.\n",
      "INFO - 2024-07-12T18:04:18Z - Writing to local storage. Please wait...\n"
     ]
    },
    {
     "data": {
      "application/vnd.jupyter.widget-view+json": {
       "model_id": "be0bb31b8d6b4977a867882a9a9f3c22",
       "version_major": 2,
       "version_minor": 0
      },
      "text/plain": [
       "  0%|          | 0/3598 [00:00<?, ?it/s]"
      ]
     },
     "metadata": {},
     "output_type": "display_data"
    },
    {
     "name": "stderr",
     "output_type": "stream",
     "text": [
      "INFO - 2024-07-12T18:05:16Z - Successfully downloaded to /home/jovyan/shared/data/copernicus/cmems_obs-oc_glo_bgc-plankton_my_l3-multi-4km_P1D/201602.nc\n",
      "INFO - 2024-07-12T18:05:17Z - Dataset version was not specified, the latest one was selected: \"202311\"\n",
      "INFO - 2024-07-12T18:05:17Z - Dataset part was not specified, the first one was selected: \"default\"\n",
      "INFO - 2024-07-12T18:05:21Z - Service was not specified, the default one was selected: \"arco-geo-series\"\n",
      "INFO - 2024-07-12T18:05:25Z - Downloading using service arco-geo-series...\n",
      "INFO - 2024-07-12T18:05:31Z - Estimated size of the dataset file is 539.769 MB.\n",
      "INFO - 2024-07-12T18:05:31Z - Writing to local storage. Please wait...\n"
     ]
    },
    {
     "data": {
      "application/vnd.jupyter.widget-view+json": {
       "model_id": "895d115c0de04d95b0c962cc0e4f28e5",
       "version_major": 2,
       "version_minor": 0
      },
      "text/plain": [
       "  0%|          | 0/3846 [00:00<?, ?it/s]"
      ]
     },
     "metadata": {},
     "output_type": "display_data"
    },
    {
     "name": "stderr",
     "output_type": "stream",
     "text": [
      "INFO - 2024-07-12T18:06:33Z - Successfully downloaded to /home/jovyan/shared/data/copernicus/cmems_obs-oc_glo_bgc-plankton_my_l3-multi-4km_P1D/201603.nc\n",
      "INFO - 2024-07-12T18:06:35Z - Dataset version was not specified, the latest one was selected: \"202311\"\n",
      "INFO - 2024-07-12T18:06:35Z - Dataset part was not specified, the first one was selected: \"default\"\n",
      "INFO - 2024-07-12T18:06:38Z - Service was not specified, the default one was selected: \"arco-geo-series\"\n",
      "INFO - 2024-07-12T18:06:41Z - Downloading using service arco-geo-series...\n",
      "INFO - 2024-07-12T18:06:49Z - Estimated size of the dataset file is 522.357 MB.\n",
      "INFO - 2024-07-12T18:06:49Z - Writing to local storage. Please wait...\n"
     ]
    },
    {
     "data": {
      "application/vnd.jupyter.widget-view+json": {
       "model_id": "679a60a1311548f8a97f3c1749d92f4a",
       "version_major": 2,
       "version_minor": 0
      },
      "text/plain": [
       "  0%|          | 0/3722 [00:00<?, ?it/s]"
      ]
     },
     "metadata": {},
     "output_type": "display_data"
    },
    {
     "name": "stderr",
     "output_type": "stream",
     "text": [
      "INFO - 2024-07-12T18:07:50Z - Successfully downloaded to /home/jovyan/shared/data/copernicus/cmems_obs-oc_glo_bgc-plankton_my_l3-multi-4km_P1D/201604.nc\n",
      "INFO - 2024-07-12T18:07:51Z - Dataset version was not specified, the latest one was selected: \"202311\"\n",
      "INFO - 2024-07-12T18:07:51Z - Dataset part was not specified, the first one was selected: \"default\"\n",
      "INFO - 2024-07-12T18:07:55Z - Service was not specified, the default one was selected: \"arco-geo-series\"\n",
      "INFO - 2024-07-12T18:07:58Z - Downloading using service arco-geo-series...\n",
      "INFO - 2024-07-12T18:08:05Z - Estimated size of the dataset file is 539.769 MB.\n",
      "INFO - 2024-07-12T18:08:05Z - Writing to local storage. Please wait...\n"
     ]
    },
    {
     "data": {
      "application/vnd.jupyter.widget-view+json": {
       "model_id": "9311956864e34ff0997c39b6000d5259",
       "version_major": 2,
       "version_minor": 0
      },
      "text/plain": [
       "  0%|          | 0/3846 [00:00<?, ?it/s]"
      ]
     },
     "metadata": {},
     "output_type": "display_data"
    },
    {
     "name": "stderr",
     "output_type": "stream",
     "text": [
      "INFO - 2024-07-12T18:09:08Z - Successfully downloaded to /home/jovyan/shared/data/copernicus/cmems_obs-oc_glo_bgc-plankton_my_l3-multi-4km_P1D/201605.nc\n",
      "INFO - 2024-07-12T18:09:09Z - Dataset version was not specified, the latest one was selected: \"202311\"\n",
      "INFO - 2024-07-12T18:09:09Z - Dataset part was not specified, the first one was selected: \"default\"\n",
      "INFO - 2024-07-12T18:09:12Z - Service was not specified, the default one was selected: \"arco-geo-series\"\n",
      "INFO - 2024-07-12T18:09:15Z - Downloading using service arco-geo-series...\n",
      "INFO - 2024-07-12T18:09:22Z - Estimated size of the dataset file is 522.357 MB.\n",
      "INFO - 2024-07-12T18:09:22Z - Writing to local storage. Please wait...\n"
     ]
    },
    {
     "data": {
      "application/vnd.jupyter.widget-view+json": {
       "model_id": "92b058fd536b4feda3f3c4e0caa3addc",
       "version_major": 2,
       "version_minor": 0
      },
      "text/plain": [
       "  0%|          | 0/3722 [00:00<?, ?it/s]"
      ]
     },
     "metadata": {},
     "output_type": "display_data"
    },
    {
     "name": "stderr",
     "output_type": "stream",
     "text": [
      "INFO - 2024-07-12T18:10:23Z - Successfully downloaded to /home/jovyan/shared/data/copernicus/cmems_obs-oc_glo_bgc-plankton_my_l3-multi-4km_P1D/201606.nc\n",
      "INFO - 2024-07-12T18:10:24Z - Dataset version was not specified, the latest one was selected: \"202311\"\n",
      "INFO - 2024-07-12T18:10:24Z - Dataset part was not specified, the first one was selected: \"default\"\n",
      "INFO - 2024-07-12T18:10:27Z - Service was not specified, the default one was selected: \"arco-geo-series\"\n",
      "INFO - 2024-07-12T18:10:30Z - Downloading using service arco-geo-series...\n",
      "INFO - 2024-07-12T18:10:38Z - Estimated size of the dataset file is 539.769 MB.\n",
      "INFO - 2024-07-12T18:10:38Z - Writing to local storage. Please wait...\n"
     ]
    },
    {
     "data": {
      "application/vnd.jupyter.widget-view+json": {
       "model_id": "d35f30e8f2dd4ede963fc76ceceae3cb",
       "version_major": 2,
       "version_minor": 0
      },
      "text/plain": [
       "  0%|          | 0/3846 [00:00<?, ?it/s]"
      ]
     },
     "metadata": {},
     "output_type": "display_data"
    },
    {
     "name": "stderr",
     "output_type": "stream",
     "text": [
      "INFO - 2024-07-12T18:11:40Z - Successfully downloaded to /home/jovyan/shared/data/copernicus/cmems_obs-oc_glo_bgc-plankton_my_l3-multi-4km_P1D/201607.nc\n",
      "INFO - 2024-07-12T18:11:41Z - Dataset version was not specified, the latest one was selected: \"202311\"\n",
      "INFO - 2024-07-12T18:11:41Z - Dataset part was not specified, the first one was selected: \"default\"\n",
      "INFO - 2024-07-12T18:11:45Z - Service was not specified, the default one was selected: \"arco-geo-series\"\n",
      "INFO - 2024-07-12T18:11:48Z - Downloading using service arco-geo-series...\n",
      "INFO - 2024-07-12T18:11:56Z - Estimated size of the dataset file is 539.769 MB.\n",
      "INFO - 2024-07-12T18:11:56Z - Writing to local storage. Please wait...\n"
     ]
    },
    {
     "data": {
      "application/vnd.jupyter.widget-view+json": {
       "model_id": "47f0fec94eb547828989485ffd1d5c9b",
       "version_major": 2,
       "version_minor": 0
      },
      "text/plain": [
       "  0%|          | 0/3846 [00:00<?, ?it/s]"
      ]
     },
     "metadata": {},
     "output_type": "display_data"
    },
    {
     "name": "stderr",
     "output_type": "stream",
     "text": [
      "INFO - 2024-07-12T18:12:58Z - Successfully downloaded to /home/jovyan/shared/data/copernicus/cmems_obs-oc_glo_bgc-plankton_my_l3-multi-4km_P1D/201608.nc\n",
      "INFO - 2024-07-12T18:13:00Z - Dataset version was not specified, the latest one was selected: \"202311\"\n",
      "INFO - 2024-07-12T18:13:00Z - Dataset part was not specified, the first one was selected: \"default\"\n",
      "INFO - 2024-07-12T18:13:03Z - Service was not specified, the default one was selected: \"arco-geo-series\"\n",
      "INFO - 2024-07-12T18:13:07Z - Downloading using service arco-geo-series...\n",
      "INFO - 2024-07-12T18:13:13Z - Estimated size of the dataset file is 522.357 MB.\n",
      "INFO - 2024-07-12T18:13:13Z - Writing to local storage. Please wait...\n"
     ]
    },
    {
     "data": {
      "application/vnd.jupyter.widget-view+json": {
       "model_id": "7be0f470b2aa4d1ab21531be844504fa",
       "version_major": 2,
       "version_minor": 0
      },
      "text/plain": [
       "  0%|          | 0/3722 [00:00<?, ?it/s]"
      ]
     },
     "metadata": {},
     "output_type": "display_data"
    },
    {
     "name": "stderr",
     "output_type": "stream",
     "text": [
      "INFO - 2024-07-12T18:14:15Z - Successfully downloaded to /home/jovyan/shared/data/copernicus/cmems_obs-oc_glo_bgc-plankton_my_l3-multi-4km_P1D/201609.nc\n",
      "INFO - 2024-07-12T18:14:16Z - Dataset version was not specified, the latest one was selected: \"202311\"\n",
      "INFO - 2024-07-12T18:14:16Z - Dataset part was not specified, the first one was selected: \"default\"\n",
      "INFO - 2024-07-12T18:14:19Z - Service was not specified, the default one was selected: \"arco-geo-series\"\n",
      "INFO - 2024-07-12T18:14:22Z - Downloading using service arco-geo-series...\n",
      "INFO - 2024-07-12T18:14:29Z - Estimated size of the dataset file is 539.769 MB.\n",
      "INFO - 2024-07-12T18:14:29Z - Writing to local storage. Please wait...\n"
     ]
    },
    {
     "data": {
      "application/vnd.jupyter.widget-view+json": {
       "model_id": "487ea77c89da4503a4cee8bd074aab0c",
       "version_major": 2,
       "version_minor": 0
      },
      "text/plain": [
       "  0%|          | 0/3846 [00:00<?, ?it/s]"
      ]
     },
     "metadata": {},
     "output_type": "display_data"
    },
    {
     "name": "stderr",
     "output_type": "stream",
     "text": [
      "INFO - 2024-07-12T18:15:32Z - Successfully downloaded to /home/jovyan/shared/data/copernicus/cmems_obs-oc_glo_bgc-plankton_my_l3-multi-4km_P1D/201610.nc\n",
      "INFO - 2024-07-12T18:15:33Z - Dataset version was not specified, the latest one was selected: \"202311\"\n",
      "INFO - 2024-07-12T18:15:33Z - Dataset part was not specified, the first one was selected: \"default\"\n",
      "INFO - 2024-07-12T18:15:37Z - Service was not specified, the default one was selected: \"arco-geo-series\"\n",
      "INFO - 2024-07-12T18:15:40Z - Downloading using service arco-geo-series...\n",
      "INFO - 2024-07-12T18:15:47Z - Estimated size of the dataset file is 522.357 MB.\n",
      "INFO - 2024-07-12T18:15:47Z - Writing to local storage. Please wait...\n"
     ]
    },
    {
     "data": {
      "application/vnd.jupyter.widget-view+json": {
       "model_id": "551067d6cf454ce184441ca27ac3e550",
       "version_major": 2,
       "version_minor": 0
      },
      "text/plain": [
       "  0%|          | 0/3722 [00:00<?, ?it/s]"
      ]
     },
     "metadata": {},
     "output_type": "display_data"
    },
    {
     "name": "stderr",
     "output_type": "stream",
     "text": [
      "INFO - 2024-07-12T18:16:48Z - Successfully downloaded to /home/jovyan/shared/data/copernicus/cmems_obs-oc_glo_bgc-plankton_my_l3-multi-4km_P1D/201611.nc\n",
      "INFO - 2024-07-12T18:16:49Z - Dataset version was not specified, the latest one was selected: \"202311\"\n",
      "INFO - 2024-07-12T18:16:49Z - Dataset part was not specified, the first one was selected: \"default\"\n",
      "INFO - 2024-07-12T18:16:53Z - Service was not specified, the default one was selected: \"arco-geo-series\"\n",
      "INFO - 2024-07-12T18:16:57Z - Downloading using service arco-geo-series...\n",
      "INFO - 2024-07-12T18:17:04Z - Estimated size of the dataset file is 539.769 MB.\n",
      "INFO - 2024-07-12T18:17:04Z - Writing to local storage. Please wait...\n"
     ]
    },
    {
     "data": {
      "application/vnd.jupyter.widget-view+json": {
       "model_id": "1b68d7b50bbb4bdea6da10c066117241",
       "version_major": 2,
       "version_minor": 0
      },
      "text/plain": [
       "  0%|          | 0/3846 [00:00<?, ?it/s]"
      ]
     },
     "metadata": {},
     "output_type": "display_data"
    },
    {
     "name": "stderr",
     "output_type": "stream",
     "text": [
      "INFO - 2024-07-12T18:18:06Z - Successfully downloaded to /home/jovyan/shared/data/copernicus/cmems_obs-oc_glo_bgc-plankton_my_l3-multi-4km_P1D/201612.nc\n",
      "INFO - 2024-07-12T18:18:08Z - Dataset version was not specified, the latest one was selected: \"202311\"\n",
      "INFO - 2024-07-12T18:18:08Z - Dataset part was not specified, the first one was selected: \"default\"\n",
      "INFO - 2024-07-12T18:18:11Z - Service was not specified, the default one was selected: \"arco-geo-series\"\n",
      "INFO - 2024-07-12T18:18:14Z - Downloading using service arco-geo-series...\n",
      "INFO - 2024-07-12T18:18:22Z - Estimated size of the dataset file is 539.769 MB.\n",
      "INFO - 2024-07-12T18:18:22Z - Writing to local storage. Please wait...\n"
     ]
    },
    {
     "data": {
      "application/vnd.jupyter.widget-view+json": {
       "model_id": "3073d5f759314772825e82d8c43d10c5",
       "version_major": 2,
       "version_minor": 0
      },
      "text/plain": [
       "  0%|          | 0/3846 [00:00<?, ?it/s]"
      ]
     },
     "metadata": {},
     "output_type": "display_data"
    },
    {
     "name": "stderr",
     "output_type": "stream",
     "text": [
      "INFO - 2024-07-12T18:19:25Z - Successfully downloaded to /home/jovyan/shared/data/copernicus/cmems_obs-oc_glo_bgc-plankton_my_l3-multi-4km_P1D/201701.nc\n",
      "INFO - 2024-07-12T18:19:26Z - Dataset version was not specified, the latest one was selected: \"202311\"\n",
      "INFO - 2024-07-12T18:19:26Z - Dataset part was not specified, the first one was selected: \"default\"\n",
      "INFO - 2024-07-12T18:19:30Z - Service was not specified, the default one was selected: \"arco-geo-series\"\n",
      "INFO - 2024-07-12T18:19:33Z - Downloading using service arco-geo-series...\n",
      "INFO - 2024-07-12T18:19:40Z - Estimated size of the dataset file is 487.533 MB.\n",
      "INFO - 2024-07-12T18:19:40Z - Writing to local storage. Please wait...\n"
     ]
    },
    {
     "data": {
      "application/vnd.jupyter.widget-view+json": {
       "model_id": "979308515c9c4d928bf162fccfc48203",
       "version_major": 2,
       "version_minor": 0
      },
      "text/plain": [
       "  0%|          | 0/3474 [00:00<?, ?it/s]"
      ]
     },
     "metadata": {},
     "output_type": "display_data"
    },
    {
     "name": "stderr",
     "output_type": "stream",
     "text": [
      "INFO - 2024-07-12T18:20:38Z - Successfully downloaded to /home/jovyan/shared/data/copernicus/cmems_obs-oc_glo_bgc-plankton_my_l3-multi-4km_P1D/201702.nc\n",
      "INFO - 2024-07-12T18:20:39Z - Dataset version was not specified, the latest one was selected: \"202311\"\n",
      "INFO - 2024-07-12T18:20:39Z - Dataset part was not specified, the first one was selected: \"default\"\n",
      "INFO - 2024-07-12T18:20:42Z - Service was not specified, the default one was selected: \"arco-geo-series\"\n",
      "INFO - 2024-07-12T18:20:45Z - Downloading using service arco-geo-series...\n",
      "INFO - 2024-07-12T18:20:52Z - Estimated size of the dataset file is 539.769 MB.\n",
      "INFO - 2024-07-12T18:20:52Z - Writing to local storage. Please wait...\n"
     ]
    },
    {
     "data": {
      "application/vnd.jupyter.widget-view+json": {
       "model_id": "b6c0c7b99d704384ad77f385474298fa",
       "version_major": 2,
       "version_minor": 0
      },
      "text/plain": [
       "  0%|          | 0/3846 [00:00<?, ?it/s]"
      ]
     },
     "metadata": {},
     "output_type": "display_data"
    },
    {
     "name": "stderr",
     "output_type": "stream",
     "text": [
      "INFO - 2024-07-12T18:21:55Z - Successfully downloaded to /home/jovyan/shared/data/copernicus/cmems_obs-oc_glo_bgc-plankton_my_l3-multi-4km_P1D/201703.nc\n",
      "INFO - 2024-07-12T18:21:56Z - Dataset version was not specified, the latest one was selected: \"202311\"\n",
      "INFO - 2024-07-12T18:21:56Z - Dataset part was not specified, the first one was selected: \"default\"\n",
      "INFO - 2024-07-12T18:22:00Z - Service was not specified, the default one was selected: \"arco-geo-series\"\n",
      "INFO - 2024-07-12T18:22:03Z - Downloading using service arco-geo-series...\n",
      "INFO - 2024-07-12T18:22:10Z - Estimated size of the dataset file is 522.357 MB.\n",
      "INFO - 2024-07-12T18:22:10Z - Writing to local storage. Please wait...\n"
     ]
    },
    {
     "data": {
      "application/vnd.jupyter.widget-view+json": {
       "model_id": "0f9f061fea5640adbb823ee87cf602d2",
       "version_major": 2,
       "version_minor": 0
      },
      "text/plain": [
       "  0%|          | 0/3722 [00:00<?, ?it/s]"
      ]
     },
     "metadata": {},
     "output_type": "display_data"
    },
    {
     "name": "stderr",
     "output_type": "stream",
     "text": [
      "INFO - 2024-07-12T18:23:11Z - Successfully downloaded to /home/jovyan/shared/data/copernicus/cmems_obs-oc_glo_bgc-plankton_my_l3-multi-4km_P1D/201704.nc\n",
      "INFO - 2024-07-12T18:23:13Z - Dataset version was not specified, the latest one was selected: \"202311\"\n",
      "INFO - 2024-07-12T18:23:13Z - Dataset part was not specified, the first one was selected: \"default\"\n",
      "INFO - 2024-07-12T18:23:16Z - Service was not specified, the default one was selected: \"arco-geo-series\"\n",
      "INFO - 2024-07-12T18:23:20Z - Downloading using service arco-geo-series...\n",
      "INFO - 2024-07-12T18:23:26Z - Estimated size of the dataset file is 539.769 MB.\n",
      "INFO - 2024-07-12T18:23:26Z - Writing to local storage. Please wait...\n"
     ]
    },
    {
     "data": {
      "application/vnd.jupyter.widget-view+json": {
       "model_id": "12f1b4e5f7a845d5ae944b1d52af7a1d",
       "version_major": 2,
       "version_minor": 0
      },
      "text/plain": [
       "  0%|          | 0/3846 [00:00<?, ?it/s]"
      ]
     },
     "metadata": {},
     "output_type": "display_data"
    },
    {
     "name": "stderr",
     "output_type": "stream",
     "text": [
      "INFO - 2024-07-12T18:24:29Z - Successfully downloaded to /home/jovyan/shared/data/copernicus/cmems_obs-oc_glo_bgc-plankton_my_l3-multi-4km_P1D/201705.nc\n",
      "INFO - 2024-07-12T18:24:30Z - Dataset version was not specified, the latest one was selected: \"202311\"\n",
      "INFO - 2024-07-12T18:24:30Z - Dataset part was not specified, the first one was selected: \"default\"\n",
      "INFO - 2024-07-12T18:24:34Z - Service was not specified, the default one was selected: \"arco-geo-series\"\n",
      "INFO - 2024-07-12T18:24:38Z - Downloading using service arco-geo-series...\n",
      "INFO - 2024-07-12T18:24:45Z - Estimated size of the dataset file is 522.357 MB.\n",
      "INFO - 2024-07-12T18:24:45Z - Writing to local storage. Please wait...\n"
     ]
    },
    {
     "data": {
      "application/vnd.jupyter.widget-view+json": {
       "model_id": "d8d0af219ce74f9e8f709eb5df539a65",
       "version_major": 2,
       "version_minor": 0
      },
      "text/plain": [
       "  0%|          | 0/3722 [00:00<?, ?it/s]"
      ]
     },
     "metadata": {},
     "output_type": "display_data"
    },
    {
     "name": "stderr",
     "output_type": "stream",
     "text": [
      "INFO - 2024-07-12T18:25:45Z - Successfully downloaded to /home/jovyan/shared/data/copernicus/cmems_obs-oc_glo_bgc-plankton_my_l3-multi-4km_P1D/201706.nc\n",
      "INFO - 2024-07-12T18:25:46Z - Dataset version was not specified, the latest one was selected: \"202311\"\n",
      "INFO - 2024-07-12T18:25:46Z - Dataset part was not specified, the first one was selected: \"default\"\n",
      "INFO - 2024-07-12T18:25:49Z - Service was not specified, the default one was selected: \"arco-geo-series\"\n",
      "INFO - 2024-07-12T18:25:52Z - Downloading using service arco-geo-series...\n",
      "INFO - 2024-07-12T18:26:01Z - Estimated size of the dataset file is 539.769 MB.\n",
      "INFO - 2024-07-12T18:26:01Z - Writing to local storage. Please wait...\n"
     ]
    },
    {
     "data": {
      "application/vnd.jupyter.widget-view+json": {
       "model_id": "ab23b288689d4be2ba70a299578bc3ea",
       "version_major": 2,
       "version_minor": 0
      },
      "text/plain": [
       "  0%|          | 0/3846 [00:00<?, ?it/s]"
      ]
     },
     "metadata": {},
     "output_type": "display_data"
    },
    {
     "name": "stderr",
     "output_type": "stream",
     "text": [
      "INFO - 2024-07-12T18:27:03Z - Successfully downloaded to /home/jovyan/shared/data/copernicus/cmems_obs-oc_glo_bgc-plankton_my_l3-multi-4km_P1D/201707.nc\n",
      "INFO - 2024-07-12T18:27:04Z - Dataset version was not specified, the latest one was selected: \"202311\"\n",
      "INFO - 2024-07-12T18:27:04Z - Dataset part was not specified, the first one was selected: \"default\"\n",
      "INFO - 2024-07-12T18:27:07Z - Service was not specified, the default one was selected: \"arco-geo-series\"\n",
      "INFO - 2024-07-12T18:27:11Z - Downloading using service arco-geo-series...\n",
      "INFO - 2024-07-12T18:27:18Z - Estimated size of the dataset file is 539.769 MB.\n",
      "INFO - 2024-07-12T18:27:18Z - Writing to local storage. Please wait...\n"
     ]
    },
    {
     "data": {
      "application/vnd.jupyter.widget-view+json": {
       "model_id": "b6e8bd4091c9416d887d5fec8f30b257",
       "version_major": 2,
       "version_minor": 0
      },
      "text/plain": [
       "  0%|          | 0/3846 [00:00<?, ?it/s]"
      ]
     },
     "metadata": {},
     "output_type": "display_data"
    },
    {
     "name": "stderr",
     "output_type": "stream",
     "text": [
      "INFO - 2024-07-12T18:28:19Z - Successfully downloaded to /home/jovyan/shared/data/copernicus/cmems_obs-oc_glo_bgc-plankton_my_l3-multi-4km_P1D/201708.nc\n",
      "INFO - 2024-07-12T18:28:21Z - Dataset version was not specified, the latest one was selected: \"202311\"\n",
      "INFO - 2024-07-12T18:28:21Z - Dataset part was not specified, the first one was selected: \"default\"\n",
      "INFO - 2024-07-12T18:28:24Z - Service was not specified, the default one was selected: \"arco-geo-series\"\n",
      "INFO - 2024-07-12T18:28:27Z - Downloading using service arco-geo-series...\n",
      "INFO - 2024-07-12T18:28:34Z - Estimated size of the dataset file is 522.357 MB.\n",
      "INFO - 2024-07-12T18:28:34Z - Writing to local storage. Please wait...\n"
     ]
    },
    {
     "data": {
      "application/vnd.jupyter.widget-view+json": {
       "model_id": "2f1fac5890e94d2a95d36d6b1147b80c",
       "version_major": 2,
       "version_minor": 0
      },
      "text/plain": [
       "  0%|          | 0/3722 [00:00<?, ?it/s]"
      ]
     },
     "metadata": {},
     "output_type": "display_data"
    },
    {
     "name": "stderr",
     "output_type": "stream",
     "text": [
      "INFO - 2024-07-12T18:29:35Z - Successfully downloaded to /home/jovyan/shared/data/copernicus/cmems_obs-oc_glo_bgc-plankton_my_l3-multi-4km_P1D/201709.nc\n",
      "INFO - 2024-07-12T18:29:36Z - Dataset version was not specified, the latest one was selected: \"202311\"\n",
      "INFO - 2024-07-12T18:29:36Z - Dataset part was not specified, the first one was selected: \"default\"\n",
      "INFO - 2024-07-12T18:29:39Z - Service was not specified, the default one was selected: \"arco-geo-series\"\n",
      "INFO - 2024-07-12T18:29:43Z - Downloading using service arco-geo-series...\n",
      "INFO - 2024-07-12T18:29:49Z - Estimated size of the dataset file is 539.769 MB.\n",
      "INFO - 2024-07-12T18:29:49Z - Writing to local storage. Please wait...\n"
     ]
    },
    {
     "data": {
      "application/vnd.jupyter.widget-view+json": {
       "model_id": "73d319923f5248b49e3731700a8bfba4",
       "version_major": 2,
       "version_minor": 0
      },
      "text/plain": [
       "  0%|          | 0/3846 [00:00<?, ?it/s]"
      ]
     },
     "metadata": {},
     "output_type": "display_data"
    },
    {
     "name": "stderr",
     "output_type": "stream",
     "text": [
      "INFO - 2024-07-12T18:30:52Z - Successfully downloaded to /home/jovyan/shared/data/copernicus/cmems_obs-oc_glo_bgc-plankton_my_l3-multi-4km_P1D/201710.nc\n",
      "INFO - 2024-07-12T18:30:53Z - Dataset version was not specified, the latest one was selected: \"202311\"\n",
      "INFO - 2024-07-12T18:30:53Z - Dataset part was not specified, the first one was selected: \"default\"\n",
      "INFO - 2024-07-12T18:30:56Z - Service was not specified, the default one was selected: \"arco-geo-series\"\n",
      "INFO - 2024-07-12T18:31:00Z - Downloading using service arco-geo-series...\n",
      "INFO - 2024-07-12T18:31:07Z - Estimated size of the dataset file is 522.357 MB.\n",
      "INFO - 2024-07-12T18:31:07Z - Writing to local storage. Please wait...\n"
     ]
    },
    {
     "data": {
      "application/vnd.jupyter.widget-view+json": {
       "model_id": "23f37b534d9543fab5cc9ed9260d1310",
       "version_major": 2,
       "version_minor": 0
      },
      "text/plain": [
       "  0%|          | 0/3722 [00:00<?, ?it/s]"
      ]
     },
     "metadata": {},
     "output_type": "display_data"
    },
    {
     "name": "stderr",
     "output_type": "stream",
     "text": [
      "INFO - 2024-07-12T18:32:08Z - Successfully downloaded to /home/jovyan/shared/data/copernicus/cmems_obs-oc_glo_bgc-plankton_my_l3-multi-4km_P1D/201711.nc\n",
      "INFO - 2024-07-12T18:32:09Z - Dataset version was not specified, the latest one was selected: \"202311\"\n",
      "INFO - 2024-07-12T18:32:09Z - Dataset part was not specified, the first one was selected: \"default\"\n",
      "INFO - 2024-07-12T18:32:12Z - Service was not specified, the default one was selected: \"arco-geo-series\"\n",
      "INFO - 2024-07-12T18:32:16Z - Downloading using service arco-geo-series...\n",
      "INFO - 2024-07-12T18:32:23Z - Estimated size of the dataset file is 539.769 MB.\n",
      "INFO - 2024-07-12T18:32:23Z - Writing to local storage. Please wait...\n"
     ]
    },
    {
     "data": {
      "application/vnd.jupyter.widget-view+json": {
       "model_id": "46f838dc3f104c06b85dc46ecb714b6b",
       "version_major": 2,
       "version_minor": 0
      },
      "text/plain": [
       "  0%|          | 0/3846 [00:00<?, ?it/s]"
      ]
     },
     "metadata": {},
     "output_type": "display_data"
    },
    {
     "name": "stderr",
     "output_type": "stream",
     "text": [
      "INFO - 2024-07-12T18:33:26Z - Successfully downloaded to /home/jovyan/shared/data/copernicus/cmems_obs-oc_glo_bgc-plankton_my_l3-multi-4km_P1D/201712.nc\n",
      "INFO - 2024-07-12T18:33:27Z - Dataset version was not specified, the latest one was selected: \"202311\"\n",
      "INFO - 2024-07-12T18:33:27Z - Dataset part was not specified, the first one was selected: \"default\"\n",
      "INFO - 2024-07-12T18:33:30Z - Service was not specified, the default one was selected: \"arco-geo-series\"\n",
      "INFO - 2024-07-12T18:33:33Z - Downloading using service arco-geo-series...\n",
      "INFO - 2024-07-12T18:33:40Z - Estimated size of the dataset file is 539.769 MB.\n",
      "INFO - 2024-07-12T18:33:40Z - Writing to local storage. Please wait...\n"
     ]
    },
    {
     "data": {
      "application/vnd.jupyter.widget-view+json": {
       "model_id": "380731db59bf43b8853a6ed26e1f1bf1",
       "version_major": 2,
       "version_minor": 0
      },
      "text/plain": [
       "  0%|          | 0/3846 [00:00<?, ?it/s]"
      ]
     },
     "metadata": {},
     "output_type": "display_data"
    },
    {
     "name": "stderr",
     "output_type": "stream",
     "text": [
      "INFO - 2024-07-12T18:34:42Z - Successfully downloaded to /home/jovyan/shared/data/copernicus/cmems_obs-oc_glo_bgc-plankton_my_l3-multi-4km_P1D/201801.nc\n",
      "INFO - 2024-07-12T18:34:43Z - Dataset version was not specified, the latest one was selected: \"202311\"\n",
      "INFO - 2024-07-12T18:34:43Z - Dataset part was not specified, the first one was selected: \"default\"\n",
      "INFO - 2024-07-12T18:34:46Z - Service was not specified, the default one was selected: \"arco-geo-series\"\n",
      "INFO - 2024-07-12T18:34:49Z - Downloading using service arco-geo-series...\n",
      "INFO - 2024-07-12T18:34:57Z - Estimated size of the dataset file is 487.533 MB.\n",
      "INFO - 2024-07-12T18:34:57Z - Writing to local storage. Please wait...\n"
     ]
    },
    {
     "data": {
      "application/vnd.jupyter.widget-view+json": {
       "model_id": "7705371178e34c69bf2defa4643abb37",
       "version_major": 2,
       "version_minor": 0
      },
      "text/plain": [
       "  0%|          | 0/3474 [00:00<?, ?it/s]"
      ]
     },
     "metadata": {},
     "output_type": "display_data"
    },
    {
     "name": "stderr",
     "output_type": "stream",
     "text": [
      "INFO - 2024-07-12T18:35:54Z - Successfully downloaded to /home/jovyan/shared/data/copernicus/cmems_obs-oc_glo_bgc-plankton_my_l3-multi-4km_P1D/201802.nc\n",
      "INFO - 2024-07-12T18:35:55Z - Dataset version was not specified, the latest one was selected: \"202311\"\n",
      "INFO - 2024-07-12T18:35:55Z - Dataset part was not specified, the first one was selected: \"default\"\n",
      "INFO - 2024-07-12T18:35:58Z - Service was not specified, the default one was selected: \"arco-geo-series\"\n",
      "INFO - 2024-07-12T18:36:01Z - Downloading using service arco-geo-series...\n",
      "INFO - 2024-07-12T18:36:08Z - Estimated size of the dataset file is 539.769 MB.\n",
      "INFO - 2024-07-12T18:36:08Z - Writing to local storage. Please wait...\n"
     ]
    },
    {
     "data": {
      "application/vnd.jupyter.widget-view+json": {
       "model_id": "9e7e8c9acbed47b89e65988946854f1a",
       "version_major": 2,
       "version_minor": 0
      },
      "text/plain": [
       "  0%|          | 0/3846 [00:00<?, ?it/s]"
      ]
     },
     "metadata": {},
     "output_type": "display_data"
    },
    {
     "name": "stderr",
     "output_type": "stream",
     "text": [
      "INFO - 2024-07-12T18:37:11Z - Successfully downloaded to /home/jovyan/shared/data/copernicus/cmems_obs-oc_glo_bgc-plankton_my_l3-multi-4km_P1D/201803.nc\n",
      "INFO - 2024-07-12T18:37:12Z - Dataset version was not specified, the latest one was selected: \"202311\"\n",
      "INFO - 2024-07-12T18:37:12Z - Dataset part was not specified, the first one was selected: \"default\"\n",
      "INFO - 2024-07-12T18:37:15Z - Service was not specified, the default one was selected: \"arco-geo-series\"\n",
      "INFO - 2024-07-12T18:37:19Z - Downloading using service arco-geo-series...\n",
      "INFO - 2024-07-12T18:37:26Z - Estimated size of the dataset file is 522.357 MB.\n",
      "INFO - 2024-07-12T18:37:26Z - Writing to local storage. Please wait...\n"
     ]
    },
    {
     "data": {
      "application/vnd.jupyter.widget-view+json": {
       "model_id": "7f5a857bca874f289f9e8fc4bb6122dc",
       "version_major": 2,
       "version_minor": 0
      },
      "text/plain": [
       "  0%|          | 0/3722 [00:00<?, ?it/s]"
      ]
     },
     "metadata": {},
     "output_type": "display_data"
    },
    {
     "name": "stderr",
     "output_type": "stream",
     "text": [
      "INFO - 2024-07-12T18:38:27Z - Successfully downloaded to /home/jovyan/shared/data/copernicus/cmems_obs-oc_glo_bgc-plankton_my_l3-multi-4km_P1D/201804.nc\n",
      "INFO - 2024-07-12T18:38:28Z - Dataset version was not specified, the latest one was selected: \"202311\"\n",
      "INFO - 2024-07-12T18:38:28Z - Dataset part was not specified, the first one was selected: \"default\"\n",
      "INFO - 2024-07-12T18:38:31Z - Service was not specified, the default one was selected: \"arco-geo-series\"\n",
      "INFO - 2024-07-12T18:38:34Z - Downloading using service arco-geo-series...\n",
      "INFO - 2024-07-12T18:38:42Z - Estimated size of the dataset file is 539.769 MB.\n",
      "INFO - 2024-07-12T18:38:42Z - Writing to local storage. Please wait...\n"
     ]
    },
    {
     "data": {
      "application/vnd.jupyter.widget-view+json": {
       "model_id": "e63327bf48934731a92af24a4fbedcbf",
       "version_major": 2,
       "version_minor": 0
      },
      "text/plain": [
       "  0%|          | 0/3846 [00:00<?, ?it/s]"
      ]
     },
     "metadata": {},
     "output_type": "display_data"
    },
    {
     "name": "stderr",
     "output_type": "stream",
     "text": [
      "INFO - 2024-07-12T18:39:44Z - Successfully downloaded to /home/jovyan/shared/data/copernicus/cmems_obs-oc_glo_bgc-plankton_my_l3-multi-4km_P1D/201805.nc\n",
      "INFO - 2024-07-12T18:39:45Z - Dataset version was not specified, the latest one was selected: \"202311\"\n",
      "INFO - 2024-07-12T18:39:45Z - Dataset part was not specified, the first one was selected: \"default\"\n",
      "INFO - 2024-07-12T18:39:48Z - Service was not specified, the default one was selected: \"arco-geo-series\"\n",
      "INFO - 2024-07-12T18:39:52Z - Downloading using service arco-geo-series...\n",
      "INFO - 2024-07-12T18:39:58Z - Estimated size of the dataset file is 522.357 MB.\n",
      "INFO - 2024-07-12T18:39:58Z - Writing to local storage. Please wait...\n"
     ]
    },
    {
     "data": {
      "application/vnd.jupyter.widget-view+json": {
       "model_id": "7174039ed47b47e1b1a9265526ad0d72",
       "version_major": 2,
       "version_minor": 0
      },
      "text/plain": [
       "  0%|          | 0/3722 [00:00<?, ?it/s]"
      ]
     },
     "metadata": {},
     "output_type": "display_data"
    },
    {
     "name": "stderr",
     "output_type": "stream",
     "text": [
      "INFO - 2024-07-12T18:40:59Z - Successfully downloaded to /home/jovyan/shared/data/copernicus/cmems_obs-oc_glo_bgc-plankton_my_l3-multi-4km_P1D/201806.nc\n",
      "INFO - 2024-07-12T18:41:01Z - Dataset version was not specified, the latest one was selected: \"202311\"\n",
      "INFO - 2024-07-12T18:41:01Z - Dataset part was not specified, the first one was selected: \"default\"\n",
      "INFO - 2024-07-12T18:41:04Z - Service was not specified, the default one was selected: \"arco-geo-series\"\n",
      "INFO - 2024-07-12T18:41:07Z - Downloading using service arco-geo-series...\n",
      "INFO - 2024-07-12T18:41:14Z - Estimated size of the dataset file is 539.769 MB.\n",
      "INFO - 2024-07-12T18:41:14Z - Writing to local storage. Please wait...\n"
     ]
    },
    {
     "data": {
      "application/vnd.jupyter.widget-view+json": {
       "model_id": "6a1389fc75d446b885f4e292c555445e",
       "version_major": 2,
       "version_minor": 0
      },
      "text/plain": [
       "  0%|          | 0/3846 [00:00<?, ?it/s]"
      ]
     },
     "metadata": {},
     "output_type": "display_data"
    },
    {
     "name": "stderr",
     "output_type": "stream",
     "text": [
      "INFO - 2024-07-12T18:42:17Z - Successfully downloaded to /home/jovyan/shared/data/copernicus/cmems_obs-oc_glo_bgc-plankton_my_l3-multi-4km_P1D/201807.nc\n",
      "INFO - 2024-07-12T18:42:18Z - Dataset version was not specified, the latest one was selected: \"202311\"\n",
      "INFO - 2024-07-12T18:42:18Z - Dataset part was not specified, the first one was selected: \"default\"\n",
      "INFO - 2024-07-12T18:42:21Z - Service was not specified, the default one was selected: \"arco-geo-series\"\n",
      "INFO - 2024-07-12T18:42:25Z - Downloading using service arco-geo-series...\n",
      "INFO - 2024-07-12T18:42:32Z - Estimated size of the dataset file is 539.769 MB.\n",
      "INFO - 2024-07-12T18:42:32Z - Writing to local storage. Please wait...\n"
     ]
    },
    {
     "data": {
      "application/vnd.jupyter.widget-view+json": {
       "model_id": "60c283440435470b86dce43d1a2cc190",
       "version_major": 2,
       "version_minor": 0
      },
      "text/plain": [
       "  0%|          | 0/3846 [00:00<?, ?it/s]"
      ]
     },
     "metadata": {},
     "output_type": "display_data"
    },
    {
     "name": "stderr",
     "output_type": "stream",
     "text": [
      "INFO - 2024-07-12T18:43:34Z - Successfully downloaded to /home/jovyan/shared/data/copernicus/cmems_obs-oc_glo_bgc-plankton_my_l3-multi-4km_P1D/201808.nc\n",
      "INFO - 2024-07-12T18:43:36Z - Dataset version was not specified, the latest one was selected: \"202311\"\n",
      "INFO - 2024-07-12T18:43:36Z - Dataset part was not specified, the first one was selected: \"default\"\n",
      "INFO - 2024-07-12T18:43:39Z - Service was not specified, the default one was selected: \"arco-geo-series\"\n",
      "INFO - 2024-07-12T18:43:42Z - Downloading using service arco-geo-series...\n",
      "INFO - 2024-07-12T18:43:50Z - Estimated size of the dataset file is 522.357 MB.\n",
      "INFO - 2024-07-12T18:43:50Z - Writing to local storage. Please wait...\n"
     ]
    },
    {
     "data": {
      "application/vnd.jupyter.widget-view+json": {
       "model_id": "d25c4817e76e44039b2dbb661569a75a",
       "version_major": 2,
       "version_minor": 0
      },
      "text/plain": [
       "  0%|          | 0/3722 [00:00<?, ?it/s]"
      ]
     },
     "metadata": {},
     "output_type": "display_data"
    },
    {
     "name": "stderr",
     "output_type": "stream",
     "text": [
      "INFO - 2024-07-12T18:44:51Z - Successfully downloaded to /home/jovyan/shared/data/copernicus/cmems_obs-oc_glo_bgc-plankton_my_l3-multi-4km_P1D/201809.nc\n",
      "INFO - 2024-07-12T18:44:52Z - Dataset version was not specified, the latest one was selected: \"202311\"\n",
      "INFO - 2024-07-12T18:44:52Z - Dataset part was not specified, the first one was selected: \"default\"\n",
      "INFO - 2024-07-12T18:44:56Z - Service was not specified, the default one was selected: \"arco-geo-series\"\n",
      "INFO - 2024-07-12T18:44:59Z - Downloading using service arco-geo-series...\n",
      "INFO - 2024-07-12T18:45:06Z - Estimated size of the dataset file is 539.769 MB.\n",
      "INFO - 2024-07-12T18:45:06Z - Writing to local storage. Please wait...\n"
     ]
    },
    {
     "data": {
      "application/vnd.jupyter.widget-view+json": {
       "model_id": "c60ab592aedd436b8ee9c5e7160b192d",
       "version_major": 2,
       "version_minor": 0
      },
      "text/plain": [
       "  0%|          | 0/3846 [00:00<?, ?it/s]"
      ]
     },
     "metadata": {},
     "output_type": "display_data"
    },
    {
     "name": "stderr",
     "output_type": "stream",
     "text": [
      "INFO - 2024-07-12T18:46:09Z - Successfully downloaded to /home/jovyan/shared/data/copernicus/cmems_obs-oc_glo_bgc-plankton_my_l3-multi-4km_P1D/201810.nc\n",
      "INFO - 2024-07-12T18:46:10Z - Dataset version was not specified, the latest one was selected: \"202311\"\n",
      "INFO - 2024-07-12T18:46:10Z - Dataset part was not specified, the first one was selected: \"default\"\n",
      "INFO - 2024-07-12T18:46:14Z - Service was not specified, the default one was selected: \"arco-geo-series\"\n",
      "INFO - 2024-07-12T18:46:18Z - Downloading using service arco-geo-series...\n",
      "INFO - 2024-07-12T18:46:24Z - Estimated size of the dataset file is 522.357 MB.\n",
      "INFO - 2024-07-12T18:46:24Z - Writing to local storage. Please wait...\n"
     ]
    },
    {
     "data": {
      "application/vnd.jupyter.widget-view+json": {
       "model_id": "d8b116f49e8c4b5faa5c0f027485923a",
       "version_major": 2,
       "version_minor": 0
      },
      "text/plain": [
       "  0%|          | 0/3722 [00:00<?, ?it/s]"
      ]
     },
     "metadata": {},
     "output_type": "display_data"
    },
    {
     "name": "stderr",
     "output_type": "stream",
     "text": [
      "INFO - 2024-07-12T18:47:25Z - Successfully downloaded to /home/jovyan/shared/data/copernicus/cmems_obs-oc_glo_bgc-plankton_my_l3-multi-4km_P1D/201811.nc\n",
      "INFO - 2024-07-12T18:47:26Z - Dataset version was not specified, the latest one was selected: \"202311\"\n",
      "INFO - 2024-07-12T18:47:26Z - Dataset part was not specified, the first one was selected: \"default\"\n",
      "INFO - 2024-07-12T18:47:30Z - Service was not specified, the default one was selected: \"arco-geo-series\"\n",
      "INFO - 2024-07-12T18:47:33Z - Downloading using service arco-geo-series...\n",
      "INFO - 2024-07-12T18:47:40Z - Estimated size of the dataset file is 539.769 MB.\n",
      "INFO - 2024-07-12T18:47:40Z - Writing to local storage. Please wait...\n"
     ]
    },
    {
     "data": {
      "application/vnd.jupyter.widget-view+json": {
       "model_id": "c38c9b9f328f43cab8ee521105d475fd",
       "version_major": 2,
       "version_minor": 0
      },
      "text/plain": [
       "  0%|          | 0/3846 [00:00<?, ?it/s]"
      ]
     },
     "metadata": {},
     "output_type": "display_data"
    },
    {
     "name": "stderr",
     "output_type": "stream",
     "text": [
      "INFO - 2024-07-12T18:48:43Z - Successfully downloaded to /home/jovyan/shared/data/copernicus/cmems_obs-oc_glo_bgc-plankton_my_l3-multi-4km_P1D/201812.nc\n",
      "INFO - 2024-07-12T18:48:44Z - Dataset version was not specified, the latest one was selected: \"202311\"\n",
      "INFO - 2024-07-12T18:48:44Z - Dataset part was not specified, the first one was selected: \"default\"\n",
      "INFO - 2024-07-12T18:48:47Z - Service was not specified, the default one was selected: \"arco-geo-series\"\n",
      "INFO - 2024-07-12T18:48:51Z - Downloading using service arco-geo-series...\n",
      "INFO - 2024-07-12T18:48:58Z - Estimated size of the dataset file is 539.769 MB.\n",
      "INFO - 2024-07-12T18:48:58Z - Writing to local storage. Please wait...\n"
     ]
    },
    {
     "data": {
      "application/vnd.jupyter.widget-view+json": {
       "model_id": "d045be46c64942d2ab9f7421817e27c4",
       "version_major": 2,
       "version_minor": 0
      },
      "text/plain": [
       "  0%|          | 0/3846 [00:00<?, ?it/s]"
      ]
     },
     "metadata": {},
     "output_type": "display_data"
    },
    {
     "name": "stderr",
     "output_type": "stream",
     "text": [
      "INFO - 2024-07-12T18:50:01Z - Successfully downloaded to /home/jovyan/shared/data/copernicus/cmems_obs-oc_glo_bgc-plankton_my_l3-multi-4km_P1D/201901.nc\n",
      "INFO - 2024-07-12T18:50:02Z - Dataset version was not specified, the latest one was selected: \"202311\"\n",
      "INFO - 2024-07-12T18:50:02Z - Dataset part was not specified, the first one was selected: \"default\"\n",
      "INFO - 2024-07-12T18:50:05Z - Service was not specified, the default one was selected: \"arco-geo-series\"\n",
      "INFO - 2024-07-12T18:50:08Z - Downloading using service arco-geo-series...\n",
      "INFO - 2024-07-12T18:50:15Z - Estimated size of the dataset file is 487.533 MB.\n",
      "INFO - 2024-07-12T18:50:15Z - Writing to local storage. Please wait...\n"
     ]
    },
    {
     "data": {
      "application/vnd.jupyter.widget-view+json": {
       "model_id": "0b99fa4fffbf4cf6b760eaf4f6728349",
       "version_major": 2,
       "version_minor": 0
      },
      "text/plain": [
       "  0%|          | 0/3474 [00:00<?, ?it/s]"
      ]
     },
     "metadata": {},
     "output_type": "display_data"
    },
    {
     "name": "stderr",
     "output_type": "stream",
     "text": [
      "INFO - 2024-07-12T18:51:13Z - Successfully downloaded to /home/jovyan/shared/data/copernicus/cmems_obs-oc_glo_bgc-plankton_my_l3-multi-4km_P1D/201902.nc\n",
      "INFO - 2024-07-12T18:51:14Z - Dataset version was not specified, the latest one was selected: \"202311\"\n",
      "INFO - 2024-07-12T18:51:14Z - Dataset part was not specified, the first one was selected: \"default\"\n",
      "INFO - 2024-07-12T18:51:18Z - Service was not specified, the default one was selected: \"arco-geo-series\"\n",
      "INFO - 2024-07-12T18:51:21Z - Downloading using service arco-geo-series...\n",
      "INFO - 2024-07-12T18:51:28Z - Estimated size of the dataset file is 539.769 MB.\n",
      "INFO - 2024-07-12T18:51:28Z - Writing to local storage. Please wait...\n"
     ]
    },
    {
     "data": {
      "application/vnd.jupyter.widget-view+json": {
       "model_id": "173029def10e46bea6bbef3f75602682",
       "version_major": 2,
       "version_minor": 0
      },
      "text/plain": [
       "  0%|          | 0/3846 [00:00<?, ?it/s]"
      ]
     },
     "metadata": {},
     "output_type": "display_data"
    },
    {
     "name": "stderr",
     "output_type": "stream",
     "text": [
      "INFO - 2024-07-12T18:52:30Z - Successfully downloaded to /home/jovyan/shared/data/copernicus/cmems_obs-oc_glo_bgc-plankton_my_l3-multi-4km_P1D/201903.nc\n",
      "INFO - 2024-07-12T18:52:31Z - Dataset version was not specified, the latest one was selected: \"202311\"\n",
      "INFO - 2024-07-12T18:52:31Z - Dataset part was not specified, the first one was selected: \"default\"\n",
      "INFO - 2024-07-12T18:52:35Z - Service was not specified, the default one was selected: \"arco-geo-series\"\n",
      "INFO - 2024-07-12T18:52:38Z - Downloading using service arco-geo-series...\n",
      "INFO - 2024-07-12T18:52:45Z - Estimated size of the dataset file is 522.357 MB.\n",
      "INFO - 2024-07-12T18:52:45Z - Writing to local storage. Please wait...\n"
     ]
    },
    {
     "data": {
      "application/vnd.jupyter.widget-view+json": {
       "model_id": "57b6a19813534d0797ab21683e1434a0",
       "version_major": 2,
       "version_minor": 0
      },
      "text/plain": [
       "  0%|          | 0/3722 [00:00<?, ?it/s]"
      ]
     },
     "metadata": {},
     "output_type": "display_data"
    },
    {
     "name": "stderr",
     "output_type": "stream",
     "text": [
      "INFO - 2024-07-12T18:53:46Z - Successfully downloaded to /home/jovyan/shared/data/copernicus/cmems_obs-oc_glo_bgc-plankton_my_l3-multi-4km_P1D/201904.nc\n",
      "INFO - 2024-07-12T18:53:47Z - Dataset version was not specified, the latest one was selected: \"202311\"\n",
      "INFO - 2024-07-12T18:53:47Z - Dataset part was not specified, the first one was selected: \"default\"\n",
      "INFO - 2024-07-12T18:53:51Z - Service was not specified, the default one was selected: \"arco-geo-series\"\n",
      "INFO - 2024-07-12T18:53:54Z - Downloading using service arco-geo-series...\n",
      "INFO - 2024-07-12T18:54:01Z - Estimated size of the dataset file is 539.769 MB.\n",
      "INFO - 2024-07-12T18:54:01Z - Writing to local storage. Please wait...\n"
     ]
    },
    {
     "data": {
      "application/vnd.jupyter.widget-view+json": {
       "model_id": "aadef767f6bd46819c0a26840e117ce8",
       "version_major": 2,
       "version_minor": 0
      },
      "text/plain": [
       "  0%|          | 0/3846 [00:00<?, ?it/s]"
      ]
     },
     "metadata": {},
     "output_type": "display_data"
    },
    {
     "name": "stderr",
     "output_type": "stream",
     "text": [
      "INFO - 2024-07-12T18:55:04Z - Successfully downloaded to /home/jovyan/shared/data/copernicus/cmems_obs-oc_glo_bgc-plankton_my_l3-multi-4km_P1D/201905.nc\n",
      "INFO - 2024-07-12T18:55:05Z - Dataset version was not specified, the latest one was selected: \"202311\"\n",
      "INFO - 2024-07-12T18:55:05Z - Dataset part was not specified, the first one was selected: \"default\"\n",
      "INFO - 2024-07-12T18:55:09Z - Service was not specified, the default one was selected: \"arco-geo-series\"\n",
      "INFO - 2024-07-12T18:55:12Z - Downloading using service arco-geo-series...\n",
      "INFO - 2024-07-12T18:55:19Z - Estimated size of the dataset file is 522.357 MB.\n",
      "INFO - 2024-07-12T18:55:19Z - Writing to local storage. Please wait...\n"
     ]
    },
    {
     "data": {
      "application/vnd.jupyter.widget-view+json": {
       "model_id": "f0ecbc90a66b470fbf12038bc1232409",
       "version_major": 2,
       "version_minor": 0
      },
      "text/plain": [
       "  0%|          | 0/3722 [00:00<?, ?it/s]"
      ]
     },
     "metadata": {},
     "output_type": "display_data"
    },
    {
     "name": "stderr",
     "output_type": "stream",
     "text": [
      "INFO - 2024-07-12T18:56:20Z - Successfully downloaded to /home/jovyan/shared/data/copernicus/cmems_obs-oc_glo_bgc-plankton_my_l3-multi-4km_P1D/201906.nc\n",
      "INFO - 2024-07-12T18:56:22Z - Dataset version was not specified, the latest one was selected: \"202311\"\n",
      "INFO - 2024-07-12T18:56:22Z - Dataset part was not specified, the first one was selected: \"default\"\n",
      "INFO - 2024-07-12T18:56:26Z - Service was not specified, the default one was selected: \"arco-geo-series\"\n",
      "INFO - 2024-07-12T18:56:29Z - Downloading using service arco-geo-series...\n",
      "INFO - 2024-07-12T18:56:36Z - Estimated size of the dataset file is 539.769 MB.\n",
      "INFO - 2024-07-12T18:56:36Z - Writing to local storage. Please wait...\n"
     ]
    },
    {
     "data": {
      "application/vnd.jupyter.widget-view+json": {
       "model_id": "8528b44197d844e09d17d89683f980b5",
       "version_major": 2,
       "version_minor": 0
      },
      "text/plain": [
       "  0%|          | 0/3846 [00:00<?, ?it/s]"
      ]
     },
     "metadata": {},
     "output_type": "display_data"
    },
    {
     "name": "stderr",
     "output_type": "stream",
     "text": [
      "INFO - 2024-07-12T18:57:38Z - Successfully downloaded to /home/jovyan/shared/data/copernicus/cmems_obs-oc_glo_bgc-plankton_my_l3-multi-4km_P1D/201907.nc\n",
      "INFO - 2024-07-12T18:57:39Z - Dataset version was not specified, the latest one was selected: \"202311\"\n",
      "INFO - 2024-07-12T18:57:39Z - Dataset part was not specified, the first one was selected: \"default\"\n",
      "INFO - 2024-07-12T18:57:43Z - Service was not specified, the default one was selected: \"arco-geo-series\"\n",
      "INFO - 2024-07-12T18:57:46Z - Downloading using service arco-geo-series...\n",
      "INFO - 2024-07-12T18:57:53Z - Estimated size of the dataset file is 539.769 MB.\n",
      "INFO - 2024-07-12T18:57:53Z - Writing to local storage. Please wait...\n"
     ]
    },
    {
     "data": {
      "application/vnd.jupyter.widget-view+json": {
       "model_id": "499da858a52347fcbd4b04d70402fdb1",
       "version_major": 2,
       "version_minor": 0
      },
      "text/plain": [
       "  0%|          | 0/3846 [00:00<?, ?it/s]"
      ]
     },
     "metadata": {},
     "output_type": "display_data"
    },
    {
     "name": "stderr",
     "output_type": "stream",
     "text": [
      "INFO - 2024-07-12T18:58:55Z - Successfully downloaded to /home/jovyan/shared/data/copernicus/cmems_obs-oc_glo_bgc-plankton_my_l3-multi-4km_P1D/201908.nc\n",
      "INFO - 2024-07-12T18:58:56Z - Dataset version was not specified, the latest one was selected: \"202311\"\n",
      "INFO - 2024-07-12T18:58:56Z - Dataset part was not specified, the first one was selected: \"default\"\n",
      "INFO - 2024-07-12T18:59:00Z - Service was not specified, the default one was selected: \"arco-geo-series\"\n",
      "INFO - 2024-07-12T18:59:04Z - Downloading using service arco-geo-series...\n",
      "INFO - 2024-07-12T18:59:10Z - Estimated size of the dataset file is 522.357 MB.\n",
      "INFO - 2024-07-12T18:59:10Z - Writing to local storage. Please wait...\n"
     ]
    },
    {
     "data": {
      "application/vnd.jupyter.widget-view+json": {
       "model_id": "4d98b90e8fff42eab00a69f42dd1e338",
       "version_major": 2,
       "version_minor": 0
      },
      "text/plain": [
       "  0%|          | 0/3722 [00:00<?, ?it/s]"
      ]
     },
     "metadata": {},
     "output_type": "display_data"
    },
    {
     "name": "stderr",
     "output_type": "stream",
     "text": [
      "INFO - 2024-07-12T19:00:12Z - Successfully downloaded to /home/jovyan/shared/data/copernicus/cmems_obs-oc_glo_bgc-plankton_my_l3-multi-4km_P1D/201909.nc\n",
      "INFO - 2024-07-12T19:00:13Z - Dataset version was not specified, the latest one was selected: \"202311\"\n",
      "INFO - 2024-07-12T19:00:13Z - Dataset part was not specified, the first one was selected: \"default\"\n",
      "INFO - 2024-07-12T19:00:17Z - Service was not specified, the default one was selected: \"arco-geo-series\"\n",
      "INFO - 2024-07-12T19:00:20Z - Downloading using service arco-geo-series...\n",
      "INFO - 2024-07-12T19:00:27Z - Estimated size of the dataset file is 539.769 MB.\n",
      "INFO - 2024-07-12T19:00:27Z - Writing to local storage. Please wait...\n"
     ]
    },
    {
     "data": {
      "application/vnd.jupyter.widget-view+json": {
       "model_id": "ba386bcec8ec480b94c6b3549285e0f9",
       "version_major": 2,
       "version_minor": 0
      },
      "text/plain": [
       "  0%|          | 0/3846 [00:00<?, ?it/s]"
      ]
     },
     "metadata": {},
     "output_type": "display_data"
    },
    {
     "name": "stderr",
     "output_type": "stream",
     "text": [
      "INFO - 2024-07-12T19:01:29Z - Successfully downloaded to /home/jovyan/shared/data/copernicus/cmems_obs-oc_glo_bgc-plankton_my_l3-multi-4km_P1D/201910.nc\n",
      "INFO - 2024-07-12T19:01:31Z - Dataset version was not specified, the latest one was selected: \"202311\"\n",
      "INFO - 2024-07-12T19:01:31Z - Dataset part was not specified, the first one was selected: \"default\"\n",
      "INFO - 2024-07-12T19:01:34Z - Service was not specified, the default one was selected: \"arco-geo-series\"\n",
      "INFO - 2024-07-12T19:01:38Z - Downloading using service arco-geo-series...\n",
      "INFO - 2024-07-12T19:01:45Z - Estimated size of the dataset file is 522.357 MB.\n",
      "INFO - 2024-07-12T19:01:45Z - Writing to local storage. Please wait...\n"
     ]
    },
    {
     "data": {
      "application/vnd.jupyter.widget-view+json": {
       "model_id": "f4cd7f977c6a45fb93f923c5a1b157f2",
       "version_major": 2,
       "version_minor": 0
      },
      "text/plain": [
       "  0%|          | 0/3722 [00:00<?, ?it/s]"
      ]
     },
     "metadata": {},
     "output_type": "display_data"
    },
    {
     "name": "stderr",
     "output_type": "stream",
     "text": [
      "INFO - 2024-07-12T19:02:45Z - Successfully downloaded to /home/jovyan/shared/data/copernicus/cmems_obs-oc_glo_bgc-plankton_my_l3-multi-4km_P1D/201911.nc\n",
      "INFO - 2024-07-12T19:02:47Z - Dataset version was not specified, the latest one was selected: \"202311\"\n",
      "INFO - 2024-07-12T19:02:47Z - Dataset part was not specified, the first one was selected: \"default\"\n",
      "INFO - 2024-07-12T19:02:50Z - Service was not specified, the default one was selected: \"arco-geo-series\"\n",
      "INFO - 2024-07-12T19:02:54Z - Downloading using service arco-geo-series...\n",
      "INFO - 2024-07-12T19:03:01Z - Estimated size of the dataset file is 539.769 MB.\n",
      "INFO - 2024-07-12T19:03:01Z - Writing to local storage. Please wait...\n"
     ]
    },
    {
     "data": {
      "application/vnd.jupyter.widget-view+json": {
       "model_id": "cc5a29f599054d7480ce5e7583d472e1",
       "version_major": 2,
       "version_minor": 0
      },
      "text/plain": [
       "  0%|          | 0/3846 [00:00<?, ?it/s]"
      ]
     },
     "metadata": {},
     "output_type": "display_data"
    },
    {
     "name": "stderr",
     "output_type": "stream",
     "text": [
      "INFO - 2024-07-12T19:04:04Z - Successfully downloaded to /home/jovyan/shared/data/copernicus/cmems_obs-oc_glo_bgc-plankton_my_l3-multi-4km_P1D/201912.nc\n",
      "INFO - 2024-07-12T19:04:05Z - Dataset version was not specified, the latest one was selected: \"202311\"\n",
      "INFO - 2024-07-12T19:04:05Z - Dataset part was not specified, the first one was selected: \"default\"\n",
      "INFO - 2024-07-12T19:04:08Z - Service was not specified, the default one was selected: \"arco-geo-series\"\n",
      "INFO - 2024-07-12T19:04:11Z - Downloading using service arco-geo-series...\n",
      "INFO - 2024-07-12T19:04:19Z - Estimated size of the dataset file is 539.769 MB.\n",
      "INFO - 2024-07-12T19:04:19Z - Writing to local storage. Please wait...\n"
     ]
    },
    {
     "data": {
      "application/vnd.jupyter.widget-view+json": {
       "model_id": "e8026fc879534a2b820c202a67343457",
       "version_major": 2,
       "version_minor": 0
      },
      "text/plain": [
       "  0%|          | 0/3846 [00:00<?, ?it/s]"
      ]
     },
     "metadata": {},
     "output_type": "display_data"
    },
    {
     "name": "stderr",
     "output_type": "stream",
     "text": [
      "INFO - 2024-07-12T19:05:23Z - Successfully downloaded to /home/jovyan/shared/data/copernicus/cmems_obs-oc_glo_bgc-plankton_my_l3-multi-4km_P1D/202001.nc\n",
      "INFO - 2024-07-12T19:05:24Z - Dataset version was not specified, the latest one was selected: \"202311\"\n",
      "INFO - 2024-07-12T19:05:24Z - Dataset part was not specified, the first one was selected: \"default\"\n",
      "INFO - 2024-07-12T19:05:27Z - Service was not specified, the default one was selected: \"arco-geo-series\"\n",
      "INFO - 2024-07-12T19:05:30Z - Downloading using service arco-geo-series...\n",
      "INFO - 2024-07-12T19:05:37Z - Estimated size of the dataset file is 504.945 MB.\n",
      "INFO - 2024-07-12T19:05:37Z - Writing to local storage. Please wait...\n"
     ]
    },
    {
     "data": {
      "application/vnd.jupyter.widget-view+json": {
       "model_id": "c63ab6210df6499eb105093cd6c880a1",
       "version_major": 2,
       "version_minor": 0
      },
      "text/plain": [
       "  0%|          | 0/3598 [00:00<?, ?it/s]"
      ]
     },
     "metadata": {},
     "output_type": "display_data"
    },
    {
     "name": "stderr",
     "output_type": "stream",
     "text": [
      "INFO - 2024-07-12T19:06:37Z - Successfully downloaded to /home/jovyan/shared/data/copernicus/cmems_obs-oc_glo_bgc-plankton_my_l3-multi-4km_P1D/202002.nc\n",
      "INFO - 2024-07-12T19:06:38Z - Dataset version was not specified, the latest one was selected: \"202311\"\n",
      "INFO - 2024-07-12T19:06:38Z - Dataset part was not specified, the first one was selected: \"default\"\n",
      "INFO - 2024-07-12T19:06:41Z - Service was not specified, the default one was selected: \"arco-geo-series\"\n",
      "INFO - 2024-07-12T19:06:45Z - Downloading using service arco-geo-series...\n",
      "INFO - 2024-07-12T19:06:51Z - Estimated size of the dataset file is 539.769 MB.\n",
      "INFO - 2024-07-12T19:06:51Z - Writing to local storage. Please wait...\n"
     ]
    },
    {
     "data": {
      "application/vnd.jupyter.widget-view+json": {
       "model_id": "4b6fc384203240f380ade0597a393c70",
       "version_major": 2,
       "version_minor": 0
      },
      "text/plain": [
       "  0%|          | 0/3846 [00:00<?, ?it/s]"
      ]
     },
     "metadata": {},
     "output_type": "display_data"
    },
    {
     "name": "stderr",
     "output_type": "stream",
     "text": [
      "INFO - 2024-07-12T19:07:55Z - Successfully downloaded to /home/jovyan/shared/data/copernicus/cmems_obs-oc_glo_bgc-plankton_my_l3-multi-4km_P1D/202003.nc\n",
      "INFO - 2024-07-12T19:07:56Z - Dataset version was not specified, the latest one was selected: \"202311\"\n",
      "INFO - 2024-07-12T19:07:56Z - Dataset part was not specified, the first one was selected: \"default\"\n",
      "INFO - 2024-07-12T19:08:00Z - Service was not specified, the default one was selected: \"arco-geo-series\"\n",
      "INFO - 2024-07-12T19:08:03Z - Downloading using service arco-geo-series...\n",
      "INFO - 2024-07-12T19:08:10Z - Estimated size of the dataset file is 522.357 MB.\n",
      "INFO - 2024-07-12T19:08:10Z - Writing to local storage. Please wait...\n"
     ]
    },
    {
     "data": {
      "application/vnd.jupyter.widget-view+json": {
       "model_id": "7eadbd67ad3d4d22875096b0af83c1a6",
       "version_major": 2,
       "version_minor": 0
      },
      "text/plain": [
       "  0%|          | 0/3722 [00:00<?, ?it/s]"
      ]
     },
     "metadata": {},
     "output_type": "display_data"
    },
    {
     "name": "stderr",
     "output_type": "stream",
     "text": [
      "INFO - 2024-07-12T19:09:11Z - Successfully downloaded to /home/jovyan/shared/data/copernicus/cmems_obs-oc_glo_bgc-plankton_my_l3-multi-4km_P1D/202004.nc\n",
      "INFO - 2024-07-12T19:09:12Z - Dataset version was not specified, the latest one was selected: \"202311\"\n",
      "INFO - 2024-07-12T19:09:12Z - Dataset part was not specified, the first one was selected: \"default\"\n",
      "INFO - 2024-07-12T19:09:16Z - Service was not specified, the default one was selected: \"arco-geo-series\"\n",
      "INFO - 2024-07-12T19:09:19Z - Downloading using service arco-geo-series...\n",
      "INFO - 2024-07-12T19:09:26Z - Estimated size of the dataset file is 539.769 MB.\n",
      "INFO - 2024-07-12T19:09:26Z - Writing to local storage. Please wait...\n"
     ]
    },
    {
     "data": {
      "application/vnd.jupyter.widget-view+json": {
       "model_id": "7cf0ecfa442f4c47a2d627783901c95b",
       "version_major": 2,
       "version_minor": 0
      },
      "text/plain": [
       "  0%|          | 0/3846 [00:00<?, ?it/s]"
      ]
     },
     "metadata": {},
     "output_type": "display_data"
    },
    {
     "name": "stderr",
     "output_type": "stream",
     "text": [
      "INFO - 2024-07-12T19:10:30Z - Successfully downloaded to /home/jovyan/shared/data/copernicus/cmems_obs-oc_glo_bgc-plankton_my_l3-multi-4km_P1D/202005.nc\n",
      "INFO - 2024-07-12T19:10:31Z - Dataset version was not specified, the latest one was selected: \"202311\"\n",
      "INFO - 2024-07-12T19:10:31Z - Dataset part was not specified, the first one was selected: \"default\"\n",
      "INFO - 2024-07-12T19:10:34Z - Service was not specified, the default one was selected: \"arco-geo-series\"\n",
      "INFO - 2024-07-12T19:10:38Z - Downloading using service arco-geo-series...\n",
      "INFO - 2024-07-12T19:10:44Z - Estimated size of the dataset file is 522.357 MB.\n",
      "INFO - 2024-07-12T19:10:44Z - Writing to local storage. Please wait...\n"
     ]
    },
    {
     "data": {
      "application/vnd.jupyter.widget-view+json": {
       "model_id": "e0f0c23278734b1c9805433d8f5a44d6",
       "version_major": 2,
       "version_minor": 0
      },
      "text/plain": [
       "  0%|          | 0/3722 [00:00<?, ?it/s]"
      ]
     },
     "metadata": {},
     "output_type": "display_data"
    },
    {
     "name": "stderr",
     "output_type": "stream",
     "text": [
      "INFO - 2024-07-12T19:11:45Z - Successfully downloaded to /home/jovyan/shared/data/copernicus/cmems_obs-oc_glo_bgc-plankton_my_l3-multi-4km_P1D/202006.nc\n",
      "INFO - 2024-07-12T19:11:46Z - Dataset version was not specified, the latest one was selected: \"202311\"\n",
      "INFO - 2024-07-12T19:11:46Z - Dataset part was not specified, the first one was selected: \"default\"\n",
      "INFO - 2024-07-12T19:11:50Z - Service was not specified, the default one was selected: \"arco-geo-series\"\n",
      "INFO - 2024-07-12T19:11:53Z - Downloading using service arco-geo-series...\n",
      "INFO - 2024-07-12T19:12:00Z - Estimated size of the dataset file is 539.769 MB.\n",
      "INFO - 2024-07-12T19:12:00Z - Writing to local storage. Please wait...\n"
     ]
    },
    {
     "data": {
      "application/vnd.jupyter.widget-view+json": {
       "model_id": "c429c2f8067e4757a97ee9c5debf8e92",
       "version_major": 2,
       "version_minor": 0
      },
      "text/plain": [
       "  0%|          | 0/3846 [00:00<?, ?it/s]"
      ]
     },
     "metadata": {},
     "output_type": "display_data"
    },
    {
     "name": "stderr",
     "output_type": "stream",
     "text": [
      "INFO - 2024-07-12T19:13:02Z - Successfully downloaded to /home/jovyan/shared/data/copernicus/cmems_obs-oc_glo_bgc-plankton_my_l3-multi-4km_P1D/202007.nc\n",
      "INFO - 2024-07-12T19:13:03Z - Dataset version was not specified, the latest one was selected: \"202311\"\n",
      "INFO - 2024-07-12T19:13:03Z - Dataset part was not specified, the first one was selected: \"default\"\n",
      "INFO - 2024-07-12T19:13:07Z - Service was not specified, the default one was selected: \"arco-geo-series\"\n",
      "INFO - 2024-07-12T19:13:10Z - Downloading using service arco-geo-series...\n",
      "INFO - 2024-07-12T19:13:18Z - Estimated size of the dataset file is 539.769 MB.\n",
      "INFO - 2024-07-12T19:13:18Z - Writing to local storage. Please wait...\n"
     ]
    },
    {
     "data": {
      "application/vnd.jupyter.widget-view+json": {
       "model_id": "a07b74a0acbe47d8995fef326292e7d5",
       "version_major": 2,
       "version_minor": 0
      },
      "text/plain": [
       "  0%|          | 0/3846 [00:00<?, ?it/s]"
      ]
     },
     "metadata": {},
     "output_type": "display_data"
    },
    {
     "name": "stderr",
     "output_type": "stream",
     "text": [
      "INFO - 2024-07-12T19:14:20Z - Successfully downloaded to /home/jovyan/shared/data/copernicus/cmems_obs-oc_glo_bgc-plankton_my_l3-multi-4km_P1D/202008.nc\n",
      "INFO - 2024-07-12T19:14:21Z - Dataset version was not specified, the latest one was selected: \"202311\"\n",
      "INFO - 2024-07-12T19:14:21Z - Dataset part was not specified, the first one was selected: \"default\"\n",
      "INFO - 2024-07-12T19:14:24Z - Service was not specified, the default one was selected: \"arco-geo-series\"\n",
      "INFO - 2024-07-12T19:14:27Z - Downloading using service arco-geo-series...\n",
      "INFO - 2024-07-12T19:14:34Z - Estimated size of the dataset file is 522.357 MB.\n",
      "INFO - 2024-07-12T19:14:34Z - Writing to local storage. Please wait...\n"
     ]
    },
    {
     "data": {
      "application/vnd.jupyter.widget-view+json": {
       "model_id": "4849dee4b6ce47e4a8d2881bf3bd6a7a",
       "version_major": 2,
       "version_minor": 0
      },
      "text/plain": [
       "  0%|          | 0/3722 [00:00<?, ?it/s]"
      ]
     },
     "metadata": {},
     "output_type": "display_data"
    },
    {
     "name": "stderr",
     "output_type": "stream",
     "text": [
      "INFO - 2024-07-12T19:15:36Z - Successfully downloaded to /home/jovyan/shared/data/copernicus/cmems_obs-oc_glo_bgc-plankton_my_l3-multi-4km_P1D/202009.nc\n",
      "INFO - 2024-07-12T19:15:37Z - Dataset version was not specified, the latest one was selected: \"202311\"\n",
      "INFO - 2024-07-12T19:15:37Z - Dataset part was not specified, the first one was selected: \"default\"\n",
      "INFO - 2024-07-12T19:15:40Z - Service was not specified, the default one was selected: \"arco-geo-series\"\n",
      "INFO - 2024-07-12T19:15:43Z - Downloading using service arco-geo-series...\n",
      "INFO - 2024-07-12T19:15:50Z - Estimated size of the dataset file is 539.769 MB.\n",
      "INFO - 2024-07-12T19:15:50Z - Writing to local storage. Please wait...\n"
     ]
    },
    {
     "data": {
      "application/vnd.jupyter.widget-view+json": {
       "model_id": "0a186ef1e8234606bdba9aab8448d1e7",
       "version_major": 2,
       "version_minor": 0
      },
      "text/plain": [
       "  0%|          | 0/3846 [00:00<?, ?it/s]"
      ]
     },
     "metadata": {},
     "output_type": "display_data"
    },
    {
     "name": "stderr",
     "output_type": "stream",
     "text": [
      "INFO - 2024-07-12T19:16:53Z - Successfully downloaded to /home/jovyan/shared/data/copernicus/cmems_obs-oc_glo_bgc-plankton_my_l3-multi-4km_P1D/202010.nc\n",
      "INFO - 2024-07-12T19:16:54Z - Dataset version was not specified, the latest one was selected: \"202311\"\n",
      "INFO - 2024-07-12T19:16:54Z - Dataset part was not specified, the first one was selected: \"default\"\n",
      "INFO - 2024-07-12T19:16:58Z - Service was not specified, the default one was selected: \"arco-geo-series\"\n",
      "INFO - 2024-07-12T19:17:01Z - Downloading using service arco-geo-series...\n",
      "INFO - 2024-07-12T19:17:08Z - Estimated size of the dataset file is 522.357 MB.\n",
      "INFO - 2024-07-12T19:17:08Z - Writing to local storage. Please wait...\n"
     ]
    },
    {
     "data": {
      "application/vnd.jupyter.widget-view+json": {
       "model_id": "c94b96ace2a145faa6f1611ffd35dcfe",
       "version_major": 2,
       "version_minor": 0
      },
      "text/plain": [
       "  0%|          | 0/3722 [00:00<?, ?it/s]"
      ]
     },
     "metadata": {},
     "output_type": "display_data"
    },
    {
     "name": "stderr",
     "output_type": "stream",
     "text": [
      "INFO - 2024-07-12T19:18:09Z - Successfully downloaded to /home/jovyan/shared/data/copernicus/cmems_obs-oc_glo_bgc-plankton_my_l3-multi-4km_P1D/202011.nc\n",
      "INFO - 2024-07-12T19:18:11Z - Dataset version was not specified, the latest one was selected: \"202311\"\n",
      "INFO - 2024-07-12T19:18:11Z - Dataset part was not specified, the first one was selected: \"default\"\n",
      "INFO - 2024-07-12T19:18:14Z - Service was not specified, the default one was selected: \"arco-geo-series\"\n",
      "INFO - 2024-07-12T19:18:18Z - Downloading using service arco-geo-series...\n",
      "INFO - 2024-07-12T19:18:25Z - Estimated size of the dataset file is 539.769 MB.\n",
      "INFO - 2024-07-12T19:18:25Z - Writing to local storage. Please wait...\n"
     ]
    },
    {
     "data": {
      "application/vnd.jupyter.widget-view+json": {
       "model_id": "684e15cd1358419bb5dd5ec3b85fc78b",
       "version_major": 2,
       "version_minor": 0
      },
      "text/plain": [
       "  0%|          | 0/3846 [00:00<?, ?it/s]"
      ]
     },
     "metadata": {},
     "output_type": "display_data"
    },
    {
     "name": "stderr",
     "output_type": "stream",
     "text": [
      "INFO - 2024-07-12T19:19:27Z - Successfully downloaded to /home/jovyan/shared/data/copernicus/cmems_obs-oc_glo_bgc-plankton_my_l3-multi-4km_P1D/202012.nc\n",
      "INFO - 2024-07-12T19:19:29Z - Dataset version was not specified, the latest one was selected: \"202311\"\n",
      "INFO - 2024-07-12T19:19:29Z - Dataset part was not specified, the first one was selected: \"default\"\n",
      "INFO - 2024-07-12T19:19:32Z - Service was not specified, the default one was selected: \"arco-geo-series\"\n",
      "INFO - 2024-07-12T19:19:36Z - Downloading using service arco-geo-series...\n",
      "INFO - 2024-07-12T19:19:43Z - Estimated size of the dataset file is 539.769 MB.\n",
      "INFO - 2024-07-12T19:19:43Z - Writing to local storage. Please wait...\n"
     ]
    },
    {
     "data": {
      "application/vnd.jupyter.widget-view+json": {
       "model_id": "ee94d52ba5184695b1af22aa1ca20577",
       "version_major": 2,
       "version_minor": 0
      },
      "text/plain": [
       "  0%|          | 0/3846 [00:00<?, ?it/s]"
      ]
     },
     "metadata": {},
     "output_type": "display_data"
    },
    {
     "name": "stderr",
     "output_type": "stream",
     "text": [
      "INFO - 2024-07-12T19:20:46Z - Successfully downloaded to /home/jovyan/shared/data/copernicus/cmems_obs-oc_glo_bgc-plankton_my_l3-multi-4km_P1D/202101.nc\n",
      "INFO - 2024-07-12T19:20:47Z - Dataset version was not specified, the latest one was selected: \"202311\"\n",
      "INFO - 2024-07-12T19:20:47Z - Dataset part was not specified, the first one was selected: \"default\"\n",
      "INFO - 2024-07-12T19:20:51Z - Service was not specified, the default one was selected: \"arco-geo-series\"\n",
      "INFO - 2024-07-12T19:20:54Z - Downloading using service arco-geo-series...\n",
      "INFO - 2024-07-12T19:21:01Z - Estimated size of the dataset file is 487.533 MB.\n",
      "INFO - 2024-07-12T19:21:01Z - Writing to local storage. Please wait...\n"
     ]
    },
    {
     "data": {
      "application/vnd.jupyter.widget-view+json": {
       "model_id": "85c1a336e7c047d6bf325afc32b24cd7",
       "version_major": 2,
       "version_minor": 0
      },
      "text/plain": [
       "  0%|          | 0/3474 [00:00<?, ?it/s]"
      ]
     },
     "metadata": {},
     "output_type": "display_data"
    },
    {
     "name": "stderr",
     "output_type": "stream",
     "text": [
      "INFO - 2024-07-12T19:21:58Z - Successfully downloaded to /home/jovyan/shared/data/copernicus/cmems_obs-oc_glo_bgc-plankton_my_l3-multi-4km_P1D/202102.nc\n",
      "INFO - 2024-07-12T19:22:00Z - Dataset version was not specified, the latest one was selected: \"202311\"\n",
      "INFO - 2024-07-12T19:22:00Z - Dataset part was not specified, the first one was selected: \"default\"\n",
      "INFO - 2024-07-12T19:22:03Z - Service was not specified, the default one was selected: \"arco-geo-series\"\n",
      "INFO - 2024-07-12T19:22:07Z - Downloading using service arco-geo-series...\n",
      "INFO - 2024-07-12T19:22:14Z - Estimated size of the dataset file is 539.769 MB.\n",
      "INFO - 2024-07-12T19:22:14Z - Writing to local storage. Please wait...\n"
     ]
    },
    {
     "data": {
      "application/vnd.jupyter.widget-view+json": {
       "model_id": "2f9d0a07b4954317b15307e0950034c1",
       "version_major": 2,
       "version_minor": 0
      },
      "text/plain": [
       "  0%|          | 0/3846 [00:00<?, ?it/s]"
      ]
     },
     "metadata": {},
     "output_type": "display_data"
    },
    {
     "name": "stderr",
     "output_type": "stream",
     "text": [
      "INFO - 2024-07-12T19:23:16Z - Successfully downloaded to /home/jovyan/shared/data/copernicus/cmems_obs-oc_glo_bgc-plankton_my_l3-multi-4km_P1D/202103.nc\n",
      "INFO - 2024-07-12T19:23:17Z - Dataset version was not specified, the latest one was selected: \"202311\"\n",
      "INFO - 2024-07-12T19:23:17Z - Dataset part was not specified, the first one was selected: \"default\"\n",
      "INFO - 2024-07-12T19:23:22Z - Service was not specified, the default one was selected: \"arco-geo-series\"\n",
      "INFO - 2024-07-12T19:23:25Z - Downloading using service arco-geo-series...\n",
      "INFO - 2024-07-12T19:23:32Z - Estimated size of the dataset file is 522.357 MB.\n",
      "INFO - 2024-07-12T19:23:32Z - Writing to local storage. Please wait...\n"
     ]
    },
    {
     "data": {
      "application/vnd.jupyter.widget-view+json": {
       "model_id": "bac6ab8d374544bdb8e1ac300ece395f",
       "version_major": 2,
       "version_minor": 0
      },
      "text/plain": [
       "  0%|          | 0/3722 [00:00<?, ?it/s]"
      ]
     },
     "metadata": {},
     "output_type": "display_data"
    },
    {
     "name": "stderr",
     "output_type": "stream",
     "text": [
      "INFO - 2024-07-12T19:24:33Z - Successfully downloaded to /home/jovyan/shared/data/copernicus/cmems_obs-oc_glo_bgc-plankton_my_l3-multi-4km_P1D/202104.nc\n",
      "INFO - 2024-07-12T19:24:34Z - Dataset version was not specified, the latest one was selected: \"202311\"\n",
      "INFO - 2024-07-12T19:24:34Z - Dataset part was not specified, the first one was selected: \"default\"\n",
      "INFO - 2024-07-12T19:24:37Z - Service was not specified, the default one was selected: \"arco-geo-series\"\n",
      "INFO - 2024-07-12T19:24:41Z - Downloading using service arco-geo-series...\n",
      "INFO - 2024-07-12T19:24:48Z - Estimated size of the dataset file is 539.769 MB.\n",
      "INFO - 2024-07-12T19:24:48Z - Writing to local storage. Please wait...\n"
     ]
    },
    {
     "data": {
      "application/vnd.jupyter.widget-view+json": {
       "model_id": "1ae29bcaa4a448709451ff0bc9925ca7",
       "version_major": 2,
       "version_minor": 0
      },
      "text/plain": [
       "  0%|          | 0/3846 [00:00<?, ?it/s]"
      ]
     },
     "metadata": {},
     "output_type": "display_data"
    },
    {
     "name": "stderr",
     "output_type": "stream",
     "text": [
      "INFO - 2024-07-12T19:25:51Z - Successfully downloaded to /home/jovyan/shared/data/copernicus/cmems_obs-oc_glo_bgc-plankton_my_l3-multi-4km_P1D/202105.nc\n",
      "INFO - 2024-07-12T19:25:52Z - Dataset version was not specified, the latest one was selected: \"202311\"\n",
      "INFO - 2024-07-12T19:25:52Z - Dataset part was not specified, the first one was selected: \"default\"\n",
      "INFO - 2024-07-12T19:25:56Z - Service was not specified, the default one was selected: \"arco-geo-series\"\n",
      "INFO - 2024-07-12T19:25:59Z - Downloading using service arco-geo-series...\n",
      "INFO - 2024-07-12T19:26:05Z - Estimated size of the dataset file is 522.357 MB.\n",
      "INFO - 2024-07-12T19:26:05Z - Writing to local storage. Please wait...\n"
     ]
    },
    {
     "data": {
      "application/vnd.jupyter.widget-view+json": {
       "model_id": "dcc14740580d4b37ba54556bb150e4eb",
       "version_major": 2,
       "version_minor": 0
      },
      "text/plain": [
       "  0%|          | 0/3722 [00:00<?, ?it/s]"
      ]
     },
     "metadata": {},
     "output_type": "display_data"
    },
    {
     "name": "stderr",
     "output_type": "stream",
     "text": [
      "INFO - 2024-07-12T19:27:07Z - Successfully downloaded to /home/jovyan/shared/data/copernicus/cmems_obs-oc_glo_bgc-plankton_my_l3-multi-4km_P1D/202106.nc\n",
      "INFO - 2024-07-12T19:27:08Z - Dataset version was not specified, the latest one was selected: \"202311\"\n",
      "INFO - 2024-07-12T19:27:08Z - Dataset part was not specified, the first one was selected: \"default\"\n",
      "INFO - 2024-07-12T19:27:12Z - Service was not specified, the default one was selected: \"arco-geo-series\"\n",
      "INFO - 2024-07-12T19:27:15Z - Downloading using service arco-geo-series...\n",
      "INFO - 2024-07-12T19:27:22Z - Estimated size of the dataset file is 539.769 MB.\n",
      "INFO - 2024-07-12T19:27:22Z - Writing to local storage. Please wait...\n"
     ]
    },
    {
     "data": {
      "application/vnd.jupyter.widget-view+json": {
       "model_id": "0e5b160ec8f14974af1c8c9001d337bb",
       "version_major": 2,
       "version_minor": 0
      },
      "text/plain": [
       "  0%|          | 0/3846 [00:00<?, ?it/s]"
      ]
     },
     "metadata": {},
     "output_type": "display_data"
    },
    {
     "name": "stderr",
     "output_type": "stream",
     "text": [
      "INFO - 2024-07-12T19:28:24Z - Successfully downloaded to /home/jovyan/shared/data/copernicus/cmems_obs-oc_glo_bgc-plankton_my_l3-multi-4km_P1D/202107.nc\n",
      "INFO - 2024-07-12T19:28:25Z - Dataset version was not specified, the latest one was selected: \"202311\"\n",
      "INFO - 2024-07-12T19:28:25Z - Dataset part was not specified, the first one was selected: \"default\"\n",
      "INFO - 2024-07-12T19:28:29Z - Service was not specified, the default one was selected: \"arco-geo-series\"\n",
      "INFO - 2024-07-12T19:28:32Z - Downloading using service arco-geo-series...\n",
      "INFO - 2024-07-12T19:28:40Z - Estimated size of the dataset file is 539.769 MB.\n",
      "INFO - 2024-07-12T19:28:40Z - Writing to local storage. Please wait...\n"
     ]
    },
    {
     "data": {
      "application/vnd.jupyter.widget-view+json": {
       "model_id": "7ca696b00ae84f0c98cca5f389730d32",
       "version_major": 2,
       "version_minor": 0
      },
      "text/plain": [
       "  0%|          | 0/3846 [00:00<?, ?it/s]"
      ]
     },
     "metadata": {},
     "output_type": "display_data"
    },
    {
     "name": "stderr",
     "output_type": "stream",
     "text": [
      "INFO - 2024-07-12T19:29:43Z - Successfully downloaded to /home/jovyan/shared/data/copernicus/cmems_obs-oc_glo_bgc-plankton_my_l3-multi-4km_P1D/202108.nc\n",
      "INFO - 2024-07-12T19:29:44Z - Dataset version was not specified, the latest one was selected: \"202311\"\n",
      "INFO - 2024-07-12T19:29:44Z - Dataset part was not specified, the first one was selected: \"default\"\n",
      "INFO - 2024-07-12T19:29:48Z - Service was not specified, the default one was selected: \"arco-geo-series\"\n",
      "INFO - 2024-07-12T19:29:51Z - Downloading using service arco-geo-series...\n",
      "INFO - 2024-07-12T19:29:58Z - Estimated size of the dataset file is 522.357 MB.\n",
      "INFO - 2024-07-12T19:29:58Z - Writing to local storage. Please wait...\n"
     ]
    },
    {
     "data": {
      "application/vnd.jupyter.widget-view+json": {
       "model_id": "9f31668fcbd544a69d0972668ca31875",
       "version_major": 2,
       "version_minor": 0
      },
      "text/plain": [
       "  0%|          | 0/3722 [00:00<?, ?it/s]"
      ]
     },
     "metadata": {},
     "output_type": "display_data"
    },
    {
     "name": "stderr",
     "output_type": "stream",
     "text": [
      "INFO - 2024-07-12T19:31:00Z - Successfully downloaded to /home/jovyan/shared/data/copernicus/cmems_obs-oc_glo_bgc-plankton_my_l3-multi-4km_P1D/202109.nc\n",
      "INFO - 2024-07-12T19:31:01Z - Dataset version was not specified, the latest one was selected: \"202311\"\n",
      "INFO - 2024-07-12T19:31:01Z - Dataset part was not specified, the first one was selected: \"default\"\n",
      "INFO - 2024-07-12T19:31:04Z - Service was not specified, the default one was selected: \"arco-geo-series\"\n",
      "INFO - 2024-07-12T19:31:07Z - Downloading using service arco-geo-series...\n",
      "INFO - 2024-07-12T19:31:14Z - Estimated size of the dataset file is 539.769 MB.\n",
      "INFO - 2024-07-12T19:31:14Z - Writing to local storage. Please wait...\n"
     ]
    },
    {
     "data": {
      "application/vnd.jupyter.widget-view+json": {
       "model_id": "c2158132754449a8b2ca0311ff00394e",
       "version_major": 2,
       "version_minor": 0
      },
      "text/plain": [
       "  0%|          | 0/3846 [00:00<?, ?it/s]"
      ]
     },
     "metadata": {},
     "output_type": "display_data"
    },
    {
     "name": "stderr",
     "output_type": "stream",
     "text": [
      "INFO - 2024-07-12T19:32:17Z - Successfully downloaded to /home/jovyan/shared/data/copernicus/cmems_obs-oc_glo_bgc-plankton_my_l3-multi-4km_P1D/202110.nc\n",
      "INFO - 2024-07-12T19:32:18Z - Dataset version was not specified, the latest one was selected: \"202311\"\n",
      "INFO - 2024-07-12T19:32:18Z - Dataset part was not specified, the first one was selected: \"default\"\n",
      "INFO - 2024-07-12T19:32:22Z - Service was not specified, the default one was selected: \"arco-geo-series\"\n",
      "INFO - 2024-07-12T19:32:25Z - Downloading using service arco-geo-series...\n",
      "INFO - 2024-07-12T19:32:32Z - Estimated size of the dataset file is 522.357 MB.\n",
      "INFO - 2024-07-12T19:32:32Z - Writing to local storage. Please wait...\n"
     ]
    },
    {
     "data": {
      "application/vnd.jupyter.widget-view+json": {
       "model_id": "3692f90afcbd466aa8aa6c35126d4b5d",
       "version_major": 2,
       "version_minor": 0
      },
      "text/plain": [
       "  0%|          | 0/3722 [00:00<?, ?it/s]"
      ]
     },
     "metadata": {},
     "output_type": "display_data"
    },
    {
     "name": "stderr",
     "output_type": "stream",
     "text": [
      "INFO - 2024-07-12T19:33:33Z - Successfully downloaded to /home/jovyan/shared/data/copernicus/cmems_obs-oc_glo_bgc-plankton_my_l3-multi-4km_P1D/202111.nc\n",
      "INFO - 2024-07-12T19:33:34Z - Dataset version was not specified, the latest one was selected: \"202311\"\n",
      "INFO - 2024-07-12T19:33:34Z - Dataset part was not specified, the first one was selected: \"default\"\n",
      "INFO - 2024-07-12T19:33:38Z - Service was not specified, the default one was selected: \"arco-geo-series\"\n",
      "INFO - 2024-07-12T19:33:41Z - Downloading using service arco-geo-series...\n",
      "INFO - 2024-07-12T19:33:48Z - Estimated size of the dataset file is 539.769 MB.\n",
      "INFO - 2024-07-12T19:33:48Z - Writing to local storage. Please wait...\n"
     ]
    },
    {
     "data": {
      "application/vnd.jupyter.widget-view+json": {
       "model_id": "9f33133ab0b54c42b1d492454ebd028b",
       "version_major": 2,
       "version_minor": 0
      },
      "text/plain": [
       "  0%|          | 0/3846 [00:00<?, ?it/s]"
      ]
     },
     "metadata": {},
     "output_type": "display_data"
    },
    {
     "name": "stderr",
     "output_type": "stream",
     "text": [
      "INFO - 2024-07-12T19:34:51Z - Successfully downloaded to /home/jovyan/shared/data/copernicus/cmems_obs-oc_glo_bgc-plankton_my_l3-multi-4km_P1D/202112.nc\n",
      "INFO - 2024-07-12T19:34:52Z - Dataset version was not specified, the latest one was selected: \"202311\"\n",
      "INFO - 2024-07-12T19:34:52Z - Dataset part was not specified, the first one was selected: \"default\"\n",
      "INFO - 2024-07-12T19:34:56Z - Service was not specified, the default one was selected: \"arco-geo-series\"\n",
      "INFO - 2024-07-12T19:35:00Z - Downloading using service arco-geo-series...\n",
      "INFO - 2024-07-12T19:35:07Z - Estimated size of the dataset file is 539.769 MB.\n",
      "INFO - 2024-07-12T19:35:07Z - Writing to local storage. Please wait...\n"
     ]
    },
    {
     "data": {
      "application/vnd.jupyter.widget-view+json": {
       "model_id": "99612683ae8e4c11b88813edf6976819",
       "version_major": 2,
       "version_minor": 0
      },
      "text/plain": [
       "  0%|          | 0/3846 [00:00<?, ?it/s]"
      ]
     },
     "metadata": {},
     "output_type": "display_data"
    },
    {
     "name": "stderr",
     "output_type": "stream",
     "text": [
      "INFO - 2024-07-12T19:36:09Z - Successfully downloaded to /home/jovyan/shared/data/copernicus/cmems_obs-oc_glo_bgc-plankton_my_l3-multi-4km_P1D/202201.nc\n",
      "INFO - 2024-07-12T19:36:10Z - Dataset version was not specified, the latest one was selected: \"202311\"\n",
      "INFO - 2024-07-12T19:36:10Z - Dataset part was not specified, the first one was selected: \"default\"\n",
      "INFO - 2024-07-12T19:36:14Z - Service was not specified, the default one was selected: \"arco-geo-series\"\n",
      "INFO - 2024-07-12T19:36:17Z - Downloading using service arco-geo-series...\n",
      "INFO - 2024-07-12T19:36:24Z - Estimated size of the dataset file is 487.533 MB.\n",
      "INFO - 2024-07-12T19:36:24Z - Writing to local storage. Please wait...\n"
     ]
    },
    {
     "data": {
      "application/vnd.jupyter.widget-view+json": {
       "model_id": "1056dd45ee0e4b5d99a17e04f863c4c2",
       "version_major": 2,
       "version_minor": 0
      },
      "text/plain": [
       "  0%|          | 0/3474 [00:00<?, ?it/s]"
      ]
     },
     "metadata": {},
     "output_type": "display_data"
    },
    {
     "name": "stderr",
     "output_type": "stream",
     "text": [
      "INFO - 2024-07-12T19:37:22Z - Successfully downloaded to /home/jovyan/shared/data/copernicus/cmems_obs-oc_glo_bgc-plankton_my_l3-multi-4km_P1D/202202.nc\n",
      "INFO - 2024-07-12T19:37:23Z - Dataset version was not specified, the latest one was selected: \"202311\"\n",
      "INFO - 2024-07-12T19:37:23Z - Dataset part was not specified, the first one was selected: \"default\"\n",
      "INFO - 2024-07-12T19:37:27Z - Service was not specified, the default one was selected: \"arco-geo-series\"\n",
      "INFO - 2024-07-12T19:37:30Z - Downloading using service arco-geo-series...\n",
      "INFO - 2024-07-12T19:37:37Z - Estimated size of the dataset file is 539.769 MB.\n",
      "INFO - 2024-07-12T19:37:37Z - Writing to local storage. Please wait...\n"
     ]
    },
    {
     "data": {
      "application/vnd.jupyter.widget-view+json": {
       "model_id": "57327cfb65be450c937d924a61246628",
       "version_major": 2,
       "version_minor": 0
      },
      "text/plain": [
       "  0%|          | 0/3846 [00:00<?, ?it/s]"
      ]
     },
     "metadata": {},
     "output_type": "display_data"
    },
    {
     "name": "stderr",
     "output_type": "stream",
     "text": [
      "INFO - 2024-07-12T19:38:40Z - Successfully downloaded to /home/jovyan/shared/data/copernicus/cmems_obs-oc_glo_bgc-plankton_my_l3-multi-4km_P1D/202203.nc\n",
      "INFO - 2024-07-12T19:38:41Z - Dataset version was not specified, the latest one was selected: \"202311\"\n",
      "INFO - 2024-07-12T19:38:41Z - Dataset part was not specified, the first one was selected: \"default\"\n",
      "INFO - 2024-07-12T19:38:44Z - Service was not specified, the default one was selected: \"arco-geo-series\"\n",
      "INFO - 2024-07-12T19:38:51Z - Downloading using service arco-geo-series...\n",
      "INFO - 2024-07-12T19:38:57Z - Estimated size of the dataset file is 522.357 MB.\n",
      "INFO - 2024-07-12T19:38:57Z - Writing to local storage. Please wait...\n"
     ]
    },
    {
     "data": {
      "application/vnd.jupyter.widget-view+json": {
       "model_id": "ccf0c27e40be46e29c65a5623335427b",
       "version_major": 2,
       "version_minor": 0
      },
      "text/plain": [
       "  0%|          | 0/3722 [00:00<?, ?it/s]"
      ]
     },
     "metadata": {},
     "output_type": "display_data"
    },
    {
     "name": "stderr",
     "output_type": "stream",
     "text": [
      "INFO - 2024-07-12T19:39:59Z - Successfully downloaded to /home/jovyan/shared/data/copernicus/cmems_obs-oc_glo_bgc-plankton_my_l3-multi-4km_P1D/202204.nc\n",
      "INFO - 2024-07-12T19:40:00Z - Dataset version was not specified, the latest one was selected: \"202311\"\n",
      "INFO - 2024-07-12T19:40:00Z - Dataset part was not specified, the first one was selected: \"default\"\n",
      "INFO - 2024-07-12T19:40:04Z - Service was not specified, the default one was selected: \"arco-geo-series\"\n",
      "INFO - 2024-07-12T19:40:07Z - Downloading using service arco-geo-series...\n",
      "INFO - 2024-07-12T19:40:14Z - Estimated size of the dataset file is 539.769 MB.\n",
      "INFO - 2024-07-12T19:40:14Z - Writing to local storage. Please wait...\n"
     ]
    },
    {
     "data": {
      "application/vnd.jupyter.widget-view+json": {
       "model_id": "dac1d88a25714cc3a0ee938b8b8fdd0a",
       "version_major": 2,
       "version_minor": 0
      },
      "text/plain": [
       "  0%|          | 0/3846 [00:00<?, ?it/s]"
      ]
     },
     "metadata": {},
     "output_type": "display_data"
    },
    {
     "name": "stderr",
     "output_type": "stream",
     "text": [
      "INFO - 2024-07-12T19:41:16Z - Successfully downloaded to /home/jovyan/shared/data/copernicus/cmems_obs-oc_glo_bgc-plankton_my_l3-multi-4km_P1D/202205.nc\n",
      "INFO - 2024-07-12T19:41:18Z - Dataset version was not specified, the latest one was selected: \"202311\"\n",
      "INFO - 2024-07-12T19:41:18Z - Dataset part was not specified, the first one was selected: \"default\"\n",
      "INFO - 2024-07-12T19:41:21Z - Service was not specified, the default one was selected: \"arco-geo-series\"\n",
      "INFO - 2024-07-12T19:41:24Z - Downloading using service arco-geo-series...\n",
      "INFO - 2024-07-12T19:41:32Z - Estimated size of the dataset file is 522.357 MB.\n",
      "INFO - 2024-07-12T19:41:32Z - Writing to local storage. Please wait...\n"
     ]
    },
    {
     "data": {
      "application/vnd.jupyter.widget-view+json": {
       "model_id": "cc590852921c40d5833e1c6b8f632d44",
       "version_major": 2,
       "version_minor": 0
      },
      "text/plain": [
       "  0%|          | 0/3722 [00:00<?, ?it/s]"
      ]
     },
     "metadata": {},
     "output_type": "display_data"
    },
    {
     "name": "stderr",
     "output_type": "stream",
     "text": [
      "INFO - 2024-07-12T19:42:33Z - Successfully downloaded to /home/jovyan/shared/data/copernicus/cmems_obs-oc_glo_bgc-plankton_my_l3-multi-4km_P1D/202206.nc\n",
      "INFO - 2024-07-12T19:42:34Z - Dataset version was not specified, the latest one was selected: \"202311\"\n",
      "INFO - 2024-07-12T19:42:34Z - Dataset part was not specified, the first one was selected: \"default\"\n",
      "INFO - 2024-07-12T19:42:37Z - Service was not specified, the default one was selected: \"arco-geo-series\"\n",
      "INFO - 2024-07-12T19:42:40Z - Downloading using service arco-geo-series...\n",
      "INFO - 2024-07-12T19:42:48Z - Estimated size of the dataset file is 539.769 MB.\n",
      "INFO - 2024-07-12T19:42:48Z - Writing to local storage. Please wait...\n"
     ]
    },
    {
     "data": {
      "application/vnd.jupyter.widget-view+json": {
       "model_id": "a1b78255ae77446cac956b7492592ed4",
       "version_major": 2,
       "version_minor": 0
      },
      "text/plain": [
       "  0%|          | 0/3846 [00:00<?, ?it/s]"
      ]
     },
     "metadata": {},
     "output_type": "display_data"
    },
    {
     "name": "stderr",
     "output_type": "stream",
     "text": [
      "INFO - 2024-07-12T19:43:51Z - Successfully downloaded to /home/jovyan/shared/data/copernicus/cmems_obs-oc_glo_bgc-plankton_my_l3-multi-4km_P1D/202207.nc\n",
      "INFO - 2024-07-12T19:43:52Z - Dataset version was not specified, the latest one was selected: \"202311\"\n",
      "INFO - 2024-07-12T19:43:52Z - Dataset part was not specified, the first one was selected: \"default\"\n",
      "INFO - 2024-07-12T19:43:55Z - Service was not specified, the default one was selected: \"arco-geo-series\"\n",
      "INFO - 2024-07-12T19:43:58Z - Downloading using service arco-geo-series...\n",
      "INFO - 2024-07-12T19:44:05Z - Estimated size of the dataset file is 539.769 MB.\n",
      "INFO - 2024-07-12T19:44:05Z - Writing to local storage. Please wait...\n"
     ]
    },
    {
     "data": {
      "application/vnd.jupyter.widget-view+json": {
       "model_id": "6fe28937b51d4d57835de8ad062a19e4",
       "version_major": 2,
       "version_minor": 0
      },
      "text/plain": [
       "  0%|          | 0/3846 [00:00<?, ?it/s]"
      ]
     },
     "metadata": {},
     "output_type": "display_data"
    },
    {
     "name": "stderr",
     "output_type": "stream",
     "text": [
      "INFO - 2024-07-12T19:45:07Z - Successfully downloaded to /home/jovyan/shared/data/copernicus/cmems_obs-oc_glo_bgc-plankton_my_l3-multi-4km_P1D/202208.nc\n",
      "INFO - 2024-07-12T19:45:09Z - Dataset version was not specified, the latest one was selected: \"202311\"\n",
      "INFO - 2024-07-12T19:45:09Z - Dataset part was not specified, the first one was selected: \"default\"\n",
      "INFO - 2024-07-12T19:45:13Z - Service was not specified, the default one was selected: \"arco-geo-series\"\n",
      "INFO - 2024-07-12T19:45:16Z - Downloading using service arco-geo-series...\n",
      "INFO - 2024-07-12T19:45:23Z - Estimated size of the dataset file is 522.357 MB.\n",
      "INFO - 2024-07-12T19:45:23Z - Writing to local storage. Please wait...\n"
     ]
    },
    {
     "data": {
      "application/vnd.jupyter.widget-view+json": {
       "model_id": "6b1db450fd0f4d7bb77c79b26232200b",
       "version_major": 2,
       "version_minor": 0
      },
      "text/plain": [
       "  0%|          | 0/3722 [00:00<?, ?it/s]"
      ]
     },
     "metadata": {},
     "output_type": "display_data"
    }
   ],
   "source": [
    "download_copernicus(\n",
    "    \"cmems_obs-oc_glo_bgc-plankton_my_l3-multi-4km_P1D\", \n",
    "    \"1997-10-01\", \"2024-06-30\", \n",
    "    vars=['CHL', 'CHL_uncertainty', 'flags']\n",
    ")"
   ]
  },
  {
   "cell_type": "code",
   "execution_count": 11,
   "id": "63d41809-a70e-4312-8ee7-77aac922d6a8",
   "metadata": {
    "scrolled": true
   },
   "outputs": [
    {
     "data": {
      "text/html": [
       "<div><svg style=\"position: absolute; width: 0; height: 0; overflow: hidden\">\n",
       "<defs>\n",
       "<symbol id=\"icon-database\" viewBox=\"0 0 32 32\">\n",
       "<path d=\"M16 0c-8.837 0-16 2.239-16 5v4c0 2.761 7.163 5 16 5s16-2.239 16-5v-4c0-2.761-7.163-5-16-5z\"></path>\n",
       "<path d=\"M16 17c-8.837 0-16-2.239-16-5v6c0 2.761 7.163 5 16 5s16-2.239 16-5v-6c0 2.761-7.163 5-16 5z\"></path>\n",
       "<path d=\"M16 26c-8.837 0-16-2.239-16-5v6c0 2.761 7.163 5 16 5s16-2.239 16-5v-6c0 2.761-7.163 5-16 5z\"></path>\n",
       "</symbol>\n",
       "<symbol id=\"icon-file-text2\" viewBox=\"0 0 32 32\">\n",
       "<path d=\"M28.681 7.159c-0.694-0.947-1.662-2.053-2.724-3.116s-2.169-2.030-3.116-2.724c-1.612-1.182-2.393-1.319-2.841-1.319h-15.5c-1.378 0-2.5 1.121-2.5 2.5v27c0 1.378 1.122 2.5 2.5 2.5h23c1.378 0 2.5-1.122 2.5-2.5v-19.5c0-0.448-0.137-1.23-1.319-2.841zM24.543 5.457c0.959 0.959 1.712 1.825 2.268 2.543h-4.811v-4.811c0.718 0.556 1.584 1.309 2.543 2.268zM28 29.5c0 0.271-0.229 0.5-0.5 0.5h-23c-0.271 0-0.5-0.229-0.5-0.5v-27c0-0.271 0.229-0.5 0.5-0.5 0 0 15.499-0 15.5 0v7c0 0.552 0.448 1 1 1h7v19.5z\"></path>\n",
       "<path d=\"M23 26h-14c-0.552 0-1-0.448-1-1s0.448-1 1-1h14c0.552 0 1 0.448 1 1s-0.448 1-1 1z\"></path>\n",
       "<path d=\"M23 22h-14c-0.552 0-1-0.448-1-1s0.448-1 1-1h14c0.552 0 1 0.448 1 1s-0.448 1-1 1z\"></path>\n",
       "<path d=\"M23 18h-14c-0.552 0-1-0.448-1-1s0.448-1 1-1h14c0.552 0 1 0.448 1 1s-0.448 1-1 1z\"></path>\n",
       "</symbol>\n",
       "</defs>\n",
       "</svg>\n",
       "<style>/* CSS stylesheet for displaying xarray objects in jupyterlab.\n",
       " *\n",
       " */\n",
       "\n",
       ":root {\n",
       "  --xr-font-color0: var(--jp-content-font-color0, rgba(0, 0, 0, 1));\n",
       "  --xr-font-color2: var(--jp-content-font-color2, rgba(0, 0, 0, 0.54));\n",
       "  --xr-font-color3: var(--jp-content-font-color3, rgba(0, 0, 0, 0.38));\n",
       "  --xr-border-color: var(--jp-border-color2, #e0e0e0);\n",
       "  --xr-disabled-color: var(--jp-layout-color3, #bdbdbd);\n",
       "  --xr-background-color: var(--jp-layout-color0, white);\n",
       "  --xr-background-color-row-even: var(--jp-layout-color1, white);\n",
       "  --xr-background-color-row-odd: var(--jp-layout-color2, #eeeeee);\n",
       "}\n",
       "\n",
       "html[theme=dark],\n",
       "body[data-theme=dark],\n",
       "body.vscode-dark {\n",
       "  --xr-font-color0: rgba(255, 255, 255, 1);\n",
       "  --xr-font-color2: rgba(255, 255, 255, 0.54);\n",
       "  --xr-font-color3: rgba(255, 255, 255, 0.38);\n",
       "  --xr-border-color: #1F1F1F;\n",
       "  --xr-disabled-color: #515151;\n",
       "  --xr-background-color: #111111;\n",
       "  --xr-background-color-row-even: #111111;\n",
       "  --xr-background-color-row-odd: #313131;\n",
       "}\n",
       "\n",
       ".xr-wrap {\n",
       "  display: block !important;\n",
       "  min-width: 300px;\n",
       "  max-width: 700px;\n",
       "}\n",
       "\n",
       ".xr-text-repr-fallback {\n",
       "  /* fallback to plain text repr when CSS is not injected (untrusted notebook) */\n",
       "  display: none;\n",
       "}\n",
       "\n",
       ".xr-header {\n",
       "  padding-top: 6px;\n",
       "  padding-bottom: 6px;\n",
       "  margin-bottom: 4px;\n",
       "  border-bottom: solid 1px var(--xr-border-color);\n",
       "}\n",
       "\n",
       ".xr-header > div,\n",
       ".xr-header > ul {\n",
       "  display: inline;\n",
       "  margin-top: 0;\n",
       "  margin-bottom: 0;\n",
       "}\n",
       "\n",
       ".xr-obj-type,\n",
       ".xr-array-name {\n",
       "  margin-left: 2px;\n",
       "  margin-right: 10px;\n",
       "}\n",
       "\n",
       ".xr-obj-type {\n",
       "  color: var(--xr-font-color2);\n",
       "}\n",
       "\n",
       ".xr-sections {\n",
       "  padding-left: 0 !important;\n",
       "  display: grid;\n",
       "  grid-template-columns: 150px auto auto 1fr 20px 20px;\n",
       "}\n",
       "\n",
       ".xr-section-item {\n",
       "  display: contents;\n",
       "}\n",
       "\n",
       ".xr-section-item input {\n",
       "  display: none;\n",
       "}\n",
       "\n",
       ".xr-section-item input + label {\n",
       "  color: var(--xr-disabled-color);\n",
       "}\n",
       "\n",
       ".xr-section-item input:enabled + label {\n",
       "  cursor: pointer;\n",
       "  color: var(--xr-font-color2);\n",
       "}\n",
       "\n",
       ".xr-section-item input:enabled + label:hover {\n",
       "  color: var(--xr-font-color0);\n",
       "}\n",
       "\n",
       ".xr-section-summary {\n",
       "  grid-column: 1;\n",
       "  color: var(--xr-font-color2);\n",
       "  font-weight: 500;\n",
       "}\n",
       "\n",
       ".xr-section-summary > span {\n",
       "  display: inline-block;\n",
       "  padding-left: 0.5em;\n",
       "}\n",
       "\n",
       ".xr-section-summary-in:disabled + label {\n",
       "  color: var(--xr-font-color2);\n",
       "}\n",
       "\n",
       ".xr-section-summary-in + label:before {\n",
       "  display: inline-block;\n",
       "  content: '►';\n",
       "  font-size: 11px;\n",
       "  width: 15px;\n",
       "  text-align: center;\n",
       "}\n",
       "\n",
       ".xr-section-summary-in:disabled + label:before {\n",
       "  color: var(--xr-disabled-color);\n",
       "}\n",
       "\n",
       ".xr-section-summary-in:checked + label:before {\n",
       "  content: '▼';\n",
       "}\n",
       "\n",
       ".xr-section-summary-in:checked + label > span {\n",
       "  display: none;\n",
       "}\n",
       "\n",
       ".xr-section-summary,\n",
       ".xr-section-inline-details {\n",
       "  padding-top: 4px;\n",
       "  padding-bottom: 4px;\n",
       "}\n",
       "\n",
       ".xr-section-inline-details {\n",
       "  grid-column: 2 / -1;\n",
       "}\n",
       "\n",
       ".xr-section-details {\n",
       "  display: none;\n",
       "  grid-column: 1 / -1;\n",
       "  margin-bottom: 5px;\n",
       "}\n",
       "\n",
       ".xr-section-summary-in:checked ~ .xr-section-details {\n",
       "  display: contents;\n",
       "}\n",
       "\n",
       ".xr-array-wrap {\n",
       "  grid-column: 1 / -1;\n",
       "  display: grid;\n",
       "  grid-template-columns: 20px auto;\n",
       "}\n",
       "\n",
       ".xr-array-wrap > label {\n",
       "  grid-column: 1;\n",
       "  vertical-align: top;\n",
       "}\n",
       "\n",
       ".xr-preview {\n",
       "  color: var(--xr-font-color3);\n",
       "}\n",
       "\n",
       ".xr-array-preview,\n",
       ".xr-array-data {\n",
       "  padding: 0 5px !important;\n",
       "  grid-column: 2;\n",
       "}\n",
       "\n",
       ".xr-array-data,\n",
       ".xr-array-in:checked ~ .xr-array-preview {\n",
       "  display: none;\n",
       "}\n",
       "\n",
       ".xr-array-in:checked ~ .xr-array-data,\n",
       ".xr-array-preview {\n",
       "  display: inline-block;\n",
       "}\n",
       "\n",
       ".xr-dim-list {\n",
       "  display: inline-block !important;\n",
       "  list-style: none;\n",
       "  padding: 0 !important;\n",
       "  margin: 0;\n",
       "}\n",
       "\n",
       ".xr-dim-list li {\n",
       "  display: inline-block;\n",
       "  padding: 0;\n",
       "  margin: 0;\n",
       "}\n",
       "\n",
       ".xr-dim-list:before {\n",
       "  content: '(';\n",
       "}\n",
       "\n",
       ".xr-dim-list:after {\n",
       "  content: ')';\n",
       "}\n",
       "\n",
       ".xr-dim-list li:not(:last-child):after {\n",
       "  content: ',';\n",
       "  padding-right: 5px;\n",
       "}\n",
       "\n",
       ".xr-has-index {\n",
       "  font-weight: bold;\n",
       "}\n",
       "\n",
       ".xr-var-list,\n",
       ".xr-var-item {\n",
       "  display: contents;\n",
       "}\n",
       "\n",
       ".xr-var-item > div,\n",
       ".xr-var-item label,\n",
       ".xr-var-item > .xr-var-name span {\n",
       "  background-color: var(--xr-background-color-row-even);\n",
       "  margin-bottom: 0;\n",
       "}\n",
       "\n",
       ".xr-var-item > .xr-var-name:hover span {\n",
       "  padding-right: 5px;\n",
       "}\n",
       "\n",
       ".xr-var-list > li:nth-child(odd) > div,\n",
       ".xr-var-list > li:nth-child(odd) > label,\n",
       ".xr-var-list > li:nth-child(odd) > .xr-var-name span {\n",
       "  background-color: var(--xr-background-color-row-odd);\n",
       "}\n",
       "\n",
       ".xr-var-name {\n",
       "  grid-column: 1;\n",
       "}\n",
       "\n",
       ".xr-var-dims {\n",
       "  grid-column: 2;\n",
       "}\n",
       "\n",
       ".xr-var-dtype {\n",
       "  grid-column: 3;\n",
       "  text-align: right;\n",
       "  color: var(--xr-font-color2);\n",
       "}\n",
       "\n",
       ".xr-var-preview {\n",
       "  grid-column: 4;\n",
       "}\n",
       "\n",
       ".xr-index-preview {\n",
       "  grid-column: 2 / 5;\n",
       "  color: var(--xr-font-color2);\n",
       "}\n",
       "\n",
       ".xr-var-name,\n",
       ".xr-var-dims,\n",
       ".xr-var-dtype,\n",
       ".xr-preview,\n",
       ".xr-attrs dt {\n",
       "  white-space: nowrap;\n",
       "  overflow: hidden;\n",
       "  text-overflow: ellipsis;\n",
       "  padding-right: 10px;\n",
       "}\n",
       "\n",
       ".xr-var-name:hover,\n",
       ".xr-var-dims:hover,\n",
       ".xr-var-dtype:hover,\n",
       ".xr-attrs dt:hover {\n",
       "  overflow: visible;\n",
       "  width: auto;\n",
       "  z-index: 1;\n",
       "}\n",
       "\n",
       ".xr-var-attrs,\n",
       ".xr-var-data,\n",
       ".xr-index-data {\n",
       "  display: none;\n",
       "  background-color: var(--xr-background-color) !important;\n",
       "  padding-bottom: 5px !important;\n",
       "}\n",
       "\n",
       ".xr-var-attrs-in:checked ~ .xr-var-attrs,\n",
       ".xr-var-data-in:checked ~ .xr-var-data,\n",
       ".xr-index-data-in:checked ~ .xr-index-data {\n",
       "  display: block;\n",
       "}\n",
       "\n",
       ".xr-var-data > table {\n",
       "  float: right;\n",
       "}\n",
       "\n",
       ".xr-var-name span,\n",
       ".xr-var-data,\n",
       ".xr-index-name div,\n",
       ".xr-index-data,\n",
       ".xr-attrs {\n",
       "  padding-left: 25px !important;\n",
       "}\n",
       "\n",
       ".xr-attrs,\n",
       ".xr-var-attrs,\n",
       ".xr-var-data,\n",
       ".xr-index-data {\n",
       "  grid-column: 1 / -1;\n",
       "}\n",
       "\n",
       "dl.xr-attrs {\n",
       "  padding: 0;\n",
       "  margin: 0;\n",
       "  display: grid;\n",
       "  grid-template-columns: 125px auto;\n",
       "}\n",
       "\n",
       ".xr-attrs dt,\n",
       ".xr-attrs dd {\n",
       "  padding: 0;\n",
       "  margin: 0;\n",
       "  float: left;\n",
       "  padding-right: 10px;\n",
       "  width: auto;\n",
       "}\n",
       "\n",
       ".xr-attrs dt {\n",
       "  font-weight: normal;\n",
       "  grid-column: 1;\n",
       "}\n",
       "\n",
       ".xr-attrs dt:hover span {\n",
       "  display: inline-block;\n",
       "  background: var(--xr-background-color);\n",
       "  padding-right: 10px;\n",
       "}\n",
       "\n",
       ".xr-attrs dd {\n",
       "  grid-column: 2;\n",
       "  white-space: pre-wrap;\n",
       "  word-break: break-all;\n",
       "}\n",
       "\n",
       ".xr-icon-database,\n",
       ".xr-icon-file-text2,\n",
       ".xr-no-icon {\n",
       "  display: inline-block;\n",
       "  vertical-align: middle;\n",
       "  width: 1em;\n",
       "  height: 1.5em !important;\n",
       "  stroke-width: 0;\n",
       "  stroke: currentColor;\n",
       "  fill: currentColor;\n",
       "}\n",
       "</style><pre class='xr-text-repr-fallback'>&lt;xarray.Dataset&gt; Size: 613MB\n",
       "Dimensions:          (time: 31, latitude: 1056, longitude: 1440)\n",
       "Coordinates:\n",
       "  * latitude         (latitude) float32 4kB -11.98 -11.94 -11.9 ... 31.94 31.98\n",
       "  * longitude        (longitude) float32 6kB 42.02 42.06 42.1 ... 101.9 102.0\n",
       "  * time             (time) datetime64[ns] 248B 1997-10-01 ... 1997-10-31\n",
       "Data variables:\n",
       "    CHL              (time, latitude, longitude) float32 189MB ...\n",
       "    CHL_uncertainty  (time, latitude, longitude) float64 377MB ...\n",
       "    flags            (time, latitude, longitude) int8 47MB ...\n",
       "Attributes: (12/92)\n",
       "    Conventions:                     CF-1.8, ACDD-1.3\n",
       "    DPM_reference:                   GC-UD-ACRI-PUG\n",
       "    IODD_reference:                  GC-UD-ACRI-PUG\n",
       "    acknowledgement:                 The Licensees will ensure that original ...\n",
       "    citation:                        The Licensees will ensure that original ...\n",
       "    cmems_product_id:                OCEANCOLOUR_GLO_BGC_L3_MY_009_103\n",
       "    ...                              ...\n",
       "    time_coverage_resolution:        P1D\n",
       "    time_coverage_start:             2024-04-16T21:12:05Z\n",
       "    title:                           cmems_obs-oc_glo_bgc-plankton_my_l3-mult...\n",
       "    westernmost_longitude:           -180.0\n",
       "    westernmost_valid_longitude:     -180.0\n",
       "    copernicusmarine_version:        1.3.1</pre><div class='xr-wrap' style='display:none'><div class='xr-header'><div class='xr-obj-type'>xarray.Dataset</div></div><ul class='xr-sections'><li class='xr-section-item'><input id='section-122ec61d-6f57-4c4d-a26b-f275c7368b46' class='xr-section-summary-in' type='checkbox' disabled ><label for='section-122ec61d-6f57-4c4d-a26b-f275c7368b46' class='xr-section-summary'  title='Expand/collapse section'>Dimensions:</label><div class='xr-section-inline-details'><ul class='xr-dim-list'><li><span class='xr-has-index'>time</span>: 31</li><li><span class='xr-has-index'>latitude</span>: 1056</li><li><span class='xr-has-index'>longitude</span>: 1440</li></ul></div><div class='xr-section-details'></div></li><li class='xr-section-item'><input id='section-a58b7c0b-753f-40f0-bbee-453cdd33cbaf' class='xr-section-summary-in' type='checkbox'  checked><label for='section-a58b7c0b-753f-40f0-bbee-453cdd33cbaf' class='xr-section-summary' >Coordinates: <span>(3)</span></label><div class='xr-section-inline-details'></div><div class='xr-section-details'><ul class='xr-var-list'><li class='xr-var-item'><div class='xr-var-name'><span class='xr-has-index'>latitude</span></div><div class='xr-var-dims'>(latitude)</div><div class='xr-var-dtype'>float32</div><div class='xr-var-preview xr-preview'>-11.98 -11.94 -11.9 ... 31.94 31.98</div><input id='attrs-866c1244-f782-4e51-b74e-68531ef4cbc6' class='xr-var-attrs-in' type='checkbox' ><label for='attrs-866c1244-f782-4e51-b74e-68531ef4cbc6' title='Show/Hide attributes'><svg class='icon xr-icon-file-text2'><use xlink:href='#icon-file-text2'></use></svg></label><input id='data-db5d320d-4e41-4c34-a742-4d6ca58728ab' class='xr-var-data-in' type='checkbox'><label for='data-db5d320d-4e41-4c34-a742-4d6ca58728ab' title='Show/Hide data repr'><svg class='icon xr-icon-database'><use xlink:href='#icon-database'></use></svg></label><div class='xr-var-attrs'><dl class='xr-attrs'><dt><span>axis :</span></dt><dd>Y</dd><dt><span>coverage_content_type :</span></dt><dd>coordinate</dd><dt><span>long_name :</span></dt><dd>latitude</dd><dt><span>standard_name :</span></dt><dd>latitude</dd><dt><span>units :</span></dt><dd>degrees_north</dd><dt><span>valid_max :</span></dt><dd>31.979164</dd><dt><span>valid_min :</span></dt><dd>-11.97917</dd></dl></div><div class='xr-var-data'><pre>array([-11.97917 , -11.937503, -11.895837, ...,  31.895832,  31.937498,\n",
       "        31.979164], dtype=float32)</pre></div></li><li class='xr-var-item'><div class='xr-var-name'><span class='xr-has-index'>longitude</span></div><div class='xr-var-dims'>(longitude)</div><div class='xr-var-dtype'>float32</div><div class='xr-var-preview xr-preview'>42.02 42.06 42.1 ... 101.9 102.0</div><input id='attrs-f793279d-84b7-4185-9a1a-657a30f042cc' class='xr-var-attrs-in' type='checkbox' ><label for='attrs-f793279d-84b7-4185-9a1a-657a30f042cc' title='Show/Hide attributes'><svg class='icon xr-icon-file-text2'><use xlink:href='#icon-file-text2'></use></svg></label><input id='data-123b125b-d7f6-4392-99a3-b6dce8287f26' class='xr-var-data-in' type='checkbox'><label for='data-123b125b-d7f6-4392-99a3-b6dce8287f26' title='Show/Hide data repr'><svg class='icon xr-icon-database'><use xlink:href='#icon-database'></use></svg></label><div class='xr-var-attrs'><dl class='xr-attrs'><dt><span>axis :</span></dt><dd>X</dd><dt><span>coverage_content_type :</span></dt><dd>coordinate</dd><dt><span>long_name :</span></dt><dd>longitude</dd><dt><span>standard_name :</span></dt><dd>longitude</dd><dt><span>units :</span></dt><dd>degrees_east</dd><dt><span>valid_max :</span></dt><dd>101.97917</dd><dt><span>valid_min :</span></dt><dd>42.02084</dd></dl></div><div class='xr-var-data'><pre>array([ 42.02084 ,  42.062508,  42.10417 , ..., 101.89584 , 101.93751 ,\n",
       "       101.97917 ], dtype=float32)</pre></div></li><li class='xr-var-item'><div class='xr-var-name'><span class='xr-has-index'>time</span></div><div class='xr-var-dims'>(time)</div><div class='xr-var-dtype'>datetime64[ns]</div><div class='xr-var-preview xr-preview'>1997-10-01 ... 1997-10-31</div><input id='attrs-475af95e-86be-4b0d-bbf0-66d7a1eb8fc6' class='xr-var-attrs-in' type='checkbox' ><label for='attrs-475af95e-86be-4b0d-bbf0-66d7a1eb8fc6' title='Show/Hide attributes'><svg class='icon xr-icon-file-text2'><use xlink:href='#icon-file-text2'></use></svg></label><input id='data-2f9c89ae-1af5-4e15-86f5-7f3d25f45023' class='xr-var-data-in' type='checkbox'><label for='data-2f9c89ae-1af5-4e15-86f5-7f3d25f45023' title='Show/Hide data repr'><svg class='icon xr-icon-database'><use xlink:href='#icon-database'></use></svg></label><div class='xr-var-attrs'><dl class='xr-attrs'><dt><span>valid_min :</span></dt><dd>35702</dd><dt><span>valid_max :</span></dt><dd>35732</dd></dl></div><div class='xr-var-data'><pre>array([&#x27;1997-10-01T00:00:00.000000000&#x27;, &#x27;1997-10-02T00:00:00.000000000&#x27;,\n",
       "       &#x27;1997-10-03T00:00:00.000000000&#x27;, &#x27;1997-10-04T00:00:00.000000000&#x27;,\n",
       "       &#x27;1997-10-05T00:00:00.000000000&#x27;, &#x27;1997-10-06T00:00:00.000000000&#x27;,\n",
       "       &#x27;1997-10-07T00:00:00.000000000&#x27;, &#x27;1997-10-08T00:00:00.000000000&#x27;,\n",
       "       &#x27;1997-10-09T00:00:00.000000000&#x27;, &#x27;1997-10-10T00:00:00.000000000&#x27;,\n",
       "       &#x27;1997-10-11T00:00:00.000000000&#x27;, &#x27;1997-10-12T00:00:00.000000000&#x27;,\n",
       "       &#x27;1997-10-13T00:00:00.000000000&#x27;, &#x27;1997-10-14T00:00:00.000000000&#x27;,\n",
       "       &#x27;1997-10-15T00:00:00.000000000&#x27;, &#x27;1997-10-16T00:00:00.000000000&#x27;,\n",
       "       &#x27;1997-10-17T00:00:00.000000000&#x27;, &#x27;1997-10-18T00:00:00.000000000&#x27;,\n",
       "       &#x27;1997-10-19T00:00:00.000000000&#x27;, &#x27;1997-10-20T00:00:00.000000000&#x27;,\n",
       "       &#x27;1997-10-21T00:00:00.000000000&#x27;, &#x27;1997-10-22T00:00:00.000000000&#x27;,\n",
       "       &#x27;1997-10-23T00:00:00.000000000&#x27;, &#x27;1997-10-24T00:00:00.000000000&#x27;,\n",
       "       &#x27;1997-10-25T00:00:00.000000000&#x27;, &#x27;1997-10-26T00:00:00.000000000&#x27;,\n",
       "       &#x27;1997-10-27T00:00:00.000000000&#x27;, &#x27;1997-10-28T00:00:00.000000000&#x27;,\n",
       "       &#x27;1997-10-29T00:00:00.000000000&#x27;, &#x27;1997-10-30T00:00:00.000000000&#x27;,\n",
       "       &#x27;1997-10-31T00:00:00.000000000&#x27;], dtype=&#x27;datetime64[ns]&#x27;)</pre></div></li></ul></div></li><li class='xr-section-item'><input id='section-97cfae40-e54c-4f9a-a6fd-4e2c6cb6b8c7' class='xr-section-summary-in' type='checkbox'  checked><label for='section-97cfae40-e54c-4f9a-a6fd-4e2c6cb6b8c7' class='xr-section-summary' >Data variables: <span>(3)</span></label><div class='xr-section-inline-details'></div><div class='xr-section-details'><ul class='xr-var-list'><li class='xr-var-item'><div class='xr-var-name'><span>CHL</span></div><div class='xr-var-dims'>(time, latitude, longitude)</div><div class='xr-var-dtype'>float32</div><div class='xr-var-preview xr-preview'>...</div><input id='attrs-fde8dfce-c3b7-4fb0-8df8-bb6f1b2b1662' class='xr-var-attrs-in' type='checkbox' ><label for='attrs-fde8dfce-c3b7-4fb0-8df8-bb6f1b2b1662' title='Show/Hide attributes'><svg class='icon xr-icon-file-text2'><use xlink:href='#icon-file-text2'></use></svg></label><input id='data-bd04f789-f0db-4c0a-a514-823e73ac5959' class='xr-var-data-in' type='checkbox'><label for='data-bd04f789-f0db-4c0a-a514-823e73ac5959' title='Show/Hide data repr'><svg class='icon xr-icon-database'><use xlink:href='#icon-database'></use></svg></label><div class='xr-var-attrs'><dl class='xr-attrs'><dt><span>ancillary_variables :</span></dt><dd>flags CHL_uncertainty</dd><dt><span>coverage_content_type :</span></dt><dd>modelResult</dd><dt><span>input_files_reprocessings :</span></dt><dd>Processors versions: MODIS R2022.0NRT/VIIRSN R2022.0.1NRT/OLCIA 07.04/VIIRSJ1 R2022.0NRT/OLCIB 07.04</dd><dt><span>long_name :</span></dt><dd>Chlorophyll-a concentration - Mean of the binned pixels</dd><dt><span>standard_name :</span></dt><dd>mass_concentration_of_chlorophyll_a_in_sea_water</dd><dt><span>type :</span></dt><dd>surface</dd><dt><span>units :</span></dt><dd>milligram m-3</dd><dt><span>valid_max :</span></dt><dd>1000.0</dd><dt><span>valid_min :</span></dt><dd>0.0</dd></dl></div><div class='xr-var-data'><pre>[47139840 values with dtype=float32]</pre></div></li><li class='xr-var-item'><div class='xr-var-name'><span>CHL_uncertainty</span></div><div class='xr-var-dims'>(time, latitude, longitude)</div><div class='xr-var-dtype'>float64</div><div class='xr-var-preview xr-preview'>...</div><input id='attrs-13e95a97-5a78-447e-971d-f997e243a6c4' class='xr-var-attrs-in' type='checkbox' ><label for='attrs-13e95a97-5a78-447e-971d-f997e243a6c4' title='Show/Hide attributes'><svg class='icon xr-icon-file-text2'><use xlink:href='#icon-file-text2'></use></svg></label><input id='data-4aec0576-08c6-4bab-88c6-89230e1c93c2' class='xr-var-data-in' type='checkbox'><label for='data-4aec0576-08c6-4bab-88c6-89230e1c93c2' title='Show/Hide data repr'><svg class='icon xr-icon-database'><use xlink:href='#icon-database'></use></svg></label><div class='xr-var-attrs'><dl class='xr-attrs'><dt><span>coverage_content_type :</span></dt><dd>qualityInformation</dd><dt><span>long_name :</span></dt><dd>Chlorophyll-a concentration - Uncertainty estimation</dd><dt><span>units :</span></dt><dd>%</dd><dt><span>valid_max :</span></dt><dd>32767</dd><dt><span>valid_min :</span></dt><dd>0</dd></dl></div><div class='xr-var-data'><pre>[47139840 values with dtype=float64]</pre></div></li><li class='xr-var-item'><div class='xr-var-name'><span>flags</span></div><div class='xr-var-dims'>(time, latitude, longitude)</div><div class='xr-var-dtype'>int8</div><div class='xr-var-preview xr-preview'>...</div><input id='attrs-1af0d291-1ea5-49e5-a61a-ed87f1bacded' class='xr-var-attrs-in' type='checkbox' ><label for='attrs-1af0d291-1ea5-49e5-a61a-ed87f1bacded' title='Show/Hide attributes'><svg class='icon xr-icon-file-text2'><use xlink:href='#icon-file-text2'></use></svg></label><input id='data-9cd32605-ed70-4aef-95b6-e6d15507059a' class='xr-var-data-in' type='checkbox'><label for='data-9cd32605-ed70-4aef-95b6-e6d15507059a' title='Show/Hide data repr'><svg class='icon xr-icon-database'><use xlink:href='#icon-database'></use></svg></label><div class='xr-var-attrs'><dl class='xr-attrs'><dt><span>coverage_content_type :</span></dt><dd>auxiliaryInformation</dd><dt><span>flag_masks :</span></dt><dd>1</dd><dt><span>flag_meanings :</span></dt><dd>LAND</dd><dt><span>long_name :</span></dt><dd>Flags</dd><dt><span>standard_name :</span></dt><dd>status_flag</dd><dt><span>valid_max :</span></dt><dd>1</dd><dt><span>valid_min :</span></dt><dd>0</dd></dl></div><div class='xr-var-data'><pre>[47139840 values with dtype=int8]</pre></div></li></ul></div></li><li class='xr-section-item'><input id='section-87476c6f-9ef5-498f-941d-2f0356596559' class='xr-section-summary-in' type='checkbox'  ><label for='section-87476c6f-9ef5-498f-941d-2f0356596559' class='xr-section-summary' >Indexes: <span>(3)</span></label><div class='xr-section-inline-details'></div><div class='xr-section-details'><ul class='xr-var-list'><li class='xr-var-item'><div class='xr-index-name'><div>latitude</div></div><div class='xr-index-preview'>PandasIndex</div><div></div><input id='index-81cf35d0-945a-4cc3-a125-32ac80b98bdb' class='xr-index-data-in' type='checkbox'/><label for='index-81cf35d0-945a-4cc3-a125-32ac80b98bdb' title='Show/Hide index repr'><svg class='icon xr-icon-database'><use xlink:href='#icon-database'></use></svg></label><div class='xr-index-data'><pre>PandasIndex(Index([-11.979169845581055,  -11.93750286102295,  -11.89583683013916,\n",
       "       -11.854169845581055,  -11.81250286102295,  -11.77083683013916,\n",
       "       -11.729169845581055,  -11.68750286102295,  -11.64583683013916,\n",
       "       -11.604169845581055,\n",
       "       ...\n",
       "        31.604164123535156,  31.645832061767578,  31.687498092651367,\n",
       "        31.729164123535156,  31.770832061767578,  31.812498092651367,\n",
       "        31.854164123535156,  31.895832061767578,  31.937498092651367,\n",
       "        31.979164123535156],\n",
       "      dtype=&#x27;float32&#x27;, name=&#x27;latitude&#x27;, length=1056))</pre></div></li><li class='xr-var-item'><div class='xr-index-name'><div>longitude</div></div><div class='xr-index-preview'>PandasIndex</div><div></div><input id='index-3de2c67d-fc15-4a53-84d1-f7710d3e264c' class='xr-index-data-in' type='checkbox'/><label for='index-3de2c67d-fc15-4a53-84d1-f7710d3e264c' title='Show/Hide index repr'><svg class='icon xr-icon-database'><use xlink:href='#icon-database'></use></svg></label><div class='xr-index-data'><pre>PandasIndex(Index([ 42.02083969116211,  42.06250762939453,  42.10417175292969,\n",
       "        42.14583969116211,  42.18750762939453,  42.22917175292969,\n",
       "        42.27083969116211,  42.31250762939453,  42.35417175292969,\n",
       "        42.39583969116211,\n",
       "       ...\n",
       "       101.60417175292969, 101.64584350585938, 101.68750762939453,\n",
       "       101.72917175292969, 101.77084350585938, 101.81250762939453,\n",
       "       101.85417175292969, 101.89584350585938, 101.93750762939453,\n",
       "       101.97917175292969],\n",
       "      dtype=&#x27;float32&#x27;, name=&#x27;longitude&#x27;, length=1440))</pre></div></li><li class='xr-var-item'><div class='xr-index-name'><div>time</div></div><div class='xr-index-preview'>PandasIndex</div><div></div><input id='index-39551884-c5a3-481a-a3f1-604e251f2229' class='xr-index-data-in' type='checkbox'/><label for='index-39551884-c5a3-481a-a3f1-604e251f2229' title='Show/Hide index repr'><svg class='icon xr-icon-database'><use xlink:href='#icon-database'></use></svg></label><div class='xr-index-data'><pre>PandasIndex(DatetimeIndex([&#x27;1997-10-01&#x27;, &#x27;1997-10-02&#x27;, &#x27;1997-10-03&#x27;, &#x27;1997-10-04&#x27;,\n",
       "               &#x27;1997-10-05&#x27;, &#x27;1997-10-06&#x27;, &#x27;1997-10-07&#x27;, &#x27;1997-10-08&#x27;,\n",
       "               &#x27;1997-10-09&#x27;, &#x27;1997-10-10&#x27;, &#x27;1997-10-11&#x27;, &#x27;1997-10-12&#x27;,\n",
       "               &#x27;1997-10-13&#x27;, &#x27;1997-10-14&#x27;, &#x27;1997-10-15&#x27;, &#x27;1997-10-16&#x27;,\n",
       "               &#x27;1997-10-17&#x27;, &#x27;1997-10-18&#x27;, &#x27;1997-10-19&#x27;, &#x27;1997-10-20&#x27;,\n",
       "               &#x27;1997-10-21&#x27;, &#x27;1997-10-22&#x27;, &#x27;1997-10-23&#x27;, &#x27;1997-10-24&#x27;,\n",
       "               &#x27;1997-10-25&#x27;, &#x27;1997-10-26&#x27;, &#x27;1997-10-27&#x27;, &#x27;1997-10-28&#x27;,\n",
       "               &#x27;1997-10-29&#x27;, &#x27;1997-10-30&#x27;, &#x27;1997-10-31&#x27;],\n",
       "              dtype=&#x27;datetime64[ns]&#x27;, name=&#x27;time&#x27;, freq=None))</pre></div></li></ul></div></li><li class='xr-section-item'><input id='section-0f29ad09-32f9-4ff1-9956-20f96c69f6f6' class='xr-section-summary-in' type='checkbox'  ><label for='section-0f29ad09-32f9-4ff1-9956-20f96c69f6f6' class='xr-section-summary' >Attributes: <span>(92)</span></label><div class='xr-section-inline-details'></div><div class='xr-section-details'><dl class='xr-attrs'><dt><span>Conventions :</span></dt><dd>CF-1.8, ACDD-1.3</dd><dt><span>DPM_reference :</span></dt><dd>GC-UD-ACRI-PUG</dd><dt><span>IODD_reference :</span></dt><dd>GC-UD-ACRI-PUG</dd><dt><span>acknowledgement :</span></dt><dd>The Licensees will ensure that original CMEMS products - or value added products or derivative works developed from CMEMS Products including publications and pictures - shall credit CMEMS by explicitly making mention of the originator (CMEMS) in the  following manner:  &lt;Generated using CMEMS Products, production centre ACRI-ST&gt;</dd><dt><span>citation :</span></dt><dd>The Licensees will ensure that original CMEMS products - or value added products or derivative works developed from CMEMS Products including publications and pictures - shall credit CMEMS by explicitly making mention of the originator (CMEMS) in the  following manner:  &lt;Generated using CMEMS Products, production centre ACRI-ST&gt;</dd><dt><span>cmems_product_id :</span></dt><dd>OCEANCOLOUR_GLO_BGC_L3_MY_009_103</dd><dt><span>cmems_production_unit :</span></dt><dd>OC-ACRI-NICE-FR</dd><dt><span>comment :</span></dt><dd>average</dd><dt><span>contact :</span></dt><dd>servicedesk.cmems@acri-st.fr</dd><dt><span>creation_date :</span></dt><dd>2024-04-25 UTC</dd><dt><span>creation_time :</span></dt><dd>00:47:33 UTC</dd><dt><span>creator_email :</span></dt><dd>servicedesk.cmems@acri-st.fr</dd><dt><span>creator_name :</span></dt><dd>ACRI</dd><dt><span>creator_url :</span></dt><dd>http://marine.copernicus.eu</dd><dt><span>date_created :</span></dt><dd>2024-04-25T00:47:33Z</dd><dt><span>distribution_statement :</span></dt><dd>See CMEMS Data License</dd><dt><span>duration_time :</span></dt><dd>PT107179S</dd><dt><span>earth_radius :</span></dt><dd>6378.137</dd><dt><span>easternmost_longitude :</span></dt><dd>180.0</dd><dt><span>easternmost_valid_longitude :</span></dt><dd>180.00001525878906</dd><dt><span>file_quality_index :</span></dt><dd>0</dd><dt><span>geospatial_bounds :</span></dt><dd>POLYGON ((90.000000 -180.000000, 90.000000 180.000000, -90.000000 180.000000, -90.000000 -180.000000, 90.000000 -180.000000))</dd><dt><span>geospatial_bounds_crs :</span></dt><dd>EPSG:4326</dd><dt><span>geospatial_bounds_vertical_crs :</span></dt><dd>EPSG:5829</dd><dt><span>geospatial_lat_max :</span></dt><dd>89.97916412353516</dd><dt><span>geospatial_lat_min :</span></dt><dd>-89.97917175292969</dd><dt><span>geospatial_lon_max :</span></dt><dd>179.9791717529297</dd><dt><span>geospatial_lon_min :</span></dt><dd>-179.9791717529297</dd><dt><span>geospatial_vertical_max :</span></dt><dd>0</dd><dt><span>geospatial_vertical_min :</span></dt><dd>0</dd><dt><span>geospatial_vertical_positive :</span></dt><dd>up</dd><dt><span>grid_mapping :</span></dt><dd>Equirectangular</dd><dt><span>grid_resolution :</span></dt><dd>4.638312339782715</dd><dt><span>history :</span></dt><dd>Created using software developed at ACRI-ST</dd><dt><span>id :</span></dt><dd>20240417_cmems_obs-oc_glo_bgc-plankton_myint_l3-multi-4km_P1D</dd><dt><span>institution :</span></dt><dd>ACRI</dd><dt><span>keywords :</span></dt><dd>EARTH SCIENCE &gt; OCEANS &gt; OCEAN CHEMISTRY &gt; CHLOROPHYLL, EARTH SCIENCE &gt; BIOLOGICAL CLASSIFICATION &gt; PROTISTS &gt; PLANKTON &gt; PHYTOPLANKTON</dd><dt><span>keywords_vocabulary :</span></dt><dd>NASA Global Change Master Directory (GCMD) Science Keywords</dd><dt><span>lat_step :</span></dt><dd>0.0416666679084301</dd><dt><span>license :</span></dt><dd>See CMEMS Data License</dd><dt><span>lon_step :</span></dt><dd>0.0416666679084301</dd><dt><span>naming_authority :</span></dt><dd>CMEMS</dd><dt><span>nb_bins :</span></dt><dd>37324800</dd><dt><span>nb_equ_bins :</span></dt><dd>8640</dd><dt><span>nb_grid_bins :</span></dt><dd>37324800</dd><dt><span>nb_valid_bins :</span></dt><dd>9704694</dd><dt><span>netcdf_version_id :</span></dt><dd>4.3.3.1 of Jul  8 2016 18:15:50 $</dd><dt><span>northernmost_latitude :</span></dt><dd>90.0</dd><dt><span>northernmost_valid_latitude :</span></dt><dd>82.70833587646484</dd><dt><span>overall_quality :</span></dt><dd>mode=myint</dd><dt><span>parameter :</span></dt><dd>Chlorophyll-a concentration,Phytoplankton Functional Types</dd><dt><span>parameter_code :</span></dt><dd>CHL,DIATO,DINO,HAPTO,GREEN,PROKAR,PROCHLO,MICRO,NANO,PICO</dd><dt><span>pct_bins :</span></dt><dd>100.0</dd><dt><span>pct_valid_bins :</span></dt><dd>26.000659079218106</dd><dt><span>period_duration_day :</span></dt><dd>P1D</dd><dt><span>period_end_day :</span></dt><dd>20240417</dd><dt><span>period_start_day :</span></dt><dd>20240417</dd><dt><span>platform :</span></dt><dd>Aqua,Suomi-NPP,Sentinel-3a,JPSS-1 (NOAA-20),Sentinel-3b</dd><dt><span>processing_level :</span></dt><dd>L3</dd><dt><span>product_level :</span></dt><dd>3</dd><dt><span>product_name :</span></dt><dd>20240417_cmems_obs-oc_glo_bgc-plankton_myint_l3-multi-4km_P1D</dd><dt><span>product_type :</span></dt><dd>day</dd><dt><span>project :</span></dt><dd>CMEMS</dd><dt><span>publication :</span></dt><dd>Gohin, F., Druon, J. N., Lampert, L. (2002). A five channel chlorophyll concentration algorithm applied to SeaWiFS data processed by SeaDAS in coastal waters. International journal of remote sensing, 23(8), 1639-1661 + Hu, C., Lee, Z., Franz, B. (2012). Chlorophyll a algorithms for oligotrophic oceans: A novel approach based on three-band reflectance difference. Journal of Geophysical Research, 117(C1). doi: 10.1029/2011jc007395 + Xi H, Losa S N, Mangin A, Garnesson P, Bretagnon M, Demaria J, Soppa M A, Hembise Fanton d Andon O, Bracher A (2021) Global chlorophyll a concentrations of phytoplankton functional types with detailed uncertainty assessment using multi-sensor ocean color and sea surface temperature satellite products, JGR, in review.</dd><dt><span>publisher_email :</span></dt><dd>servicedesk.cmems@mercator-ocean.eu</dd><dt><span>publisher_name :</span></dt><dd>CMEMS</dd><dt><span>publisher_url :</span></dt><dd>http://marine.copernicus.eu</dd><dt><span>references :</span></dt><dd>http://www.globcolour.info GlobColour has been originally funded by ESA with data from ESA, NASA, NOAA and GeoEye. This version has received funding from the European Community s Seventh Framework Programme ([FP7/2007-2013]) under grant agreement n. 282723 [OSS2015 project].</dd><dt><span>registration :</span></dt><dd>5</dd><dt><span>sensor :</span></dt><dd>Moderate Resolution Imaging Spectroradiometer,Visible Infrared Imaging Radiometer Suite,Ocean and Land Colour Instrument</dd><dt><span>sensor_name :</span></dt><dd>MODISA,VIIRSN,OLCIa,VIIRSJ1,OLCIb</dd><dt><span>sensor_name_list :</span></dt><dd>MOD,VIR,OLA,VJ1,OLB</dd><dt><span>site_name :</span></dt><dd>GLO</dd><dt><span>software_name :</span></dt><dd>globcolour_l3_reproject</dd><dt><span>software_version :</span></dt><dd>2022.2</dd><dt><span>source :</span></dt><dd>surface observation</dd><dt><span>southernmost_latitude :</span></dt><dd>-90.0</dd><dt><span>southernmost_valid_latitude :</span></dt><dd>-66.33333587646484</dd><dt><span>standard_name_vocabulary :</span></dt><dd>NetCDF Climate and Forecast (CF) Metadata Convention</dd><dt><span>start_date :</span></dt><dd>2024-04-16 UTC</dd><dt><span>start_time :</span></dt><dd>21:12:05 UTC</dd><dt><span>stop_date :</span></dt><dd>2024-04-18 UTC</dd><dt><span>stop_time :</span></dt><dd>02:58:23 UTC</dd><dt><span>summary :</span></dt><dd>CMEMS product: cmems_obs-oc_glo_bgc-plankton_my_l3-multi-4km_P1D,  generated by ACRI-ST</dd><dt><span>time_coverage_duration :</span></dt><dd>PT107179S</dd><dt><span>time_coverage_end :</span></dt><dd>2024-04-18T02:58:23Z</dd><dt><span>time_coverage_resolution :</span></dt><dd>P1D</dd><dt><span>time_coverage_start :</span></dt><dd>2024-04-16T21:12:05Z</dd><dt><span>title :</span></dt><dd>cmems_obs-oc_glo_bgc-plankton_my_l3-multi-4km_P1D</dd><dt><span>westernmost_longitude :</span></dt><dd>-180.0</dd><dt><span>westernmost_valid_longitude :</span></dt><dd>-180.0</dd><dt><span>copernicusmarine_version :</span></dt><dd>1.3.1</dd></dl></div></li></ul></div></div>"
      ],
      "text/plain": [
       "<xarray.Dataset> Size: 613MB\n",
       "Dimensions:          (time: 31, latitude: 1056, longitude: 1440)\n",
       "Coordinates:\n",
       "  * latitude         (latitude) float32 4kB -11.98 -11.94 -11.9 ... 31.94 31.98\n",
       "  * longitude        (longitude) float32 6kB 42.02 42.06 42.1 ... 101.9 102.0\n",
       "  * time             (time) datetime64[ns] 248B 1997-10-01 ... 1997-10-31\n",
       "Data variables:\n",
       "    CHL              (time, latitude, longitude) float32 189MB ...\n",
       "    CHL_uncertainty  (time, latitude, longitude) float64 377MB ...\n",
       "    flags            (time, latitude, longitude) int8 47MB ...\n",
       "Attributes: (12/92)\n",
       "    Conventions:                     CF-1.8, ACDD-1.3\n",
       "    DPM_reference:                   GC-UD-ACRI-PUG\n",
       "    IODD_reference:                  GC-UD-ACRI-PUG\n",
       "    acknowledgement:                 The Licensees will ensure that original ...\n",
       "    citation:                        The Licensees will ensure that original ...\n",
       "    cmems_product_id:                OCEANCOLOUR_GLO_BGC_L3_MY_009_103\n",
       "    ...                              ...\n",
       "    time_coverage_resolution:        P1D\n",
       "    time_coverage_start:             2024-04-16T21:12:05Z\n",
       "    title:                           cmems_obs-oc_glo_bgc-plankton_my_l3-mult...\n",
       "    westernmost_longitude:           -180.0\n",
       "    westernmost_valid_longitude:     -180.0\n",
       "    copernicusmarine_version:        1.3.1"
      ]
     },
     "execution_count": 11,
     "metadata": {},
     "output_type": "execute_result"
    }
   ],
   "source": [
    "ds = xr.open_dataset('~/shared/data/copernicus/cmems_obs-oc_glo_bgc-plankton_my_l3-multi-4km_P1D/199710.nc')\n",
    "ds"
   ]
  },
  {
   "cell_type": "markdown",
   "id": "46d71db4-2798-41dc-a238-fbd60113f839",
   "metadata": {},
   "source": [
    "**The cmems_obs-oc_glo_bgc-plankton_my_l4-multi-4km_P1M product has many variables (plankton spp) and each month would be 3.8 GB.** I will only download the same variables that are in the gapfree product."
   ]
  },
  {
   "cell_type": "markdown",
   "id": "599460a3-3df6-46be-8598-a8212ae5436a",
   "metadata": {},
   "source": [
    "The data will be processed in the `02-data-processing.ipynb` notebook."
   ]
  },
  {
   "cell_type": "markdown",
   "id": "a6c0b4ad-030a-47a1-b69f-330aa9d1efbf",
   "metadata": {
    "tags": []
   },
   "source": [
    "## Combine data"
   ]
  },
  {
   "cell_type": "markdown",
   "id": "3f5e8203-f58a-4fa0-977f-ff81cb3bf08a",
   "metadata": {},
   "source": [
    "## Download function"
   ]
  },
  {
   "cell_type": "code",
   "execution_count": 7,
   "id": "4f1eccff-927b-4246-b22f-8e39a4e1f224",
   "metadata": {},
   "outputs": [],
   "source": [
    "def download_copernicus(dataset, date_start, date_end,  vars=\"\", lat1=-12, lat2=32, lon1=42, lon2=102, path='/home/jovyan/shared/data/copernicus'):\n",
    "    \"\"\"\n",
    "    dataset: dataset_id, example cmems_obs-oc_glo_bgc-plankton_my_l4-gapfree-multi-4km_P1D\n",
    "    vars: copernicus variables to write, example ['CHL']\n",
    "    date_start: formatted as YYYY-MM-DD or numpy.datetime64(\n",
    "    date_end: formatted as YYYY-MM-DD (right-exclusive)\n",
    "    \"\"\"\n",
    "\n",
    "    path_folder = f'{path}/{dataset}'\n",
    "    if not os.path.exists(path_folder):\n",
    "        os.makedirs(path_folder)\n",
    "    sliced_data_filename = '{year}{month}.nc'\n",
    "\n",
    "    months = pd.date_range(date_start, date_end, freq=\"ME\")\n",
    "    for month in months:\n",
    "        yr=month.year\n",
    "        mon=\"{:02d}\".format(month.month)\n",
    "        start_date=f'{yr}-{mon}-01'\n",
    "     \n",
    "        export_file = sliced_data_filename.format(year = month.year, month = \"{:02d}\".format(month.month))\n",
    "\n",
    "        filpath=copernicusmarine.subset(\n",
    "           dataset_id = dataset,\n",
    "           variables = vars,\n",
    "           start_datetime = start_date,\n",
    "           end_datetime = month,\n",
    "           minimum_longitude = lon1,\n",
    "           maximum_longitude = lon2, \n",
    "           minimum_latitude = lat1,\n",
    "           maximum_latitude = lat2, \n",
    "           output_directory = path_folder,\n",
    "           output_filename = export_file,\n",
    "           force_download = True,\n",
    "           overwrite_output_data = True\n",
    "        )"
   ]
  },
  {
   "cell_type": "code",
   "execution_count": null,
   "id": "bb065ab8-cc96-4b81-8c2c-c01c057b031b",
   "metadata": {},
   "outputs": [],
   "source": []
  }
 ],
 "metadata": {
  "kernelspec": {
   "display_name": "Python 3 (ipykernel)",
   "language": "python",
   "name": "python3"
  },
  "language_info": {
   "codemirror_mode": {
    "name": "ipython",
    "version": 3
   },
   "file_extension": ".py",
   "mimetype": "text/x-python",
   "name": "python",
   "nbconvert_exporter": "python",
   "pygments_lexer": "ipython3",
   "version": "3.10.14"
  }
 },
 "nbformat": 4,
 "nbformat_minor": 5
}
