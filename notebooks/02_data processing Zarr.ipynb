{
 "cells": [
  {
   "cell_type": "raw",
   "id": "e3df4ff3-a844-4e95-9043-40477ca4e30b",
   "metadata": {},
   "source": [
    "---\n",
    "title: \"Process data into Zarr file\"\n",
    "author: Eli Holmes (NOAA) and Minh Phan (UW Varanasi intern)\n",
    "---"
   ]
  },
  {
   "cell_type": "markdown",
   "id": "752348fe-b8c4-4c52-8ecc-775beaab9ad2",
   "metadata": {},
   "source": [
    "The processing involves these basic steps.\n",
    "\n",
    "* download the raw file\n",
    "* load all the daily files\n",
    "* pad the dates since data if dates do not go back to 1979\n",
    "* trim the dates to the max in the zarr file\n",
    "* rename the data varibles if needed\n",
    "* interpolate (coarsen or adjust centers) to the 0.25 degree grid\n",
    "* change from float64 to float32\n",
    "* rechunk the time element\n",
    "* save to a zarr file"
   ]
  },
  {
   "cell_type": "code",
   "execution_count": 2,
   "id": "05430777-e8e1-4167-8ce3-eb147e6c0891",
   "metadata": {
    "tags": []
   },
   "outputs": [],
   "source": [
    "import numpy as np\n",
    "import pandas as pd\n",
    "import xarray as xr\n",
    "import matplotlib.pyplot as plt\n",
    "from datetime import datetime, timedelta"
   ]
  },
  {
   "cell_type": "markdown",
   "id": "12ccc738-c848-49f1-ab84-ed504ff8add9",
   "metadata": {},
   "source": [
    "## The grids and times"
   ]
  },
  {
   "cell_type": "code",
   "execution_count": 3,
   "id": "ec16dd48-5992-45e7-9096-5d0b6c64e1c1",
   "metadata": {},
   "outputs": [],
   "source": [
    "# The 0.25 degree grid\n",
    "zarr_grid=xr.open_dataset('../grid.nc')"
   ]
  },
  {
   "cell_type": "code",
   "execution_count": 3,
   "id": "73e1b4fe-0966-4da9-a487-c935fe094176",
   "metadata": {},
   "outputs": [],
   "source": [
    "# The time grid; there is probably a better way to do this\n",
    "zarr_time=xr.open_dataset(\"../time.nc\")\n",
    "date_start=str(zarr_time.time.min().values)[:10]\n",
    "date_end=str(zarr_time.time.max().values)[:10]"
   ]
  },
  {
   "cell_type": "raw",
   "id": "699af81c-1e30-4bfa-856d-77c68b2ded70",
   "metadata": {},
   "source": [
    "# This time grid is prepared as\n",
    "np.array([s.to_datetime64() for s in pd.date_range('1979/1/1', '2022/12/31', freq='1D')])\n",
    "import xarray as xr\n",
    "zarr_ds = xr.open_zarr(store=\"/home/jovyan/shared/data/INDIAN_OCEAN_025GRID_DAILY.zarr\", consolidated=True)  # get data\n",
    "zarr_time=zarr_ds['time']\n",
    "zarr_time.time.encoding['units'] = 'days since 1900-01-01'\n",
    "zarr_time.attrs['title']='UTC time at longitude 0 degrees'\n",
    "zarr_time.to_netcdf(\"../time.nc\")"
   ]
  },
  {
   "cell_type": "markdown",
   "id": "22f562c3-d0d1-4780-8315-a3542dc6523c",
   "metadata": {},
   "source": [
    "## The functions\n",
    "\n",
    "Are saved in this file."
   ]
  },
  {
   "cell_type": "code",
   "execution_count": 4,
   "id": "a9b85a89-5616-4260-9669-37553b8dc1d2",
   "metadata": {},
   "outputs": [],
   "source": [
    "# Load the functions\n",
    "%run -i \"~/indian-ocean-zarr/notebooks/functions.py\""
   ]
  },
  {
   "cell_type": "markdown",
   "id": "525de007-1647-410f-9772-a62f012ae2a5",
   "metadata": {},
   "source": [
    "## How to do the steps"
   ]
  },
  {
   "cell_type": "code",
   "execution_count": null,
   "id": "b1b7f91e-b063-4277-8e8d-2571de91c5c7",
   "metadata": {},
   "outputs": [],
   "source": [
    "# Open nc files\n",
    "ds = xr.open_dataset('/home/jovyan/shared/data/copernicus/chlorophyll-a/20240424.nc')\n",
    "# Open multiple files\n",
    "ds = xr.open_mfdataset('/home/jovyan/shared/data/copernicus/chlorophyll-a/*.nc')"
   ]
  },
  {
   "cell_type": "code",
   "execution_count": null,
   "id": "edb71e62-1800-48a2-b0a5-129a77fc3d99",
   "metadata": {},
   "outputs": [],
   "source": [
    "# Slice data\n",
    "ds = ds.sel(time=slice(date_start, date_end), lat=slice(lat1, lat2))"
   ]
  },
  {
   "cell_type": "code",
   "execution_count": null,
   "id": "55a54ada-7bb1-4d21-9287-05a4ab9933c2",
   "metadata": {},
   "outputs": [],
   "source": [
    "# Regrid and interpolate\n",
    "ds = ds.interp_like(zarr_grid)\n",
    "# to force the interpolation use compute()\n",
    "ds = ds.interp_like(zarr_grid).compute()"
   ]
  },
  {
   "cell_type": "code",
   "execution_count": null,
   "id": "0ddd6207-3546-4f96-9214-c59955645077",
   "metadata": {},
   "outputs": [],
   "source": [
    "# Rename variables\n",
    "ds = ds.rename({\"latitude\": \"lat\", \"longitude\": \"lon\"})"
   ]
  },
  {
   "cell_type": "code",
   "execution_count": 8,
   "id": "493d404b-6272-424b-87d0-6cb51d870287",
   "metadata": {},
   "outputs": [],
   "source": [
    "# Pad time back to start of the zarr time\n",
    "ds = ds.sel(time=slice(ds_date_start, zarr_date_end))\n",
    "timepad=pd.to_datetime(chloro1.time[0].values)-pd.to_datetime(zarr_time.time[0].values)\n",
    "chloro_interp = chloro_interp.pad(time=(timepad.days,0))\n",
    "chloro_interp['time']=zarr_time.time.values"
   ]
  },
  {
   "cell_type": "code",
   "execution_count": 9,
   "id": "aed78ee0-cabd-44ea-a762-2aa5ed3ff7d1",
   "metadata": {},
   "outputs": [],
   "source": [
    "# Fix vars to be float32 and chucks to be time 100 days\n",
    "# Function defined in functions.py\n",
    "chloro_interp = standardize_float64(chloro_interp)\n",
    "chloro_interp = standardize_chunk(chloro_interp)"
   ]
  },
  {
   "cell_type": "markdown",
   "id": "86a02454-8aa7-4cab-b1ec-53334c949525",
   "metadata": {},
   "source": [
    "## Save the files\n",
    "\n",
    "This can be very memory intensive. Saving intermediary files help. Using `dask.distributed` helps a lot."
   ]
  },
  {
   "cell_type": "code",
   "execution_count": 12,
   "id": "f42f571a-45db-43aa-a8d4-17f7a9666112",
   "metadata": {},
   "outputs": [],
   "source": [
    "from dask.distributed import Client;\n",
    "client=Client(n_workers=4);\n",
    "#client.close()"
   ]
  },
  {
   "cell_type": "code",
   "execution_count": 24,
   "id": "1a1445cd-b95f-495f-b768-67720c9e6c24",
   "metadata": {
    "tags": []
   },
   "outputs": [],
   "source": [
    "# Add full attributes to the variables\n",
    "# When the initial dataset has the full attributes\n",
    "for var in ds.data_vars:\n",
    "    ds[var].attrs.update(ds.attrs)"
   ]
  },
  {
   "cell_type": "code",
   "execution_count": 32,
   "id": "00371e4e-6a8f-4bd1-83a7-7ac09050c8fc",
   "metadata": {},
   "outputs": [
    {
     "data": {
      "text/plain": [
       "<xarray.backends.zarr.ZarrStore at 0x7fbc9e3910c0>"
      ]
     },
     "execution_count": 32,
     "metadata": {},
     "output_type": "execute_result"
    }
   ],
   "source": [
    "# Save data to zarr to preserve chunks\n",
    "ds.to_zarr('/home/jovyan/shared/data/finalized/chlorophyll.zarr')"
   ]
  },
  {
   "cell_type": "markdown",
   "id": "d8a87e59-9271-4cc4-a0a2-90ed7b17b706",
   "metadata": {},
   "source": [
    "### Append variables\n",
    "\n",
    "When you have an zarr file with the same lat, lon, time, you can append via `mode='a'`."
   ]
  },
  {
   "cell_type": "code",
   "execution_count": 37,
   "id": "39c2936f-8d39-47ed-a583-745584aafb71",
   "metadata": {},
   "outputs": [
    {
     "data": {
      "text/plain": [
       "<xarray.backends.zarr.ZarrStore at 0x7fbc7eca8a40>"
      ]
     },
     "execution_count": 37,
     "metadata": {},
     "output_type": "execute_result"
    }
   ],
   "source": [
    "ds2.to_zarr('/home/jovyan/shared/data/finalized/chlorophyll.zarr', mode='a')"
   ]
  },
  {
   "cell_type": "code",
   "execution_count": null,
   "id": "1cbd2a03-0bb9-4a97-9a31-8a4092f52cd3",
   "metadata": {
    "tags": []
   },
   "outputs": [],
   "source": [
    "topo = xr.open_dataarray('data/topography.nc')"
   ]
  },
  {
   "cell_type": "code",
   "execution_count": null,
   "id": "f6e27c4d-c10d-49d4-a3fc-7d29bb3b0570",
   "metadata": {
    "tags": []
   },
   "outputs": [],
   "source": [
    "grid = xr.open_dataarray('data/grid.nc')"
   ]
  },
  {
   "cell_type": "code",
   "execution_count": null,
   "id": "725cc59a-f08e-481b-829b-bfb6c8194a31",
   "metadata": {
    "tags": []
   },
   "outputs": [],
   "source": [
    "topo = topo.rename({'latitude': 'lat', 'longitude': 'lon'})"
   ]
  },
  {
   "cell_type": "code",
   "execution_count": null,
   "id": "746d294a-e0d3-485f-8fa5-fc0391fab3c7",
   "metadata": {
    "tags": []
   },
   "outputs": [],
   "source": [
    "topo_interp = topo.interp_like(grid)"
   ]
  },
  {
   "cell_type": "code",
   "execution_count": null,
   "id": "0cbd8129-3f43-414f-8e5a-2277d6772190",
   "metadata": {
    "tags": []
   },
   "outputs": [],
   "source": [
    "topo_interp.to_netcdf('shared/data/finalized/topography.nc')"
   ]
  },
  {
   "cell_type": "code",
   "execution_count": null,
   "id": "8c75cce8-c308-41dc-9c0d-ed36e65c85e2",
   "metadata": {
    "tags": []
   },
   "outputs": [],
   "source": [
    "topo_interp.plot.imshow()"
   ]
  },
  {
   "cell_type": "code",
   "execution_count": null,
   "id": "80dcd9e7-cd32-4845-ac87-203dfcaccd73",
   "metadata": {
    "tags": []
   },
   "outputs": [],
   "source": [
    "grid"
   ]
  }
 ],
 "metadata": {
  "kernelspec": {
   "display_name": "Python 3 (ipykernel)",
   "language": "python",
   "name": "python3"
  },
  "language_info": {
   "codemirror_mode": {
    "name": "ipython",
    "version": 3
   },
   "file_extension": ".py",
   "mimetype": "text/x-python",
   "name": "python",
   "nbconvert_exporter": "python",
   "pygments_lexer": "ipython3",
   "version": "3.10.14"
  }
 },
 "nbformat": 4,
 "nbformat_minor": 5
}
